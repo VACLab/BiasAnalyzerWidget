{
 "cells": [
  {
   "cell_type": "code",
   "id": "aeba7f16915c6789",
   "metadata": {},
   "source": [
    "import os\n",
    "import json\n",
    "from CohortWidget import *\n",
    "\n",
    "# DEFINE PATHS\n",
    "COHORT_CREATION_YAML_PATH = './yaml'\n",
    "TEST_DATA_PATH = \"./data\""
   ],
   "outputs": [],
   "execution_count": null
  },
  {
   "cell_type": "code",
   "id": "f80f74fdbafc3e56",
   "metadata": {
    "jupyter": {
     "is_executing": true
    }
   },
   "source": [
    "# LOAD TEST DATA\n",
    "\n",
    "# cohort data\n",
    "# with open(os.path.join(TEST_DATA_PATH,'study_cohort_data.json'), 'r') as file:\n",
    "#     study_cohort_data = json.load(file)\n",
    "# with open(os.path.join(TEST_DATA_PATH,'baseline_cohort_data.json'), 'r') as file:\n",
    "#     baseline_cohort_data = json.load(file)\n",
    "\n",
    "# concept stats\n",
    "with open(os.path.join(TEST_DATA_PATH,'study_concept_stats.json'), 'r') as file:\n",
    "    study_concept_stats = json.load(file)\n",
    "with open(os.path.join(TEST_DATA_PATH,'baseline_concept_stats.json'), 'r') as file:\n",
    "    baseline_concept_stats = json.load(file)\n",
    "\n",
    "# DEMOGRAPHICS\n",
    "# race stats\n",
    "with open(os.path.join(TEST_DATA_PATH,'study_race_stats.json'), 'r') as file:\n",
    "    study_race_stats = json.load(file)\n",
    "with open(os.path.join(TEST_DATA_PATH,'baseline_race_stats.json'), 'r') as file:\n",
    "    baseline_race_stats = json.load(file)\n",
    "\n",
    "# age distribution\n",
    "with open(os.path.join(TEST_DATA_PATH,'study_age_distr.json'), 'r') as file:\n",
    "    study_age_distr = json.load(file)\n",
    "with open(os.path.join(TEST_DATA_PATH,'baseline_age_distr.json'), 'r') as file:\n",
    "    baseline_age_distr = json.load(file)\n",
    "\n",
    "# age distribution\n",
    "with open(os.path.join(TEST_DATA_PATH,'study_gender_distr.json'), 'r') as file:\n",
    "    study_gender_distr = json.load(file)\n",
    "with open(os.path.join(TEST_DATA_PATH,'baseline_gender_distr.json'), 'r') as file:\n",
    "    baseline_gender_distr = json.load(file)\n",
    "\n",
    "\n",
    "# # check the data is ok\n",
    "# print('study_concept_stats:')\n",
    "# print(pd.DataFrame(study_concept_stats).head())\n",
    "print('baseline_concept_stats:')\n",
    "print(pd.DataFrame(baseline_concept_stats).head())\n",
    "\n",
    "# print('study_race_stats:')\n",
    "# print(study_race_stats)\n",
    "# print('baseline_race_stats:')\n",
    "# print(baseline_race_stats)\n",
    "\n",
    "# print('study_age_distr:')\n",
    "# print(study_age_distr)\n",
    "# print('baseline_age_distr:')\n",
    "# print(baseline_age_distr)\n",
    "\n",
    "# print('study_gender_distr:')\n",
    "# print(study_gender_distr)\n",
    "# print('baseline_gender_distr:')\n",
    "# print(baseline_gender_distr)"
   ],
   "outputs": [],
   "execution_count": null
  },
  {
   "cell_type": "code",
   "id": "7f7b929572136e26",
   "metadata": {
    "jupyter": {
     "is_executing": true
    }
   },
   "source": [
    "# CREATE AND RENDER STUDY COHORT WIDGET\n",
    "\n",
    "# pass json data as kwargs\n",
    "study_widget = CohortWidget(cohort1_name=\"study\", **{\n",
    "                    # study_cohort_data,\n",
    "                    \"concepts1\": study_concept_stats['condition_occurrence'],\n",
    "                    \"race_stats1\": study_race_stats,\n",
    "                    \"gender_dist1\": study_gender_distr,\n",
    "                    \"age_dist1\": study_age_distr,\n",
    "                })\n",
    "study_widget"
   ],
   "outputs": [],
   "execution_count": null
  },
  {
   "cell_type": "code",
   "id": "c655c0e9-7abe-4dd5-bd4c-b3853901277b",
   "metadata": {
    "jupyter": {
     "is_executing": true
    }
   },
   "source": [
    "# CREATE AND RENDER BASELINE COHORT WIDGET\n",
    "\n",
    "\n",
    "# pass json data as kwargs\n",
    "baseline_widget = CohortWidget(cohort1_name=\"study\", **{\n",
    "                    # baseline_cohort_data,\n",
    "                    \"concepts1\": baseline_concept_stats['condition_occurrence'],\n",
    "                    \"race_stats1\": baseline_race_stats,\n",
    "                    \"gender_dist1\": baseline_gender_distr,\n",
    "                    \"age_dist1\": baseline_age_distr\n",
    "                })\n",
    "baseline_widget"
   ],
   "outputs": [],
   "execution_count": null
  },
  {
   "cell_type": "code",
   "id": "cb163ba7-b979-4c8c-a58e-fa811d3bb1ea",
   "metadata": {
    "jupyter": {
     "is_executing": true
    }
   },
   "source": [
    "# CREATE AND RENDER COMPARISON WIDGET\n",
    "\n",
    "# pass json data as kwargs\n",
    "compare_widget = CohortWidget(cohort1_name=\"study\", cohort2_name=\"baseline\",\n",
    "    **{\n",
    "        # study_cohort_data,\n",
    "        \"concepts1\": study_concept_stats['condition_occurrence'],\n",
    "        \"race_stats1\": study_race_stats,\n",
    "        \"gender_dist1\": study_gender_distr,\n",
    "        \"age_dist1\": study_age_distr,\n",
    "        # baseline_cohort_data,\n",
    "        \"concepts2\": baseline_concept_stats['condition_occurrence'],\n",
    "        \"race_stats2\": baseline_race_stats,\n",
    "        \"gender_dist2\": baseline_gender_distr,\n",
    "        \"age_dist2\": baseline_age_distr\n",
    "    })\n",
    "compare_widget"
   ],
   "outputs": [],
   "execution_count": null
  },
  {
   "cell_type": "code",
   "id": "6d3a504bc2a60438",
   "metadata": {},
   "source": [],
   "outputs": [],
   "execution_count": null
  }
 ],
 "metadata": {
  "kernelspec": {
   "display_name": "biasanalyzer",
   "language": "python",
   "name": "biasanalyzer"
  },
  "language_info": {
   "codemirror_mode": {
    "name": "ipython",
    "version": 3
   },
   "file_extension": ".py",
   "mimetype": "text/x-python",
   "name": "python",
   "nbconvert_exporter": "python",
   "pygments_lexer": "ipython3",
   "version": "3.11.7"
  },
  "widgets": {
   "application/vnd.jupyter.widget-state+json": {
    "state": {
     "14efbf371984466980d7bc8e2bf614e2": {
      "model_module": "@jupyter-widgets/base",
      "model_module_version": "2.0.0",
      "model_name": "LayoutModel",
      "state": {}
     },
     "1cff2bec7f2f42c9bda28d6c8cf58a5b": {
      "model_module": "anywidget",
      "model_module_version": "~0.9.*",
      "model_name": "AnyModel",
      "state": {
       "_age_dist1": [
        {
         "category": "0-10",
         "probability": 0,
         "value": 0
        },
        {
         "category": "11-20",
         "probability": 0,
         "value": 0
        },
        {
         "category": "21-30",
         "probability": 0.0088,
         "value": 7
        },
        {
         "category": "31-40",
         "probability": 0.0376,
         "value": 30
        },
        {
         "category": "41-50",
         "probability": 0.0664,
         "value": 53
        },
        {
         "category": "51-60",
         "probability": 0.1642,
         "value": 131
        },
        {
         "category": "61-70",
         "probability": 0.193,
         "value": 154
        },
        {
         "category": "71-80",
         "probability": 0.2243,
         "value": 179
        },
        {
         "category": "81-90",
         "probability": 0.2055,
         "value": 164
        },
        {
         "category": "91+",
         "probability": 0.1003,
         "value": 80
        }
       ],
       "_age_dist2": [],
       "_anywidget_id": "CohortWidget.CohortWidget",
       "_cohort1_name": "study",
       "_cohort2_name": "baseline cohort",
       "_concepts1": [
        {
         "ancestor_concept_id": 4199402,
         "concept_code": "301857004",
         "concept_name": "Finding of body region",
         "count_in_cohort": 798,
         "descendant_concept_id": 4199402,
         "prevalence": 1
        },
        {
         "ancestor_concept_id": 4117930,
         "concept_code": "302292003",
         "concept_name": "Finding of trunk structure",
         "count_in_cohort": 798,
         "descendant_concept_id": 4117930,
         "prevalence": 1
        },
        {
         "ancestor_concept_id": 4028071,
         "concept_code": "128121009",
         "concept_name": "Disorder of trunk",
         "count_in_cohort": 798,
         "descendant_concept_id": 4028071,
         "prevalence": 1
        },
        {
         "ancestor_concept_id": 440142,
         "concept_code": "49483002",
         "concept_name": "Disorder of mediastinum",
         "count_in_cohort": 798,
         "descendant_concept_id": 440142,
         "prevalence": 1
        },
        {
         "ancestor_concept_id": 316139,
         "concept_code": "84114007",
         "concept_name": "Heart failure",
         "count_in_cohort": 798,
         "descendant_concept_id": 316139,
         "prevalence": 1
        },
        {
         "ancestor_concept_id": 43531056,
         "concept_code": "609622007",
         "concept_name": "Disorder of thoracic segment of trunk",
         "count_in_cohort": 798,
         "descendant_concept_id": 43531056,
         "prevalence": 1
        },
        {
         "ancestor_concept_id": 441840,
         "concept_code": "404684003",
         "concept_name": "Clinical finding",
         "count_in_cohort": 798,
         "descendant_concept_id": 441840,
         "prevalence": 1
        },
        {
         "ancestor_concept_id": 134057,
         "concept_code": "49601007",
         "concept_name": "Disorder of cardiovascular system",
         "count_in_cohort": 798,
         "descendant_concept_id": 134057,
         "prevalence": 1
        },
        {
         "ancestor_concept_id": 321588,
         "concept_code": "56265001",
         "concept_name": "Heart disease",
         "count_in_cohort": 798,
         "descendant_concept_id": 321588,
         "prevalence": 1
        },
        {
         "ancestor_concept_id": 4274025,
         "concept_code": "64572001",
         "concept_name": "Disease",
         "count_in_cohort": 798,
         "descendant_concept_id": 4274025,
         "prevalence": 1
        },
        {
         "ancestor_concept_id": 4185503,
         "concept_code": "298705000",
         "concept_name": "Finding of region of thorax",
         "count_in_cohort": 798,
         "descendant_concept_id": 4185503,
         "prevalence": 1
        },
        {
         "ancestor_concept_id": 4042140,
         "concept_code": "118234003",
         "concept_name": "Finding by site",
         "count_in_cohort": 798,
         "descendant_concept_id": 4042140,
         "prevalence": 1
        },
        {
         "ancestor_concept_id": 43531057,
         "concept_code": "609623002",
         "concept_name": "Finding of upper trunk",
         "count_in_cohort": 798,
         "descendant_concept_id": 43531057,
         "prevalence": 1
        },
        {
         "ancestor_concept_id": 4023995,
         "concept_code": "106063007",
         "concept_name": "Cardiovascular finding",
         "count_in_cohort": 798,
         "descendant_concept_id": 4023995,
         "prevalence": 1
        },
        {
         "ancestor_concept_id": 4180628,
         "concept_code": "362965005",
         "concept_name": "Disorder of body system",
         "count_in_cohort": 798,
         "descendant_concept_id": 4180628,
         "prevalence": 1
        },
        {
         "ancestor_concept_id": 4227253,
         "concept_code": "406123005",
         "concept_name": "Viscus structure finding",
         "count_in_cohort": 798,
         "descendant_concept_id": 4227253,
         "prevalence": 1
        },
        {
         "ancestor_concept_id": 4103183,
         "concept_code": "301095005",
         "concept_name": "Cardiac finding",
         "count_in_cohort": 798,
         "descendant_concept_id": 4103183,
         "prevalence": 1
        },
        {
         "ancestor_concept_id": 4024552,
         "concept_code": "105981003",
         "concept_name": "Disorder of cardiac function",
         "count_in_cohort": 798,
         "descendant_concept_id": 4024552,
         "prevalence": 1
        },
        {
         "ancestor_concept_id": 4043346,
         "concept_code": "118946009",
         "concept_name": "Disorder of thorax",
         "count_in_cohort": 798,
         "descendant_concept_id": 4043346,
         "prevalence": 1
        },
        {
         "ancestor_concept_id": 4115390,
         "concept_code": "301296002",
         "concept_name": "Mediastinal finding",
         "count_in_cohort": 798,
         "descendant_concept_id": 4115390,
         "prevalence": 1
        },
        {
         "ancestor_concept_id": 4047779,
         "concept_code": "123946008",
         "concept_name": "Disorder by body site",
         "count_in_cohort": 798,
         "descendant_concept_id": 4047779,
         "prevalence": 1
        },
        {
         "ancestor_concept_id": 443883,
         "concept_code": "2704003",
         "concept_name": "Acute disease",
         "count_in_cohort": 752,
         "descendant_concept_id": 443883,
         "prevalence": 0.9423558897243107
        },
        {
         "ancestor_concept_id": 320136,
         "concept_code": "50043002",
         "concept_name": "Disorder of respiratory system",
         "count_in_cohort": 697,
         "descendant_concept_id": 320136,
         "prevalence": 0.8734335839598998
        },
        {
         "ancestor_concept_id": 4024567,
         "concept_code": "106048009",
         "concept_name": "Respiratory finding",
         "count_in_cohort": 697,
         "descendant_concept_id": 4024567,
         "prevalence": 0.8734335839598998
        },
        {
         "ancestor_concept_id": 4006969,
         "concept_code": "111273006",
         "concept_name": "Acute respiratory disease",
         "count_in_cohort": 697,
         "descendant_concept_id": 4006969,
         "prevalence": 0.8734335839598998
        },
        {
         "ancestor_concept_id": 4199409,
         "concept_code": "301867009",
         "concept_name": "Edema of trunk",
         "count_in_cohort": 696,
         "descendant_concept_id": 4199409,
         "prevalence": 0.8721804511278195
        },
        {
         "ancestor_concept_id": 433595,
         "concept_code": "267038008",
         "concept_name": "Edema",
         "count_in_cohort": 696,
         "descendant_concept_id": 433595,
         "prevalence": 0.8721804511278195
        },
        {
         "ancestor_concept_id": 4041664,
         "concept_code": "230145002",
         "concept_name": "Difficulty breathing",
         "count_in_cohort": 696,
         "descendant_concept_id": 4041664,
         "prevalence": 0.8721804511278195
        },
        {
         "ancestor_concept_id": 432453,
         "concept_code": "365860008",
         "concept_name": "General clinical state finding",
         "count_in_cohort": 696,
         "descendant_concept_id": 432453,
         "prevalence": 0.8721804511278195
        },
        {
         "ancestor_concept_id": 4115260,
         "concept_code": "301230006",
         "concept_name": "Lung finding",
         "count_in_cohort": 696,
         "descendant_concept_id": 4115260,
         "prevalence": 0.8721804511278195
        },
        {
         "ancestor_concept_id": 4040388,
         "concept_code": "118654009",
         "concept_name": "Disorder characterized by edema",
         "count_in_cohort": 696,
         "descendant_concept_id": 4040388,
         "prevalence": 0.8721804511278195
        },
        {
         "ancestor_concept_id": 4027553,
         "concept_code": "128272009",
         "concept_name": "Disorder of lower respiratory system",
         "count_in_cohort": 696,
         "descendant_concept_id": 4027553,
         "prevalence": 0.8721804511278195
        },
        {
         "ancestor_concept_id": 4115259,
         "concept_code": "301226008",
         "concept_name": "Lower respiratory tract finding",
         "count_in_cohort": 696,
         "descendant_concept_id": 4115259,
         "prevalence": 0.8721804511278195
        },
        {
         "ancestor_concept_id": 4078925,
         "concept_code": "19242006",
         "concept_name": "Pulmonary edema",
         "count_in_cohort": 696,
         "descendant_concept_id": 4078925,
         "prevalence": 0.8721804511278195
        },
        {
         "ancestor_concept_id": 257907,
         "concept_code": "19829001",
         "concept_name": "Disorder of lung",
         "count_in_cohort": 696,
         "descendant_concept_id": 257907,
         "prevalence": 0.8721804511278195
        },
        {
         "ancestor_concept_id": 4239819,
         "concept_code": "69328002",
         "concept_name": "Distress",
         "count_in_cohort": 696,
         "descendant_concept_id": 4239819,
         "prevalence": 0.8721804511278195
        },
        {
         "ancestor_concept_id": 253549,
         "concept_code": "105969002",
         "concept_name": "Disorder of connective tissue",
         "count_in_cohort": 696,
         "descendant_concept_id": 253549,
         "prevalence": 0.8721804511278195
        },
        {
         "ancestor_concept_id": 4180645,
         "concept_code": "363044007",
         "concept_name": "Connective tissue disorder by body site",
         "count_in_cohort": 696,
         "descendant_concept_id": 4180645,
         "prevalence": 0.8721804511278195
        },
        {
         "ancestor_concept_id": 4271505,
         "concept_code": "366139009",
         "concept_name": "Ease of respiration - finding",
         "count_in_cohort": 696,
         "descendant_concept_id": 4271505,
         "prevalence": 0.8721804511278195
        },
        {
         "ancestor_concept_id": 4195694,
         "concept_code": "67782005",
         "concept_name": "Acute respiratory distress syndrome",
         "count_in_cohort": 696,
         "descendant_concept_id": 4195694,
         "prevalence": 0.8721804511278195
        },
        {
         "ancestor_concept_id": 4158346,
         "concept_code": "271825005",
         "concept_name": "Respiratory distress",
         "count_in_cohort": 696,
         "descendant_concept_id": 4158346,
         "prevalence": 0.8721804511278195
        },
        {
         "ancestor_concept_id": 4115386,
         "concept_code": "301282008",
         "concept_name": "Finding of respiration",
         "count_in_cohort": 696,
         "descendant_concept_id": 4115386,
         "prevalence": 0.8721804511278195
        },
        {
         "ancestor_concept_id": 4119786,
         "concept_code": "233703007",
         "concept_name": "Interstitial lung disease",
         "count_in_cohort": 696,
         "descendant_concept_id": 4119786,
         "prevalence": 0.8721804511278195
        },
        {
         "ancestor_concept_id": 43530815,
         "concept_code": "609336008",
         "concept_name": "Traumatic injury by site",
         "count_in_cohort": 587,
         "descendant_concept_id": 43530815,
         "prevalence": 0.7355889724310777
        },
        {
         "ancestor_concept_id": 440921,
         "concept_code": "417746004",
         "concept_name": "Traumatic injury",
         "count_in_cohort": 587,
         "descendant_concept_id": 440921,
         "prevalence": 0.7355889724310777
        },
        {
         "ancestor_concept_id": 193631,
         "concept_code": "105612003",
         "concept_name": "Injury of internal organ",
         "count_in_cohort": 587,
         "descendant_concept_id": 193631,
         "prevalence": 0.7355889724310777
        },
        {
         "ancestor_concept_id": 194526,
         "concept_code": "48125009",
         "concept_name": "Injury of trunk",
         "count_in_cohort": 587,
         "descendant_concept_id": 194526,
         "prevalence": 0.7355889724310777
        },
        {
         "ancestor_concept_id": 432795,
         "concept_code": "417163006",
         "concept_name": "Traumatic AND/OR non-traumatic injury",
         "count_in_cohort": 587,
         "descendant_concept_id": 432795,
         "prevalence": 0.7355889724310777
        },
        {
         "ancestor_concept_id": 43530877,
         "concept_code": "609411003",
         "concept_name": "Traumatic and/or non-traumatic injury of anatomical site",
         "count_in_cohort": 587,
         "descendant_concept_id": 43530877,
         "prevalence": 0.7355889724310777
        },
        {
         "ancestor_concept_id": 432250,
         "concept_code": "40733004",
         "concept_name": "Disorder due to infection",
         "count_in_cohort": 568,
         "descendant_concept_id": 432250,
         "prevalence": 0.7117794486215538
        },
        {
         "ancestor_concept_id": 201965,
         "concept_code": "27942005",
         "concept_name": "Shock",
         "count_in_cohort": 520,
         "descendant_concept_id": 201965,
         "prevalence": 0.6516290726817042
        },
        {
         "ancestor_concept_id": 196236,
         "concept_code": "76571007",
         "concept_name": "Septic shock",
         "count_in_cohort": 520,
         "descendant_concept_id": 196236,
         "prevalence": 0.6516290726817042
        },
        {
         "ancestor_concept_id": 4271450,
         "concept_code": "63171007",
         "concept_name": "Acute infectious disease",
         "count_in_cohort": 520,
         "descendant_concept_id": 4271450,
         "prevalence": 0.6516290726817042
        },
        {
         "ancestor_concept_id": 4311280,
         "concept_code": "86175003",
         "concept_name": "Injury of heart",
         "count_in_cohort": 399,
         "descendant_concept_id": 4311280,
         "prevalence": 0.5
        },
        {
         "ancestor_concept_id": 4027255,
         "concept_code": "128599005",
         "concept_name": "Structural disorder of heart",
         "count_in_cohort": 399,
         "descendant_concept_id": 4027255,
         "prevalence": 0.5
        },
        {
         "ancestor_concept_id": 37116489,
         "concept_code": "733217006",
         "concept_name": "Injury of intrathoracic organ",
         "count_in_cohort": 399,
         "descendant_concept_id": 37116489,
         "prevalence": 0.5
        },
        {
         "ancestor_concept_id": 74786,
         "concept_code": "27817002",
         "concept_name": "Internal injury of chest",
         "count_in_cohort": 399,
         "descendant_concept_id": 74786,
         "prevalence": 0.5
        },
        {
         "ancestor_concept_id": 4152156,
         "concept_code": "282728007",
         "concept_name": "Cardiovascular injury",
         "count_in_cohort": 399,
         "descendant_concept_id": 4152156,
         "prevalence": 0.5
        },
        {
         "ancestor_concept_id": 4094683,
         "concept_code": "262525000",
         "concept_name": "Chest injury",
         "count_in_cohort": 399,
         "descendant_concept_id": 4094683,
         "prevalence": 0.5
        },
        {
         "ancestor_concept_id": 4179872,
         "concept_code": "362970003",
         "concept_name": "Disorder of hemostatic system",
         "count_in_cohort": 388,
         "descendant_concept_id": 4179872,
         "prevalence": 0.48621553884711777
        },
        {
         "ancestor_concept_id": 432585,
         "concept_code": "64779008",
         "concept_name": "Blood coagulation disorder",
         "count_in_cohort": 388,
         "descendant_concept_id": 432585,
         "prevalence": 0.48621553884711777
        },
        {
         "ancestor_concept_id": 4120613,
         "concept_code": "234466008",
         "concept_name": "Acquired coagulation disorder",
         "count_in_cohort": 388,
         "descendant_concept_id": 4120613,
         "prevalence": 0.48621553884711777
        },
        {
         "ancestor_concept_id": 43531058,
         "concept_code": "609624008",
         "concept_name": "Finding of abdomen",
         "count_in_cohort": 386,
         "descendant_concept_id": 43531058,
         "prevalence": 0.48370927318295737
        },
        {
         "ancestor_concept_id": 37311678,
         "concept_code": "822987005",
         "concept_name": "Finding of abdominopelvic segment of trunk",
         "count_in_cohort": 386,
         "descendant_concept_id": 37311678,
         "prevalence": 0.48370927318295737
        },
        {
         "ancestor_concept_id": 444089,
         "concept_code": "118948005",
         "concept_name": "Disorder of abdomen",
         "count_in_cohort": 386,
         "descendant_concept_id": 444089,
         "prevalence": 0.48370927318295737
        },
        {
         "ancestor_concept_id": 37311677,
         "concept_code": "822988000",
         "concept_name": "Disorder of abdominopelvic segment of trunk",
         "count_in_cohort": 386,
         "descendant_concept_id": 37311677,
         "prevalence": 0.48370927318295737
        },
        {
         "ancestor_concept_id": 4096864,
         "concept_code": "249561001",
         "concept_name": "Abdominal organ finding",
         "count_in_cohort": 386,
         "descendant_concept_id": 4096864,
         "prevalence": 0.48370927318295737
        },
        {
         "ancestor_concept_id": 4171379,
         "concept_code": "42030000",
         "concept_name": "Disorder of the genitourinary system",
         "count_in_cohort": 385,
         "descendant_concept_id": 4171379,
         "prevalence": 0.4824561403508772
        },
        {
         "ancestor_concept_id": 4169252,
         "concept_code": "49011004",
         "concept_name": "Internal injury of abdominal organ",
         "count_in_cohort": 385,
         "descendant_concept_id": 4169252,
         "prevalence": 0.4824561403508772
        },
        {
         "ancestor_concept_id": 37116613,
         "concept_code": "733386005",
         "concept_name": "Injury of urinary organ",
         "count_in_cohort": 385,
         "descendant_concept_id": 37116613,
         "prevalence": 0.4824561403508772
        },
        {
         "ancestor_concept_id": 200588,
         "concept_code": "128069005",
         "concept_name": "Injury of abdomen",
         "count_in_cohort": 385,
         "descendant_concept_id": 200588,
         "prevalence": 0.4824561403508772
        },
        {
         "ancestor_concept_id": 4091056,
         "concept_code": "249578005",
         "concept_name": "Kidney finding",
         "count_in_cohort": 385,
         "descendant_concept_id": 4091056,
         "prevalence": 0.4824561403508772
        },
        {
         "ancestor_concept_id": 40483287,
         "concept_code": "443820000",
         "concept_name": "Disorder of kidney and/or ureter",
         "count_in_cohort": 385,
         "descendant_concept_id": 40483287,
         "prevalence": 0.4824561403508772
        },
        {
         "ancestor_concept_id": 198124,
         "concept_code": "90708001",
         "concept_name": "Kidney disease",
         "count_in_cohort": 385,
         "descendant_concept_id": 198124,
         "prevalence": 0.4824561403508772
        },
        {
         "ancestor_concept_id": 37116972,
         "concept_code": "734045002",
         "concept_name": "Disorder of retroperitoneum",
         "count_in_cohort": 385,
         "descendant_concept_id": 37116972,
         "prevalence": 0.4824561403508772
        },
        {
         "ancestor_concept_id": 4024000,
         "concept_code": "106098005",
         "concept_name": "Urinary system finding",
         "count_in_cohort": 385,
         "descendant_concept_id": 4024000,
         "prevalence": 0.4824561403508772
        },
        {
         "ancestor_concept_id": 4220631,
         "concept_code": "40095003",
         "concept_name": "Injury of kidney",
         "count_in_cohort": 385,
         "descendant_concept_id": 4220631,
         "prevalence": 0.4824561403508772
        },
        {
         "ancestor_concept_id": 4155499,
         "concept_code": "283879004",
         "concept_name": "Urogenital injury",
         "count_in_cohort": 385,
         "descendant_concept_id": 4155499,
         "prevalence": 0.4824561403508772
        },
        {
         "ancestor_concept_id": 45769862,
         "concept_code": "79131000119100",
         "concept_name": "Kidney lesion",
         "count_in_cohort": 385,
         "descendant_concept_id": 45769862,
         "prevalence": 0.4824561403508772
        },
        {
         "ancestor_concept_id": 4041285,
         "concept_code": "118238000",
         "concept_name": "Urogenital finding",
         "count_in_cohort": 385,
         "descendant_concept_id": 4041285,
         "prevalence": 0.4824561403508772
        },
        {
         "ancestor_concept_id": 75865,
         "concept_code": "128606002",
         "concept_name": "Disorder of the urinary system",
         "count_in_cohort": 385,
         "descendant_concept_id": 75865,
         "prevalence": 0.4824561403508772
        },
        {
         "ancestor_concept_id": 4093991,
         "concept_code": "248402002",
         "concept_name": "General finding of soft tissue",
         "count_in_cohort": 172,
         "descendant_concept_id": 4093991,
         "prevalence": 0.21553884711779447
        },
        {
         "ancestor_concept_id": 4028367,
         "concept_code": "128487001",
         "concept_name": "Acute disease of cardiovascular system",
         "count_in_cohort": 172,
         "descendant_concept_id": 4028367,
         "prevalence": 0.21553884711779447
        },
        {
         "ancestor_concept_id": 443784,
         "concept_code": "27550009",
         "concept_name": "Vascular disorder",
         "count_in_cohort": 172,
         "descendant_concept_id": 443784,
         "prevalence": 0.21553884711779447
        },
        {
         "ancestor_concept_id": 4344497,
         "concept_code": "239953001",
         "concept_name": "Soft tissue lesion",
         "count_in_cohort": 172,
         "descendant_concept_id": 4344497,
         "prevalence": 0.21553884711779447
        },
        {
         "ancestor_concept_id": 376208,
         "concept_code": "19660004",
         "concept_name": "Disorder of soft tissue",
         "count_in_cohort": 172,
         "descendant_concept_id": 376208,
         "prevalence": 0.21553884711779447
        },
        {
         "ancestor_concept_id": 4071689,
         "concept_code": "21829004",
         "concept_name": "Blood vessel finding",
         "count_in_cohort": 172,
         "descendant_concept_id": 4071689,
         "prevalence": 0.21553884711779447
        },
        {
         "ancestor_concept_id": 432545,
         "concept_code": "87628006",
         "concept_name": "Bacterial infectious disease",
         "count_in_cohort": 137,
         "descendant_concept_id": 432545,
         "prevalence": 0.17167919799498746
        },
        {
         "ancestor_concept_id": 4234997,
         "concept_code": "90507008",
         "concept_name": "Disorder of vein",
         "count_in_cohort": 89,
         "descendant_concept_id": 4234997,
         "prevalence": 0.11152882205513784
        },
        {
         "ancestor_concept_id": 4208466,
         "concept_code": "439129009",
         "concept_name": "Thrombosis of blood vessel",
         "count_in_cohort": 89,
         "descendant_concept_id": 4208466,
         "prevalence": 0.11152882205513784
        },
        {
         "ancestor_concept_id": 4095634,
         "concept_code": "248727005",
         "concept_name": "Venous finding",
         "count_in_cohort": 89,
         "descendant_concept_id": 4095634,
         "prevalence": 0.11152882205513784
        },
        {
         "ancestor_concept_id": 44782746,
         "concept_code": "132281000119108",
         "concept_name": "Acute deep venous thrombosis",
         "count_in_cohort": 89,
         "descendant_concept_id": 44782746,
         "prevalence": 0.11152882205513784
        },
        {
         "ancestor_concept_id": 444247,
         "concept_code": "111293003",
         "concept_name": "Venous thrombosis",
         "count_in_cohort": 89,
         "descendant_concept_id": 444247,
         "prevalence": 0.11152882205513784
        },
        {
         "ancestor_concept_id": 4231363,
         "concept_code": "439127006",
         "concept_name": "Thrombosis",
         "count_in_cohort": 89,
         "descendant_concept_id": 4231363,
         "prevalence": 0.11152882205513784
        },
        {
         "ancestor_concept_id": 4133004,
         "concept_code": "128053003",
         "concept_name": "Deep venous thrombosis",
         "count_in_cohort": 89,
         "descendant_concept_id": 4133004,
         "prevalence": 0.11152882205513784
        },
        {
         "ancestor_concept_id": 4190192,
         "concept_code": "373434004",
         "concept_name": "Disorder of blood vessels of thorax",
         "count_in_cohort": 83,
         "descendant_concept_id": 4190192,
         "prevalence": 0.10401002506265664
        },
        {
         "ancestor_concept_id": 4108173,
         "concept_code": "251039005",
         "concept_name": "Pulmonary artery finding",
         "count_in_cohort": 83,
         "descendant_concept_id": 4108173,
         "prevalence": 0.10401002506265664
        },
        {
         "ancestor_concept_id": 312339,
         "concept_code": "54687002",
         "concept_name": "Arterial embolism",
         "count_in_cohort": 83,
         "descendant_concept_id": 312339,
         "prevalence": 0.10401002506265664
        },
        {
         "ancestor_concept_id": 45768439,
         "concept_code": "706870000",
         "concept_name": "Acute pulmonary embolism",
         "count_in_cohort": 83,
         "descendant_concept_id": 45768439,
         "prevalence": 0.10401002506265664
        },
        {
         "ancestor_concept_id": 4185607,
         "concept_code": "414086009",
         "concept_name": "Embolism",
         "count_in_cohort": 83,
         "descendant_concept_id": 4185607,
         "prevalence": 0.10401002506265664
        },
        {
         "ancestor_concept_id": 440417,
         "concept_code": "59282003",
         "concept_name": "Pulmonary embolism",
         "count_in_cohort": 83,
         "descendant_concept_id": 440417,
         "prevalence": 0.10401002506265664
        },
        {
         "ancestor_concept_id": 4095631,
         "concept_code": "248718009",
         "concept_name": "Arterial finding",
         "count_in_cohort": 83,
         "descendant_concept_id": 4095631,
         "prevalence": 0.10401002506265664
        },
        {
         "ancestor_concept_id": 321887,
         "concept_code": "359557001",
         "concept_name": "Disorder of artery",
         "count_in_cohort": 83,
         "descendant_concept_id": 321887,
         "prevalence": 0.10401002506265664
        },
        {
         "ancestor_concept_id": 4194610,
         "concept_code": "312593004",
         "concept_name": "Trunk arterial embolus",
         "count_in_cohort": 83,
         "descendant_concept_id": 4194610,
         "prevalence": 0.10401002506265664
        },
        {
         "ancestor_concept_id": 433208,
         "concept_code": "39785005",
         "concept_name": "Disorder of pulmonary circulation",
         "count_in_cohort": 83,
         "descendant_concept_id": 433208,
         "prevalence": 0.10401002506265664
        },
        {
         "ancestor_concept_id": 4302537,
         "concept_code": "386617003",
         "concept_name": "Digestive system finding",
         "count_in_cohort": 3,
         "descendant_concept_id": 4302537,
         "prevalence": 0.0037593984962406013
        },
        {
         "ancestor_concept_id": 4309188,
         "concept_code": "84410009",
         "concept_name": "Disorder of digestive tract",
         "count_in_cohort": 3,
         "descendant_concept_id": 4309188,
         "prevalence": 0.0037593984962406013
        },
        {
         "ancestor_concept_id": 4297887,
         "concept_code": "76712006",
         "concept_name": "Disorder of digestive organ",
         "count_in_cohort": 3,
         "descendant_concept_id": 4297887,
         "prevalence": 0.0037593984962406013
        },
        {
         "ancestor_concept_id": 4201745,
         "concept_code": "53619000",
         "concept_name": "Disorder of digestive system",
         "count_in_cohort": 3,
         "descendant_concept_id": 4201745,
         "prevalence": 0.0037593984962406013
        },
        {
         "ancestor_concept_id": 440029,
         "concept_code": "34014006",
         "concept_name": "Viral disease",
         "count_in_cohort": 2,
         "descendant_concept_id": 440029,
         "prevalence": 0.002506265664160401
        },
        {
         "ancestor_concept_id": 4085100,
         "concept_code": "281794004",
         "concept_name": "Viral upper respiratory tract infection",
         "count_in_cohort": 2,
         "descendant_concept_id": 4085100,
         "prevalence": 0.002506265664160401
        },
        {
         "ancestor_concept_id": 4038678,
         "concept_code": "118436003",
         "concept_name": "Finding of large intestine",
         "count_in_cohort": 2,
         "descendant_concept_id": 4038678,
         "prevalence": 0.002506265664160401
        },
        {
         "ancestor_concept_id": 4180170,
         "concept_code": "363180009",
         "concept_name": "Inflammatory disorder of the respiratory tract",
         "count_in_cohort": 2,
         "descendant_concept_id": 4180170,
         "prevalence": 0.002506265664160401
        },
        {
         "ancestor_concept_id": 4304916,
         "concept_code": "386618008",
         "concept_name": "Gastrointestinal tract finding",
         "count_in_cohort": 2,
         "descendant_concept_id": 4304916,
         "prevalence": 0.002506265664160401
        },
        {
         "ancestor_concept_id": 4170143,
         "concept_code": "275498002",
         "concept_name": "Respiratory tract infection",
         "count_in_cohort": 2,
         "descendant_concept_id": 4170143,
         "prevalence": 0.002506265664160401
        },
        {
         "ancestor_concept_id": 4178545,
         "concept_code": "297268004",
         "concept_name": "Ear, nose and throat finding",
         "count_in_cohort": 2,
         "descendant_concept_id": 4178545,
         "prevalence": 0.002506265664160401
        },
        {
         "ancestor_concept_id": 4000610,
         "concept_code": "119292006",
         "concept_name": "Disorder of gastrointestinal tract",
         "count_in_cohort": 2,
         "descendant_concept_id": 4000610,
         "prevalence": 0.002506265664160401
        },
        {
         "ancestor_concept_id": 4002905,
         "concept_code": "119523007",
         "concept_name": "Disorder of large intestine",
         "count_in_cohort": 2,
         "descendant_concept_id": 4002905,
         "prevalence": 0.002506265664160401
        },
        {
         "ancestor_concept_id": 4162282,
         "concept_code": "373405005",
         "concept_name": "Inflammatory disorder of the respiratory system",
         "count_in_cohort": 2,
         "descendant_concept_id": 4162282,
         "prevalence": 0.002506265664160401
        },
        {
         "ancestor_concept_id": 4115106,
         "concept_code": "300855001",
         "concept_name": "Mass of digestive structure",
         "count_in_cohort": 2,
         "descendant_concept_id": 4115106,
         "prevalence": 0.002506265664160401
        },
        {
         "ancestor_concept_id": 4027384,
         "concept_code": "128139000",
         "concept_name": "Inflammatory disorder",
         "count_in_cohort": 2,
         "descendant_concept_id": 4027384,
         "prevalence": 0.002506265664160401
        },
        {
         "ancestor_concept_id": 4193169,
         "concept_code": "312133006",
         "concept_name": "Viral respiratory infection",
         "count_in_cohort": 2,
         "descendant_concept_id": 4193169,
         "prevalence": 0.002506265664160401
        },
        {
         "ancestor_concept_id": 4091532,
         "concept_code": "249562008",
         "concept_name": "Bowel finding",
         "count_in_cohort": 2,
         "descendant_concept_id": 4091532,
         "prevalence": 0.002506265664160401
        },
        {
         "ancestor_concept_id": 4102111,
         "concept_code": "300848003",
         "concept_name": "Mass of body structure",
         "count_in_cohort": 2,
         "descendant_concept_id": 4102111,
         "prevalence": 0.002506265664160401
        },
        {
         "ancestor_concept_id": 201618,
         "concept_code": "85919009",
         "concept_name": "Disorder of intestine",
         "count_in_cohort": 2,
         "descendant_concept_id": 201618,
         "prevalence": 0.002506265664160401
        },
        {
         "ancestor_concept_id": 4206591,
         "concept_code": "309524007",
         "concept_name": "Mass of trunk",
         "count_in_cohort": 2,
         "descendant_concept_id": 4206591,
         "prevalence": 0.002506265664160401
        },
        {
         "ancestor_concept_id": 4178818,
         "concept_code": "363171009",
         "concept_name": "Inflammation of specific body systems",
         "count_in_cohort": 2,
         "descendant_concept_id": 4178818,
         "prevalence": 0.002506265664160401
        },
        {
         "ancestor_concept_id": 4197094,
         "concept_code": "79787007",
         "concept_name": "Disorder of lower gastrointestinal tract",
         "count_in_cohort": 2,
         "descendant_concept_id": 4197094,
         "prevalence": 0.002506265664160401
        },
        {
         "ancestor_concept_id": 192438,
         "concept_code": "271860004",
         "concept_name": "Abdominal mass",
         "count_in_cohort": 2,
         "descendant_concept_id": 192438,
         "prevalence": 0.002506265664160401
        },
        {
         "ancestor_concept_id": 4200532,
         "concept_code": "301810000",
         "concept_name": "Infection by site",
         "count_in_cohort": 2,
         "descendant_concept_id": 4200532,
         "prevalence": 0.002506265664160401
        },
        {
         "ancestor_concept_id": 254068,
         "concept_code": "201060008",
         "concept_name": "Disorder of upper respiratory system",
         "count_in_cohort": 2,
         "descendant_concept_id": 254068,
         "prevalence": 0.002506265664160401
        },
        {
         "ancestor_concept_id": 4339468,
         "concept_code": "232208008",
         "concept_name": "Ear, nose and throat disorder",
         "count_in_cohort": 2,
         "descendant_concept_id": 4339468,
         "prevalence": 0.002506265664160401
        },
        {
         "ancestor_concept_id": 4113999,
         "concept_code": "300862005",
         "concept_name": "Mass of body region",
         "count_in_cohort": 2,
         "descendant_concept_id": 4113999,
         "prevalence": 0.002506265664160401
        },
        {
         "ancestor_concept_id": 255919,
         "concept_code": "118254002",
         "concept_name": "Finding of head and neck region",
         "count_in_cohort": 2,
         "descendant_concept_id": 255919,
         "prevalence": 0.002506265664160401
        },
        {
         "ancestor_concept_id": 4043671,
         "concept_code": "129134004",
         "concept_name": "Inflammatory disorder of upper respiratory tract",
         "count_in_cohort": 2,
         "descendant_concept_id": 4043671,
         "prevalence": 0.002506265664160401
        },
        {
         "ancestor_concept_id": 4180169,
         "concept_code": "363170005",
         "concept_name": "Inflammation of specific body structures or tissue",
         "count_in_cohort": 2,
         "descendant_concept_id": 4180169,
         "prevalence": 0.002506265664160401
        },
        {
         "ancestor_concept_id": 4181583,
         "concept_code": "54150009",
         "concept_name": "Upper respiratory infection",
         "count_in_cohort": 2,
         "descendant_concept_id": 4181583,
         "prevalence": 0.002506265664160401
        },
        {
         "ancestor_concept_id": 4103320,
         "concept_code": "301186004",
         "concept_name": "Upper respiratory tract finding",
         "count_in_cohort": 2,
         "descendant_concept_id": 4103320,
         "prevalence": 0.002506265664160401
        },
        {
         "ancestor_concept_id": 4207186,
         "concept_code": "312130009",
         "concept_name": "Viral infection by site",
         "count_in_cohort": 2,
         "descendant_concept_id": 4207186,
         "prevalence": 0.002506265664160401
        },
        {
         "ancestor_concept_id": 4193990,
         "concept_code": "312158001",
         "concept_name": "Infection of digestive system",
         "count_in_cohort": 1,
         "descendant_concept_id": 4193990,
         "prevalence": 0.0012531328320802004
        },
        {
         "ancestor_concept_id": 4193875,
         "concept_code": "312131008",
         "concept_name": "Viral infection of the digestive tract",
         "count_in_cohort": 1,
         "descendant_concept_id": 4193875,
         "prevalence": 0.0012531328320802004
        },
        {
         "ancestor_concept_id": 4181187,
         "concept_code": "363176004",
         "concept_name": "Inflammatory disorder of head",
         "count_in_cohort": 1,
         "descendant_concept_id": 4181187,
         "prevalence": 0.0012531328320802004
        },
        {
         "ancestor_concept_id": 443392,
         "concept_code": "363346000",
         "concept_name": "Malignant neoplastic disease",
         "count_in_cohort": 1,
         "descendant_concept_id": 443392,
         "prevalence": 0.0012531328320802004
        },
        {
         "ancestor_concept_id": 79069,
         "concept_code": "5964004",
         "concept_name": "Disorder of rectum",
         "count_in_cohort": 1,
         "descendant_concept_id": 79069,
         "prevalence": 0.0012531328320802004
        },
        {
         "ancestor_concept_id": 31057,
         "concept_code": "75860007",
         "concept_name": "Disorder of pharynx",
         "count_in_cohort": 1,
         "descendant_concept_id": 31057,
         "prevalence": 0.0012531328320802004
        },
        {
         "ancestor_concept_id": 4087647,
         "concept_code": "248523006",
         "concept_name": "Rectal mass",
         "count_in_cohort": 1,
         "descendant_concept_id": 4087647,
         "prevalence": 0.0012531328320802004
        },
        {
         "ancestor_concept_id": 4112343,
         "concept_code": "195662009",
         "concept_name": "Acute viral pharyngitis",
         "count_in_cohort": 1,
         "descendant_concept_id": 4112343,
         "prevalence": 0.0012531328320802004
        },
        {
         "ancestor_concept_id": 4339410,
         "concept_code": "88230002",
         "concept_name": "Disorder of skeletal system",
         "count_in_cohort": 1,
         "descendant_concept_id": 4339410,
         "prevalence": 0.0012531328320802004
        },
        {
         "ancestor_concept_id": 443568,
         "concept_code": "428905002",
         "concept_name": "Malignant neoplasm of gastrointestinal tract",
         "count_in_cohort": 1,
         "descendant_concept_id": 443568,
         "prevalence": 0.0012531328320802004
        },
        {
         "ancestor_concept_id": 40481087,
         "concept_code": "444814009",
         "concept_name": "Viral sinusitis",
         "count_in_cohort": 1,
         "descendant_concept_id": 40481087,
         "prevalence": 0.0012531328320802004
        },
        {
         "ancestor_concept_id": 45763613,
         "concept_code": "67401000119103",
         "concept_name": "Colonic lesion",
         "count_in_cohort": 1,
         "descendant_concept_id": 45763613,
         "prevalence": 0.0012531328320802004
        },
        {
         "ancestor_concept_id": 4042505,
         "concept_code": "118953000",
         "concept_name": "Bone finding",
         "count_in_cohort": 1,
         "descendant_concept_id": 4042505,
         "prevalence": 0.0012531328320802004
        },
        {
         "ancestor_concept_id": 443398,
         "concept_code": "363508008",
         "concept_name": "Malignant tumor of intestine",
         "count_in_cohort": 1,
         "descendant_concept_id": 443398,
         "prevalence": 0.0012531328320802004
        },
        {
         "ancestor_concept_id": 25297,
         "concept_code": "363746003",
         "concept_name": "Acute pharyngitis",
         "count_in_cohort": 1,
         "descendant_concept_id": 25297,
         "prevalence": 0.0012531328320802004
        },
        {
         "ancestor_concept_id": 4247371,
         "concept_code": "406122000",
         "concept_name": "Head finding",
         "count_in_cohort": 1,
         "descendant_concept_id": 4247371,
         "prevalence": 0.0012531328320802004
        },
        {
         "ancestor_concept_id": 4252853,
         "concept_code": "409631000",
         "concept_name": "Acute viral disease",
         "count_in_cohort": 1,
         "descendant_concept_id": 4252853,
         "prevalence": 0.0012531328320802004
        },
        {
         "ancestor_concept_id": 4216644,
         "concept_code": "39772007",
         "concept_name": "Rectal polyp",
         "count_in_cohort": 1,
         "descendant_concept_id": 4216644,
         "prevalence": 0.0012531328320802004
        },
        {
         "ancestor_concept_id": 440059,
         "concept_code": "58184002",
         "concept_name": "Recurrent disease",
         "count_in_cohort": 1,
         "descendant_concept_id": 440059,
         "prevalence": 0.0012531328320802004
        },
        {
         "ancestor_concept_id": 4111798,
         "concept_code": "254532005",
         "concept_name": "Neoplasm of digestive organ",
         "count_in_cohort": 1,
         "descendant_concept_id": 4111798,
         "prevalence": 0.0012531328320802004
        },
        {
         "ancestor_concept_id": 4042836,
         "concept_code": "118934005",
         "concept_name": "Disorder of head",
         "count_in_cohort": 1,
         "descendant_concept_id": 4042836,
         "prevalence": 0.0012531328320802004
        },
        {
         "ancestor_concept_id": 4054503,
         "concept_code": "126643005",
         "concept_name": "Neoplasm of intra-abdominal organs",
         "count_in_cohort": 1,
         "descendant_concept_id": 4054503,
         "prevalence": 0.0012531328320802004
        },
        {
         "ancestor_concept_id": 4134294,
         "concept_code": "128482007",
         "concept_name": "Acute inflammatory disease",
         "count_in_cohort": 1,
         "descendant_concept_id": 4134294,
         "prevalence": 0.0012531328320802004
        },
        {
         "ancestor_concept_id": 257011,
         "concept_code": "54398005",
         "concept_name": "Acute upper respiratory infection",
         "count_in_cohort": 1,
         "descendant_concept_id": 257011,
         "prevalence": 0.0012531328320802004
        },
        {
         "ancestor_concept_id": 438112,
         "concept_code": "55342001",
         "concept_name": "Neoplastic disease",
         "count_in_cohort": 1,
         "descendant_concept_id": 438112,
         "prevalence": 0.0012531328320802004
        },
        {
         "ancestor_concept_id": 4193318,
         "concept_code": "312422001",
         "concept_name": "Infective pharyngitis",
         "count_in_cohort": 1,
         "descendant_concept_id": 4193318,
         "prevalence": 0.0012531328320802004
        },
        {
         "ancestor_concept_id": 4266186,
         "concept_code": "399981008",
         "concept_name": "Neoplasm and/or hamartoma",
         "count_in_cohort": 1,
         "descendant_concept_id": 4266186,
         "prevalence": 0.0012531328320802004
        },
        {
         "ancestor_concept_id": 80502,
         "concept_code": "64859006",
         "concept_name": "Osteoporosis",
         "count_in_cohort": 1,
         "descendant_concept_id": 80502,
         "prevalence": 0.0012531328320802004
        },
        {
         "ancestor_concept_id": 4091363,
         "concept_code": "249376008",
         "concept_name": "Mouth and/or pharynx finding",
         "count_in_cohort": 1,
         "descendant_concept_id": 4091363,
         "prevalence": 0.0012531328320802004
        },
        {
         "ancestor_concept_id": 4112731,
         "concept_code": "254588001",
         "concept_name": "Polyp of intestine",
         "count_in_cohort": 1,
         "descendant_concept_id": 4112731,
         "prevalence": 0.0012531328320802004
        },
        {
         "ancestor_concept_id": 4180790,
         "concept_code": "363406005",
         "concept_name": "Malignant tumor of colon",
         "count_in_cohort": 1,
         "descendant_concept_id": 4180790,
         "prevalence": 0.0012531328320802004
        },
        {
         "ancestor_concept_id": 4283893,
         "concept_code": "36971009",
         "concept_name": "Sinusitis",
         "count_in_cohort": 1,
         "descendant_concept_id": 4283893,
         "prevalence": 0.0012531328320802004
        },
        {
         "ancestor_concept_id": 4190185,
         "concept_code": "373407002",
         "concept_name": "Inflammatory disorder of digestive system",
         "count_in_cohort": 1,
         "descendant_concept_id": 4190185,
         "prevalence": 0.0012531328320802004
        },
        {
         "ancestor_concept_id": 4164337,
         "concept_code": "399505005",
         "concept_name": "Polyp of large intestine",
         "count_in_cohort": 1,
         "descendant_concept_id": 4164337,
         "prevalence": 0.0012531328320802004
        },
        {
         "ancestor_concept_id": 4143250,
         "concept_code": "425711007",
         "concept_name": "Mass of colon",
         "count_in_cohort": 1,
         "descendant_concept_id": 4143250,
         "prevalence": 0.0012531328320802004
        },
        {
         "ancestor_concept_id": 4198525,
         "concept_code": "50410009",
         "concept_name": "Disorder of upper digestive tract",
         "count_in_cohort": 1,
         "descendant_concept_id": 4198525,
         "prevalence": 0.0012531328320802004
        },
        {
         "ancestor_concept_id": 4158326,
         "concept_code": "271745005",
         "concept_name": "Facial sinus finding",
         "count_in_cohort": 1,
         "descendant_concept_id": 4158326,
         "prevalence": 0.0012531328320802004
        },
        {
         "ancestor_concept_id": 4103995,
         "concept_code": "300312006",
         "concept_name": "Lesion of rectum",
         "count_in_cohort": 1,
         "descendant_concept_id": 4103995,
         "prevalence": 0.0012531328320802004
        },
        {
         "ancestor_concept_id": 4244662,
         "concept_code": "928000",
         "concept_name": "Disorder of musculoskeletal system",
         "count_in_cohort": 1,
         "descendant_concept_id": 4244662,
         "prevalence": 0.0012531328320802004
        },
        {
         "ancestor_concept_id": 4209223,
         "concept_code": "441456002",
         "concept_name": "Polyp",
         "count_in_cohort": 1,
         "descendant_concept_id": 4209223,
         "prevalence": 0.0012531328320802004
        },
        {
         "ancestor_concept_id": 43531054,
         "concept_code": "609620004",
         "concept_name": "Disorder of pelvis",
         "count_in_cohort": 1,
         "descendant_concept_id": 43531054,
         "prevalence": 0.0012531328320802004
        },
        {
         "ancestor_concept_id": 43531053,
         "concept_code": "609619005",
         "concept_name": "Disorder of pelvic region of trunk",
         "count_in_cohort": 1,
         "descendant_concept_id": 43531053,
         "prevalence": 0.0012531328320802004
        },
        {
         "ancestor_concept_id": 36683531,
         "concept_code": "781382000",
         "concept_name": "Malignant neoplasm of colon and/or rectum",
         "count_in_cohort": 1,
         "descendant_concept_id": 36683531,
         "prevalence": 0.0012531328320802004
        },
        {
         "ancestor_concept_id": 4133974,
         "concept_code": "128050000",
         "concept_name": "Neoplasm of abdomen",
         "count_in_cohort": 1,
         "descendant_concept_id": 4133974,
         "prevalence": 0.0012531328320802004
        },
        {
         "ancestor_concept_id": 197506,
         "concept_code": "188366002",
         "concept_name": "Malignant neoplasm of abdomen",
         "count_in_cohort": 1,
         "descendant_concept_id": 197506,
         "prevalence": 0.0012531328320802004
        },
        {
         "ancestor_concept_id": 4112341,
         "concept_code": "195647007",
         "concept_name": "Acute respiratory infections",
         "count_in_cohort": 1,
         "descendant_concept_id": 4112341,
         "prevalence": 0.0012531328320802004
        },
        {
         "ancestor_concept_id": 43531059,
         "concept_code": "609625009",
         "concept_name": "Finding of pelvic region of trunk",
         "count_in_cohort": 1,
         "descendant_concept_id": 43531059,
         "prevalence": 0.0012531328320802004
        },
        {
         "ancestor_concept_id": 37017023,
         "concept_code": "713197008",
         "concept_name": "Recurrent rectal polyp",
         "count_in_cohort": 1,
         "descendant_concept_id": 37017023,
         "prevalence": 0.0012531328320802004
        },
        {
         "ancestor_concept_id": 4028253,
         "concept_code": "128348002",
         "concept_name": "Neoplasm of digestive system",
         "count_in_cohort": 1,
         "descendant_concept_id": 4028253,
         "prevalence": 0.0012531328320802004
        },
        {
         "ancestor_concept_id": 4035987,
         "concept_code": "1532007",
         "concept_name": "Viral pharyngitis",
         "count_in_cohort": 1,
         "descendant_concept_id": 4035987,
         "prevalence": 0.0012531328320802004
        },
        {
         "ancestor_concept_id": 4176944,
         "concept_code": "363166002",
         "concept_name": "Infective disorder of head",
         "count_in_cohort": 1,
         "descendant_concept_id": 4176944,
         "prevalence": 0.0012531328320802004
        },
        {
         "ancestor_concept_id": 4181063,
         "concept_code": "363169009",
         "concept_name": "Inflammation of specific body organs",
         "count_in_cohort": 1,
         "descendant_concept_id": 4181063,
         "prevalence": 0.0012531328320802004
        },
        {
         "ancestor_concept_id": 443396,
         "concept_code": "363510005",
         "concept_name": "Malignant tumor of large intestine",
         "count_in_cohort": 1,
         "descendant_concept_id": 443396,
         "prevalence": 0.0012531328320802004
        },
        {
         "ancestor_concept_id": 75909,
         "concept_code": "76069003",
         "concept_name": "Disorder of bone",
         "count_in_cohort": 1,
         "descendant_concept_id": 75909,
         "prevalence": 0.0012531328320802004
        },
        {
         "ancestor_concept_id": 40491001,
         "concept_code": "448675008",
         "concept_name": "Malignant neoplasm of digestive system",
         "count_in_cohort": 1,
         "descendant_concept_id": 40491001,
         "prevalence": 0.0012531328320802004
        },
        {
         "ancestor_concept_id": 4130373,
         "concept_code": "126768004",
         "concept_name": "Neoplasm of gastrointestinal tract",
         "count_in_cohort": 1,
         "descendant_concept_id": 4130373,
         "prevalence": 0.0012531328320802004
        },
        {
         "ancestor_concept_id": 4131598,
         "concept_code": "126769007",
         "concept_name": "Neoplasm of intestinal tract",
         "count_in_cohort": 1,
         "descendant_concept_id": 4131598,
         "prevalence": 0.0012531328320802004
        },
        {
         "ancestor_concept_id": 256440,
         "concept_code": "7393007",
         "concept_name": "Disorder of nasal sinus",
         "count_in_cohort": 1,
         "descendant_concept_id": 256440,
         "prevalence": 0.0012531328320802004
        },
        {
         "ancestor_concept_id": 4096976,
         "concept_code": "249597005",
         "concept_name": "Rectum finding",
         "count_in_cohort": 1,
         "descendant_concept_id": 4096976,
         "prevalence": 0.0012531328320802004
        },
        {
         "ancestor_concept_id": 443783,
         "concept_code": "27624003",
         "concept_name": "Chronic disease",
         "count_in_cohort": 1,
         "descendant_concept_id": 443783,
         "prevalence": 0.0012531328320802004
        },
        {
         "ancestor_concept_id": 40492037,
         "concept_code": "448882009",
         "concept_name": "Malignant neoplasm of intraabdominal organ",
         "count_in_cohort": 1,
         "descendant_concept_id": 40492037,
         "prevalence": 0.0012531328320802004
        },
        {
         "ancestor_concept_id": 43531060,
         "concept_code": "609626005",
         "concept_name": "Finding of pelvis",
         "count_in_cohort": 1,
         "descendant_concept_id": 43531060,
         "prevalence": 0.0012531328320802004
        },
        {
         "ancestor_concept_id": 4134593,
         "concept_code": "128284006",
         "concept_name": "Chronic digestive system disorder",
         "count_in_cohort": 1,
         "descendant_concept_id": 4134593,
         "prevalence": 0.0012531328320802004
        },
        {
         "ancestor_concept_id": 196931,
         "concept_code": "128415001",
         "concept_name": "Neoplasm of digestive tract",
         "count_in_cohort": 1,
         "descendant_concept_id": 196931,
         "prevalence": 0.0012531328320802004
        },
        {
         "ancestor_concept_id": 4054501,
         "concept_code": "126637008",
         "concept_name": "Neoplasm of trunk",
         "count_in_cohort": 1,
         "descendant_concept_id": 4054501,
         "prevalence": 0.0012531328320802004
        },
        {
         "ancestor_concept_id": 4130514,
         "concept_code": "126837005",
         "concept_name": "Neoplasm of large intestine",
         "count_in_cohort": 1,
         "descendant_concept_id": 4130514,
         "prevalence": 0.0012531328320802004
        },
        {
         "ancestor_concept_id": 4130995,
         "concept_code": "126838000",
         "concept_name": "Neoplasm of colon",
         "count_in_cohort": 1,
         "descendant_concept_id": 4130995,
         "prevalence": 0.0012531328320802004
        },
        {
         "ancestor_concept_id": 4134887,
         "concept_code": "128398001",
         "concept_name": "Infectious disease of digestive tract",
         "count_in_cohort": 1,
         "descendant_concept_id": 4134887,
         "prevalence": 0.0012531328320802004
        },
        {
         "ancestor_concept_id": 4027880,
         "concept_code": "128524007",
         "concept_name": "Disorder of colon",
         "count_in_cohort": 1,
         "descendant_concept_id": 4027880,
         "prevalence": 0.0012531328320802004
        },
        {
         "ancestor_concept_id": 4182161,
         "concept_code": "298364001",
         "concept_name": "Finding of head region",
         "count_in_cohort": 1,
         "descendant_concept_id": 4182161,
         "prevalence": 0.0012531328320802004
        },
        {
         "ancestor_concept_id": 4132555,
         "concept_code": "127331007",
         "concept_name": "Neoplasm by body site",
         "count_in_cohort": 1,
         "descendant_concept_id": 4132555,
         "prevalence": 0.0012531328320802004
        },
        {
         "ancestor_concept_id": 4043371,
         "concept_code": "128999004",
         "concept_name": "Inflammatory disorder of digestive tract",
         "count_in_cohort": 1,
         "descendant_concept_id": 4043371,
         "prevalence": 0.0012531328320802004
        },
        {
         "ancestor_concept_id": 4226263,
         "concept_code": "405737000",
         "concept_name": "Pharyngitis",
         "count_in_cohort": 1,
         "descendant_concept_id": 4226263,
         "prevalence": 0.0012531328320802004
        },
        {
         "ancestor_concept_id": 4145825,
         "concept_code": "426867001",
         "concept_name": "Anorectal disorder",
         "count_in_cohort": 1,
         "descendant_concept_id": 4145825,
         "prevalence": 0.0012531328320802004
        },
        {
         "ancestor_concept_id": 201131,
         "concept_code": "74285003",
         "concept_name": "Pelvic mass",
         "count_in_cohort": 1,
         "descendant_concept_id": 201131,
         "prevalence": 0.0012531328320802004
        },
        {
         "ancestor_concept_id": 4116238,
         "concept_code": "255077007",
         "concept_name": "Malignant tumor of digestive organ",
         "count_in_cohort": 1,
         "descendant_concept_id": 4116238,
         "prevalence": 0.0012531328320802004
        },
        {
         "ancestor_concept_id": 4101219,
         "concept_code": "300310003",
         "concept_name": "Finding of colon",
         "count_in_cohort": 1,
         "descendant_concept_id": 4101219,
         "prevalence": 0.0012531328320802004
        },
        {
         "ancestor_concept_id": 135930,
         "concept_code": "106028002",
         "concept_name": "Musculoskeletal finding",
         "count_in_cohort": 1,
         "descendant_concept_id": 135930,
         "prevalence": 0.0012531328320802004
        },
        {
         "ancestor_concept_id": 4022571,
         "concept_code": "116338005",
         "concept_name": "Pharyngeal finding",
         "count_in_cohort": 1,
         "descendant_concept_id": 4022571,
         "prevalence": 0.0012531328320802004
        },
        {
         "ancestor_concept_id": 4132552,
         "concept_code": "127321000",
         "concept_name": "Acute digestive system disorder",
         "count_in_cohort": 1,
         "descendant_concept_id": 4132552,
         "prevalence": 0.0012531328320802004
        }
       ],
       "_concepts2": [],
       "_css": "/* PAGE LAYOUT */\n\n.vis-container {\n    /*display: flex;*/\n    /*flex-direction: column;*/\n    align-items: center;\n    width: 100%;\n    /*height: 432px; !* match concepts-row height *!*/\n    overflow: visible; /* hide outer vertical scrollbar */\n}\n\n.row-container {\n    display: flex;\n    justify-content: space-around;\n    width: 100%;\n    height: auto;\n    overflow: hidden;\n    /*margin-bottom: 5px;*/\n}\n\n.col-container {\n    flex: 1;\n    margin: 5px;\n    border: 1px solid black;\n    width: 100%;\n}\n\n/* BAR CHART */\n\n/* overall barchart size */\n.barchart{\n    font-family: sans-serif;\n    font-size: 12px;\n    width: 100%;  /* allows resize to fit the page*/\n    height: auto;\n}\n\n/* BAR CHART STYLES */\n\n/* bars */\n.bar1 {\n    fill: steelblue;\n}\n.bar2 {\n    fill: orange;\n}\n/* axis labels */\n.axis-label {\n    font-family: sans-serif;\n    font-size: 14px;\n}\n/* lines and tick marks */\n.axis path,\n.axis line {\n    fill: none;\n    stroke: black;\n    shape-rendering: crispEdges;\n}\n/* axis text */\n.axis text {\n    font-family: sans-serif;\n    font-size: 14px;\n}\n\n/* CONCEPTS TABLE */\n\n.concepts-row {\n    width: 100%;\n    height: 100%; /* fill vis-container height */\n}\n\n.div-concepts-table-body {\n    margin-top: 0;\n    overflow-y: auto;\n    overflow-x: auto;\n    background-color: #f9f9f9;\n}\n\n.table-body-wrapper {\n    overflow: auto;\n    max-height: 370px; /* header height removed */\n}\n\n.full-width {\n    width: 100%;\n}",
       "_esm": "import * as d3 from 'https://esm.sh/d3@7';\n\n// function initialize({ model }) {\n//     // Set up shared state or event handlers.\n//     return () => {\n//       // Optional: Called when the widget is destroyed.\n//     }\n// } // end initialize\n\nfunction render({ model, el }) {\n    // for testing\n    // alert('hello');\n\n    // DISPATCHERS\n\n    // for handling the concepts table\n    let conceptsTableDispatcher = d3.dispatch('filter','sort');\n\n\n    // <editor-fold desc=\"---------- UTILITY FUNCTIONS ----------\"\n\n    // clears an element\n    function clearElement(element) {\n        element.selectAll('*').remove();\n    }\n\n    // converts timestamp to formatted date 'YYYY-MM-DD'\n    function getIsoDateString(timestamp) {\n        let aDate = new Date(timestamp);\n        return aDate.toISOString().split('T')[0];\n    }\n\n    function isEmptyString(str) {\n        return typeof str === 'string' && str.trim().length === 0;\n    }\n\n    // converts keys to readable words by:\n    // 1. replacing the underscore with a space, and\n    // 2. capitalizing the first letter of each word\n    function makeKeysWords (keys, series1_name, series2_name) {\n        // console.log('keys', keys);\n\n        for (let i = 0; i < keys.length; i++) {\n            keys[i] = keys[i].replace(\"cohort1\", series1_name);\n            keys[i] = keys[i].replace(\"cohort2\", series2_name);\n        }\n\n        return keys.map(key => {\n            return key.split('_')\n                .map(part => part.charAt(0).toUpperCase() + part.slice(1))\n                .join(' ');\n        });\n    }\n\n    // function reduce_transform(data) {\n    //     // validate that data is a non-empty array\n    //     if (!Array.isArray(data) || data.length === 0) {\n    //         throw new Error(\"data must be a non-empty array\");\n    //     }\n    //\n    //     // validate that data contains valid objects\n    //     if (!data[0] || typeof data[0] !== 'object') {\n    //         throw new Error(\"data must contain valid objects\");\n    //     }\n    //\n    //     return Object.keys(data[0]).reduce((acc, key) => {\n    //         acc[key] = data.map(d => d[key]);\n    //         return acc;\n    //     }, {});\n    // }\n\n    // </editor-fold>\n\n    // <editor-fold desc=\"---------- DEFINE DATA ----------\">\n\n    var concepts1 = model.get('_concepts1');\n    var race_stats1 = model.get('_race_stats1');\n    var gender_dist1 = model.get('_gender_dist1');\n    var age_dist1 = model.get('_age_dist1');\n    var cohort1_name = model.get('_cohort1_name');\n\n    var concepts2 = model.get('_concepts2');\n    var race_stats2 = model.get('_race_stats2');\n    var gender_dist2 = model.get('_gender_dist2');\n    var age_dist2 = model.get('_age_dist2');\n    var cohort2_name = model.get('_cohort2_name');\n\n    // </editor-fold>\n\n    // <editor-fold desc=\"---------- VISUAL CONTROL FUNCTIONS ----------\">\n\n    /*\n* draws a search box\n* Parameters:\n*   containerId: type: string - prepended id of container where the control is to be rendered.\n*   dispatch: d3.dispatch instance - user input event handler\n*   label: type: string - label for the control\n*   width: type: string - the width of the input box in pixels\n*   data: type: list of objects - each object should have the keys display (string),\n*                                        and data (anything needed to handle the selection\n*   handleSearch: type: function - callback\n* Return:\n*   div: DOM div element containing input box\n*/\n    function SearchBox(dispatch, label='Search', width=300) {\n        let div = d3.create(\"xhtml:div\")\n            .attr(\"xmlns\", \"http://www.w3.org/1999/xhtml\")\n            .style(\"padding\", \"10px\");\n\n        let input = div.append('input')\n            .attr('type', 'text')\n            .attr('placeholder', label);\n\n        input.on('input', function (event) {\n            dispatch.call('filter', this, event.target.value);  // dispatch filter event\n        });\n\n        return div;\n    }\n\n    // </editor-fold>\n\n    // <editor-fold desc=\"---------- VERTICAL BAR CHART FUNCTIONS ----------\">\n\n    // all parameters are optional at the function signature level, but we are validating within the function\n    function VerticalBarChart(\n        series1,\n        {\n            series2 = { data: null, name: \"cohort 2\" },\n            dimensions: {\n                xlabel = \"\",\n                ylabel = \"\",\n                title = \"\",\n                width = 600,\n                height = 400,\n                margin = { top: 40, right: 10, bottom: 60, left: 80 },\n                padding = 0.1\n            } = {}\n        } = {}\n    ){\n        // validate series1\n        // if (!series1.data) {\n        //     throw new Error(\"VerticalBarChart requires series1.data.\");\n        // }\n        //\n        // // Validate that series1.data is a non-empty array\n        // if (!Array.isArray(series1.data) || series1.data.length === 0) {\n        //     throw new Error(\"series1.data must be a non-empty array\");\n        // }\n\n        let svg = d3.create('svg')\n            .attr('class', 'barchart')\n            .attr('width', width)\n            .attr('height', height)\n            .attr('viewBox', `0 0 ${width} ${height}`)\n            .attr('preserveAspectRatio', 'xMidYMid meet');\n\n        // Combine data for scales\n        const combinedData = series2.data ? series1.data.concat(series2.data) : series1.data;\n\n        // Set up scales\n        const xScale = d3.scaleBand(series1.data.map(d => d.category),\n            [margin.left, width - margin.right])\n            .padding(padding);\n\n        const yScale = d3.scaleLinear([0, d3.max(combinedData, d => d.value)],\n            [height - margin.bottom, margin.top])\n            .nice();\n\n        // Add X-axis\n        svg.append('g')\n            .attr('transform', `translate(0, ${height - margin.bottom})`)\n            .call(d3.axisBottom(xScale))\n            .attr('class', 'axis');\n\n        // x-axis label\n        svg.append('text')\n            .attr('class', 'axis-label')\n            .attr('x', width / 2)\n            .attr('y', height - 20)\n            .style('text-anchor', 'middle')\n            .text(xlabel);\n\n        // Add Y-axis\n        svg.append('g')\n            .attr('transform', `translate(${margin.left}, 0)`)\n            .call(d3.axisLeft(yScale))\n            .attr('class', 'axis');\n\n        // y-axis label\n        svg.append('text')\n            .attr('class', 'axis-label')\n            .attr('transform', 'rotate(-90)')\n            .attr('x', height / 2 * -1)\n            .attr('y', 20)\n            .attr('text-anchor', 'middle')\n            .text(ylabel);\n\n        if (title === '' && xlabel !== ''){\n            title = xlabel + ' Distribution';\n        }\n\n        svg.append('text')\n            .attr('class', 'chart-title')\n            .attr('text-anchor', 'middle')\n            .attr('x', width / 2)\n            .attr('y', margin.top / 2)\n            .text(title);\n\n        // console.log(xScale.bandwidth());\n\n        // series 1 bars\n        svg.selectAll('.bar1')\n            .data(series1.data)\n            .enter()\n            .append('rect')\n            .attr('class', 'bar1')\n            .attr('x', d => series2.data && series2.data.length > 0 ? xScale(d.category) : xScale(d.category))\n            .attr('y', d => yScale(d.value))\n            .attr('width', series2.data && series2.data.length > 0 ? xScale.bandwidth() / 2 : xScale.bandwidth())\n            .attr('height', d => height - margin.bottom - yScale(d.value));\n\n        if (series2.data && series2.data.length > 0) {\n            // series 2 data bars\n            svg.selectAll('.bar2')\n                .data(series2.data)\n                .enter()\n                .append('rect')\n                .attr('class', 'bar2')\n                .attr('x', d => xScale(d.category) + xScale.bandwidth() / 2)\n                .attr('y', d => yScale(d.value))\n                .attr('width', xScale.bandwidth() / 2)\n                .attr('height', d => height - margin.bottom - yScale(d.value));\n\n            // Add labels for series 2 data\n            svg.selectAll('.label2')\n                .data(series2.data)\n                .enter()\n                .append('text')\n                .attr('class', 'label2')\n                .attr('x', d => xScale(d.category) + xScale.bandwidth() / 2 + xScale.bandwidth() / 4) // CHANGED: Fixed positioning\n                .attr('y', d => yScale(d.value) - 5)\n                .attr('text-anchor', 'middle')\n                .text(d => d.value);\n\n            // labels for series 1 data if there are 2 datasets\n            svg.selectAll('.label1')\n                .data(series1.data)\n                .enter()\n                .append('text')\n                .attr('class', 'label1')\n                .attr('x', d => xScale(d.category) + xScale.bandwidth() / 4) // CHANGED: Fixed positioning\n                .attr('y', d => yScale(d.value) - 5)\n                .attr('text-anchor', 'middle')\n                .text(d => d.value);\n\n            // only show legend if there are 2 datasets\n            const legend_data = [\n                { label: series1.name, color: 'steelblue' },\n                { label: series2.name, color: 'orange' }\n            ];\n\n            const legend = svg.append('g')\n                .attr('class', 'legend')\n                .attr('transform', `translate(${margin.left}, ${height - 20})`);\n\n            // Grouped approach: create a group for each legend item\n            const legend_items = legend.selectAll('.legend-item')\n                .data(legend_data)\n                .enter()\n                .append('g')\n                .attr('class', 'legend-item')\n                .attr('transform', (d, i) => `translate(${i * 120}, 0)`);\n\n            // Add rectangle to each legend item group\n            legend_items.append('rect')\n                .attr('x', 0)\n                .attr('y', 0)\n                .attr('width', 18)\n                .attr('height', 18)\n                .attr('fill', d => d.color);\n\n            // Add text to each legend item group\n            legend_items.append('text')\n                .attr('x', 24)\n                .attr('y', 14) // Middle of 18px rect\n                .style('font-family', 'Arial, sans-serif')\n                .style('font-size', '14px')\n                .style('fill', 'black')\n                .style('dominant-baseline', 'middle')\n                .text(d => d.label);\n        }\n        else{\n            // labels for series 1 data if there is 1 dataset\n            svg.selectAll('.label1')\n                .data(series1.data)\n                .enter()\n                .append('text')\n                .attr('class', 'label1')\n                .attr('x', d => xScale(d.category) + xScale.bandwidth() / 2 + 5)\n                .attr('y', d => yScale(d.value) - 5)\n                .attr('text-anchor', 'middle')\n                .text(d => d.value);\n        }\n\n        return svg;\n    }\n\n    // </editor-fold>\n\n    // <editor-fold desc=\"---------- CONCEPTS TABLE FUNCTIONS ----------\">\n\n    function ConceptsTable(\n        series1, dispatch,\n        {\n            series2 = { data: null, name: \"baseline\" },\n            dimensions = { height: 432, row_height: 30 }\n        } = {}\n    ){\n        function prepareConceptsCompareData(data1, data2) {\n\n            // console.log('concepts1', data1)\n            // console.log('concepts2', data2)\n\n            let mergedList = data1.map(item1 => {\n                const item2 = data2.find(item => item.concept_code === item1.concept_code);\n                return Object.assign({}, item1, item2);\n            });\n\n            // Add a key-value pair based on a calculation (e.g., double the age)\n            mergedList = mergedList.map(item => {\n                item.difference_in_prevalence = (item.cohort1_prevalence ?? 0) - (item.cohort2_prevalence ?? 0);\n\n                item.bias = Math.abs(item.difference_in_prevalence);\n                delete item.cohort1_count;\n                delete item.cohort2_count;\n                delete item.ancestor_concept_id;\n                delete item.descendant_concept_id;\n                return item;\n            });\n\n            const order = ['concept_code', 'concept_name', 'cohort2_prevalence', 'difference_in_prevalence',\n                'cohort1_prevalence', 'bias'];\n\n            mergedList = mergedList.map(item => {\n                const rearrangedItem = {};\n                order.forEach(key => {\n                    if (item.hasOwnProperty(key)) {\n                        rearrangedItem[key] = item[key];\n                    }\n                });\n                return rearrangedItem;\n            });\n\n            // mergedList.sort((a, b) => b.bias - a.bias);\n            // mergedList.sort((a, b) => b.bias - a.bias);\n\n            // console.log('mergedList', mergedList);\n\n            return mergedList;\n        }\n\n        function handleFilterConcepts(dispatch, row, body_svg) {\n            dispatch.on(\"filter\", search_term => {\n                const normalized = search_term.toLowerCase().replace(/[^a-z0-9]/g, \"\");\n                row.style(\"display\", null);\n                row.filter(d => {\n                    const code = d.concept_code.toLowerCase();\n                    const name = d.concept_name.toLowerCase().replace(/[^a-z0-9]/g, \"\");\n                    return !(code.startsWith(normalized) || name.includes(normalized));\n                }).style(\"display\", \"none\");\n\n                // Recompute Y positions for visible rows\n                let yOffset = 0;\n                row.filter(function () {\n                    return d3.select(this).style(\"display\") !== \"none\";\n                })\n                    .each(function () {\n                        d3.select(this).attr(\"transform\", `translate(0, ${yOffset})`);\n                        yOffset += parseFloat(d3.select(this).select(\"rect\").attr(\"height\"));\n                    });\n                body_svg.attr(\"height\", yOffset);\n            });\n        }\n\n\n        // ==== Validation for required params ====\n        if (series1 === null || series1.data === null) {\n            throw new Error(\"ConceptsTable requires at least one cohort.\");\n        }\n\n        if (isEmptyString(series1.name)) {\n            series1.name = 'study cohort';\n        }\n\n        if (\n            !dispatch ||\n            typeof dispatch !== \"object\" ||\n            typeof dispatch.call !== \"function\" ||\n            typeof dispatch.on !== \"function\"\n        ) {\n            throw new Error(\"ConceptsTable requires a valid d3.dispatch object.\");\n        }\n\n        // ==== Validate optional params ====\n        if (series2 !== null && series2.data !== null && !Array.isArray(series2.data)) {\n            console.warn(\"ConceptsTable: Series 2 data should be an array (or null).\");\n        }\n\n        if (typeof dimensions !== \"object\" || dimensions === null) {\n            throw new Error(\"ConceptsTable: 'dimensions' must be an object.\");\n        }\n\n        let table_data;\n        if (series2.data !== null) {\n            table_data = prepareConceptsCompareData(series1.data, series2.data);\n        } else {\n            table_data = series1.data;\n        }\n\n        // console.log('table_data', table_data);\n\n        const text_offset_x = 10;\n        const { height, row_height } = dimensions;\n\n        // === container with scroll ===\n        const container = d3.create(\"div\")\n            .style(\"width\", \"100%\")\n            .style(\"max-height\", height + \"px\")\n            .style(\"overflow\", \"auto\")\n            .style(\"position\", \"relative\")\n            .style(\"border\", \"1px solid #ccc\")\n            .style(\"font-family\", \"sans-serif\");\n\n        // === HEADERS ===\n\n        const headers_text = makeKeysWords(Object.keys(table_data[0]), series1.name, series2.name);\n        if (!table_data.length) {\n            throw new Error(\"ConceptsTable: table_data is empty.\");\n        }\n\n        // TODO: I have assumed a maximum drawing area width of about 1070px. We may need to change this so that we get\n        //       the available canvas size and dynamically resize the visualization accordingly.\n        let columns_data;\n        if(series2.data === null){\n            columns_data = [\n                { text: headers_text[1], field: \"concept_code\", x: 0, width: 160 },\n                { text: headers_text[0], field: \"concept_name\", x: 160, width: 590 },\n                { text: headers_text[2], field: \"count_in_cohort\", x: 750, width: 160 },\n                { text: headers_text[3],\n                    field: d => (d.prevalence !== null ? d.prevalence.toFixed(3) : \"\"), x: 910, width: 160 }\n            ];\n        }\n        else{\n            columns_data = [\n                { text: headers_text[0], field: \"concept_code\", x: 0, width: 160, type: 'text' },\n                { text: headers_text[1], field: \"concept_name\", x: 160, width: 350, type: 'text' },\n                { text: headers_text[2],\n                    field: d => (d.cohort2_prevalence !== null ? d.cohort2_prevalence.toFixed(3) : \"\"),\n                    x: 510, width: 160, type: 'text' },\n                { text: headers_text[3], field: \"difference_in_prevalence\", x: 670, width: 240, type: 'compare_bars' },\n                { text: headers_text[4],\n                    field: d => (d.cohort1_prevalence !== null ? d.cohort1_prevalence.toFixed(3) : \"\"),\n                    x: 910, width: 160, type: 'text' }\n                // ,{ text: headers_text[5], field: \"bias\", x: 950, width: 120, type: 'bar' }\n            ];\n        }\n\n        const total_table_width = d3.sum(columns_data, d => d.width);\n\n        const headers_svg = container.append(\"svg\")\n            .attr(\"width\", total_table_width)\n            .attr(\"height\", row_height)\n            .style(\"position\", \"sticky\")\n            .style(\"top\", 0)\n            .style(\"background\", \"white\")\n            .style(\"z-index\", 1);\n\n        const headers_g = headers_svg.append(\"g\");\n\n        const header_g = headers_g.selectAll(\"g\")\n            .data(columns_data)\n            .enter()\n            .append(\"g\")\n            .attr(\"transform\", d => `translate(${d.x},0)`);\n\n        header_g.append(\"rect\")\n            .attr(\"width\", d => d.width)\n            .attr(\"height\", row_height)\n            .attr(\"fill\", \"#d0d0d0\")\n            .attr(\"stroke\", \"#fff\")\n            .style(\"cursor\", \"pointer\")\n            .on(\"click\", function(event, d) {\n                handleSort(d);\n            });\n\n        header_g.append(\"text\")\n            .attr(\"x\", text_offset_x)\n            .attr(\"y\", row_height / 2)\n            .attr(\"dy\", \"0.35em\")\n            .attr(\"text-anchor\", \"start\")\n            .style(\"cursor\", \"pointer\")\n            .style(\"pointer-events\", \"all\")\n            .text(d => d.text)\n            .on(\"click\", function(event, d) {\n                event.stopPropagation(); // Prevent header rect click\n                handleSort(d);\n            });\n\n        // Add sort indicators\n        header_g.append(\"text\")\n            .attr(\"class\", \"sort-indicator\")\n            .attr(\"x\", d => d.width - 15)\n            .attr(\"y\", row_height / 2)\n            .attr(\"dy\", \"0.35em\")\n            .attr(\"text-anchor\", \"middle\")\n            .attr(\"font-size\", \"12px\")\n            .attr(\"fill\", \"#666\")\n            .style(\"cursor\", \"pointer\")\n            .style(\"pointer-events\", \"all\")\n            .text(\"\")\n            .on(\"click\", function(event, d) {\n                event.stopPropagation(); // Prevent header click\n                handleSort(d);\n            });\n\n        // Function to handle sorting logic\n        function handleSort(d, skipToggle = false) {\n            // Toggle sort direction (unless we're initializing)\n            if (!skipToggle) {\n                if (d.sortDirection === \"asc\") {\n                    d.sortDirection = \"desc\";\n                } else {\n                    d.sortDirection = \"asc\";\n                }\n            }\n\n            // Clear other column sort indicators\n            columns_data.forEach(col => {\n                if (col !== d) {\n                    col.sortDirection = null;\n                }\n            });\n\n            // Dispatch sort event\n            dispatch.call(\"sort\", null, {\n                column: d.field,\n                direction: d.sortDirection,\n                columnData: d\n            });\n\n            // Update sort indicators using D3 data join\n            const sortIndicators = headers_g.selectAll(\".sort-indicator\")\n                .data(columns_data);\n\n            sortIndicators\n                .text(col => {\n                    if (col.sortDirection === \"asc\") return \"▲\";\n                    if (col.sortDirection === \"desc\") return \"▼\";\n                    return \"\";\n                });\n\n            // Sort the data\n            table_data.sort((a, b) => {\n                let aVal, bVal;\n\n                if (typeof d.field === \"function\") {\n                    aVal = d.field(a);\n                    bVal = d.field(b);\n                } else {\n                    aVal = a[d.field];\n                    bVal = b[d.field];\n                }\n\n                // Handle null/undefined values\n                if (aVal === null || aVal === undefined) aVal = \"\";\n                if (bVal === null || bVal === undefined) bVal = \"\";\n\n                // Convert to numbers if they look numeric\n                if (!isNaN(aVal) && !isNaN(bVal) && aVal !== \"\" && bVal !== \"\") {\n                    aVal = parseFloat(aVal);\n                    bVal = parseFloat(bVal);\n                }\n\n                let comparison = 0;\n                if (aVal < bVal) comparison = -1;\n                if (aVal > bVal) comparison = 1;\n\n                return d.sortDirection === \"desc\" ? -comparison : comparison;\n            });\n\n            // Re-render the table body with sorted data\n            updateTableBody();\n        }\n\n        // === Column resizing handle ===\n        header_g.append(\"rect\")\n            .attr(\"class\", \"resize-handle\")\n            .attr(\"x\", d => d.width - 5)\n            .attr(\"y\", 0)\n            .attr(\"width\", 5)\n            .attr(\"height\", row_height)\n            .style(\"cursor\", \"col-resize\")\n            .style(\"fill\", \"transparent\")\n            .call(d3.drag()\n                .on(\"start\", function(event, d) {\n                    d.startWidth = d.width;       // store starting width\n                    d.startX = event.x;           // store starting mouse X\n                })\n                .on(\"drag\", function(event, d) {\n                    const dx = event.x - d.startX;           // change in mouse X\n                    const newWidth = Math.max(30, d.startWidth + dx); // minimum width 30\n                    d.width = newWidth;\n\n                    // Update header rect\n                    d3.select(this.parentNode).select(\"rect\").attr(\"width\", newWidth);\n                    // Update resize handle position\n                    d3.select(this).attr(\"x\", newWidth - 5);\n\n                    // Recalculate x positions for all columns after this one\n                    let x = 0;\n                    columns_data.forEach(col => {\n                        col.x = x;\n                        x += col.width;\n                    });\n\n                    // Update header positions\n                    headers_g.selectAll(\"g\").attr(\"transform\", col => `translate(${col.x},0)`);\n\n                    // Update body cell positions and widths using D3 selections\n                    body_svg.selectAll(\".row\").each(function() {\n                        d3.select(this).selectAll(\".cell\")\n                            .data(columns_data)\n                            .attr(\"transform\", col => `translate(${col.x},0)`)\n                            .select(\".cell-bg\")\n                            .attr(\"width\", col => col.width);\n                    });\n\n                    // Update body and header SVG width\n                    const totalWidth = d3.sum(columns_data, c => c.width);\n                    body_svg.attr(\"width\", totalWidth);\n                    headers_svg.attr(\"width\", totalWidth);\n                })\n            );\n\n        // === BODY ===\n\n        const body_svg = container.append(\"svg\")\n            .attr(\"width\", total_table_width)\n            .attr(\"height\", table_data.length * row_height);\n\n        const rows_g = body_svg.append(\"g\");\n\n        let max_bias, max_diff, margin = 5;\n        if (series2.data !== null) {\n            max_bias = d3.max(table_data, d => Math.abs(d.bias)) || 0;\n            max_diff = d3.max(table_data, d => Math.abs(d.difference_in_prevalence)) || 0;\n        }\n\n        const biasScale = d3.scaleLinear();\n        const barScale = d3.scaleLinear();\n        let zeroX, g, outerHeight, innerY, innerH;\n\n        function updateTableBody() {\n            // D3 data join pattern: select, data, enter/update/exit\n            const rows = rows_g.selectAll(\".row\")\n                .data(table_data, d => d.concept_code || Math.random()); // Use concept_code as key if available\n\n            // Remove exiting rows\n            rows.exit().remove();\n\n            // Add new rows\n            const rowsEnter = rows.enter()\n                .append(\"g\")\n                .attr(\"class\", \"row\");\n\n            // Merge enter and update selections\n            const rowsUpdate = rowsEnter.merge(rows);\n\n            // Update positions with transition\n            rowsUpdate\n                .transition()\n                .duration(300)\n                .attr(\"transform\", (d, i) => `translate(0, ${i * row_height})`);\n\n            // Render cells for new rows only\n            renderTableCells(rowsEnter);\n\n            handleFilterConcepts(dispatch, rowsUpdate, body_svg);\n        }\n\n        function renderTableCells(row) {\n            // per-row, per-column cells\n            columns_data.forEach(col => {\n                const cell = row.append(\"g\")\n                    .attr(\"class\", \"cell\")\n                    .attr(\"transform\", `translate(${col.x},0)`);\n\n                cell.append(\"rect\")\n                    .attr(\"class\", \"cell-bg\")\n                    .attr(\"width\", col.width)\n                    .attr(\"height\", row_height)\n                    .attr(\"fill\", \"#f0f0f0\")\n                    .attr(\"stroke\", \"#ccc\");\n\n                if (series2.data === null) {\n                    cell.append(\"text\")\n                        .attr(\"x\", text_offset_x)\n                        .attr(\"y\", row_height / 2)\n                        .attr(\"dy\", \"0.35em\")\n                        .attr(\"text-anchor\", \"start\")\n                        .text(row_data => {\n                            const val = typeof col.field === \"function\" ? col.field(row_data) : row_data[col.field];\n                            return val !== null ? val : \"\";\n                        });\n                } else {\n                    switch (col.type) {\n                        case \"text\":\n                            cell.append(\"text\")\n                                .attr(\"x\", text_offset_x)\n                                .attr(\"y\", row_height / 2)\n                                .attr(\"dy\", \"0.35em\")\n                                .attr(\"text-anchor\", \"start\")\n                                .text(row_data => {\n                                    const val = typeof col.field === \"function\" ? col.field(row_data) : row_data[col.field];\n                                    return val !== null ? val : \"\";\n                                });\n                            break;\n\n                        case \"bar\":\n                            biasScale\n                                .domain([0, max_bias || 1])\n                                .range([margin, col.width - margin]);  // full available space inside cell\n\n                            cell.each(function (row_data) {\n                                g = d3.select(this);\n                                outerHeight = row_height;\n                                innerY = margin;\n                                innerH = outerHeight - 2 * margin;\n\n                                // Bar: left-aligned, scaled to bias value\n                                g.append(\"rect\")\n                                    .attr(\"x\", 0)\n                                    .attr(\"y\", innerY)\n                                    .attr(\"width\", biasScale(Math.abs(row_data.bias)))\n                                    .attr(\"height\", innerH)\n                                    .attr(\"fill\", \"lightslategrey\");\n\n                                // Text: show the bias value\n                                g.append(\"text\")\n                                    .attr(\"x\", 4)  // small left inset\n                                    .attr(\"y\", outerHeight / 2 + 4)\n                                    .attr(\"font-size\", \"10px\")\n                                    .attr(\"fill\", \"black\")\n                                    .text(row_data.bias !== null ? row_data.bias.toFixed(3) : \"\");\n                            });\n                            break;\n\n                        case \"compare_bars\":\n                            barScale\n                                .domain([-max_diff || -1, max_diff || 1])\n                                .range([margin, col.width - margin]);  // full available space inside cell\n\n                            zeroX = barScale(0);\n\n                            cell.each(function (row_data) {\n                                g = d3.select(this);\n                                outerHeight = row_height;\n                                innerY = 5;\n                                innerH = outerHeight - 2 * margin;\n\n                                // Bar\n                                g.append(\"rect\")\n                                    .attr(\"x\", Math.min(zeroX, barScale(row_data.difference_in_prevalence)))\n                                    .attr(\"y\", innerY)\n                                    .attr(\"width\", Math.abs(barScale(row_data.difference_in_prevalence) - zeroX))\n                                    .attr(\"height\", innerH)\n                                    .attr(\"fill\", row_data.difference_in_prevalence < 0 ? \"orange\" : \"steelblue\");\n\n                                // Text label - positioned based on value sign\n                                const textX = row_data.difference_in_prevalence >= 0 ?\n                                    Math.min(zeroX, barScale(row_data.difference_in_prevalence)) - 5 : // Left of positive bars\n                                    Math.max(zeroX, barScale(row_data.difference_in_prevalence)) + 5;  // Right of negative bars\n\n                                const textAnchor = row_data.difference_in_prevalence >= 0 ? \"end\" : \"start\";\n\n                                g.append(\"text\")\n                                    .attr(\"x\", textX)\n                                    .attr(\"y\", row_height / 2 + 4)\n                                    .attr(\"text-anchor\", textAnchor)\n                                    .attr(\"font-size\", \"10px\")\n                                    .text(row_data.difference_in_prevalence !== null ? row_data.difference_in_prevalence.toFixed(3) : \"\");\n\n                            });\n                            break;\n\n                        default:\n                            throw new Error(`Unknown column type: ${col.type}`);\n                    }\n                }\n            });\n        }\n\n        // Initial render\n        const row = rows_g.selectAll(\".row\")\n            .data(table_data)\n            .enter()\n            .append(\"g\")\n            .attr(\"class\", \"row\")\n            .attr(\"transform\", (d, i) => `translate(0, ${i * row_height})`);\n\n        renderTableCells(row);\n\n        // Initialize with descending sort on difference_in_prevalence if we have comparison data\n        // or on prevalence for single dataset tables\n        if (series2.data !== null) {\n            const diffColumn = columns_data.find(col => col.field === \"difference_in_prevalence\");\n            if (diffColumn) {\n                diffColumn.sortDirection = \"desc\";\n                handleSort(diffColumn, true); // Skip toggle for initialization\n            }\n        } else {\n            // For single dataset, sort by prevalence (which uses a function field)\n            const prevalenceColumn = columns_data.find(col =>\n                typeof col.field === \"function\" && col.field.toString().includes(\"prevalence\")\n            );\n            if (prevalenceColumn) {\n                prevalenceColumn.sortDirection = \"desc\";\n                handleSort(prevalenceColumn, true); // Skip toggle for initialization\n            }\n        }\n\n        handleFilterConcepts(dispatch, row, body_svg);\n\n        return container;\n    }\n\n    // </editor-fold>\n\n    // <editor-fold desc=\"---------- PAGE LAYOUT ----------\">\n\n    // overall container\n    let vis_container = document.createElementNS('http://www.w3.org/1999/xhtml', 'div');\n    vis_container.setAttribute('class', 'vis-container');\n\n    // demographics container row\n    let demographics_row = vis_container.appendChild(document.createElement('div'));\n    demographics_row.setAttribute('class', 'row-container');\n    // gender container\n    let div_gender = demographics_row.appendChild(document.createElement('div'));\n    div_gender.setAttribute('class', 'col-container');\n    // race container\n    let div_race = demographics_row.appendChild(document.createElement('div'));\n    div_race.setAttribute('class', 'col-container');\n    // age container\n    let div_age = demographics_row.appendChild(document.createElement('div'));\n    div_age.setAttribute('class', 'col-container');\n\n    // concepts container row\n    let concepts_row = vis_container.appendChild(document.createElement('div'));\n    concepts_row.setAttribute('class', 'row-container concepts-row');\n    // concepts container\n    let div_concepts_container = concepts_row.appendChild(document.createElement('div'));\n    div_concepts_container.setAttribute('class', 'col-container');\n\n    // </editor-fold>\n\n    // <editor-fold desc=\"---------- INSERT THE VISUALIZATIONS ----------\">\n\n    // draw the gender barchart\n    // console.log('gender_dist1', JSON.stringify(gender_dist1, null, 2));\n    // console.log('gender_dist2', JSON.stringify(gender_dist2, null, 2));\n    div_gender.appendChild(\n        VerticalBarChart({data: gender_dist1, name: cohort1_name},\n            {series2: {data: gender_dist2, name: cohort2_name}, dimensions: {xlabel: 'Gender'}}).node());\n\n    // draw the race barchart\n    // console.log('race_stats1', JSON.stringify(race_stats1, null, 2));\n    // console.log('race_stats2', JSON.stringify(race_stats2, null, 2));\n    div_race.appendChild(\n        VerticalBarChart({data: race_stats1, name: cohort1_name},\n            {series2: {data: race_stats2, name: cohort2_name}, dimensions: {xlabel: 'Race'}}).node());\n\n    // draw the age barchart\n    // console.log('age_dist1', JSON.stringify(age_dist1, null, 2));\n    // console.log('age_dist2', JSON.stringify(age_dist2, null, 2));\n    div_age.appendChild(\n        VerticalBarChart({data: age_dist1, name: cohort1_name},\n            {series2: {data: age_dist2, name: cohort2_name}, dimensions: {xlabel: 'Age'}}).node());\n\n    // draw the concepts table search box\n    div_concepts_container.appendChild(\n        SearchBox(conceptsTableDispatcher).node());\n\n    // if there is only one set of concepts, draw a single cohort concepts table\n    if(Object.keys(concepts2).length === 0) {\n        // draw the concepts table\n        div_concepts_container.appendChild(\n            ConceptsTable({data: concepts1, name: cohort1_name}, conceptsTableDispatcher).node());\n    }\n    else{\n        div_concepts_container.appendChild(\n            ConceptsTable({data: concepts1, name: cohort1_name}, conceptsTableDispatcher,\n                {series2: {data: concepts2, name: cohort2_name}}).node());\n    }\n\n    // attach the visualization to the AnyWidget element\n    el.appendChild(vis_container);\n\n    // </editor-fold>\n\n    // return () => {\n    //   // Optional: Called when the view is destroyed.\n    // }\n\n} // end render\n\n// export default async () => {\n//   let extraState = {};\n//   return {\n//     initialize({ model }) { /* ... */ },\n//     render({ model, el }) { /* ... */ },\n//   }\n// }\n\nexport default { render };\n",
       "_gender_dist1": [
        {
         "category": "female",
         "probability": 0,
         "value": 0
        },
        {
         "category": "male",
         "probability": 100,
         "value": 798
        },
        {
         "category": "other",
         "probability": 0,
         "value": 0
        }
       ],
       "_gender_dist2": [],
       "_model_module": "anywidget",
       "_model_module_version": "~0.9.*",
       "_model_name": "AnyModel",
       "_race_stats1": [
        {
         "category": "Other",
         "probability": 0.01,
         "value": 5
        },
        {
         "category": "Asian",
         "probability": 0.09,
         "value": 73
        },
        {
         "category": "Black or African American",
         "probability": 0.07,
         "value": 59
        },
        {
         "category": "White",
         "probability": 0.83,
         "value": 661
        }
       ],
       "_race_stats2": [],
       "_view_module": "anywidget",
       "_view_module_version": "~0.9.*",
       "_view_name": "AnyView",
       "initialized": true,
       "layout": "IPY_MODEL_912ee09137474ebbbee12a64c7e29a52"
      }
     },
     "42364994cc3541e2a6ac3079fabafd08": {
      "model_module": "anywidget",
      "model_module_version": "~0.9.*",
      "model_name": "AnyModel",
      "state": {
       "_age_dist1": [
        {
         "category": "0-10",
         "probability": 0,
         "value": 0
        },
        {
         "category": "11-20",
         "probability": 0,
         "value": 0
        },
        {
         "category": "21-30",
         "probability": 0.0088,
         "value": 7
        },
        {
         "category": "31-40",
         "probability": 0.0376,
         "value": 30
        },
        {
         "category": "41-50",
         "probability": 0.0664,
         "value": 53
        },
        {
         "category": "51-60",
         "probability": 0.1642,
         "value": 131
        },
        {
         "category": "61-70",
         "probability": 0.193,
         "value": 154
        },
        {
         "category": "71-80",
         "probability": 0.2243,
         "value": 179
        },
        {
         "category": "81-90",
         "probability": 0.2055,
         "value": 164
        },
        {
         "category": "91+",
         "probability": 0.1003,
         "value": 80
        }
       ],
       "_age_dist2": [
        {
         "category": "0-10",
         "probability": 0.0042,
         "value": 6
        },
        {
         "category": "11-20",
         "probability": 0.0049,
         "value": 7
        },
        {
         "category": "21-30",
         "probability": 0.0432,
         "value": 62
        },
        {
         "category": "31-40",
         "probability": 0.0384,
         "value": 55
        },
        {
         "category": "41-50",
         "probability": 0.0523,
         "value": 75
        },
        {
         "category": "51-60",
         "probability": 0.1464,
         "value": 210
        },
        {
         "category": "61-70",
         "probability": 0.182,
         "value": 261
        },
        {
         "category": "71-80",
         "probability": 0.2322,
         "value": 333
        },
        {
         "category": "81-90",
         "probability": 0.1897,
         "value": 272
        },
        {
         "category": "91+",
         "probability": 0.1067,
         "value": 153
        }
       ],
       "_anywidget_id": "CohortWidget.CohortWidget",
       "_cohort1_name": "study",
       "_cohort2_name": "baseline",
       "_concepts1": [
        {
         "ancestor_concept_id": 4199402,
         "cohort1_count": 798,
         "cohort1_prevalence": 1,
         "concept_code": "301857004",
         "concept_name": "Finding of body region",
         "descendant_concept_id": 4199402
        },
        {
         "ancestor_concept_id": 4117930,
         "cohort1_count": 798,
         "cohort1_prevalence": 1,
         "concept_code": "302292003",
         "concept_name": "Finding of trunk structure",
         "descendant_concept_id": 4117930
        },
        {
         "ancestor_concept_id": 4028071,
         "cohort1_count": 798,
         "cohort1_prevalence": 1,
         "concept_code": "128121009",
         "concept_name": "Disorder of trunk",
         "descendant_concept_id": 4028071
        },
        {
         "ancestor_concept_id": 440142,
         "cohort1_count": 798,
         "cohort1_prevalence": 1,
         "concept_code": "49483002",
         "concept_name": "Disorder of mediastinum",
         "descendant_concept_id": 440142
        },
        {
         "ancestor_concept_id": 316139,
         "cohort1_count": 798,
         "cohort1_prevalence": 1,
         "concept_code": "84114007",
         "concept_name": "Heart failure",
         "descendant_concept_id": 316139
        },
        {
         "ancestor_concept_id": 43531056,
         "cohort1_count": 798,
         "cohort1_prevalence": 1,
         "concept_code": "609622007",
         "concept_name": "Disorder of thoracic segment of trunk",
         "descendant_concept_id": 43531056
        },
        {
         "ancestor_concept_id": 441840,
         "cohort1_count": 798,
         "cohort1_prevalence": 1,
         "concept_code": "404684003",
         "concept_name": "Clinical finding",
         "descendant_concept_id": 441840
        },
        {
         "ancestor_concept_id": 134057,
         "cohort1_count": 798,
         "cohort1_prevalence": 1,
         "concept_code": "49601007",
         "concept_name": "Disorder of cardiovascular system",
         "descendant_concept_id": 134057
        },
        {
         "ancestor_concept_id": 321588,
         "cohort1_count": 798,
         "cohort1_prevalence": 1,
         "concept_code": "56265001",
         "concept_name": "Heart disease",
         "descendant_concept_id": 321588
        },
        {
         "ancestor_concept_id": 4274025,
         "cohort1_count": 798,
         "cohort1_prevalence": 1,
         "concept_code": "64572001",
         "concept_name": "Disease",
         "descendant_concept_id": 4274025
        },
        {
         "ancestor_concept_id": 4185503,
         "cohort1_count": 798,
         "cohort1_prevalence": 1,
         "concept_code": "298705000",
         "concept_name": "Finding of region of thorax",
         "descendant_concept_id": 4185503
        },
        {
         "ancestor_concept_id": 4042140,
         "cohort1_count": 798,
         "cohort1_prevalence": 1,
         "concept_code": "118234003",
         "concept_name": "Finding by site",
         "descendant_concept_id": 4042140
        },
        {
         "ancestor_concept_id": 43531057,
         "cohort1_count": 798,
         "cohort1_prevalence": 1,
         "concept_code": "609623002",
         "concept_name": "Finding of upper trunk",
         "descendant_concept_id": 43531057
        },
        {
         "ancestor_concept_id": 4023995,
         "cohort1_count": 798,
         "cohort1_prevalence": 1,
         "concept_code": "106063007",
         "concept_name": "Cardiovascular finding",
         "descendant_concept_id": 4023995
        },
        {
         "ancestor_concept_id": 4180628,
         "cohort1_count": 798,
         "cohort1_prevalence": 1,
         "concept_code": "362965005",
         "concept_name": "Disorder of body system",
         "descendant_concept_id": 4180628
        },
        {
         "ancestor_concept_id": 4227253,
         "cohort1_count": 798,
         "cohort1_prevalence": 1,
         "concept_code": "406123005",
         "concept_name": "Viscus structure finding",
         "descendant_concept_id": 4227253
        },
        {
         "ancestor_concept_id": 4103183,
         "cohort1_count": 798,
         "cohort1_prevalence": 1,
         "concept_code": "301095005",
         "concept_name": "Cardiac finding",
         "descendant_concept_id": 4103183
        },
        {
         "ancestor_concept_id": 4024552,
         "cohort1_count": 798,
         "cohort1_prevalence": 1,
         "concept_code": "105981003",
         "concept_name": "Disorder of cardiac function",
         "descendant_concept_id": 4024552
        },
        {
         "ancestor_concept_id": 4043346,
         "cohort1_count": 798,
         "cohort1_prevalence": 1,
         "concept_code": "118946009",
         "concept_name": "Disorder of thorax",
         "descendant_concept_id": 4043346
        },
        {
         "ancestor_concept_id": 4115390,
         "cohort1_count": 798,
         "cohort1_prevalence": 1,
         "concept_code": "301296002",
         "concept_name": "Mediastinal finding",
         "descendant_concept_id": 4115390
        },
        {
         "ancestor_concept_id": 4047779,
         "cohort1_count": 798,
         "cohort1_prevalence": 1,
         "concept_code": "123946008",
         "concept_name": "Disorder by body site",
         "descendant_concept_id": 4047779
        },
        {
         "ancestor_concept_id": 443883,
         "cohort1_count": 752,
         "cohort1_prevalence": 0.9423558897243107,
         "concept_code": "2704003",
         "concept_name": "Acute disease",
         "descendant_concept_id": 443883
        },
        {
         "ancestor_concept_id": 320136,
         "cohort1_count": 697,
         "cohort1_prevalence": 0.8734335839598998,
         "concept_code": "50043002",
         "concept_name": "Disorder of respiratory system",
         "descendant_concept_id": 320136
        },
        {
         "ancestor_concept_id": 4024567,
         "cohort1_count": 697,
         "cohort1_prevalence": 0.8734335839598998,
         "concept_code": "106048009",
         "concept_name": "Respiratory finding",
         "descendant_concept_id": 4024567
        },
        {
         "ancestor_concept_id": 4006969,
         "cohort1_count": 697,
         "cohort1_prevalence": 0.8734335839598998,
         "concept_code": "111273006",
         "concept_name": "Acute respiratory disease",
         "descendant_concept_id": 4006969
        },
        {
         "ancestor_concept_id": 4199409,
         "cohort1_count": 696,
         "cohort1_prevalence": 0.8721804511278195,
         "concept_code": "301867009",
         "concept_name": "Edema of trunk",
         "descendant_concept_id": 4199409
        },
        {
         "ancestor_concept_id": 433595,
         "cohort1_count": 696,
         "cohort1_prevalence": 0.8721804511278195,
         "concept_code": "267038008",
         "concept_name": "Edema",
         "descendant_concept_id": 433595
        },
        {
         "ancestor_concept_id": 4041664,
         "cohort1_count": 696,
         "cohort1_prevalence": 0.8721804511278195,
         "concept_code": "230145002",
         "concept_name": "Difficulty breathing",
         "descendant_concept_id": 4041664
        },
        {
         "ancestor_concept_id": 432453,
         "cohort1_count": 696,
         "cohort1_prevalence": 0.8721804511278195,
         "concept_code": "365860008",
         "concept_name": "General clinical state finding",
         "descendant_concept_id": 432453
        },
        {
         "ancestor_concept_id": 4115260,
         "cohort1_count": 696,
         "cohort1_prevalence": 0.8721804511278195,
         "concept_code": "301230006",
         "concept_name": "Lung finding",
         "descendant_concept_id": 4115260
        },
        {
         "ancestor_concept_id": 4040388,
         "cohort1_count": 696,
         "cohort1_prevalence": 0.8721804511278195,
         "concept_code": "118654009",
         "concept_name": "Disorder characterized by edema",
         "descendant_concept_id": 4040388
        },
        {
         "ancestor_concept_id": 4027553,
         "cohort1_count": 696,
         "cohort1_prevalence": 0.8721804511278195,
         "concept_code": "128272009",
         "concept_name": "Disorder of lower respiratory system",
         "descendant_concept_id": 4027553
        },
        {
         "ancestor_concept_id": 4115259,
         "cohort1_count": 696,
         "cohort1_prevalence": 0.8721804511278195,
         "concept_code": "301226008",
         "concept_name": "Lower respiratory tract finding",
         "descendant_concept_id": 4115259
        },
        {
         "ancestor_concept_id": 4078925,
         "cohort1_count": 696,
         "cohort1_prevalence": 0.8721804511278195,
         "concept_code": "19242006",
         "concept_name": "Pulmonary edema",
         "descendant_concept_id": 4078925
        },
        {
         "ancestor_concept_id": 257907,
         "cohort1_count": 696,
         "cohort1_prevalence": 0.8721804511278195,
         "concept_code": "19829001",
         "concept_name": "Disorder of lung",
         "descendant_concept_id": 257907
        },
        {
         "ancestor_concept_id": 4239819,
         "cohort1_count": 696,
         "cohort1_prevalence": 0.8721804511278195,
         "concept_code": "69328002",
         "concept_name": "Distress",
         "descendant_concept_id": 4239819
        },
        {
         "ancestor_concept_id": 253549,
         "cohort1_count": 696,
         "cohort1_prevalence": 0.8721804511278195,
         "concept_code": "105969002",
         "concept_name": "Disorder of connective tissue",
         "descendant_concept_id": 253549
        },
        {
         "ancestor_concept_id": 4180645,
         "cohort1_count": 696,
         "cohort1_prevalence": 0.8721804511278195,
         "concept_code": "363044007",
         "concept_name": "Connective tissue disorder by body site",
         "descendant_concept_id": 4180645
        },
        {
         "ancestor_concept_id": 4271505,
         "cohort1_count": 696,
         "cohort1_prevalence": 0.8721804511278195,
         "concept_code": "366139009",
         "concept_name": "Ease of respiration - finding",
         "descendant_concept_id": 4271505
        },
        {
         "ancestor_concept_id": 4195694,
         "cohort1_count": 696,
         "cohort1_prevalence": 0.8721804511278195,
         "concept_code": "67782005",
         "concept_name": "Acute respiratory distress syndrome",
         "descendant_concept_id": 4195694
        },
        {
         "ancestor_concept_id": 4158346,
         "cohort1_count": 696,
         "cohort1_prevalence": 0.8721804511278195,
         "concept_code": "271825005",
         "concept_name": "Respiratory distress",
         "descendant_concept_id": 4158346
        },
        {
         "ancestor_concept_id": 4115386,
         "cohort1_count": 696,
         "cohort1_prevalence": 0.8721804511278195,
         "concept_code": "301282008",
         "concept_name": "Finding of respiration",
         "descendant_concept_id": 4115386
        },
        {
         "ancestor_concept_id": 4119786,
         "cohort1_count": 696,
         "cohort1_prevalence": 0.8721804511278195,
         "concept_code": "233703007",
         "concept_name": "Interstitial lung disease",
         "descendant_concept_id": 4119786
        },
        {
         "ancestor_concept_id": 43530815,
         "cohort1_count": 587,
         "cohort1_prevalence": 0.7355889724310777,
         "concept_code": "609336008",
         "concept_name": "Traumatic injury by site",
         "descendant_concept_id": 43530815
        },
        {
         "ancestor_concept_id": 440921,
         "cohort1_count": 587,
         "cohort1_prevalence": 0.7355889724310777,
         "concept_code": "417746004",
         "concept_name": "Traumatic injury",
         "descendant_concept_id": 440921
        },
        {
         "ancestor_concept_id": 193631,
         "cohort1_count": 587,
         "cohort1_prevalence": 0.7355889724310777,
         "concept_code": "105612003",
         "concept_name": "Injury of internal organ",
         "descendant_concept_id": 193631
        },
        {
         "ancestor_concept_id": 194526,
         "cohort1_count": 587,
         "cohort1_prevalence": 0.7355889724310777,
         "concept_code": "48125009",
         "concept_name": "Injury of trunk",
         "descendant_concept_id": 194526
        },
        {
         "ancestor_concept_id": 432795,
         "cohort1_count": 587,
         "cohort1_prevalence": 0.7355889724310777,
         "concept_code": "417163006",
         "concept_name": "Traumatic AND/OR non-traumatic injury",
         "descendant_concept_id": 432795
        },
        {
         "ancestor_concept_id": 43530877,
         "cohort1_count": 587,
         "cohort1_prevalence": 0.7355889724310777,
         "concept_code": "609411003",
         "concept_name": "Traumatic and/or non-traumatic injury of anatomical site",
         "descendant_concept_id": 43530877
        },
        {
         "ancestor_concept_id": 432250,
         "cohort1_count": 568,
         "cohort1_prevalence": 0.7117794486215538,
         "concept_code": "40733004",
         "concept_name": "Disorder due to infection",
         "descendant_concept_id": 432250
        },
        {
         "ancestor_concept_id": 201965,
         "cohort1_count": 520,
         "cohort1_prevalence": 0.6516290726817042,
         "concept_code": "27942005",
         "concept_name": "Shock",
         "descendant_concept_id": 201965
        },
        {
         "ancestor_concept_id": 196236,
         "cohort1_count": 520,
         "cohort1_prevalence": 0.6516290726817042,
         "concept_code": "76571007",
         "concept_name": "Septic shock",
         "descendant_concept_id": 196236
        },
        {
         "ancestor_concept_id": 4271450,
         "cohort1_count": 520,
         "cohort1_prevalence": 0.6516290726817042,
         "concept_code": "63171007",
         "concept_name": "Acute infectious disease",
         "descendant_concept_id": 4271450
        },
        {
         "ancestor_concept_id": 4311280,
         "cohort1_count": 399,
         "cohort1_prevalence": 0.5,
         "concept_code": "86175003",
         "concept_name": "Injury of heart",
         "descendant_concept_id": 4311280
        },
        {
         "ancestor_concept_id": 4027255,
         "cohort1_count": 399,
         "cohort1_prevalence": 0.5,
         "concept_code": "128599005",
         "concept_name": "Structural disorder of heart",
         "descendant_concept_id": 4027255
        },
        {
         "ancestor_concept_id": 37116489,
         "cohort1_count": 399,
         "cohort1_prevalence": 0.5,
         "concept_code": "733217006",
         "concept_name": "Injury of intrathoracic organ",
         "descendant_concept_id": 37116489
        },
        {
         "ancestor_concept_id": 74786,
         "cohort1_count": 399,
         "cohort1_prevalence": 0.5,
         "concept_code": "27817002",
         "concept_name": "Internal injury of chest",
         "descendant_concept_id": 74786
        },
        {
         "ancestor_concept_id": 4152156,
         "cohort1_count": 399,
         "cohort1_prevalence": 0.5,
         "concept_code": "282728007",
         "concept_name": "Cardiovascular injury",
         "descendant_concept_id": 4152156
        },
        {
         "ancestor_concept_id": 4094683,
         "cohort1_count": 399,
         "cohort1_prevalence": 0.5,
         "concept_code": "262525000",
         "concept_name": "Chest injury",
         "descendant_concept_id": 4094683
        },
        {
         "ancestor_concept_id": 4179872,
         "cohort1_count": 388,
         "cohort1_prevalence": 0.48621553884711777,
         "concept_code": "362970003",
         "concept_name": "Disorder of hemostatic system",
         "descendant_concept_id": 4179872
        },
        {
         "ancestor_concept_id": 432585,
         "cohort1_count": 388,
         "cohort1_prevalence": 0.48621553884711777,
         "concept_code": "64779008",
         "concept_name": "Blood coagulation disorder",
         "descendant_concept_id": 432585
        },
        {
         "ancestor_concept_id": 4120613,
         "cohort1_count": 388,
         "cohort1_prevalence": 0.48621553884711777,
         "concept_code": "234466008",
         "concept_name": "Acquired coagulation disorder",
         "descendant_concept_id": 4120613
        },
        {
         "ancestor_concept_id": 43531058,
         "cohort1_count": 386,
         "cohort1_prevalence": 0.48370927318295737,
         "concept_code": "609624008",
         "concept_name": "Finding of abdomen",
         "descendant_concept_id": 43531058
        },
        {
         "ancestor_concept_id": 37311678,
         "cohort1_count": 386,
         "cohort1_prevalence": 0.48370927318295737,
         "concept_code": "822987005",
         "concept_name": "Finding of abdominopelvic segment of trunk",
         "descendant_concept_id": 37311678
        },
        {
         "ancestor_concept_id": 444089,
         "cohort1_count": 386,
         "cohort1_prevalence": 0.48370927318295737,
         "concept_code": "118948005",
         "concept_name": "Disorder of abdomen",
         "descendant_concept_id": 444089
        },
        {
         "ancestor_concept_id": 37311677,
         "cohort1_count": 386,
         "cohort1_prevalence": 0.48370927318295737,
         "concept_code": "822988000",
         "concept_name": "Disorder of abdominopelvic segment of trunk",
         "descendant_concept_id": 37311677
        },
        {
         "ancestor_concept_id": 4096864,
         "cohort1_count": 386,
         "cohort1_prevalence": 0.48370927318295737,
         "concept_code": "249561001",
         "concept_name": "Abdominal organ finding",
         "descendant_concept_id": 4096864
        },
        {
         "ancestor_concept_id": 4171379,
         "cohort1_count": 385,
         "cohort1_prevalence": 0.4824561403508772,
         "concept_code": "42030000",
         "concept_name": "Disorder of the genitourinary system",
         "descendant_concept_id": 4171379
        },
        {
         "ancestor_concept_id": 4169252,
         "cohort1_count": 385,
         "cohort1_prevalence": 0.4824561403508772,
         "concept_code": "49011004",
         "concept_name": "Internal injury of abdominal organ",
         "descendant_concept_id": 4169252
        },
        {
         "ancestor_concept_id": 37116613,
         "cohort1_count": 385,
         "cohort1_prevalence": 0.4824561403508772,
         "concept_code": "733386005",
         "concept_name": "Injury of urinary organ",
         "descendant_concept_id": 37116613
        },
        {
         "ancestor_concept_id": 200588,
         "cohort1_count": 385,
         "cohort1_prevalence": 0.4824561403508772,
         "concept_code": "128069005",
         "concept_name": "Injury of abdomen",
         "descendant_concept_id": 200588
        },
        {
         "ancestor_concept_id": 4091056,
         "cohort1_count": 385,
         "cohort1_prevalence": 0.4824561403508772,
         "concept_code": "249578005",
         "concept_name": "Kidney finding",
         "descendant_concept_id": 4091056
        },
        {
         "ancestor_concept_id": 40483287,
         "cohort1_count": 385,
         "cohort1_prevalence": 0.4824561403508772,
         "concept_code": "443820000",
         "concept_name": "Disorder of kidney and/or ureter",
         "descendant_concept_id": 40483287
        },
        {
         "ancestor_concept_id": 198124,
         "cohort1_count": 385,
         "cohort1_prevalence": 0.4824561403508772,
         "concept_code": "90708001",
         "concept_name": "Kidney disease",
         "descendant_concept_id": 198124
        },
        {
         "ancestor_concept_id": 37116972,
         "cohort1_count": 385,
         "cohort1_prevalence": 0.4824561403508772,
         "concept_code": "734045002",
         "concept_name": "Disorder of retroperitoneum",
         "descendant_concept_id": 37116972
        },
        {
         "ancestor_concept_id": 4024000,
         "cohort1_count": 385,
         "cohort1_prevalence": 0.4824561403508772,
         "concept_code": "106098005",
         "concept_name": "Urinary system finding",
         "descendant_concept_id": 4024000
        },
        {
         "ancestor_concept_id": 4220631,
         "cohort1_count": 385,
         "cohort1_prevalence": 0.4824561403508772,
         "concept_code": "40095003",
         "concept_name": "Injury of kidney",
         "descendant_concept_id": 4220631
        },
        {
         "ancestor_concept_id": 4155499,
         "cohort1_count": 385,
         "cohort1_prevalence": 0.4824561403508772,
         "concept_code": "283879004",
         "concept_name": "Urogenital injury",
         "descendant_concept_id": 4155499
        },
        {
         "ancestor_concept_id": 45769862,
         "cohort1_count": 385,
         "cohort1_prevalence": 0.4824561403508772,
         "concept_code": "79131000119100",
         "concept_name": "Kidney lesion",
         "descendant_concept_id": 45769862
        },
        {
         "ancestor_concept_id": 4041285,
         "cohort1_count": 385,
         "cohort1_prevalence": 0.4824561403508772,
         "concept_code": "118238000",
         "concept_name": "Urogenital finding",
         "descendant_concept_id": 4041285
        },
        {
         "ancestor_concept_id": 75865,
         "cohort1_count": 385,
         "cohort1_prevalence": 0.4824561403508772,
         "concept_code": "128606002",
         "concept_name": "Disorder of the urinary system",
         "descendant_concept_id": 75865
        },
        {
         "ancestor_concept_id": 4093991,
         "cohort1_count": 172,
         "cohort1_prevalence": 0.21553884711779447,
         "concept_code": "248402002",
         "concept_name": "General finding of soft tissue",
         "descendant_concept_id": 4093991
        },
        {
         "ancestor_concept_id": 4028367,
         "cohort1_count": 172,
         "cohort1_prevalence": 0.21553884711779447,
         "concept_code": "128487001",
         "concept_name": "Acute disease of cardiovascular system",
         "descendant_concept_id": 4028367
        },
        {
         "ancestor_concept_id": 443784,
         "cohort1_count": 172,
         "cohort1_prevalence": 0.21553884711779447,
         "concept_code": "27550009",
         "concept_name": "Vascular disorder",
         "descendant_concept_id": 443784
        },
        {
         "ancestor_concept_id": 4344497,
         "cohort1_count": 172,
         "cohort1_prevalence": 0.21553884711779447,
         "concept_code": "239953001",
         "concept_name": "Soft tissue lesion",
         "descendant_concept_id": 4344497
        },
        {
         "ancestor_concept_id": 376208,
         "cohort1_count": 172,
         "cohort1_prevalence": 0.21553884711779447,
         "concept_code": "19660004",
         "concept_name": "Disorder of soft tissue",
         "descendant_concept_id": 376208
        },
        {
         "ancestor_concept_id": 4071689,
         "cohort1_count": 172,
         "cohort1_prevalence": 0.21553884711779447,
         "concept_code": "21829004",
         "concept_name": "Blood vessel finding",
         "descendant_concept_id": 4071689
        },
        {
         "ancestor_concept_id": 432545,
         "cohort1_count": 137,
         "cohort1_prevalence": 0.17167919799498746,
         "concept_code": "87628006",
         "concept_name": "Bacterial infectious disease",
         "descendant_concept_id": 432545
        },
        {
         "ancestor_concept_id": 4234997,
         "cohort1_count": 89,
         "cohort1_prevalence": 0.11152882205513784,
         "concept_code": "90507008",
         "concept_name": "Disorder of vein",
         "descendant_concept_id": 4234997
        },
        {
         "ancestor_concept_id": 4208466,
         "cohort1_count": 89,
         "cohort1_prevalence": 0.11152882205513784,
         "concept_code": "439129009",
         "concept_name": "Thrombosis of blood vessel",
         "descendant_concept_id": 4208466
        },
        {
         "ancestor_concept_id": 4095634,
         "cohort1_count": 89,
         "cohort1_prevalence": 0.11152882205513784,
         "concept_code": "248727005",
         "concept_name": "Venous finding",
         "descendant_concept_id": 4095634
        },
        {
         "ancestor_concept_id": 44782746,
         "cohort1_count": 89,
         "cohort1_prevalence": 0.11152882205513784,
         "concept_code": "132281000119108",
         "concept_name": "Acute deep venous thrombosis",
         "descendant_concept_id": 44782746
        },
        {
         "ancestor_concept_id": 444247,
         "cohort1_count": 89,
         "cohort1_prevalence": 0.11152882205513784,
         "concept_code": "111293003",
         "concept_name": "Venous thrombosis",
         "descendant_concept_id": 444247
        },
        {
         "ancestor_concept_id": 4231363,
         "cohort1_count": 89,
         "cohort1_prevalence": 0.11152882205513784,
         "concept_code": "439127006",
         "concept_name": "Thrombosis",
         "descendant_concept_id": 4231363
        },
        {
         "ancestor_concept_id": 4133004,
         "cohort1_count": 89,
         "cohort1_prevalence": 0.11152882205513784,
         "concept_code": "128053003",
         "concept_name": "Deep venous thrombosis",
         "descendant_concept_id": 4133004
        },
        {
         "ancestor_concept_id": 4190192,
         "cohort1_count": 83,
         "cohort1_prevalence": 0.10401002506265664,
         "concept_code": "373434004",
         "concept_name": "Disorder of blood vessels of thorax",
         "descendant_concept_id": 4190192
        },
        {
         "ancestor_concept_id": 4108173,
         "cohort1_count": 83,
         "cohort1_prevalence": 0.10401002506265664,
         "concept_code": "251039005",
         "concept_name": "Pulmonary artery finding",
         "descendant_concept_id": 4108173
        },
        {
         "ancestor_concept_id": 312339,
         "cohort1_count": 83,
         "cohort1_prevalence": 0.10401002506265664,
         "concept_code": "54687002",
         "concept_name": "Arterial embolism",
         "descendant_concept_id": 312339
        },
        {
         "ancestor_concept_id": 45768439,
         "cohort1_count": 83,
         "cohort1_prevalence": 0.10401002506265664,
         "concept_code": "706870000",
         "concept_name": "Acute pulmonary embolism",
         "descendant_concept_id": 45768439
        },
        {
         "ancestor_concept_id": 4185607,
         "cohort1_count": 83,
         "cohort1_prevalence": 0.10401002506265664,
         "concept_code": "414086009",
         "concept_name": "Embolism",
         "descendant_concept_id": 4185607
        },
        {
         "ancestor_concept_id": 440417,
         "cohort1_count": 83,
         "cohort1_prevalence": 0.10401002506265664,
         "concept_code": "59282003",
         "concept_name": "Pulmonary embolism",
         "descendant_concept_id": 440417
        },
        {
         "ancestor_concept_id": 4095631,
         "cohort1_count": 83,
         "cohort1_prevalence": 0.10401002506265664,
         "concept_code": "248718009",
         "concept_name": "Arterial finding",
         "descendant_concept_id": 4095631
        },
        {
         "ancestor_concept_id": 321887,
         "cohort1_count": 83,
         "cohort1_prevalence": 0.10401002506265664,
         "concept_code": "359557001",
         "concept_name": "Disorder of artery",
         "descendant_concept_id": 321887
        },
        {
         "ancestor_concept_id": 4194610,
         "cohort1_count": 83,
         "cohort1_prevalence": 0.10401002506265664,
         "concept_code": "312593004",
         "concept_name": "Trunk arterial embolus",
         "descendant_concept_id": 4194610
        },
        {
         "ancestor_concept_id": 433208,
         "cohort1_count": 83,
         "cohort1_prevalence": 0.10401002506265664,
         "concept_code": "39785005",
         "concept_name": "Disorder of pulmonary circulation",
         "descendant_concept_id": 433208
        },
        {
         "ancestor_concept_id": 4302537,
         "cohort1_count": 3,
         "cohort1_prevalence": 0.0037593984962406013,
         "concept_code": "386617003",
         "concept_name": "Digestive system finding",
         "descendant_concept_id": 4302537
        },
        {
         "ancestor_concept_id": 4309188,
         "cohort1_count": 3,
         "cohort1_prevalence": 0.0037593984962406013,
         "concept_code": "84410009",
         "concept_name": "Disorder of digestive tract",
         "descendant_concept_id": 4309188
        },
        {
         "ancestor_concept_id": 4297887,
         "cohort1_count": 3,
         "cohort1_prevalence": 0.0037593984962406013,
         "concept_code": "76712006",
         "concept_name": "Disorder of digestive organ",
         "descendant_concept_id": 4297887
        },
        {
         "ancestor_concept_id": 4201745,
         "cohort1_count": 3,
         "cohort1_prevalence": 0.0037593984962406013,
         "concept_code": "53619000",
         "concept_name": "Disorder of digestive system",
         "descendant_concept_id": 4201745
        },
        {
         "ancestor_concept_id": 440029,
         "cohort1_count": 2,
         "cohort1_prevalence": 0.002506265664160401,
         "concept_code": "34014006",
         "concept_name": "Viral disease",
         "descendant_concept_id": 440029
        },
        {
         "ancestor_concept_id": 4085100,
         "cohort1_count": 2,
         "cohort1_prevalence": 0.002506265664160401,
         "concept_code": "281794004",
         "concept_name": "Viral upper respiratory tract infection",
         "descendant_concept_id": 4085100
        },
        {
         "ancestor_concept_id": 4038678,
         "cohort1_count": 2,
         "cohort1_prevalence": 0.002506265664160401,
         "concept_code": "118436003",
         "concept_name": "Finding of large intestine",
         "descendant_concept_id": 4038678
        },
        {
         "ancestor_concept_id": 4180170,
         "cohort1_count": 2,
         "cohort1_prevalence": 0.002506265664160401,
         "concept_code": "363180009",
         "concept_name": "Inflammatory disorder of the respiratory tract",
         "descendant_concept_id": 4180170
        },
        {
         "ancestor_concept_id": 4304916,
         "cohort1_count": 2,
         "cohort1_prevalence": 0.002506265664160401,
         "concept_code": "386618008",
         "concept_name": "Gastrointestinal tract finding",
         "descendant_concept_id": 4304916
        },
        {
         "ancestor_concept_id": 4170143,
         "cohort1_count": 2,
         "cohort1_prevalence": 0.002506265664160401,
         "concept_code": "275498002",
         "concept_name": "Respiratory tract infection",
         "descendant_concept_id": 4170143
        },
        {
         "ancestor_concept_id": 4178545,
         "cohort1_count": 2,
         "cohort1_prevalence": 0.002506265664160401,
         "concept_code": "297268004",
         "concept_name": "Ear, nose and throat finding",
         "descendant_concept_id": 4178545
        },
        {
         "ancestor_concept_id": 4000610,
         "cohort1_count": 2,
         "cohort1_prevalence": 0.002506265664160401,
         "concept_code": "119292006",
         "concept_name": "Disorder of gastrointestinal tract",
         "descendant_concept_id": 4000610
        },
        {
         "ancestor_concept_id": 4002905,
         "cohort1_count": 2,
         "cohort1_prevalence": 0.002506265664160401,
         "concept_code": "119523007",
         "concept_name": "Disorder of large intestine",
         "descendant_concept_id": 4002905
        },
        {
         "ancestor_concept_id": 4162282,
         "cohort1_count": 2,
         "cohort1_prevalence": 0.002506265664160401,
         "concept_code": "373405005",
         "concept_name": "Inflammatory disorder of the respiratory system",
         "descendant_concept_id": 4162282
        },
        {
         "ancestor_concept_id": 4115106,
         "cohort1_count": 2,
         "cohort1_prevalence": 0.002506265664160401,
         "concept_code": "300855001",
         "concept_name": "Mass of digestive structure",
         "descendant_concept_id": 4115106
        },
        {
         "ancestor_concept_id": 4027384,
         "cohort1_count": 2,
         "cohort1_prevalence": 0.002506265664160401,
         "concept_code": "128139000",
         "concept_name": "Inflammatory disorder",
         "descendant_concept_id": 4027384
        },
        {
         "ancestor_concept_id": 4193169,
         "cohort1_count": 2,
         "cohort1_prevalence": 0.002506265664160401,
         "concept_code": "312133006",
         "concept_name": "Viral respiratory infection",
         "descendant_concept_id": 4193169
        },
        {
         "ancestor_concept_id": 4091532,
         "cohort1_count": 2,
         "cohort1_prevalence": 0.002506265664160401,
         "concept_code": "249562008",
         "concept_name": "Bowel finding",
         "descendant_concept_id": 4091532
        },
        {
         "ancestor_concept_id": 4102111,
         "cohort1_count": 2,
         "cohort1_prevalence": 0.002506265664160401,
         "concept_code": "300848003",
         "concept_name": "Mass of body structure",
         "descendant_concept_id": 4102111
        },
        {
         "ancestor_concept_id": 201618,
         "cohort1_count": 2,
         "cohort1_prevalence": 0.002506265664160401,
         "concept_code": "85919009",
         "concept_name": "Disorder of intestine",
         "descendant_concept_id": 201618
        },
        {
         "ancestor_concept_id": 4206591,
         "cohort1_count": 2,
         "cohort1_prevalence": 0.002506265664160401,
         "concept_code": "309524007",
         "concept_name": "Mass of trunk",
         "descendant_concept_id": 4206591
        },
        {
         "ancestor_concept_id": 4178818,
         "cohort1_count": 2,
         "cohort1_prevalence": 0.002506265664160401,
         "concept_code": "363171009",
         "concept_name": "Inflammation of specific body systems",
         "descendant_concept_id": 4178818
        },
        {
         "ancestor_concept_id": 4197094,
         "cohort1_count": 2,
         "cohort1_prevalence": 0.002506265664160401,
         "concept_code": "79787007",
         "concept_name": "Disorder of lower gastrointestinal tract",
         "descendant_concept_id": 4197094
        },
        {
         "ancestor_concept_id": 192438,
         "cohort1_count": 2,
         "cohort1_prevalence": 0.002506265664160401,
         "concept_code": "271860004",
         "concept_name": "Abdominal mass",
         "descendant_concept_id": 192438
        },
        {
         "ancestor_concept_id": 4200532,
         "cohort1_count": 2,
         "cohort1_prevalence": 0.002506265664160401,
         "concept_code": "301810000",
         "concept_name": "Infection by site",
         "descendant_concept_id": 4200532
        },
        {
         "ancestor_concept_id": 254068,
         "cohort1_count": 2,
         "cohort1_prevalence": 0.002506265664160401,
         "concept_code": "201060008",
         "concept_name": "Disorder of upper respiratory system",
         "descendant_concept_id": 254068
        },
        {
         "ancestor_concept_id": 4339468,
         "cohort1_count": 2,
         "cohort1_prevalence": 0.002506265664160401,
         "concept_code": "232208008",
         "concept_name": "Ear, nose and throat disorder",
         "descendant_concept_id": 4339468
        },
        {
         "ancestor_concept_id": 4113999,
         "cohort1_count": 2,
         "cohort1_prevalence": 0.002506265664160401,
         "concept_code": "300862005",
         "concept_name": "Mass of body region",
         "descendant_concept_id": 4113999
        },
        {
         "ancestor_concept_id": 255919,
         "cohort1_count": 2,
         "cohort1_prevalence": 0.002506265664160401,
         "concept_code": "118254002",
         "concept_name": "Finding of head and neck region",
         "descendant_concept_id": 255919
        },
        {
         "ancestor_concept_id": 4043671,
         "cohort1_count": 2,
         "cohort1_prevalence": 0.002506265664160401,
         "concept_code": "129134004",
         "concept_name": "Inflammatory disorder of upper respiratory tract",
         "descendant_concept_id": 4043671
        },
        {
         "ancestor_concept_id": 4180169,
         "cohort1_count": 2,
         "cohort1_prevalence": 0.002506265664160401,
         "concept_code": "363170005",
         "concept_name": "Inflammation of specific body structures or tissue",
         "descendant_concept_id": 4180169
        },
        {
         "ancestor_concept_id": 4181583,
         "cohort1_count": 2,
         "cohort1_prevalence": 0.002506265664160401,
         "concept_code": "54150009",
         "concept_name": "Upper respiratory infection",
         "descendant_concept_id": 4181583
        },
        {
         "ancestor_concept_id": 4103320,
         "cohort1_count": 2,
         "cohort1_prevalence": 0.002506265664160401,
         "concept_code": "301186004",
         "concept_name": "Upper respiratory tract finding",
         "descendant_concept_id": 4103320
        },
        {
         "ancestor_concept_id": 4207186,
         "cohort1_count": 2,
         "cohort1_prevalence": 0.002506265664160401,
         "concept_code": "312130009",
         "concept_name": "Viral infection by site",
         "descendant_concept_id": 4207186
        },
        {
         "ancestor_concept_id": 4193990,
         "cohort1_count": 1,
         "cohort1_prevalence": 0.0012531328320802004,
         "concept_code": "312158001",
         "concept_name": "Infection of digestive system",
         "descendant_concept_id": 4193990
        },
        {
         "ancestor_concept_id": 4193875,
         "cohort1_count": 1,
         "cohort1_prevalence": 0.0012531328320802004,
         "concept_code": "312131008",
         "concept_name": "Viral infection of the digestive tract",
         "descendant_concept_id": 4193875
        },
        {
         "ancestor_concept_id": 4181187,
         "cohort1_count": 1,
         "cohort1_prevalence": 0.0012531328320802004,
         "concept_code": "363176004",
         "concept_name": "Inflammatory disorder of head",
         "descendant_concept_id": 4181187
        },
        {
         "ancestor_concept_id": 443392,
         "cohort1_count": 1,
         "cohort1_prevalence": 0.0012531328320802004,
         "concept_code": "363346000",
         "concept_name": "Malignant neoplastic disease",
         "descendant_concept_id": 443392
        },
        {
         "ancestor_concept_id": 79069,
         "cohort1_count": 1,
         "cohort1_prevalence": 0.0012531328320802004,
         "concept_code": "5964004",
         "concept_name": "Disorder of rectum",
         "descendant_concept_id": 79069
        },
        {
         "ancestor_concept_id": 31057,
         "cohort1_count": 1,
         "cohort1_prevalence": 0.0012531328320802004,
         "concept_code": "75860007",
         "concept_name": "Disorder of pharynx",
         "descendant_concept_id": 31057
        },
        {
         "ancestor_concept_id": 4087647,
         "cohort1_count": 1,
         "cohort1_prevalence": 0.0012531328320802004,
         "concept_code": "248523006",
         "concept_name": "Rectal mass",
         "descendant_concept_id": 4087647
        },
        {
         "ancestor_concept_id": 4112343,
         "cohort1_count": 1,
         "cohort1_prevalence": 0.0012531328320802004,
         "concept_code": "195662009",
         "concept_name": "Acute viral pharyngitis",
         "descendant_concept_id": 4112343
        },
        {
         "ancestor_concept_id": 4339410,
         "cohort1_count": 1,
         "cohort1_prevalence": 0.0012531328320802004,
         "concept_code": "88230002",
         "concept_name": "Disorder of skeletal system",
         "descendant_concept_id": 4339410
        },
        {
         "ancestor_concept_id": 443568,
         "cohort1_count": 1,
         "cohort1_prevalence": 0.0012531328320802004,
         "concept_code": "428905002",
         "concept_name": "Malignant neoplasm of gastrointestinal tract",
         "descendant_concept_id": 443568
        },
        {
         "ancestor_concept_id": 40481087,
         "cohort1_count": 1,
         "cohort1_prevalence": 0.0012531328320802004,
         "concept_code": "444814009",
         "concept_name": "Viral sinusitis",
         "descendant_concept_id": 40481087
        },
        {
         "ancestor_concept_id": 45763613,
         "cohort1_count": 1,
         "cohort1_prevalence": 0.0012531328320802004,
         "concept_code": "67401000119103",
         "concept_name": "Colonic lesion",
         "descendant_concept_id": 45763613
        },
        {
         "ancestor_concept_id": 4042505,
         "cohort1_count": 1,
         "cohort1_prevalence": 0.0012531328320802004,
         "concept_code": "118953000",
         "concept_name": "Bone finding",
         "descendant_concept_id": 4042505
        },
        {
         "ancestor_concept_id": 443398,
         "cohort1_count": 1,
         "cohort1_prevalence": 0.0012531328320802004,
         "concept_code": "363508008",
         "concept_name": "Malignant tumor of intestine",
         "descendant_concept_id": 443398
        },
        {
         "ancestor_concept_id": 25297,
         "cohort1_count": 1,
         "cohort1_prevalence": 0.0012531328320802004,
         "concept_code": "363746003",
         "concept_name": "Acute pharyngitis",
         "descendant_concept_id": 25297
        },
        {
         "ancestor_concept_id": 4247371,
         "cohort1_count": 1,
         "cohort1_prevalence": 0.0012531328320802004,
         "concept_code": "406122000",
         "concept_name": "Head finding",
         "descendant_concept_id": 4247371
        },
        {
         "ancestor_concept_id": 4252853,
         "cohort1_count": 1,
         "cohort1_prevalence": 0.0012531328320802004,
         "concept_code": "409631000",
         "concept_name": "Acute viral disease",
         "descendant_concept_id": 4252853
        },
        {
         "ancestor_concept_id": 4216644,
         "cohort1_count": 1,
         "cohort1_prevalence": 0.0012531328320802004,
         "concept_code": "39772007",
         "concept_name": "Rectal polyp",
         "descendant_concept_id": 4216644
        },
        {
         "ancestor_concept_id": 440059,
         "cohort1_count": 1,
         "cohort1_prevalence": 0.0012531328320802004,
         "concept_code": "58184002",
         "concept_name": "Recurrent disease",
         "descendant_concept_id": 440059
        },
        {
         "ancestor_concept_id": 4111798,
         "cohort1_count": 1,
         "cohort1_prevalence": 0.0012531328320802004,
         "concept_code": "254532005",
         "concept_name": "Neoplasm of digestive organ",
         "descendant_concept_id": 4111798
        },
        {
         "ancestor_concept_id": 4042836,
         "cohort1_count": 1,
         "cohort1_prevalence": 0.0012531328320802004,
         "concept_code": "118934005",
         "concept_name": "Disorder of head",
         "descendant_concept_id": 4042836
        },
        {
         "ancestor_concept_id": 4054503,
         "cohort1_count": 1,
         "cohort1_prevalence": 0.0012531328320802004,
         "concept_code": "126643005",
         "concept_name": "Neoplasm of intra-abdominal organs",
         "descendant_concept_id": 4054503
        },
        {
         "ancestor_concept_id": 4134294,
         "cohort1_count": 1,
         "cohort1_prevalence": 0.0012531328320802004,
         "concept_code": "128482007",
         "concept_name": "Acute inflammatory disease",
         "descendant_concept_id": 4134294
        },
        {
         "ancestor_concept_id": 257011,
         "cohort1_count": 1,
         "cohort1_prevalence": 0.0012531328320802004,
         "concept_code": "54398005",
         "concept_name": "Acute upper respiratory infection",
         "descendant_concept_id": 257011
        },
        {
         "ancestor_concept_id": 438112,
         "cohort1_count": 1,
         "cohort1_prevalence": 0.0012531328320802004,
         "concept_code": "55342001",
         "concept_name": "Neoplastic disease",
         "descendant_concept_id": 438112
        },
        {
         "ancestor_concept_id": 4193318,
         "cohort1_count": 1,
         "cohort1_prevalence": 0.0012531328320802004,
         "concept_code": "312422001",
         "concept_name": "Infective pharyngitis",
         "descendant_concept_id": 4193318
        },
        {
         "ancestor_concept_id": 4266186,
         "cohort1_count": 1,
         "cohort1_prevalence": 0.0012531328320802004,
         "concept_code": "399981008",
         "concept_name": "Neoplasm and/or hamartoma",
         "descendant_concept_id": 4266186
        },
        {
         "ancestor_concept_id": 80502,
         "cohort1_count": 1,
         "cohort1_prevalence": 0.0012531328320802004,
         "concept_code": "64859006",
         "concept_name": "Osteoporosis",
         "descendant_concept_id": 80502
        },
        {
         "ancestor_concept_id": 4091363,
         "cohort1_count": 1,
         "cohort1_prevalence": 0.0012531328320802004,
         "concept_code": "249376008",
         "concept_name": "Mouth and/or pharynx finding",
         "descendant_concept_id": 4091363
        },
        {
         "ancestor_concept_id": 4112731,
         "cohort1_count": 1,
         "cohort1_prevalence": 0.0012531328320802004,
         "concept_code": "254588001",
         "concept_name": "Polyp of intestine",
         "descendant_concept_id": 4112731
        },
        {
         "ancestor_concept_id": 4180790,
         "cohort1_count": 1,
         "cohort1_prevalence": 0.0012531328320802004,
         "concept_code": "363406005",
         "concept_name": "Malignant tumor of colon",
         "descendant_concept_id": 4180790
        },
        {
         "ancestor_concept_id": 4283893,
         "cohort1_count": 1,
         "cohort1_prevalence": 0.0012531328320802004,
         "concept_code": "36971009",
         "concept_name": "Sinusitis",
         "descendant_concept_id": 4283893
        },
        {
         "ancestor_concept_id": 4190185,
         "cohort1_count": 1,
         "cohort1_prevalence": 0.0012531328320802004,
         "concept_code": "373407002",
         "concept_name": "Inflammatory disorder of digestive system",
         "descendant_concept_id": 4190185
        },
        {
         "ancestor_concept_id": 4164337,
         "cohort1_count": 1,
         "cohort1_prevalence": 0.0012531328320802004,
         "concept_code": "399505005",
         "concept_name": "Polyp of large intestine",
         "descendant_concept_id": 4164337
        },
        {
         "ancestor_concept_id": 4143250,
         "cohort1_count": 1,
         "cohort1_prevalence": 0.0012531328320802004,
         "concept_code": "425711007",
         "concept_name": "Mass of colon",
         "descendant_concept_id": 4143250
        },
        {
         "ancestor_concept_id": 4198525,
         "cohort1_count": 1,
         "cohort1_prevalence": 0.0012531328320802004,
         "concept_code": "50410009",
         "concept_name": "Disorder of upper digestive tract",
         "descendant_concept_id": 4198525
        },
        {
         "ancestor_concept_id": 4158326,
         "cohort1_count": 1,
         "cohort1_prevalence": 0.0012531328320802004,
         "concept_code": "271745005",
         "concept_name": "Facial sinus finding",
         "descendant_concept_id": 4158326
        },
        {
         "ancestor_concept_id": 4103995,
         "cohort1_count": 1,
         "cohort1_prevalence": 0.0012531328320802004,
         "concept_code": "300312006",
         "concept_name": "Lesion of rectum",
         "descendant_concept_id": 4103995
        },
        {
         "ancestor_concept_id": 4244662,
         "cohort1_count": 1,
         "cohort1_prevalence": 0.0012531328320802004,
         "concept_code": "928000",
         "concept_name": "Disorder of musculoskeletal system",
         "descendant_concept_id": 4244662
        },
        {
         "ancestor_concept_id": 4209223,
         "cohort1_count": 1,
         "cohort1_prevalence": 0.0012531328320802004,
         "concept_code": "441456002",
         "concept_name": "Polyp",
         "descendant_concept_id": 4209223
        },
        {
         "ancestor_concept_id": 43531054,
         "cohort1_count": 1,
         "cohort1_prevalence": 0.0012531328320802004,
         "concept_code": "609620004",
         "concept_name": "Disorder of pelvis",
         "descendant_concept_id": 43531054
        },
        {
         "ancestor_concept_id": 43531053,
         "cohort1_count": 1,
         "cohort1_prevalence": 0.0012531328320802004,
         "concept_code": "609619005",
         "concept_name": "Disorder of pelvic region of trunk",
         "descendant_concept_id": 43531053
        },
        {
         "ancestor_concept_id": 36683531,
         "cohort1_count": 1,
         "cohort1_prevalence": 0.0012531328320802004,
         "concept_code": "781382000",
         "concept_name": "Malignant neoplasm of colon and/or rectum",
         "descendant_concept_id": 36683531
        },
        {
         "ancestor_concept_id": 4133974,
         "cohort1_count": 1,
         "cohort1_prevalence": 0.0012531328320802004,
         "concept_code": "128050000",
         "concept_name": "Neoplasm of abdomen",
         "descendant_concept_id": 4133974
        },
        {
         "ancestor_concept_id": 197506,
         "cohort1_count": 1,
         "cohort1_prevalence": 0.0012531328320802004,
         "concept_code": "188366002",
         "concept_name": "Malignant neoplasm of abdomen",
         "descendant_concept_id": 197506
        },
        {
         "ancestor_concept_id": 4112341,
         "cohort1_count": 1,
         "cohort1_prevalence": 0.0012531328320802004,
         "concept_code": "195647007",
         "concept_name": "Acute respiratory infections",
         "descendant_concept_id": 4112341
        },
        {
         "ancestor_concept_id": 43531059,
         "cohort1_count": 1,
         "cohort1_prevalence": 0.0012531328320802004,
         "concept_code": "609625009",
         "concept_name": "Finding of pelvic region of trunk",
         "descendant_concept_id": 43531059
        },
        {
         "ancestor_concept_id": 37017023,
         "cohort1_count": 1,
         "cohort1_prevalence": 0.0012531328320802004,
         "concept_code": "713197008",
         "concept_name": "Recurrent rectal polyp",
         "descendant_concept_id": 37017023
        },
        {
         "ancestor_concept_id": 4028253,
         "cohort1_count": 1,
         "cohort1_prevalence": 0.0012531328320802004,
         "concept_code": "128348002",
         "concept_name": "Neoplasm of digestive system",
         "descendant_concept_id": 4028253
        },
        {
         "ancestor_concept_id": 4035987,
         "cohort1_count": 1,
         "cohort1_prevalence": 0.0012531328320802004,
         "concept_code": "1532007",
         "concept_name": "Viral pharyngitis",
         "descendant_concept_id": 4035987
        },
        {
         "ancestor_concept_id": 4176944,
         "cohort1_count": 1,
         "cohort1_prevalence": 0.0012531328320802004,
         "concept_code": "363166002",
         "concept_name": "Infective disorder of head",
         "descendant_concept_id": 4176944
        },
        {
         "ancestor_concept_id": 4181063,
         "cohort1_count": 1,
         "cohort1_prevalence": 0.0012531328320802004,
         "concept_code": "363169009",
         "concept_name": "Inflammation of specific body organs",
         "descendant_concept_id": 4181063
        },
        {
         "ancestor_concept_id": 443396,
         "cohort1_count": 1,
         "cohort1_prevalence": 0.0012531328320802004,
         "concept_code": "363510005",
         "concept_name": "Malignant tumor of large intestine",
         "descendant_concept_id": 443396
        },
        {
         "ancestor_concept_id": 75909,
         "cohort1_count": 1,
         "cohort1_prevalence": 0.0012531328320802004,
         "concept_code": "76069003",
         "concept_name": "Disorder of bone",
         "descendant_concept_id": 75909
        },
        {
         "ancestor_concept_id": 40491001,
         "cohort1_count": 1,
         "cohort1_prevalence": 0.0012531328320802004,
         "concept_code": "448675008",
         "concept_name": "Malignant neoplasm of digestive system",
         "descendant_concept_id": 40491001
        },
        {
         "ancestor_concept_id": 4130373,
         "cohort1_count": 1,
         "cohort1_prevalence": 0.0012531328320802004,
         "concept_code": "126768004",
         "concept_name": "Neoplasm of gastrointestinal tract",
         "descendant_concept_id": 4130373
        },
        {
         "ancestor_concept_id": 4131598,
         "cohort1_count": 1,
         "cohort1_prevalence": 0.0012531328320802004,
         "concept_code": "126769007",
         "concept_name": "Neoplasm of intestinal tract",
         "descendant_concept_id": 4131598
        },
        {
         "ancestor_concept_id": 256440,
         "cohort1_count": 1,
         "cohort1_prevalence": 0.0012531328320802004,
         "concept_code": "7393007",
         "concept_name": "Disorder of nasal sinus",
         "descendant_concept_id": 256440
        },
        {
         "ancestor_concept_id": 4096976,
         "cohort1_count": 1,
         "cohort1_prevalence": 0.0012531328320802004,
         "concept_code": "249597005",
         "concept_name": "Rectum finding",
         "descendant_concept_id": 4096976
        },
        {
         "ancestor_concept_id": 443783,
         "cohort1_count": 1,
         "cohort1_prevalence": 0.0012531328320802004,
         "concept_code": "27624003",
         "concept_name": "Chronic disease",
         "descendant_concept_id": 443783
        },
        {
         "ancestor_concept_id": 40492037,
         "cohort1_count": 1,
         "cohort1_prevalence": 0.0012531328320802004,
         "concept_code": "448882009",
         "concept_name": "Malignant neoplasm of intraabdominal organ",
         "descendant_concept_id": 40492037
        },
        {
         "ancestor_concept_id": 43531060,
         "cohort1_count": 1,
         "cohort1_prevalence": 0.0012531328320802004,
         "concept_code": "609626005",
         "concept_name": "Finding of pelvis",
         "descendant_concept_id": 43531060
        },
        {
         "ancestor_concept_id": 4134593,
         "cohort1_count": 1,
         "cohort1_prevalence": 0.0012531328320802004,
         "concept_code": "128284006",
         "concept_name": "Chronic digestive system disorder",
         "descendant_concept_id": 4134593
        },
        {
         "ancestor_concept_id": 196931,
         "cohort1_count": 1,
         "cohort1_prevalence": 0.0012531328320802004,
         "concept_code": "128415001",
         "concept_name": "Neoplasm of digestive tract",
         "descendant_concept_id": 196931
        },
        {
         "ancestor_concept_id": 4054501,
         "cohort1_count": 1,
         "cohort1_prevalence": 0.0012531328320802004,
         "concept_code": "126637008",
         "concept_name": "Neoplasm of trunk",
         "descendant_concept_id": 4054501
        },
        {
         "ancestor_concept_id": 4130514,
         "cohort1_count": 1,
         "cohort1_prevalence": 0.0012531328320802004,
         "concept_code": "126837005",
         "concept_name": "Neoplasm of large intestine",
         "descendant_concept_id": 4130514
        },
        {
         "ancestor_concept_id": 4130995,
         "cohort1_count": 1,
         "cohort1_prevalence": 0.0012531328320802004,
         "concept_code": "126838000",
         "concept_name": "Neoplasm of colon",
         "descendant_concept_id": 4130995
        },
        {
         "ancestor_concept_id": 4134887,
         "cohort1_count": 1,
         "cohort1_prevalence": 0.0012531328320802004,
         "concept_code": "128398001",
         "concept_name": "Infectious disease of digestive tract",
         "descendant_concept_id": 4134887
        },
        {
         "ancestor_concept_id": 4027880,
         "cohort1_count": 1,
         "cohort1_prevalence": 0.0012531328320802004,
         "concept_code": "128524007",
         "concept_name": "Disorder of colon",
         "descendant_concept_id": 4027880
        },
        {
         "ancestor_concept_id": 4182161,
         "cohort1_count": 1,
         "cohort1_prevalence": 0.0012531328320802004,
         "concept_code": "298364001",
         "concept_name": "Finding of head region",
         "descendant_concept_id": 4182161
        },
        {
         "ancestor_concept_id": 4132555,
         "cohort1_count": 1,
         "cohort1_prevalence": 0.0012531328320802004,
         "concept_code": "127331007",
         "concept_name": "Neoplasm by body site",
         "descendant_concept_id": 4132555
        },
        {
         "ancestor_concept_id": 4043371,
         "cohort1_count": 1,
         "cohort1_prevalence": 0.0012531328320802004,
         "concept_code": "128999004",
         "concept_name": "Inflammatory disorder of digestive tract",
         "descendant_concept_id": 4043371
        },
        {
         "ancestor_concept_id": 4226263,
         "cohort1_count": 1,
         "cohort1_prevalence": 0.0012531328320802004,
         "concept_code": "405737000",
         "concept_name": "Pharyngitis",
         "descendant_concept_id": 4226263
        },
        {
         "ancestor_concept_id": 4145825,
         "cohort1_count": 1,
         "cohort1_prevalence": 0.0012531328320802004,
         "concept_code": "426867001",
         "concept_name": "Anorectal disorder",
         "descendant_concept_id": 4145825
        },
        {
         "ancestor_concept_id": 201131,
         "cohort1_count": 1,
         "cohort1_prevalence": 0.0012531328320802004,
         "concept_code": "74285003",
         "concept_name": "Pelvic mass",
         "descendant_concept_id": 201131
        },
        {
         "ancestor_concept_id": 4116238,
         "cohort1_count": 1,
         "cohort1_prevalence": 0.0012531328320802004,
         "concept_code": "255077007",
         "concept_name": "Malignant tumor of digestive organ",
         "descendant_concept_id": 4116238
        },
        {
         "ancestor_concept_id": 4101219,
         "cohort1_count": 1,
         "cohort1_prevalence": 0.0012531328320802004,
         "concept_code": "300310003",
         "concept_name": "Finding of colon",
         "descendant_concept_id": 4101219
        },
        {
         "ancestor_concept_id": 135930,
         "cohort1_count": 1,
         "cohort1_prevalence": 0.0012531328320802004,
         "concept_code": "106028002",
         "concept_name": "Musculoskeletal finding",
         "descendant_concept_id": 135930
        },
        {
         "ancestor_concept_id": 4022571,
         "cohort1_count": 1,
         "cohort1_prevalence": 0.0012531328320802004,
         "concept_code": "116338005",
         "concept_name": "Pharyngeal finding",
         "descendant_concept_id": 4022571
        },
        {
         "ancestor_concept_id": 4132552,
         "cohort1_count": 1,
         "cohort1_prevalence": 0.0012531328320802004,
         "concept_code": "127321000",
         "concept_name": "Acute digestive system disorder",
         "descendant_concept_id": 4132552
        }
       ],
       "_concepts2": [
        {
         "ancestor_concept_id": 4227253,
         "cohort2_count": 1434,
         "cohort2_prevalence": 1,
         "concept_code": "406123005",
         "concept_name": "Viscus structure finding",
         "descendant_concept_id": 4227253
        },
        {
         "ancestor_concept_id": 4042140,
         "cohort2_count": 1434,
         "cohort2_prevalence": 1,
         "concept_code": "118234003",
         "concept_name": "Finding by site",
         "descendant_concept_id": 4042140
        },
        {
         "ancestor_concept_id": 43531057,
         "cohort2_count": 1434,
         "cohort2_prevalence": 1,
         "concept_code": "609623002",
         "concept_name": "Finding of upper trunk",
         "descendant_concept_id": 43531057
        },
        {
         "ancestor_concept_id": 134057,
         "cohort2_count": 1434,
         "cohort2_prevalence": 1,
         "concept_code": "49601007",
         "concept_name": "Disorder of cardiovascular system",
         "descendant_concept_id": 134057
        },
        {
         "ancestor_concept_id": 4024552,
         "cohort2_count": 1434,
         "cohort2_prevalence": 1,
         "concept_code": "105981003",
         "concept_name": "Disorder of cardiac function",
         "descendant_concept_id": 4024552
        },
        {
         "ancestor_concept_id": 321588,
         "cohort2_count": 1434,
         "cohort2_prevalence": 1,
         "concept_code": "56265001",
         "concept_name": "Heart disease",
         "descendant_concept_id": 321588
        },
        {
         "ancestor_concept_id": 43531056,
         "cohort2_count": 1434,
         "cohort2_prevalence": 1,
         "concept_code": "609622007",
         "concept_name": "Disorder of thoracic segment of trunk",
         "descendant_concept_id": 43531056
        },
        {
         "ancestor_concept_id": 4047779,
         "cohort2_count": 1434,
         "cohort2_prevalence": 1,
         "concept_code": "123946008",
         "concept_name": "Disorder by body site",
         "descendant_concept_id": 4047779
        },
        {
         "ancestor_concept_id": 440142,
         "cohort2_count": 1434,
         "cohort2_prevalence": 1,
         "concept_code": "49483002",
         "concept_name": "Disorder of mediastinum",
         "descendant_concept_id": 440142
        },
        {
         "ancestor_concept_id": 4274025,
         "cohort2_count": 1434,
         "cohort2_prevalence": 1,
         "concept_code": "64572001",
         "concept_name": "Disease",
         "descendant_concept_id": 4274025
        },
        {
         "ancestor_concept_id": 4117930,
         "cohort2_count": 1434,
         "cohort2_prevalence": 1,
         "concept_code": "302292003",
         "concept_name": "Finding of trunk structure",
         "descendant_concept_id": 4117930
        },
        {
         "ancestor_concept_id": 4028071,
         "cohort2_count": 1434,
         "cohort2_prevalence": 1,
         "concept_code": "128121009",
         "concept_name": "Disorder of trunk",
         "descendant_concept_id": 4028071
        },
        {
         "ancestor_concept_id": 4185503,
         "cohort2_count": 1434,
         "cohort2_prevalence": 1,
         "concept_code": "298705000",
         "concept_name": "Finding of region of thorax",
         "descendant_concept_id": 4185503
        },
        {
         "ancestor_concept_id": 4199402,
         "cohort2_count": 1434,
         "cohort2_prevalence": 1,
         "concept_code": "301857004",
         "concept_name": "Finding of body region",
         "descendant_concept_id": 4199402
        },
        {
         "ancestor_concept_id": 4103183,
         "cohort2_count": 1434,
         "cohort2_prevalence": 1,
         "concept_code": "301095005",
         "concept_name": "Cardiac finding",
         "descendant_concept_id": 4103183
        },
        {
         "ancestor_concept_id": 316139,
         "cohort2_count": 1434,
         "cohort2_prevalence": 1,
         "concept_code": "84114007",
         "concept_name": "Heart failure",
         "descendant_concept_id": 316139
        },
        {
         "ancestor_concept_id": 4043346,
         "cohort2_count": 1434,
         "cohort2_prevalence": 1,
         "concept_code": "118946009",
         "concept_name": "Disorder of thorax",
         "descendant_concept_id": 4043346
        },
        {
         "ancestor_concept_id": 4115390,
         "cohort2_count": 1434,
         "cohort2_prevalence": 1,
         "concept_code": "301296002",
         "concept_name": "Mediastinal finding",
         "descendant_concept_id": 4115390
        },
        {
         "ancestor_concept_id": 441840,
         "cohort2_count": 1434,
         "cohort2_prevalence": 1,
         "concept_code": "404684003",
         "concept_name": "Clinical finding",
         "descendant_concept_id": 441840
        },
        {
         "ancestor_concept_id": 4180628,
         "cohort2_count": 1434,
         "cohort2_prevalence": 1,
         "concept_code": "362965005",
         "concept_name": "Disorder of body system",
         "descendant_concept_id": 4180628
        },
        {
         "ancestor_concept_id": 4023995,
         "cohort2_count": 1434,
         "cohort2_prevalence": 1,
         "concept_code": "106063007",
         "concept_name": "Cardiovascular finding",
         "descendant_concept_id": 4023995
        },
        {
         "ancestor_concept_id": 443883,
         "cohort2_count": 1341,
         "cohort2_prevalence": 0.9351464435146444,
         "concept_code": "2704003",
         "concept_name": "Acute disease",
         "descendant_concept_id": 443883
        },
        {
         "ancestor_concept_id": 4024567,
         "cohort2_count": 1227,
         "cohort2_prevalence": 0.8556485355648535,
         "concept_code": "106048009",
         "concept_name": "Respiratory finding",
         "descendant_concept_id": 4024567
        },
        {
         "ancestor_concept_id": 320136,
         "cohort2_count": 1227,
         "cohort2_prevalence": 0.8556485355648535,
         "concept_code": "50043002",
         "concept_name": "Disorder of respiratory system",
         "descendant_concept_id": 320136
        },
        {
         "ancestor_concept_id": 4006969,
         "cohort2_count": 1227,
         "cohort2_prevalence": 0.8556485355648535,
         "concept_code": "111273006",
         "concept_name": "Acute respiratory disease",
         "descendant_concept_id": 4006969
        },
        {
         "ancestor_concept_id": 4041664,
         "cohort2_count": 1226,
         "cohort2_prevalence": 0.8549511854951185,
         "concept_code": "230145002",
         "concept_name": "Difficulty breathing",
         "descendant_concept_id": 4041664
        },
        {
         "ancestor_concept_id": 4115260,
         "cohort2_count": 1226,
         "cohort2_prevalence": 0.8549511854951185,
         "concept_code": "301230006",
         "concept_name": "Lung finding",
         "descendant_concept_id": 4115260
        },
        {
         "ancestor_concept_id": 4195694,
         "cohort2_count": 1226,
         "cohort2_prevalence": 0.8549511854951185,
         "concept_code": "67782005",
         "concept_name": "Acute respiratory distress syndrome",
         "descendant_concept_id": 4195694
        },
        {
         "ancestor_concept_id": 4040388,
         "cohort2_count": 1226,
         "cohort2_prevalence": 0.8549511854951185,
         "concept_code": "118654009",
         "concept_name": "Disorder characterized by edema",
         "descendant_concept_id": 4040388
        },
        {
         "ancestor_concept_id": 433595,
         "cohort2_count": 1226,
         "cohort2_prevalence": 0.8549511854951185,
         "concept_code": "267038008",
         "concept_name": "Edema",
         "descendant_concept_id": 433595
        },
        {
         "ancestor_concept_id": 4199409,
         "cohort2_count": 1226,
         "cohort2_prevalence": 0.8549511854951185,
         "concept_code": "301867009",
         "concept_name": "Edema of trunk",
         "descendant_concept_id": 4199409
        },
        {
         "ancestor_concept_id": 4119786,
         "cohort2_count": 1226,
         "cohort2_prevalence": 0.8549511854951185,
         "concept_code": "233703007",
         "concept_name": "Interstitial lung disease",
         "descendant_concept_id": 4119786
        },
        {
         "ancestor_concept_id": 4027553,
         "cohort2_count": 1226,
         "cohort2_prevalence": 0.8549511854951185,
         "concept_code": "128272009",
         "concept_name": "Disorder of lower respiratory system",
         "descendant_concept_id": 4027553
        },
        {
         "ancestor_concept_id": 4115259,
         "cohort2_count": 1226,
         "cohort2_prevalence": 0.8549511854951185,
         "concept_code": "301226008",
         "concept_name": "Lower respiratory tract finding",
         "descendant_concept_id": 4115259
        },
        {
         "ancestor_concept_id": 4180645,
         "cohort2_count": 1226,
         "cohort2_prevalence": 0.8549511854951185,
         "concept_code": "363044007",
         "concept_name": "Connective tissue disorder by body site",
         "descendant_concept_id": 4180645
        },
        {
         "ancestor_concept_id": 4271505,
         "cohort2_count": 1226,
         "cohort2_prevalence": 0.8549511854951185,
         "concept_code": "366139009",
         "concept_name": "Ease of respiration - finding",
         "descendant_concept_id": 4271505
        },
        {
         "ancestor_concept_id": 4158346,
         "cohort2_count": 1226,
         "cohort2_prevalence": 0.8549511854951185,
         "concept_code": "271825005",
         "concept_name": "Respiratory distress",
         "descendant_concept_id": 4158346
        },
        {
         "ancestor_concept_id": 4115386,
         "cohort2_count": 1226,
         "cohort2_prevalence": 0.8549511854951185,
         "concept_code": "301282008",
         "concept_name": "Finding of respiration",
         "descendant_concept_id": 4115386
        },
        {
         "ancestor_concept_id": 253549,
         "cohort2_count": 1226,
         "cohort2_prevalence": 0.8549511854951185,
         "concept_code": "105969002",
         "concept_name": "Disorder of connective tissue",
         "descendant_concept_id": 253549
        },
        {
         "ancestor_concept_id": 4078925,
         "cohort2_count": 1226,
         "cohort2_prevalence": 0.8549511854951185,
         "concept_code": "19242006",
         "concept_name": "Pulmonary edema",
         "descendant_concept_id": 4078925
        },
        {
         "ancestor_concept_id": 257907,
         "cohort2_count": 1226,
         "cohort2_prevalence": 0.8549511854951185,
         "concept_code": "19829001",
         "concept_name": "Disorder of lung",
         "descendant_concept_id": 257907
        },
        {
         "ancestor_concept_id": 4239819,
         "cohort2_count": 1226,
         "cohort2_prevalence": 0.8549511854951185,
         "concept_code": "69328002",
         "concept_name": "Distress",
         "descendant_concept_id": 4239819
        },
        {
         "ancestor_concept_id": 432453,
         "cohort2_count": 1226,
         "cohort2_prevalence": 0.8549511854951185,
         "concept_code": "365860008",
         "concept_name": "General clinical state finding",
         "descendant_concept_id": 432453
        },
        {
         "ancestor_concept_id": 432250,
         "cohort2_count": 1007,
         "cohort2_prevalence": 0.702231520223152,
         "concept_code": "40733004",
         "concept_name": "Disorder due to infection",
         "descendant_concept_id": 432250
        },
        {
         "ancestor_concept_id": 432795,
         "cohort2_count": 999,
         "cohort2_prevalence": 0.696652719665272,
         "concept_code": "417163006",
         "concept_name": "Traumatic AND/OR non-traumatic injury",
         "descendant_concept_id": 432795
        },
        {
         "ancestor_concept_id": 43530877,
         "cohort2_count": 999,
         "cohort2_prevalence": 0.696652719665272,
         "concept_code": "609411003",
         "concept_name": "Traumatic and/or non-traumatic injury of anatomical site",
         "descendant_concept_id": 43530877
        },
        {
         "ancestor_concept_id": 440921,
         "cohort2_count": 999,
         "cohort2_prevalence": 0.696652719665272,
         "concept_code": "417746004",
         "concept_name": "Traumatic injury",
         "descendant_concept_id": 440921
        },
        {
         "ancestor_concept_id": 194526,
         "cohort2_count": 999,
         "cohort2_prevalence": 0.696652719665272,
         "concept_code": "48125009",
         "concept_name": "Injury of trunk",
         "descendant_concept_id": 194526
        },
        {
         "ancestor_concept_id": 43530815,
         "cohort2_count": 999,
         "cohort2_prevalence": 0.696652719665272,
         "concept_code": "609336008",
         "concept_name": "Traumatic injury by site",
         "descendant_concept_id": 43530815
        },
        {
         "ancestor_concept_id": 193631,
         "cohort2_count": 999,
         "cohort2_prevalence": 0.696652719665272,
         "concept_code": "105612003",
         "concept_name": "Injury of internal organ",
         "descendant_concept_id": 193631
        },
        {
         "ancestor_concept_id": 201965,
         "cohort2_count": 916,
         "cohort2_prevalence": 0.6387726638772664,
         "concept_code": "27942005",
         "concept_name": "Shock",
         "descendant_concept_id": 201965
        },
        {
         "ancestor_concept_id": 196236,
         "cohort2_count": 916,
         "cohort2_prevalence": 0.6387726638772664,
         "concept_code": "76571007",
         "concept_name": "Septic shock",
         "descendant_concept_id": 196236
        },
        {
         "ancestor_concept_id": 4271450,
         "cohort2_count": 916,
         "cohort2_prevalence": 0.6387726638772664,
         "concept_code": "63171007",
         "concept_name": "Acute infectious disease",
         "descendant_concept_id": 4271450
        },
        {
         "ancestor_concept_id": 4120613,
         "cohort2_count": 686,
         "cohort2_prevalence": 0.4783821478382148,
         "concept_code": "234466008",
         "concept_name": "Acquired coagulation disorder",
         "descendant_concept_id": 4120613
        },
        {
         "ancestor_concept_id": 432585,
         "cohort2_count": 686,
         "cohort2_prevalence": 0.4783821478382148,
         "concept_code": "64779008",
         "concept_name": "Blood coagulation disorder",
         "descendant_concept_id": 432585
        },
        {
         "ancestor_concept_id": 4179872,
         "cohort2_count": 686,
         "cohort2_prevalence": 0.4783821478382148,
         "concept_code": "362970003",
         "concept_name": "Disorder of hemostatic system",
         "descendant_concept_id": 4179872
        },
        {
         "ancestor_concept_id": 4027255,
         "cohort2_count": 683,
         "cohort2_prevalence": 0.47629009762900976,
         "concept_code": "128599005",
         "concept_name": "Structural disorder of heart",
         "descendant_concept_id": 4027255
        },
        {
         "ancestor_concept_id": 74786,
         "cohort2_count": 683,
         "cohort2_prevalence": 0.47629009762900976,
         "concept_code": "27817002",
         "concept_name": "Internal injury of chest",
         "descendant_concept_id": 74786
        },
        {
         "ancestor_concept_id": 37116489,
         "cohort2_count": 683,
         "cohort2_prevalence": 0.47629009762900976,
         "concept_code": "733217006",
         "concept_name": "Injury of intrathoracic organ",
         "descendant_concept_id": 37116489
        },
        {
         "ancestor_concept_id": 4152156,
         "cohort2_count": 683,
         "cohort2_prevalence": 0.47629009762900976,
         "concept_code": "282728007",
         "concept_name": "Cardiovascular injury",
         "descendant_concept_id": 4152156
        },
        {
         "ancestor_concept_id": 4311280,
         "cohort2_count": 683,
         "cohort2_prevalence": 0.47629009762900976,
         "concept_code": "86175003",
         "concept_name": "Injury of heart",
         "descendant_concept_id": 4311280
        },
        {
         "ancestor_concept_id": 4094683,
         "cohort2_count": 683,
         "cohort2_prevalence": 0.47629009762900976,
         "concept_code": "262525000",
         "concept_name": "Chest injury",
         "descendant_concept_id": 4094683
        },
        {
         "ancestor_concept_id": 37311678,
         "cohort2_count": 666,
         "cohort2_prevalence": 0.46443514644351463,
         "concept_code": "822987005",
         "concept_name": "Finding of abdominopelvic segment of trunk",
         "descendant_concept_id": 37311678
        },
        {
         "ancestor_concept_id": 444089,
         "cohort2_count": 666,
         "cohort2_prevalence": 0.46443514644351463,
         "concept_code": "118948005",
         "concept_name": "Disorder of abdomen",
         "descendant_concept_id": 444089
        },
        {
         "ancestor_concept_id": 43531058,
         "cohort2_count": 666,
         "cohort2_prevalence": 0.46443514644351463,
         "concept_code": "609624008",
         "concept_name": "Finding of abdomen",
         "descendant_concept_id": 43531058
        },
        {
         "ancestor_concept_id": 4096864,
         "cohort2_count": 666,
         "cohort2_prevalence": 0.46443514644351463,
         "concept_code": "249561001",
         "concept_name": "Abdominal organ finding",
         "descendant_concept_id": 4096864
        },
        {
         "ancestor_concept_id": 37311677,
         "cohort2_count": 666,
         "cohort2_prevalence": 0.46443514644351463,
         "concept_code": "822988000",
         "concept_name": "Disorder of abdominopelvic segment of trunk",
         "descendant_concept_id": 37311677
        },
        {
         "ancestor_concept_id": 4155499,
         "cohort2_count": 665,
         "cohort2_prevalence": 0.46373779637377965,
         "concept_code": "283879004",
         "concept_name": "Urogenital injury",
         "descendant_concept_id": 4155499
        },
        {
         "ancestor_concept_id": 198124,
         "cohort2_count": 665,
         "cohort2_prevalence": 0.46373779637377965,
         "concept_code": "90708001",
         "concept_name": "Kidney disease",
         "descendant_concept_id": 198124
        },
        {
         "ancestor_concept_id": 4171379,
         "cohort2_count": 665,
         "cohort2_prevalence": 0.46373779637377965,
         "concept_code": "42030000",
         "concept_name": "Disorder of the genitourinary system",
         "descendant_concept_id": 4171379
        },
        {
         "ancestor_concept_id": 4220631,
         "cohort2_count": 665,
         "cohort2_prevalence": 0.46373779637377965,
         "concept_code": "40095003",
         "concept_name": "Injury of kidney",
         "descendant_concept_id": 4220631
        },
        {
         "ancestor_concept_id": 4091056,
         "cohort2_count": 665,
         "cohort2_prevalence": 0.46373779637377965,
         "concept_code": "249578005",
         "concept_name": "Kidney finding",
         "descendant_concept_id": 4091056
        },
        {
         "ancestor_concept_id": 4024000,
         "cohort2_count": 665,
         "cohort2_prevalence": 0.46373779637377965,
         "concept_code": "106098005",
         "concept_name": "Urinary system finding",
         "descendant_concept_id": 4024000
        },
        {
         "ancestor_concept_id": 200588,
         "cohort2_count": 665,
         "cohort2_prevalence": 0.46373779637377965,
         "concept_code": "128069005",
         "concept_name": "Injury of abdomen",
         "descendant_concept_id": 200588
        },
        {
         "ancestor_concept_id": 4169252,
         "cohort2_count": 665,
         "cohort2_prevalence": 0.46373779637377965,
         "concept_code": "49011004",
         "concept_name": "Internal injury of abdominal organ",
         "descendant_concept_id": 4169252
        },
        {
         "ancestor_concept_id": 45769862,
         "cohort2_count": 665,
         "cohort2_prevalence": 0.46373779637377965,
         "concept_code": "79131000119100",
         "concept_name": "Kidney lesion",
         "descendant_concept_id": 45769862
        },
        {
         "ancestor_concept_id": 75865,
         "cohort2_count": 665,
         "cohort2_prevalence": 0.46373779637377965,
         "concept_code": "128606002",
         "concept_name": "Disorder of the urinary system",
         "descendant_concept_id": 75865
        },
        {
         "ancestor_concept_id": 40483287,
         "cohort2_count": 665,
         "cohort2_prevalence": 0.46373779637377965,
         "concept_code": "443820000",
         "concept_name": "Disorder of kidney and/or ureter",
         "descendant_concept_id": 40483287
        },
        {
         "ancestor_concept_id": 37116972,
         "cohort2_count": 665,
         "cohort2_prevalence": 0.46373779637377965,
         "concept_code": "734045002",
         "concept_name": "Disorder of retroperitoneum",
         "descendant_concept_id": 37116972
        },
        {
         "ancestor_concept_id": 37116613,
         "cohort2_count": 665,
         "cohort2_prevalence": 0.46373779637377965,
         "concept_code": "733386005",
         "concept_name": "Injury of urinary organ",
         "descendant_concept_id": 37116613
        },
        {
         "ancestor_concept_id": 4041285,
         "cohort2_count": 665,
         "cohort2_prevalence": 0.46373779637377965,
         "concept_code": "118238000",
         "concept_name": "Urogenital finding",
         "descendant_concept_id": 4041285
        },
        {
         "ancestor_concept_id": 443784,
         "cohort2_count": 333,
         "cohort2_prevalence": 0.23221757322175732,
         "concept_code": "27550009",
         "concept_name": "Vascular disorder",
         "descendant_concept_id": 443784
        },
        {
         "ancestor_concept_id": 4071689,
         "cohort2_count": 333,
         "cohort2_prevalence": 0.23221757322175732,
         "concept_code": "21829004",
         "concept_name": "Blood vessel finding",
         "descendant_concept_id": 4071689
        },
        {
         "ancestor_concept_id": 4344497,
         "cohort2_count": 333,
         "cohort2_prevalence": 0.23221757322175732,
         "concept_code": "239953001",
         "concept_name": "Soft tissue lesion",
         "descendant_concept_id": 4344497
        },
        {
         "ancestor_concept_id": 4028367,
         "cohort2_count": 333,
         "cohort2_prevalence": 0.23221757322175732,
         "concept_code": "128487001",
         "concept_name": "Acute disease of cardiovascular system",
         "descendant_concept_id": 4028367
        },
        {
         "ancestor_concept_id": 4093991,
         "cohort2_count": 333,
         "cohort2_prevalence": 0.23221757322175732,
         "concept_code": "248402002",
         "concept_name": "General finding of soft tissue",
         "descendant_concept_id": 4093991
        },
        {
         "ancestor_concept_id": 376208,
         "cohort2_count": 333,
         "cohort2_prevalence": 0.23221757322175732,
         "concept_code": "19660004",
         "concept_name": "Disorder of soft tissue",
         "descendant_concept_id": 376208
        },
        {
         "ancestor_concept_id": 432545,
         "cohort2_count": 244,
         "cohort2_prevalence": 0.1701534170153417,
         "concept_code": "87628006",
         "concept_name": "Bacterial infectious disease",
         "descendant_concept_id": 432545
        },
        {
         "ancestor_concept_id": 312339,
         "cohort2_count": 169,
         "cohort2_prevalence": 0.11785216178521618,
         "concept_code": "54687002",
         "concept_name": "Arterial embolism",
         "descendant_concept_id": 312339
        },
        {
         "ancestor_concept_id": 4194610,
         "cohort2_count": 169,
         "cohort2_prevalence": 0.11785216178521618,
         "concept_code": "312593004",
         "concept_name": "Trunk arterial embolus",
         "descendant_concept_id": 4194610
        },
        {
         "ancestor_concept_id": 4190192,
         "cohort2_count": 169,
         "cohort2_prevalence": 0.11785216178521618,
         "concept_code": "373434004",
         "concept_name": "Disorder of blood vessels of thorax",
         "descendant_concept_id": 4190192
        },
        {
         "ancestor_concept_id": 4095631,
         "cohort2_count": 169,
         "cohort2_prevalence": 0.11785216178521618,
         "concept_code": "248718009",
         "concept_name": "Arterial finding",
         "descendant_concept_id": 4095631
        },
        {
         "ancestor_concept_id": 440417,
         "cohort2_count": 169,
         "cohort2_prevalence": 0.11785216178521618,
         "concept_code": "59282003",
         "concept_name": "Pulmonary embolism",
         "descendant_concept_id": 440417
        },
        {
         "ancestor_concept_id": 321887,
         "cohort2_count": 169,
         "cohort2_prevalence": 0.11785216178521618,
         "concept_code": "359557001",
         "concept_name": "Disorder of artery",
         "descendant_concept_id": 321887
        },
        {
         "ancestor_concept_id": 4108173,
         "cohort2_count": 169,
         "cohort2_prevalence": 0.11785216178521618,
         "concept_code": "251039005",
         "concept_name": "Pulmonary artery finding",
         "descendant_concept_id": 4108173
        },
        {
         "ancestor_concept_id": 4185607,
         "cohort2_count": 169,
         "cohort2_prevalence": 0.11785216178521618,
         "concept_code": "414086009",
         "concept_name": "Embolism",
         "descendant_concept_id": 4185607
        },
        {
         "ancestor_concept_id": 45768439,
         "cohort2_count": 169,
         "cohort2_prevalence": 0.11785216178521618,
         "concept_code": "706870000",
         "concept_name": "Acute pulmonary embolism",
         "descendant_concept_id": 45768439
        },
        {
         "ancestor_concept_id": 433208,
         "cohort2_count": 169,
         "cohort2_prevalence": 0.11785216178521618,
         "concept_code": "39785005",
         "concept_name": "Disorder of pulmonary circulation",
         "descendant_concept_id": 433208
        },
        {
         "ancestor_concept_id": 444247,
         "cohort2_count": 164,
         "cohort2_prevalence": 0.11436541143654114,
         "concept_code": "111293003",
         "concept_name": "Venous thrombosis",
         "descendant_concept_id": 444247
        },
        {
         "ancestor_concept_id": 44782746,
         "cohort2_count": 164,
         "cohort2_prevalence": 0.11436541143654114,
         "concept_code": "132281000119108",
         "concept_name": "Acute deep venous thrombosis",
         "descendant_concept_id": 44782746
        },
        {
         "ancestor_concept_id": 4231363,
         "cohort2_count": 164,
         "cohort2_prevalence": 0.11436541143654114,
         "concept_code": "439127006",
         "concept_name": "Thrombosis",
         "descendant_concept_id": 4231363
        },
        {
         "ancestor_concept_id": 4234997,
         "cohort2_count": 164,
         "cohort2_prevalence": 0.11436541143654114,
         "concept_code": "90507008",
         "concept_name": "Disorder of vein",
         "descendant_concept_id": 4234997
        },
        {
         "ancestor_concept_id": 4208466,
         "cohort2_count": 164,
         "cohort2_prevalence": 0.11436541143654114,
         "concept_code": "439129009",
         "concept_name": "Thrombosis of blood vessel",
         "descendant_concept_id": 4208466
        },
        {
         "ancestor_concept_id": 4095634,
         "cohort2_count": 164,
         "cohort2_prevalence": 0.11436541143654114,
         "concept_code": "248727005",
         "concept_name": "Venous finding",
         "descendant_concept_id": 4095634
        },
        {
         "ancestor_concept_id": 4133004,
         "cohort2_count": 164,
         "cohort2_prevalence": 0.11436541143654114,
         "concept_code": "128053003",
         "concept_name": "Deep venous thrombosis",
         "descendant_concept_id": 4133004
        },
        {
         "ancestor_concept_id": 4297887,
         "cohort2_count": 5,
         "cohort2_prevalence": 0.003486750348675035,
         "concept_code": "76712006",
         "concept_name": "Disorder of digestive organ",
         "descendant_concept_id": 4297887
        },
        {
         "ancestor_concept_id": 4302537,
         "cohort2_count": 5,
         "cohort2_prevalence": 0.003486750348675035,
         "concept_code": "386617003",
         "concept_name": "Digestive system finding",
         "descendant_concept_id": 4302537
        },
        {
         "ancestor_concept_id": 4201745,
         "cohort2_count": 5,
         "cohort2_prevalence": 0.003486750348675035,
         "concept_code": "53619000",
         "concept_name": "Disorder of digestive system",
         "descendant_concept_id": 4201745
        },
        {
         "ancestor_concept_id": 4309188,
         "cohort2_count": 4,
         "cohort2_prevalence": 0.002789400278940028,
         "concept_code": "84410009",
         "concept_name": "Disorder of digestive tract",
         "descendant_concept_id": 4309188
        },
        {
         "ancestor_concept_id": 4085100,
         "cohort2_count": 3,
         "cohort2_prevalence": 0.0020920502092050207,
         "concept_code": "281794004",
         "concept_name": "Viral upper respiratory tract infection",
         "descendant_concept_id": 4085100
        },
        {
         "ancestor_concept_id": 4178818,
         "cohort2_count": 3,
         "cohort2_prevalence": 0.0020920502092050207,
         "concept_code": "363171009",
         "concept_name": "Inflammation of specific body systems",
         "descendant_concept_id": 4178818
        },
        {
         "ancestor_concept_id": 4162282,
         "cohort2_count": 3,
         "cohort2_prevalence": 0.0020920502092050207,
         "concept_code": "373405005",
         "concept_name": "Inflammatory disorder of the respiratory system",
         "descendant_concept_id": 4162282
        },
        {
         "ancestor_concept_id": 4200532,
         "cohort2_count": 3,
         "cohort2_prevalence": 0.0020920502092050207,
         "concept_code": "301810000",
         "concept_name": "Infection by site",
         "descendant_concept_id": 4200532
        },
        {
         "ancestor_concept_id": 440029,
         "cohort2_count": 3,
         "cohort2_prevalence": 0.0020920502092050207,
         "concept_code": "34014006",
         "concept_name": "Viral disease",
         "descendant_concept_id": 440029
        },
        {
         "ancestor_concept_id": 4207186,
         "cohort2_count": 3,
         "cohort2_prevalence": 0.0020920502092050207,
         "concept_code": "312130009",
         "concept_name": "Viral infection by site",
         "descendant_concept_id": 4207186
        },
        {
         "ancestor_concept_id": 255919,
         "cohort2_count": 3,
         "cohort2_prevalence": 0.0020920502092050207,
         "concept_code": "118254002",
         "concept_name": "Finding of head and neck region",
         "descendant_concept_id": 255919
        },
        {
         "ancestor_concept_id": 4170143,
         "cohort2_count": 3,
         "cohort2_prevalence": 0.0020920502092050207,
         "concept_code": "275498002",
         "concept_name": "Respiratory tract infection",
         "descendant_concept_id": 4170143
        },
        {
         "ancestor_concept_id": 254068,
         "cohort2_count": 3,
         "cohort2_prevalence": 0.0020920502092050207,
         "concept_code": "201060008",
         "concept_name": "Disorder of upper respiratory system",
         "descendant_concept_id": 254068
        },
        {
         "ancestor_concept_id": 4339468,
         "cohort2_count": 3,
         "cohort2_prevalence": 0.0020920502092050207,
         "concept_code": "232208008",
         "concept_name": "Ear, nose and throat disorder",
         "descendant_concept_id": 4339468
        },
        {
         "ancestor_concept_id": 4193169,
         "cohort2_count": 3,
         "cohort2_prevalence": 0.0020920502092050207,
         "concept_code": "312133006",
         "concept_name": "Viral respiratory infection",
         "descendant_concept_id": 4193169
        },
        {
         "ancestor_concept_id": 4180170,
         "cohort2_count": 3,
         "cohort2_prevalence": 0.0020920502092050207,
         "concept_code": "363180009",
         "concept_name": "Inflammatory disorder of the respiratory tract",
         "descendant_concept_id": 4180170
        },
        {
         "ancestor_concept_id": 4103320,
         "cohort2_count": 3,
         "cohort2_prevalence": 0.0020920502092050207,
         "concept_code": "301186004",
         "concept_name": "Upper respiratory tract finding",
         "descendant_concept_id": 4103320
        },
        {
         "ancestor_concept_id": 4043671,
         "cohort2_count": 3,
         "cohort2_prevalence": 0.0020920502092050207,
         "concept_code": "129134004",
         "concept_name": "Inflammatory disorder of upper respiratory tract",
         "descendant_concept_id": 4043671
        },
        {
         "ancestor_concept_id": 4178545,
         "cohort2_count": 3,
         "cohort2_prevalence": 0.0020920502092050207,
         "concept_code": "297268004",
         "concept_name": "Ear, nose and throat finding",
         "descendant_concept_id": 4178545
        },
        {
         "ancestor_concept_id": 4181583,
         "cohort2_count": 3,
         "cohort2_prevalence": 0.0020920502092050207,
         "concept_code": "54150009",
         "concept_name": "Upper respiratory infection",
         "descendant_concept_id": 4181583
        },
        {
         "ancestor_concept_id": 4180169,
         "cohort2_count": 3,
         "cohort2_prevalence": 0.0020920502092050207,
         "concept_code": "363170005",
         "concept_name": "Inflammation of specific body structures or tissue",
         "descendant_concept_id": 4180169
        },
        {
         "ancestor_concept_id": 4304916,
         "cohort2_count": 3,
         "cohort2_prevalence": 0.0020920502092050207,
         "concept_code": "386618008",
         "concept_name": "Gastrointestinal tract finding",
         "descendant_concept_id": 4304916
        },
        {
         "ancestor_concept_id": 4027384,
         "cohort2_count": 3,
         "cohort2_prevalence": 0.0020920502092050207,
         "concept_code": "128139000",
         "concept_name": "Inflammatory disorder",
         "descendant_concept_id": 4027384
        },
        {
         "ancestor_concept_id": 4193875,
         "cohort2_count": 2,
         "cohort2_prevalence": 0.001394700139470014,
         "concept_code": "312131008",
         "concept_name": "Viral infection of the digestive tract",
         "descendant_concept_id": 4193875
        },
        {
         "ancestor_concept_id": 4091532,
         "cohort2_count": 2,
         "cohort2_prevalence": 0.001394700139470014,
         "concept_code": "249562008",
         "concept_name": "Bowel finding",
         "descendant_concept_id": 4091532
        },
        {
         "ancestor_concept_id": 4115106,
         "cohort2_count": 2,
         "cohort2_prevalence": 0.001394700139470014,
         "concept_code": "300855001",
         "concept_name": "Mass of digestive structure",
         "descendant_concept_id": 4115106
        },
        {
         "ancestor_concept_id": 201618,
         "cohort2_count": 2,
         "cohort2_prevalence": 0.001394700139470014,
         "concept_code": "85919009",
         "concept_name": "Disorder of intestine",
         "descendant_concept_id": 201618
        },
        {
         "ancestor_concept_id": 4112343,
         "cohort2_count": 2,
         "cohort2_prevalence": 0.001394700139470014,
         "concept_code": "195662009",
         "concept_name": "Acute viral pharyngitis",
         "descendant_concept_id": 4112343
        },
        {
         "ancestor_concept_id": 257011,
         "cohort2_count": 2,
         "cohort2_prevalence": 0.001394700139470014,
         "concept_code": "54398005",
         "concept_name": "Acute upper respiratory infection",
         "descendant_concept_id": 257011
        },
        {
         "ancestor_concept_id": 4193990,
         "cohort2_count": 2,
         "cohort2_prevalence": 0.001394700139470014,
         "concept_code": "312158001",
         "concept_name": "Infection of digestive system",
         "descendant_concept_id": 4193990
        },
        {
         "ancestor_concept_id": 4091363,
         "cohort2_count": 2,
         "cohort2_prevalence": 0.001394700139470014,
         "concept_code": "249376008",
         "concept_name": "Mouth and/or pharynx finding",
         "descendant_concept_id": 4091363
        },
        {
         "ancestor_concept_id": 4252853,
         "cohort2_count": 2,
         "cohort2_prevalence": 0.001394700139470014,
         "concept_code": "409631000",
         "concept_name": "Acute viral disease",
         "descendant_concept_id": 4252853
        },
        {
         "ancestor_concept_id": 4134887,
         "cohort2_count": 2,
         "cohort2_prevalence": 0.001394700139470014,
         "concept_code": "128398001",
         "concept_name": "Infectious disease of digestive tract",
         "descendant_concept_id": 4134887
        },
        {
         "ancestor_concept_id": 4190185,
         "cohort2_count": 2,
         "cohort2_prevalence": 0.001394700139470014,
         "concept_code": "373407002",
         "concept_name": "Inflammatory disorder of digestive system",
         "descendant_concept_id": 4190185
        },
        {
         "ancestor_concept_id": 4002905,
         "cohort2_count": 2,
         "cohort2_prevalence": 0.001394700139470014,
         "concept_code": "119523007",
         "concept_name": "Disorder of large intestine",
         "descendant_concept_id": 4002905
        },
        {
         "ancestor_concept_id": 4134294,
         "cohort2_count": 2,
         "cohort2_prevalence": 0.001394700139470014,
         "concept_code": "128482007",
         "concept_name": "Acute inflammatory disease",
         "descendant_concept_id": 4134294
        },
        {
         "ancestor_concept_id": 4145825,
         "cohort2_count": 2,
         "cohort2_prevalence": 0.001394700139470014,
         "concept_code": "426867001",
         "concept_name": "Anorectal disorder",
         "descendant_concept_id": 4145825
        },
        {
         "ancestor_concept_id": 43531054,
         "cohort2_count": 2,
         "cohort2_prevalence": 0.001394700139470014,
         "concept_code": "609620004",
         "concept_name": "Disorder of pelvis",
         "descendant_concept_id": 43531054
        },
        {
         "ancestor_concept_id": 43531060,
         "cohort2_count": 2,
         "cohort2_prevalence": 0.001394700139470014,
         "concept_code": "609626005",
         "concept_name": "Finding of pelvis",
         "descendant_concept_id": 43531060
        },
        {
         "ancestor_concept_id": 4112341,
         "cohort2_count": 2,
         "cohort2_prevalence": 0.001394700139470014,
         "concept_code": "195647007",
         "concept_name": "Acute respiratory infections",
         "descendant_concept_id": 4112341
        },
        {
         "ancestor_concept_id": 4226263,
         "cohort2_count": 2,
         "cohort2_prevalence": 0.001394700139470014,
         "concept_code": "405737000",
         "concept_name": "Pharyngitis",
         "descendant_concept_id": 4226263
        },
        {
         "ancestor_concept_id": 4198525,
         "cohort2_count": 2,
         "cohort2_prevalence": 0.001394700139470014,
         "concept_code": "50410009",
         "concept_name": "Disorder of upper digestive tract",
         "descendant_concept_id": 4198525
        },
        {
         "ancestor_concept_id": 4197094,
         "cohort2_count": 2,
         "cohort2_prevalence": 0.001394700139470014,
         "concept_code": "79787007",
         "concept_name": "Disorder of lower gastrointestinal tract",
         "descendant_concept_id": 4197094
        },
        {
         "ancestor_concept_id": 443783,
         "cohort2_count": 2,
         "cohort2_prevalence": 0.001394700139470014,
         "concept_code": "27624003",
         "concept_name": "Chronic disease",
         "descendant_concept_id": 443783
        },
        {
         "ancestor_concept_id": 4102111,
         "cohort2_count": 2,
         "cohort2_prevalence": 0.001394700139470014,
         "concept_code": "300848003",
         "concept_name": "Mass of body structure",
         "descendant_concept_id": 4102111
        },
        {
         "ancestor_concept_id": 4022571,
         "cohort2_count": 2,
         "cohort2_prevalence": 0.001394700139470014,
         "concept_code": "116338005",
         "concept_name": "Pharyngeal finding",
         "descendant_concept_id": 4022571
        },
        {
         "ancestor_concept_id": 4038678,
         "cohort2_count": 2,
         "cohort2_prevalence": 0.001394700139470014,
         "concept_code": "118436003",
         "concept_name": "Finding of large intestine",
         "descendant_concept_id": 4038678
        },
        {
         "ancestor_concept_id": 192438,
         "cohort2_count": 2,
         "cohort2_prevalence": 0.001394700139470014,
         "concept_code": "271860004",
         "concept_name": "Abdominal mass",
         "descendant_concept_id": 192438
        },
        {
         "ancestor_concept_id": 31057,
         "cohort2_count": 2,
         "cohort2_prevalence": 0.001394700139470014,
         "concept_code": "75860007",
         "concept_name": "Disorder of pharynx",
         "descendant_concept_id": 31057
        },
        {
         "ancestor_concept_id": 25297,
         "cohort2_count": 2,
         "cohort2_prevalence": 0.001394700139470014,
         "concept_code": "363746003",
         "concept_name": "Acute pharyngitis",
         "descendant_concept_id": 25297
        },
        {
         "ancestor_concept_id": 4193318,
         "cohort2_count": 2,
         "cohort2_prevalence": 0.001394700139470014,
         "concept_code": "312422001",
         "concept_name": "Infective pharyngitis",
         "descendant_concept_id": 4193318
        },
        {
         "ancestor_concept_id": 4206591,
         "cohort2_count": 2,
         "cohort2_prevalence": 0.001394700139470014,
         "concept_code": "309524007",
         "concept_name": "Mass of trunk",
         "descendant_concept_id": 4206591
        },
        {
         "ancestor_concept_id": 4181063,
         "cohort2_count": 2,
         "cohort2_prevalence": 0.001394700139470014,
         "concept_code": "363169009",
         "concept_name": "Inflammation of specific body organs",
         "descendant_concept_id": 4181063
        },
        {
         "ancestor_concept_id": 4000610,
         "cohort2_count": 2,
         "cohort2_prevalence": 0.001394700139470014,
         "concept_code": "119292006",
         "concept_name": "Disorder of gastrointestinal tract",
         "descendant_concept_id": 4000610
        },
        {
         "ancestor_concept_id": 4043371,
         "cohort2_count": 2,
         "cohort2_prevalence": 0.001394700139470014,
         "concept_code": "128999004",
         "concept_name": "Inflammatory disorder of digestive tract",
         "descendant_concept_id": 4043371
        },
        {
         "ancestor_concept_id": 4035987,
         "cohort2_count": 2,
         "cohort2_prevalence": 0.001394700139470014,
         "concept_code": "1532007",
         "concept_name": "Viral pharyngitis",
         "descendant_concept_id": 4035987
        },
        {
         "ancestor_concept_id": 43531053,
         "cohort2_count": 2,
         "cohort2_prevalence": 0.001394700139470014,
         "concept_code": "609619005",
         "concept_name": "Disorder of pelvic region of trunk",
         "descendant_concept_id": 43531053
        },
        {
         "ancestor_concept_id": 4113999,
         "cohort2_count": 2,
         "cohort2_prevalence": 0.001394700139470014,
         "concept_code": "300862005",
         "concept_name": "Mass of body region",
         "descendant_concept_id": 4113999
        },
        {
         "ancestor_concept_id": 43531059,
         "cohort2_count": 2,
         "cohort2_prevalence": 0.001394700139470014,
         "concept_code": "609625009",
         "concept_name": "Finding of pelvic region of trunk",
         "descendant_concept_id": 43531059
        },
        {
         "ancestor_concept_id": 4132552,
         "cohort2_count": 2,
         "cohort2_prevalence": 0.001394700139470014,
         "concept_code": "127321000",
         "concept_name": "Acute digestive system disorder",
         "descendant_concept_id": 4132552
        },
        {
         "ancestor_concept_id": 4113563,
         "cohort2_count": 1,
         "cohort2_prevalence": 6.97350069735007E-4,
         "concept_code": "300373008",
         "concept_name": "Finding of defecation",
         "descendant_concept_id": 4113563
        },
        {
         "ancestor_concept_id": 4158326,
         "cohort2_count": 1,
         "cohort2_prevalence": 6.97350069735007E-4,
         "concept_code": "271745005",
         "concept_name": "Facial sinus finding",
         "descendant_concept_id": 4158326
        },
        {
         "ancestor_concept_id": 4341247,
         "cohort2_count": 1,
         "cohort2_prevalence": 6.97350069735007E-4,
         "concept_code": "236077008",
         "concept_name": "Protracted diarrhea",
         "descendant_concept_id": 4341247
        },
        {
         "ancestor_concept_id": 4338120,
         "cohort2_count": 1,
         "cohort2_prevalence": 6.97350069735007E-4,
         "concept_code": "88111009",
         "concept_name": "Altered bowel function",
         "descendant_concept_id": 4338120
        },
        {
         "ancestor_concept_id": 319835,
         "cohort2_count": 1,
         "cohort2_prevalence": 6.97350069735007E-4,
         "concept_code": "42343007",
         "concept_name": "Congestive heart failure",
         "descendant_concept_id": 319835
        },
        {
         "ancestor_concept_id": 4182633,
         "cohort2_count": 1,
         "cohort2_prevalence": 6.97350069735007E-4,
         "concept_code": "366256008",
         "concept_name": "Finding of bowel action",
         "descendant_concept_id": 4182633
        },
        {
         "ancestor_concept_id": 40481087,
         "cohort2_count": 1,
         "cohort2_prevalence": 6.97350069735007E-4,
         "concept_code": "444814009",
         "concept_name": "Viral sinusitis",
         "descendant_concept_id": 40481087
        },
        {
         "ancestor_concept_id": 4111798,
         "cohort2_count": 1,
         "cohort2_prevalence": 6.97350069735007E-4,
         "concept_code": "254532005",
         "concept_name": "Neoplasm of digestive organ",
         "descendant_concept_id": 4111798
        },
        {
         "ancestor_concept_id": 4229440,
         "cohort2_count": 1,
         "cohort2_prevalence": 6.97350069735007E-4,
         "concept_code": "88805009",
         "concept_name": "Chronic congestive heart failure",
         "descendant_concept_id": 4229440
        },
        {
         "ancestor_concept_id": 4101343,
         "cohort2_count": 1,
         "cohort2_prevalence": 6.97350069735007E-4,
         "concept_code": "300358007",
         "concept_name": "Functional finding of gastrointestinal tract",
         "descendant_concept_id": 4101343
        },
        {
         "ancestor_concept_id": 440059,
         "cohort2_count": 1,
         "cohort2_prevalence": 6.97350069735007E-4,
         "concept_code": "58184002",
         "concept_name": "Recurrent disease",
         "descendant_concept_id": 440059
        },
        {
         "ancestor_concept_id": 80502,
         "cohort2_count": 1,
         "cohort2_prevalence": 6.97350069735007E-4,
         "concept_code": "64859006",
         "concept_name": "Osteoporosis",
         "descendant_concept_id": 80502
        },
        {
         "ancestor_concept_id": 201131,
         "cohort2_count": 1,
         "cohort2_prevalence": 6.97350069735007E-4,
         "concept_code": "74285003",
         "concept_name": "Pelvic mass",
         "descendant_concept_id": 201131
        },
        {
         "ancestor_concept_id": 443951,
         "cohort2_count": 1,
         "cohort2_prevalence": 6.97350069735007E-4,
         "concept_code": "32110003",
         "concept_name": "Disorder of anus",
         "descendant_concept_id": 443951
        },
        {
         "ancestor_concept_id": 4131598,
         "cohort2_count": 1,
         "cohort2_prevalence": 6.97350069735007E-4,
         "concept_code": "126769007",
         "concept_name": "Neoplasm of intestinal tract",
         "descendant_concept_id": 4131598
        },
        {
         "ancestor_concept_id": 4266186,
         "cohort2_count": 1,
         "cohort2_prevalence": 6.97350069735007E-4,
         "concept_code": "399981008",
         "concept_name": "Neoplasm and/or hamartoma",
         "descendant_concept_id": 4266186
        },
        {
         "ancestor_concept_id": 4216644,
         "cohort2_count": 1,
         "cohort2_prevalence": 6.97350069735007E-4,
         "concept_code": "39772007",
         "concept_name": "Rectal polyp",
         "descendant_concept_id": 4216644
        },
        {
         "ancestor_concept_id": 4053317,
         "cohort2_count": 1,
         "cohort2_prevalence": 6.97350069735007E-4,
         "concept_code": "124734007",
         "concept_name": "Perineal finding",
         "descendant_concept_id": 4053317
        },
        {
         "ancestor_concept_id": 4028244,
         "cohort2_count": 1,
         "cohort2_prevalence": 6.97350069735007E-4,
         "concept_code": "128292002",
         "concept_name": "Chronic disease of cardiovascular system",
         "descendant_concept_id": 4028244
        },
        {
         "ancestor_concept_id": 4096976,
         "cohort2_count": 1,
         "cohort2_prevalence": 6.97350069735007E-4,
         "concept_code": "249597005",
         "concept_name": "Rectum finding",
         "descendant_concept_id": 4096976
        },
        {
         "ancestor_concept_id": 256440,
         "cohort2_count": 1,
         "cohort2_prevalence": 6.97350069735007E-4,
         "concept_code": "7393007",
         "concept_name": "Disorder of nasal sinus",
         "descendant_concept_id": 256440
        },
        {
         "ancestor_concept_id": 443396,
         "cohort2_count": 1,
         "cohort2_prevalence": 6.97350069735007E-4,
         "concept_code": "363510005",
         "concept_name": "Malignant tumor of large intestine",
         "descendant_concept_id": 443396
        },
        {
         "ancestor_concept_id": 4283893,
         "cohort2_count": 1,
         "cohort2_prevalence": 6.97350069735007E-4,
         "concept_code": "36971009",
         "concept_name": "Sinusitis",
         "descendant_concept_id": 4283893
        },
        {
         "ancestor_concept_id": 4287929,
         "cohort2_count": 1,
         "cohort2_prevalence": 6.97350069735007E-4,
         "concept_code": "397174009",
         "concept_name": "Disorder of anal region",
         "descendant_concept_id": 4287929
        },
        {
         "ancestor_concept_id": 4130373,
         "cohort2_count": 1,
         "cohort2_prevalence": 6.97350069735007E-4,
         "concept_code": "126768004",
         "concept_name": "Neoplasm of gastrointestinal tract",
         "descendant_concept_id": 4130373
        },
        {
         "ancestor_concept_id": 196931,
         "cohort2_count": 1,
         "cohort2_prevalence": 6.97350069735007E-4,
         "concept_code": "128415001",
         "concept_name": "Neoplasm of digestive tract",
         "descendant_concept_id": 196931
        },
        {
         "ancestor_concept_id": 196523,
         "cohort2_count": 1,
         "cohort2_prevalence": 6.97350069735007E-4,
         "concept_code": "62315008",
         "concept_name": "Diarrhea",
         "descendant_concept_id": 196523
        },
        {
         "ancestor_concept_id": 37017023,
         "cohort2_count": 1,
         "cohort2_prevalence": 6.97350069735007E-4,
         "concept_code": "713197008",
         "concept_name": "Recurrent rectal polyp",
         "descendant_concept_id": 37017023
        },
        {
         "ancestor_concept_id": 4339410,
         "cohort2_count": 1,
         "cohort2_prevalence": 6.97350069735007E-4,
         "concept_code": "88230002",
         "concept_name": "Disorder of skeletal system",
         "descendant_concept_id": 4339410
        },
        {
         "ancestor_concept_id": 4133974,
         "cohort2_count": 1,
         "cohort2_prevalence": 6.97350069735007E-4,
         "concept_code": "128050000",
         "concept_name": "Neoplasm of abdomen",
         "descendant_concept_id": 4133974
        },
        {
         "ancestor_concept_id": 443568,
         "cohort2_count": 1,
         "cohort2_prevalence": 6.97350069735007E-4,
         "concept_code": "428905002",
         "concept_name": "Malignant neoplasm of gastrointestinal tract",
         "descendant_concept_id": 443568
        },
        {
         "ancestor_concept_id": 4087647,
         "cohort2_count": 1,
         "cohort2_prevalence": 6.97350069735007E-4,
         "concept_code": "248523006",
         "concept_name": "Rectal mass",
         "descendant_concept_id": 4087647
        },
        {
         "ancestor_concept_id": 4112731,
         "cohort2_count": 1,
         "cohort2_prevalence": 6.97350069735007E-4,
         "concept_code": "254588001",
         "concept_name": "Polyp of intestine",
         "descendant_concept_id": 4112731
        },
        {
         "ancestor_concept_id": 4182161,
         "cohort2_count": 1,
         "cohort2_prevalence": 6.97350069735007E-4,
         "concept_code": "298364001",
         "concept_name": "Finding of head region",
         "descendant_concept_id": 4182161
        },
        {
         "ancestor_concept_id": 4103995,
         "cohort2_count": 1,
         "cohort2_prevalence": 6.97350069735007E-4,
         "concept_code": "300312006",
         "concept_name": "Lesion of rectum",
         "descendant_concept_id": 4103995
        },
        {
         "ancestor_concept_id": 4181187,
         "cohort2_count": 1,
         "cohort2_prevalence": 6.97350069735007E-4,
         "concept_code": "363176004",
         "concept_name": "Inflammatory disorder of head",
         "descendant_concept_id": 4181187
        },
        {
         "ancestor_concept_id": 443398,
         "cohort2_count": 1,
         "cohort2_prevalence": 6.97350069735007E-4,
         "concept_code": "363508008",
         "concept_name": "Malignant tumor of intestine",
         "descendant_concept_id": 443398
        },
        {
         "ancestor_concept_id": 135930,
         "cohort2_count": 1,
         "cohort2_prevalence": 6.97350069735007E-4,
         "concept_code": "106028002",
         "concept_name": "Musculoskeletal finding",
         "descendant_concept_id": 135930
        },
        {
         "ancestor_concept_id": 4042836,
         "cohort2_count": 1,
         "cohort2_prevalence": 6.97350069735007E-4,
         "concept_code": "118934005",
         "concept_name": "Disorder of head",
         "descendant_concept_id": 4042836
        },
        {
         "ancestor_concept_id": 4042505,
         "cohort2_count": 1,
         "cohort2_prevalence": 6.97350069735007E-4,
         "concept_code": "118953000",
         "concept_name": "Bone finding",
         "descendant_concept_id": 4042505
        },
        {
         "ancestor_concept_id": 4130514,
         "cohort2_count": 1,
         "cohort2_prevalence": 6.97350069735007E-4,
         "concept_code": "126837005",
         "concept_name": "Neoplasm of large intestine",
         "descendant_concept_id": 4130514
        },
        {
         "ancestor_concept_id": 40492037,
         "cohort2_count": 1,
         "cohort2_prevalence": 6.97350069735007E-4,
         "concept_code": "448882009",
         "concept_name": "Malignant neoplasm of intraabdominal organ",
         "descendant_concept_id": 40492037
        },
        {
         "ancestor_concept_id": 45763613,
         "cohort2_count": 1,
         "cohort2_prevalence": 6.97350069735007E-4,
         "concept_code": "67401000119103",
         "concept_name": "Colonic lesion",
         "descendant_concept_id": 45763613
        },
        {
         "ancestor_concept_id": 4244662,
         "cohort2_count": 1,
         "cohort2_prevalence": 6.97350069735007E-4,
         "concept_code": "928000",
         "concept_name": "Disorder of musculoskeletal system",
         "descendant_concept_id": 4244662
        },
        {
         "ancestor_concept_id": 4166245,
         "cohort2_count": 1,
         "cohort2_prevalence": 6.97350069735007E-4,
         "concept_code": "415991003",
         "concept_name": "Disorder of cardiac ventricle",
         "descendant_concept_id": 4166245
        },
        {
         "ancestor_concept_id": 79069,
         "cohort2_count": 1,
         "cohort2_prevalence": 6.97350069735007E-4,
         "concept_code": "5964004",
         "concept_name": "Disorder of rectum",
         "descendant_concept_id": 79069
        },
        {
         "ancestor_concept_id": 4245614,
         "cohort2_count": 1,
         "cohort2_prevalence": 6.97350069735007E-4,
         "concept_code": "6072007",
         "concept_name": "Bleeding from anus",
         "descendant_concept_id": 4245614
        },
        {
         "ancestor_concept_id": 4176944,
         "cohort2_count": 1,
         "cohort2_prevalence": 6.97350069735007E-4,
         "concept_code": "363166002",
         "concept_name": "Infective disorder of head",
         "descendant_concept_id": 4176944
        },
        {
         "ancestor_concept_id": 4134593,
         "cohort2_count": 1,
         "cohort2_prevalence": 6.97350069735007E-4,
         "concept_code": "128284006",
         "concept_name": "Chronic digestive system disorder",
         "descendant_concept_id": 4134593
        },
        {
         "ancestor_concept_id": 437312,
         "cohort2_count": 1,
         "cohort2_prevalence": 6.97350069735007E-4,
         "concept_code": "131148009",
         "concept_name": "Bleeding",
         "descendant_concept_id": 437312
        },
        {
         "ancestor_concept_id": 36683531,
         "cohort2_count": 1,
         "cohort2_prevalence": 6.97350069735007E-4,
         "concept_code": "781382000",
         "concept_name": "Malignant neoplasm of colon and/or rectum",
         "descendant_concept_id": 36683531
        },
        {
         "ancestor_concept_id": 4164337,
         "cohort2_count": 1,
         "cohort2_prevalence": 6.97350069735007E-4,
         "concept_code": "399505005",
         "concept_name": "Polyp of large intestine",
         "descendant_concept_id": 4164337
        },
        {
         "ancestor_concept_id": 4247371,
         "cohort2_count": 1,
         "cohort2_prevalence": 6.97350069735007E-4,
         "concept_code": "406122000",
         "concept_name": "Head finding",
         "descendant_concept_id": 4247371
        },
        {
         "ancestor_concept_id": 444031,
         "cohort2_count": 1,
         "cohort2_prevalence": 6.97350069735007E-4,
         "concept_code": "48447003",
         "concept_name": "Chronic heart failure",
         "descendant_concept_id": 444031
        },
        {
         "ancestor_concept_id": 438112,
         "cohort2_count": 1,
         "cohort2_prevalence": 6.97350069735007E-4,
         "concept_code": "55342001",
         "concept_name": "Neoplastic disease",
         "descendant_concept_id": 438112
        },
        {
         "ancestor_concept_id": 4180790,
         "cohort2_count": 1,
         "cohort2_prevalence": 6.97350069735007E-4,
         "concept_code": "363406005",
         "concept_name": "Malignant tumor of colon",
         "descendant_concept_id": 4180790
        },
        {
         "ancestor_concept_id": 4054501,
         "cohort2_count": 1,
         "cohort2_prevalence": 6.97350069735007E-4,
         "concept_code": "126637008",
         "concept_name": "Neoplasm of trunk",
         "descendant_concept_id": 4054501
        },
        {
         "ancestor_concept_id": 4054503,
         "cohort2_count": 1,
         "cohort2_prevalence": 6.97350069735007E-4,
         "concept_code": "126643005",
         "concept_name": "Neoplasm of intra-abdominal organs",
         "descendant_concept_id": 4054503
        },
        {
         "ancestor_concept_id": 4130995,
         "cohort2_count": 1,
         "cohort2_prevalence": 6.97350069735007E-4,
         "concept_code": "126838000",
         "concept_name": "Neoplasm of colon",
         "descendant_concept_id": 4130995
        },
        {
         "ancestor_concept_id": 4027880,
         "cohort2_count": 1,
         "cohort2_prevalence": 6.97350069735007E-4,
         "concept_code": "128524007",
         "concept_name": "Disorder of colon",
         "descendant_concept_id": 4027880
        },
        {
         "ancestor_concept_id": 4209223,
         "cohort2_count": 1,
         "cohort2_prevalence": 6.97350069735007E-4,
         "concept_code": "441456002",
         "concept_name": "Polyp",
         "descendant_concept_id": 4209223
        },
        {
         "ancestor_concept_id": 4116238,
         "cohort2_count": 1,
         "cohort2_prevalence": 6.97350069735007E-4,
         "concept_code": "255077007",
         "concept_name": "Malignant tumor of digestive organ",
         "descendant_concept_id": 4116238
        },
        {
         "ancestor_concept_id": 4101219,
         "cohort2_count": 1,
         "cohort2_prevalence": 6.97350069735007E-4,
         "concept_code": "300310003",
         "concept_name": "Finding of colon",
         "descendant_concept_id": 4101219
        },
        {
         "ancestor_concept_id": 197506,
         "cohort2_count": 1,
         "cohort2_prevalence": 6.97350069735007E-4,
         "concept_code": "188366002",
         "concept_name": "Malignant neoplasm of abdomen",
         "descendant_concept_id": 197506
        },
        {
         "ancestor_concept_id": 4143250,
         "cohort2_count": 1,
         "cohort2_prevalence": 6.97350069735007E-4,
         "concept_code": "425711007",
         "concept_name": "Mass of colon",
         "descendant_concept_id": 4143250
        },
        {
         "ancestor_concept_id": 75909,
         "cohort2_count": 1,
         "cohort2_prevalence": 6.97350069735007E-4,
         "concept_code": "76069003",
         "concept_name": "Disorder of bone",
         "descendant_concept_id": 75909
        },
        {
         "ancestor_concept_id": 37311947,
         "cohort2_count": 1,
         "cohort2_prevalence": 6.97350069735007E-4,
         "concept_code": "788951001",
         "concept_name": "Hemorrhage of digestive system",
         "descendant_concept_id": 37311947
        },
        {
         "ancestor_concept_id": 443392,
         "cohort2_count": 1,
         "cohort2_prevalence": 6.97350069735007E-4,
         "concept_code": "363346000",
         "concept_name": "Malignant neoplastic disease",
         "descendant_concept_id": 443392
        },
        {
         "ancestor_concept_id": 4132555,
         "cohort2_count": 1,
         "cohort2_prevalence": 6.97350069735007E-4,
         "concept_code": "127331007",
         "concept_name": "Neoplasm by body site",
         "descendant_concept_id": 4132555
        },
        {
         "ancestor_concept_id": 4134586,
         "cohort2_count": 1,
         "cohort2_prevalence": 6.97350069735007E-4,
         "concept_code": "128238001",
         "concept_name": "Chronic heart disease",
         "descendant_concept_id": 4134586
        },
        {
         "ancestor_concept_id": 4028253,
         "cohort2_count": 1,
         "cohort2_prevalence": 6.97350069735007E-4,
         "concept_code": "128348002",
         "concept_name": "Neoplasm of digestive system",
         "descendant_concept_id": 4028253
        },
        {
         "ancestor_concept_id": 40491001,
         "cohort2_count": 1,
         "cohort2_prevalence": 6.97350069735007E-4,
         "concept_code": "448675008",
         "concept_name": "Malignant neoplasm of digestive system",
         "descendant_concept_id": 40491001
        },
        {
         "ancestor_concept_id": 43531055,
         "cohort2_count": 1,
         "cohort2_prevalence": 6.97350069735007E-4,
         "concept_code": "609621000",
         "concept_name": "Disorder of perineum",
         "descendant_concept_id": 43531055
        }
       ],
       "_css": "/* PAGE LAYOUT */\n\n.vis-container {\n    /*display: flex;*/\n    /*flex-direction: column;*/\n    align-items: center;\n    width: 100%;\n    /*height: 432px; !* match concepts-row height *!*/\n    overflow: visible; /* hide outer vertical scrollbar */\n}\n\n.row-container {\n    display: flex;\n    justify-content: space-around;\n    width: 100%;\n    height: auto;\n    overflow: hidden;\n    /*margin-bottom: 5px;*/\n}\n\n.col-container {\n    flex: 1;\n    margin: 5px;\n    border: 1px solid black;\n    width: 100%;\n}\n\n/* BAR CHART */\n\n/* overall barchart size */\n.barchart{\n    font-family: sans-serif;\n    font-size: 12px;\n    width: 100%;  /* allows resize to fit the page*/\n    height: auto;\n}\n\n/* BAR CHART STYLES */\n\n/* bars */\n.bar1 {\n    fill: steelblue;\n}\n.bar2 {\n    fill: orange;\n}\n/* axis labels */\n.axis-label {\n    font-family: sans-serif;\n    font-size: 14px;\n}\n/* lines and tick marks */\n.axis path,\n.axis line {\n    fill: none;\n    stroke: black;\n    shape-rendering: crispEdges;\n}\n/* axis text */\n.axis text {\n    font-family: sans-serif;\n    font-size: 14px;\n}\n\n/* CONCEPTS TABLE */\n\n.concepts-row {\n    width: 100%;\n    height: 100%; /* fill vis-container height */\n}\n\n.div-concepts-table-body {\n    margin-top: 0;\n    overflow-y: auto;\n    overflow-x: auto;\n    background-color: #f9f9f9;\n}\n\n.table-body-wrapper {\n    overflow: auto;\n    max-height: 370px; /* header height removed */\n}\n\n.full-width {\n    width: 100%;\n}",
       "_esm": "import * as d3 from 'https://esm.sh/d3@7';\n\n// function initialize({ model }) {\n//     // Set up shared state or event handlers.\n//     return () => {\n//       // Optional: Called when the widget is destroyed.\n//     }\n// } // end initialize\n\nfunction render({ model, el }) {\n    // for testing\n    // alert('hello');\n\n    // DISPATCHERS\n\n    // for handling the concepts table\n    let conceptsTableDispatcher = d3.dispatch('filter','sort');\n\n\n    // <editor-fold desc=\"---------- UTILITY FUNCTIONS ----------\"\n\n    // clears an element\n    function clearElement(element) {\n        element.selectAll('*').remove();\n    }\n\n    // converts timestamp to formatted date 'YYYY-MM-DD'\n    function getIsoDateString(timestamp) {\n        let aDate = new Date(timestamp);\n        return aDate.toISOString().split('T')[0];\n    }\n\n    function isEmptyString(str) {\n        return typeof str === 'string' && str.trim().length === 0;\n    }\n\n    // converts keys to readable words by:\n    // 1. replacing the underscore with a space, and\n    // 2. capitalizing the first letter of each word\n    function makeKeysWords (keys, series1_name, series2_name) {\n        // console.log('keys', keys);\n\n        for (let i = 0; i < keys.length; i++) {\n            keys[i] = keys[i].replace(\"cohort1\", series1_name);\n            keys[i] = keys[i].replace(\"cohort2\", series2_name);\n        }\n\n        return keys.map(key => {\n            return key.split('_')\n                .map(part => part.charAt(0).toUpperCase() + part.slice(1))\n                .join(' ');\n        });\n    }\n\n    // function reduce_transform(data) {\n    //     // validate that data is a non-empty array\n    //     if (!Array.isArray(data) || data.length === 0) {\n    //         throw new Error(\"data must be a non-empty array\");\n    //     }\n    //\n    //     // validate that data contains valid objects\n    //     if (!data[0] || typeof data[0] !== 'object') {\n    //         throw new Error(\"data must contain valid objects\");\n    //     }\n    //\n    //     return Object.keys(data[0]).reduce((acc, key) => {\n    //         acc[key] = data.map(d => d[key]);\n    //         return acc;\n    //     }, {});\n    // }\n\n    // </editor-fold>\n\n    // <editor-fold desc=\"---------- DEFINE DATA ----------\">\n\n    var concepts1 = model.get('_concepts1');\n    var race_stats1 = model.get('_race_stats1');\n    var gender_dist1 = model.get('_gender_dist1');\n    var age_dist1 = model.get('_age_dist1');\n    var cohort1_name = model.get('_cohort1_name');\n\n    var concepts2 = model.get('_concepts2');\n    var race_stats2 = model.get('_race_stats2');\n    var gender_dist2 = model.get('_gender_dist2');\n    var age_dist2 = model.get('_age_dist2');\n    var cohort2_name = model.get('_cohort2_name');\n\n    // </editor-fold>\n\n    // <editor-fold desc=\"---------- VISUAL CONTROL FUNCTIONS ----------\">\n\n    /*\n* draws a search box\n* Parameters:\n*   containerId: type: string - prepended id of container where the control is to be rendered.\n*   dispatch: d3.dispatch instance - user input event handler\n*   label: type: string - label for the control\n*   width: type: string - the width of the input box in pixels\n*   data: type: list of objects - each object should have the keys display (string),\n*                                        and data (anything needed to handle the selection\n*   handleSearch: type: function - callback\n* Return:\n*   div: DOM div element containing input box\n*/\n    function SearchBox(dispatch, label='Search', width=300) {\n        let div = d3.create(\"xhtml:div\")\n            .attr(\"xmlns\", \"http://www.w3.org/1999/xhtml\")\n            .style(\"padding\", \"10px\");\n\n        let input = div.append('input')\n            .attr('type', 'text')\n            .attr('placeholder', label);\n\n        input.on('input', function (event) {\n            dispatch.call('filter', this, event.target.value);  // dispatch filter event\n        });\n\n        return div;\n    }\n\n    // </editor-fold>\n\n    // <editor-fold desc=\"---------- VERTICAL BAR CHART FUNCTIONS ----------\">\n\n    // all parameters are optional at the function signature level, but we are validating within the function\n    function VerticalBarChart(\n        series1,\n        {\n            series2 = { data: null, name: \"cohort 2\" },\n            dimensions: {\n                xlabel = \"\",\n                ylabel = \"\",\n                title = \"\",\n                width = 600,\n                height = 400,\n                margin = { top: 40, right: 10, bottom: 60, left: 80 },\n                padding = 0.1\n            } = {}\n        } = {}\n    ){\n        // validate series1\n        // if (!series1.data) {\n        //     throw new Error(\"VerticalBarChart requires series1.data.\");\n        // }\n        //\n        // // Validate that series1.data is a non-empty array\n        // if (!Array.isArray(series1.data) || series1.data.length === 0) {\n        //     throw new Error(\"series1.data must be a non-empty array\");\n        // }\n\n        let svg = d3.create('svg')\n            .attr('class', 'barchart')\n            .attr('width', width)\n            .attr('height', height)\n            .attr('viewBox', `0 0 ${width} ${height}`)\n            .attr('preserveAspectRatio', 'xMidYMid meet');\n\n        // Combine data for scales\n        const combinedData = series2.data ? series1.data.concat(series2.data) : series1.data;\n\n        // Set up scales\n        const xScale = d3.scaleBand(series1.data.map(d => d.category),\n            [margin.left, width - margin.right])\n            .padding(padding);\n\n        const yScale = d3.scaleLinear([0, d3.max(combinedData, d => d.value)],\n            [height - margin.bottom, margin.top])\n            .nice();\n\n        // Add X-axis\n        svg.append('g')\n            .attr('transform', `translate(0, ${height - margin.bottom})`)\n            .call(d3.axisBottom(xScale))\n            .attr('class', 'axis');\n\n        // x-axis label\n        svg.append('text')\n            .attr('class', 'axis-label')\n            .attr('x', width / 2)\n            .attr('y', height - 20)\n            .style('text-anchor', 'middle')\n            .text(xlabel);\n\n        // Add Y-axis\n        svg.append('g')\n            .attr('transform', `translate(${margin.left}, 0)`)\n            .call(d3.axisLeft(yScale))\n            .attr('class', 'axis');\n\n        // y-axis label\n        svg.append('text')\n            .attr('class', 'axis-label')\n            .attr('transform', 'rotate(-90)')\n            .attr('x', height / 2 * -1)\n            .attr('y', 20)\n            .attr('text-anchor', 'middle')\n            .text(ylabel);\n\n        if (title === '' && xlabel !== ''){\n            title = xlabel + ' Distribution';\n        }\n\n        svg.append('text')\n            .attr('class', 'chart-title')\n            .attr('text-anchor', 'middle')\n            .attr('x', width / 2)\n            .attr('y', margin.top / 2)\n            .text(title);\n\n        // console.log(xScale.bandwidth());\n\n        // series 1 bars\n        svg.selectAll('.bar1')\n            .data(series1.data)\n            .enter()\n            .append('rect')\n            .attr('class', 'bar1')\n            .attr('x', d => series2.data && series2.data.length > 0 ? xScale(d.category) : xScale(d.category))\n            .attr('y', d => yScale(d.value))\n            .attr('width', series2.data && series2.data.length > 0 ? xScale.bandwidth() / 2 : xScale.bandwidth())\n            .attr('height', d => height - margin.bottom - yScale(d.value));\n\n        if (series2.data && series2.data.length > 0) {\n            // series 2 data bars\n            svg.selectAll('.bar2')\n                .data(series2.data)\n                .enter()\n                .append('rect')\n                .attr('class', 'bar2')\n                .attr('x', d => xScale(d.category) + xScale.bandwidth() / 2)\n                .attr('y', d => yScale(d.value))\n                .attr('width', xScale.bandwidth() / 2)\n                .attr('height', d => height - margin.bottom - yScale(d.value));\n\n            // Add labels for series 2 data\n            svg.selectAll('.label2')\n                .data(series2.data)\n                .enter()\n                .append('text')\n                .attr('class', 'label2')\n                .attr('x', d => xScale(d.category) + xScale.bandwidth() / 2 + xScale.bandwidth() / 4) // CHANGED: Fixed positioning\n                .attr('y', d => yScale(d.value) - 5)\n                .attr('text-anchor', 'middle')\n                .text(d => d.value);\n\n            // labels for series 1 data if there are 2 datasets\n            svg.selectAll('.label1')\n                .data(series1.data)\n                .enter()\n                .append('text')\n                .attr('class', 'label1')\n                .attr('x', d => xScale(d.category) + xScale.bandwidth() / 4) // CHANGED: Fixed positioning\n                .attr('y', d => yScale(d.value) - 5)\n                .attr('text-anchor', 'middle')\n                .text(d => d.value);\n\n            // only show legend if there are 2 datasets\n            const legend_data = [\n                { label: series1.name, color: 'steelblue' },\n                { label: series2.name, color: 'orange' }\n            ];\n\n            const legend = svg.append('g')\n                .attr('class', 'legend')\n                .attr('transform', `translate(${margin.left}, ${height - 20})`);\n\n            // Grouped approach: create a group for each legend item\n            const legend_items = legend.selectAll('.legend-item')\n                .data(legend_data)\n                .enter()\n                .append('g')\n                .attr('class', 'legend-item')\n                .attr('transform', (d, i) => `translate(${i * 120}, 0)`);\n\n            // Add rectangle to each legend item group\n            legend_items.append('rect')\n                .attr('x', 0)\n                .attr('y', 0)\n                .attr('width', 18)\n                .attr('height', 18)\n                .attr('fill', d => d.color);\n\n            // Add text to each legend item group\n            legend_items.append('text')\n                .attr('x', 24)\n                .attr('y', 14) // Middle of 18px rect\n                .style('font-family', 'Arial, sans-serif')\n                .style('font-size', '14px')\n                .style('fill', 'black')\n                .style('dominant-baseline', 'middle')\n                .text(d => d.label);\n        }\n        else{\n            // labels for series 1 data if there is 1 dataset\n            svg.selectAll('.label1')\n                .data(series1.data)\n                .enter()\n                .append('text')\n                .attr('class', 'label1')\n                .attr('x', d => xScale(d.category) + xScale.bandwidth() / 2 + 5)\n                .attr('y', d => yScale(d.value) - 5)\n                .attr('text-anchor', 'middle')\n                .text(d => d.value);\n        }\n\n        return svg;\n    }\n\n    // </editor-fold>\n\n    // <editor-fold desc=\"---------- CONCEPTS TABLE FUNCTIONS ----------\">\n\n    function ConceptsTable(\n        series1, dispatch,\n        {\n            series2 = { data: null, name: \"baseline\" },\n            dimensions = { height: 432, row_height: 30 }\n        } = {}\n    ){\n        function prepareConceptsCompareData(data1, data2) {\n\n            // console.log('concepts1', data1)\n            // console.log('concepts2', data2)\n\n            let mergedList = data1.map(item1 => {\n                const item2 = data2.find(item => item.concept_code === item1.concept_code);\n                return Object.assign({}, item1, item2);\n            });\n\n            // Add a key-value pair based on a calculation (e.g., double the age)\n            mergedList = mergedList.map(item => {\n                item.difference_in_prevalence = (item.cohort1_prevalence ?? 0) - (item.cohort2_prevalence ?? 0);\n\n                item.bias = Math.abs(item.difference_in_prevalence);\n                delete item.cohort1_count;\n                delete item.cohort2_count;\n                delete item.ancestor_concept_id;\n                delete item.descendant_concept_id;\n                return item;\n            });\n\n            const order = ['concept_code', 'concept_name', 'cohort2_prevalence', 'difference_in_prevalence',\n                'cohort1_prevalence', 'bias'];\n\n            mergedList = mergedList.map(item => {\n                const rearrangedItem = {};\n                order.forEach(key => {\n                    if (item.hasOwnProperty(key)) {\n                        rearrangedItem[key] = item[key];\n                    }\n                });\n                return rearrangedItem;\n            });\n\n            // mergedList.sort((a, b) => b.bias - a.bias);\n            // mergedList.sort((a, b) => b.bias - a.bias);\n\n            // console.log('mergedList', mergedList);\n\n            return mergedList;\n        }\n\n        function handleFilterConcepts(dispatch, row, body_svg) {\n            dispatch.on(\"filter\", search_term => {\n                const normalized = search_term.toLowerCase().replace(/[^a-z0-9]/g, \"\");\n                row.style(\"display\", null);\n                row.filter(d => {\n                    const code = d.concept_code.toLowerCase();\n                    const name = d.concept_name.toLowerCase().replace(/[^a-z0-9]/g, \"\");\n                    return !(code.startsWith(normalized) || name.includes(normalized));\n                }).style(\"display\", \"none\");\n\n                // Recompute Y positions for visible rows\n                let yOffset = 0;\n                row.filter(function () {\n                    return d3.select(this).style(\"display\") !== \"none\";\n                })\n                    .each(function () {\n                        d3.select(this).attr(\"transform\", `translate(0, ${yOffset})`);\n                        yOffset += parseFloat(d3.select(this).select(\"rect\").attr(\"height\"));\n                    });\n                body_svg.attr(\"height\", yOffset);\n            });\n        }\n\n\n        // ==== Validation for required params ====\n        if (series1 === null || series1.data === null) {\n            throw new Error(\"ConceptsTable requires at least one cohort.\");\n        }\n\n        if (isEmptyString(series1.name)) {\n            series1.name = 'study cohort';\n        }\n\n        if (\n            !dispatch ||\n            typeof dispatch !== \"object\" ||\n            typeof dispatch.call !== \"function\" ||\n            typeof dispatch.on !== \"function\"\n        ) {\n            throw new Error(\"ConceptsTable requires a valid d3.dispatch object.\");\n        }\n\n        // ==== Validate optional params ====\n        if (series2 !== null && series2.data !== null && !Array.isArray(series2.data)) {\n            console.warn(\"ConceptsTable: Series 2 data should be an array (or null).\");\n        }\n\n        if (typeof dimensions !== \"object\" || dimensions === null) {\n            throw new Error(\"ConceptsTable: 'dimensions' must be an object.\");\n        }\n\n        let table_data;\n        if (series2.data !== null) {\n            table_data = prepareConceptsCompareData(series1.data, series2.data);\n        } else {\n            table_data = series1.data;\n        }\n\n        // console.log('table_data', table_data);\n\n        const text_offset_x = 10;\n        const { height, row_height } = dimensions;\n\n        // === container with scroll ===\n        const container = d3.create(\"div\")\n            .style(\"width\", \"100%\")\n            .style(\"max-height\", height + \"px\")\n            .style(\"overflow\", \"auto\")\n            .style(\"position\", \"relative\")\n            .style(\"border\", \"1px solid #ccc\")\n            .style(\"font-family\", \"sans-serif\");\n\n        // === HEADERS ===\n\n        const headers_text = makeKeysWords(Object.keys(table_data[0]), series1.name, series2.name);\n        if (!table_data.length) {\n            throw new Error(\"ConceptsTable: table_data is empty.\");\n        }\n\n        // TODO: I have assumed a maximum drawing area width of about 1070px. We may need to change this so that we get\n        //       the available canvas size and dynamically resize the visualization accordingly.\n        let columns_data;\n        if(series2.data === null){\n            columns_data = [\n                { text: headers_text[1], field: \"concept_code\", x: 0, width: 160 },\n                { text: headers_text[0], field: \"concept_name\", x: 160, width: 590 },\n                { text: headers_text[2], field: \"count_in_cohort\", x: 750, width: 160 },\n                { text: headers_text[3],\n                    field: d => (d.prevalence !== null ? d.prevalence.toFixed(3) : \"\"), x: 910, width: 160 }\n            ];\n        }\n        else{\n            columns_data = [\n                { text: headers_text[0], field: \"concept_code\", x: 0, width: 160, type: 'text' },\n                { text: headers_text[1], field: \"concept_name\", x: 160, width: 350, type: 'text' },\n                { text: headers_text[2],\n                    field: d => (d.cohort2_prevalence !== null ? d.cohort2_prevalence.toFixed(3) : \"\"),\n                    x: 510, width: 160, type: 'text' },\n                { text: headers_text[3], field: \"difference_in_prevalence\", x: 670, width: 240, type: 'compare_bars' },\n                { text: headers_text[4],\n                    field: d => (d.cohort1_prevalence !== null ? d.cohort1_prevalence.toFixed(3) : \"\"),\n                    x: 910, width: 160, type: 'text' }\n                // ,{ text: headers_text[5], field: \"bias\", x: 950, width: 120, type: 'bar' }\n            ];\n        }\n\n        const total_table_width = d3.sum(columns_data, d => d.width);\n\n        const headers_svg = container.append(\"svg\")\n            .attr(\"width\", total_table_width)\n            .attr(\"height\", row_height)\n            .style(\"position\", \"sticky\")\n            .style(\"top\", 0)\n            .style(\"background\", \"white\")\n            .style(\"z-index\", 1);\n\n        const headers_g = headers_svg.append(\"g\");\n\n        const header_g = headers_g.selectAll(\"g\")\n            .data(columns_data)\n            .enter()\n            .append(\"g\")\n            .attr(\"transform\", d => `translate(${d.x},0)`);\n\n        header_g.append(\"rect\")\n            .attr(\"width\", d => d.width)\n            .attr(\"height\", row_height)\n            .attr(\"fill\", \"#d0d0d0\")\n            .attr(\"stroke\", \"#fff\")\n            .style(\"cursor\", \"pointer\")\n            .on(\"click\", function(event, d) {\n                handleSort(d);\n            });\n\n        header_g.append(\"text\")\n            .attr(\"x\", text_offset_x)\n            .attr(\"y\", row_height / 2)\n            .attr(\"dy\", \"0.35em\")\n            .attr(\"text-anchor\", \"start\")\n            .style(\"cursor\", \"pointer\")\n            .style(\"pointer-events\", \"all\")\n            .text(d => d.text)\n            .on(\"click\", function(event, d) {\n                event.stopPropagation(); // Prevent header rect click\n                handleSort(d);\n            });\n\n        // Add sort indicators\n        header_g.append(\"text\")\n            .attr(\"class\", \"sort-indicator\")\n            .attr(\"x\", d => d.width - 15)\n            .attr(\"y\", row_height / 2)\n            .attr(\"dy\", \"0.35em\")\n            .attr(\"text-anchor\", \"middle\")\n            .attr(\"font-size\", \"12px\")\n            .attr(\"fill\", \"#666\")\n            .style(\"cursor\", \"pointer\")\n            .style(\"pointer-events\", \"all\")\n            .text(\"\")\n            .on(\"click\", function(event, d) {\n                event.stopPropagation(); // Prevent header click\n                handleSort(d);\n            });\n\n        // Function to handle sorting logic\n        function handleSort(d, skipToggle = false) {\n            // Toggle sort direction (unless we're initializing)\n            if (!skipToggle) {\n                if (d.sortDirection === \"asc\") {\n                    d.sortDirection = \"desc\";\n                } else {\n                    d.sortDirection = \"asc\";\n                }\n            }\n\n            // Clear other column sort indicators\n            columns_data.forEach(col => {\n                if (col !== d) {\n                    col.sortDirection = null;\n                }\n            });\n\n            // Dispatch sort event\n            dispatch.call(\"sort\", null, {\n                column: d.field,\n                direction: d.sortDirection,\n                columnData: d\n            });\n\n            // Update sort indicators using D3 data join\n            const sortIndicators = headers_g.selectAll(\".sort-indicator\")\n                .data(columns_data);\n\n            sortIndicators\n                .text(col => {\n                    if (col.sortDirection === \"asc\") return \"▲\";\n                    if (col.sortDirection === \"desc\") return \"▼\";\n                    return \"\";\n                });\n\n            // Sort the data\n            table_data.sort((a, b) => {\n                let aVal, bVal;\n\n                if (typeof d.field === \"function\") {\n                    aVal = d.field(a);\n                    bVal = d.field(b);\n                } else {\n                    aVal = a[d.field];\n                    bVal = b[d.field];\n                }\n\n                // Handle null/undefined values\n                if (aVal === null || aVal === undefined) aVal = \"\";\n                if (bVal === null || bVal === undefined) bVal = \"\";\n\n                // Convert to numbers if they look numeric\n                if (!isNaN(aVal) && !isNaN(bVal) && aVal !== \"\" && bVal !== \"\") {\n                    aVal = parseFloat(aVal);\n                    bVal = parseFloat(bVal);\n                }\n\n                let comparison = 0;\n                if (aVal < bVal) comparison = -1;\n                if (aVal > bVal) comparison = 1;\n\n                return d.sortDirection === \"desc\" ? -comparison : comparison;\n            });\n\n            // Re-render the table body with sorted data\n            updateTableBody();\n        }\n\n        // === Column resizing handle ===\n        header_g.append(\"rect\")\n            .attr(\"class\", \"resize-handle\")\n            .attr(\"x\", d => d.width - 5)\n            .attr(\"y\", 0)\n            .attr(\"width\", 5)\n            .attr(\"height\", row_height)\n            .style(\"cursor\", \"col-resize\")\n            .style(\"fill\", \"transparent\")\n            .call(d3.drag()\n                .on(\"start\", function(event, d) {\n                    d.startWidth = d.width;       // store starting width\n                    d.startX = event.x;           // store starting mouse X\n                })\n                .on(\"drag\", function(event, d) {\n                    const dx = event.x - d.startX;           // change in mouse X\n                    const newWidth = Math.max(30, d.startWidth + dx); // minimum width 30\n                    d.width = newWidth;\n\n                    // Update header rect\n                    d3.select(this.parentNode).select(\"rect\").attr(\"width\", newWidth);\n                    // Update resize handle position\n                    d3.select(this).attr(\"x\", newWidth - 5);\n\n                    // Recalculate x positions for all columns after this one\n                    let x = 0;\n                    columns_data.forEach(col => {\n                        col.x = x;\n                        x += col.width;\n                    });\n\n                    // Update header positions\n                    headers_g.selectAll(\"g\").attr(\"transform\", col => `translate(${col.x},0)`);\n\n                    // Update body cell positions and widths using D3 selections\n                    body_svg.selectAll(\".row\").each(function() {\n                        d3.select(this).selectAll(\".cell\")\n                            .data(columns_data)\n                            .attr(\"transform\", col => `translate(${col.x},0)`)\n                            .select(\".cell-bg\")\n                            .attr(\"width\", col => col.width);\n                    });\n\n                    // Update body and header SVG width\n                    const totalWidth = d3.sum(columns_data, c => c.width);\n                    body_svg.attr(\"width\", totalWidth);\n                    headers_svg.attr(\"width\", totalWidth);\n                })\n            );\n\n        // === BODY ===\n\n        const body_svg = container.append(\"svg\")\n            .attr(\"width\", total_table_width)\n            .attr(\"height\", table_data.length * row_height);\n\n        const rows_g = body_svg.append(\"g\");\n\n        let max_bias, max_diff, margin = 5;\n        if (series2.data !== null) {\n            max_bias = d3.max(table_data, d => Math.abs(d.bias)) || 0;\n            max_diff = d3.max(table_data, d => Math.abs(d.difference_in_prevalence)) || 0;\n        }\n\n        const biasScale = d3.scaleLinear();\n        const barScale = d3.scaleLinear();\n        let zeroX, g, outerHeight, innerY, innerH;\n\n        function updateTableBody() {\n            // D3 data join pattern: select, data, enter/update/exit\n            const rows = rows_g.selectAll(\".row\")\n                .data(table_data, d => d.concept_code || Math.random()); // Use concept_code as key if available\n\n            // Remove exiting rows\n            rows.exit().remove();\n\n            // Add new rows\n            const rowsEnter = rows.enter()\n                .append(\"g\")\n                .attr(\"class\", \"row\");\n\n            // Merge enter and update selections\n            const rowsUpdate = rowsEnter.merge(rows);\n\n            // Update positions with transition\n            rowsUpdate\n                .transition()\n                .duration(300)\n                .attr(\"transform\", (d, i) => `translate(0, ${i * row_height})`);\n\n            // Render cells for new rows only\n            renderTableCells(rowsEnter);\n\n            handleFilterConcepts(dispatch, rowsUpdate, body_svg);\n        }\n\n        function renderTableCells(row) {\n            // per-row, per-column cells\n            columns_data.forEach(col => {\n                const cell = row.append(\"g\")\n                    .attr(\"class\", \"cell\")\n                    .attr(\"transform\", `translate(${col.x},0)`);\n\n                cell.append(\"rect\")\n                    .attr(\"class\", \"cell-bg\")\n                    .attr(\"width\", col.width)\n                    .attr(\"height\", row_height)\n                    .attr(\"fill\", \"#f0f0f0\")\n                    .attr(\"stroke\", \"#ccc\");\n\n                if (series2.data === null) {\n                    cell.append(\"text\")\n                        .attr(\"x\", text_offset_x)\n                        .attr(\"y\", row_height / 2)\n                        .attr(\"dy\", \"0.35em\")\n                        .attr(\"text-anchor\", \"start\")\n                        .text(row_data => {\n                            const val = typeof col.field === \"function\" ? col.field(row_data) : row_data[col.field];\n                            return val !== null ? val : \"\";\n                        });\n                } else {\n                    switch (col.type) {\n                        case \"text\":\n                            cell.append(\"text\")\n                                .attr(\"x\", text_offset_x)\n                                .attr(\"y\", row_height / 2)\n                                .attr(\"dy\", \"0.35em\")\n                                .attr(\"text-anchor\", \"start\")\n                                .text(row_data => {\n                                    const val = typeof col.field === \"function\" ? col.field(row_data) : row_data[col.field];\n                                    return val !== null ? val : \"\";\n                                });\n                            break;\n\n                        case \"bar\":\n                            biasScale\n                                .domain([0, max_bias || 1])\n                                .range([margin, col.width - margin]);  // full available space inside cell\n\n                            cell.each(function (row_data) {\n                                g = d3.select(this);\n                                outerHeight = row_height;\n                                innerY = margin;\n                                innerH = outerHeight - 2 * margin;\n\n                                // Bar: left-aligned, scaled to bias value\n                                g.append(\"rect\")\n                                    .attr(\"x\", 0)\n                                    .attr(\"y\", innerY)\n                                    .attr(\"width\", biasScale(Math.abs(row_data.bias)))\n                                    .attr(\"height\", innerH)\n                                    .attr(\"fill\", \"lightslategrey\");\n\n                                // Text: show the bias value\n                                g.append(\"text\")\n                                    .attr(\"x\", 4)  // small left inset\n                                    .attr(\"y\", outerHeight / 2 + 4)\n                                    .attr(\"font-size\", \"10px\")\n                                    .attr(\"fill\", \"black\")\n                                    .text(row_data.bias !== null ? row_data.bias.toFixed(3) : \"\");\n                            });\n                            break;\n\n                        case \"compare_bars\":\n                            barScale\n                                .domain([-max_diff || -1, max_diff || 1])\n                                .range([margin, col.width - margin]);  // full available space inside cell\n\n                            zeroX = barScale(0);\n\n                            cell.each(function (row_data) {\n                                g = d3.select(this);\n                                outerHeight = row_height;\n                                innerY = 5;\n                                innerH = outerHeight - 2 * margin;\n\n                                // Bar\n                                g.append(\"rect\")\n                                    .attr(\"x\", Math.min(zeroX, barScale(row_data.difference_in_prevalence)))\n                                    .attr(\"y\", innerY)\n                                    .attr(\"width\", Math.abs(barScale(row_data.difference_in_prevalence) - zeroX))\n                                    .attr(\"height\", innerH)\n                                    .attr(\"fill\", row_data.difference_in_prevalence < 0 ? \"orange\" : \"steelblue\");\n\n                                // Text label - positioned based on value sign\n                                const textX = row_data.difference_in_prevalence >= 0 ?\n                                    Math.min(zeroX, barScale(row_data.difference_in_prevalence)) - 5 : // Left of positive bars\n                                    Math.max(zeroX, barScale(row_data.difference_in_prevalence)) + 5;  // Right of negative bars\n\n                                const textAnchor = row_data.difference_in_prevalence >= 0 ? \"end\" : \"start\";\n\n                                g.append(\"text\")\n                                    .attr(\"x\", textX)\n                                    .attr(\"y\", row_height / 2 + 4)\n                                    .attr(\"text-anchor\", textAnchor)\n                                    .attr(\"font-size\", \"10px\")\n                                    .text(row_data.difference_in_prevalence !== null ? row_data.difference_in_prevalence.toFixed(3) : \"\");\n\n                            });\n                            break;\n\n                        default:\n                            throw new Error(`Unknown column type: ${col.type}`);\n                    }\n                }\n            });\n        }\n\n        // Initial render\n        const row = rows_g.selectAll(\".row\")\n            .data(table_data)\n            .enter()\n            .append(\"g\")\n            .attr(\"class\", \"row\")\n            .attr(\"transform\", (d, i) => `translate(0, ${i * row_height})`);\n\n        renderTableCells(row);\n\n        // Initialize with descending sort on difference_in_prevalence if we have comparison data\n        // or on prevalence for single dataset tables\n        if (series2.data !== null) {\n            const diffColumn = columns_data.find(col => col.field === \"difference_in_prevalence\");\n            if (diffColumn) {\n                diffColumn.sortDirection = \"desc\";\n                handleSort(diffColumn, true); // Skip toggle for initialization\n            }\n        } else {\n            // For single dataset, sort by prevalence (which uses a function field)\n            const prevalenceColumn = columns_data.find(col =>\n                typeof col.field === \"function\" && col.field.toString().includes(\"prevalence\")\n            );\n            if (prevalenceColumn) {\n                prevalenceColumn.sortDirection = \"desc\";\n                handleSort(prevalenceColumn, true); // Skip toggle for initialization\n            }\n        }\n\n        handleFilterConcepts(dispatch, row, body_svg);\n\n        return container;\n    }\n\n    // </editor-fold>\n\n    // <editor-fold desc=\"---------- PAGE LAYOUT ----------\">\n\n    // overall container\n    let vis_container = document.createElementNS('http://www.w3.org/1999/xhtml', 'div');\n    vis_container.setAttribute('class', 'vis-container');\n\n    // demographics container row\n    let demographics_row = vis_container.appendChild(document.createElement('div'));\n    demographics_row.setAttribute('class', 'row-container');\n    // gender container\n    let div_gender = demographics_row.appendChild(document.createElement('div'));\n    div_gender.setAttribute('class', 'col-container');\n    // race container\n    let div_race = demographics_row.appendChild(document.createElement('div'));\n    div_race.setAttribute('class', 'col-container');\n    // age container\n    let div_age = demographics_row.appendChild(document.createElement('div'));\n    div_age.setAttribute('class', 'col-container');\n\n    // concepts container row\n    let concepts_row = vis_container.appendChild(document.createElement('div'));\n    concepts_row.setAttribute('class', 'row-container concepts-row');\n    // concepts container\n    let div_concepts_container = concepts_row.appendChild(document.createElement('div'));\n    div_concepts_container.setAttribute('class', 'col-container');\n\n    // </editor-fold>\n\n    // <editor-fold desc=\"---------- INSERT THE VISUALIZATIONS ----------\">\n\n    // draw the gender barchart\n    // console.log('gender_dist1', JSON.stringify(gender_dist1, null, 2));\n    // console.log('gender_dist2', JSON.stringify(gender_dist2, null, 2));\n    div_gender.appendChild(\n        VerticalBarChart({data: gender_dist1, name: cohort1_name},\n            {series2: {data: gender_dist2, name: cohort2_name}, dimensions: {xlabel: 'Gender'}}).node());\n\n    // draw the race barchart\n    // console.log('race_stats1', JSON.stringify(race_stats1, null, 2));\n    // console.log('race_stats2', JSON.stringify(race_stats2, null, 2));\n    div_race.appendChild(\n        VerticalBarChart({data: race_stats1, name: cohort1_name},\n            {series2: {data: race_stats2, name: cohort2_name}, dimensions: {xlabel: 'Race'}}).node());\n\n    // draw the age barchart\n    // console.log('age_dist1', JSON.stringify(age_dist1, null, 2));\n    // console.log('age_dist2', JSON.stringify(age_dist2, null, 2));\n    div_age.appendChild(\n        VerticalBarChart({data: age_dist1, name: cohort1_name},\n            {series2: {data: age_dist2, name: cohort2_name}, dimensions: {xlabel: 'Age'}}).node());\n\n    // draw the concepts table search box\n    div_concepts_container.appendChild(\n        SearchBox(conceptsTableDispatcher).node());\n\n    // if there is only one set of concepts, draw a single cohort concepts table\n    if(Object.keys(concepts2).length === 0) {\n        // draw the concepts table\n        div_concepts_container.appendChild(\n            ConceptsTable({data: concepts1, name: cohort1_name}, conceptsTableDispatcher).node());\n    }\n    else{\n        div_concepts_container.appendChild(\n            ConceptsTable({data: concepts1, name: cohort1_name}, conceptsTableDispatcher,\n                {series2: {data: concepts2, name: cohort2_name}}).node());\n    }\n\n    // attach the visualization to the AnyWidget element\n    el.appendChild(vis_container);\n\n    // </editor-fold>\n\n    // return () => {\n    //   // Optional: Called when the view is destroyed.\n    // }\n\n} // end render\n\n// export default async () => {\n//   let extraState = {};\n//   return {\n//     initialize({ model }) { /* ... */ },\n//     render({ model, el }) { /* ... */ },\n//   }\n// }\n\nexport default { render };\n",
       "_gender_dist1": [
        {
         "category": "female",
         "probability": 0,
         "value": 0
        },
        {
         "category": "male",
         "probability": 100,
         "value": 798
        },
        {
         "category": "other",
         "probability": 0,
         "value": 0
        }
       ],
       "_gender_dist2": [
        {
         "category": "female",
         "probability": 40.93,
         "value": 587
        },
        {
         "category": "male",
         "probability": 59.07,
         "value": 847
        },
        {
         "category": "other",
         "probability": 0,
         "value": 0
        }
       ],
       "_model_module": "anywidget",
       "_model_module_version": "~0.9.*",
       "_model_name": "AnyModel",
       "_race_stats1": [
        {
         "category": "Other",
         "probability": 0.01,
         "value": 5
        },
        {
         "category": "Asian",
         "probability": 0.09,
         "value": 73
        },
        {
         "category": "Black or African American",
         "probability": 0.07,
         "value": 59
        },
        {
         "category": "White",
         "probability": 0.83,
         "value": 661
        }
       ],
       "_race_stats2": [
        {
         "category": "Other",
         "probability": 0.01,
         "value": 8
        },
        {
         "category": "Asian",
         "probability": 0.08,
         "value": 121
        },
        {
         "category": "Black or African American",
         "probability": 0.08,
         "value": 110
        },
        {
         "category": "White",
         "probability": 0.83,
         "value": 1195
        }
       ],
       "_view_module": "anywidget",
       "_view_module_version": "~0.9.*",
       "_view_name": "AnyView",
       "initialized": true,
       "layout": "IPY_MODEL_14efbf371984466980d7bc8e2bf614e2"
      }
     },
     "912ee09137474ebbbee12a64c7e29a52": {
      "model_module": "@jupyter-widgets/base",
      "model_module_version": "2.0.0",
      "model_name": "LayoutModel",
      "state": {}
     },
     "bc6993d1bd5e4edf8e09dbfc9aaaaae8": {
      "model_module": "anywidget",
      "model_module_version": "~0.9.*",
      "model_name": "AnyModel",
      "state": {
       "_age_dist1": [
        {
         "category": "0-10",
         "probability": 0.0042,
         "value": 6
        },
        {
         "category": "11-20",
         "probability": 0.0049,
         "value": 7
        },
        {
         "category": "21-30",
         "probability": 0.0432,
         "value": 62
        },
        {
         "category": "31-40",
         "probability": 0.0384,
         "value": 55
        },
        {
         "category": "41-50",
         "probability": 0.0523,
         "value": 75
        },
        {
         "category": "51-60",
         "probability": 0.1464,
         "value": 210
        },
        {
         "category": "61-70",
         "probability": 0.182,
         "value": 261
        },
        {
         "category": "71-80",
         "probability": 0.2322,
         "value": 333
        },
        {
         "category": "81-90",
         "probability": 0.1897,
         "value": 272
        },
        {
         "category": "91+",
         "probability": 0.1067,
         "value": 153
        }
       ],
       "_age_dist2": [],
       "_anywidget_id": "CohortWidget.CohortWidget",
       "_cohort1_name": "study",
       "_cohort2_name": "baseline cohort",
       "_concepts1": [
        {
         "ancestor_concept_id": 4227253,
         "concept_code": "406123005",
         "concept_name": "Viscus structure finding",
         "count_in_cohort": 1434,
         "descendant_concept_id": 4227253,
         "prevalence": 1
        },
        {
         "ancestor_concept_id": 4042140,
         "concept_code": "118234003",
         "concept_name": "Finding by site",
         "count_in_cohort": 1434,
         "descendant_concept_id": 4042140,
         "prevalence": 1
        },
        {
         "ancestor_concept_id": 43531057,
         "concept_code": "609623002",
         "concept_name": "Finding of upper trunk",
         "count_in_cohort": 1434,
         "descendant_concept_id": 43531057,
         "prevalence": 1
        },
        {
         "ancestor_concept_id": 134057,
         "concept_code": "49601007",
         "concept_name": "Disorder of cardiovascular system",
         "count_in_cohort": 1434,
         "descendant_concept_id": 134057,
         "prevalence": 1
        },
        {
         "ancestor_concept_id": 4024552,
         "concept_code": "105981003",
         "concept_name": "Disorder of cardiac function",
         "count_in_cohort": 1434,
         "descendant_concept_id": 4024552,
         "prevalence": 1
        },
        {
         "ancestor_concept_id": 321588,
         "concept_code": "56265001",
         "concept_name": "Heart disease",
         "count_in_cohort": 1434,
         "descendant_concept_id": 321588,
         "prevalence": 1
        },
        {
         "ancestor_concept_id": 43531056,
         "concept_code": "609622007",
         "concept_name": "Disorder of thoracic segment of trunk",
         "count_in_cohort": 1434,
         "descendant_concept_id": 43531056,
         "prevalence": 1
        },
        {
         "ancestor_concept_id": 4047779,
         "concept_code": "123946008",
         "concept_name": "Disorder by body site",
         "count_in_cohort": 1434,
         "descendant_concept_id": 4047779,
         "prevalence": 1
        },
        {
         "ancestor_concept_id": 440142,
         "concept_code": "49483002",
         "concept_name": "Disorder of mediastinum",
         "count_in_cohort": 1434,
         "descendant_concept_id": 440142,
         "prevalence": 1
        },
        {
         "ancestor_concept_id": 4274025,
         "concept_code": "64572001",
         "concept_name": "Disease",
         "count_in_cohort": 1434,
         "descendant_concept_id": 4274025,
         "prevalence": 1
        },
        {
         "ancestor_concept_id": 4117930,
         "concept_code": "302292003",
         "concept_name": "Finding of trunk structure",
         "count_in_cohort": 1434,
         "descendant_concept_id": 4117930,
         "prevalence": 1
        },
        {
         "ancestor_concept_id": 4028071,
         "concept_code": "128121009",
         "concept_name": "Disorder of trunk",
         "count_in_cohort": 1434,
         "descendant_concept_id": 4028071,
         "prevalence": 1
        },
        {
         "ancestor_concept_id": 4185503,
         "concept_code": "298705000",
         "concept_name": "Finding of region of thorax",
         "count_in_cohort": 1434,
         "descendant_concept_id": 4185503,
         "prevalence": 1
        },
        {
         "ancestor_concept_id": 4199402,
         "concept_code": "301857004",
         "concept_name": "Finding of body region",
         "count_in_cohort": 1434,
         "descendant_concept_id": 4199402,
         "prevalence": 1
        },
        {
         "ancestor_concept_id": 4103183,
         "concept_code": "301095005",
         "concept_name": "Cardiac finding",
         "count_in_cohort": 1434,
         "descendant_concept_id": 4103183,
         "prevalence": 1
        },
        {
         "ancestor_concept_id": 316139,
         "concept_code": "84114007",
         "concept_name": "Heart failure",
         "count_in_cohort": 1434,
         "descendant_concept_id": 316139,
         "prevalence": 1
        },
        {
         "ancestor_concept_id": 4043346,
         "concept_code": "118946009",
         "concept_name": "Disorder of thorax",
         "count_in_cohort": 1434,
         "descendant_concept_id": 4043346,
         "prevalence": 1
        },
        {
         "ancestor_concept_id": 4115390,
         "concept_code": "301296002",
         "concept_name": "Mediastinal finding",
         "count_in_cohort": 1434,
         "descendant_concept_id": 4115390,
         "prevalence": 1
        },
        {
         "ancestor_concept_id": 441840,
         "concept_code": "404684003",
         "concept_name": "Clinical finding",
         "count_in_cohort": 1434,
         "descendant_concept_id": 441840,
         "prevalence": 1
        },
        {
         "ancestor_concept_id": 4180628,
         "concept_code": "362965005",
         "concept_name": "Disorder of body system",
         "count_in_cohort": 1434,
         "descendant_concept_id": 4180628,
         "prevalence": 1
        },
        {
         "ancestor_concept_id": 4023995,
         "concept_code": "106063007",
         "concept_name": "Cardiovascular finding",
         "count_in_cohort": 1434,
         "descendant_concept_id": 4023995,
         "prevalence": 1
        },
        {
         "ancestor_concept_id": 443883,
         "concept_code": "2704003",
         "concept_name": "Acute disease",
         "count_in_cohort": 1341,
         "descendant_concept_id": 443883,
         "prevalence": 0.9351464435146444
        },
        {
         "ancestor_concept_id": 4024567,
         "concept_code": "106048009",
         "concept_name": "Respiratory finding",
         "count_in_cohort": 1227,
         "descendant_concept_id": 4024567,
         "prevalence": 0.8556485355648535
        },
        {
         "ancestor_concept_id": 320136,
         "concept_code": "50043002",
         "concept_name": "Disorder of respiratory system",
         "count_in_cohort": 1227,
         "descendant_concept_id": 320136,
         "prevalence": 0.8556485355648535
        },
        {
         "ancestor_concept_id": 4006969,
         "concept_code": "111273006",
         "concept_name": "Acute respiratory disease",
         "count_in_cohort": 1227,
         "descendant_concept_id": 4006969,
         "prevalence": 0.8556485355648535
        },
        {
         "ancestor_concept_id": 4041664,
         "concept_code": "230145002",
         "concept_name": "Difficulty breathing",
         "count_in_cohort": 1226,
         "descendant_concept_id": 4041664,
         "prevalence": 0.8549511854951185
        },
        {
         "ancestor_concept_id": 4115260,
         "concept_code": "301230006",
         "concept_name": "Lung finding",
         "count_in_cohort": 1226,
         "descendant_concept_id": 4115260,
         "prevalence": 0.8549511854951185
        },
        {
         "ancestor_concept_id": 4195694,
         "concept_code": "67782005",
         "concept_name": "Acute respiratory distress syndrome",
         "count_in_cohort": 1226,
         "descendant_concept_id": 4195694,
         "prevalence": 0.8549511854951185
        },
        {
         "ancestor_concept_id": 4040388,
         "concept_code": "118654009",
         "concept_name": "Disorder characterized by edema",
         "count_in_cohort": 1226,
         "descendant_concept_id": 4040388,
         "prevalence": 0.8549511854951185
        },
        {
         "ancestor_concept_id": 433595,
         "concept_code": "267038008",
         "concept_name": "Edema",
         "count_in_cohort": 1226,
         "descendant_concept_id": 433595,
         "prevalence": 0.8549511854951185
        },
        {
         "ancestor_concept_id": 4199409,
         "concept_code": "301867009",
         "concept_name": "Edema of trunk",
         "count_in_cohort": 1226,
         "descendant_concept_id": 4199409,
         "prevalence": 0.8549511854951185
        },
        {
         "ancestor_concept_id": 4119786,
         "concept_code": "233703007",
         "concept_name": "Interstitial lung disease",
         "count_in_cohort": 1226,
         "descendant_concept_id": 4119786,
         "prevalence": 0.8549511854951185
        },
        {
         "ancestor_concept_id": 4027553,
         "concept_code": "128272009",
         "concept_name": "Disorder of lower respiratory system",
         "count_in_cohort": 1226,
         "descendant_concept_id": 4027553,
         "prevalence": 0.8549511854951185
        },
        {
         "ancestor_concept_id": 4115259,
         "concept_code": "301226008",
         "concept_name": "Lower respiratory tract finding",
         "count_in_cohort": 1226,
         "descendant_concept_id": 4115259,
         "prevalence": 0.8549511854951185
        },
        {
         "ancestor_concept_id": 4180645,
         "concept_code": "363044007",
         "concept_name": "Connective tissue disorder by body site",
         "count_in_cohort": 1226,
         "descendant_concept_id": 4180645,
         "prevalence": 0.8549511854951185
        },
        {
         "ancestor_concept_id": 4271505,
         "concept_code": "366139009",
         "concept_name": "Ease of respiration - finding",
         "count_in_cohort": 1226,
         "descendant_concept_id": 4271505,
         "prevalence": 0.8549511854951185
        },
        {
         "ancestor_concept_id": 4158346,
         "concept_code": "271825005",
         "concept_name": "Respiratory distress",
         "count_in_cohort": 1226,
         "descendant_concept_id": 4158346,
         "prevalence": 0.8549511854951185
        },
        {
         "ancestor_concept_id": 4115386,
         "concept_code": "301282008",
         "concept_name": "Finding of respiration",
         "count_in_cohort": 1226,
         "descendant_concept_id": 4115386,
         "prevalence": 0.8549511854951185
        },
        {
         "ancestor_concept_id": 253549,
         "concept_code": "105969002",
         "concept_name": "Disorder of connective tissue",
         "count_in_cohort": 1226,
         "descendant_concept_id": 253549,
         "prevalence": 0.8549511854951185
        },
        {
         "ancestor_concept_id": 4078925,
         "concept_code": "19242006",
         "concept_name": "Pulmonary edema",
         "count_in_cohort": 1226,
         "descendant_concept_id": 4078925,
         "prevalence": 0.8549511854951185
        },
        {
         "ancestor_concept_id": 257907,
         "concept_code": "19829001",
         "concept_name": "Disorder of lung",
         "count_in_cohort": 1226,
         "descendant_concept_id": 257907,
         "prevalence": 0.8549511854951185
        },
        {
         "ancestor_concept_id": 4239819,
         "concept_code": "69328002",
         "concept_name": "Distress",
         "count_in_cohort": 1226,
         "descendant_concept_id": 4239819,
         "prevalence": 0.8549511854951185
        },
        {
         "ancestor_concept_id": 432453,
         "concept_code": "365860008",
         "concept_name": "General clinical state finding",
         "count_in_cohort": 1226,
         "descendant_concept_id": 432453,
         "prevalence": 0.8549511854951185
        },
        {
         "ancestor_concept_id": 432250,
         "concept_code": "40733004",
         "concept_name": "Disorder due to infection",
         "count_in_cohort": 1007,
         "descendant_concept_id": 432250,
         "prevalence": 0.702231520223152
        },
        {
         "ancestor_concept_id": 432795,
         "concept_code": "417163006",
         "concept_name": "Traumatic AND/OR non-traumatic injury",
         "count_in_cohort": 999,
         "descendant_concept_id": 432795,
         "prevalence": 0.696652719665272
        },
        {
         "ancestor_concept_id": 43530877,
         "concept_code": "609411003",
         "concept_name": "Traumatic and/or non-traumatic injury of anatomical site",
         "count_in_cohort": 999,
         "descendant_concept_id": 43530877,
         "prevalence": 0.696652719665272
        },
        {
         "ancestor_concept_id": 440921,
         "concept_code": "417746004",
         "concept_name": "Traumatic injury",
         "count_in_cohort": 999,
         "descendant_concept_id": 440921,
         "prevalence": 0.696652719665272
        },
        {
         "ancestor_concept_id": 194526,
         "concept_code": "48125009",
         "concept_name": "Injury of trunk",
         "count_in_cohort": 999,
         "descendant_concept_id": 194526,
         "prevalence": 0.696652719665272
        },
        {
         "ancestor_concept_id": 43530815,
         "concept_code": "609336008",
         "concept_name": "Traumatic injury by site",
         "count_in_cohort": 999,
         "descendant_concept_id": 43530815,
         "prevalence": 0.696652719665272
        },
        {
         "ancestor_concept_id": 193631,
         "concept_code": "105612003",
         "concept_name": "Injury of internal organ",
         "count_in_cohort": 999,
         "descendant_concept_id": 193631,
         "prevalence": 0.696652719665272
        },
        {
         "ancestor_concept_id": 201965,
         "concept_code": "27942005",
         "concept_name": "Shock",
         "count_in_cohort": 916,
         "descendant_concept_id": 201965,
         "prevalence": 0.6387726638772664
        },
        {
         "ancestor_concept_id": 196236,
         "concept_code": "76571007",
         "concept_name": "Septic shock",
         "count_in_cohort": 916,
         "descendant_concept_id": 196236,
         "prevalence": 0.6387726638772664
        },
        {
         "ancestor_concept_id": 4271450,
         "concept_code": "63171007",
         "concept_name": "Acute infectious disease",
         "count_in_cohort": 916,
         "descendant_concept_id": 4271450,
         "prevalence": 0.6387726638772664
        },
        {
         "ancestor_concept_id": 4120613,
         "concept_code": "234466008",
         "concept_name": "Acquired coagulation disorder",
         "count_in_cohort": 686,
         "descendant_concept_id": 4120613,
         "prevalence": 0.4783821478382148
        },
        {
         "ancestor_concept_id": 432585,
         "concept_code": "64779008",
         "concept_name": "Blood coagulation disorder",
         "count_in_cohort": 686,
         "descendant_concept_id": 432585,
         "prevalence": 0.4783821478382148
        },
        {
         "ancestor_concept_id": 4179872,
         "concept_code": "362970003",
         "concept_name": "Disorder of hemostatic system",
         "count_in_cohort": 686,
         "descendant_concept_id": 4179872,
         "prevalence": 0.4783821478382148
        },
        {
         "ancestor_concept_id": 4027255,
         "concept_code": "128599005",
         "concept_name": "Structural disorder of heart",
         "count_in_cohort": 683,
         "descendant_concept_id": 4027255,
         "prevalence": 0.47629009762900976
        },
        {
         "ancestor_concept_id": 74786,
         "concept_code": "27817002",
         "concept_name": "Internal injury of chest",
         "count_in_cohort": 683,
         "descendant_concept_id": 74786,
         "prevalence": 0.47629009762900976
        },
        {
         "ancestor_concept_id": 37116489,
         "concept_code": "733217006",
         "concept_name": "Injury of intrathoracic organ",
         "count_in_cohort": 683,
         "descendant_concept_id": 37116489,
         "prevalence": 0.47629009762900976
        },
        {
         "ancestor_concept_id": 4152156,
         "concept_code": "282728007",
         "concept_name": "Cardiovascular injury",
         "count_in_cohort": 683,
         "descendant_concept_id": 4152156,
         "prevalence": 0.47629009762900976
        },
        {
         "ancestor_concept_id": 4311280,
         "concept_code": "86175003",
         "concept_name": "Injury of heart",
         "count_in_cohort": 683,
         "descendant_concept_id": 4311280,
         "prevalence": 0.47629009762900976
        },
        {
         "ancestor_concept_id": 4094683,
         "concept_code": "262525000",
         "concept_name": "Chest injury",
         "count_in_cohort": 683,
         "descendant_concept_id": 4094683,
         "prevalence": 0.47629009762900976
        },
        {
         "ancestor_concept_id": 37311678,
         "concept_code": "822987005",
         "concept_name": "Finding of abdominopelvic segment of trunk",
         "count_in_cohort": 666,
         "descendant_concept_id": 37311678,
         "prevalence": 0.46443514644351463
        },
        {
         "ancestor_concept_id": 444089,
         "concept_code": "118948005",
         "concept_name": "Disorder of abdomen",
         "count_in_cohort": 666,
         "descendant_concept_id": 444089,
         "prevalence": 0.46443514644351463
        },
        {
         "ancestor_concept_id": 43531058,
         "concept_code": "609624008",
         "concept_name": "Finding of abdomen",
         "count_in_cohort": 666,
         "descendant_concept_id": 43531058,
         "prevalence": 0.46443514644351463
        },
        {
         "ancestor_concept_id": 4096864,
         "concept_code": "249561001",
         "concept_name": "Abdominal organ finding",
         "count_in_cohort": 666,
         "descendant_concept_id": 4096864,
         "prevalence": 0.46443514644351463
        },
        {
         "ancestor_concept_id": 37311677,
         "concept_code": "822988000",
         "concept_name": "Disorder of abdominopelvic segment of trunk",
         "count_in_cohort": 666,
         "descendant_concept_id": 37311677,
         "prevalence": 0.46443514644351463
        },
        {
         "ancestor_concept_id": 4155499,
         "concept_code": "283879004",
         "concept_name": "Urogenital injury",
         "count_in_cohort": 665,
         "descendant_concept_id": 4155499,
         "prevalence": 0.46373779637377965
        },
        {
         "ancestor_concept_id": 198124,
         "concept_code": "90708001",
         "concept_name": "Kidney disease",
         "count_in_cohort": 665,
         "descendant_concept_id": 198124,
         "prevalence": 0.46373779637377965
        },
        {
         "ancestor_concept_id": 4171379,
         "concept_code": "42030000",
         "concept_name": "Disorder of the genitourinary system",
         "count_in_cohort": 665,
         "descendant_concept_id": 4171379,
         "prevalence": 0.46373779637377965
        },
        {
         "ancestor_concept_id": 4220631,
         "concept_code": "40095003",
         "concept_name": "Injury of kidney",
         "count_in_cohort": 665,
         "descendant_concept_id": 4220631,
         "prevalence": 0.46373779637377965
        },
        {
         "ancestor_concept_id": 4091056,
         "concept_code": "249578005",
         "concept_name": "Kidney finding",
         "count_in_cohort": 665,
         "descendant_concept_id": 4091056,
         "prevalence": 0.46373779637377965
        },
        {
         "ancestor_concept_id": 4024000,
         "concept_code": "106098005",
         "concept_name": "Urinary system finding",
         "count_in_cohort": 665,
         "descendant_concept_id": 4024000,
         "prevalence": 0.46373779637377965
        },
        {
         "ancestor_concept_id": 200588,
         "concept_code": "128069005",
         "concept_name": "Injury of abdomen",
         "count_in_cohort": 665,
         "descendant_concept_id": 200588,
         "prevalence": 0.46373779637377965
        },
        {
         "ancestor_concept_id": 4169252,
         "concept_code": "49011004",
         "concept_name": "Internal injury of abdominal organ",
         "count_in_cohort": 665,
         "descendant_concept_id": 4169252,
         "prevalence": 0.46373779637377965
        },
        {
         "ancestor_concept_id": 45769862,
         "concept_code": "79131000119100",
         "concept_name": "Kidney lesion",
         "count_in_cohort": 665,
         "descendant_concept_id": 45769862,
         "prevalence": 0.46373779637377965
        },
        {
         "ancestor_concept_id": 75865,
         "concept_code": "128606002",
         "concept_name": "Disorder of the urinary system",
         "count_in_cohort": 665,
         "descendant_concept_id": 75865,
         "prevalence": 0.46373779637377965
        },
        {
         "ancestor_concept_id": 40483287,
         "concept_code": "443820000",
         "concept_name": "Disorder of kidney and/or ureter",
         "count_in_cohort": 665,
         "descendant_concept_id": 40483287,
         "prevalence": 0.46373779637377965
        },
        {
         "ancestor_concept_id": 37116972,
         "concept_code": "734045002",
         "concept_name": "Disorder of retroperitoneum",
         "count_in_cohort": 665,
         "descendant_concept_id": 37116972,
         "prevalence": 0.46373779637377965
        },
        {
         "ancestor_concept_id": 37116613,
         "concept_code": "733386005",
         "concept_name": "Injury of urinary organ",
         "count_in_cohort": 665,
         "descendant_concept_id": 37116613,
         "prevalence": 0.46373779637377965
        },
        {
         "ancestor_concept_id": 4041285,
         "concept_code": "118238000",
         "concept_name": "Urogenital finding",
         "count_in_cohort": 665,
         "descendant_concept_id": 4041285,
         "prevalence": 0.46373779637377965
        },
        {
         "ancestor_concept_id": 443784,
         "concept_code": "27550009",
         "concept_name": "Vascular disorder",
         "count_in_cohort": 333,
         "descendant_concept_id": 443784,
         "prevalence": 0.23221757322175732
        },
        {
         "ancestor_concept_id": 4071689,
         "concept_code": "21829004",
         "concept_name": "Blood vessel finding",
         "count_in_cohort": 333,
         "descendant_concept_id": 4071689,
         "prevalence": 0.23221757322175732
        },
        {
         "ancestor_concept_id": 4344497,
         "concept_code": "239953001",
         "concept_name": "Soft tissue lesion",
         "count_in_cohort": 333,
         "descendant_concept_id": 4344497,
         "prevalence": 0.23221757322175732
        },
        {
         "ancestor_concept_id": 4028367,
         "concept_code": "128487001",
         "concept_name": "Acute disease of cardiovascular system",
         "count_in_cohort": 333,
         "descendant_concept_id": 4028367,
         "prevalence": 0.23221757322175732
        },
        {
         "ancestor_concept_id": 4093991,
         "concept_code": "248402002",
         "concept_name": "General finding of soft tissue",
         "count_in_cohort": 333,
         "descendant_concept_id": 4093991,
         "prevalence": 0.23221757322175732
        },
        {
         "ancestor_concept_id": 376208,
         "concept_code": "19660004",
         "concept_name": "Disorder of soft tissue",
         "count_in_cohort": 333,
         "descendant_concept_id": 376208,
         "prevalence": 0.23221757322175732
        },
        {
         "ancestor_concept_id": 432545,
         "concept_code": "87628006",
         "concept_name": "Bacterial infectious disease",
         "count_in_cohort": 244,
         "descendant_concept_id": 432545,
         "prevalence": 0.1701534170153417
        },
        {
         "ancestor_concept_id": 312339,
         "concept_code": "54687002",
         "concept_name": "Arterial embolism",
         "count_in_cohort": 169,
         "descendant_concept_id": 312339,
         "prevalence": 0.11785216178521618
        },
        {
         "ancestor_concept_id": 4194610,
         "concept_code": "312593004",
         "concept_name": "Trunk arterial embolus",
         "count_in_cohort": 169,
         "descendant_concept_id": 4194610,
         "prevalence": 0.11785216178521618
        },
        {
         "ancestor_concept_id": 4190192,
         "concept_code": "373434004",
         "concept_name": "Disorder of blood vessels of thorax",
         "count_in_cohort": 169,
         "descendant_concept_id": 4190192,
         "prevalence": 0.11785216178521618
        },
        {
         "ancestor_concept_id": 4095631,
         "concept_code": "248718009",
         "concept_name": "Arterial finding",
         "count_in_cohort": 169,
         "descendant_concept_id": 4095631,
         "prevalence": 0.11785216178521618
        },
        {
         "ancestor_concept_id": 440417,
         "concept_code": "59282003",
         "concept_name": "Pulmonary embolism",
         "count_in_cohort": 169,
         "descendant_concept_id": 440417,
         "prevalence": 0.11785216178521618
        },
        {
         "ancestor_concept_id": 321887,
         "concept_code": "359557001",
         "concept_name": "Disorder of artery",
         "count_in_cohort": 169,
         "descendant_concept_id": 321887,
         "prevalence": 0.11785216178521618
        },
        {
         "ancestor_concept_id": 4108173,
         "concept_code": "251039005",
         "concept_name": "Pulmonary artery finding",
         "count_in_cohort": 169,
         "descendant_concept_id": 4108173,
         "prevalence": 0.11785216178521618
        },
        {
         "ancestor_concept_id": 4185607,
         "concept_code": "414086009",
         "concept_name": "Embolism",
         "count_in_cohort": 169,
         "descendant_concept_id": 4185607,
         "prevalence": 0.11785216178521618
        },
        {
         "ancestor_concept_id": 45768439,
         "concept_code": "706870000",
         "concept_name": "Acute pulmonary embolism",
         "count_in_cohort": 169,
         "descendant_concept_id": 45768439,
         "prevalence": 0.11785216178521618
        },
        {
         "ancestor_concept_id": 433208,
         "concept_code": "39785005",
         "concept_name": "Disorder of pulmonary circulation",
         "count_in_cohort": 169,
         "descendant_concept_id": 433208,
         "prevalence": 0.11785216178521618
        },
        {
         "ancestor_concept_id": 444247,
         "concept_code": "111293003",
         "concept_name": "Venous thrombosis",
         "count_in_cohort": 164,
         "descendant_concept_id": 444247,
         "prevalence": 0.11436541143654114
        },
        {
         "ancestor_concept_id": 44782746,
         "concept_code": "132281000119108",
         "concept_name": "Acute deep venous thrombosis",
         "count_in_cohort": 164,
         "descendant_concept_id": 44782746,
         "prevalence": 0.11436541143654114
        },
        {
         "ancestor_concept_id": 4231363,
         "concept_code": "439127006",
         "concept_name": "Thrombosis",
         "count_in_cohort": 164,
         "descendant_concept_id": 4231363,
         "prevalence": 0.11436541143654114
        },
        {
         "ancestor_concept_id": 4234997,
         "concept_code": "90507008",
         "concept_name": "Disorder of vein",
         "count_in_cohort": 164,
         "descendant_concept_id": 4234997,
         "prevalence": 0.11436541143654114
        },
        {
         "ancestor_concept_id": 4208466,
         "concept_code": "439129009",
         "concept_name": "Thrombosis of blood vessel",
         "count_in_cohort": 164,
         "descendant_concept_id": 4208466,
         "prevalence": 0.11436541143654114
        },
        {
         "ancestor_concept_id": 4095634,
         "concept_code": "248727005",
         "concept_name": "Venous finding",
         "count_in_cohort": 164,
         "descendant_concept_id": 4095634,
         "prevalence": 0.11436541143654114
        },
        {
         "ancestor_concept_id": 4133004,
         "concept_code": "128053003",
         "concept_name": "Deep venous thrombosis",
         "count_in_cohort": 164,
         "descendant_concept_id": 4133004,
         "prevalence": 0.11436541143654114
        },
        {
         "ancestor_concept_id": 4297887,
         "concept_code": "76712006",
         "concept_name": "Disorder of digestive organ",
         "count_in_cohort": 5,
         "descendant_concept_id": 4297887,
         "prevalence": 0.003486750348675035
        },
        {
         "ancestor_concept_id": 4302537,
         "concept_code": "386617003",
         "concept_name": "Digestive system finding",
         "count_in_cohort": 5,
         "descendant_concept_id": 4302537,
         "prevalence": 0.003486750348675035
        },
        {
         "ancestor_concept_id": 4201745,
         "concept_code": "53619000",
         "concept_name": "Disorder of digestive system",
         "count_in_cohort": 5,
         "descendant_concept_id": 4201745,
         "prevalence": 0.003486750348675035
        },
        {
         "ancestor_concept_id": 4309188,
         "concept_code": "84410009",
         "concept_name": "Disorder of digestive tract",
         "count_in_cohort": 4,
         "descendant_concept_id": 4309188,
         "prevalence": 0.002789400278940028
        },
        {
         "ancestor_concept_id": 4085100,
         "concept_code": "281794004",
         "concept_name": "Viral upper respiratory tract infection",
         "count_in_cohort": 3,
         "descendant_concept_id": 4085100,
         "prevalence": 0.0020920502092050207
        },
        {
         "ancestor_concept_id": 4178818,
         "concept_code": "363171009",
         "concept_name": "Inflammation of specific body systems",
         "count_in_cohort": 3,
         "descendant_concept_id": 4178818,
         "prevalence": 0.0020920502092050207
        },
        {
         "ancestor_concept_id": 4162282,
         "concept_code": "373405005",
         "concept_name": "Inflammatory disorder of the respiratory system",
         "count_in_cohort": 3,
         "descendant_concept_id": 4162282,
         "prevalence": 0.0020920502092050207
        },
        {
         "ancestor_concept_id": 4200532,
         "concept_code": "301810000",
         "concept_name": "Infection by site",
         "count_in_cohort": 3,
         "descendant_concept_id": 4200532,
         "prevalence": 0.0020920502092050207
        },
        {
         "ancestor_concept_id": 440029,
         "concept_code": "34014006",
         "concept_name": "Viral disease",
         "count_in_cohort": 3,
         "descendant_concept_id": 440029,
         "prevalence": 0.0020920502092050207
        },
        {
         "ancestor_concept_id": 4207186,
         "concept_code": "312130009",
         "concept_name": "Viral infection by site",
         "count_in_cohort": 3,
         "descendant_concept_id": 4207186,
         "prevalence": 0.0020920502092050207
        },
        {
         "ancestor_concept_id": 255919,
         "concept_code": "118254002",
         "concept_name": "Finding of head and neck region",
         "count_in_cohort": 3,
         "descendant_concept_id": 255919,
         "prevalence": 0.0020920502092050207
        },
        {
         "ancestor_concept_id": 4170143,
         "concept_code": "275498002",
         "concept_name": "Respiratory tract infection",
         "count_in_cohort": 3,
         "descendant_concept_id": 4170143,
         "prevalence": 0.0020920502092050207
        },
        {
         "ancestor_concept_id": 254068,
         "concept_code": "201060008",
         "concept_name": "Disorder of upper respiratory system",
         "count_in_cohort": 3,
         "descendant_concept_id": 254068,
         "prevalence": 0.0020920502092050207
        },
        {
         "ancestor_concept_id": 4339468,
         "concept_code": "232208008",
         "concept_name": "Ear, nose and throat disorder",
         "count_in_cohort": 3,
         "descendant_concept_id": 4339468,
         "prevalence": 0.0020920502092050207
        },
        {
         "ancestor_concept_id": 4193169,
         "concept_code": "312133006",
         "concept_name": "Viral respiratory infection",
         "count_in_cohort": 3,
         "descendant_concept_id": 4193169,
         "prevalence": 0.0020920502092050207
        },
        {
         "ancestor_concept_id": 4180170,
         "concept_code": "363180009",
         "concept_name": "Inflammatory disorder of the respiratory tract",
         "count_in_cohort": 3,
         "descendant_concept_id": 4180170,
         "prevalence": 0.0020920502092050207
        },
        {
         "ancestor_concept_id": 4103320,
         "concept_code": "301186004",
         "concept_name": "Upper respiratory tract finding",
         "count_in_cohort": 3,
         "descendant_concept_id": 4103320,
         "prevalence": 0.0020920502092050207
        },
        {
         "ancestor_concept_id": 4043671,
         "concept_code": "129134004",
         "concept_name": "Inflammatory disorder of upper respiratory tract",
         "count_in_cohort": 3,
         "descendant_concept_id": 4043671,
         "prevalence": 0.0020920502092050207
        },
        {
         "ancestor_concept_id": 4178545,
         "concept_code": "297268004",
         "concept_name": "Ear, nose and throat finding",
         "count_in_cohort": 3,
         "descendant_concept_id": 4178545,
         "prevalence": 0.0020920502092050207
        },
        {
         "ancestor_concept_id": 4181583,
         "concept_code": "54150009",
         "concept_name": "Upper respiratory infection",
         "count_in_cohort": 3,
         "descendant_concept_id": 4181583,
         "prevalence": 0.0020920502092050207
        },
        {
         "ancestor_concept_id": 4180169,
         "concept_code": "363170005",
         "concept_name": "Inflammation of specific body structures or tissue",
         "count_in_cohort": 3,
         "descendant_concept_id": 4180169,
         "prevalence": 0.0020920502092050207
        },
        {
         "ancestor_concept_id": 4304916,
         "concept_code": "386618008",
         "concept_name": "Gastrointestinal tract finding",
         "count_in_cohort": 3,
         "descendant_concept_id": 4304916,
         "prevalence": 0.0020920502092050207
        },
        {
         "ancestor_concept_id": 4027384,
         "concept_code": "128139000",
         "concept_name": "Inflammatory disorder",
         "count_in_cohort": 3,
         "descendant_concept_id": 4027384,
         "prevalence": 0.0020920502092050207
        },
        {
         "ancestor_concept_id": 4193875,
         "concept_code": "312131008",
         "concept_name": "Viral infection of the digestive tract",
         "count_in_cohort": 2,
         "descendant_concept_id": 4193875,
         "prevalence": 0.001394700139470014
        },
        {
         "ancestor_concept_id": 4091532,
         "concept_code": "249562008",
         "concept_name": "Bowel finding",
         "count_in_cohort": 2,
         "descendant_concept_id": 4091532,
         "prevalence": 0.001394700139470014
        },
        {
         "ancestor_concept_id": 4115106,
         "concept_code": "300855001",
         "concept_name": "Mass of digestive structure",
         "count_in_cohort": 2,
         "descendant_concept_id": 4115106,
         "prevalence": 0.001394700139470014
        },
        {
         "ancestor_concept_id": 201618,
         "concept_code": "85919009",
         "concept_name": "Disorder of intestine",
         "count_in_cohort": 2,
         "descendant_concept_id": 201618,
         "prevalence": 0.001394700139470014
        },
        {
         "ancestor_concept_id": 4112343,
         "concept_code": "195662009",
         "concept_name": "Acute viral pharyngitis",
         "count_in_cohort": 2,
         "descendant_concept_id": 4112343,
         "prevalence": 0.001394700139470014
        },
        {
         "ancestor_concept_id": 257011,
         "concept_code": "54398005",
         "concept_name": "Acute upper respiratory infection",
         "count_in_cohort": 2,
         "descendant_concept_id": 257011,
         "prevalence": 0.001394700139470014
        },
        {
         "ancestor_concept_id": 4193990,
         "concept_code": "312158001",
         "concept_name": "Infection of digestive system",
         "count_in_cohort": 2,
         "descendant_concept_id": 4193990,
         "prevalence": 0.001394700139470014
        },
        {
         "ancestor_concept_id": 4091363,
         "concept_code": "249376008",
         "concept_name": "Mouth and/or pharynx finding",
         "count_in_cohort": 2,
         "descendant_concept_id": 4091363,
         "prevalence": 0.001394700139470014
        },
        {
         "ancestor_concept_id": 4252853,
         "concept_code": "409631000",
         "concept_name": "Acute viral disease",
         "count_in_cohort": 2,
         "descendant_concept_id": 4252853,
         "prevalence": 0.001394700139470014
        },
        {
         "ancestor_concept_id": 4134887,
         "concept_code": "128398001",
         "concept_name": "Infectious disease of digestive tract",
         "count_in_cohort": 2,
         "descendant_concept_id": 4134887,
         "prevalence": 0.001394700139470014
        },
        {
         "ancestor_concept_id": 4190185,
         "concept_code": "373407002",
         "concept_name": "Inflammatory disorder of digestive system",
         "count_in_cohort": 2,
         "descendant_concept_id": 4190185,
         "prevalence": 0.001394700139470014
        },
        {
         "ancestor_concept_id": 4002905,
         "concept_code": "119523007",
         "concept_name": "Disorder of large intestine",
         "count_in_cohort": 2,
         "descendant_concept_id": 4002905,
         "prevalence": 0.001394700139470014
        },
        {
         "ancestor_concept_id": 4134294,
         "concept_code": "128482007",
         "concept_name": "Acute inflammatory disease",
         "count_in_cohort": 2,
         "descendant_concept_id": 4134294,
         "prevalence": 0.001394700139470014
        },
        {
         "ancestor_concept_id": 4145825,
         "concept_code": "426867001",
         "concept_name": "Anorectal disorder",
         "count_in_cohort": 2,
         "descendant_concept_id": 4145825,
         "prevalence": 0.001394700139470014
        },
        {
         "ancestor_concept_id": 43531054,
         "concept_code": "609620004",
         "concept_name": "Disorder of pelvis",
         "count_in_cohort": 2,
         "descendant_concept_id": 43531054,
         "prevalence": 0.001394700139470014
        },
        {
         "ancestor_concept_id": 43531060,
         "concept_code": "609626005",
         "concept_name": "Finding of pelvis",
         "count_in_cohort": 2,
         "descendant_concept_id": 43531060,
         "prevalence": 0.001394700139470014
        },
        {
         "ancestor_concept_id": 4112341,
         "concept_code": "195647007",
         "concept_name": "Acute respiratory infections",
         "count_in_cohort": 2,
         "descendant_concept_id": 4112341,
         "prevalence": 0.001394700139470014
        },
        {
         "ancestor_concept_id": 4226263,
         "concept_code": "405737000",
         "concept_name": "Pharyngitis",
         "count_in_cohort": 2,
         "descendant_concept_id": 4226263,
         "prevalence": 0.001394700139470014
        },
        {
         "ancestor_concept_id": 4198525,
         "concept_code": "50410009",
         "concept_name": "Disorder of upper digestive tract",
         "count_in_cohort": 2,
         "descendant_concept_id": 4198525,
         "prevalence": 0.001394700139470014
        },
        {
         "ancestor_concept_id": 4197094,
         "concept_code": "79787007",
         "concept_name": "Disorder of lower gastrointestinal tract",
         "count_in_cohort": 2,
         "descendant_concept_id": 4197094,
         "prevalence": 0.001394700139470014
        },
        {
         "ancestor_concept_id": 443783,
         "concept_code": "27624003",
         "concept_name": "Chronic disease",
         "count_in_cohort": 2,
         "descendant_concept_id": 443783,
         "prevalence": 0.001394700139470014
        },
        {
         "ancestor_concept_id": 4102111,
         "concept_code": "300848003",
         "concept_name": "Mass of body structure",
         "count_in_cohort": 2,
         "descendant_concept_id": 4102111,
         "prevalence": 0.001394700139470014
        },
        {
         "ancestor_concept_id": 4022571,
         "concept_code": "116338005",
         "concept_name": "Pharyngeal finding",
         "count_in_cohort": 2,
         "descendant_concept_id": 4022571,
         "prevalence": 0.001394700139470014
        },
        {
         "ancestor_concept_id": 4038678,
         "concept_code": "118436003",
         "concept_name": "Finding of large intestine",
         "count_in_cohort": 2,
         "descendant_concept_id": 4038678,
         "prevalence": 0.001394700139470014
        },
        {
         "ancestor_concept_id": 192438,
         "concept_code": "271860004",
         "concept_name": "Abdominal mass",
         "count_in_cohort": 2,
         "descendant_concept_id": 192438,
         "prevalence": 0.001394700139470014
        },
        {
         "ancestor_concept_id": 31057,
         "concept_code": "75860007",
         "concept_name": "Disorder of pharynx",
         "count_in_cohort": 2,
         "descendant_concept_id": 31057,
         "prevalence": 0.001394700139470014
        },
        {
         "ancestor_concept_id": 25297,
         "concept_code": "363746003",
         "concept_name": "Acute pharyngitis",
         "count_in_cohort": 2,
         "descendant_concept_id": 25297,
         "prevalence": 0.001394700139470014
        },
        {
         "ancestor_concept_id": 4193318,
         "concept_code": "312422001",
         "concept_name": "Infective pharyngitis",
         "count_in_cohort": 2,
         "descendant_concept_id": 4193318,
         "prevalence": 0.001394700139470014
        },
        {
         "ancestor_concept_id": 4206591,
         "concept_code": "309524007",
         "concept_name": "Mass of trunk",
         "count_in_cohort": 2,
         "descendant_concept_id": 4206591,
         "prevalence": 0.001394700139470014
        },
        {
         "ancestor_concept_id": 4181063,
         "concept_code": "363169009",
         "concept_name": "Inflammation of specific body organs",
         "count_in_cohort": 2,
         "descendant_concept_id": 4181063,
         "prevalence": 0.001394700139470014
        },
        {
         "ancestor_concept_id": 4000610,
         "concept_code": "119292006",
         "concept_name": "Disorder of gastrointestinal tract",
         "count_in_cohort": 2,
         "descendant_concept_id": 4000610,
         "prevalence": 0.001394700139470014
        },
        {
         "ancestor_concept_id": 4043371,
         "concept_code": "128999004",
         "concept_name": "Inflammatory disorder of digestive tract",
         "count_in_cohort": 2,
         "descendant_concept_id": 4043371,
         "prevalence": 0.001394700139470014
        },
        {
         "ancestor_concept_id": 4035987,
         "concept_code": "1532007",
         "concept_name": "Viral pharyngitis",
         "count_in_cohort": 2,
         "descendant_concept_id": 4035987,
         "prevalence": 0.001394700139470014
        },
        {
         "ancestor_concept_id": 43531053,
         "concept_code": "609619005",
         "concept_name": "Disorder of pelvic region of trunk",
         "count_in_cohort": 2,
         "descendant_concept_id": 43531053,
         "prevalence": 0.001394700139470014
        },
        {
         "ancestor_concept_id": 4113999,
         "concept_code": "300862005",
         "concept_name": "Mass of body region",
         "count_in_cohort": 2,
         "descendant_concept_id": 4113999,
         "prevalence": 0.001394700139470014
        },
        {
         "ancestor_concept_id": 43531059,
         "concept_code": "609625009",
         "concept_name": "Finding of pelvic region of trunk",
         "count_in_cohort": 2,
         "descendant_concept_id": 43531059,
         "prevalence": 0.001394700139470014
        },
        {
         "ancestor_concept_id": 4132552,
         "concept_code": "127321000",
         "concept_name": "Acute digestive system disorder",
         "count_in_cohort": 2,
         "descendant_concept_id": 4132552,
         "prevalence": 0.001394700139470014
        },
        {
         "ancestor_concept_id": 4113563,
         "concept_code": "300373008",
         "concept_name": "Finding of defecation",
         "count_in_cohort": 1,
         "descendant_concept_id": 4113563,
         "prevalence": 6.97350069735007E-4
        },
        {
         "ancestor_concept_id": 4158326,
         "concept_code": "271745005",
         "concept_name": "Facial sinus finding",
         "count_in_cohort": 1,
         "descendant_concept_id": 4158326,
         "prevalence": 6.97350069735007E-4
        },
        {
         "ancestor_concept_id": 4341247,
         "concept_code": "236077008",
         "concept_name": "Protracted diarrhea",
         "count_in_cohort": 1,
         "descendant_concept_id": 4341247,
         "prevalence": 6.97350069735007E-4
        },
        {
         "ancestor_concept_id": 4338120,
         "concept_code": "88111009",
         "concept_name": "Altered bowel function",
         "count_in_cohort": 1,
         "descendant_concept_id": 4338120,
         "prevalence": 6.97350069735007E-4
        },
        {
         "ancestor_concept_id": 319835,
         "concept_code": "42343007",
         "concept_name": "Congestive heart failure",
         "count_in_cohort": 1,
         "descendant_concept_id": 319835,
         "prevalence": 6.97350069735007E-4
        },
        {
         "ancestor_concept_id": 4182633,
         "concept_code": "366256008",
         "concept_name": "Finding of bowel action",
         "count_in_cohort": 1,
         "descendant_concept_id": 4182633,
         "prevalence": 6.97350069735007E-4
        },
        {
         "ancestor_concept_id": 40481087,
         "concept_code": "444814009",
         "concept_name": "Viral sinusitis",
         "count_in_cohort": 1,
         "descendant_concept_id": 40481087,
         "prevalence": 6.97350069735007E-4
        },
        {
         "ancestor_concept_id": 4111798,
         "concept_code": "254532005",
         "concept_name": "Neoplasm of digestive organ",
         "count_in_cohort": 1,
         "descendant_concept_id": 4111798,
         "prevalence": 6.97350069735007E-4
        },
        {
         "ancestor_concept_id": 4229440,
         "concept_code": "88805009",
         "concept_name": "Chronic congestive heart failure",
         "count_in_cohort": 1,
         "descendant_concept_id": 4229440,
         "prevalence": 6.97350069735007E-4
        },
        {
         "ancestor_concept_id": 4101343,
         "concept_code": "300358007",
         "concept_name": "Functional finding of gastrointestinal tract",
         "count_in_cohort": 1,
         "descendant_concept_id": 4101343,
         "prevalence": 6.97350069735007E-4
        },
        {
         "ancestor_concept_id": 440059,
         "concept_code": "58184002",
         "concept_name": "Recurrent disease",
         "count_in_cohort": 1,
         "descendant_concept_id": 440059,
         "prevalence": 6.97350069735007E-4
        },
        {
         "ancestor_concept_id": 80502,
         "concept_code": "64859006",
         "concept_name": "Osteoporosis",
         "count_in_cohort": 1,
         "descendant_concept_id": 80502,
         "prevalence": 6.97350069735007E-4
        },
        {
         "ancestor_concept_id": 201131,
         "concept_code": "74285003",
         "concept_name": "Pelvic mass",
         "count_in_cohort": 1,
         "descendant_concept_id": 201131,
         "prevalence": 6.97350069735007E-4
        },
        {
         "ancestor_concept_id": 443951,
         "concept_code": "32110003",
         "concept_name": "Disorder of anus",
         "count_in_cohort": 1,
         "descendant_concept_id": 443951,
         "prevalence": 6.97350069735007E-4
        },
        {
         "ancestor_concept_id": 4131598,
         "concept_code": "126769007",
         "concept_name": "Neoplasm of intestinal tract",
         "count_in_cohort": 1,
         "descendant_concept_id": 4131598,
         "prevalence": 6.97350069735007E-4
        },
        {
         "ancestor_concept_id": 4266186,
         "concept_code": "399981008",
         "concept_name": "Neoplasm and/or hamartoma",
         "count_in_cohort": 1,
         "descendant_concept_id": 4266186,
         "prevalence": 6.97350069735007E-4
        },
        {
         "ancestor_concept_id": 4216644,
         "concept_code": "39772007",
         "concept_name": "Rectal polyp",
         "count_in_cohort": 1,
         "descendant_concept_id": 4216644,
         "prevalence": 6.97350069735007E-4
        },
        {
         "ancestor_concept_id": 4053317,
         "concept_code": "124734007",
         "concept_name": "Perineal finding",
         "count_in_cohort": 1,
         "descendant_concept_id": 4053317,
         "prevalence": 6.97350069735007E-4
        },
        {
         "ancestor_concept_id": 4028244,
         "concept_code": "128292002",
         "concept_name": "Chronic disease of cardiovascular system",
         "count_in_cohort": 1,
         "descendant_concept_id": 4028244,
         "prevalence": 6.97350069735007E-4
        },
        {
         "ancestor_concept_id": 4096976,
         "concept_code": "249597005",
         "concept_name": "Rectum finding",
         "count_in_cohort": 1,
         "descendant_concept_id": 4096976,
         "prevalence": 6.97350069735007E-4
        },
        {
         "ancestor_concept_id": 256440,
         "concept_code": "7393007",
         "concept_name": "Disorder of nasal sinus",
         "count_in_cohort": 1,
         "descendant_concept_id": 256440,
         "prevalence": 6.97350069735007E-4
        },
        {
         "ancestor_concept_id": 443396,
         "concept_code": "363510005",
         "concept_name": "Malignant tumor of large intestine",
         "count_in_cohort": 1,
         "descendant_concept_id": 443396,
         "prevalence": 6.97350069735007E-4
        },
        {
         "ancestor_concept_id": 4283893,
         "concept_code": "36971009",
         "concept_name": "Sinusitis",
         "count_in_cohort": 1,
         "descendant_concept_id": 4283893,
         "prevalence": 6.97350069735007E-4
        },
        {
         "ancestor_concept_id": 4287929,
         "concept_code": "397174009",
         "concept_name": "Disorder of anal region",
         "count_in_cohort": 1,
         "descendant_concept_id": 4287929,
         "prevalence": 6.97350069735007E-4
        },
        {
         "ancestor_concept_id": 4130373,
         "concept_code": "126768004",
         "concept_name": "Neoplasm of gastrointestinal tract",
         "count_in_cohort": 1,
         "descendant_concept_id": 4130373,
         "prevalence": 6.97350069735007E-4
        },
        {
         "ancestor_concept_id": 196931,
         "concept_code": "128415001",
         "concept_name": "Neoplasm of digestive tract",
         "count_in_cohort": 1,
         "descendant_concept_id": 196931,
         "prevalence": 6.97350069735007E-4
        },
        {
         "ancestor_concept_id": 196523,
         "concept_code": "62315008",
         "concept_name": "Diarrhea",
         "count_in_cohort": 1,
         "descendant_concept_id": 196523,
         "prevalence": 6.97350069735007E-4
        },
        {
         "ancestor_concept_id": 37017023,
         "concept_code": "713197008",
         "concept_name": "Recurrent rectal polyp",
         "count_in_cohort": 1,
         "descendant_concept_id": 37017023,
         "prevalence": 6.97350069735007E-4
        },
        {
         "ancestor_concept_id": 4339410,
         "concept_code": "88230002",
         "concept_name": "Disorder of skeletal system",
         "count_in_cohort": 1,
         "descendant_concept_id": 4339410,
         "prevalence": 6.97350069735007E-4
        },
        {
         "ancestor_concept_id": 4133974,
         "concept_code": "128050000",
         "concept_name": "Neoplasm of abdomen",
         "count_in_cohort": 1,
         "descendant_concept_id": 4133974,
         "prevalence": 6.97350069735007E-4
        },
        {
         "ancestor_concept_id": 443568,
         "concept_code": "428905002",
         "concept_name": "Malignant neoplasm of gastrointestinal tract",
         "count_in_cohort": 1,
         "descendant_concept_id": 443568,
         "prevalence": 6.97350069735007E-4
        },
        {
         "ancestor_concept_id": 4087647,
         "concept_code": "248523006",
         "concept_name": "Rectal mass",
         "count_in_cohort": 1,
         "descendant_concept_id": 4087647,
         "prevalence": 6.97350069735007E-4
        },
        {
         "ancestor_concept_id": 4112731,
         "concept_code": "254588001",
         "concept_name": "Polyp of intestine",
         "count_in_cohort": 1,
         "descendant_concept_id": 4112731,
         "prevalence": 6.97350069735007E-4
        },
        {
         "ancestor_concept_id": 4182161,
         "concept_code": "298364001",
         "concept_name": "Finding of head region",
         "count_in_cohort": 1,
         "descendant_concept_id": 4182161,
         "prevalence": 6.97350069735007E-4
        },
        {
         "ancestor_concept_id": 4103995,
         "concept_code": "300312006",
         "concept_name": "Lesion of rectum",
         "count_in_cohort": 1,
         "descendant_concept_id": 4103995,
         "prevalence": 6.97350069735007E-4
        },
        {
         "ancestor_concept_id": 4181187,
         "concept_code": "363176004",
         "concept_name": "Inflammatory disorder of head",
         "count_in_cohort": 1,
         "descendant_concept_id": 4181187,
         "prevalence": 6.97350069735007E-4
        },
        {
         "ancestor_concept_id": 443398,
         "concept_code": "363508008",
         "concept_name": "Malignant tumor of intestine",
         "count_in_cohort": 1,
         "descendant_concept_id": 443398,
         "prevalence": 6.97350069735007E-4
        },
        {
         "ancestor_concept_id": 135930,
         "concept_code": "106028002",
         "concept_name": "Musculoskeletal finding",
         "count_in_cohort": 1,
         "descendant_concept_id": 135930,
         "prevalence": 6.97350069735007E-4
        },
        {
         "ancestor_concept_id": 4042836,
         "concept_code": "118934005",
         "concept_name": "Disorder of head",
         "count_in_cohort": 1,
         "descendant_concept_id": 4042836,
         "prevalence": 6.97350069735007E-4
        },
        {
         "ancestor_concept_id": 4042505,
         "concept_code": "118953000",
         "concept_name": "Bone finding",
         "count_in_cohort": 1,
         "descendant_concept_id": 4042505,
         "prevalence": 6.97350069735007E-4
        },
        {
         "ancestor_concept_id": 4130514,
         "concept_code": "126837005",
         "concept_name": "Neoplasm of large intestine",
         "count_in_cohort": 1,
         "descendant_concept_id": 4130514,
         "prevalence": 6.97350069735007E-4
        },
        {
         "ancestor_concept_id": 40492037,
         "concept_code": "448882009",
         "concept_name": "Malignant neoplasm of intraabdominal organ",
         "count_in_cohort": 1,
         "descendant_concept_id": 40492037,
         "prevalence": 6.97350069735007E-4
        },
        {
         "ancestor_concept_id": 45763613,
         "concept_code": "67401000119103",
         "concept_name": "Colonic lesion",
         "count_in_cohort": 1,
         "descendant_concept_id": 45763613,
         "prevalence": 6.97350069735007E-4
        },
        {
         "ancestor_concept_id": 4244662,
         "concept_code": "928000",
         "concept_name": "Disorder of musculoskeletal system",
         "count_in_cohort": 1,
         "descendant_concept_id": 4244662,
         "prevalence": 6.97350069735007E-4
        },
        {
         "ancestor_concept_id": 4166245,
         "concept_code": "415991003",
         "concept_name": "Disorder of cardiac ventricle",
         "count_in_cohort": 1,
         "descendant_concept_id": 4166245,
         "prevalence": 6.97350069735007E-4
        },
        {
         "ancestor_concept_id": 79069,
         "concept_code": "5964004",
         "concept_name": "Disorder of rectum",
         "count_in_cohort": 1,
         "descendant_concept_id": 79069,
         "prevalence": 6.97350069735007E-4
        },
        {
         "ancestor_concept_id": 4245614,
         "concept_code": "6072007",
         "concept_name": "Bleeding from anus",
         "count_in_cohort": 1,
         "descendant_concept_id": 4245614,
         "prevalence": 6.97350069735007E-4
        },
        {
         "ancestor_concept_id": 4176944,
         "concept_code": "363166002",
         "concept_name": "Infective disorder of head",
         "count_in_cohort": 1,
         "descendant_concept_id": 4176944,
         "prevalence": 6.97350069735007E-4
        },
        {
         "ancestor_concept_id": 4134593,
         "concept_code": "128284006",
         "concept_name": "Chronic digestive system disorder",
         "count_in_cohort": 1,
         "descendant_concept_id": 4134593,
         "prevalence": 6.97350069735007E-4
        },
        {
         "ancestor_concept_id": 437312,
         "concept_code": "131148009",
         "concept_name": "Bleeding",
         "count_in_cohort": 1,
         "descendant_concept_id": 437312,
         "prevalence": 6.97350069735007E-4
        },
        {
         "ancestor_concept_id": 36683531,
         "concept_code": "781382000",
         "concept_name": "Malignant neoplasm of colon and/or rectum",
         "count_in_cohort": 1,
         "descendant_concept_id": 36683531,
         "prevalence": 6.97350069735007E-4
        },
        {
         "ancestor_concept_id": 4164337,
         "concept_code": "399505005",
         "concept_name": "Polyp of large intestine",
         "count_in_cohort": 1,
         "descendant_concept_id": 4164337,
         "prevalence": 6.97350069735007E-4
        },
        {
         "ancestor_concept_id": 4247371,
         "concept_code": "406122000",
         "concept_name": "Head finding",
         "count_in_cohort": 1,
         "descendant_concept_id": 4247371,
         "prevalence": 6.97350069735007E-4
        },
        {
         "ancestor_concept_id": 444031,
         "concept_code": "48447003",
         "concept_name": "Chronic heart failure",
         "count_in_cohort": 1,
         "descendant_concept_id": 444031,
         "prevalence": 6.97350069735007E-4
        },
        {
         "ancestor_concept_id": 438112,
         "concept_code": "55342001",
         "concept_name": "Neoplastic disease",
         "count_in_cohort": 1,
         "descendant_concept_id": 438112,
         "prevalence": 6.97350069735007E-4
        },
        {
         "ancestor_concept_id": 4180790,
         "concept_code": "363406005",
         "concept_name": "Malignant tumor of colon",
         "count_in_cohort": 1,
         "descendant_concept_id": 4180790,
         "prevalence": 6.97350069735007E-4
        },
        {
         "ancestor_concept_id": 4054501,
         "concept_code": "126637008",
         "concept_name": "Neoplasm of trunk",
         "count_in_cohort": 1,
         "descendant_concept_id": 4054501,
         "prevalence": 6.97350069735007E-4
        },
        {
         "ancestor_concept_id": 4054503,
         "concept_code": "126643005",
         "concept_name": "Neoplasm of intra-abdominal organs",
         "count_in_cohort": 1,
         "descendant_concept_id": 4054503,
         "prevalence": 6.97350069735007E-4
        },
        {
         "ancestor_concept_id": 4130995,
         "concept_code": "126838000",
         "concept_name": "Neoplasm of colon",
         "count_in_cohort": 1,
         "descendant_concept_id": 4130995,
         "prevalence": 6.97350069735007E-4
        },
        {
         "ancestor_concept_id": 4027880,
         "concept_code": "128524007",
         "concept_name": "Disorder of colon",
         "count_in_cohort": 1,
         "descendant_concept_id": 4027880,
         "prevalence": 6.97350069735007E-4
        },
        {
         "ancestor_concept_id": 4209223,
         "concept_code": "441456002",
         "concept_name": "Polyp",
         "count_in_cohort": 1,
         "descendant_concept_id": 4209223,
         "prevalence": 6.97350069735007E-4
        },
        {
         "ancestor_concept_id": 4116238,
         "concept_code": "255077007",
         "concept_name": "Malignant tumor of digestive organ",
         "count_in_cohort": 1,
         "descendant_concept_id": 4116238,
         "prevalence": 6.97350069735007E-4
        },
        {
         "ancestor_concept_id": 4101219,
         "concept_code": "300310003",
         "concept_name": "Finding of colon",
         "count_in_cohort": 1,
         "descendant_concept_id": 4101219,
         "prevalence": 6.97350069735007E-4
        },
        {
         "ancestor_concept_id": 197506,
         "concept_code": "188366002",
         "concept_name": "Malignant neoplasm of abdomen",
         "count_in_cohort": 1,
         "descendant_concept_id": 197506,
         "prevalence": 6.97350069735007E-4
        },
        {
         "ancestor_concept_id": 4143250,
         "concept_code": "425711007",
         "concept_name": "Mass of colon",
         "count_in_cohort": 1,
         "descendant_concept_id": 4143250,
         "prevalence": 6.97350069735007E-4
        },
        {
         "ancestor_concept_id": 75909,
         "concept_code": "76069003",
         "concept_name": "Disorder of bone",
         "count_in_cohort": 1,
         "descendant_concept_id": 75909,
         "prevalence": 6.97350069735007E-4
        },
        {
         "ancestor_concept_id": 37311947,
         "concept_code": "788951001",
         "concept_name": "Hemorrhage of digestive system",
         "count_in_cohort": 1,
         "descendant_concept_id": 37311947,
         "prevalence": 6.97350069735007E-4
        },
        {
         "ancestor_concept_id": 443392,
         "concept_code": "363346000",
         "concept_name": "Malignant neoplastic disease",
         "count_in_cohort": 1,
         "descendant_concept_id": 443392,
         "prevalence": 6.97350069735007E-4
        },
        {
         "ancestor_concept_id": 4132555,
         "concept_code": "127331007",
         "concept_name": "Neoplasm by body site",
         "count_in_cohort": 1,
         "descendant_concept_id": 4132555,
         "prevalence": 6.97350069735007E-4
        },
        {
         "ancestor_concept_id": 4134586,
         "concept_code": "128238001",
         "concept_name": "Chronic heart disease",
         "count_in_cohort": 1,
         "descendant_concept_id": 4134586,
         "prevalence": 6.97350069735007E-4
        },
        {
         "ancestor_concept_id": 4028253,
         "concept_code": "128348002",
         "concept_name": "Neoplasm of digestive system",
         "count_in_cohort": 1,
         "descendant_concept_id": 4028253,
         "prevalence": 6.97350069735007E-4
        },
        {
         "ancestor_concept_id": 40491001,
         "concept_code": "448675008",
         "concept_name": "Malignant neoplasm of digestive system",
         "count_in_cohort": 1,
         "descendant_concept_id": 40491001,
         "prevalence": 6.97350069735007E-4
        },
        {
         "ancestor_concept_id": 43531055,
         "concept_code": "609621000",
         "concept_name": "Disorder of perineum",
         "count_in_cohort": 1,
         "descendant_concept_id": 43531055,
         "prevalence": 6.97350069735007E-4
        }
       ],
       "_concepts2": [],
       "_css": "/* PAGE LAYOUT */\n\n.vis-container {\n    /*display: flex;*/\n    /*flex-direction: column;*/\n    align-items: center;\n    width: 100%;\n    /*height: 432px; !* match concepts-row height *!*/\n    overflow: visible; /* hide outer vertical scrollbar */\n}\n\n.row-container {\n    display: flex;\n    justify-content: space-around;\n    width: 100%;\n    height: auto;\n    overflow: hidden;\n    /*margin-bottom: 5px;*/\n}\n\n.col-container {\n    flex: 1;\n    margin: 5px;\n    border: 1px solid black;\n    width: 100%;\n}\n\n/* BAR CHART */\n\n/* overall barchart size */\n.barchart{\n    font-family: sans-serif;\n    font-size: 12px;\n    width: 100%;  /* allows resize to fit the page*/\n    height: auto;\n}\n\n/* BAR CHART STYLES */\n\n/* bars */\n.bar1 {\n    fill: steelblue;\n}\n.bar2 {\n    fill: orange;\n}\n/* axis labels */\n.axis-label {\n    font-family: sans-serif;\n    font-size: 14px;\n}\n/* lines and tick marks */\n.axis path,\n.axis line {\n    fill: none;\n    stroke: black;\n    shape-rendering: crispEdges;\n}\n/* axis text */\n.axis text {\n    font-family: sans-serif;\n    font-size: 14px;\n}\n\n/* CONCEPTS TABLE */\n\n.concepts-row {\n    width: 100%;\n    height: 100%; /* fill vis-container height */\n}\n\n.div-concepts-table-body {\n    margin-top: 0;\n    overflow-y: auto;\n    overflow-x: auto;\n    background-color: #f9f9f9;\n}\n\n.table-body-wrapper {\n    overflow: auto;\n    max-height: 370px; /* header height removed */\n}\n\n.full-width {\n    width: 100%;\n}",
       "_esm": "import * as d3 from 'https://esm.sh/d3@7';\n\n// function initialize({ model }) {\n//     // Set up shared state or event handlers.\n//     return () => {\n//       // Optional: Called when the widget is destroyed.\n//     }\n// } // end initialize\n\nfunction render({ model, el }) {\n    // for testing\n    // alert('hello');\n\n    // DISPATCHERS\n\n    // for handling the concepts table\n    let conceptsTableDispatcher = d3.dispatch('filter','sort');\n\n\n    // <editor-fold desc=\"---------- UTILITY FUNCTIONS ----------\"\n\n    // clears an element\n    function clearElement(element) {\n        element.selectAll('*').remove();\n    }\n\n    // converts timestamp to formatted date 'YYYY-MM-DD'\n    function getIsoDateString(timestamp) {\n        let aDate = new Date(timestamp);\n        return aDate.toISOString().split('T')[0];\n    }\n\n    function isEmptyString(str) {\n        return typeof str === 'string' && str.trim().length === 0;\n    }\n\n    // converts keys to readable words by:\n    // 1. replacing the underscore with a space, and\n    // 2. capitalizing the first letter of each word\n    function makeKeysWords (keys, series1_name, series2_name) {\n        // console.log('keys', keys);\n\n        for (let i = 0; i < keys.length; i++) {\n            keys[i] = keys[i].replace(\"cohort1\", series1_name);\n            keys[i] = keys[i].replace(\"cohort2\", series2_name);\n        }\n\n        return keys.map(key => {\n            return key.split('_')\n                .map(part => part.charAt(0).toUpperCase() + part.slice(1))\n                .join(' ');\n        });\n    }\n\n    // function reduce_transform(data) {\n    //     // validate that data is a non-empty array\n    //     if (!Array.isArray(data) || data.length === 0) {\n    //         throw new Error(\"data must be a non-empty array\");\n    //     }\n    //\n    //     // validate that data contains valid objects\n    //     if (!data[0] || typeof data[0] !== 'object') {\n    //         throw new Error(\"data must contain valid objects\");\n    //     }\n    //\n    //     return Object.keys(data[0]).reduce((acc, key) => {\n    //         acc[key] = data.map(d => d[key]);\n    //         return acc;\n    //     }, {});\n    // }\n\n    // </editor-fold>\n\n    // <editor-fold desc=\"---------- DEFINE DATA ----------\">\n\n    var concepts1 = model.get('_concepts1');\n    var race_stats1 = model.get('_race_stats1');\n    var gender_dist1 = model.get('_gender_dist1');\n    var age_dist1 = model.get('_age_dist1');\n    var cohort1_name = model.get('_cohort1_name');\n\n    var concepts2 = model.get('_concepts2');\n    var race_stats2 = model.get('_race_stats2');\n    var gender_dist2 = model.get('_gender_dist2');\n    var age_dist2 = model.get('_age_dist2');\n    var cohort2_name = model.get('_cohort2_name');\n\n    // </editor-fold>\n\n    // <editor-fold desc=\"---------- VISUAL CONTROL FUNCTIONS ----------\">\n\n    /*\n* draws a search box\n* Parameters:\n*   containerId: type: string - prepended id of container where the control is to be rendered.\n*   dispatch: d3.dispatch instance - user input event handler\n*   label: type: string - label for the control\n*   width: type: string - the width of the input box in pixels\n*   data: type: list of objects - each object should have the keys display (string),\n*                                        and data (anything needed to handle the selection\n*   handleSearch: type: function - callback\n* Return:\n*   div: DOM div element containing input box\n*/\n    function SearchBox(dispatch, label='Search', width=300) {\n        let div = d3.create(\"xhtml:div\")\n            .attr(\"xmlns\", \"http://www.w3.org/1999/xhtml\")\n            .style(\"padding\", \"10px\");\n\n        let input = div.append('input')\n            .attr('type', 'text')\n            .attr('placeholder', label);\n\n        input.on('input', function (event) {\n            dispatch.call('filter', this, event.target.value);  // dispatch filter event\n        });\n\n        return div;\n    }\n\n    // </editor-fold>\n\n    // <editor-fold desc=\"---------- VERTICAL BAR CHART FUNCTIONS ----------\">\n\n    // all parameters are optional at the function signature level, but we are validating within the function\n    function VerticalBarChart(\n        series1,\n        {\n            series2 = { data: null, name: \"cohort 2\" },\n            dimensions: {\n                xlabel = \"\",\n                ylabel = \"\",\n                title = \"\",\n                width = 600,\n                height = 400,\n                margin = { top: 40, right: 10, bottom: 60, left: 80 },\n                padding = 0.1\n            } = {}\n        } = {}\n    ){\n        // validate series1\n        // if (!series1.data) {\n        //     throw new Error(\"VerticalBarChart requires series1.data.\");\n        // }\n        //\n        // // Validate that series1.data is a non-empty array\n        // if (!Array.isArray(series1.data) || series1.data.length === 0) {\n        //     throw new Error(\"series1.data must be a non-empty array\");\n        // }\n\n        let svg = d3.create('svg')\n            .attr('class', 'barchart')\n            .attr('width', width)\n            .attr('height', height)\n            .attr('viewBox', `0 0 ${width} ${height}`)\n            .attr('preserveAspectRatio', 'xMidYMid meet');\n\n        // Combine data for scales\n        const combinedData = series2.data ? series1.data.concat(series2.data) : series1.data;\n\n        // Set up scales\n        const xScale = d3.scaleBand(series1.data.map(d => d.category),\n            [margin.left, width - margin.right])\n            .padding(padding);\n\n        const yScale = d3.scaleLinear([0, d3.max(combinedData, d => d.value)],\n            [height - margin.bottom, margin.top])\n            .nice();\n\n        // Add X-axis\n        svg.append('g')\n            .attr('transform', `translate(0, ${height - margin.bottom})`)\n            .call(d3.axisBottom(xScale))\n            .attr('class', 'axis');\n\n        // x-axis label\n        svg.append('text')\n            .attr('class', 'axis-label')\n            .attr('x', width / 2)\n            .attr('y', height - 20)\n            .style('text-anchor', 'middle')\n            .text(xlabel);\n\n        // Add Y-axis\n        svg.append('g')\n            .attr('transform', `translate(${margin.left}, 0)`)\n            .call(d3.axisLeft(yScale))\n            .attr('class', 'axis');\n\n        // y-axis label\n        svg.append('text')\n            .attr('class', 'axis-label')\n            .attr('transform', 'rotate(-90)')\n            .attr('x', height / 2 * -1)\n            .attr('y', 20)\n            .attr('text-anchor', 'middle')\n            .text(ylabel);\n\n        if (title === '' && xlabel !== ''){\n            title = xlabel + ' Distribution';\n        }\n\n        svg.append('text')\n            .attr('class', 'chart-title')\n            .attr('text-anchor', 'middle')\n            .attr('x', width / 2)\n            .attr('y', margin.top / 2)\n            .text(title);\n\n        // console.log(xScale.bandwidth());\n\n        // series 1 bars\n        svg.selectAll('.bar1')\n            .data(series1.data)\n            .enter()\n            .append('rect')\n            .attr('class', 'bar1')\n            .attr('x', d => series2.data && series2.data.length > 0 ? xScale(d.category) : xScale(d.category))\n            .attr('y', d => yScale(d.value))\n            .attr('width', series2.data && series2.data.length > 0 ? xScale.bandwidth() / 2 : xScale.bandwidth())\n            .attr('height', d => height - margin.bottom - yScale(d.value));\n\n        if (series2.data && series2.data.length > 0) {\n            // series 2 data bars\n            svg.selectAll('.bar2')\n                .data(series2.data)\n                .enter()\n                .append('rect')\n                .attr('class', 'bar2')\n                .attr('x', d => xScale(d.category) + xScale.bandwidth() / 2)\n                .attr('y', d => yScale(d.value))\n                .attr('width', xScale.bandwidth() / 2)\n                .attr('height', d => height - margin.bottom - yScale(d.value));\n\n            // Add labels for series 2 data\n            svg.selectAll('.label2')\n                .data(series2.data)\n                .enter()\n                .append('text')\n                .attr('class', 'label2')\n                .attr('x', d => xScale(d.category) + xScale.bandwidth() / 2 + xScale.bandwidth() / 4) // CHANGED: Fixed positioning\n                .attr('y', d => yScale(d.value) - 5)\n                .attr('text-anchor', 'middle')\n                .text(d => d.value);\n\n            // labels for series 1 data if there are 2 datasets\n            svg.selectAll('.label1')\n                .data(series1.data)\n                .enter()\n                .append('text')\n                .attr('class', 'label1')\n                .attr('x', d => xScale(d.category) + xScale.bandwidth() / 4) // CHANGED: Fixed positioning\n                .attr('y', d => yScale(d.value) - 5)\n                .attr('text-anchor', 'middle')\n                .text(d => d.value);\n\n            // only show legend if there are 2 datasets\n            const legend_data = [\n                { label: series1.name, color: 'steelblue' },\n                { label: series2.name, color: 'orange' }\n            ];\n\n            const legend = svg.append('g')\n                .attr('class', 'legend')\n                .attr('transform', `translate(${margin.left}, ${height - 20})`);\n\n            // Grouped approach: create a group for each legend item\n            const legend_items = legend.selectAll('.legend-item')\n                .data(legend_data)\n                .enter()\n                .append('g')\n                .attr('class', 'legend-item')\n                .attr('transform', (d, i) => `translate(${i * 120}, 0)`);\n\n            // Add rectangle to each legend item group\n            legend_items.append('rect')\n                .attr('x', 0)\n                .attr('y', 0)\n                .attr('width', 18)\n                .attr('height', 18)\n                .attr('fill', d => d.color);\n\n            // Add text to each legend item group\n            legend_items.append('text')\n                .attr('x', 24)\n                .attr('y', 14) // Middle of 18px rect\n                .style('font-family', 'Arial, sans-serif')\n                .style('font-size', '14px')\n                .style('fill', 'black')\n                .style('dominant-baseline', 'middle')\n                .text(d => d.label);\n        }\n        else{\n            // labels for series 1 data if there is 1 dataset\n            svg.selectAll('.label1')\n                .data(series1.data)\n                .enter()\n                .append('text')\n                .attr('class', 'label1')\n                .attr('x', d => xScale(d.category) + xScale.bandwidth() / 2 + 5)\n                .attr('y', d => yScale(d.value) - 5)\n                .attr('text-anchor', 'middle')\n                .text(d => d.value);\n        }\n\n        return svg;\n    }\n\n    // </editor-fold>\n\n    // <editor-fold desc=\"---------- CONCEPTS TABLE FUNCTIONS ----------\">\n\n    function ConceptsTable(\n        series1, dispatch,\n        {\n            series2 = { data: null, name: \"baseline\" },\n            dimensions = { height: 432, row_height: 30 }\n        } = {}\n    ){\n        function prepareConceptsCompareData(data1, data2) {\n\n            // console.log('concepts1', data1)\n            // console.log('concepts2', data2)\n\n            let mergedList = data1.map(item1 => {\n                const item2 = data2.find(item => item.concept_code === item1.concept_code);\n                return Object.assign({}, item1, item2);\n            });\n\n            // Add a key-value pair based on a calculation (e.g., double the age)\n            mergedList = mergedList.map(item => {\n                item.difference_in_prevalence = (item.cohort1_prevalence ?? 0) - (item.cohort2_prevalence ?? 0);\n\n                item.bias = Math.abs(item.difference_in_prevalence);\n                delete item.cohort1_count;\n                delete item.cohort2_count;\n                delete item.ancestor_concept_id;\n                delete item.descendant_concept_id;\n                return item;\n            });\n\n            const order = ['concept_code', 'concept_name', 'cohort2_prevalence', 'difference_in_prevalence',\n                'cohort1_prevalence', 'bias'];\n\n            mergedList = mergedList.map(item => {\n                const rearrangedItem = {};\n                order.forEach(key => {\n                    if (item.hasOwnProperty(key)) {\n                        rearrangedItem[key] = item[key];\n                    }\n                });\n                return rearrangedItem;\n            });\n\n            // mergedList.sort((a, b) => b.bias - a.bias);\n            // mergedList.sort((a, b) => b.bias - a.bias);\n\n            // console.log('mergedList', mergedList);\n\n            return mergedList;\n        }\n\n        function handleFilterConcepts(dispatch, row, body_svg) {\n            dispatch.on(\"filter\", search_term => {\n                const normalized = search_term.toLowerCase().replace(/[^a-z0-9]/g, \"\");\n                row.style(\"display\", null);\n                row.filter(d => {\n                    const code = d.concept_code.toLowerCase();\n                    const name = d.concept_name.toLowerCase().replace(/[^a-z0-9]/g, \"\");\n                    return !(code.startsWith(normalized) || name.includes(normalized));\n                }).style(\"display\", \"none\");\n\n                // Recompute Y positions for visible rows\n                let yOffset = 0;\n                row.filter(function () {\n                    return d3.select(this).style(\"display\") !== \"none\";\n                })\n                    .each(function () {\n                        d3.select(this).attr(\"transform\", `translate(0, ${yOffset})`);\n                        yOffset += parseFloat(d3.select(this).select(\"rect\").attr(\"height\"));\n                    });\n                body_svg.attr(\"height\", yOffset);\n            });\n        }\n\n\n        // ==== Validation for required params ====\n        if (series1 === null || series1.data === null) {\n            throw new Error(\"ConceptsTable requires at least one cohort.\");\n        }\n\n        if (isEmptyString(series1.name)) {\n            series1.name = 'study cohort';\n        }\n\n        if (\n            !dispatch ||\n            typeof dispatch !== \"object\" ||\n            typeof dispatch.call !== \"function\" ||\n            typeof dispatch.on !== \"function\"\n        ) {\n            throw new Error(\"ConceptsTable requires a valid d3.dispatch object.\");\n        }\n\n        // ==== Validate optional params ====\n        if (series2 !== null && series2.data !== null && !Array.isArray(series2.data)) {\n            console.warn(\"ConceptsTable: Series 2 data should be an array (or null).\");\n        }\n\n        if (typeof dimensions !== \"object\" || dimensions === null) {\n            throw new Error(\"ConceptsTable: 'dimensions' must be an object.\");\n        }\n\n        let table_data;\n        if (series2.data !== null) {\n            table_data = prepareConceptsCompareData(series1.data, series2.data);\n        } else {\n            table_data = series1.data;\n        }\n\n        // console.log('table_data', table_data);\n\n        const text_offset_x = 10;\n        const { height, row_height } = dimensions;\n\n        // === container with scroll ===\n        const container = d3.create(\"div\")\n            .style(\"width\", \"100%\")\n            .style(\"max-height\", height + \"px\")\n            .style(\"overflow\", \"auto\")\n            .style(\"position\", \"relative\")\n            .style(\"border\", \"1px solid #ccc\")\n            .style(\"font-family\", \"sans-serif\");\n\n        // === HEADERS ===\n\n        const headers_text = makeKeysWords(Object.keys(table_data[0]), series1.name, series2.name);\n        if (!table_data.length) {\n            throw new Error(\"ConceptsTable: table_data is empty.\");\n        }\n\n        // TODO: I have assumed a maximum drawing area width of about 1070px. We may need to change this so that we get\n        //       the available canvas size and dynamically resize the visualization accordingly.\n        let columns_data;\n        if(series2.data === null){\n            columns_data = [\n                { text: headers_text[1], field: \"concept_code\", x: 0, width: 160 },\n                { text: headers_text[0], field: \"concept_name\", x: 160, width: 590 },\n                { text: headers_text[2], field: \"count_in_cohort\", x: 750, width: 160 },\n                { text: headers_text[3],\n                    field: d => (d.prevalence !== null ? d.prevalence.toFixed(3) : \"\"), x: 910, width: 160 }\n            ];\n        }\n        else{\n            columns_data = [\n                { text: headers_text[0], field: \"concept_code\", x: 0, width: 160, type: 'text' },\n                { text: headers_text[1], field: \"concept_name\", x: 160, width: 350, type: 'text' },\n                { text: headers_text[2],\n                    field: d => (d.cohort2_prevalence !== null ? d.cohort2_prevalence.toFixed(3) : \"\"),\n                    x: 510, width: 160, type: 'text' },\n                { text: headers_text[3], field: \"difference_in_prevalence\", x: 670, width: 240, type: 'compare_bars' },\n                { text: headers_text[4],\n                    field: d => (d.cohort1_prevalence !== null ? d.cohort1_prevalence.toFixed(3) : \"\"),\n                    x: 910, width: 160, type: 'text' }\n                // ,{ text: headers_text[5], field: \"bias\", x: 950, width: 120, type: 'bar' }\n            ];\n        }\n\n        const total_table_width = d3.sum(columns_data, d => d.width);\n\n        const headers_svg = container.append(\"svg\")\n            .attr(\"width\", total_table_width)\n            .attr(\"height\", row_height)\n            .style(\"position\", \"sticky\")\n            .style(\"top\", 0)\n            .style(\"background\", \"white\")\n            .style(\"z-index\", 1);\n\n        const headers_g = headers_svg.append(\"g\");\n\n        const header_g = headers_g.selectAll(\"g\")\n            .data(columns_data)\n            .enter()\n            .append(\"g\")\n            .attr(\"transform\", d => `translate(${d.x},0)`);\n\n        header_g.append(\"rect\")\n            .attr(\"width\", d => d.width)\n            .attr(\"height\", row_height)\n            .attr(\"fill\", \"#d0d0d0\")\n            .attr(\"stroke\", \"#fff\")\n            .style(\"cursor\", \"pointer\")\n            .on(\"click\", function(event, d) {\n                handleSort(d);\n            });\n\n        header_g.append(\"text\")\n            .attr(\"x\", text_offset_x)\n            .attr(\"y\", row_height / 2)\n            .attr(\"dy\", \"0.35em\")\n            .attr(\"text-anchor\", \"start\")\n            .style(\"cursor\", \"pointer\")\n            .style(\"pointer-events\", \"all\")\n            .text(d => d.text)\n            .on(\"click\", function(event, d) {\n                event.stopPropagation(); // Prevent header rect click\n                handleSort(d);\n            });\n\n        // Add sort indicators\n        header_g.append(\"text\")\n            .attr(\"class\", \"sort-indicator\")\n            .attr(\"x\", d => d.width - 15)\n            .attr(\"y\", row_height / 2)\n            .attr(\"dy\", \"0.35em\")\n            .attr(\"text-anchor\", \"middle\")\n            .attr(\"font-size\", \"12px\")\n            .attr(\"fill\", \"#666\")\n            .style(\"cursor\", \"pointer\")\n            .style(\"pointer-events\", \"all\")\n            .text(\"\")\n            .on(\"click\", function(event, d) {\n                event.stopPropagation(); // Prevent header click\n                handleSort(d);\n            });\n\n        // Function to handle sorting logic\n        function handleSort(d, skipToggle = false) {\n            // Toggle sort direction (unless we're initializing)\n            if (!skipToggle) {\n                if (d.sortDirection === \"asc\") {\n                    d.sortDirection = \"desc\";\n                } else {\n                    d.sortDirection = \"asc\";\n                }\n            }\n\n            // Clear other column sort indicators\n            columns_data.forEach(col => {\n                if (col !== d) {\n                    col.sortDirection = null;\n                }\n            });\n\n            // Dispatch sort event\n            dispatch.call(\"sort\", null, {\n                column: d.field,\n                direction: d.sortDirection,\n                columnData: d\n            });\n\n            // Update sort indicators using D3 data join\n            const sortIndicators = headers_g.selectAll(\".sort-indicator\")\n                .data(columns_data);\n\n            sortIndicators\n                .text(col => {\n                    if (col.sortDirection === \"asc\") return \"▲\";\n                    if (col.sortDirection === \"desc\") return \"▼\";\n                    return \"\";\n                });\n\n            // Sort the data\n            table_data.sort((a, b) => {\n                let aVal, bVal;\n\n                if (typeof d.field === \"function\") {\n                    aVal = d.field(a);\n                    bVal = d.field(b);\n                } else {\n                    aVal = a[d.field];\n                    bVal = b[d.field];\n                }\n\n                // Handle null/undefined values\n                if (aVal === null || aVal === undefined) aVal = \"\";\n                if (bVal === null || bVal === undefined) bVal = \"\";\n\n                // Convert to numbers if they look numeric\n                if (!isNaN(aVal) && !isNaN(bVal) && aVal !== \"\" && bVal !== \"\") {\n                    aVal = parseFloat(aVal);\n                    bVal = parseFloat(bVal);\n                }\n\n                let comparison = 0;\n                if (aVal < bVal) comparison = -1;\n                if (aVal > bVal) comparison = 1;\n\n                return d.sortDirection === \"desc\" ? -comparison : comparison;\n            });\n\n            // Re-render the table body with sorted data\n            updateTableBody();\n        }\n\n        // === Column resizing handle ===\n        header_g.append(\"rect\")\n            .attr(\"class\", \"resize-handle\")\n            .attr(\"x\", d => d.width - 5)\n            .attr(\"y\", 0)\n            .attr(\"width\", 5)\n            .attr(\"height\", row_height)\n            .style(\"cursor\", \"col-resize\")\n            .style(\"fill\", \"transparent\")\n            .call(d3.drag()\n                .on(\"start\", function(event, d) {\n                    d.startWidth = d.width;       // store starting width\n                    d.startX = event.x;           // store starting mouse X\n                })\n                .on(\"drag\", function(event, d) {\n                    const dx = event.x - d.startX;           // change in mouse X\n                    const newWidth = Math.max(30, d.startWidth + dx); // minimum width 30\n                    d.width = newWidth;\n\n                    // Update header rect\n                    d3.select(this.parentNode).select(\"rect\").attr(\"width\", newWidth);\n                    // Update resize handle position\n                    d3.select(this).attr(\"x\", newWidth - 5);\n\n                    // Recalculate x positions for all columns after this one\n                    let x = 0;\n                    columns_data.forEach(col => {\n                        col.x = x;\n                        x += col.width;\n                    });\n\n                    // Update header positions\n                    headers_g.selectAll(\"g\").attr(\"transform\", col => `translate(${col.x},0)`);\n\n                    // Update body cell positions and widths using D3 selections\n                    body_svg.selectAll(\".row\").each(function() {\n                        d3.select(this).selectAll(\".cell\")\n                            .data(columns_data)\n                            .attr(\"transform\", col => `translate(${col.x},0)`)\n                            .select(\".cell-bg\")\n                            .attr(\"width\", col => col.width);\n                    });\n\n                    // Update body and header SVG width\n                    const totalWidth = d3.sum(columns_data, c => c.width);\n                    body_svg.attr(\"width\", totalWidth);\n                    headers_svg.attr(\"width\", totalWidth);\n                })\n            );\n\n        // === BODY ===\n\n        const body_svg = container.append(\"svg\")\n            .attr(\"width\", total_table_width)\n            .attr(\"height\", table_data.length * row_height);\n\n        const rows_g = body_svg.append(\"g\");\n\n        let max_bias, max_diff, margin = 5;\n        if (series2.data !== null) {\n            max_bias = d3.max(table_data, d => Math.abs(d.bias)) || 0;\n            max_diff = d3.max(table_data, d => Math.abs(d.difference_in_prevalence)) || 0;\n        }\n\n        const biasScale = d3.scaleLinear();\n        const barScale = d3.scaleLinear();\n        let zeroX, g, outerHeight, innerY, innerH;\n\n        function updateTableBody() {\n            // D3 data join pattern: select, data, enter/update/exit\n            const rows = rows_g.selectAll(\".row\")\n                .data(table_data, d => d.concept_code || Math.random()); // Use concept_code as key if available\n\n            // Remove exiting rows\n            rows.exit().remove();\n\n            // Add new rows\n            const rowsEnter = rows.enter()\n                .append(\"g\")\n                .attr(\"class\", \"row\");\n\n            // Merge enter and update selections\n            const rowsUpdate = rowsEnter.merge(rows);\n\n            // Update positions with transition\n            rowsUpdate\n                .transition()\n                .duration(300)\n                .attr(\"transform\", (d, i) => `translate(0, ${i * row_height})`);\n\n            // Render cells for new rows only\n            renderTableCells(rowsEnter);\n\n            handleFilterConcepts(dispatch, rowsUpdate, body_svg);\n        }\n\n        function renderTableCells(row) {\n            // per-row, per-column cells\n            columns_data.forEach(col => {\n                const cell = row.append(\"g\")\n                    .attr(\"class\", \"cell\")\n                    .attr(\"transform\", `translate(${col.x},0)`);\n\n                cell.append(\"rect\")\n                    .attr(\"class\", \"cell-bg\")\n                    .attr(\"width\", col.width)\n                    .attr(\"height\", row_height)\n                    .attr(\"fill\", \"#f0f0f0\")\n                    .attr(\"stroke\", \"#ccc\");\n\n                if (series2.data === null) {\n                    cell.append(\"text\")\n                        .attr(\"x\", text_offset_x)\n                        .attr(\"y\", row_height / 2)\n                        .attr(\"dy\", \"0.35em\")\n                        .attr(\"text-anchor\", \"start\")\n                        .text(row_data => {\n                            const val = typeof col.field === \"function\" ? col.field(row_data) : row_data[col.field];\n                            return val !== null ? val : \"\";\n                        });\n                } else {\n                    switch (col.type) {\n                        case \"text\":\n                            cell.append(\"text\")\n                                .attr(\"x\", text_offset_x)\n                                .attr(\"y\", row_height / 2)\n                                .attr(\"dy\", \"0.35em\")\n                                .attr(\"text-anchor\", \"start\")\n                                .text(row_data => {\n                                    const val = typeof col.field === \"function\" ? col.field(row_data) : row_data[col.field];\n                                    return val !== null ? val : \"\";\n                                });\n                            break;\n\n                        case \"bar\":\n                            biasScale\n                                .domain([0, max_bias || 1])\n                                .range([margin, col.width - margin]);  // full available space inside cell\n\n                            cell.each(function (row_data) {\n                                g = d3.select(this);\n                                outerHeight = row_height;\n                                innerY = margin;\n                                innerH = outerHeight - 2 * margin;\n\n                                // Bar: left-aligned, scaled to bias value\n                                g.append(\"rect\")\n                                    .attr(\"x\", 0)\n                                    .attr(\"y\", innerY)\n                                    .attr(\"width\", biasScale(Math.abs(row_data.bias)))\n                                    .attr(\"height\", innerH)\n                                    .attr(\"fill\", \"lightslategrey\");\n\n                                // Text: show the bias value\n                                g.append(\"text\")\n                                    .attr(\"x\", 4)  // small left inset\n                                    .attr(\"y\", outerHeight / 2 + 4)\n                                    .attr(\"font-size\", \"10px\")\n                                    .attr(\"fill\", \"black\")\n                                    .text(row_data.bias !== null ? row_data.bias.toFixed(3) : \"\");\n                            });\n                            break;\n\n                        case \"compare_bars\":\n                            barScale\n                                .domain([-max_diff || -1, max_diff || 1])\n                                .range([margin, col.width - margin]);  // full available space inside cell\n\n                            zeroX = barScale(0);\n\n                            cell.each(function (row_data) {\n                                g = d3.select(this);\n                                outerHeight = row_height;\n                                innerY = 5;\n                                innerH = outerHeight - 2 * margin;\n\n                                // Bar\n                                g.append(\"rect\")\n                                    .attr(\"x\", Math.min(zeroX, barScale(row_data.difference_in_prevalence)))\n                                    .attr(\"y\", innerY)\n                                    .attr(\"width\", Math.abs(barScale(row_data.difference_in_prevalence) - zeroX))\n                                    .attr(\"height\", innerH)\n                                    .attr(\"fill\", row_data.difference_in_prevalence < 0 ? \"orange\" : \"steelblue\");\n\n                                // Text label - positioned based on value sign\n                                const textX = row_data.difference_in_prevalence >= 0 ?\n                                    Math.min(zeroX, barScale(row_data.difference_in_prevalence)) - 5 : // Left of positive bars\n                                    Math.max(zeroX, barScale(row_data.difference_in_prevalence)) + 5;  // Right of negative bars\n\n                                const textAnchor = row_data.difference_in_prevalence >= 0 ? \"end\" : \"start\";\n\n                                g.append(\"text\")\n                                    .attr(\"x\", textX)\n                                    .attr(\"y\", row_height / 2 + 4)\n                                    .attr(\"text-anchor\", textAnchor)\n                                    .attr(\"font-size\", \"10px\")\n                                    .text(row_data.difference_in_prevalence !== null ? row_data.difference_in_prevalence.toFixed(3) : \"\");\n\n                            });\n                            break;\n\n                        default:\n                            throw new Error(`Unknown column type: ${col.type}`);\n                    }\n                }\n            });\n        }\n\n        // Initial render\n        const row = rows_g.selectAll(\".row\")\n            .data(table_data)\n            .enter()\n            .append(\"g\")\n            .attr(\"class\", \"row\")\n            .attr(\"transform\", (d, i) => `translate(0, ${i * row_height})`);\n\n        renderTableCells(row);\n\n        // Initialize with descending sort on difference_in_prevalence if we have comparison data\n        // or on prevalence for single dataset tables\n        if (series2.data !== null) {\n            const diffColumn = columns_data.find(col => col.field === \"difference_in_prevalence\");\n            if (diffColumn) {\n                diffColumn.sortDirection = \"desc\";\n                handleSort(diffColumn, true); // Skip toggle for initialization\n            }\n        } else {\n            // For single dataset, sort by prevalence (which uses a function field)\n            const prevalenceColumn = columns_data.find(col =>\n                typeof col.field === \"function\" && col.field.toString().includes(\"prevalence\")\n            );\n            if (prevalenceColumn) {\n                prevalenceColumn.sortDirection = \"desc\";\n                handleSort(prevalenceColumn, true); // Skip toggle for initialization\n            }\n        }\n\n        handleFilterConcepts(dispatch, row, body_svg);\n\n        return container;\n    }\n\n    // </editor-fold>\n\n    // <editor-fold desc=\"---------- PAGE LAYOUT ----------\">\n\n    // overall container\n    let vis_container = document.createElementNS('http://www.w3.org/1999/xhtml', 'div');\n    vis_container.setAttribute('class', 'vis-container');\n\n    // demographics container row\n    let demographics_row = vis_container.appendChild(document.createElement('div'));\n    demographics_row.setAttribute('class', 'row-container');\n    // gender container\n    let div_gender = demographics_row.appendChild(document.createElement('div'));\n    div_gender.setAttribute('class', 'col-container');\n    // race container\n    let div_race = demographics_row.appendChild(document.createElement('div'));\n    div_race.setAttribute('class', 'col-container');\n    // age container\n    let div_age = demographics_row.appendChild(document.createElement('div'));\n    div_age.setAttribute('class', 'col-container');\n\n    // concepts container row\n    let concepts_row = vis_container.appendChild(document.createElement('div'));\n    concepts_row.setAttribute('class', 'row-container concepts-row');\n    // concepts container\n    let div_concepts_container = concepts_row.appendChild(document.createElement('div'));\n    div_concepts_container.setAttribute('class', 'col-container');\n\n    // </editor-fold>\n\n    // <editor-fold desc=\"---------- INSERT THE VISUALIZATIONS ----------\">\n\n    // draw the gender barchart\n    // console.log('gender_dist1', JSON.stringify(gender_dist1, null, 2));\n    // console.log('gender_dist2', JSON.stringify(gender_dist2, null, 2));\n    div_gender.appendChild(\n        VerticalBarChart({data: gender_dist1, name: cohort1_name},\n            {series2: {data: gender_dist2, name: cohort2_name}, dimensions: {xlabel: 'Gender'}}).node());\n\n    // draw the race barchart\n    // console.log('race_stats1', JSON.stringify(race_stats1, null, 2));\n    // console.log('race_stats2', JSON.stringify(race_stats2, null, 2));\n    div_race.appendChild(\n        VerticalBarChart({data: race_stats1, name: cohort1_name},\n            {series2: {data: race_stats2, name: cohort2_name}, dimensions: {xlabel: 'Race'}}).node());\n\n    // draw the age barchart\n    // console.log('age_dist1', JSON.stringify(age_dist1, null, 2));\n    // console.log('age_dist2', JSON.stringify(age_dist2, null, 2));\n    div_age.appendChild(\n        VerticalBarChart({data: age_dist1, name: cohort1_name},\n            {series2: {data: age_dist2, name: cohort2_name}, dimensions: {xlabel: 'Age'}}).node());\n\n    // draw the concepts table search box\n    div_concepts_container.appendChild(\n        SearchBox(conceptsTableDispatcher).node());\n\n    // if there is only one set of concepts, draw a single cohort concepts table\n    if(Object.keys(concepts2).length === 0) {\n        // draw the concepts table\n        div_concepts_container.appendChild(\n            ConceptsTable({data: concepts1, name: cohort1_name}, conceptsTableDispatcher).node());\n    }\n    else{\n        div_concepts_container.appendChild(\n            ConceptsTable({data: concepts1, name: cohort1_name}, conceptsTableDispatcher,\n                {series2: {data: concepts2, name: cohort2_name}}).node());\n    }\n\n    // attach the visualization to the AnyWidget element\n    el.appendChild(vis_container);\n\n    // </editor-fold>\n\n    // return () => {\n    //   // Optional: Called when the view is destroyed.\n    // }\n\n} // end render\n\n// export default async () => {\n//   let extraState = {};\n//   return {\n//     initialize({ model }) { /* ... */ },\n//     render({ model, el }) { /* ... */ },\n//   }\n// }\n\nexport default { render };\n",
       "_gender_dist1": [
        {
         "category": "female",
         "probability": 40.93,
         "value": 587
        },
        {
         "category": "male",
         "probability": 59.07,
         "value": 847
        },
        {
         "category": "other",
         "probability": 0,
         "value": 0
        }
       ],
       "_gender_dist2": [],
       "_model_module": "anywidget",
       "_model_module_version": "~0.9.*",
       "_model_name": "AnyModel",
       "_race_stats1": [
        {
         "category": "Other",
         "probability": 0.01,
         "value": 8
        },
        {
         "category": "Asian",
         "probability": 0.08,
         "value": 121
        },
        {
         "category": "Black or African American",
         "probability": 0.08,
         "value": 110
        },
        {
         "category": "White",
         "probability": 0.83,
         "value": 1195
        }
       ],
       "_race_stats2": [],
       "_view_module": "anywidget",
       "_view_module_version": "~0.9.*",
       "_view_name": "AnyView",
       "initialized": true,
       "layout": "IPY_MODEL_d59b37e82d814a20a323851bf2e38c1e"
      }
     },
     "d59b37e82d814a20a323851bf2e38c1e": {
      "model_module": "@jupyter-widgets/base",
      "model_module_version": "2.0.0",
      "model_name": "LayoutModel",
      "state": {}
     }
    },
    "version_major": 2,
    "version_minor": 0
   }
  }
 },
 "nbformat": 4,
 "nbformat_minor": 5
}
