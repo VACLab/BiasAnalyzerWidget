{
 "cells": [
  {
   "cell_type": "code",
   "id": "aeba7f16915c6789",
   "metadata": {
    "ExecuteTime": {
     "end_time": "2025-08-28T04:06:14.066409Z",
     "start_time": "2025-08-28T04:06:12.542952Z"
    }
   },
   "source": [
    "import os\n",
    "import json\n",
    "from CohortWidget import *\n",
    "\n",
    "# DEFINE PATHS\n",
    "COHORT_CREATION_YAML_PATH = './yaml'\n",
    "TEST_DATA_PATH = \"./data\""
   ],
   "outputs": [],
   "execution_count": 1
  },
  {
   "cell_type": "code",
   "id": "f80f74fdbafc3e56",
   "metadata": {
    "ExecuteTime": {
     "end_time": "2025-08-28T04:06:14.127693Z",
     "start_time": "2025-08-28T04:06:14.080731Z"
    }
   },
   "source": [
    "# LOAD TEST DATA\n",
    "\n",
    "# cohort data\n",
    "# with open(os.path.join(TEST_DATA_PATH,'study_cohort_data.json'), 'r') as file:\n",
    "#     study_cohort_data = json.load(file)\n",
    "# with open(os.path.join(TEST_DATA_PATH,'baseline_cohort_data.json'), 'r') as file:\n",
    "#     baseline_cohort_data = json.load(file)\n",
    "\n",
    "# concept stats\n",
    "with open(os.path.join(TEST_DATA_PATH,'study_concept_stats.json'), 'r') as file:\n",
    "    study_concept_stats = json.load(file)\n",
    "with open(os.path.join(TEST_DATA_PATH,'baseline_concept_stats.json'), 'r') as file:\n",
    "    baseline_concept_stats = json.load(file)\n",
    "\n",
    "# DEMOGRAPHICS\n",
    "# race stats\n",
    "with open(os.path.join(TEST_DATA_PATH,'study_race_stats.json'), 'r') as file:\n",
    "    study_race_stats = json.load(file)\n",
    "with open(os.path.join(TEST_DATA_PATH,'baseline_race_stats.json'), 'r') as file:\n",
    "    baseline_race_stats = json.load(file)\n",
    "\n",
    "# age distribution\n",
    "with open(os.path.join(TEST_DATA_PATH,'study_age_distr.json'), 'r') as file:\n",
    "    study_age_distr = json.load(file)\n",
    "with open(os.path.join(TEST_DATA_PATH,'baseline_age_distr.json'), 'r') as file:\n",
    "    baseline_age_distr = json.load(file)\n",
    "\n",
    "# age distribution\n",
    "with open(os.path.join(TEST_DATA_PATH,'study_gender_distr.json'), 'r') as file:\n",
    "    study_gender_distr = json.load(file)\n",
    "with open(os.path.join(TEST_DATA_PATH,'baseline_gender_distr.json'), 'r') as file:\n",
    "    baseline_gender_distr = json.load(file)\n",
    "\n",
    "\n",
    "# # check the data is ok\n",
    "# print('study_concept_stats:')\n",
    "# print(pd.DataFrame(study_concept_stats).head())\n",
    "print('baseline_concept_stats:')\n",
    "print(pd.DataFrame(baseline_concept_stats).head())\n",
    "\n",
    "# print('study_race_stats:')\n",
    "# print(study_race_stats)\n",
    "# print('baseline_race_stats:')\n",
    "# print(baseline_race_stats)\n",
    "\n",
    "# print('study_age_distr:')\n",
    "# print(study_age_distr)\n",
    "# print('baseline_age_distr:')\n",
    "# print(baseline_age_distr)\n",
    "\n",
    "# print('study_gender_distr:')\n",
    "# print(study_gender_distr)\n",
    "# print('baseline_gender_distr:')\n",
    "# print(baseline_gender_distr)"
   ],
   "outputs": [
    {
     "name": "stdout",
     "output_type": "stream",
     "text": [
      "baseline_concept_stats:\n",
      "                                condition_occurrence\n",
      "0  {'concept_name': 'Clinical finding', 'concept_...\n",
      "1  {'concept_name': 'Disease', 'concept_code': '6...\n",
      "2  {'concept_name': 'Finding by site', 'concept_c...\n",
      "3  {'concept_name': 'Disorder due to infection', ...\n",
      "4  {'concept_name': 'Viral disease', 'concept_cod...\n"
     ]
    }
   ],
   "execution_count": 2
  },
  {
   "cell_type": "code",
   "id": "7f7b929572136e26",
   "metadata": {
    "ExecuteTime": {
     "end_time": "2025-08-28T04:06:14.252513Z",
     "start_time": "2025-08-28T04:06:14.162708Z"
    }
   },
   "source": [
    "# CREATE AND RENDER STUDY COHORT WIDGET\n",
    "\n",
    "# pass json data as kwargs\n",
    "study_widget = CohortWidget(**{\n",
    "                    # study_cohort_data,\n",
    "                    \"concepts1\": study_concept_stats['condition_occurrence'],\n",
    "                    \"race_stats1\": study_race_stats,\n",
    "                    \"gender_dist1\": study_gender_distr,\n",
    "                    \"age_dist1\": study_age_distr,\n",
    "                })\n",
    "study_widget"
   ],
   "outputs": [
    {
     "data": {
      "text/plain": [
       "CohortWidget(initialized=True)"
      ],
      "application/vnd.jupyter.widget-view+json": {
       "version_major": 2,
       "version_minor": 1,
       "model_id": "7d8f11f5cfd34e4496ec581054997265"
      }
     },
     "execution_count": 3,
     "metadata": {},
     "output_type": "execute_result"
    }
   ],
   "execution_count": 3
  },
  {
   "cell_type": "code",
   "id": "c655c0e9-7abe-4dd5-bd4c-b3853901277b",
   "metadata": {
    "ExecuteTime": {
     "end_time": "2025-08-28T04:06:14.351556Z",
     "start_time": "2025-08-28T04:06:14.271530Z"
    }
   },
   "source": [
    "# CREATE AND RENDER BASELINE COHORT WIDGET\n",
    "\n",
    "\n",
    "# pass json data as kwargs\n",
    "baseline_widget = CohortWidget(**{\n",
    "                    # baseline_cohort_data,\n",
    "                    \"concepts1\": baseline_concept_stats['condition_occurrence'],\n",
    "                    \"race_stats1\": baseline_race_stats,\n",
    "                    \"gender_dist1\": baseline_gender_distr,\n",
    "                    \"age_dist1\": baseline_age_distr\n",
    "                })\n",
    "baseline_widget"
   ],
   "outputs": [
    {
     "data": {
      "text/plain": [
       "CohortWidget(initialized=True)"
      ],
      "application/vnd.jupyter.widget-view+json": {
       "version_major": 2,
       "version_minor": 1,
       "model_id": "e264632ad2ee4941925ead97d31625f8"
      }
     },
     "execution_count": 4,
     "metadata": {},
     "output_type": "execute_result"
    }
   ],
   "execution_count": 4
  },
  {
   "cell_type": "code",
   "id": "cb163ba7-b979-4c8c-a58e-fa811d3bb1ea",
   "metadata": {
    "ExecuteTime": {
     "end_time": "2025-08-28T04:06:27.233621Z",
     "start_time": "2025-08-28T04:06:27.138331Z"
    }
   },
   "source": [
    "# CREATE AND RENDER COMPARISON WIDGET\n",
    "\n",
    "# pass json data as kwargs\n",
    "compare_widget = CohortWidget(**{\n",
    "                    # study_cohort_data,\n",
    "                    \"concepts1\": study_concept_stats['condition_occurrence'],\n",
    "                    \"race_stats1\": study_race_stats,\n",
    "                    \"gender_dist1\": study_gender_distr,\n",
    "                    \"age_dist1\": study_age_distr,\n",
    "                    # baseline_cohort_data,\n",
    "                    \"concepts2\": baseline_concept_stats['condition_occurrence'],\n",
    "                    \"race_stats2\": baseline_race_stats,\n",
    "                    \"gender_dist2\": baseline_gender_distr,\n",
    "                    \"age_dist2\": baseline_age_distr\n",
    "                })\n",
    "compare_widget"
   ],
   "outputs": [
    {
     "data": {
      "text/plain": [
       "CohortWidget(initialized=True)"
      ],
      "application/vnd.jupyter.widget-view+json": {
       "version_major": 2,
       "version_minor": 1,
       "model_id": "c77a7534b9e940c0b188b654111bbf51"
      }
     },
     "execution_count": 6,
     "metadata": {},
     "output_type": "execute_result"
    }
   ],
   "execution_count": 6
  },
  {
   "cell_type": "code",
   "id": "38db95e0c486653c",
   "metadata": {
    "ExecuteTime": {
     "end_time": "2025-08-28T04:06:14.559659Z",
     "start_time": "2025-08-28T04:06:14.553680Z"
    }
   },
   "source": [],
   "outputs": [],
   "execution_count": null
  }
 ],
 "metadata": {
  "kernelspec": {
   "display_name": "biasanalyzer",
   "language": "python",
   "name": "biasanalyzer"
  },
  "language_info": {
   "codemirror_mode": {
    "name": "ipython",
    "version": 3
   },
   "file_extension": ".py",
   "mimetype": "text/x-python",
   "name": "python",
   "nbconvert_exporter": "python",
   "pygments_lexer": "ipython3",
   "version": "3.11.7"
  },
  "widgets": {
   "application/vnd.jupyter.widget-state+json": {
    "state": {},
    "version_major": 2,
    "version_minor": 0
   }
  }
 },
 "nbformat": 4,
 "nbformat_minor": 5
}
