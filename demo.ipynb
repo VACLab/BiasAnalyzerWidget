{
 "cells": [
  {
   "metadata": {},
   "cell_type": "code",
   "outputs": [],
   "execution_count": null,
   "source": [
    "from ViewCohorts import *\n",
    "from biasanalyzer.api import BIAS\n",
    "\n",
    "# initialize BIAS and connect to the database\n",
    "bias = BIAS()\n",
    "bias.set_config(\"./config.yaml\")\n",
    "bias.set_root_omop()"
   ],
   "id": "aaa11bb6e6cd8b3f"
  },
  {
   "metadata": {},
   "cell_type": "code",
   "outputs": [],
   "execution_count": null,
   "source": [
    "import os\n",
    "import pandas as pd\n",
    "\n",
    "COHORT_CREATION_YAML_PATH = './yaml'\n",
    "\n",
    "# create a study cohort (def create_cohort(self, cohort_name, cohort_desc, query_or_yaml_file, created_by))\n",
    "study_cohort = bias.create_cohort('COVID-19 patients',\n",
    "                                  'COVID-19 patients for the study cohort',\n",
    "                                  os.path.join(COHORT_CREATION_YAML_PATH, 'cohort_creation_config_study1_example3.yaml'),\n",
    "                                  'system')"
   ],
   "id": "61bf585a7dfe4484"
  },
  {
   "metadata": {},
   "cell_type": "code",
   "outputs": [],
   "execution_count": null,
   "source": [
    "# create a baseline cohort (def create_cohort(self, cohort_name, cohort_desc, query_or_yaml_file, created_by))\n",
    "baseline_cohort = bias.create_cohort('COVID-19 patients baseline',\n",
    "                                     'COVID-19 patients for the baseline cohort',\n",
    "                                     os.path.join(COHORT_CREATION_YAML_PATH, 'cohort_creation_config_baseline_example3.yaml'),\n",
    "                                     'system')"
   ],
   "id": "8d849aa92586894f"
  },
  {
   "metadata": {},
   "cell_type": "code",
   "outputs": [],
   "execution_count": null,
   "source": [
    "# create and render a BiasAnalyzer widget to view the study cohort\n",
    "study_cohort_view = ViewCohorts(cohort1=study_cohort,\n",
    "                                cohort1_shortname=\"study\")\n",
    "study_cohort_view"
   ],
   "id": "ef9d4c1500c0757e"
  },
  {
   "metadata": {},
   "cell_type": "code",
   "outputs": [],
   "execution_count": null,
   "source": [
    "# create and render a BiasAnalyzer widget to view the baseline cohort\n",
    "baseline_cohort_view = ViewCohorts(cohort1=baseline_cohort,\n",
    "                                   cohort1_shortname=\"baseline\")\n",
    "baseline_cohort_view"
   ],
   "id": "fdc14e2b466ea8a4"
  },
  {
   "metadata": {},
   "cell_type": "code",
   "outputs": [],
   "execution_count": null,
   "source": [
    "# create and render a BiasAnalyzer widget to compare the two cohorts\n",
    "compare_cohorts_view = ViewCohorts(cohort1=study_cohort,\n",
    "                                   cohort2=baseline_cohort,\n",
    "                                   cohort1_shortname=\"study\",\n",
    "                                   cohort2_shortname=\"baseline\")\n",
    "compare_cohorts_view"
   ],
   "id": "49761e68992a9e87"
  },
  {
   "metadata": {},
   "cell_type": "code",
   "outputs": [],
   "execution_count": null,
   "source": [
    "# disconnect from the database\n",
    "bias.cleanup()"
   ],
   "id": "852a51e102c16fc3"
  }
 ],
 "metadata": {},
 "nbformat": 4,
 "nbformat_minor": 5
}
