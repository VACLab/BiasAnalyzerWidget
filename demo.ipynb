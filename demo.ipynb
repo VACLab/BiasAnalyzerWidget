{
 "cells": [
  {
   "cell_type": "code",
   "id": "6407f66210c614f",
   "metadata": {},
   "source": [
    "from CohortWidget import *\n",
    "from biasanalyzer.api import BIAS\n",
    "\n",
    "# initialize BIAS and connect to the database\n",
    "bias = BIAS()\n",
    "bias.set_config(\"config.yaml\")\n",
    "bias.set_root_omop()"
   ],
   "outputs": [],
   "execution_count": null
  },
  {
   "metadata": {},
   "cell_type": "code",
   "source": [
    "import os\n",
    "\n",
    "COHORT_CREATION_YAML_PATH = './yaml'\n",
    "\n",
    "# create a study cohort (def create_cohort(self, cohort_name, cohort_desc, query_or_yaml_file, created_by))\n",
    "study_cohort = bias.create_cohort('Heart failure patients',\n",
    "                                  'Heart failure patients for the study cohort',\n",
    "                                   os.path.join(COHORT_CREATION_YAML_PATH, 'study1.yaml'),\n",
    "                                   'system')"
   ],
   "id": "e005c2b255a8e001",
   "outputs": [],
   "execution_count": null
  },
  {
   "metadata": {},
   "cell_type": "code",
   "source": [
    "# create a baseline cohort (def create_cohort(self, cohort_name, cohort_desc, query_or_yaml_file, created_by))\n",
    "baseline_cohort = bias.create_cohort('Heart failure patients baseline',\n",
    "                                     'Heart failure patients for the baseline cohort',\n",
    "                                     os.path.join(COHORT_CREATION_YAML_PATH, 'baseline.yaml'),\n",
    "                                     'system')"
   ],
   "id": "1291c6acc150b2ff",
   "outputs": [],
   "execution_count": null
  },
  {
   "metadata": {},
   "cell_type": "code",
   "source": [
    "# create and render a BiasAnalyzer widget to view the study cohort\n",
    "study_widget = CohortWidget(cohort1=study_cohort)\n",
    "study_widget"
   ],
   "id": "b831993d614e53e1",
   "outputs": [],
   "execution_count": null
  },
  {
   "metadata": {},
   "cell_type": "code",
   "source": [
    "# create and render a BiasAnalyzer widget to view the baseline cohort\n",
    "baseline_widget = CohortWidget(cohort1=baseline_cohort)\n",
    "baseline_widget"
   ],
   "id": "a96100513ed37a2f",
   "outputs": [],
   "execution_count": null
  },
  {
   "metadata": {},
   "cell_type": "code",
   "source": [
    "# create and render a BiasAnalyzer widget to compare the two cohorts\n",
    "compare_widget = CohortWidget(cohort1=study_cohort, cohort2=baseline_cohort)\n",
    "compare_widget"
   ],
   "id": "323ebdf689cd2d63",
   "outputs": [],
   "execution_count": null
  },
  {
   "metadata": {},
   "cell_type": "code",
   "source": [
    "# disconnect from the database\n",
    "bias.cleanup()"
   ],
   "id": "dfa99179db1bafc8",
   "outputs": [],
   "execution_count": null
  }
 ],
 "metadata": {
  "kernelspec": {
   "display_name": "biasanalyzer",
   "language": "python",
   "name": "biasanalyzer"
  },
  "language_info": {
   "codemirror_mode": {
    "name": "ipython",
    "version": 3
   },
   "file_extension": ".py",
   "mimetype": "text/x-python",
   "name": "python",
   "nbconvert_exporter": "python",
   "pygments_lexer": "ipython3",
   "version": "3.11.7"
  },
  "widgets": {
   "application/vnd.jupyter.widget-state+json": {
    "state": {},
    "version_major": 2,
    "version_minor": 0
   }
  }
 },
 "nbformat": 4,
 "nbformat_minor": 5
}
