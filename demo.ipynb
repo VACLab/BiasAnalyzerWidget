{
 "cells": [
  {
   "cell_type": "code",
   "id": "aaa11bb6e6cd8b3f",
   "metadata": {},
   "source": [
    "from CohortViewer import CohortViewer\n",
    "from biasanalyzer.api import BIAS\n",
    "\n",
    "# initialize BIAS and connect to the database\n",
    "bias = BIAS()\n",
    "bias.set_config(\"./config.yaml\")\n",
    "bias.set_root_omop()"
   ],
   "outputs": [],
   "execution_count": null
  },
  {
   "cell_type": "code",
   "id": "7ff774cb07ada5a0",
   "metadata": {},
   "source": [
    "import os\n",
    "import pandas as pd\n",
    "\n",
    "# COHORT_CREATION_YAML_PATH = './yaml'\n",
    "COHORT_CREATION_YAML_PATH = './utils/yaml_tests/cohort_creation/extras/diabetes_example2'\n",
    "\n",
    "# create a study cohort (def create_cohort(self, cohort_name, cohort_desc, query_or_yaml_file, created_by))\n",
    "study_cohort = bias.create_cohort('COVID-19 patients',\n",
    "                                  'COVID-19 patients for the study cohort',\n",
    "                                   os.path.join(COHORT_CREATION_YAML_PATH, 'cohort_creation_config_study1_example3.yaml'),\n",
    "                                   'system')\n",
    "# study_cohort = bias.create_cohort('Diabetes patients',\n",
    "#                                   'Diabetes patients for the study cohort',\n",
    "#                                    os.path.join(COHORT_CREATION_YAML_PATH, 'cohort_creation_config_study1_example2.yaml'),\n",
    "#                                    'system')"
   ],
   "outputs": [],
   "execution_count": null
  },
  {
   "cell_type": "code",
   "id": "7e8856c656140c9e",
   "metadata": {},
   "source": [
    "# create a baseline cohort (def create_cohort(self, cohort_name, cohort_desc, query_or_yaml_file, created_by))\n",
    "baseline_cohort = bias.create_cohort('COVID-19 patients baseline',\n",
    "                                     'COVID-19 patients for the baseline cohort',\n",
    "                                     os.path.join(COHORT_CREATION_YAML_PATH, 'cohort_creation_config_baseline_example3.yaml'),\n",
    "                                     'system')\n",
    "# baseline_cohort = bias.create_cohort('Diabetes patients baseline',\n",
    "#                                      'Diabetes patients for the baseline cohort',\n",
    "#                                      os.path.join(COHORT_CREATION_YAML_PATH, 'cohort_creation_config_baseline_example2.yaml'),\n",
    "#                                      'system')"
   ],
   "outputs": [],
   "execution_count": null
  },
  {
   "cell_type": "code",
   "id": "68f127a336ed2e8f",
   "metadata": {},
   "source": [
    "# create and render a BiasAnalyzer widget to view the study cohort\n",
    "study_widget = CohortViewer(cohort1=study_cohort,\n",
    "                            cohort1_name=\"study\")\n",
    "study_widget"
   ],
   "outputs": [],
   "execution_count": null
  },
  {
   "cell_type": "code",
   "id": "bcd379e3fb9c63d0",
   "metadata": {},
   "source": [
    "# create and render a BiasAnalyzer widget to view the baseline cohort\n",
    "baseline_widget = CohortViewer(cohort1=baseline_cohort,\n",
    "                               cohort1_name=\"baseline\")\n",
    "baseline_widget"
   ],
   "outputs": [],
   "execution_count": null
  },
  {
   "cell_type": "code",
   "id": "10a9de00077b223",
   "metadata": {},
   "source": [
    "# create and render a BiasAnalyzer widget to compare the two cohorts\n",
    "compare_widget = CohortViewer(cohort1=study_cohort,\n",
    "                              cohort2=baseline_cohort,\n",
    "                              cohort1_name=\"study\",\n",
    "                              cohort2_name=\"baseline\")\n",
    "compare_widget"
   ],
   "outputs": [],
   "execution_count": null
  },
  {
   "cell_type": "code",
   "id": "5ea131fd19950c3e",
   "metadata": {},
   "source": [
    "# disconnect from the database\n",
    "bias.cleanup()"
   ],
   "outputs": [],
   "execution_count": null
  },
  {
   "cell_type": "code",
   "id": "90a0a55d009259a1",
   "metadata": {},
   "source": [],
   "outputs": [],
   "execution_count": null
  }
 ],
 "metadata": {
  "kernelspec": {
   "display_name": "Python (biasanalyzer)",
   "language": "python",
   "name": "biasanalyzer"
  },
  "language_info": {
   "codemirror_mode": {
    "name": "ipython",
    "version": 3
   },
   "file_extension": ".py",
   "mimetype": "text/x-python",
   "name": "python",
   "nbconvert_exporter": "python",
   "pygments_lexer": "ipython3",
   "version": "3.11.13"
  },
  "widgets": {
   "application/vnd.jupyter.widget-state+json": {
    "state": {
     "04516c6e157b4503ab4992982c6dec61": {
      "model_module": "@jupyter-widgets/controls",
      "model_module_version": "2.0.0",
      "model_name": "HTMLModel",
      "state": {
       "layout": "IPY_MODEL_3014eb4934274ad29e9c7d061d6292f1",
       "style": "IPY_MODEL_6a529c19b851423089897c8ca3ca996c",
       "value": "Cohort creation: 100%"
      }
     },
     "04d823cd6d5749f2bacc723280a5dee4": {
      "model_module": "@jupyter-widgets/controls",
      "model_module_version": "2.0.0",
      "model_name": "HBoxModel",
      "state": {
       "children": [
        "IPY_MODEL_04516c6e157b4503ab4992982c6dec61",
        "IPY_MODEL_74e769bb352c4e59a6514f3cfa2007a0",
        "IPY_MODEL_f15e50225ef444dc8ced65931ad3a48e"
       ],
       "layout": "IPY_MODEL_25062013f32341258c843d8cebdb1b9a"
      }
     },
     "1494e58712a14b5abcf602eb4122fd28": {
      "model_module": "anywidget",
      "model_module_version": "~0.9.*",
      "model_name": "AnyModel",
      "state": {
       "_age_dist1": [
        {
         "age_bin": "0-10",
         "bin_count": 9,
         "probability": 0.0011
        },
        {
         "age_bin": "11-20",
         "bin_count": 205,
         "probability": 0.024
        },
        {
         "age_bin": "21-30",
         "bin_count": 2746,
         "probability": 0.321
        },
        {
         "age_bin": "31-40",
         "bin_count": 3047,
         "probability": 0.3562
        },
        {
         "age_bin": "41-50",
         "bin_count": 2276,
         "probability": 0.266
        },
        {
         "age_bin": "51-60",
         "bin_count": 272,
         "probability": 0.0318
        },
        {
         "age_bin": "61-70",
         "bin_count": 0,
         "probability": 0
        },
        {
         "age_bin": "71-80",
         "bin_count": 0,
         "probability": 0
        },
        {
         "age_bin": "81-90",
         "bin_count": 0,
         "probability": 0
        },
        {
         "age_bin": "91+",
         "bin_count": 0,
         "probability": 0
        }
       ],
       "_anywidget_id": "ViewCohorts.ViewCohorts",
       "_cohort1_meta": {
        "created_by": "system",
        "created_date": "2025-10-15",
        "creation_info": "WITH ranked_events_condition_occurrence AS ( SELECT person_id, condition_concept_id AS concept_id, condition_start_date AS event_start_date, condition_end_date AS event_end_date, ROW_NUMBER() OVER ( PARTITION BY person_id, condition_concept_id ORDER BY condition_start_date ASC ) AS event_instance FROM condition_occurrence ), domain_qualifying_events AS ( (SELECT person_id, event_start_date, event_end_date FROM ranked_events_condition_occurrence WHERE concept_id = 201826) ), filtered_cohort AS ( SELECT c.person_id, MIN(c.event_start_date) AS cohort_start_date, MAX(c.event_end_date) AS cohort_end_date FROM domain_qualifying_events c JOIN person p ON c.person_id = p.person_id WHERE 1=1 GROUP BY c.person_id ) SELECT * FROM filtered_cohort f",
        "description": "Diabetes patients for the baseline cohort",
        "id": 2,
        "name": "Diabetes patients baseline"
       },
       "_cohort1_shortname": "study",
       "_cohort1_stats": [
        {
         "avg_duration_days": null,
         "earliest_end_date": null,
         "earliest_start_date": "1928-04-04",
         "latest_end_date": null,
         "latest_start_date": "2020-05-12",
         "max_duration_days": null,
         "median_duration": null,
         "min_duration_days": null,
         "stddev_duration": null,
         "total_count": 8555
        }
       ],
       "_cond_hier": [
        {
         "children": [],
         "concept_code": "44054006",
         "concept_id": 201826,
         "concept_name": "Type 2 diabetes mellitus",
         "metrics": {
          "2": {
           "count": 8555,
           "prevalence": 1
          }
         },
         "parent_ids": [
          201820
         ],
         "source_cohorts": [
          2
         ]
        },
        {
         "children": [],
         "concept_code": "302870006",
         "concept_id": 4120314,
         "concept_name": "Hypertriglyceridemia",
         "metrics": {
          "2": {
           "count": 8367,
           "prevalence": 0.9780245470485096
          }
         },
         "parent_ids": [
          432867
         ],
         "source_cohorts": [
          2
         ]
        },
        {
         "children": [],
         "concept_code": "237602007",
         "concept_id": 436940,
         "concept_name": "Metabolic syndrome X",
         "metrics": {
          "2": {
           "count": 8289,
           "prevalence": 0.9689070718877849
          }
         },
         "parent_ids": [
          436670
         ],
         "source_cohorts": [
          2
         ]
        },
        {
         "children": [],
         "concept_code": "840539006",
         "concept_id": 37311061,
         "concept_name": "COVID-19",
         "metrics": {
          "2": {
           "count": 5453,
           "prevalence": 0.6374050263004091
          }
         },
         "parent_ids": [
          439676
         ],
         "source_cohorts": [
          2
         ]
        },
        {
         "children": [],
         "concept_code": "271737000",
         "concept_id": 439777,
         "concept_name": "Anemia",
         "metrics": {
          "2": {
           "count": 5201,
           "prevalence": 0.6079485680888369
          }
         },
         "parent_ids": [
          443723,
          4013074,
          4267432
         ],
         "source_cohorts": [
          2
         ]
        },
        {
         "children": [],
         "concept_code": "386661006",
         "concept_id": 437663,
         "concept_name": "Fever",
         "metrics": {
          "2": {
           "count": 4917,
           "prevalence": 0.5747516072472239
          }
         },
         "parent_ids": [
          4178904
         ],
         "source_cohorts": [
          2
         ]
        },
        {
         "children": [],
         "concept_code": "80394007",
         "concept_id": 4214376,
         "concept_name": "Hyperglycemia",
         "metrics": {
          "2": {
           "count": 4445,
           "prevalence": 0.5195791934541204
          }
         },
         "parent_ids": [
          4130526
         ],
         "source_cohorts": [
          2
         ]
        },
        {
         "children": [],
         "concept_code": "49727002",
         "concept_id": 254761,
         "concept_name": "Cough",
         "metrics": {
          "2": {
           "count": 3704,
           "prevalence": 0.43296317942723556
          }
         },
         "parent_ids": [
          4267789
         ],
         "source_cohorts": [
          2
         ]
        },
        {
         "children": [],
         "concept_code": "431855005",
         "concept_id": 443614,
         "concept_name": "Chronic kidney disease stage 1",
         "metrics": {
          "2": {
           "count": 3657,
           "prevalence": 0.42746931618936296
          }
         },
         "parent_ids": [
          46271022
         ],
         "source_cohorts": [
          2
         ]
        },
        {
         "children": [],
         "concept_code": "368581000119106",
         "concept_id": 37016354,
         "concept_name": "Neuropathy due to type 2 diabetes mellitus",
         "metrics": {
          "2": {
           "count": 3045,
           "prevalence": 0.3559322033898305
          }
         },
         "parent_ids": [
          4044391,
          376065
         ],
         "source_cohorts": [
          2
         ]
        },
        {
         "children": [],
         "concept_code": "9414007",
         "concept_id": 4311629,
         "concept_name": "Impaired glucose tolerance",
         "metrics": {
          "2": {
           "count": 2982,
           "prevalence": 0.34856808883693746
          }
         },
         "parent_ids": [
          31821,
          4130161
         ],
         "source_cohorts": [
          2
         ]
        },
        {
         "children": [],
         "concept_code": "36955009",
         "concept_id": 4289517,
         "concept_name": "Loss of taste",
         "metrics": {
          "2": {
           "count": 2808,
           "prevalence": 0.32822910578609
          }
         },
         "parent_ids": [
          4022570,
          44783587,
          4296465
         ],
         "source_cohorts": [
          2
         ]
        },
        {
         "children": [],
         "concept_code": "59621000",
         "concept_id": 320128,
         "concept_name": "Essential hypertension",
         "metrics": {
          "2": {
           "count": 2399,
           "prevalence": 0.2804208065458796
          }
         },
         "parent_ids": [
          316866
         ],
         "source_cohorts": [
          2
         ]
        },
        {
         "children": [],
         "concept_code": "84229001",
         "concept_id": 4223659,
         "concept_name": "Fatigue",
         "metrics": {
          "2": {
           "count": 2070,
           "prevalence": 0.24196376388077148
          }
         },
         "parent_ids": [
          4022830,
          4230389
         ],
         "source_cohorts": [
          2
         ]
        },
        {
         "children": [],
         "concept_code": "233604007",
         "concept_id": 255848,
         "concept_name": "Pneumonia",
         "metrics": {
          "2": {
           "count": 2047,
           "prevalence": 0.23927527761542958
          }
         },
         "parent_ids": [
          253506,
          4318404
         ],
         "source_cohorts": [
          2
         ]
        },
        {
         "children": [],
         "concept_code": "389087006",
         "concept_id": 437390,
         "concept_name": "Hypoxemia",
         "metrics": {
          "2": {
           "count": 2010,
           "prevalence": 0.23495032144944478
          }
         },
         "parent_ids": [
          4080012
         ],
         "source_cohorts": [
          2
         ]
        },
        {
         "children": [],
         "concept_code": "271825005",
         "concept_id": 4158346,
         "concept_name": "Respiratory distress",
         "metrics": {
          "2": {
           "count": 2010,
           "prevalence": 0.23495032144944478
          }
         },
         "parent_ids": [
          4239819,
          4041664
         ],
         "source_cohorts": [
          2
         ]
        },
        {
         "children": [],
         "concept_code": "248595008",
         "concept_id": 4089228,
         "concept_name": "Sputum finding",
         "metrics": {
          "2": {
           "count": 1855,
           "prevalence": 0.21683226183518411
          }
         },
         "parent_ids": [
          441840
         ],
         "source_cohorts": [
          2
         ]
        },
        {
         "children": [],
         "concept_code": "1551000119108",
         "concept_id": 43530656,
         "concept_name": "Nonproliferative retinopathy due to type 2 diabetes mellitus",
         "metrics": {
          "2": {
           "count": 1383,
           "prevalence": 0.16165984804208067
          }
         },
         "parent_ids": [
          4226121,
          376683
         ],
         "source_cohorts": [
          2
         ]
        },
        {
         "children": [],
         "concept_code": "56018004",
         "concept_id": 314754,
         "concept_name": "Wheezing",
         "metrics": {
          "2": {
           "count": 1273,
           "prevalence": 0.14880187025131503
          }
         },
         "parent_ids": [
          4115387
         ],
         "source_cohorts": [
          2
         ]
        },
        {
         "children": [],
         "concept_code": "267036007",
         "concept_id": 312437,
         "concept_name": "Dyspnea",
         "metrics": {
          "2": {
           "count": 1273,
           "prevalence": 0.14880187025131503
          }
         },
         "parent_ids": [
          4041664
         ],
         "source_cohorts": [
          2
         ]
        },
        {
         "children": [],
         "concept_code": "65710008",
         "concept_id": 319049,
         "concept_name": "Acute respiratory failure",
         "metrics": {
          "2": {
           "count": 1007,
           "prevalence": 0.11770894213909994
          }
         },
         "parent_ids": [
          4006969,
          4256228
         ],
         "source_cohorts": [
          2
         ]
        },
        {
         "children": [],
         "concept_code": "230690007",
         "concept_id": 381316,
         "concept_name": "Cerebrovascular accident",
         "metrics": {
          "2": {
           "count": 978,
           "prevalence": 0.11431911163062536
          }
         },
         "parent_ids": [
          4133611,
          381591
         ],
         "source_cohorts": [
          2
         ]
        },
        {
         "children": [],
         "concept_code": "40055000",
         "concept_id": 257012,
         "concept_name": "Chronic sinusitis",
         "metrics": {
          "2": {
           "count": 964,
           "prevalence": 0.11268264172998246
          }
         },
         "parent_ids": [
          444208,
          4283893,
          4063381
         ],
         "source_cohorts": [
          2
         ]
        },
        {
         "children": [],
         "concept_code": "770349000",
         "concept_id": 36674642,
         "concept_name": "Sepsis caused by virus",
         "metrics": {
          "2": {
           "count": 864,
           "prevalence": 0.10099357101110462
          }
         },
         "parent_ids": [
          132797,
          4027384,
          440029
         ],
         "source_cohorts": [
          2
         ]
        },
        {
         "children": [],
         "concept_code": "53741008",
         "concept_id": 317576,
         "concept_name": "Coronary arteriosclerosis",
         "metrics": {
          "2": {
           "count": 862,
           "prevalence": 0.10075978959672706
          }
         },
         "parent_ids": [
          4027255,
          318443,
          4187067
         ],
         "source_cohorts": [
          2
         ]
        },
        {
         "children": [],
         "concept_code": "57676002",
         "concept_id": 77074,
         "concept_name": "Joint pain",
         "metrics": {
          "2": {
           "count": 852,
           "prevalence": 0.09959088252483927
          }
         },
         "parent_ids": [
          4150129,
          4179167
         ],
         "source_cohorts": [
          2
         ]
        },
        {
         "children": [],
         "concept_code": "444814009",
         "concept_id": 40481087,
         "concept_name": "Viral sinusitis",
         "metrics": {
          "2": {
           "count": 851,
           "prevalence": 0.0994739918176505
          }
         },
         "parent_ids": [
          4283893,
          4176944,
          4085100
         ],
         "source_cohorts": [
          2
         ]
        },
        {
         "children": [],
         "concept_code": "19169002",
         "concept_id": 4078393,
         "concept_name": "Miscarriage in first trimester",
         "metrics": {
          "2": {
           "count": 849,
           "prevalence": 0.09924021040327294
          }
         },
         "parent_ids": [
          4067106
         ],
         "source_cohorts": [
          2
         ]
        },
        {
         "children": [],
         "concept_code": "88805009",
         "concept_id": 4229440,
         "concept_name": "Chronic congestive heart failure",
         "metrics": {
          "2": {
           "count": 805,
           "prevalence": 0.09409701928696669
          }
         },
         "parent_ids": [
          444031,
          319835
         ],
         "source_cohorts": [
          2
         ]
        },
        {
         "children": [],
         "concept_code": "92691004",
         "concept_id": 200970,
         "concept_name": "Carcinoma in situ of prostate",
         "metrics": {
          "2": {
           "count": 792,
           "prevalence": 0.09257744009351257
          }
         },
         "parent_ids": [
          196068,
          4129902
         ],
         "source_cohorts": [
          2
         ]
        },
        {
         "children": [],
         "concept_code": "64859006",
         "concept_id": 80502,
         "concept_name": "Osteoporosis",
         "metrics": {
          "2": {
           "count": 784,
           "prevalence": 0.09164231443600233
          }
         },
         "parent_ids": [
          75909
         ],
         "source_cohorts": [
          2
         ]
        },
        {
         "children": [],
         "concept_code": "25064002",
         "concept_id": 378253,
         "concept_name": "Headache",
         "metrics": {
          "2": {
           "count": 771,
           "prevalence": 0.09012273524254821
          }
         },
         "parent_ids": [
          4132926,
          4247371
         ],
         "source_cohorts": [
          2
         ]
        },
        {
         "children": [],
         "concept_code": "267102003",
         "concept_id": 4147326,
         "concept_name": "Sore throat symptom",
         "metrics": {
          "2": {
           "count": 763,
           "prevalence": 0.08918760958503799
          }
         },
         "parent_ids": [
          259153,
          4303401,
          4116809,
          4115406,
          4114487
         ],
         "source_cohorts": [
          2
         ]
        },
        {
         "children": [],
         "concept_code": "43724002",
         "concept_id": 434490,
         "concept_name": "Chill",
         "metrics": {
          "2": {
           "count": 708,
           "prevalence": 0.08275862068965517
          }
         },
         "parent_ids": [
          4087630
         ],
         "source_cohorts": [
          2
         ]
        },
        {
         "children": [],
         "concept_code": "49436004",
         "concept_id": 313217,
         "concept_name": "Atrial fibrillation",
         "metrics": {
          "2": {
           "count": 703,
           "prevalence": 0.08217416715371129
          }
         },
         "parent_ids": [
          4226399,
          4068155
         ],
         "source_cohorts": [
          2
         ]
        },
        {
         "children": [],
         "concept_code": "706870000",
         "concept_id": 45768439,
         "concept_name": "Acute pulmonary embolism",
         "metrics": {
          "2": {
           "count": 662,
           "prevalence": 0.07738164815897136
          }
         },
         "parent_ids": [
          440417,
          4028367
         ],
         "source_cohorts": [
          2
         ]
        },
        {
         "children": [],
         "concept_code": "132281000119108",
         "concept_id": 44782746,
         "concept_name": "Acute deep venous thrombosis",
         "metrics": {
          "2": {
           "count": 655,
           "prevalence": 0.07656341320864991
          }
         },
         "parent_ids": [
          4133004,
          4028367
         ],
         "source_cohorts": [
          2
         ]
        },
        {
         "children": [],
         "concept_code": "239873007",
         "concept_id": 4079750,
         "concept_name": "Osteoarthritis of knee",
         "metrics": {
          "2": {
           "count": 646,
           "prevalence": 0.0755113968439509
          }
         },
         "parent_ids": [
          4324765,
          80180
         ],
         "source_cohorts": [
          2
         ]
        },
        {
         "children": [],
         "concept_code": "68496003",
         "concept_id": 4285898,
         "concept_name": "Polyp of colon",
         "metrics": {
          "2": {
           "count": 601,
           "prevalence": 0.07025131502045587
          }
         },
         "parent_ids": [
          4164337,
          4143250,
          45763613
         ],
         "source_cohorts": [
          2
         ]
        },
        {
         "children": [],
         "concept_code": "90781000119102",
         "concept_id": 45769905,
         "concept_name": "Microalbuminuria due to type 2 diabetes mellitus",
         "metrics": {
          "2": {
           "count": 558,
           "prevalence": 0.0652250146113384
          }
         },
         "parent_ids": [
          4128221,
          45757499
         ],
         "source_cohorts": [
          2
         ]
        },
        {
         "children": [],
         "concept_code": "195662009",
         "concept_id": 4112343,
         "concept_name": "Acute viral pharyngitis",
         "metrics": {
          "2": {
           "count": 530,
           "prevalence": 0.061952074810052604
          }
         },
         "parent_ids": [
          4035987,
          25297,
          257011,
          4252853
         ],
         "source_cohorts": [
          2
         ]
        },
        {
         "children": [],
         "concept_code": "431856006",
         "concept_id": 443601,
         "concept_name": "Chronic kidney disease stage 2",
         "metrics": {
          "2": {
           "count": 524,
           "prevalence": 0.06125073056691993
          }
         },
         "parent_ids": [
          46271022
         ],
         "source_cohorts": [
          2
         ]
        },
        {
         "children": [],
         "concept_code": "97331000119101",
         "concept_id": 45770830,
         "concept_name": "Macular edema and retinopathy due to type 2 diabetes mellitus",
         "metrics": {
          "2": {
           "count": 511,
           "prevalence": 0.05973115137346581
          }
         },
         "parent_ids": [
          35626070
         ],
         "source_cohorts": [
          2
         ]
        },
        {
         "children": [],
         "concept_code": "10509002",
         "concept_id": 260139,
         "concept_name": "Acute bronchitis",
         "metrics": {
          "2": {
           "count": 401,
           "prevalence": 0.04687317358270018
          }
         },
         "parent_ids": [
          4134294,
          256451,
          4006969
         ],
         "source_cohorts": [
          2
         ]
        },
        {
         "children": [],
         "concept_code": "67782005",
         "concept_id": 4195694,
         "concept_name": "Acute respiratory distress syndrome",
         "metrics": {
          "2": {
           "count": 358,
           "prevalence": 0.041846873173582703
          }
         },
         "parent_ids": [
          4078925,
          4006969,
          4119786
         ],
         "source_cohorts": [
          2
         ]
        },
        {
         "children": [],
         "concept_code": "1501000119109",
         "concept_id": 43530685,
         "concept_name": "Proliferative retinopathy due to type 2 diabetes mellitus",
         "metrics": {
          "2": {
           "count": 350,
           "prevalence": 0.040911747516072475
          }
         },
         "parent_ids": [
          380096,
          4226121
         ],
         "source_cohorts": [
          2
         ]
        },
        {
         "children": [],
         "concept_code": "22298006",
         "concept_id": 4329847,
         "concept_name": "Myocardial infarction",
         "metrics": {
          "2": {
           "count": 335,
           "prevalence": 0.03915838690824079
          }
         },
         "parent_ids": [
          43530876,
          4239975,
          4185932,
          4354249
         ],
         "source_cohorts": [
          2
         ]
        },
        {
         "children": [],
         "concept_code": "55680006",
         "concept_id": 4208104,
         "concept_name": "Drug overdose",
         "metrics": {
          "2": {
           "count": 318,
           "prevalence": 0.03717124488603156
          }
         },
         "parent_ids": [
          444363
         ],
         "source_cohorts": [
          2
         ]
        },
        {
         "children": [],
         "concept_code": "422587007",
         "concept_id": 31967,
         "concept_name": "Nausea",
         "metrics": {
          "2": {
           "count": 313,
           "prevalence": 0.03658679135008767
          }
         },
         "parent_ids": [
          4304916
         ],
         "source_cohorts": [
          2
         ]
        },
        {
         "children": [],
         "concept_code": "249497008",
         "concept_id": 4096715,
         "concept_name": "Vomiting symptom",
         "metrics": {
          "2": {
           "count": 313,
           "prevalence": 0.03658679135008767
          }
         },
         "parent_ids": [
          4303401,
          4101344
         ],
         "source_cohorts": [
          2
         ]
        },
        {
         "children": [],
         "concept_code": "713197008",
         "concept_id": 37017023,
         "concept_name": "Recurrent rectal polyp",
         "metrics": {
          "2": {
           "count": 286,
           "prevalence": 0.03343074225599065
          }
         },
         "parent_ids": [
          4216644,
          4134593,
          440059
         ],
         "source_cohorts": [
          2
         ]
        },
        {
         "children": [],
         "concept_code": "424132000",
         "concept_id": 4310703,
         "concept_name": "Non-small cell carcinoma of lung, TNM stage 1",
         "metrics": {
          "2": {
           "count": 265,
           "prevalence": 0.030976037405026302
          }
         },
         "parent_ids": [
          4115276
         ],
         "source_cohorts": [
          2
         ]
        },
        {
         "children": [],
         "concept_code": "76571007",
         "concept_id": 196236,
         "concept_name": "Septic shock",
         "metrics": {
          "2": {
           "count": 262,
           "prevalence": 0.030625365283459965
          }
         },
         "parent_ids": [
          201965,
          4271450
         ],
         "source_cohorts": [
          2
         ]
        },
        {
         "children": [],
         "concept_code": "124171000119105",
         "concept_id": 43530652,
         "concept_name": "Chronic intractable migraine without aura",
         "metrics": {
          "2": {
           "count": 256,
           "prevalence": 0.029924021040327296
          }
         },
         "parent_ids": [
          443616,
          4301371,
          4141827
         ],
         "source_cohorts": [
          2
         ]
        },
        {
         "children": [],
         "concept_code": "410429000",
         "concept_id": 321042,
         "concept_name": "Cardiac arrest",
         "metrics": {
          "2": {
           "count": 247,
           "prevalence": 0.02887200467562829
          }
         },
         "parent_ids": [
          44784217
         ],
         "source_cohorts": [
          2
         ]
        },
        {
         "children": [],
         "concept_code": "68235000",
         "concept_id": 4195085,
         "concept_name": "Nasal congestion",
         "metrics": {
          "2": {
           "count": 240,
           "prevalence": 0.028053769725306838
          }
         },
         "parent_ids": [
          4096565
         ],
         "source_cohorts": [
          2
         ]
        },
        {
         "children": [],
         "concept_code": "267060006",
         "concept_id": 4145808,
         "concept_name": "Diarrhea symptom",
         "metrics": {
          "2": {
           "count": 239,
           "prevalence": 0.02793687901811806
          }
         },
         "parent_ids": [
          192731,
          196523
         ],
         "source_cohorts": [
          2
         ]
        },
        {
         "children": [],
         "concept_code": "201834006",
         "concept_id": 75036,
         "concept_name": "Localized, primary osteoarthritis of the hand",
         "metrics": {
          "2": {
           "count": 231,
           "prevalence": 0.02700175336060783
          }
         },
         "parent_ids": [
          72993,
          78227
         ],
         "source_cohorts": [
          2
         ]
        },
        {
         "children": [],
         "concept_code": "239872002",
         "concept_id": 4079749,
         "concept_name": "Osteoarthritis of hip",
         "metrics": {
          "2": {
           "count": 231,
           "prevalence": 0.02700175336060783
          }
         },
         "parent_ids": [
          40483794,
          4177851
         ],
         "source_cohorts": [
          2
         ]
        },
        {
         "children": [],
         "concept_code": "196416002",
         "concept_id": 4055754,
         "concept_name": "Impacted molars",
         "metrics": {
          "2": {
           "count": 230,
           "prevalence": 0.026884862653419054
          }
         },
         "parent_ids": [
          4123726
         ],
         "source_cohorts": [
          2
         ]
        },
        {
         "children": [],
         "concept_code": "234466008",
         "concept_id": 4120613,
         "concept_name": "Acquired coagulation disorder",
         "metrics": {
          "2": {
           "count": 223,
           "prevalence": 0.026066627703097603
          }
         },
         "parent_ids": [
          432585
         ],
         "source_cohorts": [
          2
         ]
        },
        {
         "children": [],
         "concept_code": "72892002",
         "concept_id": 4217975,
         "concept_name": "Normal pregnancy",
         "metrics": {
          "2": {
           "count": 220,
           "prevalence": 0.02571595558153127
          }
         },
         "parent_ids": [
          4299535
         ],
         "source_cohorts": [
          2
         ]
        },
        {
         "children": [],
         "concept_code": "86175003",
         "concept_id": 4311280,
         "concept_name": "Injury of heart",
         "metrics": {
          "2": {
           "count": 199,
           "prevalence": 0.02326125073056692
          }
         },
         "parent_ids": [
          4152156,
          4027255,
          37116489
         ],
         "source_cohorts": [
          2
         ]
        },
        {
         "children": [],
         "concept_code": "40095003",
         "concept_id": 4220631,
         "concept_name": "Injury of kidney",
         "metrics": {
          "2": {
           "count": 198,
           "prevalence": 0.023144360023378142
          }
         },
         "parent_ids": [
          37116613,
          198124,
          45769862,
          4169252
         ],
         "source_cohorts": [
          2
         ]
        },
        {
         "children": [],
         "concept_code": "254837009",
         "concept_id": 4112853,
         "concept_name": "Malignant tumor of breast",
         "metrics": {
          "2": {
           "count": 193,
           "prevalence": 0.02255990648743425
          }
         },
         "parent_ids": [
          80665,
          81251
         ],
         "source_cohorts": [
          2
         ]
        },
        {
         "children": [],
         "concept_code": "7200002",
         "concept_id": 4218106,
         "concept_name": "Alcoholism",
         "metrics": {
          "2": {
           "count": 177,
           "prevalence": 0.020689655172413793
          }
         },
         "parent_ids": [
          4080762,
          36714559
         ],
         "source_cohorts": [
          2
         ]
        },
        {
         "children": [],
         "concept_code": "74400008",
         "concept_id": 440448,
         "concept_name": "Appendicitis",
         "metrics": {
          "2": {
           "count": 173,
           "prevalence": 0.02022209234365868
          }
         },
         "parent_ids": [
          4201402,
          433524
         ],
         "source_cohorts": [
          2
         ]
        },
        {
         "children": [],
         "concept_code": "314994000",
         "concept_id": 4196262,
         "concept_name": "Metastasis from malignant tumor of prostate",
         "metrics": {
          "2": {
           "count": 164,
           "prevalence": 0.019170075978959672
          }
         },
         "parent_ids": [
          432851
         ],
         "source_cohorts": [
          2
         ]
        },
        {
         "children": [],
         "concept_code": "79586000",
         "concept_id": 199076,
         "concept_name": "Tubal pregnancy",
         "metrics": {
          "2": {
           "count": 148,
           "prevalence": 0.017299824663939218
          }
         },
         "parent_ids": [
          437611,
          4134442
         ],
         "source_cohorts": [
          2
         ]
        },
        {
         "children": [],
         "concept_code": "185086009",
         "concept_id": 258780,
         "concept_name": "Emphysematous bronchitis",
         "metrics": {
          "2": {
           "count": 148,
           "prevalence": 0.017299824663939218
          }
         },
         "parent_ids": [
          4279071,
          255841
         ],
         "source_cohorts": [
          2
         ]
        },
        {
         "children": [],
         "concept_code": "5602001",
         "concept_id": 438130,
         "concept_name": "Opioid abuse",
         "metrics": {
          "2": {
           "count": 147,
           "prevalence": 0.017182933956750437
          }
         },
         "parent_ids": [
          4239381
         ],
         "source_cohorts": [
          2
         ]
        },
        {
         "children": [],
         "concept_code": "87433001",
         "concept_id": 261325,
         "concept_name": "Pulmonary emphysema",
         "metrics": {
          "2": {
           "count": 125,
           "prevalence": 0.014611338398597311
          }
         },
         "parent_ids": [
          255573
         ],
         "source_cohorts": [
          2
         ]
        },
        {
         "children": [],
         "concept_code": "83664006",
         "concept_id": 4309027,
         "concept_name": "Idiopathic atrophic hypothyroidism",
         "metrics": {
          "2": {
           "count": 102,
           "prevalence": 0.011922852133255406
          }
         },
         "parent_ids": [
          4130023,
          138384,
          442106
         ],
         "source_cohorts": [
          2
         ]
        },
        {
         "children": [],
         "concept_code": "230265002",
         "concept_id": 4043241,
         "concept_name": "Familial Alzheimer's disease of early onset",
         "metrics": {
          "2": {
           "count": 97,
           "prevalence": 0.011338398597311514
          }
         },
         "parent_ids": [
          4218017,
          4008090
         ],
         "source_cohorts": [
          2
         ]
        },
        {
         "children": [],
         "concept_code": "43878008",
         "concept_id": 28060,
         "concept_name": "Streptococcal sore throat",
         "metrics": {
          "2": {
           "count": 89,
           "prevalence": 0.010403272939801285
          }
         },
         "parent_ids": [
          437779,
          4193874,
          4193318,
          4207185
         ],
         "source_cohorts": [
          2
         ]
        },
        {
         "children": [],
         "concept_code": "44465007",
         "concept_id": 81151,
         "concept_name": "Sprain of ankle",
         "metrics": {
          "2": {
           "count": 74,
           "prevalence": 0.008649912331969609
          }
         },
         "parent_ids": [
          77162,
          4114605,
          4016673,
          4344271
         ],
         "source_cohorts": [
          2
         ]
        },
        {
         "children": [],
         "concept_code": "66857006",
         "concept_id": 261687,
         "concept_name": "Hemoptysis",
         "metrics": {
          "2": {
           "count": 73,
           "prevalence": 0.00853302162478083
          }
         },
         "parent_ids": [
          4024567,
          437312
         ],
         "source_cohorts": [
          2
         ]
        },
        {
         "children": [],
         "concept_code": "90560007",
         "concept_id": 440674,
         "concept_name": "Gout",
         "metrics": {
          "2": {
           "count": 71,
           "prevalence": 0.008299240210403272
          }
         },
         "parent_ids": [
          4148593,
          4139452
         ],
         "source_cohorts": [
          2
         ]
        },
        {
         "children": [],
         "concept_code": "197927001",
         "concept_id": 4056621,
         "concept_name": "Recurrent urinary tract infection",
         "metrics": {
          "2": {
           "count": 63,
           "prevalence": 0.007364114552893045
          }
         },
         "parent_ids": [
          4056622,
          764205
         ],
         "source_cohorts": [
          2
         ]
        },
        {
         "children": [],
         "concept_code": "109838007",
         "concept_id": 79740,
         "concept_name": "Overlapping malignant neoplasm of colon",
         "metrics": {
          "2": {
           "count": 62,
           "prevalence": 0.007247223845704267
          }
         },
         "parent_ids": [
          197500,
          197227
         ],
         "source_cohorts": [
          2
         ]
        },
        {
         "children": [],
         "concept_code": "47693006",
         "concept_id": 4166224,
         "concept_name": "Rupture of appendix",
         "metrics": {
          "2": {
           "count": 62,
           "prevalence": 0.007247223845704267
          }
         },
         "parent_ids": [
          4340361,
          433524
         ],
         "source_cohorts": [
          2
         ]
        },
        {
         "children": [],
         "concept_code": "246677007",
         "concept_id": 4080695,
         "concept_name": "Passive conjunctival congestion",
         "metrics": {
          "2": {
           "count": 59,
           "prevalence": 0.006896551724137931
          }
         },
         "parent_ids": [
          4080857
         ],
         "source_cohorts": [
          2
         ]
        },
        {
         "children": [],
         "concept_code": "75498004",
         "concept_id": 4294548,
         "concept_name": "Acute bacterial sinusitis",
         "metrics": {
          "2": {
           "count": 58,
           "prevalence": 0.006779661016949152
          }
         },
         "parent_ids": [
          260123,
          45766333,
          257011
         ],
         "source_cohorts": [
          2
         ]
        },
        {
         "children": [],
         "concept_code": "65966004",
         "concept_id": 4278672,
         "concept_name": "Fracture of forearm",
         "metrics": {
          "2": {
           "count": 58,
           "prevalence": 0.006779661016949152
          }
         },
         "parent_ids": [
          134222,
          4050747
         ],
         "source_cohorts": [
          2
         ]
        },
        {
         "children": [],
         "concept_code": "67811000119102",
         "concept_id": 37395648,
         "concept_name": "Primary small cell malignant neoplasm of lung, TNM stage 1",
         "metrics": {
          "2": {
           "count": 48,
           "prevalence": 0.005610753945061367
          }
         },
         "parent_ids": [
          4110591
         ],
         "source_cohorts": [
          2
         ]
        },
        {
         "children": [],
         "concept_code": "443165006",
         "concept_id": 40480160,
         "concept_name": "Pathological fracture due to osteoporosis",
         "metrics": {
          "2": {
           "count": 47,
           "prevalence": 0.0054938632378725896
          }
         },
         "parent_ids": [
          73571
         ],
         "source_cohorts": [
          2
         ]
        },
        {
         "children": [],
         "concept_code": "62106007",
         "concept_id": 378001,
         "concept_name": "Concussion with no loss of consciousness",
         "metrics": {
          "2": {
           "count": 47,
           "prevalence": 0.0054938632378725896
          }
         },
         "parent_ids": [
          4001336,
          4133715
         ],
         "source_cohorts": [
          2
         ]
        },
        {
         "children": [],
         "concept_code": "39848009",
         "concept_id": 4218389,
         "concept_name": "Whiplash injury to neck",
         "metrics": {
          "2": {
           "count": 46,
           "prevalence": 0.005376972530683811
          }
         },
         "parent_ids": [
          24818
         ],
         "source_cohorts": [
          2
         ]
        },
        {
         "children": [],
         "concept_code": "6072007",
         "concept_id": 4245614,
         "concept_name": "Bleeding from anus",
         "metrics": {
          "2": {
           "count": 46,
           "prevalence": 0.005376972530683811
          }
         },
         "parent_ids": [
          443951,
          37311947
         ],
         "source_cohorts": [
          2
         ]
        },
        {
         "children": [],
         "concept_code": "236077008",
         "concept_id": 4341247,
         "concept_name": "Protracted diarrhea",
         "metrics": {
          "2": {
           "count": 46,
           "prevalence": 0.005376972530683811
          }
         },
         "parent_ids": [
          196523
         ],
         "source_cohorts": [
          2
         ]
        },
        {
         "children": [],
         "concept_code": "433144002",
         "concept_id": 443597,
         "concept_name": "Chronic kidney disease stage 3",
         "metrics": {
          "2": {
           "count": 45,
           "prevalence": 0.005260081823495032
          }
         },
         "parent_ids": [
          46271022
         ],
         "source_cohorts": [
          2
         ]
        },
        {
         "children": [],
         "concept_code": "58150001",
         "concept_id": 4237458,
         "concept_name": "Fracture of clavicle",
         "metrics": {
          "2": {
           "count": 40,
           "prevalence": 0.004675628287551139
          }
         },
         "parent_ids": [
          4151199,
          46270317,
          4050747
         ],
         "source_cohorts": [
          2
         ]
        },
        {
         "children": [],
         "concept_code": "283385000",
         "concept_id": 4152936,
         "concept_name": "Laceration of thigh",
         "metrics": {
          "2": {
           "count": 39,
           "prevalence": 0.004558737580362361
          }
         },
         "parent_ids": [
          4053602,
          4152960
         ],
         "source_cohorts": [
          2
         ]
        },
        {
         "children": [],
         "concept_code": "70704007",
         "concept_id": 78272,
         "concept_name": "Sprain of wrist",
         "metrics": {
          "2": {
           "count": 39,
           "prevalence": 0.004558737580362361
          }
         },
         "parent_ids": [
          4090616,
          4018956,
          444129,
          4323193,
          4116594
         ],
         "source_cohorts": [
          2
         ]
        },
        {
         "children": [],
         "concept_code": "16114001",
         "concept_id": 4059173,
         "concept_name": "Fracture of ankle",
         "metrics": {
          "2": {
           "count": 38,
           "prevalence": 0.004441846873173583
          }
         },
         "parent_ids": [
          77162,
          4187096
         ],
         "source_cohorts": [
          2
         ]
        },
        {
         "children": [],
         "concept_code": "263102004",
         "concept_id": 4134304,
         "concept_name": "Fracture subluxation of wrist",
         "metrics": {
          "2": {
           "count": 36,
           "prevalence": 0.004208065458796026
          }
         },
         "parent_ids": [
          4054058,
          3654437,
          4015350,
          4085546
         ],
         "source_cohorts": [
          2
         ]
        },
        {
         "children": [],
         "concept_code": "283371005",
         "concept_id": 4155034,
         "concept_name": "Laceration of forearm",
         "metrics": {
          "2": {
           "count": 35,
           "prevalence": 0.004091174751607247
          }
         },
         "parent_ids": [
          4053599,
          4152932
         ],
         "source_cohorts": [
          2
         ]
        },
        {
         "children": [],
         "concept_code": "84757009",
         "concept_id": 380378,
         "concept_name": "Epilepsy",
         "metrics": {
          "2": {
           "count": 32,
           "prevalence": 0.003740502630040912
          }
         },
         "parent_ids": [
          4029498
         ],
         "source_cohorts": [
          2
         ]
        },
        {
         "children": [],
         "concept_code": "301011002",
         "concept_id": 4116491,
         "concept_name": "Escherichia coli urinary tract infection",
         "metrics": {
          "2": {
           "count": 31,
           "prevalence": 0.0036236119228521334
          }
         },
         "parent_ids": [
          440320,
          4116490
         ],
         "source_cohorts": [
          2
         ]
        },
        {
         "children": [],
         "concept_code": "262574004",
         "concept_id": 4094814,
         "concept_name": "Bullet wound",
         "metrics": {
          "2": {
           "count": 30,
           "prevalence": 0.0035067212156633548
          }
         },
         "parent_ids": [
          4095263
         ],
         "source_cohorts": [
          2
         ]
        },
        {
         "children": [],
         "concept_code": "370247008",
         "concept_id": 4156265,
         "concept_name": "Facial laceration",
         "metrics": {
          "2": {
           "count": 26,
           "prevalence": 0.003039158386908241
          }
         },
         "parent_ids": [
          4049957,
          4179823
         ],
         "source_cohorts": [
          2
         ]
        },
        {
         "children": [],
         "concept_code": "156073000",
         "concept_id": 40318618,
         "concept_name": "Complete miscarriage",
         "metrics": {
          "2": {
           "count": 25,
           "prevalence": 0.0029222676797194622
          }
         },
         "parent_ids": [
          4067106
         ],
         "source_cohorts": [
          2
         ]
        },
        {
         "children": [],
         "concept_code": "284551006",
         "concept_id": 4109685,
         "concept_name": "Laceration of foot",
         "metrics": {
          "2": {
           "count": 25,
           "prevalence": 0.0029222676797194622
          }
         },
         "parent_ids": [
          4152960,
          4054067
         ],
         "source_cohorts": [
          2
         ]
        },
        {
         "children": [],
         "concept_code": "38822007",
         "concept_id": 195588,
         "concept_name": "Cystitis",
         "metrics": {
          "2": {
           "count": 24,
           "prevalence": 0.0028053769725306836
          }
         },
         "parent_ids": [
          4159963,
          4181063,
          201337
         ],
         "source_cohorts": [
          2
         ]
        },
        {
         "children": [],
         "concept_code": "307731004",
         "concept_id": 4146173,
         "concept_name": "Injury of tendon of the rotator cuff of shoulder",
         "metrics": {
          "2": {
           "count": 23,
           "prevalence": 0.0026884862653419055
          }
         },
         "parent_ids": [
          4090616,
          79116,
          36713625
         ],
         "source_cohorts": [
          2
         ]
        },
        {
         "children": [],
         "concept_code": "65363002",
         "concept_id": 372328,
         "concept_name": "Otitis media",
         "metrics": {
          "2": {
           "count": 22,
           "prevalence": 0.002571595558153127
          }
         },
         "parent_ids": [
          4183452,
          374364,
          4181063
         ],
         "source_cohorts": [
          2
         ]
        },
        {
         "children": [],
         "concept_code": "95417003",
         "concept_id": 4316217,
         "concept_name": "Primary fibromyalgia syndrome",
         "metrics": {
          "2": {
           "count": 22,
           "prevalence": 0.002571595558153127
          }
         },
         "parent_ids": [
          42538688,
          40405599,
          4134133,
          442315
         ],
         "source_cohorts": [
          2
         ]
        },
        {
         "children": [],
         "concept_code": "33737001",
         "concept_id": 4142905,
         "concept_name": "Fracture of rib",
         "metrics": {
          "2": {
           "count": 21,
           "prevalence": 0.0024547048509643483
          }
         },
         "parent_ids": [
          4151202,
          4279139
         ],
         "source_cohorts": [
          2
         ]
        },
        {
         "children": [],
         "concept_code": "69896004",
         "concept_id": 80809,
         "concept_name": "Rheumatoid arthritis",
         "metrics": {
          "2": {
           "count": 21,
           "prevalence": 0.0024547048509643483
          }
         },
         "parent_ids": [
          4291025,
          434621
         ],
         "source_cohorts": [
          2
         ]
        },
        {
         "children": [],
         "concept_code": "94260004",
         "concept_id": 4311765,
         "concept_name": "Secondary malignant neoplasm of colon",
         "metrics": {
          "2": {
           "count": 19,
           "prevalence": 0.0022209234365867915
          }
         },
         "parent_ids": [
          36683301,
          4180790
         ],
         "source_cohorts": [
          2
         ]
        },
        {
         "children": [],
         "concept_code": "403191005",
         "concept_id": 4296205,
         "concept_name": "Partial thickness burn",
         "metrics": {
          "2": {
           "count": 18,
           "prevalence": 0.002104032729398013
          }
         },
         "parent_ids": [
          4108467
         ],
         "source_cohorts": [
          2
         ]
        },
        {
         "children": [],
         "concept_code": "62564004",
         "concept_id": 375671,
         "concept_name": "Concussion with loss of consciousness",
         "metrics": {
          "2": {
           "count": 18,
           "prevalence": 0.002104032729398013
          }
         },
         "parent_ids": [
          4132082,
          4001336
         ],
         "source_cohorts": [
          2
         ]
        },
        {
         "children": [],
         "concept_code": "403190006",
         "concept_id": 4296204,
         "concept_name": "Epidermal burn of skin",
         "metrics": {
          "2": {
           "count": 17,
           "prevalence": 0.0019871420222092344
          }
         },
         "parent_ids": [
          4108467
         ],
         "source_cohorts": [
          2
         ]
        },
        {
         "children": [],
         "concept_code": "284549007",
         "concept_id": 4113008,
         "concept_name": "Laceration of hand",
         "metrics": {
          "2": {
           "count": 15,
           "prevalence": 0.0017533606078316774
          }
         },
         "parent_ids": [
          4129405,
          4152932
         ],
         "source_cohorts": [
          2
         ]
        },
        {
         "children": [],
         "concept_code": "359817006",
         "concept_id": 4230399,
         "concept_name": "Closed fracture of hip",
         "metrics": {
          "2": {
           "count": 15,
           "prevalence": 0.0017533606078316774
          }
         },
         "parent_ids": [
          45763653,
          4199590
         ],
         "source_cohorts": [
          2
         ]
        },
        {
         "children": [],
         "concept_code": "60951000119105",
         "concept_id": 45763582,
         "concept_name": "Blindness due to type 2 diabetes mellitus",
         "metrics": {
          "2": {
           "count": 15,
           "prevalence": 0.0017533606078316774
          }
         },
         "parent_ids": [
          443732,
          4023310
         ],
         "source_cohorts": [
          2
         ]
        },
        {
         "children": [],
         "concept_code": "35999006",
         "concept_id": 4262136,
         "concept_name": "Blighted ovum",
         "metrics": {
          "2": {
           "count": 11,
           "prevalence": 0.0012857977790765634
          }
         },
         "parent_ids": [
          436477
         ],
         "source_cohorts": [
          2
         ]
        },
        {
         "children": [],
         "concept_code": "239720000",
         "concept_id": 4035415,
         "concept_name": "Tear of meniscus of knee",
         "metrics": {
          "2": {
           "count": 11,
           "prevalence": 0.0012857977790765634
          }
         },
         "parent_ids": [
          43530877,
          4324765,
          4179141,
          4178431
         ],
         "source_cohorts": [
          2
         ]
        },
        {
         "children": [],
         "concept_code": "444448004",
         "concept_id": 40479422,
         "concept_name": "Injury of medial collateral ligament of knee",
         "metrics": {
          "2": {
           "count": 9,
           "prevalence": 0.0010520163646990065
          }
         },
         "parent_ids": [
          40485074
         ],
         "source_cohorts": [
          2
         ]
        },
        {
         "children": [],
         "concept_code": "444470001",
         "concept_id": 40479768,
         "concept_name": "Injury of anterior cruciate ligament",
         "metrics": {
          "2": {
           "count": 8,
           "prevalence": 9.35125657510228E-4
          }
         },
         "parent_ids": [
          40485073
         ],
         "source_cohorts": [
          2
         ]
        },
        {
         "children": [],
         "concept_code": "448813005",
         "concept_id": 40491961,
         "concept_name": "Sepsis due to Pseudomonas",
         "metrics": {
          "2": {
           "count": 8,
           "prevalence": 9.35125657510228E-4
          }
         },
         "parent_ids": [
          438064,
          40493038
         ],
         "source_cohorts": [
          2
         ]
        },
        {
         "children": [],
         "concept_code": "65275009",
         "concept_id": 198809,
         "concept_name": "Acute cholecystitis",
         "metrics": {
          "2": {
           "count": 7,
           "prevalence": 8.182349503214494E-4
          }
         },
         "parent_ids": [
          4267297,
          192956,
          4134294
         ],
         "source_cohorts": [
          2
         ]
        },
        {
         "children": [],
         "concept_code": "235919008",
         "concept_id": 196456,
         "concept_name": "Gallstone",
         "metrics": {
          "2": {
           "count": 7,
           "prevalence": 8.182349503214494E-4
          }
         },
         "parent_ids": [
          4115576,
          4145627,
          192353
         ],
         "source_cohorts": [
          2
         ]
        },
        {
         "children": [],
         "concept_code": "398254007",
         "concept_id": 439393,
         "concept_name": "Pre-eclampsia",
         "metrics": {
          "2": {
           "count": 7,
           "prevalence": 8.182349503214494E-4
          }
         },
         "parent_ids": [
          4167493
         ],
         "source_cohorts": [
          2
         ]
        },
        {
         "children": [],
         "concept_code": "198992004",
         "concept_id": 137613,
         "concept_name": "Eclampsia in pregnancy",
         "metrics": {
          "2": {
           "count": 6,
           "prevalence": 7.013442431326709E-4
          }
         },
         "parent_ids": [
          443700,
          37110290,
          43530950
         ],
         "source_cohorts": [
          2
         ]
        },
        {
         "children": [],
         "concept_code": "448417001",
         "concept_id": 40489907,
         "concept_name": "Sepsis due to Staphylococcus aureus",
         "metrics": {
          "2": {
           "count": 6,
           "prevalence": 7.013442431326709E-4
          }
         },
         "parent_ids": [
          433125,
          40487059
         ],
         "source_cohorts": [
          2
         ]
        },
        {
         "children": [],
         "concept_code": "30832001",
         "concept_id": 4149245,
         "concept_name": "Rupture of patellar tendon",
         "metrics": {
          "2": {
           "count": 5,
           "prevalence": 5.844535359438924E-4
          }
         },
         "parent_ids": [
          4344027,
          195632,
          4134312
         ],
         "source_cohorts": [
          2
         ]
        },
        {
         "children": [],
         "concept_code": "195967001",
         "concept_id": 317009,
         "concept_name": "Asthma",
         "metrics": {
          "2": {
           "count": 5,
           "prevalence": 5.844535359438924E-4
          }
         },
         "parent_ids": [
          320136
         ],
         "source_cohorts": [
          2
         ]
        },
        {
         "children": [],
         "concept_code": "698754002",
         "concept_id": 44782520,
         "concept_name": "Chronic paralysis due to lesion of spinal cord",
         "metrics": {
          "2": {
           "count": 4,
           "prevalence": 4.67562828755114E-4
          }
         },
         "parent_ids": [
          4134145,
          4157607
         ],
         "source_cohorts": [
          2
         ]
        },
        {
         "children": [],
         "concept_code": "1734006",
         "concept_id": 4066995,
         "concept_name": "Fracture of vertebral column with spinal cord injury",
         "metrics": {
          "2": {
           "count": 4,
           "prevalence": 4.67562828755114E-4
          }
         },
         "parent_ids": [
          4174520,
          4235863,
          439215
         ],
         "source_cohorts": [
          2
         ]
        },
        {
         "children": [],
         "concept_code": "11218009",
         "concept_id": 4008261,
         "concept_name": "Infection due to Pseudomonas aeruginosa",
         "metrics": {
          "2": {
           "count": 3,
           "prevalence": 3.5067212156633545E-4
          }
         },
         "parent_ids": [
          438064
         ],
         "source_cohorts": [
          2
         ]
        },
        {
         "children": [],
         "concept_code": "40275004",
         "concept_id": 134438,
         "concept_name": "Contact dermatitis",
         "metrics": {
          "2": {
           "count": 3,
           "prevalence": 3.5067212156633545E-4
          }
         },
         "parent_ids": [
          43021226,
          37311784
         ],
         "source_cohorts": [
          2
         ]
        },
        {
         "children": [],
         "concept_code": "47505003",
         "concept_id": 436676,
         "concept_name": "Posttraumatic stress disorder",
         "metrics": {
          "2": {
           "count": 2,
           "prevalence": 2.33781414377557E-4
          }
         },
         "parent_ids": [
          442077
         ],
         "source_cohorts": [
          2
         ]
        },
        {
         "children": [],
         "concept_code": "225444004",
         "concept_id": 4021336,
         "concept_name": "At risk for suicide",
         "metrics": {
          "2": {
           "count": 2,
           "prevalence": 2.33781414377557E-4
          }
         },
         "parent_ids": [
          4085075
         ],
         "source_cohorts": [
          2
         ]
        },
        {
         "children": [],
         "concept_code": "200936003",
         "concept_id": 255891,
         "concept_name": "Lupus erythematosus",
         "metrics": {
          "2": {
           "count": 1,
           "prevalence": 1.168907071887785E-4
          }
         },
         "parent_ids": [
          434621,
          253549
         ],
         "source_cohorts": [
          2
         ]
        },
        {
         "children": [],
         "concept_code": "403192003",
         "concept_id": 4299128,
         "concept_name": "Full thickness burn",
         "metrics": {
          "2": {
           "count": 1,
           "prevalence": 1.168907071887785E-4
          }
         },
         "parent_ids": [
          200174,
          442013,
          4053826,
          4083964
         ],
         "source_cohorts": [
          2
         ]
        },
        {
         "children": [],
         "concept_code": "47200007",
         "concept_id": 4188598,
         "concept_name": "High risk pregnancy",
         "metrics": {
          "2": {
           "count": 1,
           "prevalence": 1.168907071887785E-4
          }
         },
         "parent_ids": [
          4299535,
          4125593
         ],
         "source_cohorts": [
          2
         ]
        },
        {
         "children": [],
         "concept_code": "15724005",
         "concept_id": 4048695,
         "concept_name": "Fracture of vertebral column without spinal cord injury",
         "metrics": {
          "2": {
           "count": 1,
           "prevalence": 1.168907071887785E-4
          }
         },
         "parent_ids": [
          4174520
         ],
         "source_cohorts": [
          2
         ]
        },
        {
         "children": [],
         "concept_code": "370143000",
         "concept_id": 4152280,
         "concept_name": "Major depressive disorder",
         "metrics": {
          "2": {
           "count": 1,
           "prevalence": 1.168907071887785E-4
          }
         },
         "parent_ids": [
          440383
         ],
         "source_cohorts": [
          2
         ]
        },
        {
         "children": [],
         "concept_code": "241929008",
         "concept_id": 4084167,
         "concept_name": "Acute allergic reaction",
         "metrics": {
          "2": {
           "count": 1,
           "prevalence": 1.168907071887785E-4
          }
         },
         "parent_ids": [
          443883,
          40589905
         ],
         "source_cohorts": [
          2
         ]
        },
        {
         "children": [],
         "concept_code": "45816000",
         "concept_id": 198199,
         "concept_name": "Pyelonephritis",
         "metrics": {
          "2": {
           "count": 1,
           "prevalence": 1.168907071887785E-4
          }
         },
         "parent_ids": [
          4159963,
          4311853
         ],
         "source_cohorts": [
          2
         ]
        },
        {
         "children": [],
         "concept_code": "192127007",
         "concept_id": 440086,
         "concept_name": "Child attention deficit disorder",
         "metrics": {
          "2": {
           "count": 1,
           "prevalence": 1.168907071887785E-4
          }
         },
         "parent_ids": [
          438409
         ],
         "source_cohorts": [
          2
         ]
        }
       ],
       "_css": "/* PAGE LAYOUT */\n\n* {\n    box-sizing: border-box;\n}\n\n.vis-container {\n    align-items: center;\n    border: 1px solid black;\n    width: 100%;\n    font-size: 11px;\n    font-family: sans-serif;\n    padding: 5px;\n    overflow: visible;\n}\n\n.row-container {\n    display: flex;\n    justify-content: space-around;\n    width: 100%;\n    padding: 5px 0 5px 0;\n    height: auto;\n    overflow: hidden;\n}\n\n.col-container {\n    flex: 1;\n    border: 1px solid lightgray;\n    width: 100%;\n}\n\nh1.tight-header,h2.tight-header {\n    margin: 0;\n    line-height: 1;\n}\n\n/* TOOLTIP */\n\n.tooltip {\n    position: absolute;\n    visibility: hidden;\n    background: whitesmoke;\n    color: black;\n    padding: 8px;\n    border-radius: 8px;\n    border: 1px solid darkgray;\n    /*background-image: linear-gradient(to right, lightgray, white);*/\n    pointer-events: none;\n    z-index: 1000;\n}\n\n/* COHORT SUMMARY */\n\n.cohort-summary{\n    gap: 32px; /* space between columns */\n    padding: 15px;\n    background-image: linear-gradient(to right, lightgray, darkgray);\n    overflow: auto;\n}\n\n/* BAR CHART */\n\n/* overall barchart size */\n.barchart{\n    font-size: 12px;\n    width: 100%;  /* allows resize to fit the page*/\n    height: auto;\n}\n\n/* axis labels */\n.axis-label {\n    font-size: 14px;\n}\n/* lines and tick marks */\n.axis path,\n.axis line {\n    fill: none;\n    stroke: black;\n    shape-rendering: crispEdges;\n}\n/* axis text */\n.axis text {\n    font-size: 14px;\n}\n\n/* CONCEPTS TABLE */\n\n.concepts-row {\n    width: 100%;\n    height: 100%; /* fill vis-container height */\n}\n\n.div-concepts-table-body {\n    margin-top: 0;\n    overflow-y: auto;\n    overflow-x: auto;\n    background-color: #f9f9f9;\n}\n\n.table-body-wrapper {\n    overflow: auto;\n    max-height: 370px; /* header height removed */\n}\n\n/* concepts table row hover and select */\n\n.selected .cell-bg {\n    fill: #f8f9fa !important;\n    stroke: #ccc !important;\n}\n\n.selected {\n    opacity: 1;\n}\n\n.row-border {\n    fill: none;\n    stroke: #007bff;\n    stroke-width: 2px;\n    pointer-events: none;\n}\n\ng[cursor=\"pointer\"]:hover .cell-bg {\n    fill: #f5f5f5;\n}",
       "_esm": "import * as d3 from 'https://esm.sh/d3@7';\nimport * as Inputs from \"https://esm.sh/@observablehq/inputs\";\n// import * as Plot from \"https://esm.sh/@observablehq/plot\";\n\n// function initialize({ model }) {\n//     // Set up shared state or event handlers.\n//     return () => {\n//       // Optional: Called when the widget is destroyed.\n//     }\n// } // end initialize\n\nfunction render({ model, el }) {\n    const font_size = '12px';\n\n    // <editor-fold desc=\"---------- DISPATCHERS ----------\">\n\n    // handles the concepts table\n    const conceptsTableDispatcher = d3.dispatch('filter', 'sort', 'change-dp', 'column-resize', 'view-pct');\n    // handles all tooltips\n    const tooltipDispatcher = d3.dispatch(\"show\", \"hide\");\n\n    tooltipDispatcher.on(\"show\", function({ content, event }) {\n        const containerRect = vis_container.node().getBoundingClientRect();\n        const x = event.clientX - containerRect.left;\n        const y = event.clientY - containerRect.top;\n\n        const tooltip = createTooltip();\n\n        // Set content first to measure\n        tooltip\n            .style(\"visibility\", \"hidden\")\n            .style(\"left\", \"0px\")\n            .style(\"top\", \"0px\")\n            .html(content);\n\n        const tooltipRect = tooltip.node().getBoundingClientRect();\n        const tooltipWidth = tooltipRect.width;\n        const tooltipHeight = tooltipRect.height;\n\n        // Get viewport dimensions\n        const viewportWidth = window.innerWidth;\n        const viewportHeight = window.innerHeight;\n\n        // Get container dimensions\n        const containerWidth = containerRect.width;\n        const containerHeight = containerRect.height;\n\n        // Calculate absolute position on screen\n        const absoluteX = event.clientX;\n        const absoluteY = event.clientY;\n\n        // Calculate relative position within container\n        let finalX = x + 10; // Default: right of cursor\n        let finalY = y - 10; // Default: above cursor\n\n        // Check viewport constraints (absolute positioning)\n        const wouldExceedRightViewport = absoluteX + 10 + tooltipWidth > viewportWidth;\n        const wouldExceedBottomViewport = absoluteY - 10 + tooltipHeight > viewportHeight;\n        const wouldExceedLeftViewport = absoluteX - tooltipWidth - 10 < 0;\n        const wouldExceedTopViewport = absoluteY - tooltipHeight - 10 < 0;\n\n        // Check container constraints (relative positioning)\n        const wouldExceedRightContainer = finalX + tooltipWidth > containerWidth;\n        const wouldExceedBottomContainer = finalY + tooltipHeight > containerHeight;\n        const wouldExceedLeftContainer = finalX - tooltipWidth - 20 < 0;\n        const wouldExceedTopContainer = finalY - tooltipHeight - 20 < 0;\n\n        // Horizontal positioning - prioritize viewport over container\n        if (wouldExceedRightViewport || wouldExceedRightContainer) {\n            finalX = x - tooltipWidth - 10; // Move to left of cursor\n\n            // If left position also exceeds bounds, clamp it\n            if (wouldExceedLeftViewport || finalX < 5) {\n                finalX = Math.max(5, Math.min(x - tooltipWidth/2, containerWidth - tooltipWidth - 5));\n            }\n        }\n\n        // Vertical positioning - prioritize viewport over container\n        if (wouldExceedBottomViewport || wouldExceedBottomContainer) {\n            finalY = y - tooltipHeight - 10; // Move above cursor\n\n            // If top position also exceeds bounds, clamp it\n            if (wouldExceedTopViewport || finalY < 5) {\n                finalY = Math.max(5, Math.min(y + 15, containerHeight - tooltipHeight - 5));\n            }\n        }\n\n        // Apply final position\n        tooltip\n            .style(\"left\", `${finalX}px`)\n            .style(\"top\", `${finalY}px`)\n            .style(\"visibility\", \"visible\");\n    });\n\n    tooltipDispatcher.on(\"hide\", function() {\n        d3.selectAll(\".tooltip\").remove();\n    });\n\n    // </editor-fold>\n\n    // <editor-fold desc=\"---------- UTILITY FUNCTIONS ----------\"\n\n    // clears an element\n    function clearElement(element) {\n        element.selectAll('*').remove();\n    }\n\n    function dataEntityExists(entity){\n        if (entity && entity.data && entity.data.length > 0)\n            return true\n        else return entity && entity.length > 0;\n    }\n\n    function formatFraction(numerator, denominator) {\n        return `\n        <span style=\"display: inline-flex; flex-direction: column; text-align: center; vertical-align: middle; font-size: 0.9em; line-height: 1.2;\">\n            <span style=\"border-bottom: 1px solid black; padding: 0 4px;\">${numerator}</span>\n            <span style=\"padding: 0 4px;\">${denominator}</span>\n        </span>\n    `;\n    }\n\n    // converts timestamp to formatted date 'YYYY-MM-DD'\n    function getIsoDateString(timestamp) {\n        let aDate = new Date(timestamp);\n        return aDate.toISOString().split('T')[0];\n    }\n\n    function isNullOrEmpty(value) {\n        if (value === null || value === undefined)\n            return true;\n\n        switch (typeof value) {\n            case 'string':\n                return value.trim().length === 0;\n            case 'object':\n                if (Array.isArray(value))\n                    return value.length === 0;\n                return Object.keys(value).length === 0;\n            case 'number':\n            case 'boolean':\n                return false;\n            default:\n                return false;\n        }\n    }\n\n    function removeDuplicates(data, key) {\n        const uniqueMap = new Map();\n        data.forEach(item => {\n            if (!uniqueMap.has(item[key])) {\n                uniqueMap.set(item[key], item);\n            }\n        });\n        return Array.from(uniqueMap.values());\n    }\n\n    function renameKeys(data, oldKeys, newKeys) {\n        if (oldKeys.length !== newKeys.length) {\n            throw new Error(\"oldKeys and newKeys must be the same length\");\n        }\n\n        return data.map(item => {\n            const changed_data = { ...item };\n            oldKeys.forEach((oldKey, index) => {\n                const newKey = newKeys[index];\n                if (oldKey in changed_data) {\n                    changed_data[newKey] = changed_data[oldKey];\n                    delete changed_data[oldKey];\n                }\n            });\n            return changed_data;\n        });\n    }\n\n    function toLabel(key){\n        return key.split('_')\n            .map(part => part.charAt(0).toUpperCase() + part.slice(1))\n            .join(' ');\n    }\n\n    function verifyDispatch(dispatch, component) {\n        if (\n            !dispatch ||\n            typeof dispatch !== \"object\" ||\n            typeof dispatch.call !== \"function\" ||\n            typeof dispatch.on !== \"function\"\n        ) {\n            throw new Error(component + \" requires a valid d3.dispatch object.\");\n        }\n    }\n\n    // </editor-fold>\n\n    // <editor-fold desc=\"---------- DEFINE DATA ----------\">\n\n    var cohort1_meta = model.get('_cohort1_meta');\n    var cohort1_stats = model.get('_cohort1_stats');\n    var race_stats1 = model.get('_race_stats1');\n    var ethnicity_stats1 = model.get('_ethnicity_stats1');\n    var gender_dist1 = model.get('_gender_dist1');\n    var age_dist1 = model.get('_age_dist1');\n    var cohort1_shortname = model.get('_cohort1_shortname');\n\n    var cohort2_meta = model.get('_cohort2_meta');\n    var cohort2_stats = model.get('_cohort2_stats');\n    var race_stats2 = model.get('_race_stats2');\n    var ethnicity_stats2 = model.get('_ethnicity_stats2');\n    var gender_dist2 = model.get('_gender_dist2');\n    var age_dist2 = model.get('_age_dist2');\n    var cohort2_shortname = model.get('_cohort2_shortname');\n\n    var cond_hier = model.get('_cond_hier');\n    console.log('cond_hier', cond_hier);\n\n    race_stats1 = renameKeys(race_stats1, ['race', 'race_count'], ['category', 'value']);\n    ethnicity_stats1 = renameKeys(ethnicity_stats1, ['ethnicity', 'ethnicity_count'], ['category', 'value']);\n    gender_dist1 = renameKeys(gender_dist1, ['gender', 'gender_count'], ['category', 'value']);\n    age_dist1 = renameKeys(age_dist1, ['age_bin', 'bin_count'], ['category', 'value']);\n\n    if(dataEntityExists(race_stats2))\n        race_stats2 = renameKeys(race_stats2, ['race', 'race_count'], ['category', 'value']);\n    if(dataEntityExists(ethnicity_stats2))\n        ethnicity_stats2 = renameKeys(ethnicity_stats2, ['ethnicity', 'ethnicity_count'], ['category', 'value']);\n    if(dataEntityExists(gender_dist2))\n        gender_dist2 = renameKeys(gender_dist2, ['gender', 'gender_count'], ['category', 'value']);\n    if(dataEntityExists(age_dist2))\n        age_dist2 = renameKeys(age_dist2, ['age_bin', 'bin_count'], ['category', 'value']);\n\n    // TODO: Ask Hong to fix this in her code. This is a temporary fix for gender probabilities being out of 100,\n    //       when other probabilities are out of 1\n    gender_dist1 = d3.map(gender_dist1, d => ({ ...d, probability: d.probability / 100 }));\n    if (dataEntityExists(gender_dist2))\n        gender_dist2 = d3.map(gender_dist2, d => ({ ...d, probability: d.probability / 100 }));\n\n    function isSingleCohort(){\n        return Object.keys(cond_hier[0]['metrics']).length === 1;\n    }\n\n    // </editor-fold>\n\n    // <editor-fold desc=\"---------- VISUAL CONTROL FUNCTIONS ----------\">\n\n    function createTooltip() {\n        return vis_container.append(\"div\")\n            .attr(\"class\", \"tooltip\");\n    }\n\n    /*\n    * draws a search box\n    * Parameters:\n    *   dispatch: d3.dispatch instance - user input event handler\n    *   options: dictionary\n    *     placeholder: type: string - placeholder for the control value\n    *     label: type: string - label for the control\n    *     width: type: string - the width of the input box in pixels\n    * Return:\n    *   container: DOM div element containing input box\n    */\n    function SearchBox(dispatch, options = {}) {\n        let {\n            placeholder = 'Filter',\n            label = '',\n            width = 200\n        } = options;\n\n        verifyDispatch(dispatch, 'Searchbox');\n        label = label.trim();\n\n        let container = d3.create(\"div\")\n            .style(\"padding\", \"4px\");\n\n        // observable input\n        const input = Inputs.text({ label: label, placeholder: \"Filter\", width: \"200px\" });\n        input.style.marginLeft = '8px';\n\n        // The actual input element is inside the wrapper\n        const innerInput = input.querySelector(\"input\");\n        // Apply styles to the real input\n        innerInput.style.borderRadius = \"8px\";\n        innerInput.style.border = \"1px solid #ccc\";\n        // innerInput.style.padding = \"4px 8px\"; // optional for nicer spacing\n        innerInput.style.width = \"100%\";      // fills the wrapper width\n\n        // Dispatch filter event on input\n        input.addEventListener(\"input\", e => dispatch.call(\"filter\", this, e.target.value));\n\n        container.node().appendChild(input);\n\n        return container.node();\n    }\n\n    /*\n    * draws a spinner box\n    * Parameters:\n    *   dispatch: d3.dispatch instance - user input event handler\n    *   options: dict\n    *     value: type: integer - starting-point value\n    *     label: type: string - label for the control\n    *     width: type: integer - the width of the input box in pixels\n    * Return:\n    *   container: DOM div element containing input box\n    */\n    function SpinnerBox(dispatch, options = {}) {\n        let {\n            value = default_prevalence_dp,\n            label = '',\n            width = 45,\n            min = 0,\n            max = 16,\n            step = 1\n        } = options;\n\n        verifyDispatch(dispatch, 'Spinnerbox');\n        label = label.trim();\n\n        // Create a container div using D3\n        let container = d3.create(\"div\")\n            .style(\"padding\", \"4px\");\n\n        // Create the number input using Inputs.number\n        const spinner = Inputs.number({\n            value: value,\n            min: min,\n            max: max,\n            step: step,\n            label: label\n        });\n\n        // Style the outer spinner element\n        spinner.style.width = width + 'px';\n        spinner.style.marginLeft = '8px';\n\n        // Style the inner input element\n        const inner = spinner.querySelector(\"input\");\n        inner.style.borderRadius = \"8px\";\n        inner.style.border = \"1px solid #ccc\";\n        inner.style.width = \"100%\";\n        inner.style.textAlign = \"right\";\n\n        // Add event listener to dispatch changes\n        spinner.addEventListener(\"input\", e => {\n            if (e.target.value < 0)\n                e.target.value = 0\n            else if (e.target.value > 16)\n                e.target.value = 16;\n            dispatch.call(\"change-dp\", spinner, e.target.value);\n        });\n\n        // Append the spinner DOM node to the D3 container\n        container.append(() => spinner);\n\n        // Return the container's DOM node\n        return container.node();\n    }\n\n    /*\n    * draws a toggle switch\n    * Parameters:\n    *   dispatch: d3.dispatch instance - user input event handler\n    *   options: dict\n    *     width: type: integer - the width of the input in pixels\n    *     height: type: integer - the height of the input in pixels\n    *     initial_state: type: boolean - starting-point value -- False=off, True=on\n    *     label: type: string - label for the control\n    * Return:\n    *   svg DOM node containing input box\n    */\n    function ToggleSwitch(dispatch, {\n                              width = 30,\n                              height = 30,\n                              initial_state = true,\n                              label = \"Toggle\"\n                          } = {}) {\n        const svg = d3.create(\"svg\")\n            .attr(\"width\", width + 160)\n            .attr(\"height\", height)\n            .attr(\"viewBox\", `0 0 ${width + 160} ${height}`)\n            .attr(\"preserveAspectRatio\", \"xMidYMid meet\");\n\n        const track_height = height * 0.6;\n        const track_y = (height - track_height) / 2;\n        const thumb_radius = track_height / 2;\n        const track_width = width;\n        const color_on = \"#00e676\";\n        const color_off = \"#ccc\";\n\n        let state = initial_state ? 1 : 0;\n\n        const toggle_group = svg.append(\"g\")\n            .attr(\"class\", \"svg-toggle\")\n            .attr(\"transform\", `translate(0, ${track_y})`);\n\n        // Track\n        const track = toggle_group.append(\"rect\")\n            .attr(\"x\", 0)\n            .attr(\"y\", 0)\n            .attr(\"width\", track_width)\n            .attr(\"height\", track_height)\n            .attr(\"rx\", thumb_radius)\n            .attr(\"fill\", state === 1 ? color_on : color_off);\n\n        // Thumb\n        const thumb = toggle_group.append(\"circle\")\n            .attr(\"cx\", state === 1 ? track_width - thumb_radius : thumb_radius)\n            .attr(\"cy\", track_height / 2)\n            .attr(\"r\", thumb_radius * 0.9)\n            .attr(\"fill\", \"#007bff\");\n\n        // Transparent clickable layer\n        const transparent_rect = toggle_group.append(\"rect\")\n            .attr(\"x\", 0)\n            .attr(\"y\", 0)\n            .attr(\"width\", track_width)\n            .attr(\"height\", track_height)\n            .attr(\"fill\", \"transparent\")\n            .style(\"cursor\", \"pointer\")\n            .on(\"click\", () => {\n                state = 1 - state; // Toggle state\n\n                // Animate thumb position\n                thumb.transition()\n                    .duration(300)\n                    .attr(\"cx\", state === 1 ? track_width - thumb_radius : thumb_radius);\n\n                // Animate track color\n                track.transition()\n                    .duration(300)\n                    .attr(\"fill\", state === 1 ? color_on : color_off);\n\n                // tell everyone interested the new state\n                dispatch.call(\"toggle_view\", null, state);\n\n            });\n\n        // Label\n        svg.append(\"text\")\n            .attr(\"x\", track_width + 10)\n            .attr(\"y\", height / 2 + 4)\n            .text(label);\n\n        return svg.node();\n    }\n\n    // </editor-fold>\n\n    // <editor-fold desc=\"---------- SUMMARY STATISTICS FUNCTIONS ----------\">\n\n    function SummaryStatistics(container, series1, { series2 = { data: null, meta: null, shortname1: \"cohort 2\" } } = {}) {\n        // Main container: vertical layout\n        container.style('display', 'flex')\n            .style('flex-direction', 'column')\n            .style('gap', '10px'); // space between cohort blocks\n\n        const columns = [\n            ['total_count'],\n            ['earliest_start_date', 'latest_start_date', 'earliest_end_date', 'latest_end_date'],\n            ['min_duration_days', 'max_duration_days', 'avg_duration_days'],\n            ['median_duration', 'stddev_duration']\n        ];\n\n        function drawSeriesSummary(parentSel, cohort) {\n\n            const title = cohort.meta.name.trim();\n            const desc = cohort.meta.description.trim();\n\n            if (title !== \"\") {\n                parentSel.append('h1')\n                    .attr('class', 'tight-header')\n                    .style('font-size', '13px')\n                    .text(title);\n            }\n\n            if (desc !== \"\") {\n                parentSel.append('h2')\n                    .attr('class', 'tight-header')\n                    .style('font-size', '11px')\n                    .text(desc);\n            }\n\n            // Create a container for this cohort\n            const cohortBlock = parentSel.append('div')\n                .style('display', 'flex')\n                .style('flex-direction', 'column')\n                .style('gap', '12px');\n\n            // Columns container: horizontal layout\n            const colContainer = cohortBlock.append('div')\n                .style('display', 'flex')\n                .style('gap', '30px');\n\n            // Populate columns\n            columns.forEach(colKeys => {\n                const col = colContainer.append('div')\n                    .style('display', 'flex')\n                    .style('flex-direction', 'column')\n                    .style('gap', '4px');\n\n                colKeys.forEach(key => {\n                    const row = col.append('div')\n                        .style('display', 'flex')\n                        .style('justify-content', 'flex-start')\n                        .style('gap', '8px');\n\n                    // Key\n                    row.append('div')\n                        .text(toLabel(key) + ':')\n                        .style('width', '120px');\n\n                    // Value\n                    row.append('div')\n                        .text(() => {\n                            if (!cohort.data || cohort.data.length === 0) return '—';\n                            const record = cohort.data[0];\n                            const value = record[key];\n                            return value !== undefined ? value : '—';\n                        })\n                        .style('text-align', 'left');\n                });\n            });\n        }\n\n        // draw first series\n        drawSeriesSummary(container, series1);\n        // Draw second series below the first if it has data\n        if (series2.data && series2.data.length > 0) {\n            drawSeriesSummary(container, series2);\n        }\n    }\n\n    // </editor-fold>\n\n    // <editor-fold desc=\"---------- VERTICAL BAR CHART FUNCTIONS ----------\">\n\n    // all parameters are optional at the function signature level, but we are validating within the function\n    function VerticalBarChart(\n        series1,\n        {\n            series2 = { data: null, total_count: null, shortname: \"cohort 2\"},\n            dimensions: {\n                xlabel = \"\",\n                title = \"\",\n                width = 600,\n                height = 200,\n                margin = { top: 40, right: 10, bottom: 60, left: 80 },\n                padding = 0.1,\n                show_Percentage: show_percentage = true\n            } = {}\n        } = {}\n    ) {\n        const series2_exists = dataEntityExists(series2);\n\n        const combinedData = series2_exists\n            ? series1.data.concat(series2.data)\n            : series1.data;\n\n        xlabel = toLabel(xlabel);\n\n        const categories = Array.from(new Set(combinedData.map(d => d.category)));\n        let ylabel = show_percentage ? 'Proportion' : 'Patients Count';\n\n        // handles the vertical bar chart\n        const toggle_view_dispatcher = d3.dispatch(\"toggle_view\"); // handles toggling between value and probability\n\n        const svg = d3.create('svg')\n            .attr('class', 'barchart')\n            .attr('width', width)\n            .attr('height', height)\n            .attr('viewBox', `0 0 ${width} ${height}`)\n            .attr('preserveAspectRatio', 'xMidYMid meet');\n\n        svg.append(\"g\")\n            .attr(\"transform\", `translate(${width - margin.right - 160}, ${10})`)\n            .append(() => ToggleSwitch(toggle_view_dispatcher, {\n                label: \"Show Proportion\", initial_state: show_percentage\n            }));\n\n        // X scale\n        const xScale = d3.scaleBand(categories, [margin.left, width - margin.right])\n            .padding(padding);\n\n        const color = d3.scaleOrdinal()\n            .domain([series1.shortname, series2.shortname])\n            .range(d3.schemePaired.slice(0, 2));\n\n        // X-axis\n        svg.append('g')\n            .attr('transform', `translate(0, ${height - margin.bottom})`)\n            .call(d3.axisBottom(xScale))\n            .attr('class', 'axis');\n\n        svg.append('text')\n            .attr('class', 'axis-label')\n            .attr('x', width / 2)\n            .attr('y', height - 20)\n            .style('text-anchor', 'middle')\n            .text(xlabel);\n\n        // Y-axis group\n        const yAxisGroup = svg.append('g')\n            .attr('transform', `translate(${margin.left}, 0)`)\n            .attr('class', 'axis');\n\n        const y_axis_label = svg.append('text')\n            .attr('class', 'axis-label')\n            .attr('transform', 'rotate(-90)')\n            .attr('x', height / 2 * -1)\n            .attr('y', 20)\n            .attr('text-anchor', 'middle')\n            .text(ylabel);\n\n        function drawYAxis() {\n            const yMax = show_percentage\n                ? d3.max([\n                    d3.max(series1.data, d => d.probability),\n                    series2_exists ? d3.max(series2.data, d => d.probability) : 0\n                ])\n                : d3.max(combinedData, d => +d.value);\n\n            const yScale = d3.scaleLinear([0, yMax], [height - margin.bottom, margin.top]).nice();\n            y_axis_label.text(ylabel);\n\n            const yAxis = show_percentage\n                ? d3.axisLeft(yScale).ticks(2).tickFormat(d3.format(\"\"))\n                : d3.axisLeft(yScale).ticks(2).tickFormat(d3.format(\",\"));\n\n            yAxisGroup.transition().duration(500).call(yAxis);\n            return yScale;\n        }\n\n        // chart title\n        let yScale = drawYAxis();\n        if (title === '' && xlabel !== '') title = xlabel + ' Distribution';\n        svg.append('text')\n            .attr('class', 'chart-title')\n            .attr('text-anchor', 'middle')\n            .attr('x', width / 2)\n            .attr('y', margin.top / 2)\n            .text(title);\n\n        function drawSeriesBars(container, series, series_index, class_base_name, yScale) {\n            function getTooltipContent(d, series, xlabel) {\n                const patient_count_text = `${d3.format(\".0%\")(d.probability || 0)} (${formatFraction(d.value || 0, series.total_count)})`;\n                return `<strong>${series.shortname}: ${xlabel + ': ' || ''} ${d.category}</strong><hr>Count: ${patient_count_text}`;\n            }\n\n            const class_name = class_base_name + series_index;\n            const bw = xScale.bandwidth();\n            const half = bw / 2;\n\n            const bars = container.selectAll('.' + class_name)\n                .data(series.data, d => d.category)\n                .on(\"mouseover\", function (event, d, ) {\n                    tooltipDispatcher.call(\"show\", null, {\n                        content: getTooltipContent(d, series, xlabel),\n                        event: event\n                    });\n                })\n                .on(\"mouseout\", function () {\n                    tooltipDispatcher.call(\"hide\");\n                });\n\n            bars.join(\n                enter => enter.append('rect')\n                    .attr('class', class_name)\n                    .attr('x', d => series_index === 1 ? xScale(d.category) : xScale(d.category) + half)\n                    .attr('width', series2_exists ? half : bw)\n                    .attr('y', d => yScale(show_percentage ? d.probability : +d.value))\n                    .attr('height', d => height - margin.bottom - yScale(show_percentage ? d.probability : +d.value))\n                    .attr('fill', d => color(series.shortname)), update => update.transition().duration(500)\n                    .attr('y', d => yScale(show_percentage ? d.probability : +d.value))\n                    .attr('height', d => height - margin.bottom - yScale(show_percentage ? d.probability : +d.value))\n            );\n        }\n\n        drawSeriesBars(svg, series1, 1, 'bar', yScale);\n        if (series2_exists) {\n            drawSeriesBars(svg, series2, 2, 'bar', yScale);\n\n            const legend_data = [\n                { label: series1.shortname, color: color(series1.shortname) },\n                { label: series2.shortname, color: color(series2.shortname) }\n            ];\n\n            const legend = svg.append('g')\n                .attr('class', 'legend')\n                .attr('transform', `translate(${margin.left}, ${height - 20})`);\n\n            const legend_items = legend.selectAll('.legend-item')\n                .data(legend_data)\n                .enter()\n                .append('g')\n                .attr('class', 'legend-item')\n                .attr('transform', (d, i) => `translate(${i * 100}, 0)`);\n\n            legend_items.append('rect')\n                .attr('width', 18)\n                .attr('height', 18)\n                .attr('fill', d => d.color);\n\n            legend_items.append('text')\n                .attr('x', 24)\n                .attr('y', 14)\n                .style('font-size', 12)\n                .text(d => d.label);\n        }\n\n        // Dispatch listener to redraw y-axis and bars\n        toggle_view_dispatcher.on(\"toggle_view\", function(state) {\n            show_percentage = state;\n            ylabel = show_percentage ? 'Proportion' : 'Patients Count';\n            yScale = drawYAxis();\n            drawSeriesBars(svg, series1, 1, 'bar', yScale);\n            if (series2_exists) {\n                drawSeriesBars(svg, series2, 2, 'bar', yScale);\n            }\n        });\n        toggle_view_dispatcher.call(\"toggle_view\", null, show_percentage); // initialize state\n\n        return svg.node();\n    }\n\n    // </editor-fold>\n\n    // <editor-fold desc=\"---------- CONCEPTS TABLE FUNCTIONS ----------\">\n\n    function ConceptsTable(dispatch, data, shortnames = [], options = {}){\n        const {\n            dimensions = { height: 432, row_height: 30 },\n            pageSize = 10\n        } = options;\n\n        let full_data = [];       // original dataset\n        let visible_data = [];    // filtered + sorted subset\n\n        // Add these variables for proper state management\n        let current_filter = \"\"; // Track current filter state\n        let filtered_data; // Will be initialized after table_data\n\n        // Add paging variables\n        let current_page = 0;\n        let page_size = pageSize;\n\n        function getTooltipContent(d, series_name){\n            // console.log('getTooltipContent d = ', d);\n            const heading = `<strong>Concept: ${d.concept_code}</strong><br>(${d.concept_name})<hr>`;\n            let msg = ` (no difference)`;\n            if(series_name !== \"\")\n                msg = ` (higher in ${series_name})`;\n            return `${heading} Diff. in Prev: ${Math.abs(d.difference_in_prevalence).toFixed(prevalence_dp)}<br>${msg}`;\n            //     + ;\n            //\n            // const patient_count_text = `${d3.format(\".0%\")(d.difference_in_prevalence || 0)} (${formatFraction(d.value || 0, series.total_count)})`;\n        }\n\n        // function prepareCondOccurCompareData() {\n        //     // Add calculated fields\n        //     let data = cond_hier.map(item => ({\n        //         ...item,  // Keep ALL original fields\n        //         difference_in_prevalence:\n        //             (item.metrics['1']?.prevalence ?? 0) -\n        //             (item.metrics['2']?.prevalence ?? 0),\n        //         cohort1_prevalence: item.metrics['1']?.prevalence ?? 0,\n        //         cohort2_prevalence: item.metrics['2']?.prevalence ?? 0\n        //     }));\n        //     return data;\n        // }\n\n        function prepareCondOccurCompareData() {\n            // Add calculated fields\n            let data = cond_hier.map(item => {\n                const [prev1 = 0, prev2 = 0] = Object.values(item.metrics).map(m => m.prevalence);\n                const [count1 = 0, count2 = 0] = Object.values(item.metrics).map(m => m.count);\n                return {\n                    ...item,  // Keep ALL original fields\n                    difference_in_prevalence: prev1 - prev2,\n                    cohort1_prevalence: prev1,\n                    cohort2_prevalence: prev2,\n                    count_in_cohort1: count1,\n                    count_in_cohort2: count2\n                };\n            });\n            return data;\n        }\n\n        function prepareCondOccurSingleData() {\n            // Add calculated fields\n            let data = cond_hier.map(item => {\n                const [prev = 0] = Object.values(item.metrics).map(m => m.prevalence);\n                const [count = 0] = Object.values(item.metrics).map(m => m.count);\n                return{\n                    ...item,  // Keep ALL original fields\n                    prevalence: prev,\n                    count_in_cohort: count\n                };\n            });\n            return data;\n        }\n\n        // Add pagination helper functions\n        function getTotalPages() {\n            return Math.ceil(filtered_data.length / page_size);\n        }\n\n        function getCurrentPageData() {\n            const start = current_page * page_size;\n            const end = start + page_size;\n            return filtered_data.slice(start, end);\n        }\n\n        function updatePaginationControls() {\n            const total_pages = getTotalPages();\n            const current_display = current_page + 1;\n\n            pagination_container.select('.page-info')\n                .text(`${filtered_data.length} rows`);\n\n            pagination_container.select('.prev-btn')\n                .property('disabled', current_page === 0);\n\n            pagination_container.select('.next-btn')\n                .property('disabled', current_page >= total_pages - 1);\n\n            // Update page input and total pages display\n            nav_container.select('input').property('value', current_display);\n            nav_container.select('.total-pages').text(`of ${total_pages}`);\n        }\n\n        // <editor-fold desc=\"---------- EVENT HANDLER FUNCTIONS ----------\">\n\n        // Function to handle sorting logic\n        function handleSort(d, skipToggle = false) {\n            // console.log('handleSort d = ', d);\n            // Toggle sort direction (unless we're initializing)\n            if (!skipToggle) {\n                if (d.sortDirection === \"asc\") {\n                    d.sortDirection = \"desc\";\n                } else {\n                    d.sortDirection = \"asc\";\n                }\n            }\n\n            // Clear other column sort indicators\n            columns_data.forEach(col => {\n                if (col !== d) {\n                    col.sortDirection = null;\n                }\n            });\n\n            // Update sort indicators using D3 data join\n            headers_g.selectAll(\".sort-indicator\")\n                .text((d, i) => {\n                    const col = columns_data[i];\n                    if (col.sortDirection === \"asc\") return \"▲\";\n                    if (col.sortDirection === \"desc\") return \"▼\";\n                    return \"\";\n                });\n\n            // Sort the ORIGINAL data (not filtered_data)\n            table_data.sort((a, b) => {\n                let aVal, bVal;\n                aVal = a[d.field];\n                bVal = b[d.field];\n\n                // Handle null/undefined values\n                if (aVal === null || aVal === undefined) aVal = \"\";\n                if (bVal === null || bVal === undefined) bVal = \"\";\n\n                // Convert to numbers if they look numeric\n                if (!isNaN(aVal) && !isNaN(bVal) && aVal !== \"\" && bVal !== \"\") {\n                    aVal = parseFloat(aVal);\n                    bVal = parseFloat(bVal);\n                }\n\n                if(d.field === 'difference_in_prevalence'){\n                    aVal = Math.abs(aVal);\n                    bVal = Math.abs(bVal);\n                }\n\n                let comparison = 0;\n                if (aVal < bVal) comparison = -1;\n                if (aVal > bVal) comparison = 1;\n\n                return d.sortDirection === \"desc\" ? -comparison : comparison;\n            });\n\n            // Re-apply current filter to get new filtered_data with sorted order\n            if (current_filter) {\n                const normalized = current_filter.toLowerCase().replace(/[^a-z0-9]/g, \"\");\n                filtered_data = table_data.filter(d => {\n                    const code = d.concept_code.toLowerCase();\n                    const name = d.concept_name.toLowerCase().replace(/[^a-z0-9]/g, \"\");\n                    return code.startsWith(normalized) || name.includes(normalized);\n                });\n            } else {\n                filtered_data = [...table_data];\n            }\n\n            // Reset to first page after sort\n            current_page = 0;\n\n            // Re-render the table body with sorted and filtered data\n            updateTableBody();\n        }\n\n        // </editor-fold>\n\n        // ==== Validation for required params ====\n        if (!dataEntityExists(data)) {\n            throw new Error(\"ConceptsTable requires at least one cohort.\");\n        }\n\n        if (isNullOrEmpty(shortnames)) {\n            shortnames[0] = 'study'\n            shortnames[1] = 'baseline'\n        }\n\n        // ==== Validate optional params ====\n        // if (series2 !== null && series2.data !== null && !Array.isArray(series2.data)) {\n        //     console.warn(\"ConceptsTable: Series 2 data should be an array (or null).\");\n        // }\n\n        if (typeof dimensions !== \"object\" || dimensions === null) {\n            throw new Error(\"ConceptsTable: 'dimensions' must be an object.\");\n        }\n\n        let table_data;\n        if (!isSingleCohort()) {\n            table_data = prepareCondOccurCompareData();\n        } else {\n            table_data = prepareCondOccurSingleData();\n        }\n        console.log('table_data', table_data)\n\n        // Initialize filtered_data after table_data is prepared\n        filtered_data = [...table_data];\n\n        const text_offset_x = 10;\n        const { height, row_height } = dimensions;\n\n        // Remove scroll & set fixed height\n        const container = d3.create(\"div\")\n            .style(\"width\", \"100%\")\n            .style(\"border\", \"1px solid #ccc\")\n\n        // === HEADERS ===\n\n        // converts keys to readable words by:\n        // 1. replacing the underscore with a space, and\n        // 2. capitalizing the first letter of each word\n\n        function makeKeysWords (keys, series1_name, series2_name) {\n            for (let i = 0; i < keys.length; i++) {\n                keys[i] = keys[i].replace(\"cohort1\", series1_name);\n                keys[i] = keys[i].replace(\"cohort2\", series2_name);\n            }\n            return keys.map(key => {\n                return toLabel(key);\n            });\n        }\n\n        const headers_text = makeKeysWords(Object.keys(table_data[0]), shortnames[0], shortnames[1]);\n        // console.log('Object.keys(table_data[0])', Object.keys(table_data[0]));\n\n        if (!table_data.length) {\n            throw new Error(\"ConceptsTable: table_data is empty.\");\n        }\n\n        let columns_data;\n        if(isSingleCohort()){\n            columns_data = [\n                { text: headers_text[2], field: \"concept_code\",  x: 0,   width: 160 },\n                { text: headers_text[1], field: \"concept_name\",  x: 160, width: 590 },\n                { text: headers_text[8], field: \"count_in_cohort\", x: 750, width: 160 },\n                { text: headers_text[7], field: \"prevalence\", x: 910, width: 160 }\n            ];\n        }\n        else{\n            columns_data = [\n                { text: headers_text[2], field: \"concept_code\", x: 0, width: 160, type: 'text' },\n                { text: headers_text[1], field: \"concept_name\", x: 160, width: 350, type: 'text' },\n                { text: headers_text[9], field: \"cohort2_prevalence\", x: 510, width: 160, type: 'text' },\n                { text: headers_text[7], field: \"difference_in_prevalence\", x: 670, width: 240, type: 'compare_bars' },\n                { text: headers_text[8], field: \"cohort1_prevalence\", x: 910, width: 160, type: 'text' }\n            ];\n        }\n\n        const total_table_width = d3.sum(columns_data, d => d.width);\n\n        console.log('columns_data', columns_data);\n\n        const headers_svg = container.append(\"svg\")\n            .attr(\"width\", total_table_width)\n            .attr(\"height\", row_height)\n            .style(\"background\", \"white\");\n\n        const headers_g = headers_svg.append(\"g\");\n\n        const header_g = headers_g.selectAll(\"g\")\n            .data(columns_data)\n            .enter()\n            .append(\"g\")\n            .attr(\"transform\", d => `translate(${d.x},0)`);\n\n        const color = d3.scaleOrdinal()\n            .domain(shortnames) // the series labels\n            .range(d3.schemePaired);\n\n        header_g.append(\"rect\")\n            .attr(\"width\", d => d.width)\n            .attr(\"height\", row_height)\n            .attr(\"fill\", \"#d0d0d0\")\n            .attr(\"stroke\", \"#fff\")\n            .style(\"cursor\", \"pointer\")\n            .on(\"click\", function(event, d) {\n                dispatch.call(\"sort\", this, d);\n            });\n\n        header_g.append(\"text\")\n            .attr(\"x\", text_offset_x)\n            .attr(\"y\", row_height / 2)\n            .attr(\"dy\", \"0.35em\")\n            .attr(\"text-anchor\", \"start\")\n            .style(\"cursor\", \"pointer\")\n            .style(\"pointer-events\", \"all\")\n            .text(d => d.text)\n            .on(\"click\", function(event, d) {\n                event.stopPropagation(); // Prevent header rect click\n                dispatch.call(\"sort\", this, d);\n            });\n\n        // Add sort indicators\n        header_g.append(\"text\")\n            .attr(\"class\", \"sort-indicator\")\n            .attr(\"x\", d => d.width - 15)\n            .attr(\"y\", row_height / 2)\n            .attr(\"dy\", \"0.35em\")\n            .attr(\"text-anchor\", \"middle\")\n            .attr(\"font-size\", font_size)\n            .attr(\"fill\", \"#666\")\n            .style(\"cursor\", \"pointer\")\n            .style(\"pointer-events\", \"all\")\n            .text(\"\")\n            .on(\"click\", function(event, d) {\n                event.stopPropagation(); // Prevent header click\n                dispatch.call(\"sort\", this, d);\n            });\n\n        dispatch.on(\"sort\", function(column_data) {\n            // console.log('handling dispatch sort call');\n            handleSort(column_data);\n        });\n\n        dispatch.on(\"filter\", function(search_term) {\n            current_filter = search_term; // Store current filter\n            const normalized = search_term.toLowerCase().replace(/[^a-z0-9]/g, \"\");\n\n            // Update filtered_data\n            if (normalized === \"\") {\n                filtered_data = [...table_data]; // Show all data\n            } else {\n                // TODO: clear selected row here\n                filtered_data = table_data.filter(d => {\n                    const code = d.concept_code.toLowerCase();\n                    const name = d.concept_name.toLowerCase().replace(/[^a-z0-9]/g, \"\");\n                    return code.startsWith(normalized) || name.includes(normalized);\n                });\n                // Clear selections for hidden rows\n                clearHiddenSelections(filtered_data);\n            }\n\n            // Reset to first page after filter\n            current_page = 0;\n\n            // Re-render with filtered data\n            updateTableBody();\n        });\n\n        dispatch.on(\"column-resize\", function(data) {\n            const {phase, columnData: column_data, element} = data;\n\n            switch (phase) {\n                case \"start\":\n                    const {startWidth, startX} = data;\n                    column_data.startWidth = startWidth;\n                    column_data.startX = startX;\n                    break;\n\n                case \"drag\":\n                    const {currentX} = data;\n                    const dx = currentX - column_data.startX;\n                    const newWidth = Math.max(30, column_data.startWidth + dx);\n                    column_data.width = newWidth;\n\n                    // Update header rect using the passed element reference\n                    d3.select(element.parentNode).select(\"rect\").attr(\"width\", newWidth);\n                    // Update resize handle position\n                    d3.select(element).attr(\"x\", newWidth - 5);\n\n                    // Recalculate x positions for all columns after this one\n                    let x = 0;\n                    columns_data.forEach(col => {\n                        col.x = x;\n                        x += col.width;\n                    });\n\n                    // Update header positions\n                    headers_g.selectAll(\"g\").attr(\"transform\", col => `translate(${col.x},0)`);\n\n                    // Update sort indicator positions within each header group\n                    headers_g.selectAll(\"g\").select(\".sort-indicator\")\n                        .attr(\"x\", d => d.width - 15);\n\n                    body_svg.selectAll(\".cell\").each(function(d, i) {\n                        const col = columns_data[i % columns_data.length];\n                        d3.select(this)\n                            .attr(\"transform\", `translate(${col.x},0)`)\n                            .select(\".cell-bg\")\n                            .attr(\"width\", col.width);\n                    });\n\n                    // Update body and header SVG width\n                    const total_width = d3.sum(columns_data, c => c.width);\n                    body_svg.attr(\"width\", total_width);\n                    headers_svg.attr(\"width\", total_width);\n                    break;\n\n                case \"end\":\n                    // Clean up temporary properties\n                    delete column_data.startWidth;\n                    delete column_data.startX;\n                    break;\n            }\n        });\n\n        dispatch.on(\"change-dp\", function(dp_value) {\n            // Parse and validate the decimal places value\n            let newDP = parseInt(dp_value);\n            if (isNaN(newDP) || newDP < 0 || newDP > 16) {\n                newDP = 0;\n            }\n\n            prevalence_dp = newDP;\n\n            // Clear existing table body content\n            rows_g.selectAll(\".row\").remove();\n\n            // Re-render the table with new decimal places\n            const page_data = getCurrentPageData();\n            const row = rows_g.selectAll(\".row\")\n                .data(page_data)\n                .enter()\n                .append(\"g\")\n                .attr(\"class\", \"row\")\n                .attr(\"transform\", (d, i) => `translate(0, ${i * row_height})`);\n\n            renderTableCells(row);\n            // }\n        });\n\n        // === Column resizing handle ===\n        header_g.append(\"rect\")\n            .attr(\"class\", \"resize-handle\")\n            .attr(\"x\", d => d.width - 5)\n            .attr(\"y\", 0)\n            .attr(\"width\", 5)\n            .attr(\"height\", row_height)\n            .style(\"cursor\", \"col-resize\")\n            .style(\"fill\", \"transparent\")\n            .call(d3.drag()\n                .on(\"start\", function(event, d) {\n                    dispatch.call(\"column-resize\", this, {\n                        phase: \"start\",\n                        columnData: d,\n                        startWidth: d.width,\n                        startX: event.x,\n                        element: this,  // Pass the DOM element reference\n                        event: event\n                    });\n                })\n                .on(\"drag\", function(event, d) {\n                    dispatch.call(\"column-resize\", this, {\n                        phase: \"drag\",\n                        columnData: d,\n                        startWidth: d.startWidth,\n                        startX: d.startX,\n                        currentX: event.x,\n                        element: this,  // Pass the DOM element reference\n                        event: event\n                    });\n                })\n                .on(\"end\", function(event, d) {\n                    dispatch.call(\"column-resize\", this, {\n                        phase: \"end\",\n                        columnData: d,\n                        element: this,  // Pass the DOM element reference\n                        event: event\n                    });\n                })\n            );\n\n        // TABLE BODY\n        const body_height = page_size * row_height;\n\n        // track selected rows\n        let selected_rows = new Set();\n\n        // clear selections for filtered-out rows\n        function clearHiddenSelections(visible_data) {\n            const visibleRowIds = new Set(visible_data.map(d => d.id || d.shortname || JSON.stringify(d)));\n\n            // Find selected rows that are no longer visible\n            const hidden_selected_rows = [...selected_rows].filter(rowId => !visibleRowIds.has(rowId));\n\n            // Remove hidden rows from selection\n            hidden_selected_rows.forEach(rowId => {\n                selected_rows.delete(rowId);\n            });\n\n            // If we had selections that are now hidden, update the UI\n            if (hidden_selected_rows.length > 0) {\n                rows_g.selectAll(\"g\").classed(\"selected\", false);\n                rows_g.selectAll(\".row-border\").remove();\n            }\n        }\n\n        const body_svg = container.append(\"svg\")\n            .attr(\"width\", total_table_width)\n            .attr(\"height\", body_height);\n\n        const rows_g = body_svg.append(\"g\");\n\n        let max_bias, max_diff, margin = 5;\n        if (!isSingleCohort()) {\n            // max_bias = d3.max(table_data, d => Math.abs(d.bias)) || 0;\n            max_diff = d3.max(table_data, d => Math.abs(d.difference_in_prevalence)) || 0;\n        }\n\n        const biasScale = d3.scaleLinear();\n        const barScale = d3.scaleLinear();\n        let zeroX, g, outerHeight, innerY, innerH;\n\n        let prevalence_dp = default_prevalence_dp;\n        function renderTableCells(row) {\n            const dafault_prevalence = 0;\n\n            // Add click handler to the row group itself\n            row.attr(\"cursor\", \"pointer\")\n                .on(\"click\", function(event, d) {\n                    // Get a unique identifier for this row (adjust based on your data structure)\n                    const rowId = d.id || d.shortname || JSON.stringify(d);\n\n                    // Check if this row is already selected\n                    if (selected_rows.has(rowId)) {\n                        // Deselect this row\n                        selected_rows.delete(rowId);\n                        d3.select(this).classed(\"selected\", false);\n                        // Remove the border\n                        d3.select(this).select(\".row-border\").remove();\n                        onRowSelect(d, false);\n                    } else {\n                        // Clear all previous selections first\n                        selected_rows.clear();\n                        rows_g.selectAll(\"g\").classed(\"selected\", false);\n                        rows_g.selectAll(\".row-border\").remove();\n\n                        // Select this row\n                        selected_rows.add(rowId);\n                        d3.select(this).classed(\"selected\", true);\n\n                        // Add border around the entire row\n                        d3.select(this).append(\"rect\")\n                            .attr(\"class\", \"row-border\")\n                            .attr(\"x\", 0)\n                            .attr(\"y\", 0)\n                            .attr(\"width\", total_table_width)\n                            .attr(\"height\", row_height);\n\n                        onRowSelect(d, true);\n                    }\n                });\n\n            function getPrevalenceValue(val, col, d) {\n                // Define which fields are numeric\n                const numericFields =\n                    [\"prevalence\", \"count_in_cohort\", \"cohort1_prevalence\", \"cohort2_prevalence\"];\n                const no_dp = [\"count_in_cohort\"];\n\n                if (val === null || val === undefined) {\n                    if(numericFields.includes(col.field))\n                        val = dafault_prevalence\n                    else val = 0;\n                }\n\n                if(numericFields.includes(col.field) && !no_dp.includes(col.field))\n                    val = val.toFixed(prevalence_dp)\n\n                return val;\n            }\n\n            // per-row, per-column cells\n            columns_data.forEach(col => {\n                const cell = row.append(\"g\")\n                    .attr(\"class\", \"cell\")\n                    .attr(\"transform\", `translate(${col.x},0)`);\n\n                cell.append(\"rect\")\n                    .attr(\"class\", \"cell-bg\")\n                    .attr(\"width\", col.width)\n                    .attr(\"height\", row_height)\n                    .attr(\"fill\", \"#f0f0f0\")\n                    .attr(\"stroke\", \"#ccc\");\n\n                if (isSingleCohort()) {\n                    cell.append(\"text\")\n                        .attr(\"x\", text_offset_x)\n                        .attr(\"y\", row_height / 2)\n                        .attr(\"dy\", \"0.35em\")\n                        .attr(\"text-anchor\", \"start\")\n                        .text(d => {\n                            return getPrevalenceValue(d[col.field], col, d);\n                        });\n                    // TODO: for prevalence column only, show fraction (e.g., 404/414)\n                    // .on(\"mouseover\", function (event, d ) {\n                    //     tooltipDispatcher.call(\"show\", null, {\n                    //         content: '',\n                    //         event: event\n                    //     });\n                    // })\n                    // .on(\"mouseout\", function () {\n                    //     tooltipDispatcher.call(\"hide\");\n                    // });\n                } else {\n\n                    function getHighestPrevalenceSeriesName(d) {\n                        if (d.cohort1_prevalence > d.cohort2_prevalence) return 0;\n                        if (d.cohort1_prevalence < d.cohort2_prevalence) return 1;\n                        return 0;\n                    }\n\n                    switch (col.type) {\n                        case \"text\":\n                            cell.append(\"text\")\n                                .attr(\"x\", text_offset_x)\n                                .attr(\"y\", row_height / 2)\n                                .attr(\"dy\", \"0.35em\")\n                                .attr(\"text-anchor\", \"start\")\n                                .text(d => {\n                                    return getPrevalenceValue(d[col.field], col, d);\n                                });\n                            // TODO: for prevalence columns only, show fraction (e.g., 404/414)\n                            // .on(\"mouseover\", function (event, d ) {\n                            //     tooltipDispatcher.call(\"show\", null, {\n                            //         content: '',\n                            //         event: event\n                            //     });\n                            // })\n                            // .on(\"mouseout\", function () {\n                            //     tooltipDispatcher.call(\"hide\");\n                            // });\n                            break;\n\n                        case \"bar\":\n                            biasScale\n                                .domain([0, max_bias || 1])\n                                .range([margin, col.width - margin]);  // full available space inside cell\n\n                            cell.each(function (d) {\n                                g = d3.select(this);\n                                outerHeight = row_height;\n                                innerY = margin;\n                                innerH = outerHeight - 2 * margin;\n\n                                // Bar: left-aligned, scaled to bias value\n                                g.append(\"rect\")\n                                    .attr(\"x\", 0)\n                                    .attr(\"y\", innerY)\n                                    .attr(\"width\", biasScale(Math.abs(d.metrics['1'].prevalence)))\n                                    .attr(\"height\", innerH)\n                                    .attr(\"fill\", \"lightslategrey\");\n\n                                // Text: show the bias value\n                                g.append(\"text\")\n                                    .attr(\"x\", 4)  // small left inset\n                                    .attr(\"y\", outerHeight / 2 + 4)\n                                    .attr(\"font-size\", font_size)\n                                    .attr(\"fill\", \"black\")\n                                    .text(Math.abs(d.metrics['1'].count !== null ? Math.abs(d.metrics['1'].count).toFixed(prevalence_dp) :\n                                        dafault_prevalence.toFixed(prevalence_dp)));\n                            });\n                            break;\n\n                        case \"compare_bars\":\n                            barScale\n                                .domain([-max_diff || -1, max_diff || 1])\n                                .range([margin, col.width - margin]);  // full available space inside cell\n\n                            zeroX = barScale(0);\n\n                            cell.each(function (d) {\n                                g = d3.select(this);\n                                outerHeight = row_height;\n                                innerY = 5;\n                                innerH = outerHeight - 2 * margin;\n\n                                // x = 0 marker\n                                g.append(\"line\")\n                                    .attr(\"x1\", zeroX)\n                                    .attr(\"y1\", 0)\n                                    .attr(\"x2\", zeroX)\n                                    .attr(\"y2\", outerHeight)\n                                    .attr(\"stroke\", \"grey\")\n                                    .attr(\"stroke-width\", 1)\n                                    .attr(\"stroke-dasharray\", \"3,3\");\n\n                                const diff_val = d.difference_in_prevalence;\n                                const abs_diff = Math.abs(diff_val);\n                                // console.log('d', d);\n\n                                // Bar (only if difference is significant enough to be visible)\n                                if (abs_diff >= 0.001) {\n                                    g.append(\"rect\")\n                                        .attr(\"x\", Math.min(zeroX, barScale(diff_val)))\n                                        .attr(\"y\", innerY)\n                                        .attr(\"width\", Math.abs(barScale(diff_val) - zeroX))\n                                        .attr(\"height\", innerH)\n                                        .attr(\"fill\", diff_val < 0 ? color(shortnames[1]) : color(shortnames[0]))\n                                        .on(\"mouseover\", function (event, d) {\n                                            const highest_prevalence = getHighestPrevalenceSeriesName(d);\n                                            let highest_series_name = \"\";\n                                            if(highest_prevalence >= 0)\n                                                highest_series_name = shortnames[highest_prevalence];\n\n                                            tooltipDispatcher.call(\"show\", null, {\n                                                content: getTooltipContent(d, highest_series_name),\n                                                event: event\n                                            });\n                                        })\n                                        .on(\"mouseout\", function () {\n                                            tooltipDispatcher.call(\"hide\");\n                                        });\n                                }\n\n                                // Invisible hover rectangle for small/zero values\n                                if (abs_diff <= 0.005) {\n                                    const hover_width = barScale(0.2) - barScale(0); // Width for 0.2 difference\n                                    g.append(\"rect\")\n                                        .attr(\"x\", zeroX - hover_width/2)\n                                        .attr(\"y\", innerY)\n                                        .attr(\"width\", hover_width)\n                                        .attr(\"height\", innerH)\n                                        .attr(\"fill\", \"transparent\")\n                                        .attr(\"opacity\", 0)\n                                        .style(\"cursor\", \"pointer\")\n                                        .on(\"mouseover\", function (event, d) {\n                                            const highest_prevalence = getHighestPrevalenceSeriesName(d);\n                                            let highest_series_name = \"\";\n                                            if(highest_prevalence >= 0)\n                                                highest_series_name = shortnames[highest_prevalence];\n\n                                            tooltipDispatcher.call(\"show\", null, {\n                                                content: getTooltipContent(d, highest_series_name),\n                                                event: event\n                                            });\n                                        })\n                                        .on(\"mouseout\", function () {\n                                            tooltipDispatcher.call(\"hide\");\n                                        });\n                                }\n\n                                // Text label - positioned based on value sign\n                                const textX = d.difference_in_prevalence >= 0 ?\n                                    Math.min(zeroX, barScale(d.difference_in_prevalence)) - 5 : // Left of positive bars\n                                    Math.max(zeroX, barScale(d.difference_in_prevalence)) + 5;  // Right of negative bars\n\n                                const textAnchor = d.difference_in_prevalence >= 0 ? \"end\" : \"start\";\n\n                                // g.append(\"text\")\n                                //     .attr(\"x\", textX)\n                                //     .attr(\"y\", row_height / 2 + 4)\n                                //     .attr(\"text-anchor\", textAnchor)\n                                //     .attr(\"font-size\", font_size)\n                                //     .text(d.difference_in_prevalence !== null ?\n                                //         Math.abs(d.difference_in_prevalence.toFixed(prevalence_dp)) :\n                                //         dafault_prevalence.toFixed(prevalence_dp));\n                            });\n                            break;\n\n                        default:\n                            throw new Error(`Unknown column type: ${col.type}`);\n                    }\n                }\n            });\n        }\n\n        // callback function for handling row selection\n        function onRowSelect(rowData, isSelected) {\n            console.log(`Row ${isSelected ? 'selected' : 'deselected'}:`, rowData);\n            // TODO: add selection logic here\n        }\n\n        function updateTableBody() {\n            const page_data = getCurrentPageData();\n\n            const rows = rows_g.selectAll(\".row\")\n                .data(page_data, d => d.concept_code);\n\n            // Remove exiting rows\n            rows.exit().remove();\n\n            // Add new rows\n            const rowsEnter = rows.enter()\n                .append(\"g\")\n                .attr(\"class\", \"row\");\n\n            // Merge enter and update selections\n            const rowsUpdate = rowsEnter.merge(rows);\n\n            // Update positions with transition\n            rowsUpdate\n                .transition()\n                .duration(150)\n                .ease(d3.easeQuadOut)\n                .attr(\"transform\", (d, i) => `translate(0, ${i * row_height})`);\n\n            // Render cells for new rows only\n            renderTableCells(rowsEnter);\n\n            // Update pagination controls\n            updatePaginationControls();\n        }\n\n        // === ADD PAGINATION CONTROLS ===\n        const pagination_container = container.append(\"div\")\n            .style(\"padding\", \"5px 10px\")\n            .style(\"border-top\", \"1px solid #ccc\")\n            .style(\"background\", \"#f9f9f9\")\n            .style(\"display\", \"flex\")\n            .style(\"justify-content\", \"space-between\")\n            .style(\"align-items\", \"center\");\n\n        // Left side - page info\n        pagination_container.append(\"div\")\n            .attr(\"class\", \"page-info\")\n            .style(\"color\", \"#666\");\n\n        // Right side - navigation controls\n        const nav_container = pagination_container.append(\"div\")\n            .style(\"display\", \"flex\")\n            .style(\"gap\", \"5px\")\n            .style(\"align-items\", \"center\");\n\n        const prev_btn = nav_container.append(\"button\")\n            .attr(\"class\", \"prev-btn\")\n            .style(\"padding\", \"2px 6px\")\n            .style(\"border\", \"1px solid #ccc\")\n            .style(\"background\", \"#fff\")\n            .style(\"cursor\", \"pointer\")\n            .text(\"<\")\n            .on(\"click\", function() {\n                if (current_page > 0) {\n                    current_page--;\n                    updateTableBody();\n                }\n            });\n\n        // Add page jump input\n        nav_container.append(\"span\")\n            .text(\"Page\");\n\n        const page_input = nav_container.append(\"input\")\n            .attr(\"type\", \"number\")\n            .attr(\"min\", 1)\n            .style(\"width\", \"40px\")\n            .style(\"padding\", \"2px\")\n            .style(\"border\", \"1px solid #ccc\")\n            .style(\"text-align\", \"center\")\n            .on(\"change\", function() {\n                const page_num = parseInt(this.value);\n                const total_pages = getTotalPages();\n                if (page_num >= 1 && page_num <= total_pages) {\n                    current_page = page_num - 1; // Convert to 0-based index\n                    updateTableBody();\n                } else {\n                    // Reset to current page if invalid\n                    this.value = current_page + 1;\n                }\n            });\n\n        nav_container.append(\"span\")\n            .attr(\"class\", \"total-pages\");\n\n        const next_btn = nav_container.append(\"button\")\n            .attr(\"class\", \"next-btn\")\n            .style(\"padding\", \"2px 6px\")\n            .style(\"border\", \"1px solid #ccc\")\n            .style(\"background\", \"#fff\")\n            .style(\"cursor\", \"pointer\")\n            .text(\">\")\n            .on(\"click\", function() {\n                if (current_page < getTotalPages() - 1) {\n                    current_page++;\n                    updateTableBody();\n                }\n            });\n\n        // Initial render\n        const initial_page_data = getCurrentPageData();\n        // console.log('initial_page_data', initial_page_data);\n        const row = rows_g.selectAll(\".row\")\n            .data(initial_page_data)\n            .enter()\n            .append(\"g\")\n            .attr(\"class\", \"row\")\n            .attr(\"transform\", (d, i) => `translate(0, ${i * row_height})`);\n\n        renderTableCells(row);\n\n        // Initialize with descending sort on difference_in_prevalence if we have comparison data\n        // or on prevalence for single dataset tables\n        if (!isSingleCohort()) {\n            const diffColumn = columns_data.find(col => col.field === \"difference_in_prevalence\");\n            if (diffColumn) {\n                diffColumn.sortDirection = \"desc\";\n                handleSort(diffColumn, true); // Skip toggle for initialization\n            }\n        } else {\n            // For single dataset, sort by prevalence (which uses a function field)\n            const prevalenceColumn = columns_data.find(col =>\n                typeof col.field === \"function\" && col.field.toString().includes(\"prevalence\")\n            );\n            if (prevalenceColumn) {\n                prevalenceColumn.sortDirection = \"desc\";\n                handleSort(prevalenceColumn, true); // Skip toggle for initialization\n            }\n        }\n\n        // Initialize pagination controls\n        updatePaginationControls();\n\n        return container.node();\n    }\n\n    // </editor-fold>\n\n    // <editor-fold desc=\"---------- PAGE LAYOUT ----------\">\n\n    // overall container\n    const vis_container = d3.select(el).append(\"div\").attr('class', 'vis-container');\n\n    // summary container row\n    const div_cohort_summary = vis_container.append('div').attr('class', 'row-container cohort-summary');\n\n    // demographics row\n    const demographics_row = vis_container.append('div').attr('class', 'row-container');\n    const div_gender = demographics_row.append('div').attr('class', 'col-container');\n    const div_race = demographics_row.append('div').attr('class', 'col-container');\n    // const div_ethnicity = demographics_row.append('div').attr('class', 'col-container');\n    const div_age = demographics_row.append('div').attr('class', 'col-container');\n\n    // concepts row\n    const concepts_row = vis_container.append('div').attr('class', 'row-container concepts-row');\n    const div_concepts_table_container = concepts_row.append('div').attr('class', 'col-container');\n    // const div_concept_dragbar = concepts_row.append('div').attr('class', 'col-container dragbar');\n    // const div_concept_detail_container = concepts_row.append('div').attr('class', 'col-container');\n\n    // concepts controls row\n    const div_concepts_ctrl = div_concepts_table_container.append('div')\n        .attr('class', 'row-container')\n        .style('display', 'flex')\n        .style('justify-content', 'flex-start')\n        .style('border', 'none');\n\n    // the container row for the concepts table itself\n    const div_concepts_table = div_concepts_table_container.append('div').attr('class', 'row-container');\n\n    // </editor-fold>\n\n    // <editor-fold desc=\"---------- INSERT THE VISUALIZATIONS ----------\">\n\n    const cohort2_exists = dataEntityExists(cohort2_stats); // assumption: if this exists, the rest of the cohort 2 data also exists\n\n    // summary statistics\n    SummaryStatistics(div_cohort_summary, {data: cohort1_stats, meta: cohort1_meta, shortname: cohort1_shortname},\n        {series2: {data: cohort2_stats, meta: cohort2_meta, shortname: cohort2_shortname}});\n\n    // draw the gender barchart\n    let series2_data = cohort2_exists ?\n        {data: gender_dist2, shortname: cohort2_shortname, total_count: cohort2_stats[0].total_count} : {};\n    div_gender.append(() =>\n        VerticalBarChart({data: gender_dist1, shortname: cohort1_shortname, total_count: cohort1_stats[0].total_count},\n            {series2: series2_data, dimensions: {xlabel: 'gender'}})\n    );\n\n    series2_data = cohort2_exists ?\n        {data: race_stats2, shortname: cohort2_shortname, total_count: cohort2_stats[0].total_count} : {};\n    div_race.append(() =>\n        VerticalBarChart({data: race_stats1, shortname: cohort1_shortname, total_count: cohort1_stats[0].total_count},\n            {series2: series2_data, dimensions: {xlabel: 'race'}})\n    );\n\n    // series2_data = cohort2_exists ?\n    //     {data: ethnicity_stats2, shortname: cohort2_shortname, total_count: cohort2_stats[0].total_count} : {};\n    // div_ethnicity.append(() =>\n    //     VerticalBarChart({data: ethnicity_stats1, shortname: cohort1_shortname, total_count: cohort1_stats[0].total_count},\n    //         {series2: series2_data, dimensions: {xlabel: 'ethnicity'}})\n    // );\n\n    series2_data = cohort2_exists ?\n        {data: age_dist2, shortname: cohort2_shortname, total_count: cohort2_stats[0].total_count} : {};\n    div_age.append(() =>\n        VerticalBarChart({data: age_dist1, shortname: cohort1_shortname, total_count: cohort1_stats[0].total_count},\n            {series2: series2_data, dimensions: {xlabel: 'age'}})\n    );\n\n    // draw the concepts table search box\n    div_concepts_ctrl.append(() =>\n        SearchBox(conceptsTableDispatcher, {label: 'Filter concept code or name'})\n    );\n\n    const default_prevalence_dp = 3;\n    div_concepts_ctrl.append(() =>\n        SpinnerBox(conceptsTableDispatcher, {label: 'Prev dp'})\n    );\n\n    div_concepts_table.append(() =>\n        ConceptsTable(conceptsTableDispatcher, cond_hier, [cohort1_shortname, cohort2_shortname])\n    );\n\n    // </editor-fold>\n\n    // return () => {\n    //   // Optional: Called when the view is destroyed.\n    // }\n\n} // end render\n\n// export default async () => {\n//   let extraState = {};\n//   return {\n//     initialize({ model }) { /* ... */ },\n//     render({ model, el }) { /* ... */ },\n//   }\n// }\n\nexport default { render };\n",
       "_ethnicity_stats1": [
        {
         "ethnicity": "other",
         "ethnicity_count": 8555,
         "probability": 1
        }
       ],
       "_gender_dist1": [
        {
         "gender": "female",
         "gender_count": 3744,
         "probability": 43.76
        },
        {
         "gender": "male",
         "gender_count": 4811,
         "probability": 56.24
        },
        {
         "gender": "other",
         "gender_count": 0,
         "probability": 0
        }
       ],
       "_model_module": "anywidget",
       "_model_module_version": "~0.9.*",
       "_model_name": "AnyModel",
       "_race_stats1": [
        {
         "probability": 0.01,
         "race": "Other",
         "race_count": 88
        },
        {
         "probability": 0.12,
         "race": "Asian",
         "race_count": 1027
        },
        {
         "probability": 0.13,
         "race": "Black or African American",
         "race_count": 1101
        },
        {
         "probability": 0.74,
         "race": "White",
         "race_count": 6339
        }
       ],
       "_view_module": "anywidget",
       "_view_module_version": "~0.9.*",
       "_view_name": "AnyView",
       "initialized": true,
       "layout": "IPY_MODEL_92038ea35451474f9b36f9693aeddd9b"
      }
     },
     "229a73e6d8014e90bc44d14dd61ccf78": {
      "model_module": "@jupyter-widgets/controls",
      "model_module_version": "2.0.0",
      "model_name": "ProgressStyleModel",
      "state": {
       "description_width": ""
      }
     },
     "25062013f32341258c843d8cebdb1b9a": {
      "model_module": "@jupyter-widgets/base",
      "model_module_version": "2.0.0",
      "model_name": "LayoutModel",
      "state": {
       "display": "inline-flex",
       "flex_flow": "row wrap",
       "width": "100%"
      }
     },
     "3014eb4934274ad29e9c7d061d6292f1": {
      "model_module": "@jupyter-widgets/base",
      "model_module_version": "2.0.0",
      "model_name": "LayoutModel",
      "state": {}
     },
     "3e06777ae61c4680a7afdd9d3a4cb632": {
      "model_module": "@jupyter-widgets/controls",
      "model_module_version": "2.0.0",
      "model_name": "FloatProgressModel",
      "state": {
       "layout": "IPY_MODEL_ba616e2eeeb348c1b26c9c2d3ee3cdf6",
       "style": "IPY_MODEL_e0f64bc48f034e42a6997b5190bdc43d",
       "value": 100
      }
     },
     "3fcd40b61b344a1ba0418825a95d4324": {
      "model_module": "@jupyter-widgets/controls",
      "model_module_version": "2.0.0",
      "model_name": "HTMLStyleModel",
      "state": {
       "description_width": "",
       "font_size": null,
       "text_color": null
      }
     },
     "4178492701cf4a279055d1255923b86e": {
      "model_module": "@jupyter-widgets/controls",
      "model_module_version": "2.0.0",
      "model_name": "HBoxModel",
      "state": {
       "children": [
        "IPY_MODEL_5cdad3799d7d4820a47e8c5da920e0af",
        "IPY_MODEL_ee893d6138fd4451bc83585d6b66e895",
        "IPY_MODEL_4e982526d4714cc38c28378193de98ae"
       ],
       "layout": "IPY_MODEL_5895f3ddb475417fb6834dcad0883278"
      }
     },
     "46428086a37c4b4e9dabc71779f1d350": {
      "model_module": "@jupyter-widgets/base",
      "model_module_version": "2.0.0",
      "model_name": "LayoutModel",
      "state": {
       "flex": "2"
      }
     },
     "49d71d4e27e34383a4aff114eb5759eb": {
      "model_module": "@jupyter-widgets/controls",
      "model_module_version": "2.0.0",
      "model_name": "FloatProgressModel",
      "state": {
       "layout": "IPY_MODEL_9c7b396f9c66493db7b77f0e1e5ec5eb",
       "style": "IPY_MODEL_60606473cf284f61b6fe3f0f9410b697",
       "value": 100
      }
     },
     "4e982526d4714cc38c28378193de98ae": {
      "model_module": "@jupyter-widgets/controls",
      "model_module_version": "2.0.0",
      "model_name": "HTMLModel",
      "state": {
       "layout": "IPY_MODEL_4fc0f4d683e641ca886b08d684ccce13",
       "style": "IPY_MODEL_3fcd40b61b344a1ba0418825a95d4324",
       "value": " 3/3 [00:00&lt;00:00,  3.52stage/s, Inserted cohort data into DuckDB - Done]"
      }
     },
     "4fc0f4d683e641ca886b08d684ccce13": {
      "model_module": "@jupyter-widgets/base",
      "model_module_version": "2.0.0",
      "model_name": "LayoutModel",
      "state": {}
     },
     "5895f3ddb475417fb6834dcad0883278": {
      "model_module": "@jupyter-widgets/base",
      "model_module_version": "2.0.0",
      "model_name": "LayoutModel",
      "state": {
       "display": "inline-flex",
       "flex_flow": "row wrap",
       "width": "100%"
      }
     },
     "5cdad3799d7d4820a47e8c5da920e0af": {
      "model_module": "@jupyter-widgets/controls",
      "model_module_version": "2.0.0",
      "model_name": "HTMLModel",
      "state": {
       "layout": "IPY_MODEL_f66b4dfe71084acb953b757369f9b60f",
       "style": "IPY_MODEL_b32db9c675c24842a41768f36a6a6b06",
       "value": "Cohort creation: 100%"
      }
     },
     "60606473cf284f61b6fe3f0f9410b697": {
      "model_module": "@jupyter-widgets/controls",
      "model_module_version": "2.0.0",
      "model_name": "ProgressStyleModel",
      "state": {
       "bar_color": "black",
       "description_width": ""
      }
     },
     "6a529c19b851423089897c8ca3ca996c": {
      "model_module": "@jupyter-widgets/controls",
      "model_module_version": "2.0.0",
      "model_name": "HTMLStyleModel",
      "state": {
       "description_width": "",
       "font_size": null,
       "text_color": null
      }
     },
     "6cec3880df9f482ebda3bb78293d0057": {
      "model_module": "anywidget",
      "model_module_version": "~0.9.*",
      "model_name": "AnyModel",
      "state": {
       "_age_dist1": [
        {
         "age_bin": "0-10",
         "bin_count": 4,
         "probability": 8.0E-4
        },
        {
         "age_bin": "11-20",
         "bin_count": 94,
         "probability": 0.0199
        },
        {
         "age_bin": "21-30",
         "bin_count": 1451,
         "probability": 0.3075
        },
        {
         "age_bin": "31-40",
         "bin_count": 1688,
         "probability": 0.3578
        },
        {
         "age_bin": "41-50",
         "bin_count": 1317,
         "probability": 0.2791
        },
        {
         "age_bin": "51-60",
         "bin_count": 164,
         "probability": 0.0348
        },
        {
         "age_bin": "61-70",
         "bin_count": 0,
         "probability": 0
        },
        {
         "age_bin": "71-80",
         "bin_count": 0,
         "probability": 0
        },
        {
         "age_bin": "81-90",
         "bin_count": 0,
         "probability": 0
        },
        {
         "age_bin": "91+",
         "bin_count": 0,
         "probability": 0
        }
       ],
       "_age_dist2": [
        {
         "age_bin": "0-10",
         "bin_count": 9,
         "probability": 0.0011
        },
        {
         "age_bin": "11-20",
         "bin_count": 205,
         "probability": 0.024
        },
        {
         "age_bin": "21-30",
         "bin_count": 2746,
         "probability": 0.321
        },
        {
         "age_bin": "31-40",
         "bin_count": 3047,
         "probability": 0.3562
        },
        {
         "age_bin": "41-50",
         "bin_count": 2276,
         "probability": 0.266
        },
        {
         "age_bin": "51-60",
         "bin_count": 272,
         "probability": 0.0318
        },
        {
         "age_bin": "61-70",
         "bin_count": 0,
         "probability": 0
        },
        {
         "age_bin": "71-80",
         "bin_count": 0,
         "probability": 0
        },
        {
         "age_bin": "81-90",
         "bin_count": 0,
         "probability": 0
        },
        {
         "age_bin": "91+",
         "bin_count": 0,
         "probability": 0
        }
       ],
       "_anywidget_id": "ViewCohorts.ViewCohorts",
       "_cohort1_meta": {
        "created_by": "system",
        "created_date": "2025-10-15",
        "creation_info": "WITH ranked_events_condition_occurrence AS ( SELECT person_id, condition_concept_id AS concept_id, condition_start_date AS event_start_date, condition_end_date AS event_end_date, ROW_NUMBER() OVER ( PARTITION BY person_id, condition_concept_id ORDER BY condition_start_date ASC ) AS event_instance FROM condition_occurrence ), domain_qualifying_events AS ( (SELECT person_id, event_start_date, event_end_date FROM ranked_events_condition_occurrence WHERE concept_id = 201826) ), filtered_cohort AS ( SELECT c.person_id, MIN(c.event_start_date) AS cohort_start_date, MAX(c.event_end_date) AS cohort_end_date FROM domain_qualifying_events c JOIN person p ON c.person_id = p.person_id WHERE 1=1 AND p.gender_concept_id = 8507 AND p.year_of_birth <= 1990 GROUP BY c.person_id ) SELECT * FROM filtered_cohort f",
        "description": "Diabetes patients for the study cohort",
        "id": 1,
        "name": "Diabetes patients"
       },
       "_cohort1_shortname": "study",
       "_cohort1_stats": [
        {
         "avg_duration_days": null,
         "earliest_end_date": null,
         "earliest_start_date": "1928-04-04",
         "latest_end_date": null,
         "latest_start_date": "2020-05-12",
         "max_duration_days": null,
         "median_duration": null,
         "min_duration_days": null,
         "stddev_duration": null,
         "total_count": 4718
        }
       ],
       "_cohort2_meta": {
        "created_by": "system",
        "created_date": "2025-10-15",
        "creation_info": "WITH ranked_events_condition_occurrence AS ( SELECT person_id, condition_concept_id AS concept_id, condition_start_date AS event_start_date, condition_end_date AS event_end_date, ROW_NUMBER() OVER ( PARTITION BY person_id, condition_concept_id ORDER BY condition_start_date ASC ) AS event_instance FROM condition_occurrence ), domain_qualifying_events AS ( (SELECT person_id, event_start_date, event_end_date FROM ranked_events_condition_occurrence WHERE concept_id = 201826) ), filtered_cohort AS ( SELECT c.person_id, MIN(c.event_start_date) AS cohort_start_date, MAX(c.event_end_date) AS cohort_end_date FROM domain_qualifying_events c JOIN person p ON c.person_id = p.person_id WHERE 1=1 GROUP BY c.person_id ) SELECT * FROM filtered_cohort f",
        "description": "Diabetes patients for the baseline cohort",
        "id": 2,
        "name": "Diabetes patients baseline"
       },
       "_cohort2_shortname": "baseline",
       "_cohort2_stats": [
        {
         "avg_duration_days": null,
         "earliest_end_date": null,
         "earliest_start_date": "1928-04-04",
         "latest_end_date": null,
         "latest_start_date": "2020-05-12",
         "max_duration_days": null,
         "median_duration": null,
         "min_duration_days": null,
         "stddev_duration": null,
         "total_count": 8555
        }
       ],
       "_cond_hier": [
        {
         "children": [
          {
           "children": [
            {
             "children": [
              {
               "children": [
                {
                 "children": [
                  {
                   "children": [
                    {
                     "children": [],
                     "concept_code": "302870006",
                     "concept_id": 4120314,
                     "concept_name": "Hypertriglyceridemia",
                     "metrics": {
                      "1": {
                       "count": 4650,
                       "prevalence": 0.9855871131835523
                      },
                      "2": {
                       "count": 8367,
                       "prevalence": 0.9780245470485096
                      }
                     },
                     "parent_ids": [
                      432867
                     ],
                     "source_cohorts": [
                      1,
                      2
                     ]
                    }
                   ],
                   "concept_code": "55822004",
                   "concept_id": 432867,
                   "concept_name": "Hyperlipidemia",
                   "metrics": {
                    "1": {
                     "count": 4650,
                     "prevalence": 0.9855871131835523
                    },
                    "2": {
                     "count": 8369,
                     "prevalence": 0.9782583284628872
                    }
                   },
                   "parent_ids": [
                    4031814,
                    4051221
                   ],
                   "source_cohorts": [
                    1,
                    2
                   ]
                  }
                 ],
                 "concept_code": "124042003",
                 "concept_id": 4051221,
                 "concept_name": "Increased lipid",
                 "metrics": {
                  "1": {
                   "count": 4650,
                   "prevalence": 0.9855871131835523
                  },
                  "2": {
                   "count": 8369,
                   "prevalence": 0.9782583284628872
                  }
                 },
                 "parent_ids": [
                  4042056,
                  40484935
                 ],
                 "source_cohorts": [
                  1,
                  2
                 ]
                }
               ],
               "concept_code": "166818002",
               "concept_id": 4042056,
               "concept_name": "Lipids abnormal",
               "metrics": {
                "1": {
                 "count": 4650,
                 "prevalence": 0.9855871131835523
                },
                "2": {
                 "count": 8369,
                 "prevalence": 0.9782583284628872
                }
               },
               "parent_ids": [
                40481841,
                4276569
               ],
               "source_cohorts": [
                1,
                2
               ]
              }
             ],
             "concept_code": "365791005",
             "concept_id": 4276569,
             "concept_name": "Lipid level - finding",
             "metrics": {
              "1": {
               "count": 4650,
               "prevalence": 0.9855871131835523
              },
              "2": {
               "count": 8369,
               "prevalence": 0.9782583284628872
              }
             },
             "parent_ids": [
              37203927
             ],
             "source_cohorts": [
              1,
              2
             ]
            },
            {
             "children": [
              {
               "children": [
                {
                 "children": [
                  {
                   "children": [],
                   "concept_code": "271737000",
                   "concept_id": 439777,
                   "concept_name": "Anemia",
                   "metrics": {
                    "1": {
                     "count": 3329,
                     "prevalence": 0.7055955913522679
                    },
                    "2": {
                     "count": 5201,
                     "prevalence": 0.6079485680888369
                    }
                   },
                   "parent_ids": [
                    443723,
                    4013074,
                    4267432
                   ],
                   "source_cohorts": [
                    1,
                    2
                   ]
                  }
                 ],
                 "concept_code": "165397008",
                 "concept_id": 4013074,
                 "concept_name": "Hemoglobin low",
                 "metrics": {
                  "1": {
                   "count": 3329,
                   "prevalence": 0.7055955913522679
                  },
                  "2": {
                   "count": 5201,
                   "prevalence": 0.6079485680888369
                  }
                 },
                 "parent_ids": [
                  40480513,
                  40484533
                 ],
                 "source_cohorts": [
                  1,
                  2
                 ]
                }
               ],
               "concept_code": "441793007",
               "concept_id": 40480513,
               "concept_name": "Hemoglobin level outside reference range",
               "metrics": {
                "1": {
                 "count": 3329,
                 "prevalence": 0.7055955913522679
                },
                "2": {
                 "count": 5201,
                 "prevalence": 0.6079485680888369
                }
               },
               "parent_ids": [
                40481841,
                4276572,
                4021915
               ],
               "source_cohorts": [
                1,
                2
               ]
              },
              {
               "children": [
                {
                 "children": [
                  {
                   "children": [
                    {
                     "children": [],
                     "concept_code": "90781000119102",
                     "concept_id": 45769905,
                     "concept_name": "Microalbuminuria due to type 2 diabetes mellitus",
                     "metrics": {
                      "1": {
                       "count": 377,
                       "prevalence": 0.07990674014412887
                      },
                      "2": {
                       "count": 558,
                       "prevalence": 0.0652250146113384
                      }
                     },
                     "parent_ids": [
                      4128221,
                      45757499
                     ],
                     "source_cohorts": [
                      1,
                      2
                     ]
                    }
                   ],
                   "concept_code": "236499007",
                   "concept_id": 4128221,
                   "concept_name": "Microalbuminuric diabetic nephropathy",
                   "metrics": {
                    "1": {
                     "count": 377,
                     "prevalence": 0.07990674014412887
                    },
                    "2": {
                     "count": 558,
                     "prevalence": 0.0652250146113384
                    }
                   },
                   "parent_ids": [
                    4030664,
                    4325125
                   ],
                   "source_cohorts": [
                    1,
                    2
                   ]
                  }
                 ],
                 "concept_code": "71628007",
                 "concept_id": 4325125,
                 "concept_name": "Abnormal presence of albumin",
                 "metrics": {
                  "1": {
                   "count": 377,
                   "prevalence": 0.07990674014412887
                  },
                  "2": {
                   "count": 558,
                   "prevalence": 0.0652250146113384
                  }
                 },
                 "parent_ids": [
                  4275213,
                  4029490
                 ],
                 "source_cohorts": [
                  1,
                  2
                 ]
                }
               ],
               "concept_code": "365801005",
               "concept_id": 4275213,
               "concept_name": "Albumin level - finding",
               "metrics": {
                "1": {
                 "count": 377,
                 "prevalence": 0.07990674014412887
                },
                "2": {
                 "count": 558,
                 "prevalence": 0.0652250146113384
                }
               },
               "parent_ids": [
                4276572
               ],
               "source_cohorts": [
                1,
                2
               ]
              },
              {
               "children": [
                {
                 "children": [
                  {
                   "children": [
                    {
                     "children": [],
                     "concept_code": "90781000119102",
                     "concept_id": 45769905,
                     "concept_name": "Microalbuminuria due to type 2 diabetes mellitus",
                     "metrics": {
                      "1": {
                       "count": 377,
                       "prevalence": 0.07990674014412887
                      },
                      "2": {
                       "count": 558,
                       "prevalence": 0.0652250146113384
                      }
                     },
                     "parent_ids": [
                      4128221,
                      45757499
                     ],
                     "source_cohorts": [
                      1,
                      2
                     ]
                    }
                   ],
                   "concept_code": "236499007",
                   "concept_id": 4128221,
                   "concept_name": "Microalbuminuric diabetic nephropathy",
                   "metrics": {
                    "1": {
                     "count": 377,
                     "prevalence": 0.07990674014412887
                    },
                    "2": {
                     "count": 558,
                     "prevalence": 0.0652250146113384
                    }
                   },
                   "parent_ids": [
                    4030664,
                    4325125
                   ],
                   "source_cohorts": [
                    1,
                    2
                   ]
                  }
                 ],
                 "concept_code": "71628007",
                 "concept_id": 4325125,
                 "concept_name": "Abnormal presence of albumin",
                 "metrics": {
                  "1": {
                   "count": 377,
                   "prevalence": 0.07990674014412887
                  },
                  "2": {
                   "count": 558,
                   "prevalence": 0.0652250146113384
                  }
                 },
                 "parent_ids": [
                  4275213,
                  4029490
                 ],
                 "source_cohorts": [
                  1,
                  2
                 ]
                },
                {
                 "children": [
                  {
                   "children": [
                    {
                     "children": [
                      {
                       "children": [
                        {
                         "children": [],
                         "concept_code": "90781000119102",
                         "concept_id": 45769905,
                         "concept_name": "Microalbuminuria due to type 2 diabetes mellitus",
                         "metrics": {
                          "1": {
                           "count": 377,
                           "prevalence": 0.07990674014412887
                          },
                          "2": {
                           "count": 558,
                           "prevalence": 0.0652250146113384
                          }
                         },
                         "parent_ids": [
                          4128221,
                          45757499
                         ],
                         "source_cohorts": [
                          1,
                          2
                         ]
                        }
                       ],
                       "concept_code": "236499007",
                       "concept_id": 4128221,
                       "concept_name": "Microalbuminuric diabetic nephropathy",
                       "metrics": {
                        "1": {
                         "count": 377,
                         "prevalence": 0.07990674014412887
                        },
                        "2": {
                         "count": 558,
                         "prevalence": 0.0652250146113384
                        }
                       },
                       "parent_ids": [
                        4030664,
                        4325125
                       ],
                       "source_cohorts": [
                        1,
                        2
                       ]
                      },
                      {
                       "children": [
                        {
                         "children": [],
                         "concept_code": "90781000119102",
                         "concept_id": 45769905,
                         "concept_name": "Microalbuminuria due to type 2 diabetes mellitus",
                         "metrics": {
                          "1": {
                           "count": 377,
                           "prevalence": 0.07990674014412887
                          },
                          "2": {
                           "count": 558,
                           "prevalence": 0.0652250146113384
                          }
                         },
                         "parent_ids": [
                          4128221,
                          45757499
                         ],
                         "source_cohorts": [
                          1,
                          2
                         ]
                        }
                       ],
                       "concept_code": "157141000119108",
                       "concept_id": 45757499,
                       "concept_name": "Proteinuria due to type 2 diabetes mellitus",
                       "metrics": {
                        "1": {
                         "count": 377,
                         "prevalence": 0.07990674014412887
                        },
                        "2": {
                         "count": 558,
                         "prevalence": 0.0652250146113384
                        }
                       },
                       "parent_ids": [
                        4030664,
                        443731
                       ],
                       "source_cohorts": [
                        1,
                        2
                       ]
                      }
                     ],
                     "concept_code": "236500003",
                     "concept_id": 4030664,
                     "concept_name": "Proteinuric nephropathy due to diabetes mellitus",
                     "metrics": {
                      "1": {
                       "count": 377,
                       "prevalence": 0.07990674014412887
                      },
                      "2": {
                       "count": 558,
                       "prevalence": 0.0652250146113384
                      }
                     },
                     "parent_ids": [
                      4153654,
                      4206115
                     ],
                     "source_cohorts": [
                      1,
                      2
                     ]
                    }
                   ],
                   "concept_code": "370494002",
                   "concept_id": 4153654,
                   "concept_name": "Protein-losing nephropathy",
                   "metrics": {
                    "1": {
                     "count": 377,
                     "prevalence": 0.07990674014412887
                    },
                    "2": {
                     "count": 558,
                     "prevalence": 0.0652250146113384
                    }
                   },
                   "parent_ids": [
                    198124,
                    75650
                   ],
                   "source_cohorts": [
                    1,
                    2
                   ]
                  }
                 ],
                 "concept_code": "29738008",
                 "concept_id": 75650,
                 "concept_name": "Proteinuria",
                 "metrics": {
                  "1": {
                   "count": 377,
                   "prevalence": 0.07990674014412887
                  },
                  "2": {
                   "count": 558,
                   "prevalence": 0.0652250146113384
                  }
                 },
                 "parent_ids": [
                  37203928,
                  4029490
                 ],
                 "source_cohorts": [
                  1,
                  2
                 ]
                }
               ],
               "concept_code": "13930000",
               "concept_id": 4029490,
               "concept_name": "Abnormal presence of protein",
               "metrics": {
                "1": {
                 "count": 377,
                 "prevalence": 0.07990674014412887
                },
                "2": {
                 "count": 558,
                 "prevalence": 0.0652250146113384
                }
               },
               "parent_ids": [
                4276572,
                40484102
               ],
               "source_cohorts": [
                1,
                2
               ]
              }
             ],
             "concept_code": "365799007",
             "concept_id": 4276572,
             "concept_name": "Protein level - finding",
             "metrics": {
              "1": {
               "count": 3468,
               "prevalence": 0.73505722763883
              },
              "2": {
               "count": 5440,
               "prevalence": 0.635885447106955
              }
             },
             "parent_ids": [
              37203927
             ],
             "source_cohorts": [
              1,
              2
             ]
            },
            {
             "children": [
              {
               "children": [
                {
                 "children": [
                  {
                   "children": [
                    {
                     "children": [
                      {
                       "children": [],
                       "concept_code": "90781000119102",
                       "concept_id": 45769905,
                       "concept_name": "Microalbuminuria due to type 2 diabetes mellitus",
                       "metrics": {
                        "1": {
                         "count": 377,
                         "prevalence": 0.07990674014412887
                        },
                        "2": {
                         "count": 558,
                         "prevalence": 0.0652250146113384
                        }
                       },
                       "parent_ids": [
                        4128221,
                        45757499
                       ],
                       "source_cohorts": [
                        1,
                        2
                       ]
                      }
                     ],
                     "concept_code": "236499007",
                     "concept_id": 4128221,
                     "concept_name": "Microalbuminuric diabetic nephropathy",
                     "metrics": {
                      "1": {
                       "count": 377,
                       "prevalence": 0.07990674014412887
                      },
                      "2": {
                       "count": 558,
                       "prevalence": 0.0652250146113384
                      }
                     },
                     "parent_ids": [
                      4030664,
                      4325125
                     ],
                     "source_cohorts": [
                      1,
                      2
                     ]
                    },
                    {
                     "children": [
                      {
                       "children": [],
                       "concept_code": "90781000119102",
                       "concept_id": 45769905,
                       "concept_name": "Microalbuminuria due to type 2 diabetes mellitus",
                       "metrics": {
                        "1": {
                         "count": 377,
                         "prevalence": 0.07990674014412887
                        },
                        "2": {
                         "count": 558,
                         "prevalence": 0.0652250146113384
                        }
                       },
                       "parent_ids": [
                        4128221,
                        45757499
                       ],
                       "source_cohorts": [
                        1,
                        2
                       ]
                      }
                     ],
                     "concept_code": "157141000119108",
                     "concept_id": 45757499,
                     "concept_name": "Proteinuria due to type 2 diabetes mellitus",
                     "metrics": {
                      "1": {
                       "count": 377,
                       "prevalence": 0.07990674014412887
                      },
                      "2": {
                       "count": 558,
                       "prevalence": 0.0652250146113384
                      }
                     },
                     "parent_ids": [
                      4030664,
                      443731
                     ],
                     "source_cohorts": [
                      1,
                      2
                     ]
                    }
                   ],
                   "concept_code": "236500003",
                   "concept_id": 4030664,
                   "concept_name": "Proteinuric nephropathy due to diabetes mellitus",
                   "metrics": {
                    "1": {
                     "count": 377,
                     "prevalence": 0.07990674014412887
                    },
                    "2": {
                     "count": 558,
                     "prevalence": 0.0652250146113384
                    }
                   },
                   "parent_ids": [
                    4153654,
                    4206115
                   ],
                   "source_cohorts": [
                    1,
                    2
                   ]
                  }
                 ],
                 "concept_code": "370494002",
                 "concept_id": 4153654,
                 "concept_name": "Protein-losing nephropathy",
                 "metrics": {
                  "1": {
                   "count": 377,
                   "prevalence": 0.07990674014412887
                  },
                  "2": {
                   "count": 558,
                   "prevalence": 0.0652250146113384
                  }
                 },
                 "parent_ids": [
                  198124,
                  75650
                 ],
                 "source_cohorts": [
                  1,
                  2
                 ]
                }
               ],
               "concept_code": "29738008",
               "concept_id": 75650,
               "concept_name": "Proteinuria",
               "metrics": {
                "1": {
                 "count": 377,
                 "prevalence": 0.07990674014412887
                },
                "2": {
                 "count": 558,
                 "prevalence": 0.0652250146113384
                }
               },
               "parent_ids": [
                37203928,
                4029490
               ],
               "source_cohorts": [
                1,
                2
               ]
              }
             ],
             "concept_code": "785672002",
             "concept_id": 37203928,
             "concept_name": "Finding of urine substance level",
             "metrics": {
              "1": {
               "count": 377,
               "prevalence": 0.07990674014412887
              },
              "2": {
               "count": 558,
               "prevalence": 0.0652250146113384
              }
             },
             "parent_ids": [
              37203927
             ],
             "source_cohorts": [
              1,
              2
             ]
            },
            {
             "children": [
              {
               "children": [
                {
                 "children": [],
                 "concept_code": "90560007",
                 "concept_id": 440674,
                 "concept_name": "Gout",
                 "metrics": {
                  "1": {
                   "count": 50,
                   "prevalence": 0.0105977108944468
                  },
                  "2": {
                   "count": 71,
                   "prevalence": 0.008299240210403272
                  }
                 },
                 "parent_ids": [
                  4148593,
                  4139452
                 ],
                 "source_cohorts": [
                  1,
                  2
                 ]
                }
               ],
               "concept_code": "269859006",
               "concept_id": 4148593,
               "concept_name": "Blood urate raised",
               "metrics": {
                "1": {
                 "count": 50,
                 "prevalence": 0.0105977108944468
                },
                "2": {
                 "count": 71,
                 "prevalence": 0.008299240210403272
                }
               },
               "parent_ids": [
                4041541,
                4042074,
                4169747
               ],
               "source_cohorts": [
                1,
                2
               ]
              }
             ],
             "concept_code": "166975007",
             "concept_id": 4042074,
             "concept_name": "Blood drug level high",
             "metrics": {
              "1": {
               "count": 50,
               "prevalence": 0.0105977108944468
              },
              "2": {
               "count": 71,
               "prevalence": 0.008299240210403272
              }
             },
             "parent_ids": [
              37203927,
              40484935
             ],
             "source_cohorts": [
              1,
              2
             ]
            },
            {
             "children": [
              {
               "children": [
                {
                 "children": [
                  {
                   "children": [],
                   "concept_code": "90560007",
                   "concept_id": 440674,
                   "concept_name": "Gout",
                   "metrics": {
                    "1": {
                     "count": 50,
                     "prevalence": 0.0105977108944468
                    },
                    "2": {
                     "count": 71,
                     "prevalence": 0.008299240210403272
                    }
                   },
                   "parent_ids": [
                    4148593,
                    4139452
                   ],
                   "source_cohorts": [
                    1,
                    2
                   ]
                  }
                 ],
                 "concept_code": "269859006",
                 "concept_id": 4148593,
                 "concept_name": "Blood urate raised",
                 "metrics": {
                  "1": {
                   "count": 50,
                   "prevalence": 0.0105977108944468
                  },
                  "2": {
                   "count": 71,
                   "prevalence": 0.008299240210403272
                  }
                 },
                 "parent_ids": [
                  4041541,
                  4042074,
                  4169747
                 ],
                 "source_cohorts": [
                  1,
                  2
                 ]
                }
               ],
               "concept_code": "49099001",
               "concept_id": 4169747,
               "concept_name": "Increased uric acid level",
               "metrics": {
                "1": {
                 "count": 50,
                 "prevalence": 0.0105977108944468
                },
                "2": {
                 "count": 71,
                 "prevalence": 0.008299240210403272
                }
               },
               "parent_ids": [
                40484935,
                4269858
               ],
               "source_cohorts": [
                1,
                2
               ]
              },
              {
               "children": [
                {
                 "children": [
                  {
                   "children": [
                    {
                     "children": [],
                     "concept_code": "90560007",
                     "concept_id": 440674,
                     "concept_name": "Gout",
                     "metrics": {
                      "1": {
                       "count": 50,
                       "prevalence": 0.0105977108944468
                      },
                      "2": {
                       "count": 71,
                       "prevalence": 0.008299240210403272
                      }
                     },
                     "parent_ids": [
                      4148593,
                      4139452
                     ],
                     "source_cohorts": [
                      1,
                      2
                     ]
                    }
                   ],
                   "concept_code": "269859006",
                   "concept_id": 4148593,
                   "concept_name": "Blood urate raised",
                   "metrics": {
                    "1": {
                     "count": 50,
                     "prevalence": 0.0105977108944468
                    },
                    "2": {
                     "count": 71,
                     "prevalence": 0.008299240210403272
                    }
                   },
                   "parent_ids": [
                    4041541,
                    4042074,
                    4169747
                   ],
                   "source_cohorts": [
                    1,
                    2
                   ]
                  }
                 ],
                 "concept_code": "166735007",
                 "concept_id": 4041541,
                 "concept_name": "Blood urate abnormal",
                 "metrics": {
                  "1": {
                   "count": 50,
                   "prevalence": 0.0105977108944468
                  },
                  "2": {
                   "count": 71,
                   "prevalence": 0.008299240210403272
                  }
                 },
                 "parent_ids": [
                  40481841,
                  4267680
                 ],
                 "source_cohorts": [
                  1,
                  2
                 ]
                }
               ],
               "concept_code": "365823009",
               "concept_id": 4267680,
               "concept_name": "Blood urate level - finding",
               "metrics": {
                "1": {
                 "count": 50,
                 "prevalence": 0.0105977108944468
                },
                "2": {
                 "count": 71,
                 "prevalence": 0.008299240210403272
                }
               },
               "parent_ids": [
                4269858
               ],
               "source_cohorts": [
                1,
                2
               ]
              }
             ],
             "concept_code": "365822004",
             "concept_id": 4269858,
             "concept_name": "Urate level - finding",
             "metrics": {
              "1": {
               "count": 50,
               "prevalence": 0.0105977108944468
              },
              "2": {
               "count": 71,
               "prevalence": 0.008299240210403272
              }
             },
             "parent_ids": [
              37203927
             ],
             "source_cohorts": [
              1,
              2
             ]
            }
           ],
           "concept_code": "785671009",
           "concept_id": 37203927,
           "concept_name": "Finding of substance level",
           "metrics": {
            "1": {
             "count": 4679,
             "prevalence": 0.9917337855023315
            },
            "2": {
             "count": 8424,
             "prevalence": 0.98468731735827
            }
           },
           "parent_ids": [
            4041436
           ],
           "source_cohorts": [
            1,
            2
           ]
          },
          {
           "children": [
            {
             "children": [
              {
               "children": [
                {
                 "children": [
                  {
                   "children": [],
                   "concept_code": "302870006",
                   "concept_id": 4120314,
                   "concept_name": "Hypertriglyceridemia",
                   "metrics": {
                    "1": {
                     "count": 4650,
                     "prevalence": 0.9855871131835523
                    },
                    "2": {
                     "count": 8367,
                     "prevalence": 0.9780245470485096
                    }
                   },
                   "parent_ids": [
                    432867
                   ],
                   "source_cohorts": [
                    1,
                    2
                   ]
                  }
                 ],
                 "concept_code": "55822004",
                 "concept_id": 432867,
                 "concept_name": "Hyperlipidemia",
                 "metrics": {
                  "1": {
                   "count": 4650,
                   "prevalence": 0.9855871131835523
                  },
                  "2": {
                   "count": 8369,
                   "prevalence": 0.9782583284628872
                  }
                 },
                 "parent_ids": [
                  4031814,
                  4051221
                 ],
                 "source_cohorts": [
                  1,
                  2
                 ]
                }
               ],
               "concept_code": "124042003",
               "concept_id": 4051221,
               "concept_name": "Increased lipid",
               "metrics": {
                "1": {
                 "count": 4650,
                 "prevalence": 0.9855871131835523
                },
                "2": {
                 "count": 8369,
                 "prevalence": 0.9782583284628872
                }
               },
               "parent_ids": [
                4042056,
                40484935
               ],
               "source_cohorts": [
                1,
                2
               ]
              },
              {
               "children": [
                {
                 "children": [
                  {
                   "children": [],
                   "concept_code": "90560007",
                   "concept_id": 440674,
                   "concept_name": "Gout",
                   "metrics": {
                    "1": {
                     "count": 50,
                     "prevalence": 0.0105977108944468
                    },
                    "2": {
                     "count": 71,
                     "prevalence": 0.008299240210403272
                    }
                   },
                   "parent_ids": [
                    4148593,
                    4139452
                   ],
                   "source_cohorts": [
                    1,
                    2
                   ]
                  }
                 ],
                 "concept_code": "269859006",
                 "concept_id": 4148593,
                 "concept_name": "Blood urate raised",
                 "metrics": {
                  "1": {
                   "count": 50,
                   "prevalence": 0.0105977108944468
                  },
                  "2": {
                   "count": 71,
                   "prevalence": 0.008299240210403272
                  }
                 },
                 "parent_ids": [
                  4041541,
                  4042074,
                  4169747
                 ],
                 "source_cohorts": [
                  1,
                  2
                 ]
                }
               ],
               "concept_code": "49099001",
               "concept_id": 4169747,
               "concept_name": "Increased uric acid level",
               "metrics": {
                "1": {
                 "count": 50,
                 "prevalence": 0.0105977108944468
                },
                "2": {
                 "count": 71,
                 "prevalence": 0.008299240210403272
                }
               },
               "parent_ids": [
                40484935,
                4269858
               ],
               "source_cohorts": [
                1,
                2
               ]
              },
              {
               "children": [
                {
                 "children": [
                  {
                   "children": [],
                   "concept_code": "90560007",
                   "concept_id": 440674,
                   "concept_name": "Gout",
                   "metrics": {
                    "1": {
                     "count": 50,
                     "prevalence": 0.0105977108944468
                    },
                    "2": {
                     "count": 71,
                     "prevalence": 0.008299240210403272
                    }
                   },
                   "parent_ids": [
                    4148593,
                    4139452
                   ],
                   "source_cohorts": [
                    1,
                    2
                   ]
                  }
                 ],
                 "concept_code": "269859006",
                 "concept_id": 4148593,
                 "concept_name": "Blood urate raised",
                 "metrics": {
                  "1": {
                   "count": 50,
                   "prevalence": 0.0105977108944468
                  },
                  "2": {
                   "count": 71,
                   "prevalence": 0.008299240210403272
                  }
                 },
                 "parent_ids": [
                  4041541,
                  4042074,
                  4169747
                 ],
                 "source_cohorts": [
                  1,
                  2
                 ]
                }
               ],
               "concept_code": "166975007",
               "concept_id": 4042074,
               "concept_name": "Blood drug level high",
               "metrics": {
                "1": {
                 "count": 50,
                 "prevalence": 0.0105977108944468
                },
                "2": {
                 "count": 71,
                 "prevalence": 0.008299240210403272
                }
               },
               "parent_ids": [
                37203927,
                40484935
               ],
               "source_cohorts": [
                1,
                2
               ]
              }
             ],
             "concept_code": "442756004",
             "concept_id": 40484935,
             "concept_name": "Measurement finding above reference range",
             "metrics": {
              "1": {
               "count": 4650,
               "prevalence": 0.9855871131835523
              },
              "2": {
               "count": 8369,
               "prevalence": 0.9782583284628872
              }
             },
             "parent_ids": [
              40481841
             ],
             "source_cohorts": [
              1,
              2
             ]
            },
            {
             "children": [
              {
               "children": [
                {
                 "children": [
                  {
                   "children": [],
                   "concept_code": "302870006",
                   "concept_id": 4120314,
                   "concept_name": "Hypertriglyceridemia",
                   "metrics": {
                    "1": {
                     "count": 4650,
                     "prevalence": 0.9855871131835523
                    },
                    "2": {
                     "count": 8367,
                     "prevalence": 0.9780245470485096
                    }
                   },
                   "parent_ids": [
                    432867
                   ],
                   "source_cohorts": [
                    1,
                    2
                   ]
                  }
                 ],
                 "concept_code": "55822004",
                 "concept_id": 432867,
                 "concept_name": "Hyperlipidemia",
                 "metrics": {
                  "1": {
                   "count": 4650,
                   "prevalence": 0.9855871131835523
                  },
                  "2": {
                   "count": 8369,
                   "prevalence": 0.9782583284628872
                  }
                 },
                 "parent_ids": [
                  4031814,
                  4051221
                 ],
                 "source_cohorts": [
                  1,
                  2
                 ]
                }
               ],
               "concept_code": "124042003",
               "concept_id": 4051221,
               "concept_name": "Increased lipid",
               "metrics": {
                "1": {
                 "count": 4650,
                 "prevalence": 0.9855871131835523
                },
                "2": {
                 "count": 8369,
                 "prevalence": 0.9782583284628872
                }
               },
               "parent_ids": [
                4042056,
                40484935
               ],
               "source_cohorts": [
                1,
                2
               ]
              }
             ],
             "concept_code": "166818002",
             "concept_id": 4042056,
             "concept_name": "Lipids abnormal",
             "metrics": {
              "1": {
               "count": 4650,
               "prevalence": 0.9855871131835523
              },
              "2": {
               "count": 8369,
               "prevalence": 0.9782583284628872
              }
             },
             "parent_ids": [
              40481841,
              4276569
             ],
             "source_cohorts": [
              1,
              2
             ]
            },
            {
             "children": [
              {
               "children": [
                {
                 "children": [],
                 "concept_code": "271737000",
                 "concept_id": 439777,
                 "concept_name": "Anemia",
                 "metrics": {
                  "1": {
                   "count": 3329,
                   "prevalence": 0.7055955913522679
                  },
                  "2": {
                   "count": 5201,
                   "prevalence": 0.6079485680888369
                  }
                 },
                 "parent_ids": [
                  443723,
                  4013074,
                  4267432
                 ],
                 "source_cohorts": [
                  1,
                  2
                 ]
                }
               ],
               "concept_code": "165397008",
               "concept_id": 4013074,
               "concept_name": "Hemoglobin low",
               "metrics": {
                "1": {
                 "count": 3329,
                 "prevalence": 0.7055955913522679
                },
                "2": {
                 "count": 5201,
                 "prevalence": 0.6079485680888369
                }
               },
               "parent_ids": [
                40480513,
                40484533
               ],
               "source_cohorts": [
                1,
                2
               ]
              }
             ],
             "concept_code": "441793007",
             "concept_id": 40480513,
             "concept_name": "Hemoglobin level outside reference range",
             "metrics": {
              "1": {
               "count": 3329,
               "prevalence": 0.7055955913522679
              },
              "2": {
               "count": 5201,
               "prevalence": 0.6079485680888369
              }
             },
             "parent_ids": [
              40481841,
              4276572,
              4021915
             ],
             "source_cohorts": [
              1,
              2
             ]
            },
            {
             "children": [
              {
               "children": [
                {
                 "children": [
                  {
                   "children": [
                    {
                     "children": [],
                     "concept_code": "271737000",
                     "concept_id": 439777,
                     "concept_name": "Anemia",
                     "metrics": {
                      "1": {
                       "count": 3329,
                       "prevalence": 0.7055955913522679
                      },
                      "2": {
                       "count": 5201,
                       "prevalence": 0.6079485680888369
                      }
                     },
                     "parent_ids": [
                      443723,
                      4013074,
                      4267432
                     ],
                     "source_cohorts": [
                      1,
                      2
                     ]
                    }
                   ],
                   "concept_code": "62574001",
                   "concept_id": 4267432,
                   "concept_name": "Erythropenia",
                   "metrics": {
                    "1": {
                     "count": 3329,
                     "prevalence": 0.7055955913522679
                    },
                    "2": {
                     "count": 5201,
                     "prevalence": 0.6079485680888369
                    }
                   },
                   "parent_ids": [
                    4179922,
                    4013842
                   ],
                   "source_cohorts": [
                    1,
                    2
                   ]
                  }
                 ],
                 "concept_code": "165423001",
                 "concept_id": 4013842,
                 "concept_name": "RBC count low",
                 "metrics": {
                  "1": {
                   "count": 3329,
                   "prevalence": 0.7055955913522679
                  },
                  "2": {
                   "count": 5201,
                   "prevalence": 0.6079485680888369
                  }
                 },
                 "parent_ids": [
                  4013518,
                  40484533
                 ],
                 "source_cohorts": [
                  1,
                  2
                 ]
                }
               ],
               "concept_code": "165427000",
               "concept_id": 4013518,
               "concept_name": "RBC count abnormal",
               "metrics": {
                "1": {
                 "count": 3329,
                 "prevalence": 0.7055955913522679
                },
                "2": {
                 "count": 5201,
                 "prevalence": 0.6079485680888369
                }
               },
               "parent_ids": [
                42538830
               ],
               "source_cohorts": [
                1,
                2
               ]
              },
              {
               "children": [
                {
                 "children": [
                  {
                   "children": [],
                   "concept_code": "271737000",
                   "concept_id": 439777,
                   "concept_name": "Anemia",
                   "metrics": {
                    "1": {
                     "count": 3329,
                     "prevalence": 0.7055955913522679
                    },
                    "2": {
                     "count": 5201,
                     "prevalence": 0.6079485680888369
                    }
                   },
                   "parent_ids": [
                    443723,
                    4013074,
                    4267432
                   ],
                   "source_cohorts": [
                    1,
                    2
                   ]
                  }
                 ],
                 "concept_code": "62574001",
                 "concept_id": 4267432,
                 "concept_name": "Erythropenia",
                 "metrics": {
                  "1": {
                   "count": 3329,
                   "prevalence": 0.7055955913522679
                  },
                  "2": {
                   "count": 5201,
                   "prevalence": 0.6079485680888369
                  }
                 },
                 "parent_ids": [
                  4179922,
                  4013842
                 ],
                 "source_cohorts": [
                  1,
                  2
                 ]
                }
               ],
               "concept_code": "50820005",
               "concept_id": 4179922,
               "concept_name": "Cytopenia",
               "metrics": {
                "1": {
                 "count": 3329,
                 "prevalence": 0.7055955913522679
                },
                "2": {
                 "count": 5201,
                 "prevalence": 0.6079485680888369
                }
               },
               "parent_ids": [
                42538830,
                40484533,
                4021915
               ],
               "source_cohorts": [
                1,
                2
               ]
              }
             ],
             "concept_code": "762656009",
             "concept_id": 42538830,
             "concept_name": "Abnormal blood cell count",
             "metrics": {
              "1": {
               "count": 3329,
               "prevalence": 0.7055955913522679
              },
              "2": {
               "count": 5201,
               "prevalence": 0.6079485680888369
              }
             },
             "parent_ids": [
              40481841
             ],
             "source_cohorts": [
              1,
              2
             ]
            },
            {
             "children": [
              {
               "children": [
                {
                 "children": [
                  {
                   "children": [],
                   "concept_code": "271737000",
                   "concept_id": 439777,
                   "concept_name": "Anemia",
                   "metrics": {
                    "1": {
                     "count": 3329,
                     "prevalence": 0.7055955913522679
                    },
                    "2": {
                     "count": 5201,
                     "prevalence": 0.6079485680888369
                    }
                   },
                   "parent_ids": [
                    443723,
                    4013074,
                    4267432
                   ],
                   "source_cohorts": [
                    1,
                    2
                   ]
                  }
                 ],
                 "concept_code": "62574001",
                 "concept_id": 4267432,
                 "concept_name": "Erythropenia",
                 "metrics": {
                  "1": {
                   "count": 3329,
                   "prevalence": 0.7055955913522679
                  },
                  "2": {
                   "count": 5201,
                   "prevalence": 0.6079485680888369
                  }
                 },
                 "parent_ids": [
                  4179922,
                  4013842
                 ],
                 "source_cohorts": [
                  1,
                  2
                 ]
                }
               ],
               "concept_code": "50820005",
               "concept_id": 4179922,
               "concept_name": "Cytopenia",
               "metrics": {
                "1": {
                 "count": 3329,
                 "prevalence": 0.7055955913522679
                },
                "2": {
                 "count": 5201,
                 "prevalence": 0.6079485680888369
                }
               },
               "parent_ids": [
                42538830,
                40484533,
                4021915
               ],
               "source_cohorts": [
                1,
                2
               ]
              },
              {
               "children": [
                {
                 "children": [
                  {
                   "children": [],
                   "concept_code": "271737000",
                   "concept_id": 439777,
                   "concept_name": "Anemia",
                   "metrics": {
                    "1": {
                     "count": 3329,
                     "prevalence": 0.7055955913522679
                    },
                    "2": {
                     "count": 5201,
                     "prevalence": 0.6079485680888369
                    }
                   },
                   "parent_ids": [
                    443723,
                    4013074,
                    4267432
                   ],
                   "source_cohorts": [
                    1,
                    2
                   ]
                  }
                 ],
                 "concept_code": "62574001",
                 "concept_id": 4267432,
                 "concept_name": "Erythropenia",
                 "metrics": {
                  "1": {
                   "count": 3329,
                   "prevalence": 0.7055955913522679
                  },
                  "2": {
                   "count": 5201,
                   "prevalence": 0.6079485680888369
                  }
                 },
                 "parent_ids": [
                  4179922,
                  4013842
                 ],
                 "source_cohorts": [
                  1,
                  2
                 ]
                }
               ],
               "concept_code": "165423001",
               "concept_id": 4013842,
               "concept_name": "RBC count low",
               "metrics": {
                "1": {
                 "count": 3329,
                 "prevalence": 0.7055955913522679
                },
                "2": {
                 "count": 5201,
                 "prevalence": 0.6079485680888369
                }
               },
               "parent_ids": [
                4013518,
                40484533
               ],
               "source_cohorts": [
                1,
                2
               ]
              },
              {
               "children": [
                {
                 "children": [],
                 "concept_code": "271737000",
                 "concept_id": 439777,
                 "concept_name": "Anemia",
                 "metrics": {
                  "1": {
                   "count": 3329,
                   "prevalence": 0.7055955913522679
                  },
                  "2": {
                   "count": 5201,
                   "prevalence": 0.6079485680888369
                  }
                 },
                 "parent_ids": [
                  443723,
                  4013074,
                  4267432
                 ],
                 "source_cohorts": [
                  1,
                  2
                 ]
                }
               ],
               "concept_code": "165397008",
               "concept_id": 4013074,
               "concept_name": "Hemoglobin low",
               "metrics": {
                "1": {
                 "count": 3329,
                 "prevalence": 0.7055955913522679
                },
                "2": {
                 "count": 5201,
                 "prevalence": 0.6079485680888369
                }
               },
               "parent_ids": [
                40480513,
                40484533
               ],
               "source_cohorts": [
                1,
                2
               ]
              }
             ],
             "concept_code": "442686002",
             "concept_id": 40484533,
             "concept_name": "Measurement finding below reference range",
             "metrics": {
              "1": {
               "count": 3329,
               "prevalence": 0.7055955913522679
              },
              "2": {
               "count": 5201,
               "prevalence": 0.6079485680888369
              }
             },
             "parent_ids": [
              40481841
             ],
             "source_cohorts": [
              1,
              2
             ]
            },
            {
             "children": [
              {
               "children": [
                {
                 "children": [],
                 "concept_code": "90560007",
                 "concept_id": 440674,
                 "concept_name": "Gout",
                 "metrics": {
                  "1": {
                   "count": 50,
                   "prevalence": 0.0105977108944468
                  },
                  "2": {
                   "count": 71,
                   "prevalence": 0.008299240210403272
                  }
                 },
                 "parent_ids": [
                  4148593,
                  4139452
                 ],
                 "source_cohorts": [
                  1,
                  2
                 ]
                }
               ],
               "concept_code": "269859006",
               "concept_id": 4148593,
               "concept_name": "Blood urate raised",
               "metrics": {
                "1": {
                 "count": 50,
                 "prevalence": 0.0105977108944468
                },
                "2": {
                 "count": 71,
                 "prevalence": 0.008299240210403272
                }
               },
               "parent_ids": [
                4041541,
                4042074,
                4169747
               ],
               "source_cohorts": [
                1,
                2
               ]
              }
             ],
             "concept_code": "166735007",
             "concept_id": 4041541,
             "concept_name": "Blood urate abnormal",
             "metrics": {
              "1": {
               "count": 50,
               "prevalence": 0.0105977108944468
              },
              "2": {
               "count": 71,
               "prevalence": 0.008299240210403272
              }
             },
             "parent_ids": [
              40481841,
              4267680
             ],
             "source_cohorts": [
              1,
              2
             ]
            }
           ],
           "concept_code": "442096005",
           "concept_id": 40481841,
           "concept_name": "Measurement finding outside reference range",
           "metrics": {
            "1": {
             "count": 4678,
             "prevalence": 0.9915218312844426
            },
            "2": {
             "count": 8423,
             "prevalence": 0.9845704266510812
            }
           },
           "parent_ids": [
            4041436
           ],
           "source_cohorts": [
            1,
            2
           ]
          },
          {
           "children": [
            {
             "children": [
              {
               "children": [],
               "concept_code": "431855005",
               "concept_id": 443614,
               "concept_name": "Chronic kidney disease stage 1",
               "metrics": {
                "1": {
                 "count": 2374,
                 "prevalence": 0.5031793132683341
                },
                "2": {
                 "count": 3657,
                 "prevalence": 0.42746931618936296
                }
               },
               "parent_ids": [
                46271022
               ],
               "source_cohorts": [
                1,
                2
               ]
              },
              {
               "children": [],
               "concept_code": "431856006",
               "concept_id": 443601,
               "concept_name": "Chronic kidney disease stage 2",
               "metrics": {
                "1": {
                 "count": 355,
                 "prevalence": 0.07524374735057228
                },
                "2": {
                 "count": 524,
                 "prevalence": 0.06125073056691993
                }
               },
               "parent_ids": [
                46271022
               ],
               "source_cohorts": [
                1,
                2
               ]
              },
              {
               "children": [],
               "concept_code": "433144002",
               "concept_id": 443597,
               "concept_name": "Chronic kidney disease stage 3",
               "metrics": {
                "1": {
                 "count": 29,
                 "prevalence": 0.006146672318779143
                },
                "2": {
                 "count": 45,
                 "prevalence": 0.005260081823495032
                }
               },
               "parent_ids": [
                46271022
               ],
               "source_cohorts": [
                1,
                2
               ]
              }
             ],
             "concept_code": "709044004",
             "concept_id": 46271022,
             "concept_name": "Chronic kidney disease",
             "metrics": {
              "1": {
               "count": 2555,
               "prevalence": 0.5415430267062314
              },
              "2": {
               "count": 3932,
               "prevalence": 0.45961426066627703
              }
             },
             "parent_ids": [
              4134595,
              4030518
             ],
             "source_cohorts": [
              1,
              2
             ]
            }
           ],
           "concept_code": "236423003",
           "concept_id": 4030518,
           "concept_name": "Renal impairment",
           "metrics": {
            "1": {
             "count": 2555,
             "prevalence": 0.5415430267062314
            },
            "2": {
             "count": 3932,
             "prevalence": 0.45961426066627703
            }
           },
           "parent_ids": [
            4041436,
            198124
           ],
           "source_cohorts": [
            1,
            2
           ]
          }
         ],
         "concept_code": "118245000",
         "concept_id": 4041436,
         "concept_name": "Measurement finding",
         "metrics": {
          "1": {
           "count": 4681,
           "prevalence": 0.9921576939381094
          },
          "2": {
           "count": 8427,
           "prevalence": 0.9850379894798363
          }
         },
         "parent_ids": [
          40480457
         ],
         "source_cohorts": [
          1,
          2
         ]
        },
        {
         "children": [
          {
           "children": [
            {
             "children": [],
             "concept_code": "271737000",
             "concept_id": 439777,
             "concept_name": "Anemia",
             "metrics": {
              "1": {
               "count": 3329,
               "prevalence": 0.7055955913522679
              },
              "2": {
               "count": 5201,
               "prevalence": 0.6079485680888369
              }
             },
             "parent_ids": [
              443723,
              4013074,
              4267432
             ],
             "source_cohorts": [
              1,
              2
             ]
            }
           ],
           "concept_code": "165397008",
           "concept_id": 4013074,
           "concept_name": "Hemoglobin low",
           "metrics": {
            "1": {
             "count": 3329,
             "prevalence": 0.7055955913522679
            },
            "2": {
             "count": 5201,
             "prevalence": 0.6079485680888369
            }
           },
           "parent_ids": [
            40480513,
            40484533
           ],
           "source_cohorts": [
            1,
            2
           ]
          }
         ],
         "concept_code": "441793007",
         "concept_id": 40480513,
         "concept_name": "Hemoglobin level outside reference range",
         "metrics": {
          "1": {
           "count": 3329,
           "prevalence": 0.7055955913522679
          },
          "2": {
           "count": 5201,
           "prevalence": 0.6079485680888369
          }
         },
         "parent_ids": [
          40481841,
          4276572,
          4021915
         ],
         "source_cohorts": [
          1,
          2
         ]
        },
        {
         "children": [
          {
           "children": [
            {
             "children": [],
             "concept_code": "271737000",
             "concept_id": 439777,
             "concept_name": "Anemia",
             "metrics": {
              "1": {
               "count": 3329,
               "prevalence": 0.7055955913522679
              },
              "2": {
               "count": 5201,
               "prevalence": 0.6079485680888369
              }
             },
             "parent_ids": [
              443723,
              4013074,
              4267432
             ],
             "source_cohorts": [
              1,
              2
             ]
            }
           ],
           "concept_code": "62574001",
           "concept_id": 4267432,
           "concept_name": "Erythropenia",
           "metrics": {
            "1": {
             "count": 3329,
             "prevalence": 0.7055955913522679
            },
            "2": {
             "count": 5201,
             "prevalence": 0.6079485680888369
            }
           },
           "parent_ids": [
            4179922,
            4013842
           ],
           "source_cohorts": [
            1,
            2
           ]
          }
         ],
         "concept_code": "50820005",
         "concept_id": 4179922,
         "concept_name": "Cytopenia",
         "metrics": {
          "1": {
           "count": 3329,
           "prevalence": 0.7055955913522679
          },
          "2": {
           "count": 5201,
           "prevalence": 0.6079485680888369
          }
         },
         "parent_ids": [
          42538830,
          40484533,
          4021915
         ],
         "source_cohorts": [
          1,
          2
         ]
        },
        {
         "children": [
          {
           "children": [
            {
             "children": [
              {
               "children": [
                {
                 "children": [
                  {
                   "children": [],
                   "concept_code": "386661006",
                   "concept_id": 437663,
                   "concept_name": "Fever",
                   "metrics": {
                    "1": {
                     "count": 2421,
                     "prevalence": 0.513141161509114
                    },
                    "2": {
                     "count": 4917,
                     "prevalence": 0.5747516072472239
                    }
                   },
                   "parent_ids": [
                    4178904
                   ],
                   "source_cohorts": [
                    1,
                    2
                   ]
                  }
                 ],
                 "concept_code": "50177009",
                 "concept_id": 4178904,
                 "concept_name": "Body temperature above reference range",
                 "metrics": {
                  "1": {
                   "count": 2421,
                   "prevalence": 0.513141161509114
                  },
                  "2": {
                   "count": 4917,
                   "prevalence": 0.5747516072472239
                  }
                 },
                 "parent_ids": [
                  4047791
                 ],
                 "source_cohorts": [
                  1,
                  2
                 ]
                }
               ],
               "concept_code": "123979008",
               "concept_id": 4047791,
               "concept_name": "Abnormal body temperature",
               "metrics": {
                "1": {
                 "count": 2421,
                 "prevalence": 0.513141161509114
                },
                "2": {
                 "count": 4917,
                 "prevalence": 0.5747516072472239
                }
               },
               "parent_ids": [
                4022230
               ],
               "source_cohorts": [
                1,
                2
               ]
              }
             ],
             "concept_code": "105723007",
             "concept_id": 4022230,
             "concept_name": "Body temperature finding",
             "metrics": {
              "1": {
               "count": 2421,
               "prevalence": 0.513141161509114
              },
              "2": {
               "count": 4917,
               "prevalence": 0.5747516072472239
              }
             },
             "parent_ids": [
              4103474,
              4042138
             ],
             "source_cohorts": [
              1,
              2
             ]
            }
           ],
           "concept_code": "118227000",
           "concept_id": 4042138,
           "concept_name": "Vital signs finding",
           "metrics": {
            "1": {
             "count": 2421,
             "prevalence": 0.513141161509114
            },
            "2": {
             "count": 4917,
             "prevalence": 0.5747516072472239
            }
           },
           "parent_ids": [
            4221108
           ],
           "source_cohorts": [
            1,
            2
           ]
          },
          {
           "children": [
            {
             "children": [],
             "concept_code": "84229001",
             "concept_id": 4223659,
             "concept_name": "Fatigue",
             "metrics": {
              "1": {
               "count": 1047,
               "prevalence": 0.22191606612971598
              },
              "2": {
               "count": 2070,
               "prevalence": 0.24196376388077148
              }
             },
             "parent_ids": [
              4230389,
              4022830
             ],
             "source_cohorts": [
              1,
              2
             ]
            }
           ],
           "concept_code": "359752005",
           "concept_id": 4230389,
           "concept_name": "Energy and stamina finding",
           "metrics": {
            "1": {
             "count": 1047,
             "prevalence": 0.22191606612971598
            },
            "2": {
             "count": 2070,
             "prevalence": 0.24196376388077148
            }
           },
           "parent_ids": [
            4221108,
            432455,
            4272867
           ],
           "source_cohorts": [
            1,
            2
           ]
          }
         ],
         "concept_code": "82832008",
         "concept_id": 4221108,
         "concept_name": "General body state finding",
         "metrics": {
          "1": {
           "count": 2514,
           "prevalence": 0.532852903772785
          },
          "2": {
           "count": 5107,
           "prevalence": 0.5969608416130917
          }
         },
         "parent_ids": [
          4041283
         ],
         "source_cohorts": [
          1,
          2
         ]
        },
        {
         "children": [
          {
           "children": [
            {
             "children": [
              {
               "children": [],
               "concept_code": "386661006",
               "concept_id": 437663,
               "concept_name": "Fever",
               "metrics": {
                "1": {
                 "count": 2421,
                 "prevalence": 0.513141161509114
                },
                "2": {
                 "count": 4917,
                 "prevalence": 0.5747516072472239
                }
               },
               "parent_ids": [
                4178904
               ],
               "source_cohorts": [
                1,
                2
               ]
              }
             ],
             "concept_code": "50177009",
             "concept_id": 4178904,
             "concept_name": "Body temperature above reference range",
             "metrics": {
              "1": {
               "count": 2421,
               "prevalence": 0.513141161509114
              },
              "2": {
               "count": 4917,
               "prevalence": 0.5747516072472239
              }
             },
             "parent_ids": [
              4047791
             ],
             "source_cohorts": [
              1,
              2
             ]
            }
           ],
           "concept_code": "123979008",
           "concept_id": 4047791,
           "concept_name": "Abnormal body temperature",
           "metrics": {
            "1": {
             "count": 2421,
             "prevalence": 0.513141161509114
            },
            "2": {
             "count": 4917,
             "prevalence": 0.5747516072472239
            }
           },
           "parent_ids": [
            4022230
           ],
           "source_cohorts": [
            1,
            2
           ]
          }
         ],
         "concept_code": "105723007",
         "concept_id": 4022230,
         "concept_name": "Body temperature finding",
         "metrics": {
          "1": {
           "count": 2421,
           "prevalence": 0.513141161509114
          },
          "2": {
           "count": 4917,
           "prevalence": 0.5747516072472239
          }
         },
         "parent_ids": [
          4103474,
          4042138
         ],
         "source_cohorts": [
          1,
          2
         ]
        },
        {
         "children": [],
         "concept_code": "84229001",
         "concept_id": 4223659,
         "concept_name": "Fatigue",
         "metrics": {
          "1": {
           "count": 1047,
           "prevalence": 0.22191606612971598
          },
          "2": {
           "count": 2070,
           "prevalence": 0.24196376388077148
          }
         },
         "parent_ids": [
          4230389,
          4022830
         ],
         "source_cohorts": [
          1,
          2
         ]
        },
        {
         "children": [
          {
           "children": [],
           "concept_code": "84229001",
           "concept_id": 4223659,
           "concept_name": "Fatigue",
           "metrics": {
            "1": {
             "count": 1047,
             "prevalence": 0.22191606612971598
            },
            "2": {
             "count": 2070,
             "prevalence": 0.24196376388077148
            }
           },
           "parent_ids": [
            4230389,
            4022830
           ],
           "source_cohorts": [
            1,
            2
           ]
          }
         ],
         "concept_code": "359752005",
         "concept_id": 4230389,
         "concept_name": "Energy and stamina finding",
         "metrics": {
          "1": {
           "count": 1047,
           "prevalence": 0.22191606612971598
          },
          "2": {
           "count": 2070,
           "prevalence": 0.24196376388077148
          }
         },
         "parent_ids": [
          4221108,
          432455,
          4272867
         ],
         "source_cohorts": [
          1,
          2
         ]
        },
        {
         "children": [
          {
           "children": [
            {
             "children": [],
             "concept_code": "36955009",
             "concept_id": 4289517,
             "concept_name": "Loss of taste",
             "metrics": {
              "1": {
               "count": 1396,
               "prevalence": 0.29588808817295464
              },
              "2": {
               "count": 2808,
               "prevalence": 0.32822910578609
              }
             },
             "parent_ids": [
              44783587,
              4022570,
              4296465
             ],
             "source_cohorts": [
              1,
              2
             ]
            },
            {
             "children": [
              {
               "children": [
                {
                 "children": [
                  {
                   "children": [
                    {
                     "children": [],
                     "concept_code": "95417003",
                     "concept_id": 4316217,
                     "concept_name": "Primary fibromyalgia syndrome",
                     "metrics": {
                      "1": {
                       "count": 6,
                       "prevalence": 0.001271725307333616
                      },
                      "2": {
                       "count": 22,
                       "prevalence": 0.002571595558153127
                      }
                     },
                     "parent_ids": [
                      42538688,
                      40405599,
                      4134133,
                      442315
                     ],
                     "source_cohorts": [
                      1,
                      2
                     ]
                    }
                   ],
                   "concept_code": "56557000",
                   "concept_id": 442315,
                   "concept_name": "Fibrositis",
                   "metrics": {
                    "1": {
                     "count": 6,
                     "prevalence": 0.001271725307333616
                    },
                    "2": {
                     "count": 22,
                     "prevalence": 0.002571595558153127
                    }
                   },
                   "parent_ids": [
                    442752,
                    4160062,
                    72618
                   ],
                   "source_cohorts": [
                    1,
                    2
                   ]
                  }
                 ],
                 "concept_code": "68962001",
                 "concept_id": 442752,
                 "concept_name": "Muscle pain",
                 "metrics": {
                  "1": {
                   "count": 434,
                   "prevalence": 0.09198813056379822
                  },
                  "2": {
                   "count": 872,
                   "prevalence": 0.10192869666861484
                  }
                 },
                 "parent_ids": [
                  4184117,
                  4150129
                 ],
                 "source_cohorts": [
                  1,
                  2
                 ]
                },
                {
                 "children": [],
                 "concept_code": "57676002",
                 "concept_id": 77074,
                 "concept_name": "Joint pain",
                 "metrics": {
                  "1": {
                   "count": 428,
                   "prevalence": 0.0907164052564646
                  },
                  "2": {
                   "count": 852,
                   "prevalence": 0.09959088252483927
                  }
                 },
                 "parent_ids": [
                  4150129,
                  4179167
                 ],
                 "source_cohorts": [
                  1,
                  2
                 ]
                },
                {
                 "children": [
                  {
                   "children": [],
                   "concept_code": "95417003",
                   "concept_id": 4316217,
                   "concept_name": "Primary fibromyalgia syndrome",
                   "metrics": {
                    "1": {
                     "count": 6,
                     "prevalence": 0.001271725307333616
                    },
                    "2": {
                     "count": 22,
                     "prevalence": 0.002571595558153127
                    }
                   },
                   "parent_ids": [
                    42538688,
                    40405599,
                    4134133,
                    442315
                   ],
                   "source_cohorts": [
                    1,
                    2
                   ]
                  }
                 ],
                 "concept_code": "762452003",
                 "concept_id": 42538688,
                 "concept_name": "Chronic musculoskeletal pain",
                 "metrics": {
                  "1": {
                   "count": 6,
                   "prevalence": 0.001271725307333616
                  },
                  "2": {
                   "count": 22,
                   "prevalence": 0.002571595558153127
                  }
                 },
                 "parent_ids": [
                  4150129,
                  436096
                 ],
                 "source_cohorts": [
                  1,
                  2
                 ]
                }
               ],
               "concept_code": "279069000",
               "concept_id": 4150129,
               "concept_name": "Musculoskeletal pain",
               "metrics": {
                "1": {
                 "count": 434,
                 "prevalence": 0.09198813056379822
                },
                "2": {
                 "count": 872,
                 "prevalence": 0.10192869666861484
                }
               },
               "parent_ids": [
                135930,
                4132926
               ],
               "source_cohorts": [
                1,
                2
               ]
              },
              {
               "children": [
                {
                 "children": [
                  {
                   "children": [
                    {
                     "children": [],
                     "concept_code": "267102003",
                     "concept_id": 4147326,
                     "concept_name": "Sore throat symptom",
                     "metrics": {
                      "1": {
                       "count": 385,
                       "prevalence": 0.08160237388724036
                      },
                      "2": {
                       "count": 763,
                       "prevalence": 0.08918760958503799
                      }
                     },
                     "parent_ids": [
                      4303401,
                      4115406,
                      4114487,
                      4116809,
                      259153
                     ],
                     "source_cohorts": [
                      1,
                      2
                     ]
                    }
                   ],
                   "concept_code": "162397003",
                   "concept_id": 259153,
                   "concept_name": "Pain in throat",
                   "metrics": {
                    "1": {
                     "count": 385,
                     "prevalence": 0.08160237388724036
                    },
                    "2": {
                     "count": 763,
                     "prevalence": 0.08918760958503799
                    }
                   },
                   "parent_ids": [
                    4116810
                   ],
                   "source_cohorts": [
                    1,
                    2
                   ]
                  }
                 ],
                 "concept_code": "301365009",
                 "concept_id": 4116810,
                 "concept_name": "Pain of head and neck region",
                 "metrics": {
                  "1": {
                   "count": 385,
                   "prevalence": 0.08160237388724036
                  },
                  "2": {
                   "count": 763,
                   "prevalence": 0.08918760958503799
                  }
                 },
                 "parent_ids": [
                  4247371,
                  24134
                 ],
                 "source_cohorts": [
                  1,
                  2
                 ]
                }
               ],
               "concept_code": "81680005",
               "concept_id": 24134,
               "concept_name": "Neck pain",
               "metrics": {
                "1": {
                 "count": 385,
                 "prevalence": 0.08160237388724036
                },
                "2": {
                 "count": 763,
                 "prevalence": 0.08918760958503799
                }
               },
               "parent_ids": [
                4132926,
                4184252
               ],
               "source_cohorts": [
                1,
                2
               ]
              },
              {
               "children": [
                {
                 "children": [],
                 "concept_code": "267102003",
                 "concept_id": 4147326,
                 "concept_name": "Sore throat symptom",
                 "metrics": {
                  "1": {
                   "count": 385,
                   "prevalence": 0.08160237388724036
                  },
                  "2": {
                   "count": 763,
                   "prevalence": 0.08918760958503799
                  }
                 },
                 "parent_ids": [
                  4303401,
                  4115406,
                  4114487,
                  4116809,
                  259153
                 ],
                 "source_cohorts": [
                  1,
                  2
                 ]
                }
               ],
               "concept_code": "301355003",
               "concept_id": 4115406,
               "concept_name": "Pain of respiratory structure",
               "metrics": {
                "1": {
                 "count": 385,
                 "prevalence": 0.08160237388724036
                },
                "2": {
                 "count": 763,
                 "prevalence": 0.08918760958503799
                }
               },
               "parent_ids": [
                4024567,
                4132926
               ],
               "source_cohorts": [
                1,
                2
               ]
              },
              {
               "children": [
                {
                 "children": [],
                 "concept_code": "267102003",
                 "concept_id": 4147326,
                 "concept_name": "Sore throat symptom",
                 "metrics": {
                  "1": {
                   "count": 385,
                   "prevalence": 0.08160237388724036
                  },
                  "2": {
                   "count": 763,
                   "prevalence": 0.08918760958503799
                  }
                 },
                 "parent_ids": [
                  4303401,
                  4115406,
                  4114487,
                  4116809,
                  259153
                 ],
                 "source_cohorts": [
                  1,
                  2
                 ]
                }
               ],
               "concept_code": "301362007",
               "concept_id": 4116809,
               "concept_name": "Pain of digestive structure",
               "metrics": {
                "1": {
                 "count": 385,
                 "prevalence": 0.08160237388724036
                },
                "2": {
                 "count": 763,
                 "prevalence": 0.08918760958503799
                }
               },
               "parent_ids": [
                4302537,
                4132926
               ],
               "source_cohorts": [
                1,
                2
               ]
              },
              {
               "children": [],
               "concept_code": "25064002",
               "concept_id": 378253,
               "concept_name": "Headache",
               "metrics": {
                "1": {
                 "count": 374,
                 "prevalence": 0.07927087749046206
                },
                "2": {
                 "count": 771,
                 "prevalence": 0.09012273524254821
                }
               },
               "parent_ids": [
                4247371,
                4132926
               ],
               "source_cohorts": [
                1,
                2
               ]
              },
              {
               "children": [
                {
                 "children": [
                  {
                   "children": [
                    {
                     "children": [
                      {
                       "children": [
                        {
                         "children": [],
                         "concept_code": "124171000119105",
                         "concept_id": 43530652,
                         "concept_name": "Chronic intractable migraine without aura",
                         "metrics": {
                          "1": {
                           "count": 135,
                           "prevalence": 0.028613819415006358
                          },
                          "2": {
                           "count": 256,
                           "prevalence": 0.029924021040327296
                          }
                         },
                         "parent_ids": [
                          443616,
                          4141827,
                          4301371
                         ],
                         "source_cohorts": [
                          1,
                          2
                         ]
                        }
                       ],
                       "concept_code": "423279000",
                       "concept_id": 443616,
                       "concept_name": "Refractory migraine without aura",
                       "metrics": {
                        "1": {
                         "count": 135,
                         "prevalence": 0.028613819415006358
                        },
                        "2": {
                         "count": 256,
                         "prevalence": 0.029924021040327296
                        }
                       },
                       "parent_ids": [
                        378735,
                        443615
                       ],
                       "source_cohorts": [
                        1,
                        2
                       ]
                      }
                     ],
                     "concept_code": "423894005",
                     "concept_id": 443615,
                     "concept_name": "Refractory migraine",
                     "metrics": {
                      "1": {
                       "count": 135,
                       "prevalence": 0.028613819415006358
                      },
                      "2": {
                       "count": 256,
                       "prevalence": 0.029924021040327296
                      }
                     },
                     "parent_ids": [
                      318736
                     ],
                     "source_cohorts": [
                      1,
                      2
                     ]
                    },
                    {
                     "children": [
                      {
                       "children": [],
                       "concept_code": "124171000119105",
                       "concept_id": 43530652,
                       "concept_name": "Chronic intractable migraine without aura",
                       "metrics": {
                        "1": {
                         "count": 135,
                         "prevalence": 0.028613819415006358
                        },
                        "2": {
                         "count": 256,
                         "prevalence": 0.029924021040327296
                        }
                       },
                       "parent_ids": [
                        443616,
                        4141827,
                        4301371
                       ],
                       "source_cohorts": [
                        1,
                        2
                       ]
                      }
                     ],
                     "concept_code": "427419006",
                     "concept_id": 4141827,
                     "concept_name": "Transformed migraine",
                     "metrics": {
                      "1": {
                       "count": 135,
                       "prevalence": 0.028613819415006358
                      },
                      "2": {
                       "count": 256,
                       "prevalence": 0.029924021040327296
                      }
                     },
                     "parent_ids": [
                      4028244,
                      318736,
                      374639
                     ],
                     "source_cohorts": [
                      1,
                      2
                     ]
                    },
                    {
                     "children": [
                      {
                       "children": [
                        {
                         "children": [],
                         "concept_code": "124171000119105",
                         "concept_id": 43530652,
                         "concept_name": "Chronic intractable migraine without aura",
                         "metrics": {
                          "1": {
                           "count": 135,
                           "prevalence": 0.028613819415006358
                          },
                          "2": {
                           "count": 256,
                           "prevalence": 0.029924021040327296
                          }
                         },
                         "parent_ids": [
                          443616,
                          4141827,
                          4301371
                         ],
                         "source_cohorts": [
                          1,
                          2
                         ]
                        }
                       ],
                       "concept_code": "423279000",
                       "concept_id": 443616,
                       "concept_name": "Refractory migraine without aura",
                       "metrics": {
                        "1": {
                         "count": 135,
                         "prevalence": 0.028613819415006358
                        },
                        "2": {
                         "count": 256,
                         "prevalence": 0.029924021040327296
                        }
                       },
                       "parent_ids": [
                        378735,
                        443615
                       ],
                       "source_cohorts": [
                        1,
                        2
                       ]
                      }
                     ],
                     "concept_code": "56097005",
                     "concept_id": 378735,
                     "concept_name": "Migraine without aura",
                     "metrics": {
                      "1": {
                       "count": 135,
                       "prevalence": 0.028613819415006358
                      },
                      "2": {
                       "count": 256,
                       "prevalence": 0.029924021040327296
                      }
                     },
                     "parent_ids": [
                      372887,
                      318736
                     ],
                     "source_cohorts": [
                      1,
                      2
                     ]
                    }
                   ],
                   "concept_code": "37796009",
                   "concept_id": 318736,
                   "concept_name": "Migraine",
                   "metrics": {
                    "1": {
                     "count": 135,
                     "prevalence": 0.028613819415006358
                    },
                    "2": {
                     "count": 256,
                     "prevalence": 0.029924021040327296
                    }
                   },
                   "parent_ids": [
                    4134454
                   ],
                   "source_cohorts": [
                    1,
                    2
                   ]
                  }
                 ],
                 "concept_code": "128187005",
                 "concept_id": 4134454,
                 "concept_name": "Vascular headache",
                 "metrics": {
                  "1": {
                   "count": 135,
                   "prevalence": 0.028613819415006358
                  },
                  "2": {
                   "count": 256,
                   "prevalence": 0.029924021040327296
                  }
                 },
                 "parent_ids": [
                  443784,
                  375527,
                  4115408
                 ],
                 "source_cohorts": [
                  1,
                  2
                 ]
                }
               ],
               "concept_code": "301358001",
               "concept_id": 4115408,
               "concept_name": "Pain of cardiovascular structure",
               "metrics": {
                "1": {
                 "count": 135,
                 "prevalence": 0.028613819415006358
                },
                "2": {
                 "count": 256,
                 "prevalence": 0.029924021040327296
                }
               },
               "parent_ids": [
                4023995,
                4132926
               ],
               "source_cohorts": [
                1,
                2
               ]
              },
              {
               "children": [
                {
                 "children": [
                  {
                   "children": [
                    {
                     "children": [],
                     "concept_code": "124171000119105",
                     "concept_id": 43530652,
                     "concept_name": "Chronic intractable migraine without aura",
                     "metrics": {
                      "1": {
                       "count": 135,
                       "prevalence": 0.028613819415006358
                      },
                      "2": {
                       "count": 256,
                       "prevalence": 0.029924021040327296
                      }
                     },
                     "parent_ids": [
                      443616,
                      4141827,
                      4301371
                     ],
                     "source_cohorts": [
                      1,
                      2
                     ]
                    }
                   ],
                   "concept_code": "427419006",
                   "concept_id": 4141827,
                   "concept_name": "Transformed migraine",
                   "metrics": {
                    "1": {
                     "count": 135,
                     "prevalence": 0.028613819415006358
                    },
                    "2": {
                     "count": 256,
                     "prevalence": 0.029924021040327296
                    }
                   },
                   "parent_ids": [
                    4028244,
                    318736,
                    374639
                   ],
                   "source_cohorts": [
                    1,
                    2
                   ]
                  }
                 ],
                 "concept_code": "431237007",
                 "concept_id": 374639,
                 "concept_name": "Chronic headache disorder",
                 "metrics": {
                  "1": {
                   "count": 135,
                   "prevalence": 0.028613819415006358
                  },
                  "2": {
                   "count": 256,
                   "prevalence": 0.029924021040327296
                  }
                 },
                 "parent_ids": [
                  443783,
                  436096,
                  375527
                 ],
                 "source_cohorts": [
                  1,
                  2
                 ]
                },
                {
                 "children": [
                  {
                   "children": [
                    {
                     "children": [
                      {
                       "children": [
                        {
                         "children": [],
                         "concept_code": "124171000119105",
                         "concept_id": 43530652,
                         "concept_name": "Chronic intractable migraine without aura",
                         "metrics": {
                          "1": {
                           "count": 135,
                           "prevalence": 0.028613819415006358
                          },
                          "2": {
                           "count": 256,
                           "prevalence": 0.029924021040327296
                          }
                         },
                         "parent_ids": [
                          443616,
                          4141827,
                          4301371
                         ],
                         "source_cohorts": [
                          1,
                          2
                         ]
                        }
                       ],
                       "concept_code": "423279000",
                       "concept_id": 443616,
                       "concept_name": "Refractory migraine without aura",
                       "metrics": {
                        "1": {
                         "count": 135,
                         "prevalence": 0.028613819415006358
                        },
                        "2": {
                         "count": 256,
                         "prevalence": 0.029924021040327296
                        }
                       },
                       "parent_ids": [
                        378735,
                        443615
                       ],
                       "source_cohorts": [
                        1,
                        2
                       ]
                      }
                     ],
                     "concept_code": "423894005",
                     "concept_id": 443615,
                     "concept_name": "Refractory migraine",
                     "metrics": {
                      "1": {
                       "count": 135,
                       "prevalence": 0.028613819415006358
                      },
                      "2": {
                       "count": 256,
                       "prevalence": 0.029924021040327296
                      }
                     },
                     "parent_ids": [
                      318736
                     ],
                     "source_cohorts": [
                      1,
                      2
                     ]
                    },
                    {
                     "children": [
                      {
                       "children": [],
                       "concept_code": "124171000119105",
                       "concept_id": 43530652,
                       "concept_name": "Chronic intractable migraine without aura",
                       "metrics": {
                        "1": {
                         "count": 135,
                         "prevalence": 0.028613819415006358
                        },
                        "2": {
                         "count": 256,
                         "prevalence": 0.029924021040327296
                        }
                       },
                       "parent_ids": [
                        443616,
                        4141827,
                        4301371
                       ],
                       "source_cohorts": [
                        1,
                        2
                       ]
                      }
                     ],
                     "concept_code": "427419006",
                     "concept_id": 4141827,
                     "concept_name": "Transformed migraine",
                     "metrics": {
                      "1": {
                       "count": 135,
                       "prevalence": 0.028613819415006358
                      },
                      "2": {
                       "count": 256,
                       "prevalence": 0.029924021040327296
                      }
                     },
                     "parent_ids": [
                      4028244,
                      318736,
                      374639
                     ],
                     "source_cohorts": [
                      1,
                      2
                     ]
                    },
                    {
                     "children": [
                      {
                       "children": [
                        {
                         "children": [],
                         "concept_code": "124171000119105",
                         "concept_id": 43530652,
                         "concept_name": "Chronic intractable migraine without aura",
                         "metrics": {
                          "1": {
                           "count": 135,
                           "prevalence": 0.028613819415006358
                          },
                          "2": {
                           "count": 256,
                           "prevalence": 0.029924021040327296
                          }
                         },
                         "parent_ids": [
                          443616,
                          4141827,
                          4301371
                         ],
                         "source_cohorts": [
                          1,
                          2
                         ]
                        }
                       ],
                       "concept_code": "423279000",
                       "concept_id": 443616,
                       "concept_name": "Refractory migraine without aura",
                       "metrics": {
                        "1": {
                         "count": 135,
                         "prevalence": 0.028613819415006358
                        },
                        "2": {
                         "count": 256,
                         "prevalence": 0.029924021040327296
                        }
                       },
                       "parent_ids": [
                        378735,
                        443615
                       ],
                       "source_cohorts": [
                        1,
                        2
                       ]
                      }
                     ],
                     "concept_code": "56097005",
                     "concept_id": 378735,
                     "concept_name": "Migraine without aura",
                     "metrics": {
                      "1": {
                       "count": 135,
                       "prevalence": 0.028613819415006358
                      },
                      "2": {
                       "count": 256,
                       "prevalence": 0.029924021040327296
                      }
                     },
                     "parent_ids": [
                      372887,
                      318736
                     ],
                     "source_cohorts": [
                      1,
                      2
                     ]
                    }
                   ],
                   "concept_code": "37796009",
                   "concept_id": 318736,
                   "concept_name": "Migraine",
                   "metrics": {
                    "1": {
                     "count": 135,
                     "prevalence": 0.028613819415006358
                    },
                    "2": {
                     "count": 256,
                     "prevalence": 0.029924021040327296
                    }
                   },
                   "parent_ids": [
                    4134454
                   ],
                   "source_cohorts": [
                    1,
                    2
                   ]
                  }
                 ],
                 "concept_code": "128187005",
                 "concept_id": 4134454,
                 "concept_name": "Vascular headache",
                 "metrics": {
                  "1": {
                   "count": 135,
                   "prevalence": 0.028613819415006358
                  },
                  "2": {
                   "count": 256,
                   "prevalence": 0.029924021040327296
                  }
                 },
                 "parent_ids": [
                  443784,
                  375527,
                  4115408
                 ],
                 "source_cohorts": [
                  1,
                  2
                 ]
                }
               ],
               "concept_code": "230461009",
               "concept_id": 375527,
               "concept_name": "Headache disorder",
               "metrics": {
                "1": {
                 "count": 135,
                 "prevalence": 0.028613819415006358
                },
                "2": {
                 "count": 256,
                 "prevalence": 0.029924021040327296
                }
               },
               "parent_ids": [
                4042836,
                4132926,
                4160062
               ],
               "source_cohorts": [
                1,
                2
               ]
              },
              {
               "children": [
                {
                 "children": [],
                 "concept_code": "95417003",
                 "concept_id": 4316217,
                 "concept_name": "Primary fibromyalgia syndrome",
                 "metrics": {
                  "1": {
                   "count": 6,
                   "prevalence": 0.001271725307333616
                  },
                  "2": {
                   "count": 22,
                   "prevalence": 0.002571595558153127
                  }
                 },
                 "parent_ids": [
                  42538688,
                  40405599,
                  4134133,
                  442315
                 ],
                 "source_cohorts": [
                  1,
                  2
                 ]
                }
               ],
               "concept_code": "203082005",
               "concept_id": 40405599,
               "concept_name": "Fibromyalgia",
               "metrics": {
                "1": {
                 "count": 6,
                 "prevalence": 0.001271725307333616
                },
                "2": {
                 "count": 22,
                 "prevalence": 0.002571595558153127
                }
               },
               "parent_ids": [
                443783,
                4132926,
                436096,
                4160062,
                137275
               ],
               "source_cohorts": [
                1,
                2
               ]
              }
             ],
             "concept_code": "279001004",
             "concept_id": 4132926,
             "concept_name": "Pain finding at anatomical site",
             "metrics": {
              "1": {
               "count": 1140,
               "prevalence": 0.24162780839338702
              },
              "2": {
               "count": 2277,
               "prevalence": 0.2661601402688486
              }
             },
             "parent_ids": [
              44783587,
              4329041
             ],
             "source_cohorts": [
              1,
              2
             ]
            },
            {
             "children": [
              {
               "children": [
                {
                 "children": [
                  {
                   "children": [],
                   "concept_code": "95417003",
                   "concept_id": 4316217,
                   "concept_name": "Primary fibromyalgia syndrome",
                   "metrics": {
                    "1": {
                     "count": 6,
                     "prevalence": 0.001271725307333616
                    },
                    "2": {
                     "count": 22,
                     "prevalence": 0.002571595558153127
                    }
                   },
                   "parent_ids": [
                    42538688,
                    40405599,
                    4134133,
                    442315
                   ],
                   "source_cohorts": [
                    1,
                    2
                   ]
                  }
                 ],
                 "concept_code": "56557000",
                 "concept_id": 442315,
                 "concept_name": "Fibrositis",
                 "metrics": {
                  "1": {
                   "count": 6,
                   "prevalence": 0.001271725307333616
                  },
                  "2": {
                   "count": 22,
                   "prevalence": 0.002571595558153127
                  }
                 },
                 "parent_ids": [
                  442752,
                  4160062,
                  72618
                 ],
                 "source_cohorts": [
                  1,
                  2
                 ]
                }
               ],
               "concept_code": "68962001",
               "concept_id": 442752,
               "concept_name": "Muscle pain",
               "metrics": {
                "1": {
                 "count": 434,
                 "prevalence": 0.09198813056379822
                },
                "2": {
                 "count": 872,
                 "prevalence": 0.10192869666861484
                }
               },
               "parent_ids": [
                4184117,
                4150129
               ],
               "source_cohorts": [
                1,
                2
               ]
              }
             ],
             "concept_code": "298287007",
             "concept_id": 4184117,
             "concept_name": "Finding of sensation of skeletal muscle",
             "metrics": {
              "1": {
               "count": 434,
               "prevalence": 0.09198813056379822
              },
              "2": {
               "count": 872,
               "prevalence": 0.10192869666861484
              }
             },
             "parent_ids": [
              44783587,
              4093991,
              135930,
              4024566
             ],
             "source_cohorts": [
              1,
              2
             ]
            },
            {
             "children": [
              {
               "children": [],
               "concept_code": "57676002",
               "concept_id": 77074,
               "concept_name": "Joint pain",
               "metrics": {
                "1": {
                 "count": 428,
                 "prevalence": 0.0907164052564646
                },
                "2": {
                 "count": 852,
                 "prevalence": 0.09959088252483927
                }
               },
               "parent_ids": [
                4150129,
                4179167
               ],
               "source_cohorts": [
                1,
                2
               ]
              }
             ],
             "concept_code": "298249004",
             "concept_id": 4179167,
             "concept_name": "Finding of sensation of joint",
             "metrics": {
              "1": {
               "count": 428,
               "prevalence": 0.0907164052564646
              },
              "2": {
               "count": 852,
               "prevalence": 0.09959088252483927
              }
             },
             "parent_ids": [
              44783587,
              77960
             ],
             "source_cohorts": [
              1,
              2
             ]
            },
            {
             "children": [
              {
               "children": [],
               "concept_code": "267102003",
               "concept_id": 4147326,
               "concept_name": "Sore throat symptom",
               "metrics": {
                "1": {
                 "count": 385,
                 "prevalence": 0.08160237388724036
                },
                "2": {
                 "count": 763,
                 "prevalence": 0.08918760958503799
                }
               },
               "parent_ids": [
                4303401,
                4115406,
                4114487,
                4116809,
                259153
               ],
               "source_cohorts": [
                1,
                2
               ]
              }
             ],
             "concept_code": "300275004",
             "concept_id": 4114487,
             "concept_name": "Finding of sensation of pharynx",
             "metrics": {
              "1": {
               "count": 385,
               "prevalence": 0.08160237388724036
              },
              "2": {
               "count": 763,
               "prevalence": 0.08918760958503799
              }
             },
             "parent_ids": [
              44783587,
              4022571
             ],
             "source_cohorts": [
              1,
              2
             ]
            }
           ],
           "concept_code": "699697007",
           "concept_id": 44783587,
           "concept_name": "Finding of sensation by site",
           "metrics": {
            "1": {
             "count": 1951,
             "prevalence": 0.41352267910131413
            },
            "2": {
             "count": 3964,
             "prevalence": 0.4633547632963179
            }
           },
           "parent_ids": [
            4042140,
            4024013
           ],
           "source_cohorts": [
            1,
            2
           ]
          },
          {
           "children": [
            {
             "children": [],
             "concept_code": "36955009",
             "concept_id": 4289517,
             "concept_name": "Loss of taste",
             "metrics": {
              "1": {
               "count": 1396,
               "prevalence": 0.29588808817295464
              },
              "2": {
               "count": 2808,
               "prevalence": 0.32822910578609
              }
             },
             "parent_ids": [
              44783587,
              4022570,
              4296465
             ],
             "source_cohorts": [
              1,
              2
             ]
            }
           ],
           "concept_code": "76489005",
           "concept_id": 4296465,
           "concept_name": "Finding of sense of taste",
           "metrics": {
            "1": {
             "count": 1396,
             "prevalence": 0.29588808817295464
            },
            "2": {
             "count": 2808,
             "prevalence": 0.32822910578609
            }
           },
           "parent_ids": [
            4024013
           ],
           "source_cohorts": [
            1,
            2
           ]
          },
          {
           "children": [
            {
             "children": [
              {
               "children": [
                {
                 "children": [
                  {
                   "children": [
                    {
                     "children": [
                      {
                       "children": [],
                       "concept_code": "95417003",
                       "concept_id": 4316217,
                       "concept_name": "Primary fibromyalgia syndrome",
                       "metrics": {
                        "1": {
                         "count": 6,
                         "prevalence": 0.001271725307333616
                        },
                        "2": {
                         "count": 22,
                         "prevalence": 0.002571595558153127
                        }
                       },
                       "parent_ids": [
                        42538688,
                        40405599,
                        4134133,
                        442315
                       ],
                       "source_cohorts": [
                        1,
                        2
                       ]
                      }
                     ],
                     "concept_code": "56557000",
                     "concept_id": 442315,
                     "concept_name": "Fibrositis",
                     "metrics": {
                      "1": {
                       "count": 6,
                       "prevalence": 0.001271725307333616
                      },
                      "2": {
                       "count": 22,
                       "prevalence": 0.002571595558153127
                      }
                     },
                     "parent_ids": [
                      442752,
                      4160062,
                      72618
                     ],
                     "source_cohorts": [
                      1,
                      2
                     ]
                    }
                   ],
                   "concept_code": "68962001",
                   "concept_id": 442752,
                   "concept_name": "Muscle pain",
                   "metrics": {
                    "1": {
                     "count": 434,
                     "prevalence": 0.09198813056379822
                    },
                    "2": {
                     "count": 872,
                     "prevalence": 0.10192869666861484
                    }
                   },
                   "parent_ids": [
                    4184117,
                    4150129
                   ],
                   "source_cohorts": [
                    1,
                    2
                   ]
                  },
                  {
                   "children": [],
                   "concept_code": "57676002",
                   "concept_id": 77074,
                   "concept_name": "Joint pain",
                   "metrics": {
                    "1": {
                     "count": 428,
                     "prevalence": 0.0907164052564646
                    },
                    "2": {
                     "count": 852,
                     "prevalence": 0.09959088252483927
                    }
                   },
                   "parent_ids": [
                    4150129,
                    4179167
                   ],
                   "source_cohorts": [
                    1,
                    2
                   ]
                  },
                  {
                   "children": [
                    {
                     "children": [],
                     "concept_code": "95417003",
                     "concept_id": 4316217,
                     "concept_name": "Primary fibromyalgia syndrome",
                     "metrics": {
                      "1": {
                       "count": 6,
                       "prevalence": 0.001271725307333616
                      },
                      "2": {
                       "count": 22,
                       "prevalence": 0.002571595558153127
                      }
                     },
                     "parent_ids": [
                      42538688,
                      40405599,
                      4134133,
                      442315
                     ],
                     "source_cohorts": [
                      1,
                      2
                     ]
                    }
                   ],
                   "concept_code": "762452003",
                   "concept_id": 42538688,
                   "concept_name": "Chronic musculoskeletal pain",
                   "metrics": {
                    "1": {
                     "count": 6,
                     "prevalence": 0.001271725307333616
                    },
                    "2": {
                     "count": 22,
                     "prevalence": 0.002571595558153127
                    }
                   },
                   "parent_ids": [
                    4150129,
                    436096
                   ],
                   "source_cohorts": [
                    1,
                    2
                   ]
                  }
                 ],
                 "concept_code": "279069000",
                 "concept_id": 4150129,
                 "concept_name": "Musculoskeletal pain",
                 "metrics": {
                  "1": {
                   "count": 434,
                   "prevalence": 0.09198813056379822
                  },
                  "2": {
                   "count": 872,
                   "prevalence": 0.10192869666861484
                  }
                 },
                 "parent_ids": [
                  135930,
                  4132926
                 ],
                 "source_cohorts": [
                  1,
                  2
                 ]
                },
                {
                 "children": [
                  {
                   "children": [
                    {
                     "children": [
                      {
                       "children": [],
                       "concept_code": "267102003",
                       "concept_id": 4147326,
                       "concept_name": "Sore throat symptom",
                       "metrics": {
                        "1": {
                         "count": 385,
                         "prevalence": 0.08160237388724036
                        },
                        "2": {
                         "count": 763,
                         "prevalence": 0.08918760958503799
                        }
                       },
                       "parent_ids": [
                        4303401,
                        4115406,
                        4114487,
                        4116809,
                        259153
                       ],
                       "source_cohorts": [
                        1,
                        2
                       ]
                      }
                     ],
                     "concept_code": "162397003",
                     "concept_id": 259153,
                     "concept_name": "Pain in throat",
                     "metrics": {
                      "1": {
                       "count": 385,
                       "prevalence": 0.08160237388724036
                      },
                      "2": {
                       "count": 763,
                       "prevalence": 0.08918760958503799
                      }
                     },
                     "parent_ids": [
                      4116810
                     ],
                     "source_cohorts": [
                      1,
                      2
                     ]
                    }
                   ],
                   "concept_code": "301365009",
                   "concept_id": 4116810,
                   "concept_name": "Pain of head and neck region",
                   "metrics": {
                    "1": {
                     "count": 385,
                     "prevalence": 0.08160237388724036
                    },
                    "2": {
                     "count": 763,
                     "prevalence": 0.08918760958503799
                    }
                   },
                   "parent_ids": [
                    4247371,
                    24134
                   ],
                   "source_cohorts": [
                    1,
                    2
                   ]
                  }
                 ],
                 "concept_code": "81680005",
                 "concept_id": 24134,
                 "concept_name": "Neck pain",
                 "metrics": {
                  "1": {
                   "count": 385,
                   "prevalence": 0.08160237388724036
                  },
                  "2": {
                   "count": 763,
                   "prevalence": 0.08918760958503799
                  }
                 },
                 "parent_ids": [
                  4132926,
                  4184252
                 ],
                 "source_cohorts": [
                  1,
                  2
                 ]
                },
                {
                 "children": [
                  {
                   "children": [],
                   "concept_code": "267102003",
                   "concept_id": 4147326,
                   "concept_name": "Sore throat symptom",
                   "metrics": {
                    "1": {
                     "count": 385,
                     "prevalence": 0.08160237388724036
                    },
                    "2": {
                     "count": 763,
                     "prevalence": 0.08918760958503799
                    }
                   },
                   "parent_ids": [
                    4303401,
                    4115406,
                    4114487,
                    4116809,
                    259153
                   ],
                   "source_cohorts": [
                    1,
                    2
                   ]
                  }
                 ],
                 "concept_code": "301355003",
                 "concept_id": 4115406,
                 "concept_name": "Pain of respiratory structure",
                 "metrics": {
                  "1": {
                   "count": 385,
                   "prevalence": 0.08160237388724036
                  },
                  "2": {
                   "count": 763,
                   "prevalence": 0.08918760958503799
                  }
                 },
                 "parent_ids": [
                  4024567,
                  4132926
                 ],
                 "source_cohorts": [
                  1,
                  2
                 ]
                },
                {
                 "children": [
                  {
                   "children": [],
                   "concept_code": "267102003",
                   "concept_id": 4147326,
                   "concept_name": "Sore throat symptom",
                   "metrics": {
                    "1": {
                     "count": 385,
                     "prevalence": 0.08160237388724036
                    },
                    "2": {
                     "count": 763,
                     "prevalence": 0.08918760958503799
                    }
                   },
                   "parent_ids": [
                    4303401,
                    4115406,
                    4114487,
                    4116809,
                    259153
                   ],
                   "source_cohorts": [
                    1,
                    2
                   ]
                  }
                 ],
                 "concept_code": "301362007",
                 "concept_id": 4116809,
                 "concept_name": "Pain of digestive structure",
                 "metrics": {
                  "1": {
                   "count": 385,
                   "prevalence": 0.08160237388724036
                  },
                  "2": {
                   "count": 763,
                   "prevalence": 0.08918760958503799
                  }
                 },
                 "parent_ids": [
                  4302537,
                  4132926
                 ],
                 "source_cohorts": [
                  1,
                  2
                 ]
                },
                {
                 "children": [],
                 "concept_code": "25064002",
                 "concept_id": 378253,
                 "concept_name": "Headache",
                 "metrics": {
                  "1": {
                   "count": 374,
                   "prevalence": 0.07927087749046206
                  },
                  "2": {
                   "count": 771,
                   "prevalence": 0.09012273524254821
                  }
                 },
                 "parent_ids": [
                  4247371,
                  4132926
                 ],
                 "source_cohorts": [
                  1,
                  2
                 ]
                },
                {
                 "children": [
                  {
                   "children": [
                    {
                     "children": [
                      {
                       "children": [
                        {
                         "children": [
                          {
                           "children": [],
                           "concept_code": "124171000119105",
                           "concept_id": 43530652,
                           "concept_name": "Chronic intractable migraine without aura",
                           "metrics": {
                            "1": {
                             "count": 135,
                             "prevalence": 0.028613819415006358
                            },
                            "2": {
                             "count": 256,
                             "prevalence": 0.029924021040327296
                            }
                           },
                           "parent_ids": [
                            443616,
                            4141827,
                            4301371
                           ],
                           "source_cohorts": [
                            1,
                            2
                           ]
                          }
                         ],
                         "concept_code": "423279000",
                         "concept_id": 443616,
                         "concept_name": "Refractory migraine without aura",
                         "metrics": {
                          "1": {
                           "count": 135,
                           "prevalence": 0.028613819415006358
                          },
                          "2": {
                           "count": 256,
                           "prevalence": 0.029924021040327296
                          }
                         },
                         "parent_ids": [
                          378735,
                          443615
                         ],
                         "source_cohorts": [
                          1,
                          2
                         ]
                        }
                       ],
                       "concept_code": "423894005",
                       "concept_id": 443615,
                       "concept_name": "Refractory migraine",
                       "metrics": {
                        "1": {
                         "count": 135,
                         "prevalence": 0.028613819415006358
                        },
                        "2": {
                         "count": 256,
                         "prevalence": 0.029924021040327296
                        }
                       },
                       "parent_ids": [
                        318736
                       ],
                       "source_cohorts": [
                        1,
                        2
                       ]
                      },
                      {
                       "children": [
                        {
                         "children": [],
                         "concept_code": "124171000119105",
                         "concept_id": 43530652,
                         "concept_name": "Chronic intractable migraine without aura",
                         "metrics": {
                          "1": {
                           "count": 135,
                           "prevalence": 0.028613819415006358
                          },
                          "2": {
                           "count": 256,
                           "prevalence": 0.029924021040327296
                          }
                         },
                         "parent_ids": [
                          443616,
                          4141827,
                          4301371
                         ],
                         "source_cohorts": [
                          1,
                          2
                         ]
                        }
                       ],
                       "concept_code": "427419006",
                       "concept_id": 4141827,
                       "concept_name": "Transformed migraine",
                       "metrics": {
                        "1": {
                         "count": 135,
                         "prevalence": 0.028613819415006358
                        },
                        "2": {
                         "count": 256,
                         "prevalence": 0.029924021040327296
                        }
                       },
                       "parent_ids": [
                        4028244,
                        318736,
                        374639
                       ],
                       "source_cohorts": [
                        1,
                        2
                       ]
                      },
                      {
                       "children": [
                        {
                         "children": [
                          {
                           "children": [],
                           "concept_code": "124171000119105",
                           "concept_id": 43530652,
                           "concept_name": "Chronic intractable migraine without aura",
                           "metrics": {
                            "1": {
                             "count": 135,
                             "prevalence": 0.028613819415006358
                            },
                            "2": {
                             "count": 256,
                             "prevalence": 0.029924021040327296
                            }
                           },
                           "parent_ids": [
                            443616,
                            4141827,
                            4301371
                           ],
                           "source_cohorts": [
                            1,
                            2
                           ]
                          }
                         ],
                         "concept_code": "423279000",
                         "concept_id": 443616,
                         "concept_name": "Refractory migraine without aura",
                         "metrics": {
                          "1": {
                           "count": 135,
                           "prevalence": 0.028613819415006358
                          },
                          "2": {
                           "count": 256,
                           "prevalence": 0.029924021040327296
                          }
                         },
                         "parent_ids": [
                          378735,
                          443615
                         ],
                         "source_cohorts": [
                          1,
                          2
                         ]
                        }
                       ],
                       "concept_code": "56097005",
                       "concept_id": 378735,
                       "concept_name": "Migraine without aura",
                       "metrics": {
                        "1": {
                         "count": 135,
                         "prevalence": 0.028613819415006358
                        },
                        "2": {
                         "count": 256,
                         "prevalence": 0.029924021040327296
                        }
                       },
                       "parent_ids": [
                        372887,
                        318736
                       ],
                       "source_cohorts": [
                        1,
                        2
                       ]
                      }
                     ],
                     "concept_code": "37796009",
                     "concept_id": 318736,
                     "concept_name": "Migraine",
                     "metrics": {
                      "1": {
                       "count": 135,
                       "prevalence": 0.028613819415006358
                      },
                      "2": {
                       "count": 256,
                       "prevalence": 0.029924021040327296
                      }
                     },
                     "parent_ids": [
                      4134454
                     ],
                     "source_cohorts": [
                      1,
                      2
                     ]
                    }
                   ],
                   "concept_code": "128187005",
                   "concept_id": 4134454,
                   "concept_name": "Vascular headache",
                   "metrics": {
                    "1": {
                     "count": 135,
                     "prevalence": 0.028613819415006358
                    },
                    "2": {
                     "count": 256,
                     "prevalence": 0.029924021040327296
                    }
                   },
                   "parent_ids": [
                    443784,
                    375527,
                    4115408
                   ],
                   "source_cohorts": [
                    1,
                    2
                   ]
                  }
                 ],
                 "concept_code": "301358001",
                 "concept_id": 4115408,
                 "concept_name": "Pain of cardiovascular structure",
                 "metrics": {
                  "1": {
                   "count": 135,
                   "prevalence": 0.028613819415006358
                  },
                  "2": {
                   "count": 256,
                   "prevalence": 0.029924021040327296
                  }
                 },
                 "parent_ids": [
                  4023995,
                  4132926
                 ],
                 "source_cohorts": [
                  1,
                  2
                 ]
                },
                {
                 "children": [
                  {
                   "children": [
                    {
                     "children": [
                      {
                       "children": [],
                       "concept_code": "124171000119105",
                       "concept_id": 43530652,
                       "concept_name": "Chronic intractable migraine without aura",
                       "metrics": {
                        "1": {
                         "count": 135,
                         "prevalence": 0.028613819415006358
                        },
                        "2": {
                         "count": 256,
                         "prevalence": 0.029924021040327296
                        }
                       },
                       "parent_ids": [
                        443616,
                        4141827,
                        4301371
                       ],
                       "source_cohorts": [
                        1,
                        2
                       ]
                      }
                     ],
                     "concept_code": "427419006",
                     "concept_id": 4141827,
                     "concept_name": "Transformed migraine",
                     "metrics": {
                      "1": {
                       "count": 135,
                       "prevalence": 0.028613819415006358
                      },
                      "2": {
                       "count": 256,
                       "prevalence": 0.029924021040327296
                      }
                     },
                     "parent_ids": [
                      4028244,
                      318736,
                      374639
                     ],
                     "source_cohorts": [
                      1,
                      2
                     ]
                    }
                   ],
                   "concept_code": "431237007",
                   "concept_id": 374639,
                   "concept_name": "Chronic headache disorder",
                   "metrics": {
                    "1": {
                     "count": 135,
                     "prevalence": 0.028613819415006358
                    },
                    "2": {
                     "count": 256,
                     "prevalence": 0.029924021040327296
                    }
                   },
                   "parent_ids": [
                    443783,
                    436096,
                    375527
                   ],
                   "source_cohorts": [
                    1,
                    2
                   ]
                  },
                  {
                   "children": [
                    {
                     "children": [
                      {
                       "children": [
                        {
                         "children": [
                          {
                           "children": [],
                           "concept_code": "124171000119105",
                           "concept_id": 43530652,
                           "concept_name": "Chronic intractable migraine without aura",
                           "metrics": {
                            "1": {
                             "count": 135,
                             "prevalence": 0.028613819415006358
                            },
                            "2": {
                             "count": 256,
                             "prevalence": 0.029924021040327296
                            }
                           },
                           "parent_ids": [
                            443616,
                            4141827,
                            4301371
                           ],
                           "source_cohorts": [
                            1,
                            2
                           ]
                          }
                         ],
                         "concept_code": "423279000",
                         "concept_id": 443616,
                         "concept_name": "Refractory migraine without aura",
                         "metrics": {
                          "1": {
                           "count": 135,
                           "prevalence": 0.028613819415006358
                          },
                          "2": {
                           "count": 256,
                           "prevalence": 0.029924021040327296
                          }
                         },
                         "parent_ids": [
                          378735,
                          443615
                         ],
                         "source_cohorts": [
                          1,
                          2
                         ]
                        }
                       ],
                       "concept_code": "423894005",
                       "concept_id": 443615,
                       "concept_name": "Refractory migraine",
                       "metrics": {
                        "1": {
                         "count": 135,
                         "prevalence": 0.028613819415006358
                        },
                        "2": {
                         "count": 256,
                         "prevalence": 0.029924021040327296
                        }
                       },
                       "parent_ids": [
                        318736
                       ],
                       "source_cohorts": [
                        1,
                        2
                       ]
                      },
                      {
                       "children": [
                        {
                         "children": [],
                         "concept_code": "124171000119105",
                         "concept_id": 43530652,
                         "concept_name": "Chronic intractable migraine without aura",
                         "metrics": {
                          "1": {
                           "count": 135,
                           "prevalence": 0.028613819415006358
                          },
                          "2": {
                           "count": 256,
                           "prevalence": 0.029924021040327296
                          }
                         },
                         "parent_ids": [
                          443616,
                          4141827,
                          4301371
                         ],
                         "source_cohorts": [
                          1,
                          2
                         ]
                        }
                       ],
                       "concept_code": "427419006",
                       "concept_id": 4141827,
                       "concept_name": "Transformed migraine",
                       "metrics": {
                        "1": {
                         "count": 135,
                         "prevalence": 0.028613819415006358
                        },
                        "2": {
                         "count": 256,
                         "prevalence": 0.029924021040327296
                        }
                       },
                       "parent_ids": [
                        4028244,
                        318736,
                        374639
                       ],
                       "source_cohorts": [
                        1,
                        2
                       ]
                      },
                      {
                       "children": [
                        {
                         "children": [
                          {
                           "children": [],
                           "concept_code": "124171000119105",
                           "concept_id": 43530652,
                           "concept_name": "Chronic intractable migraine without aura",
                           "metrics": {
                            "1": {
                             "count": 135,
                             "prevalence": 0.028613819415006358
                            },
                            "2": {
                             "count": 256,
                             "prevalence": 0.029924021040327296
                            }
                           },
                           "parent_ids": [
                            443616,
                            4141827,
                            4301371
                           ],
                           "source_cohorts": [
                            1,
                            2
                           ]
                          }
                         ],
                         "concept_code": "423279000",
                         "concept_id": 443616,
                         "concept_name": "Refractory migraine without aura",
                         "metrics": {
                          "1": {
                           "count": 135,
                           "prevalence": 0.028613819415006358
                          },
                          "2": {
                           "count": 256,
                           "prevalence": 0.029924021040327296
                          }
                         },
                         "parent_ids": [
                          378735,
                          443615
                         ],
                         "source_cohorts": [
                          1,
                          2
                         ]
                        }
                       ],
                       "concept_code": "56097005",
                       "concept_id": 378735,
                       "concept_name": "Migraine without aura",
                       "metrics": {
                        "1": {
                         "count": 135,
                         "prevalence": 0.028613819415006358
                        },
                        "2": {
                         "count": 256,
                         "prevalence": 0.029924021040327296
                        }
                       },
                       "parent_ids": [
                        372887,
                        318736
                       ],
                       "source_cohorts": [
                        1,
                        2
                       ]
                      }
                     ],
                     "concept_code": "37796009",
                     "concept_id": 318736,
                     "concept_name": "Migraine",
                     "metrics": {
                      "1": {
                       "count": 135,
                       "prevalence": 0.028613819415006358
                      },
                      "2": {
                       "count": 256,
                       "prevalence": 0.029924021040327296
                      }
                     },
                     "parent_ids": [
                      4134454
                     ],
                     "source_cohorts": [
                      1,
                      2
                     ]
                    }
                   ],
                   "concept_code": "128187005",
                   "concept_id": 4134454,
                   "concept_name": "Vascular headache",
                   "metrics": {
                    "1": {
                     "count": 135,
                     "prevalence": 0.028613819415006358
                    },
                    "2": {
                     "count": 256,
                     "prevalence": 0.029924021040327296
                    }
                   },
                   "parent_ids": [
                    443784,
                    375527,
                    4115408
                   ],
                   "source_cohorts": [
                    1,
                    2
                   ]
                  }
                 ],
                 "concept_code": "230461009",
                 "concept_id": 375527,
                 "concept_name": "Headache disorder",
                 "metrics": {
                  "1": {
                   "count": 135,
                   "prevalence": 0.028613819415006358
                  },
                  "2": {
                   "count": 256,
                   "prevalence": 0.029924021040327296
                  }
                 },
                 "parent_ids": [
                  4042836,
                  4132926,
                  4160062
                 ],
                 "source_cohorts": [
                  1,
                  2
                 ]
                },
                {
                 "children": [
                  {
                   "children": [],
                   "concept_code": "95417003",
                   "concept_id": 4316217,
                   "concept_name": "Primary fibromyalgia syndrome",
                   "metrics": {
                    "1": {
                     "count": 6,
                     "prevalence": 0.001271725307333616
                    },
                    "2": {
                     "count": 22,
                     "prevalence": 0.002571595558153127
                    }
                   },
                   "parent_ids": [
                    42538688,
                    40405599,
                    4134133,
                    442315
                   ],
                   "source_cohorts": [
                    1,
                    2
                   ]
                  }
                 ],
                 "concept_code": "203082005",
                 "concept_id": 40405599,
                 "concept_name": "Fibromyalgia",
                 "metrics": {
                  "1": {
                   "count": 6,
                   "prevalence": 0.001271725307333616
                  },
                  "2": {
                   "count": 22,
                   "prevalence": 0.002571595558153127
                  }
                 },
                 "parent_ids": [
                  443783,
                  4132926,
                  436096,
                  4160062,
                  137275
                 ],
                 "source_cohorts": [
                  1,
                  2
                 ]
                }
               ],
               "concept_code": "279001004",
               "concept_id": 4132926,
               "concept_name": "Pain finding at anatomical site",
               "metrics": {
                "1": {
                 "count": 1140,
                 "prevalence": 0.24162780839338702
                },
                "2": {
                 "count": 2277,
                 "prevalence": 0.2661601402688486
                }
               },
               "parent_ids": [
                44783587,
                4329041
               ],
               "source_cohorts": [
                1,
                2
               ]
              },
              {
               "children": [
                {
                 "children": [
                  {
                   "children": [
                    {
                     "children": [],
                     "concept_code": "124171000119105",
                     "concept_id": 43530652,
                     "concept_name": "Chronic intractable migraine without aura",
                     "metrics": {
                      "1": {
                       "count": 135,
                       "prevalence": 0.028613819415006358
                      },
                      "2": {
                       "count": 256,
                       "prevalence": 0.029924021040327296
                      }
                     },
                     "parent_ids": [
                      443616,
                      4141827,
                      4301371
                     ],
                     "source_cohorts": [
                      1,
                      2
                     ]
                    }
                   ],
                   "concept_code": "427419006",
                   "concept_id": 4141827,
                   "concept_name": "Transformed migraine",
                   "metrics": {
                    "1": {
                     "count": 135,
                     "prevalence": 0.028613819415006358
                    },
                    "2": {
                     "count": 256,
                     "prevalence": 0.029924021040327296
                    }
                   },
                   "parent_ids": [
                    4028244,
                    318736,
                    374639
                   ],
                   "source_cohorts": [
                    1,
                    2
                   ]
                  }
                 ],
                 "concept_code": "431237007",
                 "concept_id": 374639,
                 "concept_name": "Chronic headache disorder",
                 "metrics": {
                  "1": {
                   "count": 135,
                   "prevalence": 0.028613819415006358
                  },
                  "2": {
                   "count": 256,
                   "prevalence": 0.029924021040327296
                  }
                 },
                 "parent_ids": [
                  443783,
                  436096,
                  375527
                 ],
                 "source_cohorts": [
                  1,
                  2
                 ]
                },
                {
                 "children": [
                  {
                   "children": [],
                   "concept_code": "95417003",
                   "concept_id": 4316217,
                   "concept_name": "Primary fibromyalgia syndrome",
                   "metrics": {
                    "1": {
                     "count": 6,
                     "prevalence": 0.001271725307333616
                    },
                    "2": {
                     "count": 22,
                     "prevalence": 0.002571595558153127
                    }
                   },
                   "parent_ids": [
                    42538688,
                    40405599,
                    4134133,
                    442315
                   ],
                   "source_cohorts": [
                    1,
                    2
                   ]
                  }
                 ],
                 "concept_code": "762452003",
                 "concept_id": 42538688,
                 "concept_name": "Chronic musculoskeletal pain",
                 "metrics": {
                  "1": {
                   "count": 6,
                   "prevalence": 0.001271725307333616
                  },
                  "2": {
                   "count": 22,
                   "prevalence": 0.002571595558153127
                  }
                 },
                 "parent_ids": [
                  4150129,
                  436096
                 ],
                 "source_cohorts": [
                  1,
                  2
                 ]
                },
                {
                 "children": [
                  {
                   "children": [],
                   "concept_code": "95417003",
                   "concept_id": 4316217,
                   "concept_name": "Primary fibromyalgia syndrome",
                   "metrics": {
                    "1": {
                     "count": 6,
                     "prevalence": 0.001271725307333616
                    },
                    "2": {
                     "count": 22,
                     "prevalence": 0.002571595558153127
                    }
                   },
                   "parent_ids": [
                    42538688,
                    40405599,
                    4134133,
                    442315
                   ],
                   "source_cohorts": [
                    1,
                    2
                   ]
                  }
                 ],
                 "concept_code": "203082005",
                 "concept_id": 40405599,
                 "concept_name": "Fibromyalgia",
                 "metrics": {
                  "1": {
                   "count": 6,
                   "prevalence": 0.001271725307333616
                  },
                  "2": {
                   "count": 22,
                   "prevalence": 0.002571595558153127
                  }
                 },
                 "parent_ids": [
                  443783,
                  4132926,
                  436096,
                  4160062,
                  137275
                 ],
                 "source_cohorts": [
                  1,
                  2
                 ]
                }
               ],
               "concept_code": "82423001",
               "concept_id": 436096,
               "concept_name": "Chronic pain",
               "metrics": {
                "1": {
                 "count": 194,
                 "prevalence": 0.04111911827045358
                },
                "2": {
                 "count": 363,
                 "prevalence": 0.042431326709526596
                }
               },
               "parent_ids": [
                4329041
               ],
               "source_cohorts": [
                1,
                2
               ]
              },
              {
               "children": [
                {
                 "children": [
                  {
                   "children": [
                    {
                     "children": [
                      {
                       "children": [],
                       "concept_code": "124171000119105",
                       "concept_id": 43530652,
                       "concept_name": "Chronic intractable migraine without aura",
                       "metrics": {
                        "1": {
                         "count": 135,
                         "prevalence": 0.028613819415006358
                        },
                        "2": {
                         "count": 256,
                         "prevalence": 0.029924021040327296
                        }
                       },
                       "parent_ids": [
                        443616,
                        4141827,
                        4301371
                       ],
                       "source_cohorts": [
                        1,
                        2
                       ]
                      }
                     ],
                     "concept_code": "427419006",
                     "concept_id": 4141827,
                     "concept_name": "Transformed migraine",
                     "metrics": {
                      "1": {
                       "count": 135,
                       "prevalence": 0.028613819415006358
                      },
                      "2": {
                       "count": 256,
                       "prevalence": 0.029924021040327296
                      }
                     },
                     "parent_ids": [
                      4028244,
                      318736,
                      374639
                     ],
                     "source_cohorts": [
                      1,
                      2
                     ]
                    }
                   ],
                   "concept_code": "431237007",
                   "concept_id": 374639,
                   "concept_name": "Chronic headache disorder",
                   "metrics": {
                    "1": {
                     "count": 135,
                     "prevalence": 0.028613819415006358
                    },
                    "2": {
                     "count": 256,
                     "prevalence": 0.029924021040327296
                    }
                   },
                   "parent_ids": [
                    443783,
                    436096,
                    375527
                   ],
                   "source_cohorts": [
                    1,
                    2
                   ]
                  },
                  {
                   "children": [
                    {
                     "children": [
                      {
                       "children": [
                        {
                         "children": [
                          {
                           "children": [],
                           "concept_code": "124171000119105",
                           "concept_id": 43530652,
                           "concept_name": "Chronic intractable migraine without aura",
                           "metrics": {
                            "1": {
                             "count": 135,
                             "prevalence": 0.028613819415006358
                            },
                            "2": {
                             "count": 256,
                             "prevalence": 0.029924021040327296
                            }
                           },
                           "parent_ids": [
                            443616,
                            4141827,
                            4301371
                           ],
                           "source_cohorts": [
                            1,
                            2
                           ]
                          }
                         ],
                         "concept_code": "423279000",
                         "concept_id": 443616,
                         "concept_name": "Refractory migraine without aura",
                         "metrics": {
                          "1": {
                           "count": 135,
                           "prevalence": 0.028613819415006358
                          },
                          "2": {
                           "count": 256,
                           "prevalence": 0.029924021040327296
                          }
                         },
                         "parent_ids": [
                          378735,
                          443615
                         ],
                         "source_cohorts": [
                          1,
                          2
                         ]
                        }
                       ],
                       "concept_code": "423894005",
                       "concept_id": 443615,
                       "concept_name": "Refractory migraine",
                       "metrics": {
                        "1": {
                         "count": 135,
                         "prevalence": 0.028613819415006358
                        },
                        "2": {
                         "count": 256,
                         "prevalence": 0.029924021040327296
                        }
                       },
                       "parent_ids": [
                        318736
                       ],
                       "source_cohorts": [
                        1,
                        2
                       ]
                      },
                      {
                       "children": [
                        {
                         "children": [],
                         "concept_code": "124171000119105",
                         "concept_id": 43530652,
                         "concept_name": "Chronic intractable migraine without aura",
                         "metrics": {
                          "1": {
                           "count": 135,
                           "prevalence": 0.028613819415006358
                          },
                          "2": {
                           "count": 256,
                           "prevalence": 0.029924021040327296
                          }
                         },
                         "parent_ids": [
                          443616,
                          4141827,
                          4301371
                         ],
                         "source_cohorts": [
                          1,
                          2
                         ]
                        }
                       ],
                       "concept_code": "427419006",
                       "concept_id": 4141827,
                       "concept_name": "Transformed migraine",
                       "metrics": {
                        "1": {
                         "count": 135,
                         "prevalence": 0.028613819415006358
                        },
                        "2": {
                         "count": 256,
                         "prevalence": 0.029924021040327296
                        }
                       },
                       "parent_ids": [
                        4028244,
                        318736,
                        374639
                       ],
                       "source_cohorts": [
                        1,
                        2
                       ]
                      },
                      {
                       "children": [
                        {
                         "children": [
                          {
                           "children": [],
                           "concept_code": "124171000119105",
                           "concept_id": 43530652,
                           "concept_name": "Chronic intractable migraine without aura",
                           "metrics": {
                            "1": {
                             "count": 135,
                             "prevalence": 0.028613819415006358
                            },
                            "2": {
                             "count": 256,
                             "prevalence": 0.029924021040327296
                            }
                           },
                           "parent_ids": [
                            443616,
                            4141827,
                            4301371
                           ],
                           "source_cohorts": [
                            1,
                            2
                           ]
                          }
                         ],
                         "concept_code": "423279000",
                         "concept_id": 443616,
                         "concept_name": "Refractory migraine without aura",
                         "metrics": {
                          "1": {
                           "count": 135,
                           "prevalence": 0.028613819415006358
                          },
                          "2": {
                           "count": 256,
                           "prevalence": 0.029924021040327296
                          }
                         },
                         "parent_ids": [
                          378735,
                          443615
                         ],
                         "source_cohorts": [
                          1,
                          2
                         ]
                        }
                       ],
                       "concept_code": "56097005",
                       "concept_id": 378735,
                       "concept_name": "Migraine without aura",
                       "metrics": {
                        "1": {
                         "count": 135,
                         "prevalence": 0.028613819415006358
                        },
                        "2": {
                         "count": 256,
                         "prevalence": 0.029924021040327296
                        }
                       },
                       "parent_ids": [
                        372887,
                        318736
                       ],
                       "source_cohorts": [
                        1,
                        2
                       ]
                      }
                     ],
                     "concept_code": "37796009",
                     "concept_id": 318736,
                     "concept_name": "Migraine",
                     "metrics": {
                      "1": {
                       "count": 135,
                       "prevalence": 0.028613819415006358
                      },
                      "2": {
                       "count": 256,
                       "prevalence": 0.029924021040327296
                      }
                     },
                     "parent_ids": [
                      4134454
                     ],
                     "source_cohorts": [
                      1,
                      2
                     ]
                    }
                   ],
                   "concept_code": "128187005",
                   "concept_id": 4134454,
                   "concept_name": "Vascular headache",
                   "metrics": {
                    "1": {
                     "count": 135,
                     "prevalence": 0.028613819415006358
                    },
                    "2": {
                     "count": 256,
                     "prevalence": 0.029924021040327296
                    }
                   },
                   "parent_ids": [
                    443784,
                    375527,
                    4115408
                   ],
                   "source_cohorts": [
                    1,
                    2
                   ]
                  }
                 ],
                 "concept_code": "230461009",
                 "concept_id": 375527,
                 "concept_name": "Headache disorder",
                 "metrics": {
                  "1": {
                   "count": 135,
                   "prevalence": 0.028613819415006358
                  },
                  "2": {
                   "count": 256,
                   "prevalence": 0.029924021040327296
                  }
                 },
                 "parent_ids": [
                  4042836,
                  4132926,
                  4160062
                 ],
                 "source_cohorts": [
                  1,
                  2
                 ]
                },
                {
                 "children": [
                  {
                   "children": [],
                   "concept_code": "95417003",
                   "concept_id": 4316217,
                   "concept_name": "Primary fibromyalgia syndrome",
                   "metrics": {
                    "1": {
                     "count": 6,
                     "prevalence": 0.001271725307333616
                    },
                    "2": {
                     "count": 22,
                     "prevalence": 0.002571595558153127
                    }
                   },
                   "parent_ids": [
                    42538688,
                    40405599,
                    4134133,
                    442315
                   ],
                   "source_cohorts": [
                    1,
                    2
                   ]
                  }
                 ],
                 "concept_code": "56557000",
                 "concept_id": 442315,
                 "concept_name": "Fibrositis",
                 "metrics": {
                  "1": {
                   "count": 6,
                   "prevalence": 0.001271725307333616
                  },
                  "2": {
                   "count": 22,
                   "prevalence": 0.002571595558153127
                  }
                 },
                 "parent_ids": [
                  442752,
                  4160062,
                  72618
                 ],
                 "source_cohorts": [
                  1,
                  2
                 ]
                },
                {
                 "children": [
                  {
                   "children": [],
                   "concept_code": "95417003",
                   "concept_id": 4316217,
                   "concept_name": "Primary fibromyalgia syndrome",
                   "metrics": {
                    "1": {
                     "count": 6,
                     "prevalence": 0.001271725307333616
                    },
                    "2": {
                     "count": 22,
                     "prevalence": 0.002571595558153127
                    }
                   },
                   "parent_ids": [
                    42538688,
                    40405599,
                    4134133,
                    442315
                   ],
                   "source_cohorts": [
                    1,
                    2
                   ]
                  }
                 ],
                 "concept_code": "203082005",
                 "concept_id": 40405599,
                 "concept_name": "Fibromyalgia",
                 "metrics": {
                  "1": {
                   "count": 6,
                   "prevalence": 0.001271725307333616
                  },
                  "2": {
                   "count": 22,
                   "prevalence": 0.002571595558153127
                  }
                 },
                 "parent_ids": [
                  443783,
                  4132926,
                  436096,
                  4160062,
                  137275
                 ],
                 "source_cohorts": [
                  1,
                  2
                 ]
                }
               ],
               "concept_code": "373673007",
               "concept_id": 4160062,
               "concept_name": "Disorder characterized by pain",
               "metrics": {
                "1": {
                 "count": 141,
                 "prevalence": 0.029885544722339976
                },
                "2": {
                 "count": 277,
                 "prevalence": 0.03237872589129164
                }
               },
               "parent_ids": [
                4274025,
                4329041
               ],
               "source_cohorts": [
                1,
                2
               ]
              }
             ],
             "concept_code": "22253000",
             "concept_id": 4329041,
             "concept_name": "Pain",
             "metrics": {
              "1": {
               "count": 1177,
               "prevalence": 0.24947011445527767
              },
              "2": {
               "count": 2340,
               "prevalence": 0.2735242548217417
              }
             },
             "parent_ids": [
              4170962
             ],
             "source_cohorts": [
              1,
              2
             ]
            }
           ],
           "concept_code": "276435006",
           "concept_id": 4170962,
           "concept_name": "Pain / sensation finding",
           "metrics": {
            "1": {
             "count": 1177,
             "prevalence": 0.24947011445527767
            },
            "2": {
             "count": 2340,
             "prevalence": 0.2735242548217417
            }
           },
           "parent_ids": [
            4024013
           ],
           "source_cohorts": [
            1,
            2
           ]
          }
         ],
         "concept_code": "106147001",
         "concept_id": 4024013,
         "concept_name": "Sensory nervous system finding",
         "metrics": {
          "1": {
           "count": 1975,
           "prevalence": 0.4186095803306486
          },
          "2": {
           "count": 4006,
           "prevalence": 0.46826417299824663
          }
         },
         "parent_ids": [
          4011630
         ],
         "source_cohorts": [
          1,
          2
         ]
        },
        {
         "children": [
          {
           "children": [],
           "concept_code": "271825005",
           "concept_id": 4158346,
           "concept_name": "Respiratory distress",
           "metrics": {
            "1": {
             "count": 994,
             "prevalence": 0.21068249258160238
            },
            "2": {
             "count": 2010,
             "prevalence": 0.23495032144944478
            }
           },
           "parent_ids": [
            4041664,
            4239819
           ],
           "source_cohorts": [
            1,
            2
           ]
          }
         ],
         "concept_code": "69328002",
         "concept_id": 4239819,
         "concept_name": "Distress",
         "metrics": {
          "1": {
           "count": 994,
           "prevalence": 0.21068249258160238
          },
          "2": {
           "count": 2010,
           "prevalence": 0.23495032144944478
          }
         },
         "parent_ids": [
          432453
         ],
         "source_cohorts": [
          1,
          2
         ]
        }
       ],
       "_css": "/* PAGE LAYOUT */\n\n* {\n    box-sizing: border-box;\n}\n\n.vis-container {\n    align-items: center;\n    border: 1px solid black;\n    width: 100%;\n    font-size: 11px;\n    font-family: sans-serif;\n    padding: 5px;\n    overflow: visible;\n}\n\n.row-container {\n    display: flex;\n    justify-content: space-around;\n    width: 100%;\n    padding: 5px 0 5px 0;\n    height: auto;\n    overflow: hidden;\n}\n\n.col-container {\n    flex: 1;\n    border: 1px solid lightgray;\n    width: 100%;\n}\n\nh1.tight-header,h2.tight-header {\n    margin: 0;\n    line-height: 1;\n}\n\n/* TOOLTIP */\n\n.tooltip {\n    position: absolute;\n    visibility: hidden;\n    background: whitesmoke;\n    color: black;\n    padding: 8px;\n    border-radius: 8px;\n    border: 1px solid darkgray;\n    /*background-image: linear-gradient(to right, lightgray, white);*/\n    pointer-events: none;\n    z-index: 1000;\n}\n\n/* COHORT SUMMARY */\n\n.cohort-summary{\n    gap: 32px; /* space between columns */\n    padding: 15px;\n    background-image: linear-gradient(to right, lightgray, darkgray);\n    overflow: auto;\n}\n\n/* BAR CHART */\n\n/* overall barchart size */\n.barchart{\n    font-size: 12px;\n    width: 100%;  /* allows resize to fit the page*/\n    height: auto;\n}\n\n/* axis labels */\n.axis-label {\n    font-size: 14px;\n}\n/* lines and tick marks */\n.axis path,\n.axis line {\n    fill: none;\n    stroke: black;\n    shape-rendering: crispEdges;\n}\n/* axis text */\n.axis text {\n    font-size: 14px;\n}\n\n/* CONCEPTS TABLE */\n\n.concepts-row {\n    width: 100%;\n    height: 100%; /* fill vis-container height */\n}\n\n.div-concepts-table-body {\n    margin-top: 0;\n    overflow-y: auto;\n    overflow-x: auto;\n    background-color: #f9f9f9;\n}\n\n.table-body-wrapper {\n    overflow: auto;\n    max-height: 370px; /* header height removed */\n}\n\n/* concepts table row hover and select */\n\n.selected .cell-bg {\n    fill: #f8f9fa !important;\n    stroke: #ccc !important;\n}\n\n.selected {\n    opacity: 1;\n}\n\n.row-border {\n    fill: none;\n    stroke: #007bff;\n    stroke-width: 2px;\n    pointer-events: none;\n}\n\ng[cursor=\"pointer\"]:hover .cell-bg {\n    fill: #f5f5f5;\n}",
       "_esm": "import * as d3 from 'https://esm.sh/d3@7';\nimport * as Inputs from \"https://esm.sh/@observablehq/inputs\";\n// import * as Plot from \"https://esm.sh/@observablehq/plot\";\n\n// function initialize({ model }) {\n//     // Set up shared state or event handlers.\n//     return () => {\n//       // Optional: Called when the widget is destroyed.\n//     }\n// } // end initialize\n\nfunction render({ model, el }) {\n    const font_size = '12px';\n\n    // <editor-fold desc=\"---------- DISPATCHERS ----------\">\n\n    // handles the concepts table\n    const conceptsTableDispatcher = d3.dispatch('filter', 'sort', 'change-dp', 'column-resize', 'view-pct');\n    // handles all tooltips\n    const tooltipDispatcher = d3.dispatch(\"show\", \"hide\");\n\n    tooltipDispatcher.on(\"show\", function({ content, event }) {\n        const containerRect = vis_container.node().getBoundingClientRect();\n        const x = event.clientX - containerRect.left;\n        const y = event.clientY - containerRect.top;\n\n        const tooltip = createTooltip();\n\n        // Set content first to measure\n        tooltip\n            .style(\"visibility\", \"hidden\")\n            .style(\"left\", \"0px\")\n            .style(\"top\", \"0px\")\n            .html(content);\n\n        const tooltipRect = tooltip.node().getBoundingClientRect();\n        const tooltipWidth = tooltipRect.width;\n        const tooltipHeight = tooltipRect.height;\n\n        // Get viewport dimensions\n        const viewportWidth = window.innerWidth;\n        const viewportHeight = window.innerHeight;\n\n        // Get container dimensions\n        const containerWidth = containerRect.width;\n        const containerHeight = containerRect.height;\n\n        // Calculate absolute position on screen\n        const absoluteX = event.clientX;\n        const absoluteY = event.clientY;\n\n        // Calculate relative position within container\n        let finalX = x + 10; // Default: right of cursor\n        let finalY = y - 10; // Default: above cursor\n\n        // Check viewport constraints (absolute positioning)\n        const wouldExceedRightViewport = absoluteX + 10 + tooltipWidth > viewportWidth;\n        const wouldExceedBottomViewport = absoluteY - 10 + tooltipHeight > viewportHeight;\n        const wouldExceedLeftViewport = absoluteX - tooltipWidth - 10 < 0;\n        const wouldExceedTopViewport = absoluteY - tooltipHeight - 10 < 0;\n\n        // Check container constraints (relative positioning)\n        const wouldExceedRightContainer = finalX + tooltipWidth > containerWidth;\n        const wouldExceedBottomContainer = finalY + tooltipHeight > containerHeight;\n        const wouldExceedLeftContainer = finalX - tooltipWidth - 20 < 0;\n        const wouldExceedTopContainer = finalY - tooltipHeight - 20 < 0;\n\n        // Horizontal positioning - prioritize viewport over container\n        if (wouldExceedRightViewport || wouldExceedRightContainer) {\n            finalX = x - tooltipWidth - 10; // Move to left of cursor\n\n            // If left position also exceeds bounds, clamp it\n            if (wouldExceedLeftViewport || finalX < 5) {\n                finalX = Math.max(5, Math.min(x - tooltipWidth/2, containerWidth - tooltipWidth - 5));\n            }\n        }\n\n        // Vertical positioning - prioritize viewport over container\n        if (wouldExceedBottomViewport || wouldExceedBottomContainer) {\n            finalY = y - tooltipHeight - 10; // Move above cursor\n\n            // If top position also exceeds bounds, clamp it\n            if (wouldExceedTopViewport || finalY < 5) {\n                finalY = Math.max(5, Math.min(y + 15, containerHeight - tooltipHeight - 5));\n            }\n        }\n\n        // Apply final position\n        tooltip\n            .style(\"left\", `${finalX}px`)\n            .style(\"top\", `${finalY}px`)\n            .style(\"visibility\", \"visible\");\n    });\n\n    tooltipDispatcher.on(\"hide\", function() {\n        d3.selectAll(\".tooltip\").remove();\n    });\n\n    // </editor-fold>\n\n    // <editor-fold desc=\"---------- UTILITY FUNCTIONS ----------\"\n\n    // clears an element\n    function clearElement(element) {\n        element.selectAll('*').remove();\n    }\n\n    function dataEntityExists(entity){\n        if (entity && entity.data && entity.data.length > 0)\n            return true\n        else return entity && entity.length > 0;\n    }\n\n    function formatFraction(numerator, denominator) {\n        return `\n        <span style=\"display: inline-flex; flex-direction: column; text-align: center; vertical-align: middle; font-size: 0.9em; line-height: 1.2;\">\n            <span style=\"border-bottom: 1px solid black; padding: 0 4px;\">${numerator}</span>\n            <span style=\"padding: 0 4px;\">${denominator}</span>\n        </span>\n    `;\n    }\n\n    // converts timestamp to formatted date 'YYYY-MM-DD'\n    function getIsoDateString(timestamp) {\n        let aDate = new Date(timestamp);\n        return aDate.toISOString().split('T')[0];\n    }\n\n    function isNullOrEmpty(value) {\n        if (value === null || value === undefined)\n            return true;\n\n        switch (typeof value) {\n            case 'string':\n                return value.trim().length === 0;\n            case 'object':\n                if (Array.isArray(value))\n                    return value.length === 0;\n                return Object.keys(value).length === 0;\n            case 'number':\n            case 'boolean':\n                return false;\n            default:\n                return false;\n        }\n    }\n\n    function removeDuplicates(data, key) {\n        const uniqueMap = new Map();\n        data.forEach(item => {\n            if (!uniqueMap.has(item[key])) {\n                uniqueMap.set(item[key], item);\n            }\n        });\n        return Array.from(uniqueMap.values());\n    }\n\n    function renameKeys(data, oldKeys, newKeys) {\n        if (oldKeys.length !== newKeys.length) {\n            throw new Error(\"oldKeys and newKeys must be the same length\");\n        }\n\n        return data.map(item => {\n            const changed_data = { ...item };\n            oldKeys.forEach((oldKey, index) => {\n                const newKey = newKeys[index];\n                if (oldKey in changed_data) {\n                    changed_data[newKey] = changed_data[oldKey];\n                    delete changed_data[oldKey];\n                }\n            });\n            return changed_data;\n        });\n    }\n\n    function toLabel(key){\n        return key.split('_')\n            .map(part => part.charAt(0).toUpperCase() + part.slice(1))\n            .join(' ');\n    }\n\n    function verifyDispatch(dispatch, component) {\n        if (\n            !dispatch ||\n            typeof dispatch !== \"object\" ||\n            typeof dispatch.call !== \"function\" ||\n            typeof dispatch.on !== \"function\"\n        ) {\n            throw new Error(component + \" requires a valid d3.dispatch object.\");\n        }\n    }\n\n    // </editor-fold>\n\n    // <editor-fold desc=\"---------- DEFINE DATA ----------\">\n\n    var cohort1_meta = model.get('_cohort1_meta');\n    var cohort1_stats = model.get('_cohort1_stats');\n    var race_stats1 = model.get('_race_stats1');\n    var ethnicity_stats1 = model.get('_ethnicity_stats1');\n    var gender_dist1 = model.get('_gender_dist1');\n    var age_dist1 = model.get('_age_dist1');\n    var cohort1_shortname = model.get('_cohort1_shortname');\n\n    var cohort2_meta = model.get('_cohort2_meta');\n    var cohort2_stats = model.get('_cohort2_stats');\n    var race_stats2 = model.get('_race_stats2');\n    var ethnicity_stats2 = model.get('_ethnicity_stats2');\n    var gender_dist2 = model.get('_gender_dist2');\n    var age_dist2 = model.get('_age_dist2');\n    var cohort2_shortname = model.get('_cohort2_shortname');\n\n    var cond_hier = model.get('_cond_hier');\n    console.log('cond_hier', cond_hier);\n\n    race_stats1 = renameKeys(race_stats1, ['race', 'race_count'], ['category', 'value']);\n    ethnicity_stats1 = renameKeys(ethnicity_stats1, ['ethnicity', 'ethnicity_count'], ['category', 'value']);\n    gender_dist1 = renameKeys(gender_dist1, ['gender', 'gender_count'], ['category', 'value']);\n    age_dist1 = renameKeys(age_dist1, ['age_bin', 'bin_count'], ['category', 'value']);\n\n    if(dataEntityExists(race_stats2))\n        race_stats2 = renameKeys(race_stats2, ['race', 'race_count'], ['category', 'value']);\n    if(dataEntityExists(ethnicity_stats2))\n        ethnicity_stats2 = renameKeys(ethnicity_stats2, ['ethnicity', 'ethnicity_count'], ['category', 'value']);\n    if(dataEntityExists(gender_dist2))\n        gender_dist2 = renameKeys(gender_dist2, ['gender', 'gender_count'], ['category', 'value']);\n    if(dataEntityExists(age_dist2))\n        age_dist2 = renameKeys(age_dist2, ['age_bin', 'bin_count'], ['category', 'value']);\n\n    // TODO: Ask Hong to fix this in her code. This is a temporary fix for gender probabilities being out of 100,\n    //       when other probabilities are out of 1\n    gender_dist1 = d3.map(gender_dist1, d => ({ ...d, probability: d.probability / 100 }));\n    if (dataEntityExists(gender_dist2))\n        gender_dist2 = d3.map(gender_dist2, d => ({ ...d, probability: d.probability / 100 }));\n\n    function isSingleCohort(){\n        return Object.keys(cond_hier[0]['metrics']).length === 1;\n    }\n\n    // </editor-fold>\n\n    // <editor-fold desc=\"---------- VISUAL CONTROL FUNCTIONS ----------\">\n\n    function createTooltip() {\n        return vis_container.append(\"div\")\n            .attr(\"class\", \"tooltip\");\n    }\n\n    /*\n    * draws a search box\n    * Parameters:\n    *   dispatch: d3.dispatch instance - user input event handler\n    *   options: dictionary\n    *     placeholder: type: string - placeholder for the control value\n    *     label: type: string - label for the control\n    *     width: type: string - the width of the input box in pixels\n    * Return:\n    *   container: DOM div element containing input box\n    */\n    function SearchBox(dispatch, options = {}) {\n        let {\n            placeholder = 'Filter',\n            label = '',\n            width = 200\n        } = options;\n\n        verifyDispatch(dispatch, 'Searchbox');\n        label = label.trim();\n\n        let container = d3.create(\"div\")\n            .style(\"padding\", \"4px\");\n\n        // observable input\n        const input = Inputs.text({ label: label, placeholder: \"Filter\", width: \"200px\" });\n        input.style.marginLeft = '8px';\n\n        // The actual input element is inside the wrapper\n        const innerInput = input.querySelector(\"input\");\n        // Apply styles to the real input\n        innerInput.style.borderRadius = \"8px\";\n        innerInput.style.border = \"1px solid #ccc\";\n        // innerInput.style.padding = \"4px 8px\"; // optional for nicer spacing\n        innerInput.style.width = \"100%\";      // fills the wrapper width\n\n        // Dispatch filter event on input\n        input.addEventListener(\"input\", e => dispatch.call(\"filter\", this, e.target.value));\n\n        container.node().appendChild(input);\n\n        return container.node();\n    }\n\n    /*\n    * draws a spinner box\n    * Parameters:\n    *   dispatch: d3.dispatch instance - user input event handler\n    *   options: dict\n    *     value: type: integer - starting-point value\n    *     label: type: string - label for the control\n    *     width: type: integer - the width of the input box in pixels\n    * Return:\n    *   container: DOM div element containing input box\n    */\n    function SpinnerBox(dispatch, options = {}) {\n        let {\n            value = default_prevalence_dp,\n            label = '',\n            width = 45,\n            min = 0,\n            max = 16,\n            step = 1\n        } = options;\n\n        verifyDispatch(dispatch, 'Spinnerbox');\n        label = label.trim();\n\n        // Create a container div using D3\n        let container = d3.create(\"div\")\n            .style(\"padding\", \"4px\");\n\n        // Create the number input using Inputs.number\n        const spinner = Inputs.number({\n            value: value,\n            min: min,\n            max: max,\n            step: step,\n            label: label\n        });\n\n        // Style the outer spinner element\n        spinner.style.width = width + 'px';\n        spinner.style.marginLeft = '8px';\n\n        // Style the inner input element\n        const inner = spinner.querySelector(\"input\");\n        inner.style.borderRadius = \"8px\";\n        inner.style.border = \"1px solid #ccc\";\n        inner.style.width = \"100%\";\n        inner.style.textAlign = \"right\";\n\n        // Add event listener to dispatch changes\n        spinner.addEventListener(\"input\", e => {\n            if (e.target.value < 0)\n                e.target.value = 0\n            else if (e.target.value > 16)\n                e.target.value = 16;\n            dispatch.call(\"change-dp\", spinner, e.target.value);\n        });\n\n        // Append the spinner DOM node to the D3 container\n        container.append(() => spinner);\n\n        // Return the container's DOM node\n        return container.node();\n    }\n\n    /*\n    * draws a toggle switch\n    * Parameters:\n    *   dispatch: d3.dispatch instance - user input event handler\n    *   options: dict\n    *     width: type: integer - the width of the input in pixels\n    *     height: type: integer - the height of the input in pixels\n    *     initial_state: type: boolean - starting-point value -- False=off, True=on\n    *     label: type: string - label for the control\n    * Return:\n    *   svg DOM node containing input box\n    */\n    function ToggleSwitch(dispatch, {\n                              width = 30,\n                              height = 30,\n                              initial_state = true,\n                              label = \"Toggle\"\n                          } = {}) {\n        const svg = d3.create(\"svg\")\n            .attr(\"width\", width + 160)\n            .attr(\"height\", height)\n            .attr(\"viewBox\", `0 0 ${width + 160} ${height}`)\n            .attr(\"preserveAspectRatio\", \"xMidYMid meet\");\n\n        const track_height = height * 0.6;\n        const track_y = (height - track_height) / 2;\n        const thumb_radius = track_height / 2;\n        const track_width = width;\n        const color_on = \"#00e676\";\n        const color_off = \"#ccc\";\n\n        let state = initial_state ? 1 : 0;\n\n        const toggle_group = svg.append(\"g\")\n            .attr(\"class\", \"svg-toggle\")\n            .attr(\"transform\", `translate(0, ${track_y})`);\n\n        // Track\n        const track = toggle_group.append(\"rect\")\n            .attr(\"x\", 0)\n            .attr(\"y\", 0)\n            .attr(\"width\", track_width)\n            .attr(\"height\", track_height)\n            .attr(\"rx\", thumb_radius)\n            .attr(\"fill\", state === 1 ? color_on : color_off);\n\n        // Thumb\n        const thumb = toggle_group.append(\"circle\")\n            .attr(\"cx\", state === 1 ? track_width - thumb_radius : thumb_radius)\n            .attr(\"cy\", track_height / 2)\n            .attr(\"r\", thumb_radius * 0.9)\n            .attr(\"fill\", \"#007bff\");\n\n        // Transparent clickable layer\n        const transparent_rect = toggle_group.append(\"rect\")\n            .attr(\"x\", 0)\n            .attr(\"y\", 0)\n            .attr(\"width\", track_width)\n            .attr(\"height\", track_height)\n            .attr(\"fill\", \"transparent\")\n            .style(\"cursor\", \"pointer\")\n            .on(\"click\", () => {\n                state = 1 - state; // Toggle state\n\n                // Animate thumb position\n                thumb.transition()\n                    .duration(300)\n                    .attr(\"cx\", state === 1 ? track_width - thumb_radius : thumb_radius);\n\n                // Animate track color\n                track.transition()\n                    .duration(300)\n                    .attr(\"fill\", state === 1 ? color_on : color_off);\n\n                // tell everyone interested the new state\n                dispatch.call(\"toggle_view\", null, state);\n\n            });\n\n        // Label\n        svg.append(\"text\")\n            .attr(\"x\", track_width + 10)\n            .attr(\"y\", height / 2 + 4)\n            .text(label);\n\n        return svg.node();\n    }\n\n    // </editor-fold>\n\n    // <editor-fold desc=\"---------- SUMMARY STATISTICS FUNCTIONS ----------\">\n\n    function SummaryStatistics(container, series1, { series2 = { data: null, meta: null, shortname1: \"cohort 2\" } } = {}) {\n        // Main container: vertical layout\n        container.style('display', 'flex')\n            .style('flex-direction', 'column')\n            .style('gap', '10px'); // space between cohort blocks\n\n        const columns = [\n            ['total_count'],\n            ['earliest_start_date', 'latest_start_date', 'earliest_end_date', 'latest_end_date'],\n            ['min_duration_days', 'max_duration_days', 'avg_duration_days'],\n            ['median_duration', 'stddev_duration']\n        ];\n\n        function drawSeriesSummary(parentSel, cohort) {\n\n            const title = cohort.meta.name.trim();\n            const desc = cohort.meta.description.trim();\n\n            if (title !== \"\") {\n                parentSel.append('h1')\n                    .attr('class', 'tight-header')\n                    .style('font-size', '13px')\n                    .text(title);\n            }\n\n            if (desc !== \"\") {\n                parentSel.append('h2')\n                    .attr('class', 'tight-header')\n                    .style('font-size', '11px')\n                    .text(desc);\n            }\n\n            // Create a container for this cohort\n            const cohortBlock = parentSel.append('div')\n                .style('display', 'flex')\n                .style('flex-direction', 'column')\n                .style('gap', '12px');\n\n            // Columns container: horizontal layout\n            const colContainer = cohortBlock.append('div')\n                .style('display', 'flex')\n                .style('gap', '30px');\n\n            // Populate columns\n            columns.forEach(colKeys => {\n                const col = colContainer.append('div')\n                    .style('display', 'flex')\n                    .style('flex-direction', 'column')\n                    .style('gap', '4px');\n\n                colKeys.forEach(key => {\n                    const row = col.append('div')\n                        .style('display', 'flex')\n                        .style('justify-content', 'flex-start')\n                        .style('gap', '8px');\n\n                    // Key\n                    row.append('div')\n                        .text(toLabel(key) + ':')\n                        .style('width', '120px');\n\n                    // Value\n                    row.append('div')\n                        .text(() => {\n                            if (!cohort.data || cohort.data.length === 0) return '—';\n                            const record = cohort.data[0];\n                            const value = record[key];\n                            return value !== undefined ? value : '—';\n                        })\n                        .style('text-align', 'left');\n                });\n            });\n        }\n\n        // draw first series\n        drawSeriesSummary(container, series1);\n        // Draw second series below the first if it has data\n        if (series2.data && series2.data.length > 0) {\n            drawSeriesSummary(container, series2);\n        }\n    }\n\n    // </editor-fold>\n\n    // <editor-fold desc=\"---------- VERTICAL BAR CHART FUNCTIONS ----------\">\n\n    // all parameters are optional at the function signature level, but we are validating within the function\n    function VerticalBarChart(\n        series1,\n        {\n            series2 = { data: null, total_count: null, shortname: \"cohort 2\"},\n            dimensions: {\n                xlabel = \"\",\n                title = \"\",\n                width = 600,\n                height = 200,\n                margin = { top: 40, right: 10, bottom: 60, left: 80 },\n                padding = 0.1,\n                show_Percentage: show_percentage = true\n            } = {}\n        } = {}\n    ) {\n        const series2_exists = dataEntityExists(series2);\n\n        const combinedData = series2_exists\n            ? series1.data.concat(series2.data)\n            : series1.data;\n\n        xlabel = toLabel(xlabel);\n\n        const categories = Array.from(new Set(combinedData.map(d => d.category)));\n        let ylabel = show_percentage ? 'Proportion' : 'Patients Count';\n\n        // handles the vertical bar chart\n        const toggle_view_dispatcher = d3.dispatch(\"toggle_view\"); // handles toggling between value and probability\n\n        const svg = d3.create('svg')\n            .attr('class', 'barchart')\n            .attr('width', width)\n            .attr('height', height)\n            .attr('viewBox', `0 0 ${width} ${height}`)\n            .attr('preserveAspectRatio', 'xMidYMid meet');\n\n        svg.append(\"g\")\n            .attr(\"transform\", `translate(${width - margin.right - 160}, ${10})`)\n            .append(() => ToggleSwitch(toggle_view_dispatcher, {\n                label: \"Show Proportion\", initial_state: show_percentage\n            }));\n\n        // X scale\n        const xScale = d3.scaleBand(categories, [margin.left, width - margin.right])\n            .padding(padding);\n\n        const color = d3.scaleOrdinal()\n            .domain([series1.shortname, series2.shortname])\n            .range(d3.schemePaired.slice(0, 2));\n\n        // X-axis\n        svg.append('g')\n            .attr('transform', `translate(0, ${height - margin.bottom})`)\n            .call(d3.axisBottom(xScale))\n            .attr('class', 'axis');\n\n        svg.append('text')\n            .attr('class', 'axis-label')\n            .attr('x', width / 2)\n            .attr('y', height - 20)\n            .style('text-anchor', 'middle')\n            .text(xlabel);\n\n        // Y-axis group\n        const yAxisGroup = svg.append('g')\n            .attr('transform', `translate(${margin.left}, 0)`)\n            .attr('class', 'axis');\n\n        const y_axis_label = svg.append('text')\n            .attr('class', 'axis-label')\n            .attr('transform', 'rotate(-90)')\n            .attr('x', height / 2 * -1)\n            .attr('y', 20)\n            .attr('text-anchor', 'middle')\n            .text(ylabel);\n\n        function drawYAxis() {\n            const yMax = show_percentage\n                ? d3.max([\n                    d3.max(series1.data, d => d.probability),\n                    series2_exists ? d3.max(series2.data, d => d.probability) : 0\n                ])\n                : d3.max(combinedData, d => +d.value);\n\n            const yScale = d3.scaleLinear([0, yMax], [height - margin.bottom, margin.top]).nice();\n            y_axis_label.text(ylabel);\n\n            const yAxis = show_percentage\n                ? d3.axisLeft(yScale).ticks(2).tickFormat(d3.format(\"\"))\n                : d3.axisLeft(yScale).ticks(2).tickFormat(d3.format(\",\"));\n\n            yAxisGroup.transition().duration(500).call(yAxis);\n            return yScale;\n        }\n\n        // chart title\n        let yScale = drawYAxis();\n        if (title === '' && xlabel !== '') title = xlabel + ' Distribution';\n        svg.append('text')\n            .attr('class', 'chart-title')\n            .attr('text-anchor', 'middle')\n            .attr('x', width / 2)\n            .attr('y', margin.top / 2)\n            .text(title);\n\n        function drawSeriesBars(container, series, series_index, class_base_name, yScale) {\n            function getTooltipContent(d, series, xlabel) {\n                const patient_count_text = `${d3.format(\".0%\")(d.probability || 0)} (${formatFraction(d.value || 0, series.total_count)})`;\n                return `<strong>${series.shortname}: ${xlabel + ': ' || ''} ${d.category}</strong><hr>Count: ${patient_count_text}`;\n            }\n\n            const class_name = class_base_name + series_index;\n            const bw = xScale.bandwidth();\n            const half = bw / 2;\n\n            const bars = container.selectAll('.' + class_name)\n                .data(series.data, d => d.category)\n                .on(\"mouseover\", function (event, d, ) {\n                    tooltipDispatcher.call(\"show\", null, {\n                        content: getTooltipContent(d, series, xlabel),\n                        event: event\n                    });\n                })\n                .on(\"mouseout\", function () {\n                    tooltipDispatcher.call(\"hide\");\n                });\n\n            bars.join(\n                enter => enter.append('rect')\n                    .attr('class', class_name)\n                    .attr('x', d => series_index === 1 ? xScale(d.category) : xScale(d.category) + half)\n                    .attr('width', series2_exists ? half : bw)\n                    .attr('y', d => yScale(show_percentage ? d.probability : +d.value))\n                    .attr('height', d => height - margin.bottom - yScale(show_percentage ? d.probability : +d.value))\n                    .attr('fill', d => color(series.shortname)), update => update.transition().duration(500)\n                    .attr('y', d => yScale(show_percentage ? d.probability : +d.value))\n                    .attr('height', d => height - margin.bottom - yScale(show_percentage ? d.probability : +d.value))\n            );\n        }\n\n        drawSeriesBars(svg, series1, 1, 'bar', yScale);\n        if (series2_exists) {\n            drawSeriesBars(svg, series2, 2, 'bar', yScale);\n\n            const legend_data = [\n                { label: series1.shortname, color: color(series1.shortname) },\n                { label: series2.shortname, color: color(series2.shortname) }\n            ];\n\n            const legend = svg.append('g')\n                .attr('class', 'legend')\n                .attr('transform', `translate(${margin.left}, ${height - 20})`);\n\n            const legend_items = legend.selectAll('.legend-item')\n                .data(legend_data)\n                .enter()\n                .append('g')\n                .attr('class', 'legend-item')\n                .attr('transform', (d, i) => `translate(${i * 100}, 0)`);\n\n            legend_items.append('rect')\n                .attr('width', 18)\n                .attr('height', 18)\n                .attr('fill', d => d.color);\n\n            legend_items.append('text')\n                .attr('x', 24)\n                .attr('y', 14)\n                .style('font-size', 12)\n                .text(d => d.label);\n        }\n\n        // Dispatch listener to redraw y-axis and bars\n        toggle_view_dispatcher.on(\"toggle_view\", function(state) {\n            show_percentage = state;\n            ylabel = show_percentage ? 'Proportion' : 'Patients Count';\n            yScale = drawYAxis();\n            drawSeriesBars(svg, series1, 1, 'bar', yScale);\n            if (series2_exists) {\n                drawSeriesBars(svg, series2, 2, 'bar', yScale);\n            }\n        });\n        toggle_view_dispatcher.call(\"toggle_view\", null, show_percentage); // initialize state\n\n        return svg.node();\n    }\n\n    // </editor-fold>\n\n    // <editor-fold desc=\"---------- CONCEPTS TABLE FUNCTIONS ----------\">\n\n    function ConceptsTable(dispatch, data, shortnames = [], options = {}){\n        const {\n            dimensions = { height: 432, row_height: 30 },\n            pageSize = 10\n        } = options;\n\n        let full_data = [];       // original dataset\n        let visible_data = [];    // filtered + sorted subset\n\n        // Add these variables for proper state management\n        let current_filter = \"\"; // Track current filter state\n        let filtered_data; // Will be initialized after table_data\n\n        // Add paging variables\n        let current_page = 0;\n        let page_size = pageSize;\n\n        function getTooltipContent(d, series_name){\n            // console.log('getTooltipContent d = ', d);\n            const heading = `<strong>Concept: ${d.concept_code}</strong><br>(${d.concept_name})<hr>`;\n            let msg = ` (no difference)`;\n            if(series_name !== \"\")\n                msg = ` (higher in ${series_name})`;\n            return `${heading} Diff. in Prev: ${Math.abs(d.difference_in_prevalence).toFixed(prevalence_dp)}<br>${msg}`;\n            //     + ;\n            //\n            // const patient_count_text = `${d3.format(\".0%\")(d.difference_in_prevalence || 0)} (${formatFraction(d.value || 0, series.total_count)})`;\n        }\n\n        // function prepareCondOccurCompareData() {\n        //     // Add calculated fields\n        //     let data = cond_hier.map(item => ({\n        //         ...item,  // Keep ALL original fields\n        //         difference_in_prevalence:\n        //             (item.metrics['1']?.prevalence ?? 0) -\n        //             (item.metrics['2']?.prevalence ?? 0),\n        //         cohort1_prevalence: item.metrics['1']?.prevalence ?? 0,\n        //         cohort2_prevalence: item.metrics['2']?.prevalence ?? 0\n        //     }));\n        //     return data;\n        // }\n\n        function prepareCondOccurCompareData() {\n            // Add calculated fields\n            let data = cond_hier.map(item => {\n                const [prev1 = 0, prev2 = 0] = Object.values(item.metrics).map(m => m.prevalence);\n                const [count1 = 0, count2 = 0] = Object.values(item.metrics).map(m => m.count);\n                return {\n                    ...item,  // Keep ALL original fields\n                    difference_in_prevalence: prev1 - prev2,\n                    cohort1_prevalence: prev1,\n                    cohort2_prevalence: prev2,\n                    count_in_cohort1: count1,\n                    count_in_cohort2: count2\n                };\n            });\n            return data;\n        }\n\n        function prepareCondOccurSingleData() {\n            // Add calculated fields\n            let data = cond_hier.map(item => {\n                const [prev = 0] = Object.values(item.metrics).map(m => m.prevalence);\n                const [count = 0] = Object.values(item.metrics).map(m => m.count);\n                return{\n                    ...item,  // Keep ALL original fields\n                    prevalence: prev,\n                    count_in_cohort: count\n                };\n            });\n            return data;\n        }\n\n        // Add pagination helper functions\n        function getTotalPages() {\n            return Math.ceil(filtered_data.length / page_size);\n        }\n\n        function getCurrentPageData() {\n            const start = current_page * page_size;\n            const end = start + page_size;\n            return filtered_data.slice(start, end);\n        }\n\n        function updatePaginationControls() {\n            const total_pages = getTotalPages();\n            const current_display = current_page + 1;\n\n            pagination_container.select('.page-info')\n                .text(`${filtered_data.length} rows`);\n\n            pagination_container.select('.prev-btn')\n                .property('disabled', current_page === 0);\n\n            pagination_container.select('.next-btn')\n                .property('disabled', current_page >= total_pages - 1);\n\n            // Update page input and total pages display\n            nav_container.select('input').property('value', current_display);\n            nav_container.select('.total-pages').text(`of ${total_pages}`);\n        }\n\n        // <editor-fold desc=\"---------- EVENT HANDLER FUNCTIONS ----------\">\n\n        // Function to handle sorting logic\n        function handleSort(d, skipToggle = false) {\n            // console.log('handleSort d = ', d);\n            // Toggle sort direction (unless we're initializing)\n            if (!skipToggle) {\n                if (d.sortDirection === \"asc\") {\n                    d.sortDirection = \"desc\";\n                } else {\n                    d.sortDirection = \"asc\";\n                }\n            }\n\n            // Clear other column sort indicators\n            columns_data.forEach(col => {\n                if (col !== d) {\n                    col.sortDirection = null;\n                }\n            });\n\n            // Update sort indicators using D3 data join\n            headers_g.selectAll(\".sort-indicator\")\n                .text((d, i) => {\n                    const col = columns_data[i];\n                    if (col.sortDirection === \"asc\") return \"▲\";\n                    if (col.sortDirection === \"desc\") return \"▼\";\n                    return \"\";\n                });\n\n            // Sort the ORIGINAL data (not filtered_data)\n            table_data.sort((a, b) => {\n                let aVal, bVal;\n                aVal = a[d.field];\n                bVal = b[d.field];\n\n                // Handle null/undefined values\n                if (aVal === null || aVal === undefined) aVal = \"\";\n                if (bVal === null || bVal === undefined) bVal = \"\";\n\n                // Convert to numbers if they look numeric\n                if (!isNaN(aVal) && !isNaN(bVal) && aVal !== \"\" && bVal !== \"\") {\n                    aVal = parseFloat(aVal);\n                    bVal = parseFloat(bVal);\n                }\n\n                if(d.field === 'difference_in_prevalence'){\n                    aVal = Math.abs(aVal);\n                    bVal = Math.abs(bVal);\n                }\n\n                let comparison = 0;\n                if (aVal < bVal) comparison = -1;\n                if (aVal > bVal) comparison = 1;\n\n                return d.sortDirection === \"desc\" ? -comparison : comparison;\n            });\n\n            // Re-apply current filter to get new filtered_data with sorted order\n            if (current_filter) {\n                const normalized = current_filter.toLowerCase().replace(/[^a-z0-9]/g, \"\");\n                filtered_data = table_data.filter(d => {\n                    const code = d.concept_code.toLowerCase();\n                    const name = d.concept_name.toLowerCase().replace(/[^a-z0-9]/g, \"\");\n                    return code.startsWith(normalized) || name.includes(normalized);\n                });\n            } else {\n                filtered_data = [...table_data];\n            }\n\n            // Reset to first page after sort\n            current_page = 0;\n\n            // Re-render the table body with sorted and filtered data\n            updateTableBody();\n        }\n\n        // </editor-fold>\n\n        // ==== Validation for required params ====\n        if (!dataEntityExists(data)) {\n            throw new Error(\"ConceptsTable requires at least one cohort.\");\n        }\n\n        if (isNullOrEmpty(shortnames)) {\n            shortnames[0] = 'study'\n            shortnames[1] = 'baseline'\n        }\n\n        // ==== Validate optional params ====\n        // if (series2 !== null && series2.data !== null && !Array.isArray(series2.data)) {\n        //     console.warn(\"ConceptsTable: Series 2 data should be an array (or null).\");\n        // }\n\n        if (typeof dimensions !== \"object\" || dimensions === null) {\n            throw new Error(\"ConceptsTable: 'dimensions' must be an object.\");\n        }\n\n        let table_data;\n        if (!isSingleCohort()) {\n            table_data = prepareCondOccurCompareData();\n        } else {\n            table_data = prepareCondOccurSingleData();\n        }\n        console.log('table_data', table_data)\n\n        // Initialize filtered_data after table_data is prepared\n        filtered_data = [...table_data];\n\n        const text_offset_x = 10;\n        const { height, row_height } = dimensions;\n\n        // Remove scroll & set fixed height\n        const container = d3.create(\"div\")\n            .style(\"width\", \"100%\")\n            .style(\"border\", \"1px solid #ccc\")\n\n        // === HEADERS ===\n\n        // converts keys to readable words by:\n        // 1. replacing the underscore with a space, and\n        // 2. capitalizing the first letter of each word\n\n        function makeKeysWords (keys, series1_name, series2_name) {\n            for (let i = 0; i < keys.length; i++) {\n                keys[i] = keys[i].replace(\"cohort1\", series1_name);\n                keys[i] = keys[i].replace(\"cohort2\", series2_name);\n            }\n            return keys.map(key => {\n                return toLabel(key);\n            });\n        }\n\n        const headers_text = makeKeysWords(Object.keys(table_data[0]), shortnames[0], shortnames[1]);\n        // console.log('Object.keys(table_data[0])', Object.keys(table_data[0]));\n\n        if (!table_data.length) {\n            throw new Error(\"ConceptsTable: table_data is empty.\");\n        }\n\n        let columns_data;\n        if(isSingleCohort()){\n            columns_data = [\n                { text: headers_text[2], field: \"concept_code\",  x: 0,   width: 160 },\n                { text: headers_text[1], field: \"concept_name\",  x: 160, width: 590 },\n                { text: headers_text[8], field: \"count_in_cohort\", x: 750, width: 160 },\n                { text: headers_text[7], field: \"prevalence\", x: 910, width: 160 }\n            ];\n        }\n        else{\n            columns_data = [\n                { text: headers_text[2], field: \"concept_code\", x: 0, width: 160, type: 'text' },\n                { text: headers_text[1], field: \"concept_name\", x: 160, width: 350, type: 'text' },\n                { text: headers_text[9], field: \"cohort2_prevalence\", x: 510, width: 160, type: 'text' },\n                { text: headers_text[7], field: \"difference_in_prevalence\", x: 670, width: 240, type: 'compare_bars' },\n                { text: headers_text[8], field: \"cohort1_prevalence\", x: 910, width: 160, type: 'text' }\n            ];\n        }\n\n        const total_table_width = d3.sum(columns_data, d => d.width);\n\n        console.log('columns_data', columns_data);\n\n        const headers_svg = container.append(\"svg\")\n            .attr(\"width\", total_table_width)\n            .attr(\"height\", row_height)\n            .style(\"background\", \"white\");\n\n        const headers_g = headers_svg.append(\"g\");\n\n        const header_g = headers_g.selectAll(\"g\")\n            .data(columns_data)\n            .enter()\n            .append(\"g\")\n            .attr(\"transform\", d => `translate(${d.x},0)`);\n\n        const color = d3.scaleOrdinal()\n            .domain(shortnames) // the series labels\n            .range(d3.schemePaired);\n\n        header_g.append(\"rect\")\n            .attr(\"width\", d => d.width)\n            .attr(\"height\", row_height)\n            .attr(\"fill\", \"#d0d0d0\")\n            .attr(\"stroke\", \"#fff\")\n            .style(\"cursor\", \"pointer\")\n            .on(\"click\", function(event, d) {\n                dispatch.call(\"sort\", this, d);\n            });\n\n        header_g.append(\"text\")\n            .attr(\"x\", text_offset_x)\n            .attr(\"y\", row_height / 2)\n            .attr(\"dy\", \"0.35em\")\n            .attr(\"text-anchor\", \"start\")\n            .style(\"cursor\", \"pointer\")\n            .style(\"pointer-events\", \"all\")\n            .text(d => d.text)\n            .on(\"click\", function(event, d) {\n                event.stopPropagation(); // Prevent header rect click\n                dispatch.call(\"sort\", this, d);\n            });\n\n        // Add sort indicators\n        header_g.append(\"text\")\n            .attr(\"class\", \"sort-indicator\")\n            .attr(\"x\", d => d.width - 15)\n            .attr(\"y\", row_height / 2)\n            .attr(\"dy\", \"0.35em\")\n            .attr(\"text-anchor\", \"middle\")\n            .attr(\"font-size\", font_size)\n            .attr(\"fill\", \"#666\")\n            .style(\"cursor\", \"pointer\")\n            .style(\"pointer-events\", \"all\")\n            .text(\"\")\n            .on(\"click\", function(event, d) {\n                event.stopPropagation(); // Prevent header click\n                dispatch.call(\"sort\", this, d);\n            });\n\n        dispatch.on(\"sort\", function(column_data) {\n            // console.log('handling dispatch sort call');\n            handleSort(column_data);\n        });\n\n        dispatch.on(\"filter\", function(search_term) {\n            current_filter = search_term; // Store current filter\n            const normalized = search_term.toLowerCase().replace(/[^a-z0-9]/g, \"\");\n\n            // Update filtered_data\n            if (normalized === \"\") {\n                filtered_data = [...table_data]; // Show all data\n            } else {\n                // TODO: clear selected row here\n                filtered_data = table_data.filter(d => {\n                    const code = d.concept_code.toLowerCase();\n                    const name = d.concept_name.toLowerCase().replace(/[^a-z0-9]/g, \"\");\n                    return code.startsWith(normalized) || name.includes(normalized);\n                });\n                // Clear selections for hidden rows\n                clearHiddenSelections(filtered_data);\n            }\n\n            // Reset to first page after filter\n            current_page = 0;\n\n            // Re-render with filtered data\n            updateTableBody();\n        });\n\n        dispatch.on(\"column-resize\", function(data) {\n            const {phase, columnData: column_data, element} = data;\n\n            switch (phase) {\n                case \"start\":\n                    const {startWidth, startX} = data;\n                    column_data.startWidth = startWidth;\n                    column_data.startX = startX;\n                    break;\n\n                case \"drag\":\n                    const {currentX} = data;\n                    const dx = currentX - column_data.startX;\n                    const newWidth = Math.max(30, column_data.startWidth + dx);\n                    column_data.width = newWidth;\n\n                    // Update header rect using the passed element reference\n                    d3.select(element.parentNode).select(\"rect\").attr(\"width\", newWidth);\n                    // Update resize handle position\n                    d3.select(element).attr(\"x\", newWidth - 5);\n\n                    // Recalculate x positions for all columns after this one\n                    let x = 0;\n                    columns_data.forEach(col => {\n                        col.x = x;\n                        x += col.width;\n                    });\n\n                    // Update header positions\n                    headers_g.selectAll(\"g\").attr(\"transform\", col => `translate(${col.x},0)`);\n\n                    // Update sort indicator positions within each header group\n                    headers_g.selectAll(\"g\").select(\".sort-indicator\")\n                        .attr(\"x\", d => d.width - 15);\n\n                    body_svg.selectAll(\".cell\").each(function(d, i) {\n                        const col = columns_data[i % columns_data.length];\n                        d3.select(this)\n                            .attr(\"transform\", `translate(${col.x},0)`)\n                            .select(\".cell-bg\")\n                            .attr(\"width\", col.width);\n                    });\n\n                    // Update body and header SVG width\n                    const total_width = d3.sum(columns_data, c => c.width);\n                    body_svg.attr(\"width\", total_width);\n                    headers_svg.attr(\"width\", total_width);\n                    break;\n\n                case \"end\":\n                    // Clean up temporary properties\n                    delete column_data.startWidth;\n                    delete column_data.startX;\n                    break;\n            }\n        });\n\n        dispatch.on(\"change-dp\", function(dp_value) {\n            // Parse and validate the decimal places value\n            let newDP = parseInt(dp_value);\n            if (isNaN(newDP) || newDP < 0 || newDP > 16) {\n                newDP = 0;\n            }\n\n            prevalence_dp = newDP;\n\n            // Clear existing table body content\n            rows_g.selectAll(\".row\").remove();\n\n            // Re-render the table with new decimal places\n            const page_data = getCurrentPageData();\n            const row = rows_g.selectAll(\".row\")\n                .data(page_data)\n                .enter()\n                .append(\"g\")\n                .attr(\"class\", \"row\")\n                .attr(\"transform\", (d, i) => `translate(0, ${i * row_height})`);\n\n            renderTableCells(row);\n            // }\n        });\n\n        // === Column resizing handle ===\n        header_g.append(\"rect\")\n            .attr(\"class\", \"resize-handle\")\n            .attr(\"x\", d => d.width - 5)\n            .attr(\"y\", 0)\n            .attr(\"width\", 5)\n            .attr(\"height\", row_height)\n            .style(\"cursor\", \"col-resize\")\n            .style(\"fill\", \"transparent\")\n            .call(d3.drag()\n                .on(\"start\", function(event, d) {\n                    dispatch.call(\"column-resize\", this, {\n                        phase: \"start\",\n                        columnData: d,\n                        startWidth: d.width,\n                        startX: event.x,\n                        element: this,  // Pass the DOM element reference\n                        event: event\n                    });\n                })\n                .on(\"drag\", function(event, d) {\n                    dispatch.call(\"column-resize\", this, {\n                        phase: \"drag\",\n                        columnData: d,\n                        startWidth: d.startWidth,\n                        startX: d.startX,\n                        currentX: event.x,\n                        element: this,  // Pass the DOM element reference\n                        event: event\n                    });\n                })\n                .on(\"end\", function(event, d) {\n                    dispatch.call(\"column-resize\", this, {\n                        phase: \"end\",\n                        columnData: d,\n                        element: this,  // Pass the DOM element reference\n                        event: event\n                    });\n                })\n            );\n\n        // TABLE BODY\n        const body_height = page_size * row_height;\n\n        // track selected rows\n        let selected_rows = new Set();\n\n        // clear selections for filtered-out rows\n        function clearHiddenSelections(visible_data) {\n            const visibleRowIds = new Set(visible_data.map(d => d.id || d.shortname || JSON.stringify(d)));\n\n            // Find selected rows that are no longer visible\n            const hidden_selected_rows = [...selected_rows].filter(rowId => !visibleRowIds.has(rowId));\n\n            // Remove hidden rows from selection\n            hidden_selected_rows.forEach(rowId => {\n                selected_rows.delete(rowId);\n            });\n\n            // If we had selections that are now hidden, update the UI\n            if (hidden_selected_rows.length > 0) {\n                rows_g.selectAll(\"g\").classed(\"selected\", false);\n                rows_g.selectAll(\".row-border\").remove();\n            }\n        }\n\n        const body_svg = container.append(\"svg\")\n            .attr(\"width\", total_table_width)\n            .attr(\"height\", body_height);\n\n        const rows_g = body_svg.append(\"g\");\n\n        let max_bias, max_diff, margin = 5;\n        if (!isSingleCohort()) {\n            // max_bias = d3.max(table_data, d => Math.abs(d.bias)) || 0;\n            max_diff = d3.max(table_data, d => Math.abs(d.difference_in_prevalence)) || 0;\n        }\n\n        const biasScale = d3.scaleLinear();\n        const barScale = d3.scaleLinear();\n        let zeroX, g, outerHeight, innerY, innerH;\n\n        let prevalence_dp = default_prevalence_dp;\n        function renderTableCells(row) {\n            const dafault_prevalence = 0;\n\n            // Add click handler to the row group itself\n            row.attr(\"cursor\", \"pointer\")\n                .on(\"click\", function(event, d) {\n                    // Get a unique identifier for this row (adjust based on your data structure)\n                    const rowId = d.id || d.shortname || JSON.stringify(d);\n\n                    // Check if this row is already selected\n                    if (selected_rows.has(rowId)) {\n                        // Deselect this row\n                        selected_rows.delete(rowId);\n                        d3.select(this).classed(\"selected\", false);\n                        // Remove the border\n                        d3.select(this).select(\".row-border\").remove();\n                        onRowSelect(d, false);\n                    } else {\n                        // Clear all previous selections first\n                        selected_rows.clear();\n                        rows_g.selectAll(\"g\").classed(\"selected\", false);\n                        rows_g.selectAll(\".row-border\").remove();\n\n                        // Select this row\n                        selected_rows.add(rowId);\n                        d3.select(this).classed(\"selected\", true);\n\n                        // Add border around the entire row\n                        d3.select(this).append(\"rect\")\n                            .attr(\"class\", \"row-border\")\n                            .attr(\"x\", 0)\n                            .attr(\"y\", 0)\n                            .attr(\"width\", total_table_width)\n                            .attr(\"height\", row_height);\n\n                        onRowSelect(d, true);\n                    }\n                });\n\n            function getPrevalenceValue(val, col, d) {\n                // Define which fields are numeric\n                const numericFields =\n                    [\"prevalence\", \"count_in_cohort\", \"cohort1_prevalence\", \"cohort2_prevalence\"];\n                const no_dp = [\"count_in_cohort\"];\n\n                if (val === null || val === undefined) {\n                    if(numericFields.includes(col.field))\n                        val = dafault_prevalence\n                    else val = 0;\n                }\n\n                if(numericFields.includes(col.field) && !no_dp.includes(col.field))\n                    val = val.toFixed(prevalence_dp)\n\n                return val;\n            }\n\n            // per-row, per-column cells\n            columns_data.forEach(col => {\n                const cell = row.append(\"g\")\n                    .attr(\"class\", \"cell\")\n                    .attr(\"transform\", `translate(${col.x},0)`);\n\n                cell.append(\"rect\")\n                    .attr(\"class\", \"cell-bg\")\n                    .attr(\"width\", col.width)\n                    .attr(\"height\", row_height)\n                    .attr(\"fill\", \"#f0f0f0\")\n                    .attr(\"stroke\", \"#ccc\");\n\n                if (isSingleCohort()) {\n                    cell.append(\"text\")\n                        .attr(\"x\", text_offset_x)\n                        .attr(\"y\", row_height / 2)\n                        .attr(\"dy\", \"0.35em\")\n                        .attr(\"text-anchor\", \"start\")\n                        .text(d => {\n                            return getPrevalenceValue(d[col.field], col, d);\n                        });\n                    // TODO: for prevalence column only, show fraction (e.g., 404/414)\n                    // .on(\"mouseover\", function (event, d ) {\n                    //     tooltipDispatcher.call(\"show\", null, {\n                    //         content: '',\n                    //         event: event\n                    //     });\n                    // })\n                    // .on(\"mouseout\", function () {\n                    //     tooltipDispatcher.call(\"hide\");\n                    // });\n                } else {\n\n                    function getHighestPrevalenceSeriesName(d) {\n                        if (d.cohort1_prevalence > d.cohort2_prevalence) return 0;\n                        if (d.cohort1_prevalence < d.cohort2_prevalence) return 1;\n                        return 0;\n                    }\n\n                    switch (col.type) {\n                        case \"text\":\n                            cell.append(\"text\")\n                                .attr(\"x\", text_offset_x)\n                                .attr(\"y\", row_height / 2)\n                                .attr(\"dy\", \"0.35em\")\n                                .attr(\"text-anchor\", \"start\")\n                                .text(d => {\n                                    return getPrevalenceValue(d[col.field], col, d);\n                                });\n                            // TODO: for prevalence columns only, show fraction (e.g., 404/414)\n                            // .on(\"mouseover\", function (event, d ) {\n                            //     tooltipDispatcher.call(\"show\", null, {\n                            //         content: '',\n                            //         event: event\n                            //     });\n                            // })\n                            // .on(\"mouseout\", function () {\n                            //     tooltipDispatcher.call(\"hide\");\n                            // });\n                            break;\n\n                        case \"bar\":\n                            biasScale\n                                .domain([0, max_bias || 1])\n                                .range([margin, col.width - margin]);  // full available space inside cell\n\n                            cell.each(function (d) {\n                                g = d3.select(this);\n                                outerHeight = row_height;\n                                innerY = margin;\n                                innerH = outerHeight - 2 * margin;\n\n                                // Bar: left-aligned, scaled to bias value\n                                g.append(\"rect\")\n                                    .attr(\"x\", 0)\n                                    .attr(\"y\", innerY)\n                                    .attr(\"width\", biasScale(Math.abs(d.metrics['1'].prevalence)))\n                                    .attr(\"height\", innerH)\n                                    .attr(\"fill\", \"lightslategrey\");\n\n                                // Text: show the bias value\n                                g.append(\"text\")\n                                    .attr(\"x\", 4)  // small left inset\n                                    .attr(\"y\", outerHeight / 2 + 4)\n                                    .attr(\"font-size\", font_size)\n                                    .attr(\"fill\", \"black\")\n                                    .text(Math.abs(d.metrics['1'].count !== null ? Math.abs(d.metrics['1'].count).toFixed(prevalence_dp) :\n                                        dafault_prevalence.toFixed(prevalence_dp)));\n                            });\n                            break;\n\n                        case \"compare_bars\":\n                            barScale\n                                .domain([-max_diff || -1, max_diff || 1])\n                                .range([margin, col.width - margin]);  // full available space inside cell\n\n                            zeroX = barScale(0);\n\n                            cell.each(function (d) {\n                                g = d3.select(this);\n                                outerHeight = row_height;\n                                innerY = 5;\n                                innerH = outerHeight - 2 * margin;\n\n                                // x = 0 marker\n                                g.append(\"line\")\n                                    .attr(\"x1\", zeroX)\n                                    .attr(\"y1\", 0)\n                                    .attr(\"x2\", zeroX)\n                                    .attr(\"y2\", outerHeight)\n                                    .attr(\"stroke\", \"grey\")\n                                    .attr(\"stroke-width\", 1)\n                                    .attr(\"stroke-dasharray\", \"3,3\");\n\n                                const diff_val = d.difference_in_prevalence;\n                                const abs_diff = Math.abs(diff_val);\n                                // console.log('d', d);\n\n                                // Bar (only if difference is significant enough to be visible)\n                                if (abs_diff >= 0.001) {\n                                    g.append(\"rect\")\n                                        .attr(\"x\", Math.min(zeroX, barScale(diff_val)))\n                                        .attr(\"y\", innerY)\n                                        .attr(\"width\", Math.abs(barScale(diff_val) - zeroX))\n                                        .attr(\"height\", innerH)\n                                        .attr(\"fill\", diff_val < 0 ? color(shortnames[1]) : color(shortnames[0]))\n                                        .on(\"mouseover\", function (event, d) {\n                                            const highest_prevalence = getHighestPrevalenceSeriesName(d);\n                                            let highest_series_name = \"\";\n                                            if(highest_prevalence >= 0)\n                                                highest_series_name = shortnames[highest_prevalence];\n\n                                            tooltipDispatcher.call(\"show\", null, {\n                                                content: getTooltipContent(d, highest_series_name),\n                                                event: event\n                                            });\n                                        })\n                                        .on(\"mouseout\", function () {\n                                            tooltipDispatcher.call(\"hide\");\n                                        });\n                                }\n\n                                // Invisible hover rectangle for small/zero values\n                                if (abs_diff <= 0.005) {\n                                    const hover_width = barScale(0.2) - barScale(0); // Width for 0.2 difference\n                                    g.append(\"rect\")\n                                        .attr(\"x\", zeroX - hover_width/2)\n                                        .attr(\"y\", innerY)\n                                        .attr(\"width\", hover_width)\n                                        .attr(\"height\", innerH)\n                                        .attr(\"fill\", \"transparent\")\n                                        .attr(\"opacity\", 0)\n                                        .style(\"cursor\", \"pointer\")\n                                        .on(\"mouseover\", function (event, d) {\n                                            const highest_prevalence = getHighestPrevalenceSeriesName(d);\n                                            let highest_series_name = \"\";\n                                            if(highest_prevalence >= 0)\n                                                highest_series_name = shortnames[highest_prevalence];\n\n                                            tooltipDispatcher.call(\"show\", null, {\n                                                content: getTooltipContent(d, highest_series_name),\n                                                event: event\n                                            });\n                                        })\n                                        .on(\"mouseout\", function () {\n                                            tooltipDispatcher.call(\"hide\");\n                                        });\n                                }\n\n                                // Text label - positioned based on value sign\n                                const textX = d.difference_in_prevalence >= 0 ?\n                                    Math.min(zeroX, barScale(d.difference_in_prevalence)) - 5 : // Left of positive bars\n                                    Math.max(zeroX, barScale(d.difference_in_prevalence)) + 5;  // Right of negative bars\n\n                                const textAnchor = d.difference_in_prevalence >= 0 ? \"end\" : \"start\";\n\n                                // g.append(\"text\")\n                                //     .attr(\"x\", textX)\n                                //     .attr(\"y\", row_height / 2 + 4)\n                                //     .attr(\"text-anchor\", textAnchor)\n                                //     .attr(\"font-size\", font_size)\n                                //     .text(d.difference_in_prevalence !== null ?\n                                //         Math.abs(d.difference_in_prevalence.toFixed(prevalence_dp)) :\n                                //         dafault_prevalence.toFixed(prevalence_dp));\n                            });\n                            break;\n\n                        default:\n                            throw new Error(`Unknown column type: ${col.type}`);\n                    }\n                }\n            });\n        }\n\n        // callback function for handling row selection\n        function onRowSelect(rowData, isSelected) {\n            console.log(`Row ${isSelected ? 'selected' : 'deselected'}:`, rowData);\n            // TODO: add selection logic here\n        }\n\n        function updateTableBody() {\n            const page_data = getCurrentPageData();\n\n            const rows = rows_g.selectAll(\".row\")\n                .data(page_data, d => d.concept_code);\n\n            // Remove exiting rows\n            rows.exit().remove();\n\n            // Add new rows\n            const rowsEnter = rows.enter()\n                .append(\"g\")\n                .attr(\"class\", \"row\");\n\n            // Merge enter and update selections\n            const rowsUpdate = rowsEnter.merge(rows);\n\n            // Update positions with transition\n            rowsUpdate\n                .transition()\n                .duration(150)\n                .ease(d3.easeQuadOut)\n                .attr(\"transform\", (d, i) => `translate(0, ${i * row_height})`);\n\n            // Render cells for new rows only\n            renderTableCells(rowsEnter);\n\n            // Update pagination controls\n            updatePaginationControls();\n        }\n\n        // === ADD PAGINATION CONTROLS ===\n        const pagination_container = container.append(\"div\")\n            .style(\"padding\", \"5px 10px\")\n            .style(\"border-top\", \"1px solid #ccc\")\n            .style(\"background\", \"#f9f9f9\")\n            .style(\"display\", \"flex\")\n            .style(\"justify-content\", \"space-between\")\n            .style(\"align-items\", \"center\");\n\n        // Left side - page info\n        pagination_container.append(\"div\")\n            .attr(\"class\", \"page-info\")\n            .style(\"color\", \"#666\");\n\n        // Right side - navigation controls\n        const nav_container = pagination_container.append(\"div\")\n            .style(\"display\", \"flex\")\n            .style(\"gap\", \"5px\")\n            .style(\"align-items\", \"center\");\n\n        const prev_btn = nav_container.append(\"button\")\n            .attr(\"class\", \"prev-btn\")\n            .style(\"padding\", \"2px 6px\")\n            .style(\"border\", \"1px solid #ccc\")\n            .style(\"background\", \"#fff\")\n            .style(\"cursor\", \"pointer\")\n            .text(\"<\")\n            .on(\"click\", function() {\n                if (current_page > 0) {\n                    current_page--;\n                    updateTableBody();\n                }\n            });\n\n        // Add page jump input\n        nav_container.append(\"span\")\n            .text(\"Page\");\n\n        const page_input = nav_container.append(\"input\")\n            .attr(\"type\", \"number\")\n            .attr(\"min\", 1)\n            .style(\"width\", \"40px\")\n            .style(\"padding\", \"2px\")\n            .style(\"border\", \"1px solid #ccc\")\n            .style(\"text-align\", \"center\")\n            .on(\"change\", function() {\n                const page_num = parseInt(this.value);\n                const total_pages = getTotalPages();\n                if (page_num >= 1 && page_num <= total_pages) {\n                    current_page = page_num - 1; // Convert to 0-based index\n                    updateTableBody();\n                } else {\n                    // Reset to current page if invalid\n                    this.value = current_page + 1;\n                }\n            });\n\n        nav_container.append(\"span\")\n            .attr(\"class\", \"total-pages\");\n\n        const next_btn = nav_container.append(\"button\")\n            .attr(\"class\", \"next-btn\")\n            .style(\"padding\", \"2px 6px\")\n            .style(\"border\", \"1px solid #ccc\")\n            .style(\"background\", \"#fff\")\n            .style(\"cursor\", \"pointer\")\n            .text(\">\")\n            .on(\"click\", function() {\n                if (current_page < getTotalPages() - 1) {\n                    current_page++;\n                    updateTableBody();\n                }\n            });\n\n        // Initial render\n        const initial_page_data = getCurrentPageData();\n        // console.log('initial_page_data', initial_page_data);\n        const row = rows_g.selectAll(\".row\")\n            .data(initial_page_data)\n            .enter()\n            .append(\"g\")\n            .attr(\"class\", \"row\")\n            .attr(\"transform\", (d, i) => `translate(0, ${i * row_height})`);\n\n        renderTableCells(row);\n\n        // Initialize with descending sort on difference_in_prevalence if we have comparison data\n        // or on prevalence for single dataset tables\n        if (!isSingleCohort()) {\n            const diffColumn = columns_data.find(col => col.field === \"difference_in_prevalence\");\n            if (diffColumn) {\n                diffColumn.sortDirection = \"desc\";\n                handleSort(diffColumn, true); // Skip toggle for initialization\n            }\n        } else {\n            // For single dataset, sort by prevalence (which uses a function field)\n            const prevalenceColumn = columns_data.find(col =>\n                typeof col.field === \"function\" && col.field.toString().includes(\"prevalence\")\n            );\n            if (prevalenceColumn) {\n                prevalenceColumn.sortDirection = \"desc\";\n                handleSort(prevalenceColumn, true); // Skip toggle for initialization\n            }\n        }\n\n        // Initialize pagination controls\n        updatePaginationControls();\n\n        return container.node();\n    }\n\n    // </editor-fold>\n\n    // <editor-fold desc=\"---------- PAGE LAYOUT ----------\">\n\n    // overall container\n    const vis_container = d3.select(el).append(\"div\").attr('class', 'vis-container');\n\n    // summary container row\n    const div_cohort_summary = vis_container.append('div').attr('class', 'row-container cohort-summary');\n\n    // demographics row\n    const demographics_row = vis_container.append('div').attr('class', 'row-container');\n    const div_gender = demographics_row.append('div').attr('class', 'col-container');\n    const div_race = demographics_row.append('div').attr('class', 'col-container');\n    // const div_ethnicity = demographics_row.append('div').attr('class', 'col-container');\n    const div_age = demographics_row.append('div').attr('class', 'col-container');\n\n    // concepts row\n    const concepts_row = vis_container.append('div').attr('class', 'row-container concepts-row');\n    const div_concepts_table_container = concepts_row.append('div').attr('class', 'col-container');\n    // const div_concept_dragbar = concepts_row.append('div').attr('class', 'col-container dragbar');\n    // const div_concept_detail_container = concepts_row.append('div').attr('class', 'col-container');\n\n    // concepts controls row\n    const div_concepts_ctrl = div_concepts_table_container.append('div')\n        .attr('class', 'row-container')\n        .style('display', 'flex')\n        .style('justify-content', 'flex-start')\n        .style('border', 'none');\n\n    // the container row for the concepts table itself\n    const div_concepts_table = div_concepts_table_container.append('div').attr('class', 'row-container');\n\n    // </editor-fold>\n\n    // <editor-fold desc=\"---------- INSERT THE VISUALIZATIONS ----------\">\n\n    const cohort2_exists = dataEntityExists(cohort2_stats); // assumption: if this exists, the rest of the cohort 2 data also exists\n\n    // summary statistics\n    SummaryStatistics(div_cohort_summary, {data: cohort1_stats, meta: cohort1_meta, shortname: cohort1_shortname},\n        {series2: {data: cohort2_stats, meta: cohort2_meta, shortname: cohort2_shortname}});\n\n    // draw the gender barchart\n    let series2_data = cohort2_exists ?\n        {data: gender_dist2, shortname: cohort2_shortname, total_count: cohort2_stats[0].total_count} : {};\n    div_gender.append(() =>\n        VerticalBarChart({data: gender_dist1, shortname: cohort1_shortname, total_count: cohort1_stats[0].total_count},\n            {series2: series2_data, dimensions: {xlabel: 'gender'}})\n    );\n\n    series2_data = cohort2_exists ?\n        {data: race_stats2, shortname: cohort2_shortname, total_count: cohort2_stats[0].total_count} : {};\n    div_race.append(() =>\n        VerticalBarChart({data: race_stats1, shortname: cohort1_shortname, total_count: cohort1_stats[0].total_count},\n            {series2: series2_data, dimensions: {xlabel: 'race'}})\n    );\n\n    // series2_data = cohort2_exists ?\n    //     {data: ethnicity_stats2, shortname: cohort2_shortname, total_count: cohort2_stats[0].total_count} : {};\n    // div_ethnicity.append(() =>\n    //     VerticalBarChart({data: ethnicity_stats1, shortname: cohort1_shortname, total_count: cohort1_stats[0].total_count},\n    //         {series2: series2_data, dimensions: {xlabel: 'ethnicity'}})\n    // );\n\n    series2_data = cohort2_exists ?\n        {data: age_dist2, shortname: cohort2_shortname, total_count: cohort2_stats[0].total_count} : {};\n    div_age.append(() =>\n        VerticalBarChart({data: age_dist1, shortname: cohort1_shortname, total_count: cohort1_stats[0].total_count},\n            {series2: series2_data, dimensions: {xlabel: 'age'}})\n    );\n\n    // draw the concepts table search box\n    div_concepts_ctrl.append(() =>\n        SearchBox(conceptsTableDispatcher, {label: 'Filter concept code or name'})\n    );\n\n    const default_prevalence_dp = 3;\n    div_concepts_ctrl.append(() =>\n        SpinnerBox(conceptsTableDispatcher, {label: 'Prev dp'})\n    );\n\n    div_concepts_table.append(() =>\n        ConceptsTable(conceptsTableDispatcher, cond_hier, [cohort1_shortname, cohort2_shortname])\n    );\n\n    // </editor-fold>\n\n    // return () => {\n    //   // Optional: Called when the view is destroyed.\n    // }\n\n} // end render\n\n// export default async () => {\n//   let extraState = {};\n//   return {\n//     initialize({ model }) { /* ... */ },\n//     render({ model, el }) { /* ... */ },\n//   }\n// }\n\nexport default { render };\n",
       "_ethnicity_stats1": [
        {
         "ethnicity": "other",
         "ethnicity_count": 4718,
         "probability": 1
        }
       ],
       "_ethnicity_stats2": [
        {
         "ethnicity": "other",
         "ethnicity_count": 8555,
         "probability": 1
        }
       ],
       "_gender_dist1": [
        {
         "gender": "female",
         "gender_count": 0,
         "probability": 0
        },
        {
         "gender": "male",
         "gender_count": 4718,
         "probability": 100
        },
        {
         "gender": "other",
         "gender_count": 0,
         "probability": 0
        }
       ],
       "_gender_dist2": [
        {
         "gender": "female",
         "gender_count": 3744,
         "probability": 43.76
        },
        {
         "gender": "male",
         "gender_count": 4811,
         "probability": 56.24
        },
        {
         "gender": "other",
         "gender_count": 0,
         "probability": 0
        }
       ],
       "_model_module": "anywidget",
       "_model_module_version": "~0.9.*",
       "_model_name": "AnyModel",
       "_race_stats1": [
        {
         "probability": 0.01,
         "race": "Other",
         "race_count": 58
        },
        {
         "probability": 0.1,
         "race": "Asian",
         "race_count": 489
        },
        {
         "probability": 0.12,
         "race": "Black or African American",
         "race_count": 573
        },
        {
         "probability": 0.76,
         "race": "White",
         "race_count": 3598
        }
       ],
       "_race_stats2": [
        {
         "probability": 0.01,
         "race": "Other",
         "race_count": 88
        },
        {
         "probability": 0.12,
         "race": "Asian",
         "race_count": 1027
        },
        {
         "probability": 0.13,
         "race": "Black or African American",
         "race_count": 1101
        },
        {
         "probability": 0.74,
         "race": "White",
         "race_count": 6339
        }
       ],
       "_view_module": "anywidget",
       "_view_module_version": "~0.9.*",
       "_view_name": "AnyView",
       "initialized": true,
       "layout": "IPY_MODEL_f2435db9eaf24c039868121748ce09c0"
      }
     },
     "74e769bb352c4e59a6514f3cfa2007a0": {
      "model_module": "@jupyter-widgets/controls",
      "model_module_version": "2.0.0",
      "model_name": "FloatProgressModel",
      "state": {
       "layout": "IPY_MODEL_f41e1537ece04b53891675e83377adb9",
       "max": 3,
       "style": "IPY_MODEL_229a73e6d8014e90bc44d14dd61ccf78",
       "value": 3
      }
     },
     "7e7c49d3c48d4eb79f3eea33468df6b4": {
      "model_module": "@jupyter-widgets/base",
      "model_module_version": "2.0.0",
      "model_name": "LayoutModel",
      "state": {}
     },
     "8e0418750e654b53b937025290e10f5f": {
      "model_module": "@jupyter-widgets/base",
      "model_module_version": "2.0.0",
      "model_name": "LayoutModel",
      "state": {}
     },
     "92038ea35451474f9b36f9693aeddd9b": {
      "model_module": "@jupyter-widgets/base",
      "model_module_version": "2.0.0",
      "model_name": "LayoutModel",
      "state": {}
     },
     "9c7b396f9c66493db7b77f0e1e5ec5eb": {
      "model_module": "@jupyter-widgets/base",
      "model_module_version": "2.0.0",
      "model_name": "LayoutModel",
      "state": {
       "width": "auto"
      }
     },
     "9d42a8c9cbbb4fc4a2d163d64754e74b": {
      "model_module": "@jupyter-widgets/controls",
      "model_module_version": "2.0.0",
      "model_name": "ProgressStyleModel",
      "state": {
       "bar_color": "black",
       "description_width": ""
      }
     },
     "9e82ff8528374c7a9b1b6b2c8174d4ea": {
      "model_module": "anywidget",
      "model_module_version": "~0.9.*",
      "model_name": "AnyModel",
      "state": {
       "_age_dist1": [
        {
         "age_bin": "0-10",
         "bin_count": 4,
         "probability": 8.0E-4
        },
        {
         "age_bin": "11-20",
         "bin_count": 94,
         "probability": 0.0199
        },
        {
         "age_bin": "21-30",
         "bin_count": 1451,
         "probability": 0.3075
        },
        {
         "age_bin": "31-40",
         "bin_count": 1688,
         "probability": 0.3578
        },
        {
         "age_bin": "41-50",
         "bin_count": 1317,
         "probability": 0.2791
        },
        {
         "age_bin": "51-60",
         "bin_count": 164,
         "probability": 0.0348
        },
        {
         "age_bin": "61-70",
         "bin_count": 0,
         "probability": 0
        },
        {
         "age_bin": "71-80",
         "bin_count": 0,
         "probability": 0
        },
        {
         "age_bin": "81-90",
         "bin_count": 0,
         "probability": 0
        },
        {
         "age_bin": "91+",
         "bin_count": 0,
         "probability": 0
        }
       ],
       "_anywidget_id": "ViewCohorts.ViewCohorts",
       "_cohort1_meta": {
        "created_by": "system",
        "created_date": "2025-10-15",
        "creation_info": "WITH ranked_events_condition_occurrence AS ( SELECT person_id, condition_concept_id AS concept_id, condition_start_date AS event_start_date, condition_end_date AS event_end_date, ROW_NUMBER() OVER ( PARTITION BY person_id, condition_concept_id ORDER BY condition_start_date ASC ) AS event_instance FROM condition_occurrence ), domain_qualifying_events AS ( (SELECT person_id, event_start_date, event_end_date FROM ranked_events_condition_occurrence WHERE concept_id = 201826) ), filtered_cohort AS ( SELECT c.person_id, MIN(c.event_start_date) AS cohort_start_date, MAX(c.event_end_date) AS cohort_end_date FROM domain_qualifying_events c JOIN person p ON c.person_id = p.person_id WHERE 1=1 AND p.gender_concept_id = 8507 AND p.year_of_birth <= 1990 GROUP BY c.person_id ) SELECT * FROM filtered_cohort f",
        "description": "Diabetes patients for the study cohort",
        "id": 1,
        "name": "Diabetes patients"
       },
       "_cohort1_shortname": "study",
       "_cohort1_stats": [
        {
         "avg_duration_days": null,
         "earliest_end_date": null,
         "earliest_start_date": "1928-04-04",
         "latest_end_date": null,
         "latest_start_date": "2020-05-12",
         "max_duration_days": null,
         "median_duration": null,
         "min_duration_days": null,
         "stddev_duration": null,
         "total_count": 4718
        }
       ],
       "_cond_hier": [
        {
         "children": [],
         "concept_code": "44054006",
         "concept_id": 201826,
         "concept_name": "Type 2 diabetes mellitus",
         "metrics": {
          "1": {
           "count": 4718,
           "prevalence": 1
          }
         },
         "parent_ids": [
          201820
         ],
         "source_cohorts": [
          1
         ]
        },
        {
         "children": [],
         "concept_code": "302870006",
         "concept_id": 4120314,
         "concept_name": "Hypertriglyceridemia",
         "metrics": {
          "1": {
           "count": 4650,
           "prevalence": 0.9855871131835523
          }
         },
         "parent_ids": [
          432867
         ],
         "source_cohorts": [
          1
         ]
        },
        {
         "children": [],
         "concept_code": "237602007",
         "concept_id": 436940,
         "concept_name": "Metabolic syndrome X",
         "metrics": {
          "1": {
           "count": 4620,
           "prevalence": 0.9792284866468842
          }
         },
         "parent_ids": [
          436670
         ],
         "source_cohorts": [
          1
         ]
        },
        {
         "children": [],
         "concept_code": "271737000",
         "concept_id": 439777,
         "concept_name": "Anemia",
         "metrics": {
          "1": {
           "count": 3329,
           "prevalence": 0.7055955913522679
          }
         },
         "parent_ids": [
          4267432,
          4013074,
          443723
         ],
         "source_cohorts": [
          1
         ]
        },
        {
         "children": [],
         "concept_code": "840539006",
         "concept_id": 37311061,
         "concept_name": "COVID-19",
         "metrics": {
          "1": {
           "count": 2704,
           "prevalence": 0.5731242051716829
          }
         },
         "parent_ids": [
          439676
         ],
         "source_cohorts": [
          1
         ]
        },
        {
         "children": [],
         "concept_code": "386661006",
         "concept_id": 437663,
         "concept_name": "Fever",
         "metrics": {
          "1": {
           "count": 2421,
           "prevalence": 0.513141161509114
          }
         },
         "parent_ids": [
          4178904
         ],
         "source_cohorts": [
          1
         ]
        },
        {
         "children": [],
         "concept_code": "80394007",
         "concept_id": 4214376,
         "concept_name": "Hyperglycemia",
         "metrics": {
          "1": {
           "count": 2415,
           "prevalence": 0.5118694362017804
          }
         },
         "parent_ids": [
          4130526
         ],
         "source_cohorts": [
          1
         ]
        },
        {
         "children": [],
         "concept_code": "431855005",
         "concept_id": 443614,
         "concept_name": "Chronic kidney disease stage 1",
         "metrics": {
          "1": {
           "count": 2374,
           "prevalence": 0.5031793132683341
          }
         },
         "parent_ids": [
          46271022
         ],
         "source_cohorts": [
          1
         ]
        },
        {
         "children": [],
         "concept_code": "49727002",
         "concept_id": 254761,
         "concept_name": "Cough",
         "metrics": {
          "1": {
           "count": 1801,
           "prevalence": 0.38172954641797374
          }
         },
         "parent_ids": [
          4267789
         ],
         "source_cohorts": [
          1
         ]
        },
        {
         "children": [],
         "concept_code": "368581000119106",
         "concept_id": 37016354,
         "concept_name": "Neuropathy due to type 2 diabetes mellitus",
         "metrics": {
          "1": {
           "count": 1635,
           "prevalence": 0.3465451462484103
          }
         },
         "parent_ids": [
          4044391,
          376065
         ],
         "source_cohorts": [
          1
         ]
        },
        {
         "children": [],
         "concept_code": "9414007",
         "concept_id": 4311629,
         "concept_name": "Impaired glucose tolerance",
         "metrics": {
          "1": {
           "count": 1605,
           "prevalence": 0.34018651971174224
          }
         },
         "parent_ids": [
          4130161,
          31821
         ],
         "source_cohorts": [
          1
         ]
        },
        {
         "children": [],
         "concept_code": "36955009",
         "concept_id": 4289517,
         "concept_name": "Loss of taste",
         "metrics": {
          "1": {
           "count": 1396,
           "prevalence": 0.29588808817295464
          }
         },
         "parent_ids": [
          44783587,
          4022570,
          4296465
         ],
         "source_cohorts": [
          1
         ]
        },
        {
         "children": [],
         "concept_code": "59621000",
         "concept_id": 320128,
         "concept_name": "Essential hypertension",
         "metrics": {
          "1": {
           "count": 1319,
           "prevalence": 0.27956761339550656
          }
         },
         "parent_ids": [
          316866
         ],
         "source_cohorts": [
          1
         ]
        },
        {
         "children": [],
         "concept_code": "84229001",
         "concept_id": 4223659,
         "concept_name": "Fatigue",
         "metrics": {
          "1": {
           "count": 1047,
           "prevalence": 0.22191606612971598
          }
         },
         "parent_ids": [
          4022830,
          4230389
         ],
         "source_cohorts": [
          1
         ]
        },
        {
         "children": [],
         "concept_code": "233604007",
         "concept_id": 255848,
         "concept_name": "Pneumonia",
         "metrics": {
          "1": {
           "count": 1010,
           "prevalence": 0.21407376006782536
          }
         },
         "parent_ids": [
          253506,
          4318404
         ],
         "source_cohorts": [
          1
         ]
        },
        {
         "children": [],
         "concept_code": "389087006",
         "concept_id": 437390,
         "concept_name": "Hypoxemia",
         "metrics": {
          "1": {
           "count": 994,
           "prevalence": 0.21068249258160238
          }
         },
         "parent_ids": [
          4080012
         ],
         "source_cohorts": [
          1
         ]
        },
        {
         "children": [],
         "concept_code": "271825005",
         "concept_id": 4158346,
         "concept_name": "Respiratory distress",
         "metrics": {
          "1": {
           "count": 994,
           "prevalence": 0.21068249258160238
          }
         },
         "parent_ids": [
          4041664,
          4239819
         ],
         "source_cohorts": [
          1
         ]
        },
        {
         "children": [],
         "concept_code": "248595008",
         "concept_id": 4089228,
         "concept_name": "Sputum finding",
         "metrics": {
          "1": {
           "count": 922,
           "prevalence": 0.19542178889359899
          }
         },
         "parent_ids": [
          441840
         ],
         "source_cohorts": [
          1
         ]
        },
        {
         "children": [],
         "concept_code": "92691004",
         "concept_id": 200970,
         "concept_name": "Carcinoma in situ of prostate",
         "metrics": {
          "1": {
           "count": 792,
           "prevalence": 0.1678677405680373
          }
         },
         "parent_ids": [
          196068,
          4129902
         ],
         "source_cohorts": [
          1
         ]
        },
        {
         "children": [],
         "concept_code": "53741008",
         "concept_id": 317576,
         "concept_name": "Coronary arteriosclerosis",
         "metrics": {
          "1": {
           "count": 711,
           "prevalence": 0.1506994489190335
          }
         },
         "parent_ids": [
          4187067,
          4027255,
          318443
         ],
         "source_cohorts": [
          1
         ]
        },
        {
         "children": [],
         "concept_code": "1551000119108",
         "concept_id": 43530656,
         "concept_name": "Nonproliferative retinopathy due to type 2 diabetes mellitus",
         "metrics": {
          "1": {
           "count": 700,
           "prevalence": 0.14836795252225518
          }
         },
         "parent_ids": [
          4226121,
          376683
         ],
         "source_cohorts": [
          1
         ]
        },
        {
         "children": [],
         "concept_code": "56018004",
         "concept_id": 314754,
         "concept_name": "Wheezing",
         "metrics": {
          "1": {
           "count": 620,
           "prevalence": 0.13141161509114033
          }
         },
         "parent_ids": [
          4115387
         ],
         "source_cohorts": [
          1
         ]
        },
        {
         "children": [],
         "concept_code": "267036007",
         "concept_id": 312437,
         "concept_name": "Dyspnea",
         "metrics": {
          "1": {
           "count": 620,
           "prevalence": 0.13141161509114033
          }
         },
         "parent_ids": [
          4041664
         ],
         "source_cohorts": [
          1
         ]
        },
        {
         "children": [],
         "concept_code": "230690007",
         "concept_id": 381316,
         "concept_name": "Cerebrovascular accident",
         "metrics": {
          "1": {
           "count": 570,
           "prevalence": 0.12081390419669351
          }
         },
         "parent_ids": [
          4133611,
          381591
         ],
         "source_cohorts": [
          1
         ]
        },
        {
         "children": [],
         "concept_code": "65710008",
         "concept_id": 319049,
         "concept_name": "Acute respiratory failure",
         "metrics": {
          "1": {
           "count": 560,
           "prevalence": 0.11869436201780416
          }
         },
         "parent_ids": [
          4006969,
          4256228
         ],
         "source_cohorts": [
          1
         ]
        },
        {
         "children": [],
         "concept_code": "40055000",
         "concept_id": 257012,
         "concept_name": "Chronic sinusitis",
         "metrics": {
          "1": {
           "count": 527,
           "prevalence": 0.11169987282746927
          }
         },
         "parent_ids": [
          4063381,
          444208,
          4283893
         ],
         "source_cohorts": [
          1
         ]
        },
        {
         "children": [],
         "concept_code": "770349000",
         "concept_id": 36674642,
         "concept_name": "Sepsis caused by virus",
         "metrics": {
          "1": {
           "count": 504,
           "prevalence": 0.10682492581602374
          }
         },
         "parent_ids": [
          440029,
          132797,
          4027384
         ],
         "source_cohorts": [
          1
         ]
        },
        {
         "children": [],
         "concept_code": "49436004",
         "concept_id": 313217,
         "concept_name": "Atrial fibrillation",
         "metrics": {
          "1": {
           "count": 499,
           "prevalence": 0.10576515472657906
          }
         },
         "parent_ids": [
          4226399,
          4068155
         ],
         "source_cohorts": [
          1
         ]
        },
        {
         "children": [],
         "concept_code": "88805009",
         "concept_id": 4229440,
         "concept_name": "Chronic congestive heart failure",
         "metrics": {
          "1": {
           "count": 487,
           "prevalence": 0.10322170411191182
          }
         },
         "parent_ids": [
          444031,
          319835
         ],
         "source_cohorts": [
          1
         ]
        },
        {
         "children": [],
         "concept_code": "444814009",
         "concept_id": 40481087,
         "concept_name": "Viral sinusitis",
         "metrics": {
          "1": {
           "count": 457,
           "prevalence": 0.09686307757524375
          }
         },
         "parent_ids": [
          4283893,
          4085100,
          4176944
         ],
         "source_cohorts": [
          1
         ]
        },
        {
         "children": [],
         "concept_code": "57676002",
         "concept_id": 77074,
         "concept_name": "Joint pain",
         "metrics": {
          "1": {
           "count": 428,
           "prevalence": 0.0907164052564646
          }
         },
         "parent_ids": [
          4150129,
          4179167
         ],
         "source_cohorts": [
          1
         ]
        },
        {
         "children": [],
         "concept_code": "239873007",
         "concept_id": 4079750,
         "concept_name": "Osteoarthritis of knee",
         "metrics": {
          "1": {
           "count": 395,
           "prevalence": 0.08372191606612972
          }
         },
         "parent_ids": [
          80180,
          4324765
         ],
         "source_cohorts": [
          1
         ]
        },
        {
         "children": [],
         "concept_code": "267102003",
         "concept_id": 4147326,
         "concept_name": "Sore throat symptom",
         "metrics": {
          "1": {
           "count": 385,
           "prevalence": 0.08160237388724036
          }
         },
         "parent_ids": [
          259153,
          4116809,
          4303401,
          4114487,
          4115406
         ],
         "source_cohorts": [
          1
         ]
        },
        {
         "children": [],
         "concept_code": "68496003",
         "concept_id": 4285898,
         "concept_name": "Polyp of colon",
         "metrics": {
          "1": {
           "count": 382,
           "prevalence": 0.08096651123357355
          }
         },
         "parent_ids": [
          4143250,
          4164337,
          45763613
         ],
         "source_cohorts": [
          1
         ]
        },
        {
         "children": [],
         "concept_code": "90781000119102",
         "concept_id": 45769905,
         "concept_name": "Microalbuminuria due to type 2 diabetes mellitus",
         "metrics": {
          "1": {
           "count": 377,
           "prevalence": 0.07990674014412887
          }
         },
         "parent_ids": [
          45757499,
          4128221
         ],
         "source_cohorts": [
          1
         ]
        },
        {
         "children": [],
         "concept_code": "25064002",
         "concept_id": 378253,
         "concept_name": "Headache",
         "metrics": {
          "1": {
           "count": 374,
           "prevalence": 0.07927087749046206
          }
         },
         "parent_ids": [
          4132926,
          4247371
         ],
         "source_cohorts": [
          1
         ]
        },
        {
         "children": [],
         "concept_code": "64859006",
         "concept_id": 80502,
         "concept_name": "Osteoporosis",
         "metrics": {
          "1": {
           "count": 371,
           "prevalence": 0.07863501483679525
          }
         },
         "parent_ids": [
          75909
         ],
         "source_cohorts": [
          1
         ]
        },
        {
         "children": [],
         "concept_code": "132281000119108",
         "concept_id": 44782746,
         "concept_name": "Acute deep venous thrombosis",
         "metrics": {
          "1": {
           "count": 364,
           "prevalence": 0.0771513353115727
          }
         },
         "parent_ids": [
          4028367,
          4133004
         ],
         "source_cohorts": [
          1
         ]
        },
        {
         "children": [],
         "concept_code": "43724002",
         "concept_id": 434490,
         "concept_name": "Chill",
         "metrics": {
          "1": {
           "count": 363,
           "prevalence": 0.07693938109368377
          }
         },
         "parent_ids": [
          4087630
         ],
         "source_cohorts": [
          1
         ]
        },
        {
         "children": [],
         "concept_code": "431856006",
         "concept_id": 443601,
         "concept_name": "Chronic kidney disease stage 2",
         "metrics": {
          "1": {
           "count": 355,
           "prevalence": 0.07524374735057228
          }
         },
         "parent_ids": [
          46271022
         ],
         "source_cohorts": [
          1
         ]
        },
        {
         "children": [],
         "concept_code": "706870000",
         "concept_id": 45768439,
         "concept_name": "Acute pulmonary embolism",
         "metrics": {
          "1": {
           "count": 333,
           "prevalence": 0.07058075455701568
          }
         },
         "parent_ids": [
          440417,
          4028367
         ],
         "source_cohorts": [
          1
         ]
        },
        {
         "children": [],
         "concept_code": "22298006",
         "concept_id": 4329847,
         "concept_name": "Myocardial infarction",
         "metrics": {
          "1": {
           "count": 303,
           "prevalence": 0.0642221280203476
          }
         },
         "parent_ids": [
          43530876,
          4185932,
          4354249,
          4239975
         ],
         "source_cohorts": [
          1
         ]
        },
        {
         "children": [],
         "concept_code": "195662009",
         "concept_id": 4112343,
         "concept_name": "Acute viral pharyngitis",
         "metrics": {
          "1": {
           "count": 280,
           "prevalence": 0.05934718100890208
          }
         },
         "parent_ids": [
          257011,
          25297,
          4035987,
          4252853
         ],
         "source_cohorts": [
          1
         ]
        },
        {
         "children": [],
         "concept_code": "424132000",
         "concept_id": 4310703,
         "concept_name": "Non-small cell carcinoma of lung, TNM stage 1",
         "metrics": {
          "1": {
           "count": 242,
           "prevalence": 0.05129292072912251
          }
         },
         "parent_ids": [
          4115276
         ],
         "source_cohorts": [
          1
         ]
        },
        {
         "children": [],
         "concept_code": "97331000119101",
         "concept_id": 45770830,
         "concept_name": "Macular edema and retinopathy due to type 2 diabetes mellitus",
         "metrics": {
          "1": {
           "count": 229,
           "prevalence": 0.04853751589656634
          }
         },
         "parent_ids": [
          35626070
         ],
         "source_cohorts": [
          1
         ]
        },
        {
         "children": [],
         "concept_code": "67782005",
         "concept_id": 4195694,
         "concept_name": "Acute respiratory distress syndrome",
         "metrics": {
          "1": {
           "count": 228,
           "prevalence": 0.04832556167867741
          }
         },
         "parent_ids": [
          4119786,
          4078925,
          4006969
         ],
         "source_cohorts": [
          1
         ]
        },
        {
         "children": [],
         "concept_code": "10509002",
         "concept_id": 260139,
         "concept_name": "Acute bronchitis",
         "metrics": {
          "1": {
           "count": 227,
           "prevalence": 0.04811360746078847
          }
         },
         "parent_ids": [
          4006969,
          4134294,
          256451
         ],
         "source_cohorts": [
          1
         ]
        },
        {
         "children": [],
         "concept_code": "713197008",
         "concept_id": 37017023,
         "concept_name": "Recurrent rectal polyp",
         "metrics": {
          "1": {
           "count": 185,
           "prevalence": 0.03921153030945316
          }
         },
         "parent_ids": [
          4216644,
          440059,
          4134593
         ],
         "source_cohorts": [
          1
         ]
        },
        {
         "children": [],
         "concept_code": "76571007",
         "concept_id": 196236,
         "concept_name": "Septic shock",
         "metrics": {
          "1": {
           "count": 176,
           "prevalence": 0.03730394234845273
          }
         },
         "parent_ids": [
          201965,
          4271450
         ],
         "source_cohorts": [
          1
         ]
        },
        {
         "children": [],
         "concept_code": "7200002",
         "concept_id": 4218106,
         "concept_name": "Alcoholism",
         "metrics": {
          "1": {
           "count": 173,
           "prevalence": 0.03666807969478593
          }
         },
         "parent_ids": [
          36714559,
          4080762
         ],
         "source_cohorts": [
          1
         ]
        },
        {
         "children": [],
         "concept_code": "410429000",
         "concept_id": 321042,
         "concept_name": "Cardiac arrest",
         "metrics": {
          "1": {
           "count": 171,
           "prevalence": 0.03624417125900806
          }
         },
         "parent_ids": [
          44784217
         ],
         "source_cohorts": [
          1
         ]
        },
        {
         "children": [],
         "concept_code": "1501000119109",
         "concept_id": 43530685,
         "concept_name": "Proliferative retinopathy due to type 2 diabetes mellitus",
         "metrics": {
          "1": {
           "count": 168,
           "prevalence": 0.03560830860534125
          }
         },
         "parent_ids": [
          4226121,
          380096
         ],
         "source_cohorts": [
          1
         ]
        },
        {
         "children": [],
         "concept_code": "55680006",
         "concept_id": 4208104,
         "concept_name": "Drug overdose",
         "metrics": {
          "1": {
           "count": 165,
           "prevalence": 0.03497244595167444
          }
         },
         "parent_ids": [
          444363
         ],
         "source_cohorts": [
          1
         ]
        },
        {
         "children": [],
         "concept_code": "314994000",
         "concept_id": 4196262,
         "concept_name": "Metastasis from malignant tumor of prostate",
         "metrics": {
          "1": {
           "count": 164,
           "prevalence": 0.0347604917337855
          }
         },
         "parent_ids": [
          432851
         ],
         "source_cohorts": [
          1
         ]
        },
        {
         "children": [],
         "concept_code": "234466008",
         "concept_id": 4120613,
         "concept_name": "Acquired coagulation disorder",
         "metrics": {
          "1": {
           "count": 151,
           "prevalence": 0.032005086901229336
          }
         },
         "parent_ids": [
          432585
         ],
         "source_cohorts": [
          1
         ]
        },
        {
         "children": [],
         "concept_code": "249497008",
         "concept_id": 4096715,
         "concept_name": "Vomiting symptom",
         "metrics": {
          "1": {
           "count": 143,
           "prevalence": 0.030309453158117845
          }
         },
         "parent_ids": [
          4101344,
          4303401
         ],
         "source_cohorts": [
          1
         ]
        },
        {
         "children": [],
         "concept_code": "422587007",
         "concept_id": 31967,
         "concept_name": "Nausea",
         "metrics": {
          "1": {
           "count": 143,
           "prevalence": 0.030309453158117845
          }
         },
         "parent_ids": [
          4304916
         ],
         "source_cohorts": [
          1
         ]
        },
        {
         "children": [],
         "concept_code": "5602001",
         "concept_id": 438130,
         "concept_name": "Opioid abuse",
         "metrics": {
          "1": {
           "count": 136,
           "prevalence": 0.028825773632895294
          }
         },
         "parent_ids": [
          4239381
         ],
         "source_cohorts": [
          1
         ]
        },
        {
         "children": [],
         "concept_code": "124171000119105",
         "concept_id": 43530652,
         "concept_name": "Chronic intractable migraine without aura",
         "metrics": {
          "1": {
           "count": 135,
           "prevalence": 0.028613819415006358
          }
         },
         "parent_ids": [
          4301371,
          443616,
          4141827
         ],
         "source_cohorts": [
          1
         ]
        },
        {
         "children": [],
         "concept_code": "40095003",
         "concept_id": 4220631,
         "concept_name": "Injury of kidney",
         "metrics": {
          "1": {
           "count": 132,
           "prevalence": 0.027977956761339552
          }
         },
         "parent_ids": [
          37116613,
          4169252,
          45769862,
          198124
         ],
         "source_cohorts": [
          1
         ]
        },
        {
         "children": [],
         "concept_code": "86175003",
         "concept_id": 4311280,
         "concept_name": "Injury of heart",
         "metrics": {
          "1": {
           "count": 129,
           "prevalence": 0.027342094107672743
          }
         },
         "parent_ids": [
          37116489,
          4027255,
          4152156
         ],
         "source_cohorts": [
          1
         ]
        },
        {
         "children": [],
         "concept_code": "239872002",
         "concept_id": 4079749,
         "concept_name": "Osteoarthritis of hip",
         "metrics": {
          "1": {
           "count": 127,
           "prevalence": 0.02691818567189487
          }
         },
         "parent_ids": [
          40483794,
          4177851
         ],
         "source_cohorts": [
          1
         ]
        },
        {
         "children": [],
         "concept_code": "201834006",
         "concept_id": 75036,
         "concept_name": "Localized, primary osteoarthritis of the hand",
         "metrics": {
          "1": {
           "count": 126,
           "prevalence": 0.026706231454005934
          }
         },
         "parent_ids": [
          72993,
          78227
         ],
         "source_cohorts": [
          1
         ]
        },
        {
         "children": [],
         "concept_code": "267060006",
         "concept_id": 4145808,
         "concept_name": "Diarrhea symptom",
         "metrics": {
          "1": {
           "count": 125,
           "prevalence": 0.026494277236116998
          }
         },
         "parent_ids": [
          192731,
          196523
         ],
         "source_cohorts": [
          1
         ]
        },
        {
         "children": [],
         "concept_code": "68235000",
         "concept_id": 4195085,
         "concept_name": "Nasal congestion",
         "metrics": {
          "1": {
           "count": 120,
           "prevalence": 0.02543450614667232
          }
         },
         "parent_ids": [
          4096565
         ],
         "source_cohorts": [
          1
         ]
        },
        {
         "children": [],
         "concept_code": "196416002",
         "concept_id": 4055754,
         "concept_name": "Impacted molars",
         "metrics": {
          "1": {
           "count": 118,
           "prevalence": 0.025010597710894446
          }
         },
         "parent_ids": [
          4123726
         ],
         "source_cohorts": [
          1
         ]
        },
        {
         "children": [],
         "concept_code": "74400008",
         "concept_id": 440448,
         "concept_name": "Appendicitis",
         "metrics": {
          "1": {
           "count": 113,
           "prevalence": 0.023950826621449768
          }
         },
         "parent_ids": [
          433524,
          4201402
         ],
         "source_cohorts": [
          1
         ]
        },
        {
         "children": [],
         "concept_code": "185086009",
         "concept_id": 258780,
         "concept_name": "Emphysematous bronchitis",
         "metrics": {
          "1": {
           "count": 83,
           "prevalence": 0.017592200084781687
          }
         },
         "parent_ids": [
          4279071,
          255841
         ],
         "source_cohorts": [
          1
         ]
        },
        {
         "children": [],
         "concept_code": "87433001",
         "concept_id": 261325,
         "concept_name": "Pulmonary emphysema",
         "metrics": {
          "1": {
           "count": 70,
           "prevalence": 0.01483679525222552
          }
         },
         "parent_ids": [
          255573
         ],
         "source_cohorts": [
          1
         ]
        },
        {
         "children": [],
         "concept_code": "230265002",
         "concept_id": 4043241,
         "concept_name": "Familial Alzheimer's disease of early onset",
         "metrics": {
          "1": {
           "count": 60,
           "prevalence": 0.01271725307333616
          }
         },
         "parent_ids": [
          4008090,
          4218017
         ],
         "source_cohorts": [
          1
         ]
        },
        {
         "children": [],
         "concept_code": "90560007",
         "concept_id": 440674,
         "concept_name": "Gout",
         "metrics": {
          "1": {
           "count": 50,
           "prevalence": 0.0105977108944468
          }
         },
         "parent_ids": [
          4148593,
          4139452
         ],
         "source_cohorts": [
          1
         ]
        },
        {
         "children": [],
         "concept_code": "43878008",
         "concept_id": 28060,
         "concept_name": "Streptococcal sore throat",
         "metrics": {
          "1": {
           "count": 49,
           "prevalence": 0.010385756676557863
          }
         },
         "parent_ids": [
          4193874,
          4207185,
          4193318,
          437779
         ],
         "source_cohorts": [
          1
         ]
        },
        {
         "children": [],
         "concept_code": "47693006",
         "concept_id": 4166224,
         "concept_name": "Rupture of appendix",
         "metrics": {
          "1": {
           "count": 45,
           "prevalence": 0.00953793980500212
          }
         },
         "parent_ids": [
          433524,
          4340361
         ],
         "source_cohorts": [
          1
         ]
        },
        {
         "children": [],
         "concept_code": "67811000119102",
         "concept_id": 37395648,
         "concept_name": "Primary small cell malignant neoplasm of lung, TNM stage 1",
         "metrics": {
          "1": {
           "count": 43,
           "prevalence": 0.009114031369224248
          }
         },
         "parent_ids": [
          4110591
         ],
         "source_cohorts": [
          1
         ]
        },
        {
         "children": [],
         "concept_code": "66857006",
         "concept_id": 261687,
         "concept_name": "Hemoptysis",
         "metrics": {
          "1": {
           "count": 38,
           "prevalence": 0.008054260279779568
          }
         },
         "parent_ids": [
          4024567,
          437312
         ],
         "source_cohorts": [
          1
         ]
        },
        {
         "children": [],
         "concept_code": "109838007",
         "concept_id": 79740,
         "concept_name": "Overlapping malignant neoplasm of colon",
         "metrics": {
          "1": {
           "count": 37,
           "prevalence": 0.007842306061890632
          }
         },
         "parent_ids": [
          197500,
          197227
         ],
         "source_cohorts": [
          1
         ]
        },
        {
         "children": [],
         "concept_code": "65966004",
         "concept_id": 4278672,
         "concept_name": "Fracture of forearm",
         "metrics": {
          "1": {
           "count": 35,
           "prevalence": 0.00741839762611276
          }
         },
         "parent_ids": [
          4050747,
          134222
         ],
         "source_cohorts": [
          1
         ]
        },
        {
         "children": [],
         "concept_code": "44465007",
         "concept_id": 81151,
         "concept_name": "Sprain of ankle",
         "metrics": {
          "1": {
           "count": 34,
           "prevalence": 0.0072064434082238235
          }
         },
         "parent_ids": [
          4344271,
          77162,
          4016673,
          4114605
         ],
         "source_cohorts": [
          1
         ]
        },
        {
         "children": [],
         "concept_code": "6072007",
         "concept_id": 4245614,
         "concept_name": "Bleeding from anus",
         "metrics": {
          "1": {
           "count": 32,
           "prevalence": 0.006782534972445952
          }
         },
         "parent_ids": [
          443951,
          37311947
         ],
         "source_cohorts": [
          1
         ]
        },
        {
         "children": [],
         "concept_code": "236077008",
         "concept_id": 4341247,
         "concept_name": "Protracted diarrhea",
         "metrics": {
          "1": {
           "count": 32,
           "prevalence": 0.006782534972445952
          }
         },
         "parent_ids": [
          196523
         ],
         "source_cohorts": [
          1
         ]
        },
        {
         "children": [],
         "concept_code": "246677007",
         "concept_id": 4080695,
         "concept_name": "Passive conjunctival congestion",
         "metrics": {
          "1": {
           "count": 30,
           "prevalence": 0.00635862653666808
          }
         },
         "parent_ids": [
          4080857
         ],
         "source_cohorts": [
          1
         ]
        },
        {
         "children": [],
         "concept_code": "433144002",
         "concept_id": 443597,
         "concept_name": "Chronic kidney disease stage 3",
         "metrics": {
          "1": {
           "count": 29,
           "prevalence": 0.006146672318779143
          }
         },
         "parent_ids": [
          46271022
         ],
         "source_cohorts": [
          1
         ]
        },
        {
         "children": [],
         "concept_code": "254837009",
         "concept_id": 4112853,
         "concept_name": "Malignant tumor of breast",
         "metrics": {
          "1": {
           "count": 29,
           "prevalence": 0.006146672318779143
          }
         },
         "parent_ids": [
          81251,
          80665
         ],
         "source_cohorts": [
          1
         ]
        },
        {
         "children": [],
         "concept_code": "75498004",
         "concept_id": 4294548,
         "concept_name": "Acute bacterial sinusitis",
         "metrics": {
          "1": {
           "count": 26,
           "prevalence": 0.005510809665112336
          }
         },
         "parent_ids": [
          45766333,
          257011,
          260123
         ],
         "source_cohorts": [
          1
         ]
        },
        {
         "children": [],
         "concept_code": "62106007",
         "concept_id": 378001,
         "concept_name": "Concussion with no loss of consciousness",
         "metrics": {
          "1": {
           "count": 25,
           "prevalence": 0.0052988554472234
          }
         },
         "parent_ids": [
          4001336,
          4133715
         ],
         "source_cohorts": [
          1
         ]
        },
        {
         "children": [],
         "concept_code": "84757009",
         "concept_id": 380378,
         "concept_name": "Epilepsy",
         "metrics": {
          "1": {
           "count": 24,
           "prevalence": 0.005086901229334464
          }
         },
         "parent_ids": [
          4029498
         ],
         "source_cohorts": [
          1
         ]
        },
        {
         "children": [],
         "concept_code": "83664006",
         "concept_id": 4309027,
         "concept_name": "Idiopathic atrophic hypothyroidism",
         "metrics": {
          "1": {
           "count": 24,
           "prevalence": 0.005086901229334464
          }
         },
         "parent_ids": [
          4130023,
          442106,
          138384
         ],
         "source_cohorts": [
          1
         ]
        },
        {
         "children": [],
         "concept_code": "39848009",
         "concept_id": 4218389,
         "concept_name": "Whiplash injury to neck",
         "metrics": {
          "1": {
           "count": 23,
           "prevalence": 0.004874947011445528
          }
         },
         "parent_ids": [
          24818
         ],
         "source_cohorts": [
          1
         ]
        },
        {
         "children": [],
         "concept_code": "70704007",
         "concept_id": 78272,
         "concept_name": "Sprain of wrist",
         "metrics": {
          "1": {
           "count": 23,
           "prevalence": 0.004874947011445528
          }
         },
         "parent_ids": [
          444129,
          4323193,
          4090616,
          4018956,
          4116594
         ],
         "source_cohorts": [
          1
         ]
        },
        {
         "children": [],
         "concept_code": "263102004",
         "concept_id": 4134304,
         "concept_name": "Fracture subluxation of wrist",
         "metrics": {
          "1": {
           "count": 23,
           "prevalence": 0.004874947011445528
          }
         },
         "parent_ids": [
          4015350,
          3654437,
          4054058,
          4085546
         ],
         "source_cohorts": [
          1
         ]
        },
        {
         "children": [],
         "concept_code": "443165006",
         "concept_id": 40480160,
         "concept_name": "Pathological fracture due to osteoporosis",
         "metrics": {
          "1": {
           "count": 22,
           "prevalence": 0.0046629927935565915
          }
         },
         "parent_ids": [
          73571
         ],
         "source_cohorts": [
          1
         ]
        },
        {
         "children": [],
         "concept_code": "16114001",
         "concept_id": 4059173,
         "concept_name": "Fracture of ankle",
         "metrics": {
          "1": {
           "count": 22,
           "prevalence": 0.0046629927935565915
          }
         },
         "parent_ids": [
          4187096,
          77162
         ],
         "source_cohorts": [
          1
         ]
        },
        {
         "children": [],
         "concept_code": "283385000",
         "concept_id": 4152936,
         "concept_name": "Laceration of thigh",
         "metrics": {
          "1": {
           "count": 20,
           "prevalence": 0.00423908435777872
          }
         },
         "parent_ids": [
          4152960,
          4053602
         ],
         "source_cohorts": [
          1
         ]
        },
        {
         "children": [],
         "concept_code": "58150001",
         "concept_id": 4237458,
         "concept_name": "Fracture of clavicle",
         "metrics": {
          "1": {
           "count": 20,
           "prevalence": 0.00423908435777872
          }
         },
         "parent_ids": [
          46270317,
          4050747,
          4151199
         ],
         "source_cohorts": [
          1
         ]
        },
        {
         "children": [],
         "concept_code": "283371005",
         "concept_id": 4155034,
         "concept_name": "Laceration of forearm",
         "metrics": {
          "1": {
           "count": 20,
           "prevalence": 0.00423908435777872
          }
         },
         "parent_ids": [
          4053599,
          4152932
         ],
         "source_cohorts": [
          1
         ]
        },
        {
         "children": [],
         "concept_code": "262574004",
         "concept_id": 4094814,
         "concept_name": "Bullet wound",
         "metrics": {
          "1": {
           "count": 18,
           "prevalence": 0.0038151759220008477
          }
         },
         "parent_ids": [
          4095263
         ],
         "source_cohorts": [
          1
         ]
        },
        {
         "children": [],
         "concept_code": "284551006",
         "concept_id": 4109685,
         "concept_name": "Laceration of foot",
         "metrics": {
          "1": {
           "count": 15,
           "prevalence": 0.00317931326833404
          }
         },
         "parent_ids": [
          4152960,
          4054067
         ],
         "source_cohorts": [
          1
         ]
        },
        {
         "children": [],
         "concept_code": "94260004",
         "concept_id": 4311765,
         "concept_name": "Secondary malignant neoplasm of colon",
         "metrics": {
          "1": {
           "count": 15,
           "prevalence": 0.00317931326833404
          }
         },
         "parent_ids": [
          4180790,
          36683301
         ],
         "source_cohorts": [
          1
         ]
        },
        {
         "children": [],
         "concept_code": "33737001",
         "concept_id": 4142905,
         "concept_name": "Fracture of rib",
         "metrics": {
          "1": {
           "count": 15,
           "prevalence": 0.00317931326833404
          }
         },
         "parent_ids": [
          4279139,
          4151202
         ],
         "source_cohorts": [
          1
         ]
        },
        {
         "children": [],
         "concept_code": "307731004",
         "concept_id": 4146173,
         "concept_name": "Injury of tendon of the rotator cuff of shoulder",
         "metrics": {
          "1": {
           "count": 14,
           "prevalence": 0.002967359050445104
          }
         },
         "parent_ids": [
          4090616,
          36713625,
          79116
         ],
         "source_cohorts": [
          1
         ]
        },
        {
         "children": [],
         "concept_code": "370247008",
         "concept_id": 4156265,
         "concept_name": "Facial laceration",
         "metrics": {
          "1": {
           "count": 14,
           "prevalence": 0.002967359050445104
          }
         },
         "parent_ids": [
          4179823,
          4049957
         ],
         "source_cohorts": [
          1
         ]
        },
        {
         "children": [],
         "concept_code": "62564004",
         "concept_id": 375671,
         "concept_name": "Concussion with loss of consciousness",
         "metrics": {
          "1": {
           "count": 13,
           "prevalence": 0.002755404832556168
          }
         },
         "parent_ids": [
          4132082,
          4001336
         ],
         "source_cohorts": [
          1
         ]
        },
        {
         "children": [],
         "concept_code": "65363002",
         "concept_id": 372328,
         "concept_name": "Otitis media",
         "metrics": {
          "1": {
           "count": 13,
           "prevalence": 0.002755404832556168
          }
         },
         "parent_ids": [
          4183452,
          374364,
          4181063
         ],
         "source_cohorts": [
          1
         ]
        },
        {
         "children": [],
         "concept_code": "69896004",
         "concept_id": 80809,
         "concept_name": "Rheumatoid arthritis",
         "metrics": {
          "1": {
           "count": 12,
           "prevalence": 0.002543450614667232
          }
         },
         "parent_ids": [
          4291025,
          434621
         ],
         "source_cohorts": [
          1
         ]
        },
        {
         "children": [],
         "concept_code": "403190006",
         "concept_id": 4296204,
         "concept_name": "Epidermal burn of skin",
         "metrics": {
          "1": {
           "count": 11,
           "prevalence": 0.0023314963967782957
          }
         },
         "parent_ids": [
          4108467
         ],
         "source_cohorts": [
          1
         ]
        },
        {
         "children": [],
         "concept_code": "197927001",
         "concept_id": 4056621,
         "concept_name": "Recurrent urinary tract infection",
         "metrics": {
          "1": {
           "count": 10,
           "prevalence": 0.00211954217888936
          }
         },
         "parent_ids": [
          4056622,
          764205
         ],
         "source_cohorts": [
          1
         ]
        },
        {
         "children": [],
         "concept_code": "403191005",
         "concept_id": 4296205,
         "concept_name": "Partial thickness burn",
         "metrics": {
          "1": {
           "count": 10,
           "prevalence": 0.00211954217888936
          }
         },
         "parent_ids": [
          4108467
         ],
         "source_cohorts": [
          1
         ]
        },
        {
         "children": [],
         "concept_code": "301011002",
         "concept_id": 4116491,
         "concept_name": "Escherichia coli urinary tract infection",
         "metrics": {
          "1": {
           "count": 9,
           "prevalence": 0.0019075879610004239
          }
         },
         "parent_ids": [
          4116490,
          440320
         ],
         "source_cohorts": [
          1
         ]
        },
        {
         "children": [],
         "concept_code": "359817006",
         "concept_id": 4230399,
         "concept_name": "Closed fracture of hip",
         "metrics": {
          "1": {
           "count": 8,
           "prevalence": 0.001695633743111488
          }
         },
         "parent_ids": [
          4199590,
          45763653
         ],
         "source_cohorts": [
          1
         ]
        },
        {
         "children": [],
         "concept_code": "95417003",
         "concept_id": 4316217,
         "concept_name": "Primary fibromyalgia syndrome",
         "metrics": {
          "1": {
           "count": 6,
           "prevalence": 0.001271725307333616
          }
         },
         "parent_ids": [
          4134133,
          40405599,
          442315,
          42538688
         ],
         "source_cohorts": [
          1
         ]
        },
        {
         "children": [],
         "concept_code": "60951000119105",
         "concept_id": 45763582,
         "concept_name": "Blindness due to type 2 diabetes mellitus",
         "metrics": {
          "1": {
           "count": 6,
           "prevalence": 0.001271725307333616
          }
         },
         "parent_ids": [
          4023310,
          443732
         ],
         "source_cohorts": [
          1
         ]
        },
        {
         "children": [],
         "concept_code": "444470001",
         "concept_id": 40479768,
         "concept_name": "Injury of anterior cruciate ligament",
         "metrics": {
          "1": {
           "count": 5,
           "prevalence": 0.00105977108944468
          }
         },
         "parent_ids": [
          40485073
         ],
         "source_cohorts": [
          1
         ]
        },
        {
         "children": [],
         "concept_code": "38822007",
         "concept_id": 195588,
         "concept_name": "Cystitis",
         "metrics": {
          "1": {
           "count": 5,
           "prevalence": 0.00105977108944468
          }
         },
         "parent_ids": [
          4159963,
          4181063,
          201337
         ],
         "source_cohorts": [
          1
         ]
        },
        {
         "children": [],
         "concept_code": "444448004",
         "concept_id": 40479422,
         "concept_name": "Injury of medial collateral ligament of knee",
         "metrics": {
          "1": {
           "count": 4,
           "prevalence": 8.47816871555744E-4
          }
         },
         "parent_ids": [
          40485074
         ],
         "source_cohorts": [
          1
         ]
        },
        {
         "children": [],
         "concept_code": "448417001",
         "concept_id": 40489907,
         "concept_name": "Sepsis due to Staphylococcus aureus",
         "metrics": {
          "1": {
           "count": 4,
           "prevalence": 8.47816871555744E-4
          }
         },
         "parent_ids": [
          433125,
          40487059
         ],
         "source_cohorts": [
          1
         ]
        },
        {
         "children": [],
         "concept_code": "284549007",
         "concept_id": 4113008,
         "concept_name": "Laceration of hand",
         "metrics": {
          "1": {
           "count": 4,
           "prevalence": 8.47816871555744E-4
          }
         },
         "parent_ids": [
          4129405,
          4152932
         ],
         "source_cohorts": [
          1
         ]
        },
        {
         "children": [],
         "concept_code": "195967001",
         "concept_id": 317009,
         "concept_name": "Asthma",
         "metrics": {
          "1": {
           "count": 4,
           "prevalence": 8.47816871555744E-4
          }
         },
         "parent_ids": [
          320136
         ],
         "source_cohorts": [
          1
         ]
        },
        {
         "children": [],
         "concept_code": "1734006",
         "concept_id": 4066995,
         "concept_name": "Fracture of vertebral column with spinal cord injury",
         "metrics": {
          "1": {
           "count": 3,
           "prevalence": 6.35862653666808E-4
          }
         },
         "parent_ids": [
          439215,
          4174520,
          4235863
         ],
         "source_cohorts": [
          1
         ]
        },
        {
         "children": [],
         "concept_code": "239720000",
         "concept_id": 4035415,
         "concept_name": "Tear of meniscus of knee",
         "metrics": {
          "1": {
           "count": 3,
           "prevalence": 6.35862653666808E-4
          }
         },
         "parent_ids": [
          4178431,
          43530877,
          4324765,
          4179141
         ],
         "source_cohorts": [
          1
         ]
        },
        {
         "children": [],
         "concept_code": "448813005",
         "concept_id": 40491961,
         "concept_name": "Sepsis due to Pseudomonas",
         "metrics": {
          "1": {
           "count": 3,
           "prevalence": 6.35862653666808E-4
          }
         },
         "parent_ids": [
          40493038,
          438064
         ],
         "source_cohorts": [
          1
         ]
        },
        {
         "children": [],
         "concept_code": "47505003",
         "concept_id": 436676,
         "concept_name": "Posttraumatic stress disorder",
         "metrics": {
          "1": {
           "count": 2,
           "prevalence": 4.23908435777872E-4
          }
         },
         "parent_ids": [
          442077
         ],
         "source_cohorts": [
          1
         ]
        },
        {
         "children": [],
         "concept_code": "65275009",
         "concept_id": 198809,
         "concept_name": "Acute cholecystitis",
         "metrics": {
          "1": {
           "count": 2,
           "prevalence": 4.23908435777872E-4
          }
         },
         "parent_ids": [
          4134294,
          4267297,
          192956
         ],
         "source_cohorts": [
          1
         ]
        },
        {
         "children": [],
         "concept_code": "11218009",
         "concept_id": 4008261,
         "concept_name": "Infection due to Pseudomonas aeruginosa",
         "metrics": {
          "1": {
           "count": 2,
           "prevalence": 4.23908435777872E-4
          }
         },
         "parent_ids": [
          438064
         ],
         "source_cohorts": [
          1
         ]
        },
        {
         "children": [],
         "concept_code": "235919008",
         "concept_id": 196456,
         "concept_name": "Gallstone",
         "metrics": {
          "1": {
           "count": 2,
           "prevalence": 4.23908435777872E-4
          }
         },
         "parent_ids": [
          192353,
          4115576,
          4145627
         ],
         "source_cohorts": [
          1
         ]
        },
        {
         "children": [],
         "concept_code": "40275004",
         "concept_id": 134438,
         "concept_name": "Contact dermatitis",
         "metrics": {
          "1": {
           "count": 1,
           "prevalence": 2.11954217888936E-4
          }
         },
         "parent_ids": [
          43021226,
          37311784
         ],
         "source_cohorts": [
          1
         ]
        },
        {
         "children": [],
         "concept_code": "370143000",
         "concept_id": 4152280,
         "concept_name": "Major depressive disorder",
         "metrics": {
          "1": {
           "count": 1,
           "prevalence": 2.11954217888936E-4
          }
         },
         "parent_ids": [
          440383
         ],
         "source_cohorts": [
          1
         ]
        },
        {
         "children": [],
         "concept_code": "698754002",
         "concept_id": 44782520,
         "concept_name": "Chronic paralysis due to lesion of spinal cord",
         "metrics": {
          "1": {
           "count": 1,
           "prevalence": 2.11954217888936E-4
          }
         },
         "parent_ids": [
          4157607,
          4134145
         ],
         "source_cohorts": [
          1
         ]
        },
        {
         "children": [],
         "concept_code": "225444004",
         "concept_id": 4021336,
         "concept_name": "At risk for suicide",
         "metrics": {
          "1": {
           "count": 1,
           "prevalence": 2.11954217888936E-4
          }
         },
         "parent_ids": [
          4085075
         ],
         "source_cohorts": [
          1
         ]
        },
        {
         "children": [],
         "concept_code": "30832001",
         "concept_id": 4149245,
         "concept_name": "Rupture of patellar tendon",
         "metrics": {
          "1": {
           "count": 1,
           "prevalence": 2.11954217888936E-4
          }
         },
         "parent_ids": [
          4134312,
          195632,
          4344027
         ],
         "source_cohorts": [
          1
         ]
        },
        {
         "children": [],
         "concept_code": "241929008",
         "concept_id": 4084167,
         "concept_name": "Acute allergic reaction",
         "metrics": {
          "1": {
           "count": 1,
           "prevalence": 2.11954217888936E-4
          }
         },
         "parent_ids": [
          40589905,
          443883
         ],
         "source_cohorts": [
          1
         ]
        },
        {
         "children": [],
         "concept_code": "15724005",
         "concept_id": 4048695,
         "concept_name": "Fracture of vertebral column without spinal cord injury",
         "metrics": {
          "1": {
           "count": 1,
           "prevalence": 2.11954217888936E-4
          }
         },
         "parent_ids": [
          4174520
         ],
         "source_cohorts": [
          1
         ]
        }
       ],
       "_css": "/* PAGE LAYOUT */\n\n* {\n    box-sizing: border-box;\n}\n\n.vis-container {\n    align-items: center;\n    border: 1px solid black;\n    width: 100%;\n    font-size: 11px;\n    font-family: sans-serif;\n    padding: 5px;\n    overflow: visible;\n}\n\n.row-container {\n    display: flex;\n    justify-content: space-around;\n    width: 100%;\n    padding: 5px 0 5px 0;\n    height: auto;\n    overflow: hidden;\n}\n\n.col-container {\n    flex: 1;\n    border: 1px solid lightgray;\n    width: 100%;\n}\n\nh1.tight-header,h2.tight-header {\n    margin: 0;\n    line-height: 1;\n}\n\n/* TOOLTIP */\n\n.tooltip {\n    position: absolute;\n    visibility: hidden;\n    background: whitesmoke;\n    color: black;\n    padding: 8px;\n    border-radius: 8px;\n    border: 1px solid darkgray;\n    /*background-image: linear-gradient(to right, lightgray, white);*/\n    pointer-events: none;\n    z-index: 1000;\n}\n\n/* COHORT SUMMARY */\n\n.cohort-summary{\n    gap: 32px; /* space between columns */\n    padding: 15px;\n    background-image: linear-gradient(to right, lightgray, darkgray);\n    overflow: auto;\n}\n\n/* BAR CHART */\n\n/* overall barchart size */\n.barchart{\n    font-size: 12px;\n    width: 100%;  /* allows resize to fit the page*/\n    height: auto;\n}\n\n/* axis labels */\n.axis-label {\n    font-size: 14px;\n}\n/* lines and tick marks */\n.axis path,\n.axis line {\n    fill: none;\n    stroke: black;\n    shape-rendering: crispEdges;\n}\n/* axis text */\n.axis text {\n    font-size: 14px;\n}\n\n/* CONCEPTS TABLE */\n\n.concepts-row {\n    width: 100%;\n    height: 100%; /* fill vis-container height */\n}\n\n.div-concepts-table-body {\n    margin-top: 0;\n    overflow-y: auto;\n    overflow-x: auto;\n    background-color: #f9f9f9;\n}\n\n.table-body-wrapper {\n    overflow: auto;\n    max-height: 370px; /* header height removed */\n}\n\n/* concepts table row hover and select */\n\n.selected .cell-bg {\n    fill: #f8f9fa !important;\n    stroke: #ccc !important;\n}\n\n.selected {\n    opacity: 1;\n}\n\n.row-border {\n    fill: none;\n    stroke: #007bff;\n    stroke-width: 2px;\n    pointer-events: none;\n}\n\ng[cursor=\"pointer\"]:hover .cell-bg {\n    fill: #f5f5f5;\n}",
       "_esm": "import * as d3 from 'https://esm.sh/d3@7';\nimport * as Inputs from \"https://esm.sh/@observablehq/inputs\";\n// import * as Plot from \"https://esm.sh/@observablehq/plot\";\n\n// function initialize({ model }) {\n//     // Set up shared state or event handlers.\n//     return () => {\n//       // Optional: Called when the widget is destroyed.\n//     }\n// } // end initialize\n\nfunction render({ model, el }) {\n    const font_size = '12px';\n\n    // <editor-fold desc=\"---------- DISPATCHERS ----------\">\n\n    // handles the concepts table\n    const conceptsTableDispatcher = d3.dispatch('filter', 'sort', 'change-dp', 'column-resize', 'view-pct');\n    // handles all tooltips\n    const tooltipDispatcher = d3.dispatch(\"show\", \"hide\");\n\n    tooltipDispatcher.on(\"show\", function({ content, event }) {\n        const containerRect = vis_container.node().getBoundingClientRect();\n        const x = event.clientX - containerRect.left;\n        const y = event.clientY - containerRect.top;\n\n        const tooltip = createTooltip();\n\n        // Set content first to measure\n        tooltip\n            .style(\"visibility\", \"hidden\")\n            .style(\"left\", \"0px\")\n            .style(\"top\", \"0px\")\n            .html(content);\n\n        const tooltipRect = tooltip.node().getBoundingClientRect();\n        const tooltipWidth = tooltipRect.width;\n        const tooltipHeight = tooltipRect.height;\n\n        // Get viewport dimensions\n        const viewportWidth = window.innerWidth;\n        const viewportHeight = window.innerHeight;\n\n        // Get container dimensions\n        const containerWidth = containerRect.width;\n        const containerHeight = containerRect.height;\n\n        // Calculate absolute position on screen\n        const absoluteX = event.clientX;\n        const absoluteY = event.clientY;\n\n        // Calculate relative position within container\n        let finalX = x + 10; // Default: right of cursor\n        let finalY = y - 10; // Default: above cursor\n\n        // Check viewport constraints (absolute positioning)\n        const wouldExceedRightViewport = absoluteX + 10 + tooltipWidth > viewportWidth;\n        const wouldExceedBottomViewport = absoluteY - 10 + tooltipHeight > viewportHeight;\n        const wouldExceedLeftViewport = absoluteX - tooltipWidth - 10 < 0;\n        const wouldExceedTopViewport = absoluteY - tooltipHeight - 10 < 0;\n\n        // Check container constraints (relative positioning)\n        const wouldExceedRightContainer = finalX + tooltipWidth > containerWidth;\n        const wouldExceedBottomContainer = finalY + tooltipHeight > containerHeight;\n        const wouldExceedLeftContainer = finalX - tooltipWidth - 20 < 0;\n        const wouldExceedTopContainer = finalY - tooltipHeight - 20 < 0;\n\n        // Horizontal positioning - prioritize viewport over container\n        if (wouldExceedRightViewport || wouldExceedRightContainer) {\n            finalX = x - tooltipWidth - 10; // Move to left of cursor\n\n            // If left position also exceeds bounds, clamp it\n            if (wouldExceedLeftViewport || finalX < 5) {\n                finalX = Math.max(5, Math.min(x - tooltipWidth/2, containerWidth - tooltipWidth - 5));\n            }\n        }\n\n        // Vertical positioning - prioritize viewport over container\n        if (wouldExceedBottomViewport || wouldExceedBottomContainer) {\n            finalY = y - tooltipHeight - 10; // Move above cursor\n\n            // If top position also exceeds bounds, clamp it\n            if (wouldExceedTopViewport || finalY < 5) {\n                finalY = Math.max(5, Math.min(y + 15, containerHeight - tooltipHeight - 5));\n            }\n        }\n\n        // Apply final position\n        tooltip\n            .style(\"left\", `${finalX}px`)\n            .style(\"top\", `${finalY}px`)\n            .style(\"visibility\", \"visible\");\n    });\n\n    tooltipDispatcher.on(\"hide\", function() {\n        d3.selectAll(\".tooltip\").remove();\n    });\n\n    // </editor-fold>\n\n    // <editor-fold desc=\"---------- UTILITY FUNCTIONS ----------\"\n\n    // clears an element\n    function clearElement(element) {\n        element.selectAll('*').remove();\n    }\n\n    function dataEntityExists(entity){\n        if (entity && entity.data && entity.data.length > 0)\n            return true\n        else return entity && entity.length > 0;\n    }\n\n    function formatFraction(numerator, denominator) {\n        return `\n        <span style=\"display: inline-flex; flex-direction: column; text-align: center; vertical-align: middle; font-size: 0.9em; line-height: 1.2;\">\n            <span style=\"border-bottom: 1px solid black; padding: 0 4px;\">${numerator}</span>\n            <span style=\"padding: 0 4px;\">${denominator}</span>\n        </span>\n    `;\n    }\n\n    // converts timestamp to formatted date 'YYYY-MM-DD'\n    function getIsoDateString(timestamp) {\n        let aDate = new Date(timestamp);\n        return aDate.toISOString().split('T')[0];\n    }\n\n    function isNullOrEmpty(value) {\n        if (value === null || value === undefined)\n            return true;\n\n        switch (typeof value) {\n            case 'string':\n                return value.trim().length === 0;\n            case 'object':\n                if (Array.isArray(value))\n                    return value.length === 0;\n                return Object.keys(value).length === 0;\n            case 'number':\n            case 'boolean':\n                return false;\n            default:\n                return false;\n        }\n    }\n\n    function removeDuplicates(data, key) {\n        const uniqueMap = new Map();\n        data.forEach(item => {\n            if (!uniqueMap.has(item[key])) {\n                uniqueMap.set(item[key], item);\n            }\n        });\n        return Array.from(uniqueMap.values());\n    }\n\n    function renameKeys(data, oldKeys, newKeys) {\n        if (oldKeys.length !== newKeys.length) {\n            throw new Error(\"oldKeys and newKeys must be the same length\");\n        }\n\n        return data.map(item => {\n            const changed_data = { ...item };\n            oldKeys.forEach((oldKey, index) => {\n                const newKey = newKeys[index];\n                if (oldKey in changed_data) {\n                    changed_data[newKey] = changed_data[oldKey];\n                    delete changed_data[oldKey];\n                }\n            });\n            return changed_data;\n        });\n    }\n\n    function toLabel(key){\n        return key.split('_')\n            .map(part => part.charAt(0).toUpperCase() + part.slice(1))\n            .join(' ');\n    }\n\n    function verifyDispatch(dispatch, component) {\n        if (\n            !dispatch ||\n            typeof dispatch !== \"object\" ||\n            typeof dispatch.call !== \"function\" ||\n            typeof dispatch.on !== \"function\"\n        ) {\n            throw new Error(component + \" requires a valid d3.dispatch object.\");\n        }\n    }\n\n    // </editor-fold>\n\n    // <editor-fold desc=\"---------- DEFINE DATA ----------\">\n\n    var cohort1_meta = model.get('_cohort1_meta');\n    var cohort1_stats = model.get('_cohort1_stats');\n    var race_stats1 = model.get('_race_stats1');\n    var ethnicity_stats1 = model.get('_ethnicity_stats1');\n    var gender_dist1 = model.get('_gender_dist1');\n    var age_dist1 = model.get('_age_dist1');\n    var cohort1_shortname = model.get('_cohort1_shortname');\n\n    var cohort2_meta = model.get('_cohort2_meta');\n    var cohort2_stats = model.get('_cohort2_stats');\n    var race_stats2 = model.get('_race_stats2');\n    var ethnicity_stats2 = model.get('_ethnicity_stats2');\n    var gender_dist2 = model.get('_gender_dist2');\n    var age_dist2 = model.get('_age_dist2');\n    var cohort2_shortname = model.get('_cohort2_shortname');\n\n    var cond_hier = model.get('_cond_hier');\n    console.log('cond_hier', cond_hier);\n\n    race_stats1 = renameKeys(race_stats1, ['race', 'race_count'], ['category', 'value']);\n    ethnicity_stats1 = renameKeys(ethnicity_stats1, ['ethnicity', 'ethnicity_count'], ['category', 'value']);\n    gender_dist1 = renameKeys(gender_dist1, ['gender', 'gender_count'], ['category', 'value']);\n    age_dist1 = renameKeys(age_dist1, ['age_bin', 'bin_count'], ['category', 'value']);\n\n    if(dataEntityExists(race_stats2))\n        race_stats2 = renameKeys(race_stats2, ['race', 'race_count'], ['category', 'value']);\n    if(dataEntityExists(ethnicity_stats2))\n        ethnicity_stats2 = renameKeys(ethnicity_stats2, ['ethnicity', 'ethnicity_count'], ['category', 'value']);\n    if(dataEntityExists(gender_dist2))\n        gender_dist2 = renameKeys(gender_dist2, ['gender', 'gender_count'], ['category', 'value']);\n    if(dataEntityExists(age_dist2))\n        age_dist2 = renameKeys(age_dist2, ['age_bin', 'bin_count'], ['category', 'value']);\n\n    // TODO: Ask Hong to fix this in her code. This is a temporary fix for gender probabilities being out of 100,\n    //       when other probabilities are out of 1\n    gender_dist1 = d3.map(gender_dist1, d => ({ ...d, probability: d.probability / 100 }));\n    if (dataEntityExists(gender_dist2))\n        gender_dist2 = d3.map(gender_dist2, d => ({ ...d, probability: d.probability / 100 }));\n\n    function isSingleCohort(){\n        return Object.keys(cond_hier[0]['metrics']).length === 1;\n    }\n\n    // </editor-fold>\n\n    // <editor-fold desc=\"---------- VISUAL CONTROL FUNCTIONS ----------\">\n\n    function createTooltip() {\n        return vis_container.append(\"div\")\n            .attr(\"class\", \"tooltip\");\n    }\n\n    /*\n    * draws a search box\n    * Parameters:\n    *   dispatch: d3.dispatch instance - user input event handler\n    *   options: dictionary\n    *     placeholder: type: string - placeholder for the control value\n    *     label: type: string - label for the control\n    *     width: type: string - the width of the input box in pixels\n    * Return:\n    *   container: DOM div element containing input box\n    */\n    function SearchBox(dispatch, options = {}) {\n        let {\n            placeholder = 'Filter',\n            label = '',\n            width = 200\n        } = options;\n\n        verifyDispatch(dispatch, 'Searchbox');\n        label = label.trim();\n\n        let container = d3.create(\"div\")\n            .style(\"padding\", \"4px\");\n\n        // observable input\n        const input = Inputs.text({ label: label, placeholder: \"Filter\", width: \"200px\" });\n        input.style.marginLeft = '8px';\n\n        // The actual input element is inside the wrapper\n        const innerInput = input.querySelector(\"input\");\n        // Apply styles to the real input\n        innerInput.style.borderRadius = \"8px\";\n        innerInput.style.border = \"1px solid #ccc\";\n        // innerInput.style.padding = \"4px 8px\"; // optional for nicer spacing\n        innerInput.style.width = \"100%\";      // fills the wrapper width\n\n        // Dispatch filter event on input\n        input.addEventListener(\"input\", e => dispatch.call(\"filter\", this, e.target.value));\n\n        container.node().appendChild(input);\n\n        return container.node();\n    }\n\n    /*\n    * draws a spinner box\n    * Parameters:\n    *   dispatch: d3.dispatch instance - user input event handler\n    *   options: dict\n    *     value: type: integer - starting-point value\n    *     label: type: string - label for the control\n    *     width: type: integer - the width of the input box in pixels\n    * Return:\n    *   container: DOM div element containing input box\n    */\n    function SpinnerBox(dispatch, options = {}) {\n        let {\n            value = default_prevalence_dp,\n            label = '',\n            width = 45,\n            min = 0,\n            max = 16,\n            step = 1\n        } = options;\n\n        verifyDispatch(dispatch, 'Spinnerbox');\n        label = label.trim();\n\n        // Create a container div using D3\n        let container = d3.create(\"div\")\n            .style(\"padding\", \"4px\");\n\n        // Create the number input using Inputs.number\n        const spinner = Inputs.number({\n            value: value,\n            min: min,\n            max: max,\n            step: step,\n            label: label\n        });\n\n        // Style the outer spinner element\n        spinner.style.width = width + 'px';\n        spinner.style.marginLeft = '8px';\n\n        // Style the inner input element\n        const inner = spinner.querySelector(\"input\");\n        inner.style.borderRadius = \"8px\";\n        inner.style.border = \"1px solid #ccc\";\n        inner.style.width = \"100%\";\n        inner.style.textAlign = \"right\";\n\n        // Add event listener to dispatch changes\n        spinner.addEventListener(\"input\", e => {\n            if (e.target.value < 0)\n                e.target.value = 0\n            else if (e.target.value > 16)\n                e.target.value = 16;\n            dispatch.call(\"change-dp\", spinner, e.target.value);\n        });\n\n        // Append the spinner DOM node to the D3 container\n        container.append(() => spinner);\n\n        // Return the container's DOM node\n        return container.node();\n    }\n\n    /*\n    * draws a toggle switch\n    * Parameters:\n    *   dispatch: d3.dispatch instance - user input event handler\n    *   options: dict\n    *     width: type: integer - the width of the input in pixels\n    *     height: type: integer - the height of the input in pixels\n    *     initial_state: type: boolean - starting-point value -- False=off, True=on\n    *     label: type: string - label for the control\n    * Return:\n    *   svg DOM node containing input box\n    */\n    function ToggleSwitch(dispatch, {\n                              width = 30,\n                              height = 30,\n                              initial_state = true,\n                              label = \"Toggle\"\n                          } = {}) {\n        const svg = d3.create(\"svg\")\n            .attr(\"width\", width + 160)\n            .attr(\"height\", height)\n            .attr(\"viewBox\", `0 0 ${width + 160} ${height}`)\n            .attr(\"preserveAspectRatio\", \"xMidYMid meet\");\n\n        const track_height = height * 0.6;\n        const track_y = (height - track_height) / 2;\n        const thumb_radius = track_height / 2;\n        const track_width = width;\n        const color_on = \"#00e676\";\n        const color_off = \"#ccc\";\n\n        let state = initial_state ? 1 : 0;\n\n        const toggle_group = svg.append(\"g\")\n            .attr(\"class\", \"svg-toggle\")\n            .attr(\"transform\", `translate(0, ${track_y})`);\n\n        // Track\n        const track = toggle_group.append(\"rect\")\n            .attr(\"x\", 0)\n            .attr(\"y\", 0)\n            .attr(\"width\", track_width)\n            .attr(\"height\", track_height)\n            .attr(\"rx\", thumb_radius)\n            .attr(\"fill\", state === 1 ? color_on : color_off);\n\n        // Thumb\n        const thumb = toggle_group.append(\"circle\")\n            .attr(\"cx\", state === 1 ? track_width - thumb_radius : thumb_radius)\n            .attr(\"cy\", track_height / 2)\n            .attr(\"r\", thumb_radius * 0.9)\n            .attr(\"fill\", \"#007bff\");\n\n        // Transparent clickable layer\n        const transparent_rect = toggle_group.append(\"rect\")\n            .attr(\"x\", 0)\n            .attr(\"y\", 0)\n            .attr(\"width\", track_width)\n            .attr(\"height\", track_height)\n            .attr(\"fill\", \"transparent\")\n            .style(\"cursor\", \"pointer\")\n            .on(\"click\", () => {\n                state = 1 - state; // Toggle state\n\n                // Animate thumb position\n                thumb.transition()\n                    .duration(300)\n                    .attr(\"cx\", state === 1 ? track_width - thumb_radius : thumb_radius);\n\n                // Animate track color\n                track.transition()\n                    .duration(300)\n                    .attr(\"fill\", state === 1 ? color_on : color_off);\n\n                // tell everyone interested the new state\n                dispatch.call(\"toggle_view\", null, state);\n\n            });\n\n        // Label\n        svg.append(\"text\")\n            .attr(\"x\", track_width + 10)\n            .attr(\"y\", height / 2 + 4)\n            .text(label);\n\n        return svg.node();\n    }\n\n    // </editor-fold>\n\n    // <editor-fold desc=\"---------- SUMMARY STATISTICS FUNCTIONS ----------\">\n\n    function SummaryStatistics(container, series1, { series2 = { data: null, meta: null, shortname1: \"cohort 2\" } } = {}) {\n        // Main container: vertical layout\n        container.style('display', 'flex')\n            .style('flex-direction', 'column')\n            .style('gap', '10px'); // space between cohort blocks\n\n        const columns = [\n            ['total_count'],\n            ['earliest_start_date', 'latest_start_date', 'earliest_end_date', 'latest_end_date'],\n            ['min_duration_days', 'max_duration_days', 'avg_duration_days'],\n            ['median_duration', 'stddev_duration']\n        ];\n\n        function drawSeriesSummary(parentSel, cohort) {\n\n            const title = cohort.meta.name.trim();\n            const desc = cohort.meta.description.trim();\n\n            if (title !== \"\") {\n                parentSel.append('h1')\n                    .attr('class', 'tight-header')\n                    .style('font-size', '13px')\n                    .text(title);\n            }\n\n            if (desc !== \"\") {\n                parentSel.append('h2')\n                    .attr('class', 'tight-header')\n                    .style('font-size', '11px')\n                    .text(desc);\n            }\n\n            // Create a container for this cohort\n            const cohortBlock = parentSel.append('div')\n                .style('display', 'flex')\n                .style('flex-direction', 'column')\n                .style('gap', '12px');\n\n            // Columns container: horizontal layout\n            const colContainer = cohortBlock.append('div')\n                .style('display', 'flex')\n                .style('gap', '30px');\n\n            // Populate columns\n            columns.forEach(colKeys => {\n                const col = colContainer.append('div')\n                    .style('display', 'flex')\n                    .style('flex-direction', 'column')\n                    .style('gap', '4px');\n\n                colKeys.forEach(key => {\n                    const row = col.append('div')\n                        .style('display', 'flex')\n                        .style('justify-content', 'flex-start')\n                        .style('gap', '8px');\n\n                    // Key\n                    row.append('div')\n                        .text(toLabel(key) + ':')\n                        .style('width', '120px');\n\n                    // Value\n                    row.append('div')\n                        .text(() => {\n                            if (!cohort.data || cohort.data.length === 0) return '—';\n                            const record = cohort.data[0];\n                            const value = record[key];\n                            return value !== undefined ? value : '—';\n                        })\n                        .style('text-align', 'left');\n                });\n            });\n        }\n\n        // draw first series\n        drawSeriesSummary(container, series1);\n        // Draw second series below the first if it has data\n        if (series2.data && series2.data.length > 0) {\n            drawSeriesSummary(container, series2);\n        }\n    }\n\n    // </editor-fold>\n\n    // <editor-fold desc=\"---------- VERTICAL BAR CHART FUNCTIONS ----------\">\n\n    // all parameters are optional at the function signature level, but we are validating within the function\n    function VerticalBarChart(\n        series1,\n        {\n            series2 = { data: null, total_count: null, shortname: \"cohort 2\"},\n            dimensions: {\n                xlabel = \"\",\n                title = \"\",\n                width = 600,\n                height = 200,\n                margin = { top: 40, right: 10, bottom: 60, left: 80 },\n                padding = 0.1,\n                show_Percentage: show_percentage = true\n            } = {}\n        } = {}\n    ) {\n        const series2_exists = dataEntityExists(series2);\n\n        const combinedData = series2_exists\n            ? series1.data.concat(series2.data)\n            : series1.data;\n\n        xlabel = toLabel(xlabel);\n\n        const categories = Array.from(new Set(combinedData.map(d => d.category)));\n        let ylabel = show_percentage ? 'Proportion' : 'Patients Count';\n\n        // handles the vertical bar chart\n        const toggle_view_dispatcher = d3.dispatch(\"toggle_view\"); // handles toggling between value and probability\n\n        const svg = d3.create('svg')\n            .attr('class', 'barchart')\n            .attr('width', width)\n            .attr('height', height)\n            .attr('viewBox', `0 0 ${width} ${height}`)\n            .attr('preserveAspectRatio', 'xMidYMid meet');\n\n        svg.append(\"g\")\n            .attr(\"transform\", `translate(${width - margin.right - 160}, ${10})`)\n            .append(() => ToggleSwitch(toggle_view_dispatcher, {\n                label: \"Show Proportion\", initial_state: show_percentage\n            }));\n\n        // X scale\n        const xScale = d3.scaleBand(categories, [margin.left, width - margin.right])\n            .padding(padding);\n\n        const color = d3.scaleOrdinal()\n            .domain([series1.shortname, series2.shortname])\n            .range(d3.schemePaired.slice(0, 2));\n\n        // X-axis\n        svg.append('g')\n            .attr('transform', `translate(0, ${height - margin.bottom})`)\n            .call(d3.axisBottom(xScale))\n            .attr('class', 'axis');\n\n        svg.append('text')\n            .attr('class', 'axis-label')\n            .attr('x', width / 2)\n            .attr('y', height - 20)\n            .style('text-anchor', 'middle')\n            .text(xlabel);\n\n        // Y-axis group\n        const yAxisGroup = svg.append('g')\n            .attr('transform', `translate(${margin.left}, 0)`)\n            .attr('class', 'axis');\n\n        const y_axis_label = svg.append('text')\n            .attr('class', 'axis-label')\n            .attr('transform', 'rotate(-90)')\n            .attr('x', height / 2 * -1)\n            .attr('y', 20)\n            .attr('text-anchor', 'middle')\n            .text(ylabel);\n\n        function drawYAxis() {\n            const yMax = show_percentage\n                ? d3.max([\n                    d3.max(series1.data, d => d.probability),\n                    series2_exists ? d3.max(series2.data, d => d.probability) : 0\n                ])\n                : d3.max(combinedData, d => +d.value);\n\n            const yScale = d3.scaleLinear([0, yMax], [height - margin.bottom, margin.top]).nice();\n            y_axis_label.text(ylabel);\n\n            const yAxis = show_percentage\n                ? d3.axisLeft(yScale).ticks(2).tickFormat(d3.format(\"\"))\n                : d3.axisLeft(yScale).ticks(2).tickFormat(d3.format(\",\"));\n\n            yAxisGroup.transition().duration(500).call(yAxis);\n            return yScale;\n        }\n\n        // chart title\n        let yScale = drawYAxis();\n        if (title === '' && xlabel !== '') title = xlabel + ' Distribution';\n        svg.append('text')\n            .attr('class', 'chart-title')\n            .attr('text-anchor', 'middle')\n            .attr('x', width / 2)\n            .attr('y', margin.top / 2)\n            .text(title);\n\n        function drawSeriesBars(container, series, series_index, class_base_name, yScale) {\n            function getTooltipContent(d, series, xlabel) {\n                const patient_count_text = `${d3.format(\".0%\")(d.probability || 0)} (${formatFraction(d.value || 0, series.total_count)})`;\n                return `<strong>${series.shortname}: ${xlabel + ': ' || ''} ${d.category}</strong><hr>Count: ${patient_count_text}`;\n            }\n\n            const class_name = class_base_name + series_index;\n            const bw = xScale.bandwidth();\n            const half = bw / 2;\n\n            const bars = container.selectAll('.' + class_name)\n                .data(series.data, d => d.category)\n                .on(\"mouseover\", function (event, d, ) {\n                    tooltipDispatcher.call(\"show\", null, {\n                        content: getTooltipContent(d, series, xlabel),\n                        event: event\n                    });\n                })\n                .on(\"mouseout\", function () {\n                    tooltipDispatcher.call(\"hide\");\n                });\n\n            bars.join(\n                enter => enter.append('rect')\n                    .attr('class', class_name)\n                    .attr('x', d => series_index === 1 ? xScale(d.category) : xScale(d.category) + half)\n                    .attr('width', series2_exists ? half : bw)\n                    .attr('y', d => yScale(show_percentage ? d.probability : +d.value))\n                    .attr('height', d => height - margin.bottom - yScale(show_percentage ? d.probability : +d.value))\n                    .attr('fill', d => color(series.shortname)), update => update.transition().duration(500)\n                    .attr('y', d => yScale(show_percentage ? d.probability : +d.value))\n                    .attr('height', d => height - margin.bottom - yScale(show_percentage ? d.probability : +d.value))\n            );\n        }\n\n        drawSeriesBars(svg, series1, 1, 'bar', yScale);\n        if (series2_exists) {\n            drawSeriesBars(svg, series2, 2, 'bar', yScale);\n\n            const legend_data = [\n                { label: series1.shortname, color: color(series1.shortname) },\n                { label: series2.shortname, color: color(series2.shortname) }\n            ];\n\n            const legend = svg.append('g')\n                .attr('class', 'legend')\n                .attr('transform', `translate(${margin.left}, ${height - 20})`);\n\n            const legend_items = legend.selectAll('.legend-item')\n                .data(legend_data)\n                .enter()\n                .append('g')\n                .attr('class', 'legend-item')\n                .attr('transform', (d, i) => `translate(${i * 100}, 0)`);\n\n            legend_items.append('rect')\n                .attr('width', 18)\n                .attr('height', 18)\n                .attr('fill', d => d.color);\n\n            legend_items.append('text')\n                .attr('x', 24)\n                .attr('y', 14)\n                .style('font-size', 12)\n                .text(d => d.label);\n        }\n\n        // Dispatch listener to redraw y-axis and bars\n        toggle_view_dispatcher.on(\"toggle_view\", function(state) {\n            show_percentage = state;\n            ylabel = show_percentage ? 'Proportion' : 'Patients Count';\n            yScale = drawYAxis();\n            drawSeriesBars(svg, series1, 1, 'bar', yScale);\n            if (series2_exists) {\n                drawSeriesBars(svg, series2, 2, 'bar', yScale);\n            }\n        });\n        toggle_view_dispatcher.call(\"toggle_view\", null, show_percentage); // initialize state\n\n        return svg.node();\n    }\n\n    // </editor-fold>\n\n    // <editor-fold desc=\"---------- CONCEPTS TABLE FUNCTIONS ----------\">\n\n    function ConceptsTable(dispatch, data, shortnames = [], options = {}){\n        const {\n            dimensions = { height: 432, row_height: 30 },\n            pageSize = 10\n        } = options;\n\n        let full_data = [];       // original dataset\n        let visible_data = [];    // filtered + sorted subset\n\n        // Add these variables for proper state management\n        let current_filter = \"\"; // Track current filter state\n        let filtered_data; // Will be initialized after table_data\n\n        // Add paging variables\n        let current_page = 0;\n        let page_size = pageSize;\n\n        function getTooltipContent(d, series_name){\n            // console.log('getTooltipContent d = ', d);\n            const heading = `<strong>Concept: ${d.concept_code}</strong><br>(${d.concept_name})<hr>`;\n            let msg = ` (no difference)`;\n            if(series_name !== \"\")\n                msg = ` (higher in ${series_name})`;\n            return `${heading} Diff. in Prev: ${Math.abs(d.difference_in_prevalence).toFixed(prevalence_dp)}<br>${msg}`;\n            //     + ;\n            //\n            // const patient_count_text = `${d3.format(\".0%\")(d.difference_in_prevalence || 0)} (${formatFraction(d.value || 0, series.total_count)})`;\n        }\n\n        // function prepareCondOccurCompareData() {\n        //     // Add calculated fields\n        //     let data = cond_hier.map(item => ({\n        //         ...item,  // Keep ALL original fields\n        //         difference_in_prevalence:\n        //             (item.metrics['1']?.prevalence ?? 0) -\n        //             (item.metrics['2']?.prevalence ?? 0),\n        //         cohort1_prevalence: item.metrics['1']?.prevalence ?? 0,\n        //         cohort2_prevalence: item.metrics['2']?.prevalence ?? 0\n        //     }));\n        //     return data;\n        // }\n\n        function prepareCondOccurCompareData() {\n            // Add calculated fields\n            let data = cond_hier.map(item => {\n                const [prev1 = 0, prev2 = 0] = Object.values(item.metrics).map(m => m.prevalence);\n                const [count1 = 0, count2 = 0] = Object.values(item.metrics).map(m => m.count);\n                return {\n                    ...item,  // Keep ALL original fields\n                    difference_in_prevalence: prev1 - prev2,\n                    cohort1_prevalence: prev1,\n                    cohort2_prevalence: prev2,\n                    count_in_cohort1: count1,\n                    count_in_cohort2: count2\n                };\n            });\n            return data;\n        }\n\n        function prepareCondOccurSingleData() {\n            // Add calculated fields\n            let data = cond_hier.map(item => {\n                const [prev = 0] = Object.values(item.metrics).map(m => m.prevalence);\n                const [count = 0] = Object.values(item.metrics).map(m => m.count);\n                return{\n                    ...item,  // Keep ALL original fields\n                    prevalence: prev,\n                    count_in_cohort: count\n                };\n            });\n            return data;\n        }\n\n        // Add pagination helper functions\n        function getTotalPages() {\n            return Math.ceil(filtered_data.length / page_size);\n        }\n\n        function getCurrentPageData() {\n            const start = current_page * page_size;\n            const end = start + page_size;\n            return filtered_data.slice(start, end);\n        }\n\n        function updatePaginationControls() {\n            const total_pages = getTotalPages();\n            const current_display = current_page + 1;\n\n            pagination_container.select('.page-info')\n                .text(`${filtered_data.length} rows`);\n\n            pagination_container.select('.prev-btn')\n                .property('disabled', current_page === 0);\n\n            pagination_container.select('.next-btn')\n                .property('disabled', current_page >= total_pages - 1);\n\n            // Update page input and total pages display\n            nav_container.select('input').property('value', current_display);\n            nav_container.select('.total-pages').text(`of ${total_pages}`);\n        }\n\n        // <editor-fold desc=\"---------- EVENT HANDLER FUNCTIONS ----------\">\n\n        // Function to handle sorting logic\n        function handleSort(d, skipToggle = false) {\n            // console.log('handleSort d = ', d);\n            // Toggle sort direction (unless we're initializing)\n            if (!skipToggle) {\n                if (d.sortDirection === \"asc\") {\n                    d.sortDirection = \"desc\";\n                } else {\n                    d.sortDirection = \"asc\";\n                }\n            }\n\n            // Clear other column sort indicators\n            columns_data.forEach(col => {\n                if (col !== d) {\n                    col.sortDirection = null;\n                }\n            });\n\n            // Update sort indicators using D3 data join\n            headers_g.selectAll(\".sort-indicator\")\n                .text((d, i) => {\n                    const col = columns_data[i];\n                    if (col.sortDirection === \"asc\") return \"▲\";\n                    if (col.sortDirection === \"desc\") return \"▼\";\n                    return \"\";\n                });\n\n            // Sort the ORIGINAL data (not filtered_data)\n            table_data.sort((a, b) => {\n                let aVal, bVal;\n                aVal = a[d.field];\n                bVal = b[d.field];\n\n                // Handle null/undefined values\n                if (aVal === null || aVal === undefined) aVal = \"\";\n                if (bVal === null || bVal === undefined) bVal = \"\";\n\n                // Convert to numbers if they look numeric\n                if (!isNaN(aVal) && !isNaN(bVal) && aVal !== \"\" && bVal !== \"\") {\n                    aVal = parseFloat(aVal);\n                    bVal = parseFloat(bVal);\n                }\n\n                if(d.field === 'difference_in_prevalence'){\n                    aVal = Math.abs(aVal);\n                    bVal = Math.abs(bVal);\n                }\n\n                let comparison = 0;\n                if (aVal < bVal) comparison = -1;\n                if (aVal > bVal) comparison = 1;\n\n                return d.sortDirection === \"desc\" ? -comparison : comparison;\n            });\n\n            // Re-apply current filter to get new filtered_data with sorted order\n            if (current_filter) {\n                const normalized = current_filter.toLowerCase().replace(/[^a-z0-9]/g, \"\");\n                filtered_data = table_data.filter(d => {\n                    const code = d.concept_code.toLowerCase();\n                    const name = d.concept_name.toLowerCase().replace(/[^a-z0-9]/g, \"\");\n                    return code.startsWith(normalized) || name.includes(normalized);\n                });\n            } else {\n                filtered_data = [...table_data];\n            }\n\n            // Reset to first page after sort\n            current_page = 0;\n\n            // Re-render the table body with sorted and filtered data\n            updateTableBody();\n        }\n\n        // </editor-fold>\n\n        // ==== Validation for required params ====\n        if (!dataEntityExists(data)) {\n            throw new Error(\"ConceptsTable requires at least one cohort.\");\n        }\n\n        if (isNullOrEmpty(shortnames)) {\n            shortnames[0] = 'study'\n            shortnames[1] = 'baseline'\n        }\n\n        // ==== Validate optional params ====\n        // if (series2 !== null && series2.data !== null && !Array.isArray(series2.data)) {\n        //     console.warn(\"ConceptsTable: Series 2 data should be an array (or null).\");\n        // }\n\n        if (typeof dimensions !== \"object\" || dimensions === null) {\n            throw new Error(\"ConceptsTable: 'dimensions' must be an object.\");\n        }\n\n        let table_data;\n        if (!isSingleCohort()) {\n            table_data = prepareCondOccurCompareData();\n        } else {\n            table_data = prepareCondOccurSingleData();\n        }\n        console.log('table_data', table_data)\n\n        // Initialize filtered_data after table_data is prepared\n        filtered_data = [...table_data];\n\n        const text_offset_x = 10;\n        const { height, row_height } = dimensions;\n\n        // Remove scroll & set fixed height\n        const container = d3.create(\"div\")\n            .style(\"width\", \"100%\")\n            .style(\"border\", \"1px solid #ccc\")\n\n        // === HEADERS ===\n\n        // converts keys to readable words by:\n        // 1. replacing the underscore with a space, and\n        // 2. capitalizing the first letter of each word\n\n        function makeKeysWords (keys, series1_name, series2_name) {\n            for (let i = 0; i < keys.length; i++) {\n                keys[i] = keys[i].replace(\"cohort1\", series1_name);\n                keys[i] = keys[i].replace(\"cohort2\", series2_name);\n            }\n            return keys.map(key => {\n                return toLabel(key);\n            });\n        }\n\n        const headers_text = makeKeysWords(Object.keys(table_data[0]), shortnames[0], shortnames[1]);\n        // console.log('Object.keys(table_data[0])', Object.keys(table_data[0]));\n\n        if (!table_data.length) {\n            throw new Error(\"ConceptsTable: table_data is empty.\");\n        }\n\n        let columns_data;\n        if(isSingleCohort()){\n            columns_data = [\n                { text: headers_text[2], field: \"concept_code\",  x: 0,   width: 160 },\n                { text: headers_text[1], field: \"concept_name\",  x: 160, width: 590 },\n                { text: headers_text[8], field: \"count_in_cohort\", x: 750, width: 160 },\n                { text: headers_text[7], field: \"prevalence\", x: 910, width: 160 }\n            ];\n        }\n        else{\n            columns_data = [\n                { text: headers_text[2], field: \"concept_code\", x: 0, width: 160, type: 'text' },\n                { text: headers_text[1], field: \"concept_name\", x: 160, width: 350, type: 'text' },\n                { text: headers_text[9], field: \"cohort2_prevalence\", x: 510, width: 160, type: 'text' },\n                { text: headers_text[7], field: \"difference_in_prevalence\", x: 670, width: 240, type: 'compare_bars' },\n                { text: headers_text[8], field: \"cohort1_prevalence\", x: 910, width: 160, type: 'text' }\n            ];\n        }\n\n        const total_table_width = d3.sum(columns_data, d => d.width);\n\n        console.log('columns_data', columns_data);\n\n        const headers_svg = container.append(\"svg\")\n            .attr(\"width\", total_table_width)\n            .attr(\"height\", row_height)\n            .style(\"background\", \"white\");\n\n        const headers_g = headers_svg.append(\"g\");\n\n        const header_g = headers_g.selectAll(\"g\")\n            .data(columns_data)\n            .enter()\n            .append(\"g\")\n            .attr(\"transform\", d => `translate(${d.x},0)`);\n\n        const color = d3.scaleOrdinal()\n            .domain(shortnames) // the series labels\n            .range(d3.schemePaired);\n\n        header_g.append(\"rect\")\n            .attr(\"width\", d => d.width)\n            .attr(\"height\", row_height)\n            .attr(\"fill\", \"#d0d0d0\")\n            .attr(\"stroke\", \"#fff\")\n            .style(\"cursor\", \"pointer\")\n            .on(\"click\", function(event, d) {\n                dispatch.call(\"sort\", this, d);\n            });\n\n        header_g.append(\"text\")\n            .attr(\"x\", text_offset_x)\n            .attr(\"y\", row_height / 2)\n            .attr(\"dy\", \"0.35em\")\n            .attr(\"text-anchor\", \"start\")\n            .style(\"cursor\", \"pointer\")\n            .style(\"pointer-events\", \"all\")\n            .text(d => d.text)\n            .on(\"click\", function(event, d) {\n                event.stopPropagation(); // Prevent header rect click\n                dispatch.call(\"sort\", this, d);\n            });\n\n        // Add sort indicators\n        header_g.append(\"text\")\n            .attr(\"class\", \"sort-indicator\")\n            .attr(\"x\", d => d.width - 15)\n            .attr(\"y\", row_height / 2)\n            .attr(\"dy\", \"0.35em\")\n            .attr(\"text-anchor\", \"middle\")\n            .attr(\"font-size\", font_size)\n            .attr(\"fill\", \"#666\")\n            .style(\"cursor\", \"pointer\")\n            .style(\"pointer-events\", \"all\")\n            .text(\"\")\n            .on(\"click\", function(event, d) {\n                event.stopPropagation(); // Prevent header click\n                dispatch.call(\"sort\", this, d);\n            });\n\n        dispatch.on(\"sort\", function(column_data) {\n            // console.log('handling dispatch sort call');\n            handleSort(column_data);\n        });\n\n        dispatch.on(\"filter\", function(search_term) {\n            current_filter = search_term; // Store current filter\n            const normalized = search_term.toLowerCase().replace(/[^a-z0-9]/g, \"\");\n\n            // Update filtered_data\n            if (normalized === \"\") {\n                filtered_data = [...table_data]; // Show all data\n            } else {\n                // TODO: clear selected row here\n                filtered_data = table_data.filter(d => {\n                    const code = d.concept_code.toLowerCase();\n                    const name = d.concept_name.toLowerCase().replace(/[^a-z0-9]/g, \"\");\n                    return code.startsWith(normalized) || name.includes(normalized);\n                });\n                // Clear selections for hidden rows\n                clearHiddenSelections(filtered_data);\n            }\n\n            // Reset to first page after filter\n            current_page = 0;\n\n            // Re-render with filtered data\n            updateTableBody();\n        });\n\n        dispatch.on(\"column-resize\", function(data) {\n            const {phase, columnData: column_data, element} = data;\n\n            switch (phase) {\n                case \"start\":\n                    const {startWidth, startX} = data;\n                    column_data.startWidth = startWidth;\n                    column_data.startX = startX;\n                    break;\n\n                case \"drag\":\n                    const {currentX} = data;\n                    const dx = currentX - column_data.startX;\n                    const newWidth = Math.max(30, column_data.startWidth + dx);\n                    column_data.width = newWidth;\n\n                    // Update header rect using the passed element reference\n                    d3.select(element.parentNode).select(\"rect\").attr(\"width\", newWidth);\n                    // Update resize handle position\n                    d3.select(element).attr(\"x\", newWidth - 5);\n\n                    // Recalculate x positions for all columns after this one\n                    let x = 0;\n                    columns_data.forEach(col => {\n                        col.x = x;\n                        x += col.width;\n                    });\n\n                    // Update header positions\n                    headers_g.selectAll(\"g\").attr(\"transform\", col => `translate(${col.x},0)`);\n\n                    // Update sort indicator positions within each header group\n                    headers_g.selectAll(\"g\").select(\".sort-indicator\")\n                        .attr(\"x\", d => d.width - 15);\n\n                    body_svg.selectAll(\".cell\").each(function(d, i) {\n                        const col = columns_data[i % columns_data.length];\n                        d3.select(this)\n                            .attr(\"transform\", `translate(${col.x},0)`)\n                            .select(\".cell-bg\")\n                            .attr(\"width\", col.width);\n                    });\n\n                    // Update body and header SVG width\n                    const total_width = d3.sum(columns_data, c => c.width);\n                    body_svg.attr(\"width\", total_width);\n                    headers_svg.attr(\"width\", total_width);\n                    break;\n\n                case \"end\":\n                    // Clean up temporary properties\n                    delete column_data.startWidth;\n                    delete column_data.startX;\n                    break;\n            }\n        });\n\n        dispatch.on(\"change-dp\", function(dp_value) {\n            // Parse and validate the decimal places value\n            let newDP = parseInt(dp_value);\n            if (isNaN(newDP) || newDP < 0 || newDP > 16) {\n                newDP = 0;\n            }\n\n            prevalence_dp = newDP;\n\n            // Clear existing table body content\n            rows_g.selectAll(\".row\").remove();\n\n            // Re-render the table with new decimal places\n            const page_data = getCurrentPageData();\n            const row = rows_g.selectAll(\".row\")\n                .data(page_data)\n                .enter()\n                .append(\"g\")\n                .attr(\"class\", \"row\")\n                .attr(\"transform\", (d, i) => `translate(0, ${i * row_height})`);\n\n            renderTableCells(row);\n            // }\n        });\n\n        // === Column resizing handle ===\n        header_g.append(\"rect\")\n            .attr(\"class\", \"resize-handle\")\n            .attr(\"x\", d => d.width - 5)\n            .attr(\"y\", 0)\n            .attr(\"width\", 5)\n            .attr(\"height\", row_height)\n            .style(\"cursor\", \"col-resize\")\n            .style(\"fill\", \"transparent\")\n            .call(d3.drag()\n                .on(\"start\", function(event, d) {\n                    dispatch.call(\"column-resize\", this, {\n                        phase: \"start\",\n                        columnData: d,\n                        startWidth: d.width,\n                        startX: event.x,\n                        element: this,  // Pass the DOM element reference\n                        event: event\n                    });\n                })\n                .on(\"drag\", function(event, d) {\n                    dispatch.call(\"column-resize\", this, {\n                        phase: \"drag\",\n                        columnData: d,\n                        startWidth: d.startWidth,\n                        startX: d.startX,\n                        currentX: event.x,\n                        element: this,  // Pass the DOM element reference\n                        event: event\n                    });\n                })\n                .on(\"end\", function(event, d) {\n                    dispatch.call(\"column-resize\", this, {\n                        phase: \"end\",\n                        columnData: d,\n                        element: this,  // Pass the DOM element reference\n                        event: event\n                    });\n                })\n            );\n\n        // TABLE BODY\n        const body_height = page_size * row_height;\n\n        // track selected rows\n        let selected_rows = new Set();\n\n        // clear selections for filtered-out rows\n        function clearHiddenSelections(visible_data) {\n            const visibleRowIds = new Set(visible_data.map(d => d.id || d.shortname || JSON.stringify(d)));\n\n            // Find selected rows that are no longer visible\n            const hidden_selected_rows = [...selected_rows].filter(rowId => !visibleRowIds.has(rowId));\n\n            // Remove hidden rows from selection\n            hidden_selected_rows.forEach(rowId => {\n                selected_rows.delete(rowId);\n            });\n\n            // If we had selections that are now hidden, update the UI\n            if (hidden_selected_rows.length > 0) {\n                rows_g.selectAll(\"g\").classed(\"selected\", false);\n                rows_g.selectAll(\".row-border\").remove();\n            }\n        }\n\n        const body_svg = container.append(\"svg\")\n            .attr(\"width\", total_table_width)\n            .attr(\"height\", body_height);\n\n        const rows_g = body_svg.append(\"g\");\n\n        let max_bias, max_diff, margin = 5;\n        if (!isSingleCohort()) {\n            // max_bias = d3.max(table_data, d => Math.abs(d.bias)) || 0;\n            max_diff = d3.max(table_data, d => Math.abs(d.difference_in_prevalence)) || 0;\n        }\n\n        const biasScale = d3.scaleLinear();\n        const barScale = d3.scaleLinear();\n        let zeroX, g, outerHeight, innerY, innerH;\n\n        let prevalence_dp = default_prevalence_dp;\n        function renderTableCells(row) {\n            const dafault_prevalence = 0;\n\n            // Add click handler to the row group itself\n            row.attr(\"cursor\", \"pointer\")\n                .on(\"click\", function(event, d) {\n                    // Get a unique identifier for this row (adjust based on your data structure)\n                    const rowId = d.id || d.shortname || JSON.stringify(d);\n\n                    // Check if this row is already selected\n                    if (selected_rows.has(rowId)) {\n                        // Deselect this row\n                        selected_rows.delete(rowId);\n                        d3.select(this).classed(\"selected\", false);\n                        // Remove the border\n                        d3.select(this).select(\".row-border\").remove();\n                        onRowSelect(d, false);\n                    } else {\n                        // Clear all previous selections first\n                        selected_rows.clear();\n                        rows_g.selectAll(\"g\").classed(\"selected\", false);\n                        rows_g.selectAll(\".row-border\").remove();\n\n                        // Select this row\n                        selected_rows.add(rowId);\n                        d3.select(this).classed(\"selected\", true);\n\n                        // Add border around the entire row\n                        d3.select(this).append(\"rect\")\n                            .attr(\"class\", \"row-border\")\n                            .attr(\"x\", 0)\n                            .attr(\"y\", 0)\n                            .attr(\"width\", total_table_width)\n                            .attr(\"height\", row_height);\n\n                        onRowSelect(d, true);\n                    }\n                });\n\n            function getPrevalenceValue(val, col, d) {\n                // Define which fields are numeric\n                const numericFields =\n                    [\"prevalence\", \"count_in_cohort\", \"cohort1_prevalence\", \"cohort2_prevalence\"];\n                const no_dp = [\"count_in_cohort\"];\n\n                if (val === null || val === undefined) {\n                    if(numericFields.includes(col.field))\n                        val = dafault_prevalence\n                    else val = 0;\n                }\n\n                if(numericFields.includes(col.field) && !no_dp.includes(col.field))\n                    val = val.toFixed(prevalence_dp)\n\n                return val;\n            }\n\n            // per-row, per-column cells\n            columns_data.forEach(col => {\n                const cell = row.append(\"g\")\n                    .attr(\"class\", \"cell\")\n                    .attr(\"transform\", `translate(${col.x},0)`);\n\n                cell.append(\"rect\")\n                    .attr(\"class\", \"cell-bg\")\n                    .attr(\"width\", col.width)\n                    .attr(\"height\", row_height)\n                    .attr(\"fill\", \"#f0f0f0\")\n                    .attr(\"stroke\", \"#ccc\");\n\n                if (isSingleCohort()) {\n                    cell.append(\"text\")\n                        .attr(\"x\", text_offset_x)\n                        .attr(\"y\", row_height / 2)\n                        .attr(\"dy\", \"0.35em\")\n                        .attr(\"text-anchor\", \"start\")\n                        .text(d => {\n                            return getPrevalenceValue(d[col.field], col, d);\n                        });\n                    // TODO: for prevalence column only, show fraction (e.g., 404/414)\n                    // .on(\"mouseover\", function (event, d ) {\n                    //     tooltipDispatcher.call(\"show\", null, {\n                    //         content: '',\n                    //         event: event\n                    //     });\n                    // })\n                    // .on(\"mouseout\", function () {\n                    //     tooltipDispatcher.call(\"hide\");\n                    // });\n                } else {\n\n                    function getHighestPrevalenceSeriesName(d) {\n                        if (d.cohort1_prevalence > d.cohort2_prevalence) return 0;\n                        if (d.cohort1_prevalence < d.cohort2_prevalence) return 1;\n                        return 0;\n                    }\n\n                    switch (col.type) {\n                        case \"text\":\n                            cell.append(\"text\")\n                                .attr(\"x\", text_offset_x)\n                                .attr(\"y\", row_height / 2)\n                                .attr(\"dy\", \"0.35em\")\n                                .attr(\"text-anchor\", \"start\")\n                                .text(d => {\n                                    return getPrevalenceValue(d[col.field], col, d);\n                                });\n                            // TODO: for prevalence columns only, show fraction (e.g., 404/414)\n                            // .on(\"mouseover\", function (event, d ) {\n                            //     tooltipDispatcher.call(\"show\", null, {\n                            //         content: '',\n                            //         event: event\n                            //     });\n                            // })\n                            // .on(\"mouseout\", function () {\n                            //     tooltipDispatcher.call(\"hide\");\n                            // });\n                            break;\n\n                        case \"bar\":\n                            biasScale\n                                .domain([0, max_bias || 1])\n                                .range([margin, col.width - margin]);  // full available space inside cell\n\n                            cell.each(function (d) {\n                                g = d3.select(this);\n                                outerHeight = row_height;\n                                innerY = margin;\n                                innerH = outerHeight - 2 * margin;\n\n                                // Bar: left-aligned, scaled to bias value\n                                g.append(\"rect\")\n                                    .attr(\"x\", 0)\n                                    .attr(\"y\", innerY)\n                                    .attr(\"width\", biasScale(Math.abs(d.metrics['1'].prevalence)))\n                                    .attr(\"height\", innerH)\n                                    .attr(\"fill\", \"lightslategrey\");\n\n                                // Text: show the bias value\n                                g.append(\"text\")\n                                    .attr(\"x\", 4)  // small left inset\n                                    .attr(\"y\", outerHeight / 2 + 4)\n                                    .attr(\"font-size\", font_size)\n                                    .attr(\"fill\", \"black\")\n                                    .text(Math.abs(d.metrics['1'].count !== null ? Math.abs(d.metrics['1'].count).toFixed(prevalence_dp) :\n                                        dafault_prevalence.toFixed(prevalence_dp)));\n                            });\n                            break;\n\n                        case \"compare_bars\":\n                            barScale\n                                .domain([-max_diff || -1, max_diff || 1])\n                                .range([margin, col.width - margin]);  // full available space inside cell\n\n                            zeroX = barScale(0);\n\n                            cell.each(function (d) {\n                                g = d3.select(this);\n                                outerHeight = row_height;\n                                innerY = 5;\n                                innerH = outerHeight - 2 * margin;\n\n                                // x = 0 marker\n                                g.append(\"line\")\n                                    .attr(\"x1\", zeroX)\n                                    .attr(\"y1\", 0)\n                                    .attr(\"x2\", zeroX)\n                                    .attr(\"y2\", outerHeight)\n                                    .attr(\"stroke\", \"grey\")\n                                    .attr(\"stroke-width\", 1)\n                                    .attr(\"stroke-dasharray\", \"3,3\");\n\n                                const diff_val = d.difference_in_prevalence;\n                                const abs_diff = Math.abs(diff_val);\n                                // console.log('d', d);\n\n                                // Bar (only if difference is significant enough to be visible)\n                                if (abs_diff >= 0.001) {\n                                    g.append(\"rect\")\n                                        .attr(\"x\", Math.min(zeroX, barScale(diff_val)))\n                                        .attr(\"y\", innerY)\n                                        .attr(\"width\", Math.abs(barScale(diff_val) - zeroX))\n                                        .attr(\"height\", innerH)\n                                        .attr(\"fill\", diff_val < 0 ? color(shortnames[1]) : color(shortnames[0]))\n                                        .on(\"mouseover\", function (event, d) {\n                                            const highest_prevalence = getHighestPrevalenceSeriesName(d);\n                                            let highest_series_name = \"\";\n                                            if(highest_prevalence >= 0)\n                                                highest_series_name = shortnames[highest_prevalence];\n\n                                            tooltipDispatcher.call(\"show\", null, {\n                                                content: getTooltipContent(d, highest_series_name),\n                                                event: event\n                                            });\n                                        })\n                                        .on(\"mouseout\", function () {\n                                            tooltipDispatcher.call(\"hide\");\n                                        });\n                                }\n\n                                // Invisible hover rectangle for small/zero values\n                                if (abs_diff <= 0.005) {\n                                    const hover_width = barScale(0.2) - barScale(0); // Width for 0.2 difference\n                                    g.append(\"rect\")\n                                        .attr(\"x\", zeroX - hover_width/2)\n                                        .attr(\"y\", innerY)\n                                        .attr(\"width\", hover_width)\n                                        .attr(\"height\", innerH)\n                                        .attr(\"fill\", \"transparent\")\n                                        .attr(\"opacity\", 0)\n                                        .style(\"cursor\", \"pointer\")\n                                        .on(\"mouseover\", function (event, d) {\n                                            const highest_prevalence = getHighestPrevalenceSeriesName(d);\n                                            let highest_series_name = \"\";\n                                            if(highest_prevalence >= 0)\n                                                highest_series_name = shortnames[highest_prevalence];\n\n                                            tooltipDispatcher.call(\"show\", null, {\n                                                content: getTooltipContent(d, highest_series_name),\n                                                event: event\n                                            });\n                                        })\n                                        .on(\"mouseout\", function () {\n                                            tooltipDispatcher.call(\"hide\");\n                                        });\n                                }\n\n                                // Text label - positioned based on value sign\n                                const textX = d.difference_in_prevalence >= 0 ?\n                                    Math.min(zeroX, barScale(d.difference_in_prevalence)) - 5 : // Left of positive bars\n                                    Math.max(zeroX, barScale(d.difference_in_prevalence)) + 5;  // Right of negative bars\n\n                                const textAnchor = d.difference_in_prevalence >= 0 ? \"end\" : \"start\";\n\n                                // g.append(\"text\")\n                                //     .attr(\"x\", textX)\n                                //     .attr(\"y\", row_height / 2 + 4)\n                                //     .attr(\"text-anchor\", textAnchor)\n                                //     .attr(\"font-size\", font_size)\n                                //     .text(d.difference_in_prevalence !== null ?\n                                //         Math.abs(d.difference_in_prevalence.toFixed(prevalence_dp)) :\n                                //         dafault_prevalence.toFixed(prevalence_dp));\n                            });\n                            break;\n\n                        default:\n                            throw new Error(`Unknown column type: ${col.type}`);\n                    }\n                }\n            });\n        }\n\n        // callback function for handling row selection\n        function onRowSelect(rowData, isSelected) {\n            console.log(`Row ${isSelected ? 'selected' : 'deselected'}:`, rowData);\n            // TODO: add selection logic here\n        }\n\n        function updateTableBody() {\n            const page_data = getCurrentPageData();\n\n            const rows = rows_g.selectAll(\".row\")\n                .data(page_data, d => d.concept_code);\n\n            // Remove exiting rows\n            rows.exit().remove();\n\n            // Add new rows\n            const rowsEnter = rows.enter()\n                .append(\"g\")\n                .attr(\"class\", \"row\");\n\n            // Merge enter and update selections\n            const rowsUpdate = rowsEnter.merge(rows);\n\n            // Update positions with transition\n            rowsUpdate\n                .transition()\n                .duration(150)\n                .ease(d3.easeQuadOut)\n                .attr(\"transform\", (d, i) => `translate(0, ${i * row_height})`);\n\n            // Render cells for new rows only\n            renderTableCells(rowsEnter);\n\n            // Update pagination controls\n            updatePaginationControls();\n        }\n\n        // === ADD PAGINATION CONTROLS ===\n        const pagination_container = container.append(\"div\")\n            .style(\"padding\", \"5px 10px\")\n            .style(\"border-top\", \"1px solid #ccc\")\n            .style(\"background\", \"#f9f9f9\")\n            .style(\"display\", \"flex\")\n            .style(\"justify-content\", \"space-between\")\n            .style(\"align-items\", \"center\");\n\n        // Left side - page info\n        pagination_container.append(\"div\")\n            .attr(\"class\", \"page-info\")\n            .style(\"color\", \"#666\");\n\n        // Right side - navigation controls\n        const nav_container = pagination_container.append(\"div\")\n            .style(\"display\", \"flex\")\n            .style(\"gap\", \"5px\")\n            .style(\"align-items\", \"center\");\n\n        const prev_btn = nav_container.append(\"button\")\n            .attr(\"class\", \"prev-btn\")\n            .style(\"padding\", \"2px 6px\")\n            .style(\"border\", \"1px solid #ccc\")\n            .style(\"background\", \"#fff\")\n            .style(\"cursor\", \"pointer\")\n            .text(\"<\")\n            .on(\"click\", function() {\n                if (current_page > 0) {\n                    current_page--;\n                    updateTableBody();\n                }\n            });\n\n        // Add page jump input\n        nav_container.append(\"span\")\n            .text(\"Page\");\n\n        const page_input = nav_container.append(\"input\")\n            .attr(\"type\", \"number\")\n            .attr(\"min\", 1)\n            .style(\"width\", \"40px\")\n            .style(\"padding\", \"2px\")\n            .style(\"border\", \"1px solid #ccc\")\n            .style(\"text-align\", \"center\")\n            .on(\"change\", function() {\n                const page_num = parseInt(this.value);\n                const total_pages = getTotalPages();\n                if (page_num >= 1 && page_num <= total_pages) {\n                    current_page = page_num - 1; // Convert to 0-based index\n                    updateTableBody();\n                } else {\n                    // Reset to current page if invalid\n                    this.value = current_page + 1;\n                }\n            });\n\n        nav_container.append(\"span\")\n            .attr(\"class\", \"total-pages\");\n\n        const next_btn = nav_container.append(\"button\")\n            .attr(\"class\", \"next-btn\")\n            .style(\"padding\", \"2px 6px\")\n            .style(\"border\", \"1px solid #ccc\")\n            .style(\"background\", \"#fff\")\n            .style(\"cursor\", \"pointer\")\n            .text(\">\")\n            .on(\"click\", function() {\n                if (current_page < getTotalPages() - 1) {\n                    current_page++;\n                    updateTableBody();\n                }\n            });\n\n        // Initial render\n        const initial_page_data = getCurrentPageData();\n        // console.log('initial_page_data', initial_page_data);\n        const row = rows_g.selectAll(\".row\")\n            .data(initial_page_data)\n            .enter()\n            .append(\"g\")\n            .attr(\"class\", \"row\")\n            .attr(\"transform\", (d, i) => `translate(0, ${i * row_height})`);\n\n        renderTableCells(row);\n\n        // Initialize with descending sort on difference_in_prevalence if we have comparison data\n        // or on prevalence for single dataset tables\n        if (!isSingleCohort()) {\n            const diffColumn = columns_data.find(col => col.field === \"difference_in_prevalence\");\n            if (diffColumn) {\n                diffColumn.sortDirection = \"desc\";\n                handleSort(diffColumn, true); // Skip toggle for initialization\n            }\n        } else {\n            // For single dataset, sort by prevalence (which uses a function field)\n            const prevalenceColumn = columns_data.find(col =>\n                typeof col.field === \"function\" && col.field.toString().includes(\"prevalence\")\n            );\n            if (prevalenceColumn) {\n                prevalenceColumn.sortDirection = \"desc\";\n                handleSort(prevalenceColumn, true); // Skip toggle for initialization\n            }\n        }\n\n        // Initialize pagination controls\n        updatePaginationControls();\n\n        return container.node();\n    }\n\n    // </editor-fold>\n\n    // <editor-fold desc=\"---------- PAGE LAYOUT ----------\">\n\n    // overall container\n    const vis_container = d3.select(el).append(\"div\").attr('class', 'vis-container');\n\n    // summary container row\n    const div_cohort_summary = vis_container.append('div').attr('class', 'row-container cohort-summary');\n\n    // demographics row\n    const demographics_row = vis_container.append('div').attr('class', 'row-container');\n    const div_gender = demographics_row.append('div').attr('class', 'col-container');\n    const div_race = demographics_row.append('div').attr('class', 'col-container');\n    // const div_ethnicity = demographics_row.append('div').attr('class', 'col-container');\n    const div_age = demographics_row.append('div').attr('class', 'col-container');\n\n    // concepts row\n    const concepts_row = vis_container.append('div').attr('class', 'row-container concepts-row');\n    const div_concepts_table_container = concepts_row.append('div').attr('class', 'col-container');\n    // const div_concept_dragbar = concepts_row.append('div').attr('class', 'col-container dragbar');\n    // const div_concept_detail_container = concepts_row.append('div').attr('class', 'col-container');\n\n    // concepts controls row\n    const div_concepts_ctrl = div_concepts_table_container.append('div')\n        .attr('class', 'row-container')\n        .style('display', 'flex')\n        .style('justify-content', 'flex-start')\n        .style('border', 'none');\n\n    // the container row for the concepts table itself\n    const div_concepts_table = div_concepts_table_container.append('div').attr('class', 'row-container');\n\n    // </editor-fold>\n\n    // <editor-fold desc=\"---------- INSERT THE VISUALIZATIONS ----------\">\n\n    const cohort2_exists = dataEntityExists(cohort2_stats); // assumption: if this exists, the rest of the cohort 2 data also exists\n\n    // summary statistics\n    SummaryStatistics(div_cohort_summary, {data: cohort1_stats, meta: cohort1_meta, shortname: cohort1_shortname},\n        {series2: {data: cohort2_stats, meta: cohort2_meta, shortname: cohort2_shortname}});\n\n    // draw the gender barchart\n    let series2_data = cohort2_exists ?\n        {data: gender_dist2, shortname: cohort2_shortname, total_count: cohort2_stats[0].total_count} : {};\n    div_gender.append(() =>\n        VerticalBarChart({data: gender_dist1, shortname: cohort1_shortname, total_count: cohort1_stats[0].total_count},\n            {series2: series2_data, dimensions: {xlabel: 'gender'}})\n    );\n\n    series2_data = cohort2_exists ?\n        {data: race_stats2, shortname: cohort2_shortname, total_count: cohort2_stats[0].total_count} : {};\n    div_race.append(() =>\n        VerticalBarChart({data: race_stats1, shortname: cohort1_shortname, total_count: cohort1_stats[0].total_count},\n            {series2: series2_data, dimensions: {xlabel: 'race'}})\n    );\n\n    // series2_data = cohort2_exists ?\n    //     {data: ethnicity_stats2, shortname: cohort2_shortname, total_count: cohort2_stats[0].total_count} : {};\n    // div_ethnicity.append(() =>\n    //     VerticalBarChart({data: ethnicity_stats1, shortname: cohort1_shortname, total_count: cohort1_stats[0].total_count},\n    //         {series2: series2_data, dimensions: {xlabel: 'ethnicity'}})\n    // );\n\n    series2_data = cohort2_exists ?\n        {data: age_dist2, shortname: cohort2_shortname, total_count: cohort2_stats[0].total_count} : {};\n    div_age.append(() =>\n        VerticalBarChart({data: age_dist1, shortname: cohort1_shortname, total_count: cohort1_stats[0].total_count},\n            {series2: series2_data, dimensions: {xlabel: 'age'}})\n    );\n\n    // draw the concepts table search box\n    div_concepts_ctrl.append(() =>\n        SearchBox(conceptsTableDispatcher, {label: 'Filter concept code or name'})\n    );\n\n    const default_prevalence_dp = 3;\n    div_concepts_ctrl.append(() =>\n        SpinnerBox(conceptsTableDispatcher, {label: 'Prev dp'})\n    );\n\n    div_concepts_table.append(() =>\n        ConceptsTable(conceptsTableDispatcher, cond_hier, [cohort1_shortname, cohort2_shortname])\n    );\n\n    // </editor-fold>\n\n    // return () => {\n    //   // Optional: Called when the view is destroyed.\n    // }\n\n} // end render\n\n// export default async () => {\n//   let extraState = {};\n//   return {\n//     initialize({ model }) { /* ... */ },\n//     render({ model, el }) { /* ... */ },\n//   }\n// }\n\nexport default { render };\n",
       "_ethnicity_stats1": [
        {
         "ethnicity": "other",
         "ethnicity_count": 4718,
         "probability": 1
        }
       ],
       "_gender_dist1": [
        {
         "gender": "female",
         "gender_count": 0,
         "probability": 0
        },
        {
         "gender": "male",
         "gender_count": 4718,
         "probability": 100
        },
        {
         "gender": "other",
         "gender_count": 0,
         "probability": 0
        }
       ],
       "_model_module": "anywidget",
       "_model_module_version": "~0.9.*",
       "_model_name": "AnyModel",
       "_race_stats1": [
        {
         "probability": 0.01,
         "race": "Other",
         "race_count": 58
        },
        {
         "probability": 0.1,
         "race": "Asian",
         "race_count": 489
        },
        {
         "probability": 0.12,
         "race": "Black or African American",
         "race_count": 573
        },
        {
         "probability": 0.76,
         "race": "White",
         "race_count": 3598
        }
       ],
       "_view_module": "anywidget",
       "_view_module_version": "~0.9.*",
       "_view_name": "AnyView",
       "initialized": true,
       "layout": "IPY_MODEL_8e0418750e654b53b937025290e10f5f"
      }
     },
     "a2c6c3f96d3f4b4da7dae7625afdac58": {
      "model_module": "@jupyter-widgets/base",
      "model_module_version": "2.0.0",
      "model_name": "LayoutModel",
      "state": {
       "width": "auto"
      }
     },
     "a5fcb84b42404b13b62d0174c0a0ea26": {
      "model_module": "@jupyter-widgets/controls",
      "model_module_version": "2.0.0",
      "model_name": "ProgressStyleModel",
      "state": {
       "description_width": ""
      }
     },
     "ab61fa18be2443f4a38d059f17abbb1e": {
      "model_module": "@jupyter-widgets/controls",
      "model_module_version": "2.0.0",
      "model_name": "FloatProgressModel",
      "state": {
       "layout": "IPY_MODEL_bf87027f99664fa4ad3df13f127e7933",
       "style": "IPY_MODEL_9d42a8c9cbbb4fc4a2d163d64754e74b",
       "value": 100
      }
     },
     "b32db9c675c24842a41768f36a6a6b06": {
      "model_module": "@jupyter-widgets/controls",
      "model_module_version": "2.0.0",
      "model_name": "HTMLStyleModel",
      "state": {
       "description_width": "",
       "font_size": null,
       "text_color": null
      }
     },
     "ba616e2eeeb348c1b26c9c2d3ee3cdf6": {
      "model_module": "@jupyter-widgets/base",
      "model_module_version": "2.0.0",
      "model_name": "LayoutModel",
      "state": {
       "width": "auto"
      }
     },
     "bf87027f99664fa4ad3df13f127e7933": {
      "model_module": "@jupyter-widgets/base",
      "model_module_version": "2.0.0",
      "model_name": "LayoutModel",
      "state": {
       "width": "auto"
      }
     },
     "d19907d00e2b447db8bffe6b9bef8a17": {
      "model_module": "@jupyter-widgets/controls",
      "model_module_version": "2.0.0",
      "model_name": "ProgressStyleModel",
      "state": {
       "bar_color": "black",
       "description_width": ""
      }
     },
     "dafd2f55164946b3b08d13b622897ead": {
      "model_module": "@jupyter-widgets/controls",
      "model_module_version": "2.0.0",
      "model_name": "FloatProgressModel",
      "state": {
       "layout": "IPY_MODEL_a2c6c3f96d3f4b4da7dae7625afdac58",
       "style": "IPY_MODEL_d19907d00e2b447db8bffe6b9bef8a17",
       "value": 100
      }
     },
     "df637ab1a4044fc6921b0f764d735e81": {
      "model_module": "@jupyter-widgets/controls",
      "model_module_version": "2.0.0",
      "model_name": "HTMLStyleModel",
      "state": {
       "description_width": "",
       "font_size": null,
       "text_color": null
      }
     },
     "e0f64bc48f034e42a6997b5190bdc43d": {
      "model_module": "@jupyter-widgets/controls",
      "model_module_version": "2.0.0",
      "model_name": "ProgressStyleModel",
      "state": {
       "bar_color": "black",
       "description_width": ""
      }
     },
     "ee893d6138fd4451bc83585d6b66e895": {
      "model_module": "@jupyter-widgets/controls",
      "model_module_version": "2.0.0",
      "model_name": "FloatProgressModel",
      "state": {
       "layout": "IPY_MODEL_46428086a37c4b4e9dabc71779f1d350",
       "max": 3,
       "style": "IPY_MODEL_a5fcb84b42404b13b62d0174c0a0ea26",
       "value": 3
      }
     },
     "f15e50225ef444dc8ced65931ad3a48e": {
      "model_module": "@jupyter-widgets/controls",
      "model_module_version": "2.0.0",
      "model_name": "HTMLModel",
      "state": {
       "layout": "IPY_MODEL_7e7c49d3c48d4eb79f3eea33468df6b4",
       "style": "IPY_MODEL_df637ab1a4044fc6921b0f764d735e81",
       "value": " 3/3 [00:00&lt;00:00,  9.04stage/s, Inserted cohort data into DuckDB - Done]"
      }
     },
     "f2435db9eaf24c039868121748ce09c0": {
      "model_module": "@jupyter-widgets/base",
      "model_module_version": "2.0.0",
      "model_name": "LayoutModel",
      "state": {}
     },
     "f41e1537ece04b53891675e83377adb9": {
      "model_module": "@jupyter-widgets/base",
      "model_module_version": "2.0.0",
      "model_name": "LayoutModel",
      "state": {
       "flex": "2"
      }
     },
     "f66b4dfe71084acb953b757369f9b60f": {
      "model_module": "@jupyter-widgets/base",
      "model_module_version": "2.0.0",
      "model_name": "LayoutModel",
      "state": {}
     }
    },
    "version_major": 2,
    "version_minor": 0
   }
  }
 },
 "nbformat": 4,
 "nbformat_minor": 5
}
