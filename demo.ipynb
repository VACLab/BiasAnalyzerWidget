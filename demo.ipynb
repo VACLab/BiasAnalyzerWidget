{
 "cells": [
  {
   "cell_type": "code",
   "id": "6407f66210c614f",
   "metadata": {},
   "source": [
    "from ViewCohort import *\n",
    "from biasanalyzer.api import BIAS\n",
    "\n",
    "# initialize BIAS and connect to the database\n",
    "bias = BIAS()\n",
    "bias.set_config(\"config.yaml\")\n",
    "bias.set_root_omop()"
   ],
   "outputs": [],
   "execution_count": null
  },
  {
   "cell_type": "code",
   "id": "e005c2b255a8e001",
   "metadata": {},
   "source": [
    "import os\n",
    "\n",
    "COHORT_CREATION_YAML_PATH = './yaml'\n",
    "\n",
    "# create a study cohort (def create_cohort(self, cohort_name, cohort_desc, query_or_yaml_file, created_by))\n",
    "study_cohort = bias.create_cohort('Heart failure patients',\n",
    "                                  'Heart failure patients for the study cohort',\n",
    "                                   os.path.join(COHORT_CREATION_YAML_PATH, 'study1.yaml'),\n",
    "                                   'system')"
   ],
   "outputs": [],
   "execution_count": null
  },
  {
   "cell_type": "code",
   "id": "1291c6acc150b2ff",
   "metadata": {},
   "source": [
    "# create a baseline cohort (def create_cohort(self, cohort_name, cohort_desc, query_or_yaml_file, created_by))\n",
    "baseline_cohort = bias.create_cohort('Heart failure patients baseline',\n",
    "                                     'Heart failure patients for the baseline cohort',\n",
    "                                     os.path.join(COHORT_CREATION_YAML_PATH, 'baseline.yaml'),\n",
    "                                     'system')"
   ],
   "outputs": [],
   "execution_count": null
  },
  {
   "cell_type": "code",
   "id": "b831993d614e53e1",
   "metadata": {},
   "source": [
    "# create and render a BiasAnalyzer widget to view the study cohort\n",
    "study_widget = ViewCohort(cohort1=study_cohort,\n",
    "                          cohort1_name=\"study\")\n",
    "study_widget"
   ],
   "outputs": [],
   "execution_count": null
  },
  {
   "cell_type": "code",
   "id": "a96100513ed37a2f",
   "metadata": {},
   "source": [
    "# create and render a BiasAnalyzer widget to view the baseline cohort\n",
    "baseline_widget = ViewCohort(cohort1=baseline_cohort,\n",
    "                             cohort1_name=\"baseline\")\n",
    "baseline_widget"
   ],
   "outputs": [],
   "execution_count": null
  },
  {
   "cell_type": "code",
   "id": "323ebdf689cd2d63",
   "metadata": {},
   "source": [
    "# create and render a BiasAnalyzer widget to compare the two cohorts\n",
    "compare_widget = ViewCohort(cohort1=study_cohort,\n",
    "                            cohort2=baseline_cohort,\n",
    "                            cohort1_name=\"study\",\n",
    "                            cohort2_name=\"baseline\")\n",
    "compare_widget"
   ],
   "outputs": [],
   "execution_count": null
  },
  {
   "metadata": {},
   "cell_type": "code",
   "source": [
    "# disconnect from the database\n",
    "bias.cleanup()"
   ],
   "id": "56d56e455be6f6d3",
   "outputs": [],
   "execution_count": null
  }
 ],
 "metadata": {
  "kernelspec": {
   "display_name": "biasanalyzer",
   "language": "python",
   "name": "biasanalyzer"
  },
  "language_info": {
   "codemirror_mode": {
    "name": "ipython",
    "version": 3
   },
   "file_extension": ".py",
   "mimetype": "text/x-python",
   "name": "python",
   "nbconvert_exporter": "python",
   "pygments_lexer": "ipython3",
   "version": "3.11.7"
  },
  "widgets": {
   "application/vnd.jupyter.widget-state+json": {
    "state": {
     "01fe18fe3a9d4fd89140d0307a53752d": {
      "model_module": "@jupyter-widgets/controls",
      "model_module_version": "2.0.0",
      "model_name": "HBoxModel",
      "state": {
       "children": [
        "IPY_MODEL_ff385d4e5b214006908c34fd02fbc5b2",
        "IPY_MODEL_b1f8f323b37b48c7ad22531cc86c94e5",
        "IPY_MODEL_bff39913166342f5b7066afc93174734"
       ],
       "layout": "IPY_MODEL_bc3dc61f0a6c4285afe252eac07c52c5"
      }
     },
     "0ca0f769cd024da488aa72fbff480dd3": {
      "model_module": "@jupyter-widgets/base",
      "model_module_version": "2.0.0",
      "model_name": "LayoutModel",
      "state": {
       "width": "auto"
      }
     },
     "1663008549cb49c59118e150488e106f": {
      "model_module": "@jupyter-widgets/controls",
      "model_module_version": "2.0.0",
      "model_name": "HTMLStyleModel",
      "state": {
       "description_width": "",
       "font_size": null,
       "text_color": null
      }
     },
     "1aaa549926a44189a8bb38ea266a776c": {
      "model_module": "@jupyter-widgets/controls",
      "model_module_version": "2.0.0",
      "model_name": "ProgressStyleModel",
      "state": {
       "bar_color": "black",
       "description_width": ""
      }
     },
     "1af2906ec7064692982448093d140013": {
      "model_module": "@jupyter-widgets/base",
      "model_module_version": "2.0.0",
      "model_name": "LayoutModel",
      "state": {
       "display": "inline-flex",
       "flex_flow": "row wrap",
       "width": "100%"
      }
     },
     "1eb5e8bfe8f747d9bbc51747efa5ee76": {
      "model_module": "@jupyter-widgets/base",
      "model_module_version": "2.0.0",
      "model_name": "LayoutModel",
      "state": {}
     },
     "229aff5dc71a419abc1dac8f93040b0a": {
      "model_module": "@jupyter-widgets/controls",
      "model_module_version": "2.0.0",
      "model_name": "HTMLModel",
      "state": {
       "layout": "IPY_MODEL_a6067080e47042bb8bd442c403ca6605",
       "style": "IPY_MODEL_58557499c81a4f0c92fe1912c793b753",
       "value": " 3/3 [00:00&lt;00:00,  4.07stage/s, Inserted cohort data into DuckDB - Done]"
      }
     },
     "263b9009ee4043df8a46fd5fb4d02a2d": {
      "model_module": "@jupyter-widgets/controls",
      "model_module_version": "2.0.0",
      "model_name": "ProgressStyleModel",
      "state": {
       "description_width": ""
      }
     },
     "40d022132cf44ed5a2cf7e65b003766f": {
      "model_module": "@jupyter-widgets/base",
      "model_module_version": "2.0.0",
      "model_name": "LayoutModel",
      "state": {
       "width": "auto"
      }
     },
     "44bcd2307eb24b8fb88461b51632b31b": {
      "model_module": "@jupyter-widgets/base",
      "model_module_version": "2.0.0",
      "model_name": "LayoutModel",
      "state": {}
     },
     "44ff0995f0364e458167b2fa94a56ec4": {
      "model_module": "@jupyter-widgets/base",
      "model_module_version": "2.0.0",
      "model_name": "LayoutModel",
      "state": {
       "flex": "2"
      }
     },
     "474d6b06ed594deda8c56778b6bdab33": {
      "model_module": "@jupyter-widgets/base",
      "model_module_version": "2.0.0",
      "model_name": "LayoutModel",
      "state": {
       "flex": "2"
      }
     },
     "4a959df4f30145fc814737d005d3ce00": {
      "model_module": "anywidget",
      "model_module_version": "~0.9.*",
      "model_name": "AnyModel",
      "state": {
       "_age_dist1": [
        {
         "category": "0-10",
         "probability": 0.0042,
         "value": 6
        },
        {
         "category": "11-20",
         "probability": 0.0049,
         "value": 7
        },
        {
         "category": "21-30",
         "probability": 0.0432,
         "value": 62
        },
        {
         "category": "31-40",
         "probability": 0.0384,
         "value": 55
        },
        {
         "category": "41-50",
         "probability": 0.0523,
         "value": 75
        },
        {
         "category": "51-60",
         "probability": 0.1464,
         "value": 210
        },
        {
         "category": "61-70",
         "probability": 0.182,
         "value": 261
        },
        {
         "category": "71-80",
         "probability": 0.2322,
         "value": 333
        },
        {
         "category": "81-90",
         "probability": 0.1897,
         "value": 272
        },
        {
         "category": "91+",
         "probability": 0.1067,
         "value": 153
        }
       ],
       "_age_dist2": [],
       "_anywidget_id": "CohortWidget.CohortWidget",
       "_concepts1": [
        {
         "ancestor_concept_id": 4274025,
         "concept_code": "64572001",
         "concept_name": "Disease",
         "count_in_cohort": 1434,
         "descendant_concept_id": 4274025,
         "prevalence": 1
        },
        {
         "ancestor_concept_id": 4117930,
         "concept_code": "302292003",
         "concept_name": "Finding of trunk structure",
         "count_in_cohort": 1434,
         "descendant_concept_id": 4117930,
         "prevalence": 1
        },
        {
         "ancestor_concept_id": 4028071,
         "concept_code": "128121009",
         "concept_name": "Disorder of trunk",
         "count_in_cohort": 1434,
         "descendant_concept_id": 4028071,
         "prevalence": 1
        },
        {
         "ancestor_concept_id": 440142,
         "concept_code": "49483002",
         "concept_name": "Disorder of mediastinum",
         "count_in_cohort": 1434,
         "descendant_concept_id": 440142,
         "prevalence": 1
        },
        {
         "ancestor_concept_id": 316139,
         "concept_code": "84114007",
         "concept_name": "Heart failure",
         "count_in_cohort": 1434,
         "descendant_concept_id": 316139,
         "prevalence": 1
        },
        {
         "ancestor_concept_id": 4199402,
         "concept_code": "301857004",
         "concept_name": "Finding of body region",
         "count_in_cohort": 1434,
         "descendant_concept_id": 4199402,
         "prevalence": 1
        },
        {
         "ancestor_concept_id": 4185503,
         "concept_code": "298705000",
         "concept_name": "Finding of region of thorax",
         "count_in_cohort": 1434,
         "descendant_concept_id": 4185503,
         "prevalence": 1
        },
        {
         "ancestor_concept_id": 4103183,
         "concept_code": "301095005",
         "concept_name": "Cardiac finding",
         "count_in_cohort": 1434,
         "descendant_concept_id": 4103183,
         "prevalence": 1
        },
        {
         "ancestor_concept_id": 4043346,
         "concept_code": "118946009",
         "concept_name": "Disorder of thorax",
         "count_in_cohort": 1434,
         "descendant_concept_id": 4043346,
         "prevalence": 1
        },
        {
         "ancestor_concept_id": 441840,
         "concept_code": "404684003",
         "concept_name": "Clinical finding",
         "count_in_cohort": 1434,
         "descendant_concept_id": 441840,
         "prevalence": 1
        },
        {
         "ancestor_concept_id": 4180628,
         "concept_code": "362965005",
         "concept_name": "Disorder of body system",
         "count_in_cohort": 1434,
         "descendant_concept_id": 4180628,
         "prevalence": 1
        },
        {
         "ancestor_concept_id": 4115390,
         "concept_code": "301296002",
         "concept_name": "Mediastinal finding",
         "count_in_cohort": 1434,
         "descendant_concept_id": 4115390,
         "prevalence": 1
        },
        {
         "ancestor_concept_id": 4023995,
         "concept_code": "106063007",
         "concept_name": "Cardiovascular finding",
         "count_in_cohort": 1434,
         "descendant_concept_id": 4023995,
         "prevalence": 1
        },
        {
         "ancestor_concept_id": 43531057,
         "concept_code": "609623002",
         "concept_name": "Finding of upper trunk",
         "count_in_cohort": 1434,
         "descendant_concept_id": 43531057,
         "prevalence": 1
        },
        {
         "ancestor_concept_id": 4227253,
         "concept_code": "406123005",
         "concept_name": "Viscus structure finding",
         "count_in_cohort": 1434,
         "descendant_concept_id": 4227253,
         "prevalence": 1
        },
        {
         "ancestor_concept_id": 4042140,
         "concept_code": "118234003",
         "concept_name": "Finding by site",
         "count_in_cohort": 1434,
         "descendant_concept_id": 4042140,
         "prevalence": 1
        },
        {
         "ancestor_concept_id": 4047779,
         "concept_code": "123946008",
         "concept_name": "Disorder by body site",
         "count_in_cohort": 1434,
         "descendant_concept_id": 4047779,
         "prevalence": 1
        },
        {
         "ancestor_concept_id": 43531056,
         "concept_code": "609622007",
         "concept_name": "Disorder of thoracic segment of trunk",
         "count_in_cohort": 1434,
         "descendant_concept_id": 43531056,
         "prevalence": 1
        },
        {
         "ancestor_concept_id": 321588,
         "concept_code": "56265001",
         "concept_name": "Heart disease",
         "count_in_cohort": 1434,
         "descendant_concept_id": 321588,
         "prevalence": 1
        },
        {
         "ancestor_concept_id": 134057,
         "concept_code": "49601007",
         "concept_name": "Disorder of cardiovascular system",
         "count_in_cohort": 1434,
         "descendant_concept_id": 134057,
         "prevalence": 1
        },
        {
         "ancestor_concept_id": 4024552,
         "concept_code": "105981003",
         "concept_name": "Disorder of cardiac function",
         "count_in_cohort": 1434,
         "descendant_concept_id": 4024552,
         "prevalence": 1
        },
        {
         "ancestor_concept_id": 443883,
         "concept_code": "2704003",
         "concept_name": "Acute disease",
         "count_in_cohort": 1341,
         "descendant_concept_id": 443883,
         "prevalence": 0.9351464435146444
        },
        {
         "ancestor_concept_id": 4024567,
         "concept_code": "106048009",
         "concept_name": "Respiratory finding",
         "count_in_cohort": 1227,
         "descendant_concept_id": 4024567,
         "prevalence": 0.8556485355648535
        },
        {
         "ancestor_concept_id": 320136,
         "concept_code": "50043002",
         "concept_name": "Disorder of respiratory system",
         "count_in_cohort": 1227,
         "descendant_concept_id": 320136,
         "prevalence": 0.8556485355648535
        },
        {
         "ancestor_concept_id": 4006969,
         "concept_code": "111273006",
         "concept_name": "Acute respiratory disease",
         "count_in_cohort": 1227,
         "descendant_concept_id": 4006969,
         "prevalence": 0.8556485355648535
        },
        {
         "ancestor_concept_id": 4119786,
         "concept_code": "233703007",
         "concept_name": "Interstitial lung disease",
         "count_in_cohort": 1226,
         "descendant_concept_id": 4119786,
         "prevalence": 0.8549511854951185
        },
        {
         "ancestor_concept_id": 4199409,
         "concept_code": "301867009",
         "concept_name": "Edema of trunk",
         "count_in_cohort": 1226,
         "descendant_concept_id": 4199409,
         "prevalence": 0.8549511854951185
        },
        {
         "ancestor_concept_id": 4027553,
         "concept_code": "128272009",
         "concept_name": "Disorder of lower respiratory system",
         "count_in_cohort": 1226,
         "descendant_concept_id": 4027553,
         "prevalence": 0.8549511854951185
        },
        {
         "ancestor_concept_id": 433595,
         "concept_code": "267038008",
         "concept_name": "Edema",
         "count_in_cohort": 1226,
         "descendant_concept_id": 433595,
         "prevalence": 0.8549511854951185
        },
        {
         "ancestor_concept_id": 4195694,
         "concept_code": "67782005",
         "concept_name": "Acute respiratory distress syndrome",
         "count_in_cohort": 1226,
         "descendant_concept_id": 4195694,
         "prevalence": 0.8549511854951185
        },
        {
         "ancestor_concept_id": 4115260,
         "concept_code": "301230006",
         "concept_name": "Lung finding",
         "count_in_cohort": 1226,
         "descendant_concept_id": 4115260,
         "prevalence": 0.8549511854951185
        },
        {
         "ancestor_concept_id": 4040388,
         "concept_code": "118654009",
         "concept_name": "Disorder characterized by edema",
         "count_in_cohort": 1226,
         "descendant_concept_id": 4040388,
         "prevalence": 0.8549511854951185
        },
        {
         "ancestor_concept_id": 4180645,
         "concept_code": "363044007",
         "concept_name": "Connective tissue disorder by body site",
         "count_in_cohort": 1226,
         "descendant_concept_id": 4180645,
         "prevalence": 0.8549511854951185
        },
        {
         "ancestor_concept_id": 4271505,
         "concept_code": "366139009",
         "concept_name": "Ease of respiration - finding",
         "count_in_cohort": 1226,
         "descendant_concept_id": 4271505,
         "prevalence": 0.8549511854951185
        },
        {
         "ancestor_concept_id": 4115259,
         "concept_code": "301226008",
         "concept_name": "Lower respiratory tract finding",
         "count_in_cohort": 1226,
         "descendant_concept_id": 4115259,
         "prevalence": 0.8549511854951185
        },
        {
         "ancestor_concept_id": 4239819,
         "concept_code": "69328002",
         "concept_name": "Distress",
         "count_in_cohort": 1226,
         "descendant_concept_id": 4239819,
         "prevalence": 0.8549511854951185
        },
        {
         "ancestor_concept_id": 432453,
         "concept_code": "365860008",
         "concept_name": "General clinical state finding",
         "count_in_cohort": 1226,
         "descendant_concept_id": 432453,
         "prevalence": 0.8549511854951185
        },
        {
         "ancestor_concept_id": 4041664,
         "concept_code": "230145002",
         "concept_name": "Difficulty breathing",
         "count_in_cohort": 1226,
         "descendant_concept_id": 4041664,
         "prevalence": 0.8549511854951185
        },
        {
         "ancestor_concept_id": 4078925,
         "concept_code": "19242006",
         "concept_name": "Pulmonary edema",
         "count_in_cohort": 1226,
         "descendant_concept_id": 4078925,
         "prevalence": 0.8549511854951185
        },
        {
         "ancestor_concept_id": 257907,
         "concept_code": "19829001",
         "concept_name": "Disorder of lung",
         "count_in_cohort": 1226,
         "descendant_concept_id": 257907,
         "prevalence": 0.8549511854951185
        },
        {
         "ancestor_concept_id": 4158346,
         "concept_code": "271825005",
         "concept_name": "Respiratory distress",
         "count_in_cohort": 1226,
         "descendant_concept_id": 4158346,
         "prevalence": 0.8549511854951185
        },
        {
         "ancestor_concept_id": 4115386,
         "concept_code": "301282008",
         "concept_name": "Finding of respiration",
         "count_in_cohort": 1226,
         "descendant_concept_id": 4115386,
         "prevalence": 0.8549511854951185
        },
        {
         "ancestor_concept_id": 253549,
         "concept_code": "105969002",
         "concept_name": "Disorder of connective tissue",
         "count_in_cohort": 1226,
         "descendant_concept_id": 253549,
         "prevalence": 0.8549511854951185
        },
        {
         "ancestor_concept_id": 432250,
         "concept_code": "40733004",
         "concept_name": "Disorder due to infection",
         "count_in_cohort": 1007,
         "descendant_concept_id": 432250,
         "prevalence": 0.702231520223152
        },
        {
         "ancestor_concept_id": 193631,
         "concept_code": "105612003",
         "concept_name": "Injury of internal organ",
         "count_in_cohort": 999,
         "descendant_concept_id": 193631,
         "prevalence": 0.696652719665272
        },
        {
         "ancestor_concept_id": 43530815,
         "concept_code": "609336008",
         "concept_name": "Traumatic injury by site",
         "count_in_cohort": 999,
         "descendant_concept_id": 43530815,
         "prevalence": 0.696652719665272
        },
        {
         "ancestor_concept_id": 43530877,
         "concept_code": "609411003",
         "concept_name": "Traumatic and/or non-traumatic injury of anatomical site",
         "count_in_cohort": 999,
         "descendant_concept_id": 43530877,
         "prevalence": 0.696652719665272
        },
        {
         "ancestor_concept_id": 432795,
         "concept_code": "417163006",
         "concept_name": "Traumatic AND/OR non-traumatic injury",
         "count_in_cohort": 999,
         "descendant_concept_id": 432795,
         "prevalence": 0.696652719665272
        },
        {
         "ancestor_concept_id": 194526,
         "concept_code": "48125009",
         "concept_name": "Injury of trunk",
         "count_in_cohort": 999,
         "descendant_concept_id": 194526,
         "prevalence": 0.696652719665272
        },
        {
         "ancestor_concept_id": 440921,
         "concept_code": "417746004",
         "concept_name": "Traumatic injury",
         "count_in_cohort": 999,
         "descendant_concept_id": 440921,
         "prevalence": 0.696652719665272
        },
        {
         "ancestor_concept_id": 4271450,
         "concept_code": "63171007",
         "concept_name": "Acute infectious disease",
         "count_in_cohort": 916,
         "descendant_concept_id": 4271450,
         "prevalence": 0.6387726638772664
        },
        {
         "ancestor_concept_id": 196236,
         "concept_code": "76571007",
         "concept_name": "Septic shock",
         "count_in_cohort": 916,
         "descendant_concept_id": 196236,
         "prevalence": 0.6387726638772664
        },
        {
         "ancestor_concept_id": 201965,
         "concept_code": "27942005",
         "concept_name": "Shock",
         "count_in_cohort": 916,
         "descendant_concept_id": 201965,
         "prevalence": 0.6387726638772664
        },
        {
         "ancestor_concept_id": 432585,
         "concept_code": "64779008",
         "concept_name": "Blood coagulation disorder",
         "count_in_cohort": 686,
         "descendant_concept_id": 432585,
         "prevalence": 0.4783821478382148
        },
        {
         "ancestor_concept_id": 4179872,
         "concept_code": "362970003",
         "concept_name": "Disorder of hemostatic system",
         "count_in_cohort": 686,
         "descendant_concept_id": 4179872,
         "prevalence": 0.4783821478382148
        },
        {
         "ancestor_concept_id": 4120613,
         "concept_code": "234466008",
         "concept_name": "Acquired coagulation disorder",
         "count_in_cohort": 686,
         "descendant_concept_id": 4120613,
         "prevalence": 0.4783821478382148
        },
        {
         "ancestor_concept_id": 4094683,
         "concept_code": "262525000",
         "concept_name": "Chest injury",
         "count_in_cohort": 683,
         "descendant_concept_id": 4094683,
         "prevalence": 0.47629009762900976
        },
        {
         "ancestor_concept_id": 4311280,
         "concept_code": "86175003",
         "concept_name": "Injury of heart",
         "count_in_cohort": 683,
         "descendant_concept_id": 4311280,
         "prevalence": 0.47629009762900976
        },
        {
         "ancestor_concept_id": 4152156,
         "concept_code": "282728007",
         "concept_name": "Cardiovascular injury",
         "count_in_cohort": 683,
         "descendant_concept_id": 4152156,
         "prevalence": 0.47629009762900976
        },
        {
         "ancestor_concept_id": 4027255,
         "concept_code": "128599005",
         "concept_name": "Structural disorder of heart",
         "count_in_cohort": 683,
         "descendant_concept_id": 4027255,
         "prevalence": 0.47629009762900976
        },
        {
         "ancestor_concept_id": 37116489,
         "concept_code": "733217006",
         "concept_name": "Injury of intrathoracic organ",
         "count_in_cohort": 683,
         "descendant_concept_id": 37116489,
         "prevalence": 0.47629009762900976
        },
        {
         "ancestor_concept_id": 74786,
         "concept_code": "27817002",
         "concept_name": "Internal injury of chest",
         "count_in_cohort": 683,
         "descendant_concept_id": 74786,
         "prevalence": 0.47629009762900976
        },
        {
         "ancestor_concept_id": 37311677,
         "concept_code": "822988000",
         "concept_name": "Disorder of abdominopelvic segment of trunk",
         "count_in_cohort": 666,
         "descendant_concept_id": 37311677,
         "prevalence": 0.46443514644351463
        },
        {
         "ancestor_concept_id": 4096864,
         "concept_code": "249561001",
         "concept_name": "Abdominal organ finding",
         "count_in_cohort": 666,
         "descendant_concept_id": 4096864,
         "prevalence": 0.46443514644351463
        },
        {
         "ancestor_concept_id": 43531058,
         "concept_code": "609624008",
         "concept_name": "Finding of abdomen",
         "count_in_cohort": 666,
         "descendant_concept_id": 43531058,
         "prevalence": 0.46443514644351463
        },
        {
         "ancestor_concept_id": 37311678,
         "concept_code": "822987005",
         "concept_name": "Finding of abdominopelvic segment of trunk",
         "count_in_cohort": 666,
         "descendant_concept_id": 37311678,
         "prevalence": 0.46443514644351463
        },
        {
         "ancestor_concept_id": 444089,
         "concept_code": "118948005",
         "concept_name": "Disorder of abdomen",
         "count_in_cohort": 666,
         "descendant_concept_id": 444089,
         "prevalence": 0.46443514644351463
        },
        {
         "ancestor_concept_id": 4220631,
         "concept_code": "40095003",
         "concept_name": "Injury of kidney",
         "count_in_cohort": 665,
         "descendant_concept_id": 4220631,
         "prevalence": 0.46373779637377965
        },
        {
         "ancestor_concept_id": 4091056,
         "concept_code": "249578005",
         "concept_name": "Kidney finding",
         "count_in_cohort": 665,
         "descendant_concept_id": 4091056,
         "prevalence": 0.46373779637377965
        },
        {
         "ancestor_concept_id": 4041285,
         "concept_code": "118238000",
         "concept_name": "Urogenital finding",
         "count_in_cohort": 665,
         "descendant_concept_id": 4041285,
         "prevalence": 0.46373779637377965
        },
        {
         "ancestor_concept_id": 4155499,
         "concept_code": "283879004",
         "concept_name": "Urogenital injury",
         "count_in_cohort": 665,
         "descendant_concept_id": 4155499,
         "prevalence": 0.46373779637377965
        },
        {
         "ancestor_concept_id": 37116613,
         "concept_code": "733386005",
         "concept_name": "Injury of urinary organ",
         "count_in_cohort": 665,
         "descendant_concept_id": 37116613,
         "prevalence": 0.46373779637377965
        },
        {
         "ancestor_concept_id": 45769862,
         "concept_code": "79131000119100",
         "concept_name": "Kidney lesion",
         "count_in_cohort": 665,
         "descendant_concept_id": 45769862,
         "prevalence": 0.46373779637377965
        },
        {
         "ancestor_concept_id": 4169252,
         "concept_code": "49011004",
         "concept_name": "Internal injury of abdominal organ",
         "count_in_cohort": 665,
         "descendant_concept_id": 4169252,
         "prevalence": 0.46373779637377965
        },
        {
         "ancestor_concept_id": 40483287,
         "concept_code": "443820000",
         "concept_name": "Disorder of kidney and/or ureter",
         "count_in_cohort": 665,
         "descendant_concept_id": 40483287,
         "prevalence": 0.46373779637377965
        },
        {
         "ancestor_concept_id": 37116972,
         "concept_code": "734045002",
         "concept_name": "Disorder of retroperitoneum",
         "count_in_cohort": 665,
         "descendant_concept_id": 37116972,
         "prevalence": 0.46373779637377965
        },
        {
         "ancestor_concept_id": 4171379,
         "concept_code": "42030000",
         "concept_name": "Disorder of the genitourinary system",
         "count_in_cohort": 665,
         "descendant_concept_id": 4171379,
         "prevalence": 0.46373779637377965
        },
        {
         "ancestor_concept_id": 198124,
         "concept_code": "90708001",
         "concept_name": "Kidney disease",
         "count_in_cohort": 665,
         "descendant_concept_id": 198124,
         "prevalence": 0.46373779637377965
        },
        {
         "ancestor_concept_id": 4024000,
         "concept_code": "106098005",
         "concept_name": "Urinary system finding",
         "count_in_cohort": 665,
         "descendant_concept_id": 4024000,
         "prevalence": 0.46373779637377965
        },
        {
         "ancestor_concept_id": 200588,
         "concept_code": "128069005",
         "concept_name": "Injury of abdomen",
         "count_in_cohort": 665,
         "descendant_concept_id": 200588,
         "prevalence": 0.46373779637377965
        },
        {
         "ancestor_concept_id": 75865,
         "concept_code": "128606002",
         "concept_name": "Disorder of the urinary system",
         "count_in_cohort": 665,
         "descendant_concept_id": 75865,
         "prevalence": 0.46373779637377965
        },
        {
         "ancestor_concept_id": 4093991,
         "concept_code": "248402002",
         "concept_name": "General finding of soft tissue",
         "count_in_cohort": 333,
         "descendant_concept_id": 4093991,
         "prevalence": 0.23221757322175732
        },
        {
         "ancestor_concept_id": 376208,
         "concept_code": "19660004",
         "concept_name": "Disorder of soft tissue",
         "count_in_cohort": 333,
         "descendant_concept_id": 376208,
         "prevalence": 0.23221757322175732
        },
        {
         "ancestor_concept_id": 443784,
         "concept_code": "27550009",
         "concept_name": "Vascular disorder",
         "count_in_cohort": 333,
         "descendant_concept_id": 443784,
         "prevalence": 0.23221757322175732
        },
        {
         "ancestor_concept_id": 4028367,
         "concept_code": "128487001",
         "concept_name": "Acute disease of cardiovascular system",
         "count_in_cohort": 333,
         "descendant_concept_id": 4028367,
         "prevalence": 0.23221757322175732
        },
        {
         "ancestor_concept_id": 4071689,
         "concept_code": "21829004",
         "concept_name": "Blood vessel finding",
         "count_in_cohort": 333,
         "descendant_concept_id": 4071689,
         "prevalence": 0.23221757322175732
        },
        {
         "ancestor_concept_id": 4344497,
         "concept_code": "239953001",
         "concept_name": "Soft tissue lesion",
         "count_in_cohort": 333,
         "descendant_concept_id": 4344497,
         "prevalence": 0.23221757322175732
        },
        {
         "ancestor_concept_id": 432545,
         "concept_code": "87628006",
         "concept_name": "Bacterial infectious disease",
         "count_in_cohort": 244,
         "descendant_concept_id": 432545,
         "prevalence": 0.1701534170153417
        },
        {
         "ancestor_concept_id": 45768439,
         "concept_code": "706870000",
         "concept_name": "Acute pulmonary embolism",
         "count_in_cohort": 169,
         "descendant_concept_id": 45768439,
         "prevalence": 0.11785216178521618
        },
        {
         "ancestor_concept_id": 433208,
         "concept_code": "39785005",
         "concept_name": "Disorder of pulmonary circulation",
         "count_in_cohort": 169,
         "descendant_concept_id": 433208,
         "prevalence": 0.11785216178521618
        },
        {
         "ancestor_concept_id": 4185607,
         "concept_code": "414086009",
         "concept_name": "Embolism",
         "count_in_cohort": 169,
         "descendant_concept_id": 4185607,
         "prevalence": 0.11785216178521618
        },
        {
         "ancestor_concept_id": 4108173,
         "concept_code": "251039005",
         "concept_name": "Pulmonary artery finding",
         "count_in_cohort": 169,
         "descendant_concept_id": 4108173,
         "prevalence": 0.11785216178521618
        },
        {
         "ancestor_concept_id": 440417,
         "concept_code": "59282003",
         "concept_name": "Pulmonary embolism",
         "count_in_cohort": 169,
         "descendant_concept_id": 440417,
         "prevalence": 0.11785216178521618
        },
        {
         "ancestor_concept_id": 321887,
         "concept_code": "359557001",
         "concept_name": "Disorder of artery",
         "count_in_cohort": 169,
         "descendant_concept_id": 321887,
         "prevalence": 0.11785216178521618
        },
        {
         "ancestor_concept_id": 4095631,
         "concept_code": "248718009",
         "concept_name": "Arterial finding",
         "count_in_cohort": 169,
         "descendant_concept_id": 4095631,
         "prevalence": 0.11785216178521618
        },
        {
         "ancestor_concept_id": 312339,
         "concept_code": "54687002",
         "concept_name": "Arterial embolism",
         "count_in_cohort": 169,
         "descendant_concept_id": 312339,
         "prevalence": 0.11785216178521618
        },
        {
         "ancestor_concept_id": 4194610,
         "concept_code": "312593004",
         "concept_name": "Trunk arterial embolus",
         "count_in_cohort": 169,
         "descendant_concept_id": 4194610,
         "prevalence": 0.11785216178521618
        },
        {
         "ancestor_concept_id": 4190192,
         "concept_code": "373434004",
         "concept_name": "Disorder of blood vessels of thorax",
         "count_in_cohort": 169,
         "descendant_concept_id": 4190192,
         "prevalence": 0.11785216178521618
        },
        {
         "ancestor_concept_id": 4095634,
         "concept_code": "248727005",
         "concept_name": "Venous finding",
         "count_in_cohort": 164,
         "descendant_concept_id": 4095634,
         "prevalence": 0.11436541143654114
        },
        {
         "ancestor_concept_id": 4133004,
         "concept_code": "128053003",
         "concept_name": "Deep venous thrombosis",
         "count_in_cohort": 164,
         "descendant_concept_id": 4133004,
         "prevalence": 0.11436541143654114
        },
        {
         "ancestor_concept_id": 4208466,
         "concept_code": "439129009",
         "concept_name": "Thrombosis of blood vessel",
         "count_in_cohort": 164,
         "descendant_concept_id": 4208466,
         "prevalence": 0.11436541143654114
        },
        {
         "ancestor_concept_id": 4234997,
         "concept_code": "90507008",
         "concept_name": "Disorder of vein",
         "count_in_cohort": 164,
         "descendant_concept_id": 4234997,
         "prevalence": 0.11436541143654114
        },
        {
         "ancestor_concept_id": 4231363,
         "concept_code": "439127006",
         "concept_name": "Thrombosis",
         "count_in_cohort": 164,
         "descendant_concept_id": 4231363,
         "prevalence": 0.11436541143654114
        },
        {
         "ancestor_concept_id": 444247,
         "concept_code": "111293003",
         "concept_name": "Venous thrombosis",
         "count_in_cohort": 164,
         "descendant_concept_id": 444247,
         "prevalence": 0.11436541143654114
        },
        {
         "ancestor_concept_id": 44782746,
         "concept_code": "132281000119108",
         "concept_name": "Acute deep venous thrombosis",
         "count_in_cohort": 164,
         "descendant_concept_id": 44782746,
         "prevalence": 0.11436541143654114
        },
        {
         "ancestor_concept_id": 4201745,
         "concept_code": "53619000",
         "concept_name": "Disorder of digestive system",
         "count_in_cohort": 5,
         "descendant_concept_id": 4201745,
         "prevalence": 0.003486750348675035
        },
        {
         "ancestor_concept_id": 4297887,
         "concept_code": "76712006",
         "concept_name": "Disorder of digestive organ",
         "count_in_cohort": 5,
         "descendant_concept_id": 4297887,
         "prevalence": 0.003486750348675035
        },
        {
         "ancestor_concept_id": 4302537,
         "concept_code": "386617003",
         "concept_name": "Digestive system finding",
         "count_in_cohort": 5,
         "descendant_concept_id": 4302537,
         "prevalence": 0.003486750348675035
        },
        {
         "ancestor_concept_id": 4309188,
         "concept_code": "84410009",
         "concept_name": "Disorder of digestive tract",
         "count_in_cohort": 4,
         "descendant_concept_id": 4309188,
         "prevalence": 0.002789400278940028
        },
        {
         "ancestor_concept_id": 254068,
         "concept_code": "201060008",
         "concept_name": "Disorder of upper respiratory system",
         "count_in_cohort": 3,
         "descendant_concept_id": 254068,
         "prevalence": 0.0020920502092050207
        },
        {
         "ancestor_concept_id": 4339468,
         "concept_code": "232208008",
         "concept_name": "Ear, nose and throat disorder",
         "count_in_cohort": 3,
         "descendant_concept_id": 4339468,
         "prevalence": 0.0020920502092050207
        },
        {
         "ancestor_concept_id": 4193169,
         "concept_code": "312133006",
         "concept_name": "Viral respiratory infection",
         "count_in_cohort": 3,
         "descendant_concept_id": 4193169,
         "prevalence": 0.0020920502092050207
        },
        {
         "ancestor_concept_id": 4180170,
         "concept_code": "363180009",
         "concept_name": "Inflammatory disorder of the respiratory tract",
         "count_in_cohort": 3,
         "descendant_concept_id": 4180170,
         "prevalence": 0.0020920502092050207
        },
        {
         "ancestor_concept_id": 4170143,
         "concept_code": "275498002",
         "concept_name": "Respiratory tract infection",
         "count_in_cohort": 3,
         "descendant_concept_id": 4170143,
         "prevalence": 0.0020920502092050207
        },
        {
         "ancestor_concept_id": 4181583,
         "concept_code": "54150009",
         "concept_name": "Upper respiratory infection",
         "count_in_cohort": 3,
         "descendant_concept_id": 4181583,
         "prevalence": 0.0020920502092050207
        },
        {
         "ancestor_concept_id": 4180169,
         "concept_code": "363170005",
         "concept_name": "Inflammation of specific body structures or tissue",
         "count_in_cohort": 3,
         "descendant_concept_id": 4180169,
         "prevalence": 0.0020920502092050207
        },
        {
         "ancestor_concept_id": 4304916,
         "concept_code": "386618008",
         "concept_name": "Gastrointestinal tract finding",
         "count_in_cohort": 3,
         "descendant_concept_id": 4304916,
         "prevalence": 0.0020920502092050207
        },
        {
         "ancestor_concept_id": 4178545,
         "concept_code": "297268004",
         "concept_name": "Ear, nose and throat finding",
         "count_in_cohort": 3,
         "descendant_concept_id": 4178545,
         "prevalence": 0.0020920502092050207
        },
        {
         "ancestor_concept_id": 4027384,
         "concept_code": "128139000",
         "concept_name": "Inflammatory disorder",
         "count_in_cohort": 3,
         "descendant_concept_id": 4027384,
         "prevalence": 0.0020920502092050207
        },
        {
         "ancestor_concept_id": 4178818,
         "concept_code": "363171009",
         "concept_name": "Inflammation of specific body systems",
         "count_in_cohort": 3,
         "descendant_concept_id": 4178818,
         "prevalence": 0.0020920502092050207
        },
        {
         "ancestor_concept_id": 4162282,
         "concept_code": "373405005",
         "concept_name": "Inflammatory disorder of the respiratory system",
         "count_in_cohort": 3,
         "descendant_concept_id": 4162282,
         "prevalence": 0.0020920502092050207
        },
        {
         "ancestor_concept_id": 4085100,
         "concept_code": "281794004",
         "concept_name": "Viral upper respiratory tract infection",
         "count_in_cohort": 3,
         "descendant_concept_id": 4085100,
         "prevalence": 0.0020920502092050207
        },
        {
         "ancestor_concept_id": 4207186,
         "concept_code": "312130009",
         "concept_name": "Viral infection by site",
         "count_in_cohort": 3,
         "descendant_concept_id": 4207186,
         "prevalence": 0.0020920502092050207
        },
        {
         "ancestor_concept_id": 440029,
         "concept_code": "34014006",
         "concept_name": "Viral disease",
         "count_in_cohort": 3,
         "descendant_concept_id": 440029,
         "prevalence": 0.0020920502092050207
        },
        {
         "ancestor_concept_id": 255919,
         "concept_code": "118254002",
         "concept_name": "Finding of head and neck region",
         "count_in_cohort": 3,
         "descendant_concept_id": 255919,
         "prevalence": 0.0020920502092050207
        },
        {
         "ancestor_concept_id": 4043671,
         "concept_code": "129134004",
         "concept_name": "Inflammatory disorder of upper respiratory tract",
         "count_in_cohort": 3,
         "descendant_concept_id": 4043671,
         "prevalence": 0.0020920502092050207
        },
        {
         "ancestor_concept_id": 4103320,
         "concept_code": "301186004",
         "concept_name": "Upper respiratory tract finding",
         "count_in_cohort": 3,
         "descendant_concept_id": 4103320,
         "prevalence": 0.0020920502092050207
        },
        {
         "ancestor_concept_id": 4200532,
         "concept_code": "301810000",
         "concept_name": "Infection by site",
         "count_in_cohort": 3,
         "descendant_concept_id": 4200532,
         "prevalence": 0.0020920502092050207
        },
        {
         "ancestor_concept_id": 43531054,
         "concept_code": "609620004",
         "concept_name": "Disorder of pelvis",
         "count_in_cohort": 2,
         "descendant_concept_id": 43531054,
         "prevalence": 0.001394700139470014
        },
        {
         "ancestor_concept_id": 43531060,
         "concept_code": "609626005",
         "concept_name": "Finding of pelvis",
         "count_in_cohort": 2,
         "descendant_concept_id": 43531060,
         "prevalence": 0.001394700139470014
        },
        {
         "ancestor_concept_id": 43531053,
         "concept_code": "609619005",
         "concept_name": "Disorder of pelvic region of trunk",
         "count_in_cohort": 2,
         "descendant_concept_id": 43531053,
         "prevalence": 0.001394700139470014
        },
        {
         "ancestor_concept_id": 43531059,
         "concept_code": "609625009",
         "concept_name": "Finding of pelvic region of trunk",
         "count_in_cohort": 2,
         "descendant_concept_id": 43531059,
         "prevalence": 0.001394700139470014
        },
        {
         "ancestor_concept_id": 4145825,
         "concept_code": "426867001",
         "concept_name": "Anorectal disorder",
         "count_in_cohort": 2,
         "descendant_concept_id": 4145825,
         "prevalence": 0.001394700139470014
        },
        {
         "ancestor_concept_id": 4113999,
         "concept_code": "300862005",
         "concept_name": "Mass of body region",
         "count_in_cohort": 2,
         "descendant_concept_id": 4113999,
         "prevalence": 0.001394700139470014
        },
        {
         "ancestor_concept_id": 201618,
         "concept_code": "85919009",
         "concept_name": "Disorder of intestine",
         "count_in_cohort": 2,
         "descendant_concept_id": 201618,
         "prevalence": 0.001394700139470014
        },
        {
         "ancestor_concept_id": 4091532,
         "concept_code": "249562008",
         "concept_name": "Bowel finding",
         "count_in_cohort": 2,
         "descendant_concept_id": 4091532,
         "prevalence": 0.001394700139470014
        },
        {
         "ancestor_concept_id": 4115106,
         "concept_code": "300855001",
         "concept_name": "Mass of digestive structure",
         "count_in_cohort": 2,
         "descendant_concept_id": 4115106,
         "prevalence": 0.001394700139470014
        },
        {
         "ancestor_concept_id": 4134294,
         "concept_code": "128482007",
         "concept_name": "Acute inflammatory disease",
         "count_in_cohort": 2,
         "descendant_concept_id": 4134294,
         "prevalence": 0.001394700139470014
        },
        {
         "ancestor_concept_id": 4252853,
         "concept_code": "409631000",
         "concept_name": "Acute viral disease",
         "count_in_cohort": 2,
         "descendant_concept_id": 4252853,
         "prevalence": 0.001394700139470014
        },
        {
         "ancestor_concept_id": 4091363,
         "concept_code": "249376008",
         "concept_name": "Mouth and/or pharynx finding",
         "count_in_cohort": 2,
         "descendant_concept_id": 4091363,
         "prevalence": 0.001394700139470014
        },
        {
         "ancestor_concept_id": 4134887,
         "concept_code": "128398001",
         "concept_name": "Infectious disease of digestive tract",
         "count_in_cohort": 2,
         "descendant_concept_id": 4134887,
         "prevalence": 0.001394700139470014
        },
        {
         "ancestor_concept_id": 257011,
         "concept_code": "54398005",
         "concept_name": "Acute upper respiratory infection",
         "count_in_cohort": 2,
         "descendant_concept_id": 257011,
         "prevalence": 0.001394700139470014
        },
        {
         "ancestor_concept_id": 4193990,
         "concept_code": "312158001",
         "concept_name": "Infection of digestive system",
         "count_in_cohort": 2,
         "descendant_concept_id": 4193990,
         "prevalence": 0.001394700139470014
        },
        {
         "ancestor_concept_id": 4190185,
         "concept_code": "373407002",
         "concept_name": "Inflammatory disorder of digestive system",
         "count_in_cohort": 2,
         "descendant_concept_id": 4190185,
         "prevalence": 0.001394700139470014
        },
        {
         "ancestor_concept_id": 4112343,
         "concept_code": "195662009",
         "concept_name": "Acute viral pharyngitis",
         "count_in_cohort": 2,
         "descendant_concept_id": 4112343,
         "prevalence": 0.001394700139470014
        },
        {
         "ancestor_concept_id": 4002905,
         "concept_code": "119523007",
         "concept_name": "Disorder of large intestine",
         "count_in_cohort": 2,
         "descendant_concept_id": 4002905,
         "prevalence": 0.001394700139470014
        },
        {
         "ancestor_concept_id": 4132552,
         "concept_code": "127321000",
         "concept_name": "Acute digestive system disorder",
         "count_in_cohort": 2,
         "descendant_concept_id": 4132552,
         "prevalence": 0.001394700139470014
        },
        {
         "ancestor_concept_id": 443783,
         "concept_code": "27624003",
         "concept_name": "Chronic disease",
         "count_in_cohort": 2,
         "descendant_concept_id": 443783,
         "prevalence": 0.001394700139470014
        },
        {
         "ancestor_concept_id": 4102111,
         "concept_code": "300848003",
         "concept_name": "Mass of body structure",
         "count_in_cohort": 2,
         "descendant_concept_id": 4102111,
         "prevalence": 0.001394700139470014
        },
        {
         "ancestor_concept_id": 4022571,
         "concept_code": "116338005",
         "concept_name": "Pharyngeal finding",
         "count_in_cohort": 2,
         "descendant_concept_id": 4022571,
         "prevalence": 0.001394700139470014
        },
        {
         "ancestor_concept_id": 4038678,
         "concept_code": "118436003",
         "concept_name": "Finding of large intestine",
         "count_in_cohort": 2,
         "descendant_concept_id": 4038678,
         "prevalence": 0.001394700139470014
        },
        {
         "ancestor_concept_id": 4112341,
         "concept_code": "195647007",
         "concept_name": "Acute respiratory infections",
         "count_in_cohort": 2,
         "descendant_concept_id": 4112341,
         "prevalence": 0.001394700139470014
        },
        {
         "ancestor_concept_id": 4226263,
         "concept_code": "405737000",
         "concept_name": "Pharyngitis",
         "count_in_cohort": 2,
         "descendant_concept_id": 4226263,
         "prevalence": 0.001394700139470014
        },
        {
         "ancestor_concept_id": 4198525,
         "concept_code": "50410009",
         "concept_name": "Disorder of upper digestive tract",
         "count_in_cohort": 2,
         "descendant_concept_id": 4198525,
         "prevalence": 0.001394700139470014
        },
        {
         "ancestor_concept_id": 4197094,
         "concept_code": "79787007",
         "concept_name": "Disorder of lower gastrointestinal tract",
         "count_in_cohort": 2,
         "descendant_concept_id": 4197094,
         "prevalence": 0.001394700139470014
        },
        {
         "ancestor_concept_id": 4043371,
         "concept_code": "128999004",
         "concept_name": "Inflammatory disorder of digestive tract",
         "count_in_cohort": 2,
         "descendant_concept_id": 4043371,
         "prevalence": 0.001394700139470014
        },
        {
         "ancestor_concept_id": 4206591,
         "concept_code": "309524007",
         "concept_name": "Mass of trunk",
         "count_in_cohort": 2,
         "descendant_concept_id": 4206591,
         "prevalence": 0.001394700139470014
        },
        {
         "ancestor_concept_id": 4193875,
         "concept_code": "312131008",
         "concept_name": "Viral infection of the digestive tract",
         "count_in_cohort": 2,
         "descendant_concept_id": 4193875,
         "prevalence": 0.001394700139470014
        },
        {
         "ancestor_concept_id": 4193318,
         "concept_code": "312422001",
         "concept_name": "Infective pharyngitis",
         "count_in_cohort": 2,
         "descendant_concept_id": 4193318,
         "prevalence": 0.001394700139470014
        },
        {
         "ancestor_concept_id": 31057,
         "concept_code": "75860007",
         "concept_name": "Disorder of pharynx",
         "count_in_cohort": 2,
         "descendant_concept_id": 31057,
         "prevalence": 0.001394700139470014
        },
        {
         "ancestor_concept_id": 25297,
         "concept_code": "363746003",
         "concept_name": "Acute pharyngitis",
         "count_in_cohort": 2,
         "descendant_concept_id": 25297,
         "prevalence": 0.001394700139470014
        },
        {
         "ancestor_concept_id": 4181063,
         "concept_code": "363169009",
         "concept_name": "Inflammation of specific body organs",
         "count_in_cohort": 2,
         "descendant_concept_id": 4181063,
         "prevalence": 0.001394700139470014
        },
        {
         "ancestor_concept_id": 4000610,
         "concept_code": "119292006",
         "concept_name": "Disorder of gastrointestinal tract",
         "count_in_cohort": 2,
         "descendant_concept_id": 4000610,
         "prevalence": 0.001394700139470014
        },
        {
         "ancestor_concept_id": 4035987,
         "concept_code": "1532007",
         "concept_name": "Viral pharyngitis",
         "count_in_cohort": 2,
         "descendant_concept_id": 4035987,
         "prevalence": 0.001394700139470014
        },
        {
         "ancestor_concept_id": 192438,
         "concept_code": "271860004",
         "concept_name": "Abdominal mass",
         "count_in_cohort": 2,
         "descendant_concept_id": 192438,
         "prevalence": 0.001394700139470014
        },
        {
         "ancestor_concept_id": 40492037,
         "concept_code": "448882009",
         "concept_name": "Malignant neoplasm of intraabdominal organ",
         "count_in_cohort": 1,
         "descendant_concept_id": 40492037,
         "prevalence": 6.97350069735007E-4
        },
        {
         "ancestor_concept_id": 4164337,
         "concept_code": "399505005",
         "concept_name": "Polyp of large intestine",
         "count_in_cohort": 1,
         "descendant_concept_id": 4164337,
         "prevalence": 6.97350069735007E-4
        },
        {
         "ancestor_concept_id": 4247371,
         "concept_code": "406122000",
         "concept_name": "Head finding",
         "count_in_cohort": 1,
         "descendant_concept_id": 4247371,
         "prevalence": 6.97350069735007E-4
        },
        {
         "ancestor_concept_id": 444031,
         "concept_code": "48447003",
         "concept_name": "Chronic heart failure",
         "count_in_cohort": 1,
         "descendant_concept_id": 444031,
         "prevalence": 6.97350069735007E-4
        },
        {
         "ancestor_concept_id": 438112,
         "concept_code": "55342001",
         "concept_name": "Neoplastic disease",
         "count_in_cohort": 1,
         "descendant_concept_id": 438112,
         "prevalence": 6.97350069735007E-4
        },
        {
         "ancestor_concept_id": 4339410,
         "concept_code": "88230002",
         "concept_name": "Disorder of skeletal system",
         "count_in_cohort": 1,
         "descendant_concept_id": 4339410,
         "prevalence": 6.97350069735007E-4
        },
        {
         "ancestor_concept_id": 4180790,
         "concept_code": "363406005",
         "concept_name": "Malignant tumor of colon",
         "count_in_cohort": 1,
         "descendant_concept_id": 4180790,
         "prevalence": 6.97350069735007E-4
        },
        {
         "ancestor_concept_id": 4054501,
         "concept_code": "126637008",
         "concept_name": "Neoplasm of trunk",
         "count_in_cohort": 1,
         "descendant_concept_id": 4054501,
         "prevalence": 6.97350069735007E-4
        },
        {
         "ancestor_concept_id": 4054503,
         "concept_code": "126643005",
         "concept_name": "Neoplasm of intra-abdominal organs",
         "count_in_cohort": 1,
         "descendant_concept_id": 4054503,
         "prevalence": 6.97350069735007E-4
        },
        {
         "ancestor_concept_id": 4130995,
         "concept_code": "126838000",
         "concept_name": "Neoplasm of colon",
         "count_in_cohort": 1,
         "descendant_concept_id": 4130995,
         "prevalence": 6.97350069735007E-4
        },
        {
         "ancestor_concept_id": 37017023,
         "concept_code": "713197008",
         "concept_name": "Recurrent rectal polyp",
         "count_in_cohort": 1,
         "descendant_concept_id": 37017023,
         "prevalence": 6.97350069735007E-4
        },
        {
         "ancestor_concept_id": 196523,
         "concept_code": "62315008",
         "concept_name": "Diarrhea",
         "count_in_cohort": 1,
         "descendant_concept_id": 196523,
         "prevalence": 6.97350069735007E-4
        },
        {
         "ancestor_concept_id": 256440,
         "concept_code": "7393007",
         "concept_name": "Disorder of nasal sinus",
         "count_in_cohort": 1,
         "descendant_concept_id": 256440,
         "prevalence": 6.97350069735007E-4
        },
        {
         "ancestor_concept_id": 443396,
         "concept_code": "363510005",
         "concept_name": "Malignant tumor of large intestine",
         "count_in_cohort": 1,
         "descendant_concept_id": 443396,
         "prevalence": 6.97350069735007E-4
        },
        {
         "ancestor_concept_id": 4283893,
         "concept_code": "36971009",
         "concept_name": "Sinusitis",
         "count_in_cohort": 1,
         "descendant_concept_id": 4283893,
         "prevalence": 6.97350069735007E-4
        },
        {
         "ancestor_concept_id": 45763613,
         "concept_code": "67401000119103",
         "concept_name": "Colonic lesion",
         "count_in_cohort": 1,
         "descendant_concept_id": 45763613,
         "prevalence": 6.97350069735007E-4
        },
        {
         "ancestor_concept_id": 4181187,
         "concept_code": "363176004",
         "concept_name": "Inflammatory disorder of head",
         "count_in_cohort": 1,
         "descendant_concept_id": 4181187,
         "prevalence": 6.97350069735007E-4
        },
        {
         "ancestor_concept_id": 443398,
         "concept_code": "363508008",
         "concept_name": "Malignant tumor of intestine",
         "count_in_cohort": 1,
         "descendant_concept_id": 443398,
         "prevalence": 6.97350069735007E-4
        },
        {
         "ancestor_concept_id": 4087647,
         "concept_code": "248523006",
         "concept_name": "Rectal mass",
         "count_in_cohort": 1,
         "descendant_concept_id": 4087647,
         "prevalence": 6.97350069735007E-4
        },
        {
         "ancestor_concept_id": 4112731,
         "concept_code": "254588001",
         "concept_name": "Polyp of intestine",
         "count_in_cohort": 1,
         "descendant_concept_id": 4112731,
         "prevalence": 6.97350069735007E-4
        },
        {
         "ancestor_concept_id": 4182161,
         "concept_code": "298364001",
         "concept_name": "Finding of head region",
         "count_in_cohort": 1,
         "descendant_concept_id": 4182161,
         "prevalence": 6.97350069735007E-4
        },
        {
         "ancestor_concept_id": 36683531,
         "concept_code": "781382000",
         "concept_name": "Malignant neoplasm of colon and/or rectum",
         "count_in_cohort": 1,
         "descendant_concept_id": 36683531,
         "prevalence": 6.97350069735007E-4
        },
        {
         "ancestor_concept_id": 443568,
         "concept_code": "428905002",
         "concept_name": "Malignant neoplasm of gastrointestinal tract",
         "count_in_cohort": 1,
         "descendant_concept_id": 443568,
         "prevalence": 6.97350069735007E-4
        },
        {
         "ancestor_concept_id": 440059,
         "concept_code": "58184002",
         "concept_name": "Recurrent disease",
         "count_in_cohort": 1,
         "descendant_concept_id": 440059,
         "prevalence": 6.97350069735007E-4
        },
        {
         "ancestor_concept_id": 80502,
         "concept_code": "64859006",
         "concept_name": "Osteoporosis",
         "count_in_cohort": 1,
         "descendant_concept_id": 80502,
         "prevalence": 6.97350069735007E-4
        },
        {
         "ancestor_concept_id": 201131,
         "concept_code": "74285003",
         "concept_name": "Pelvic mass",
         "count_in_cohort": 1,
         "descendant_concept_id": 201131,
         "prevalence": 6.97350069735007E-4
        },
        {
         "ancestor_concept_id": 443951,
         "concept_code": "32110003",
         "concept_name": "Disorder of anus",
         "count_in_cohort": 1,
         "descendant_concept_id": 443951,
         "prevalence": 6.97350069735007E-4
        },
        {
         "ancestor_concept_id": 4166245,
         "concept_code": "415991003",
         "concept_name": "Disorder of cardiac ventricle",
         "count_in_cohort": 1,
         "descendant_concept_id": 4166245,
         "prevalence": 6.97350069735007E-4
        },
        {
         "ancestor_concept_id": 79069,
         "concept_code": "5964004",
         "concept_name": "Disorder of rectum",
         "count_in_cohort": 1,
         "descendant_concept_id": 79069,
         "prevalence": 6.97350069735007E-4
        },
        {
         "ancestor_concept_id": 4245614,
         "concept_code": "6072007",
         "concept_name": "Bleeding from anus",
         "count_in_cohort": 1,
         "descendant_concept_id": 4245614,
         "prevalence": 6.97350069735007E-4
        },
        {
         "ancestor_concept_id": 4229440,
         "concept_code": "88805009",
         "concept_name": "Chronic congestive heart failure",
         "count_in_cohort": 1,
         "descendant_concept_id": 4229440,
         "prevalence": 6.97350069735007E-4
        },
        {
         "ancestor_concept_id": 4244662,
         "concept_code": "928000",
         "concept_name": "Disorder of musculoskeletal system",
         "count_in_cohort": 1,
         "descendant_concept_id": 4244662,
         "prevalence": 6.97350069735007E-4
        },
        {
         "ancestor_concept_id": 4176944,
         "concept_code": "363166002",
         "concept_name": "Infective disorder of head",
         "count_in_cohort": 1,
         "descendant_concept_id": 4176944,
         "prevalence": 6.97350069735007E-4
        },
        {
         "ancestor_concept_id": 4111798,
         "concept_code": "254532005",
         "concept_name": "Neoplasm of digestive organ",
         "count_in_cohort": 1,
         "descendant_concept_id": 4111798,
         "prevalence": 6.97350069735007E-4
        },
        {
         "ancestor_concept_id": 4134593,
         "concept_code": "128284006",
         "concept_name": "Chronic digestive system disorder",
         "count_in_cohort": 1,
         "descendant_concept_id": 4134593,
         "prevalence": 6.97350069735007E-4
        },
        {
         "ancestor_concept_id": 437312,
         "concept_code": "131148009",
         "concept_name": "Bleeding",
         "count_in_cohort": 1,
         "descendant_concept_id": 437312,
         "prevalence": 6.97350069735007E-4
        },
        {
         "ancestor_concept_id": 4341247,
         "concept_code": "236077008",
         "concept_name": "Protracted diarrhea",
         "count_in_cohort": 1,
         "descendant_concept_id": 4341247,
         "prevalence": 6.97350069735007E-4
        },
        {
         "ancestor_concept_id": 40481087,
         "concept_code": "444814009",
         "concept_name": "Viral sinusitis",
         "count_in_cohort": 1,
         "descendant_concept_id": 40481087,
         "prevalence": 6.97350069735007E-4
        },
        {
         "ancestor_concept_id": 319835,
         "concept_code": "42343007",
         "concept_name": "Congestive heart failure",
         "count_in_cohort": 1,
         "descendant_concept_id": 319835,
         "prevalence": 6.97350069735007E-4
        },
        {
         "ancestor_concept_id": 4338120,
         "concept_code": "88111009",
         "concept_name": "Altered bowel function",
         "count_in_cohort": 1,
         "descendant_concept_id": 4338120,
         "prevalence": 6.97350069735007E-4
        },
        {
         "ancestor_concept_id": 4182633,
         "concept_code": "366256008",
         "concept_name": "Finding of bowel action",
         "count_in_cohort": 1,
         "descendant_concept_id": 4182633,
         "prevalence": 6.97350069735007E-4
        },
        {
         "ancestor_concept_id": 4158326,
         "concept_code": "271745005",
         "concept_name": "Facial sinus finding",
         "count_in_cohort": 1,
         "descendant_concept_id": 4158326,
         "prevalence": 6.97350069735007E-4
        },
        {
         "ancestor_concept_id": 4101343,
         "concept_code": "300358007",
         "concept_name": "Functional finding of gastrointestinal tract",
         "count_in_cohort": 1,
         "descendant_concept_id": 4101343,
         "prevalence": 6.97350069735007E-4
        },
        {
         "ancestor_concept_id": 4131598,
         "concept_code": "126769007",
         "concept_name": "Neoplasm of intestinal tract",
         "count_in_cohort": 1,
         "descendant_concept_id": 4131598,
         "prevalence": 6.97350069735007E-4
        },
        {
         "ancestor_concept_id": 4133974,
         "concept_code": "128050000",
         "concept_name": "Neoplasm of abdomen",
         "count_in_cohort": 1,
         "descendant_concept_id": 4133974,
         "prevalence": 6.97350069735007E-4
        },
        {
         "ancestor_concept_id": 4103995,
         "concept_code": "300312006",
         "concept_name": "Lesion of rectum",
         "count_in_cohort": 1,
         "descendant_concept_id": 4103995,
         "prevalence": 6.97350069735007E-4
        },
        {
         "ancestor_concept_id": 135930,
         "concept_code": "106028002",
         "concept_name": "Musculoskeletal finding",
         "count_in_cohort": 1,
         "descendant_concept_id": 135930,
         "prevalence": 6.97350069735007E-4
        },
        {
         "ancestor_concept_id": 4042836,
         "concept_code": "118934005",
         "concept_name": "Disorder of head",
         "count_in_cohort": 1,
         "descendant_concept_id": 4042836,
         "prevalence": 6.97350069735007E-4
        },
        {
         "ancestor_concept_id": 4042505,
         "concept_code": "118953000",
         "concept_name": "Bone finding",
         "count_in_cohort": 1,
         "descendant_concept_id": 4042505,
         "prevalence": 6.97350069735007E-4
        },
        {
         "ancestor_concept_id": 4130514,
         "concept_code": "126837005",
         "concept_name": "Neoplasm of large intestine",
         "count_in_cohort": 1,
         "descendant_concept_id": 4130514,
         "prevalence": 6.97350069735007E-4
        },
        {
         "ancestor_concept_id": 4209223,
         "concept_code": "441456002",
         "concept_name": "Polyp",
         "count_in_cohort": 1,
         "descendant_concept_id": 4209223,
         "prevalence": 6.97350069735007E-4
        },
        {
         "ancestor_concept_id": 4266186,
         "concept_code": "399981008",
         "concept_name": "Neoplasm and/or hamartoma",
         "count_in_cohort": 1,
         "descendant_concept_id": 4266186,
         "prevalence": 6.97350069735007E-4
        },
        {
         "ancestor_concept_id": 4216644,
         "concept_code": "39772007",
         "concept_name": "Rectal polyp",
         "count_in_cohort": 1,
         "descendant_concept_id": 4216644,
         "prevalence": 6.97350069735007E-4
        },
        {
         "ancestor_concept_id": 4113563,
         "concept_code": "300373008",
         "concept_name": "Finding of defecation",
         "count_in_cohort": 1,
         "descendant_concept_id": 4113563,
         "prevalence": 6.97350069735007E-4
        },
        {
         "ancestor_concept_id": 4053317,
         "concept_code": "124734007",
         "concept_name": "Perineal finding",
         "count_in_cohort": 1,
         "descendant_concept_id": 4053317,
         "prevalence": 6.97350069735007E-4
        },
        {
         "ancestor_concept_id": 4028244,
         "concept_code": "128292002",
         "concept_name": "Chronic disease of cardiovascular system",
         "count_in_cohort": 1,
         "descendant_concept_id": 4028244,
         "prevalence": 6.97350069735007E-4
        },
        {
         "ancestor_concept_id": 4027880,
         "concept_code": "128524007",
         "concept_name": "Disorder of colon",
         "count_in_cohort": 1,
         "descendant_concept_id": 4027880,
         "prevalence": 6.97350069735007E-4
        },
        {
         "ancestor_concept_id": 4287929,
         "concept_code": "397174009",
         "concept_name": "Disorder of anal region",
         "count_in_cohort": 1,
         "descendant_concept_id": 4287929,
         "prevalence": 6.97350069735007E-4
        },
        {
         "ancestor_concept_id": 4096976,
         "concept_code": "249597005",
         "concept_name": "Rectum finding",
         "count_in_cohort": 1,
         "descendant_concept_id": 4096976,
         "prevalence": 6.97350069735007E-4
        },
        {
         "ancestor_concept_id": 4130373,
         "concept_code": "126768004",
         "concept_name": "Neoplasm of gastrointestinal tract",
         "count_in_cohort": 1,
         "descendant_concept_id": 4130373,
         "prevalence": 6.97350069735007E-4
        },
        {
         "ancestor_concept_id": 196931,
         "concept_code": "128415001",
         "concept_name": "Neoplasm of digestive tract",
         "count_in_cohort": 1,
         "descendant_concept_id": 196931,
         "prevalence": 6.97350069735007E-4
        },
        {
         "ancestor_concept_id": 197506,
         "concept_code": "188366002",
         "concept_name": "Malignant neoplasm of abdomen",
         "count_in_cohort": 1,
         "descendant_concept_id": 197506,
         "prevalence": 6.97350069735007E-4
        },
        {
         "ancestor_concept_id": 40491001,
         "concept_code": "448675008",
         "concept_name": "Malignant neoplasm of digestive system",
         "count_in_cohort": 1,
         "descendant_concept_id": 40491001,
         "prevalence": 6.97350069735007E-4
        },
        {
         "ancestor_concept_id": 43531055,
         "concept_code": "609621000",
         "concept_name": "Disorder of perineum",
         "count_in_cohort": 1,
         "descendant_concept_id": 43531055,
         "prevalence": 6.97350069735007E-4
        },
        {
         "ancestor_concept_id": 4143250,
         "concept_code": "425711007",
         "concept_name": "Mass of colon",
         "count_in_cohort": 1,
         "descendant_concept_id": 4143250,
         "prevalence": 6.97350069735007E-4
        },
        {
         "ancestor_concept_id": 75909,
         "concept_code": "76069003",
         "concept_name": "Disorder of bone",
         "count_in_cohort": 1,
         "descendant_concept_id": 75909,
         "prevalence": 6.97350069735007E-4
        },
        {
         "ancestor_concept_id": 37311947,
         "concept_code": "788951001",
         "concept_name": "Hemorrhage of digestive system",
         "count_in_cohort": 1,
         "descendant_concept_id": 37311947,
         "prevalence": 6.97350069735007E-4
        },
        {
         "ancestor_concept_id": 443392,
         "concept_code": "363346000",
         "concept_name": "Malignant neoplastic disease",
         "count_in_cohort": 1,
         "descendant_concept_id": 443392,
         "prevalence": 6.97350069735007E-4
        },
        {
         "ancestor_concept_id": 4116238,
         "concept_code": "255077007",
         "concept_name": "Malignant tumor of digestive organ",
         "count_in_cohort": 1,
         "descendant_concept_id": 4116238,
         "prevalence": 6.97350069735007E-4
        },
        {
         "ancestor_concept_id": 4101219,
         "concept_code": "300310003",
         "concept_name": "Finding of colon",
         "count_in_cohort": 1,
         "descendant_concept_id": 4101219,
         "prevalence": 6.97350069735007E-4
        },
        {
         "ancestor_concept_id": 4132555,
         "concept_code": "127331007",
         "concept_name": "Neoplasm by body site",
         "count_in_cohort": 1,
         "descendant_concept_id": 4132555,
         "prevalence": 6.97350069735007E-4
        },
        {
         "ancestor_concept_id": 4134586,
         "concept_code": "128238001",
         "concept_name": "Chronic heart disease",
         "count_in_cohort": 1,
         "descendant_concept_id": 4134586,
         "prevalence": 6.97350069735007E-4
        },
        {
         "ancestor_concept_id": 4028253,
         "concept_code": "128348002",
         "concept_name": "Neoplasm of digestive system",
         "count_in_cohort": 1,
         "descendant_concept_id": 4028253,
         "prevalence": 6.97350069735007E-4
        }
       ],
       "_concepts2": [],
       "_css": "/* PAGE LAYOUT */\n\n.vis-container {\n    /*display: flex;*/\n    /*flex-direction: column;*/\n    align-items: center;\n    width: 100%;\n    /*height: 432px; !* match concepts-row height *!*/\n    overflow: visible; /* hide outer vertical scrollbar */\n}\n\n.row-container {\n    display: flex;\n    justify-content: space-around;\n    width: 100%;\n    height: auto;\n    overflow: hidden;\n    /*margin-bottom: 5px;*/\n}\n\n.col-container {\n    flex: 1;\n    margin: 5px;\n    border: 1px solid black;\n    width: 100%;\n}\n\n/* BAR CHART */\n\n/* overall barchart size */\n.barchart{\n    font-family: sans-serif;\n    font-size: 12px;\n    width: 100%;  /* allows resize to fit the page*/\n    height: auto;\n}\n\n/* BAR CHART STYLES */\n\n/* bars */\n.bar1 {\n    fill: steelblue;\n}\n.bar2 {\n    fill: orange;\n}\n/* axis labels */\n.axis-label {\n    font-family: sans-serif;\n    font-size: 14px;\n}\n/* lines and tick marks */\n.axis path,\n.axis line {\n    fill: none;\n    stroke: black;\n    shape-rendering: crispEdges;\n}\n/* axis text */\n.axis text {\n    font-family: sans-serif;\n    font-size: 14px;\n}\n\n/* CONCEPTS TABLE */\n\n.concepts-row {\n    width: 100%;\n    height: 100%; /* fill vis-container height */\n}\n\n.div-concepts-table-body {\n    margin-top: 0;\n    overflow-y: auto;\n    overflow-x: auto;\n    background-color: #f9f9f9;\n}\n\n.table-body-wrapper {\n    overflow: auto;\n    max-height: 370px; /* header height removed */\n}\n\n.full-width {\n    width: 100%;\n}",
       "_esm": "import * as d3 from 'https://esm.sh/d3@7';\n\n// function initialize({ model }) {\n//     // Set up shared state or event handlers.\n//     return () => {\n//       // Optional: Called when the widget is destroyed.\n//     }\n// } // end initialize\n\nfunction render({ model, el }) {\n    // for testing\n    // alert('hello');\n\n    // DISPATCHERS\n\n    // for handling the concepts table\n    let conceptsTableDispatcher = d3.dispatch('filter','sort');\n\n\n    // <editor-fold desc=\"---------- UTILITY FUNCTIONS ----------\"\n\n    // clears an element\n    function clearElement(element) {\n        element.selectAll('*').remove();\n    }\n\n    // converts timestamp to formatted date 'YYYY-MM-DD'\n    function getIsoDateString(timestamp) {\n        let aDate = new Date(timestamp);\n        return aDate.toISOString().split('T')[0];\n    }\n\n    // converts keys to readable words by:\n    // 1. replacing the underscore with a space, and\n    // 2. capitalizing the first letter of each word\n    function makeKeysWords (keys) {\n        return keys.map(key => {\n            return key.split('_')\n                .map(part => part.charAt(0).toUpperCase() + part.slice(1))\n                .join(' ');\n        });\n    }\n    // </editor-fold>\n\n    // <editor-fold desc=\"---------- DEFINE DATA ----------\">\n\n    var concepts1 = model.get('_concepts1');\n    var race_stats1 = model.get('_race_stats1');\n    var gender_dist1 = model.get('_gender_dist1');\n    var age_dist1 = model.get('_age_dist1');\n\n    var concepts2 = model.get('_concepts2');\n    var race_stats2 = model.get('_race_stats2');\n    var gender_dist2 = model.get('_gender_dist2');\n    var age_dist2 = model.get('_age_dist2');\n\n    // </editor-fold>\n\n    // <editor-fold desc=\"---------- VISUAL CONTROL FUNCTIONS ----------\">\n\n    /*\n* draws a search box\n* Parameters:\n*   containerId: type: string - prepended id of container where the control is to be rendered.\n*   dispatch: d3.dispatch instance - user input event handler\n*   label: type: string - label for the control\n*   width: type: string - the width of the input box in pixels\n*   data: type: list of objects - each object should have the keys display (string),\n*                                        and data (anything needed to handle the selection\n*   handleSearch: type: function - callback\n* Return:\n*   div: DOM div element containing input box\n*/\n    function SearchBox(dispatch, label='Search', width=300) {\n        let div = d3.create(\"xhtml:div\")\n            .attr(\"xmlns\", \"http://www.w3.org/1999/xhtml\")\n            .style(\"padding\", \"10px\");\n\n        let input = div.append('input')\n            .attr('type', 'text')\n            .attr('placeholder', label);\n\n        input.on('input', function (event) {\n            dispatch.call('filter', this, event.target.value);  // dispatch filter event\n        });\n\n        return div;\n    }\n\n    // </editor-fold>\n\n    // <editor-fold desc=\"---------- VERTICAL BAR CHART FUNCTIONS ----------\">\n\n    function VerticalBarChart(\n        series1,  // required\n        {\n            series2 = { data: null, name: \"cohort 2\" },   // default object\n            dimensions: {\n                xlabel = \"\",\n                ylabel = \"\",\n                title = \"\",\n                width = 600,\n                height = 400,\n                margin = { top: 40, right: 10, bottom: 60, left: 80 },\n                padding = 0.1\n            } = {}\n        } = {}  // default for options object\n    ) {\n        // validate series1\n        if (!series1 || !series1.data) {\n            throw new Error(\"SvgVerticalBarChart requires series1 with a 'data' property.\");\n        }\n\n        // default series1 name if missing\n        if (!series1.name){\n            series1.name = \"cohort 1\";\n        }\n\n        let svg = d3.create('svg')\n            .attr('class', 'barchart')\n            .attr('width', width)\n            .attr('height', height)\n            .attr('viewBox', `0 0 ${width} ${height}`)\n            .attr('preserveAspectRatio', 'xMidYMid meet');\n\n        // Combine data for scales\n        const combinedData = series2.data ? series1.data.concat(series2.data) : series1.data;\n\n        // Set up scales\n        const xScale = d3.scaleBand(series1.data.map(d => d.category),\n            [margin.left, width - margin.right])\n            .padding(padding);\n\n        const yScale = d3.scaleLinear([0, d3.max(combinedData, d => d.value)],\n            [height - margin.bottom, margin.top])\n            .nice();\n\n        // Add X-axis\n        svg.append('g')\n            .attr('transform', `translate(0, ${height - margin.bottom})`)\n            .call(d3.axisBottom(xScale))\n            .attr('class', 'axis');\n        // .selectAll('text')\n        // .attr('transform', 'rotate(-45)')\n        // .style('text-anchor', 'end');\n\n        // x-axis label\n        svg.append('text')\n            .attr('class', 'axis-label')\n            .attr('x', width / 2)\n            .attr('y', height - 20)\n            .style('text-anchor', 'middle')\n            .text(xlabel);\n\n        // Add Y-axis\n        svg.append('g')\n            .attr('transform', `translate(${margin.left}, 0)`)\n            .call(d3.axisLeft(yScale))\n            .attr('class', 'axis');\n\n        // y-axis label\n        svg.append('text')\n            .attr('class', 'axis-label')\n            .attr('transform', 'rotate(-90)')\n            .attr('x', height / 2 * -1)\n            .attr('y', 20)\n            .attr('text-anchor', 'middle')\n            .text(ylabel);\n\n        if (title === '' && xlabel !== ''){\n            title = xlabel + ' Distribution';\n        }\n\n        svg.append('text')\n            .attr('class', 'chart-title')\n            .attr('text-anchor', 'middle')\n            .attr('x', width / 2)\n            .attr('y', margin.top / 2)\n            .text(title);\n\n        // console.log(xScale.bandwidth());\n\n        // series 1 bars\n        svg.selectAll('.bar1')\n            .data(series1.data)\n            .enter()\n            .append('rect')\n            .attr('class', 'bar1')\n            .attr('x', d => xScale(d.category))\n            .attr('y', d => yScale(d.value))\n            .attr('width', xScale.bandwidth())\n            .attr('height', d => height - margin.bottom - yScale(d.value));\n\n\n        if (series2.data && series2.data.length > 0) {\n            // series 2 data bars\n            svg.selectAll('.bar2')\n                .data(series2.data)\n                .enter()\n                .append('rect')\n                .attr('class', 'bar2')\n                .attr('x', d => xScale(d.category) + xScale.bandwidth() / 2)\n                .attr('y', d => yScale(d.value))\n                .attr('width', xScale.bandwidth() / 2)\n                .attr('height', d => height - margin.bottom - yScale(d.value));\n\n            // Add labels for series 2 data\n            svg.selectAll('.label2')\n                .data(series2.data)\n                .enter()\n                .append('text')\n                .attr('class', 'label2')\n                .attr('x', d => xScale(d.category) + xScale.bandwidth() / 2 + 25)\n                .attr('y', d => yScale(d.value) - 5)\n                .attr('text-anchor', 'middle')\n                .text(d => d.value);\n\n            // labels for series 1 data if there are 2 datasets\n            svg.selectAll('.label1')\n                .data(series1.data)\n                .enter()\n                .append('text')\n                .attr('class', 'label1')\n                .attr('x', d => xScale(d.category) + xScale.bandwidth() / 2 - xScale.bandwidth() / 4)\n                .attr('y', d => yScale(d.value) - 5)\n                .attr('text-anchor', 'middle')\n                .text(d => d.value);\n\n            // only show legend if there are 2 datasets\n            const legendData = [\n                { label: series1.name, color: 'steelblue' },\n                { label: series2.name, color: 'orange' }\n            ];\n\n            const legend = svg.append('g')\n                .attr('class', 'legend')\n                .attr('transform', `translate(${margin.left}, ${height - 20})`);\n\n            legend.selectAll('rect')\n                .data(legendData)\n                .enter()\n                .append('rect')\n                .attr('x', (d, i) => i * 100) // Adjust spacing as needed\n                .attr('y', 0)\n                .attr('width', 18)\n                .attr('height', 18)\n                .attr('fill', d => d.color);\n\n            legend.selectAll('text')\n                .data(legendData)\n                .enter()\n                .append('text')\n                .attr('x', (d, i) => i * 100 + 24) // Adjust spacing as needed\n                .attr('y', 9)\n                .attr('dy', '0.35em')\n                .text(d => d.label);\n        }\n        else{\n            // labels for series 1 data if there is 1 dataset\n            svg.selectAll('.label1')\n                .data(series1.data)\n                .enter()\n                .append('text')\n                .attr('class', 'label1')\n                .attr('x', d => xScale(d.category) + xScale.bandwidth() / 2 + 5)\n                .attr('y', d => yScale(d.value) - 5)\n                .attr('text-anchor', 'middle')\n                .text(d => d.value);\n        }\n\n        return svg;\n    }\n\n    // </editor-fold>\n\n    // <editor-fold desc=\"---------- CONCEPTS TABLE FUNCTIONS ----------\">\n\n    function prepareConceptsCompareData(concepts1, concepts2) {\n\n        // console.log(`Concepts1: ${JSON.stringify(concepts1)}`);\n        // console.log(`Concepts2: ${JSON.stringify(concepts2)}`);\n\n        // function hellingerDistance(P, Q) {\n        //     if (P.length !== Q.length) {\n        //         throw new Error(\"The distributions must have the same length.\");\n        //     }\n        //\n        //     let sum = 0;\n        //     for (let i = 0; i < P.length; i++) {\n        //         sum += Math.pow(Math.sqrt(P[i]) - Math.sqrt(Q[i]), 2);\n        //     }\n        //\n        //     return (1 / Math.sqrt(2)) * Math.sqrt(sum);\n        // }\n\n        let mergedList = concepts1.map(item1 => {\n            const item2 = concepts2.find(item => item.concept_code === item1.concept_code);\n            return Object.assign({}, item1, item2);\n        });\n\n        // Add a key-value pair based on a calculation (e.g., double the age)\n        mergedList = mergedList.map(item => {\n            item.difference = (item.study_prevalence ?? 0) - (item.base_prevalence ?? 0);\n\n            // item.bias = hellingerDistance(item.study_prevalence, item.base_prevalence);\n            item.bias = Math.abs(item.difference);\n            delete item.study_count;\n            delete item.base_count;\n            delete item.ancestor_concept_id;\n            delete item.descendant_concept_id;\n            return item;\n        });\n\n        const order = ['concept_code', 'concept_name', 'base_prevalence', 'difference', 'study_prevalence', 'bias'];\n\n        mergedList = mergedList.map(item => {\n            const rearrangedItem = {};\n            order.forEach(key => {\n                if (item.hasOwnProperty(key)) {\n                    rearrangedItem[key] = item[key];\n                }\n            });\n            return rearrangedItem;\n        });\n\n        mergedList.sort((a, b) => b.bias - a.bias);\n\n        // console.log(mergedList);\n\n        return mergedList;\n    }\n\n    function handleFilterConceptsTable(dispatch, row, body_svg) {\n        dispatch.on(\"filter\", search_term => {\n            const normalized = search_term.toLowerCase().replace(/[^a-z0-9]/g, \"\");\n            row.style(\"display\", null);\n            row.filter(d => {\n                const code = d.concept_code.toLowerCase();\n                const name = d.concept_name.toLowerCase().replace(/[^a-z0-9]/g, \"\");\n                return !(code.startsWith(normalized) || name.includes(normalized));\n            }).style(\"display\", \"none\");\n\n            // Recompute Y positions for visible rows\n            let yOffset = 0;\n            row.filter(function () {\n                return d3.select(this).style(\"display\") !== \"none\";\n            })\n                .each(function () {\n                    d3.select(this).attr(\"transform\", `translate(0, ${yOffset})`);\n                    yOffset += parseFloat(d3.select(this).select(\"rect\").attr(\"height\"));\n                });\n            body_svg.attr(\"height\", yOffset);\n        });\n    }\n\n    function ConceptsTable(data, dispatch,\n                           {data2 = null,\n                               dimensions = { height: 432, row_height: 30 }} = {}){\n        // ==== Validation for required params ====\n        if (data === null) {\n            throw new Error(\"drawConceptsTable requires a 'data' parameter.\");\n        }\n\n        if (\n            !dispatch ||\n            typeof dispatch !== \"object\" ||\n            typeof dispatch.call !== \"function\" ||\n            typeof dispatch.on !== \"function\"\n        ) {\n            throw new Error(\"drawConceptsTable requires a valid d3.dispatch object.\");\n        }\n\n        // ==== Validate optional params ====\n        if (data2 !== null && !Array.isArray(data2)) {\n            console.warn(\"drawConceptsTable: 'data2' should be an array (or null).\");\n        }\n\n        if (typeof dimensions !== \"object\" || dimensions === null) {\n            throw new Error(\"drawConceptsTable: 'dimensions' must be an object.\");\n        }\n\n        let table_data;\n        if (data2 !== null) {\n            table_data = prepareConceptsCompareData(data, data2);\n        } else {\n            table_data = data;\n        }\n\n        const text_offset_x = 10;\n        const { height, row_height } = dimensions;\n\n        // === container with scroll ===\n        const container = d3.create(\"div\")\n            .style(\"width\", \"100%\")\n            .style(\"max-height\", height + \"px\")\n            .style(\"overflow\", \"auto\")\n            .style(\"position\", \"relative\")\n            .style(\"border\", \"1px solid #ccc\")\n            .style(\"font-family\", \"sans-serif\");\n\n        // === HEADERS ===\n\n        const headers_text = makeKeysWords(Object.keys(table_data[0]));\n        if (!table_data.length) {\n            throw new Error(\"drawConceptsTable: table_data is empty.\");\n        }\n\n        // TODO: I have assumed a maximum drawing area width of about 1070px. We may need to change this so that we get\n        //       the available canvas size and dynamically resize the visualization accordingly.\n        let columns_data;\n        if(data2 === null){\n            columns_data = [\n                { text: headers_text[1], field: \"concept_code\", x: 0, width: 160 },\n                { text: headers_text[0], field: \"concept_name\", x: 160, width: 590 },\n                { text: headers_text[2], field: \"count_in_cohort\", x: 750, width: 160 },\n                { text: headers_text[3],\n                    field: d => (d.prevalence !== null ? d.prevalence.toFixed(3) : \"\"), x: 910, width: 160 }\n            ];\n        }\n        else{\n            columns_data = [\n                { text: headers_text[0], field: \"concept_code\", x: 0, width: 140, type: 'text' },\n                { text: headers_text[1], field: \"concept_name\", x: 140, width: 330, type: 'text' },\n                { text: headers_text[2],\n                    field: d => (d.base_prevalence !== null ? d.base_prevalence.toFixed(3) : \"\"),\n                    x: 470, width: 120, type: 'text' },\n                { text: headers_text[3], field: \"difference\", x: 590, width: 240, type: 'compare_bars' },\n                { text: headers_text[4],\n                    field: d => (d.study_prevalence !== null ? d.study_prevalence.toFixed(3) : \"\"),\n                    x: 830, width: 120, type: 'text' },\n                { text: headers_text[5], field: \"bias\", x: 950, width: 120, type: 'bar' }\n            ];\n        }\n\n        const total_table_width = d3.sum(columns_data, d => d.width);\n\n        const headers_svg = container.append(\"svg\")\n            .attr(\"width\", total_table_width)\n            .attr(\"height\", row_height)\n            .style(\"position\", \"sticky\")\n            .style(\"top\", 0)\n            .style(\"background\", \"white\")\n            .style(\"z-index\", 1);\n\n        const headers_g = headers_svg.append(\"g\");\n\n        const header_g = headers_g.selectAll(\"g\")\n            .data(columns_data)\n            .enter()\n            .append(\"g\")\n            .attr(\"transform\", d => `translate(${d.x},0)`);\n\n        header_g.append(\"rect\")\n            .attr(\"width\", d => d.width)\n            .attr(\"height\", row_height)\n            .attr(\"fill\", \"#d0d0d0\")\n            .attr(\"stroke\", \"#fff\");\n\n        header_g.append(\"text\")\n            .attr(\"x\", text_offset_x)\n            .attr(\"y\", row_height / 2)\n            .attr(\"dy\", \"0.35em\")\n            .attr(\"text-anchor\", \"start\")\n            .text(d => d.text);\n\n        // === Column resizing handle ===\n        header_g.append(\"rect\")\n            .attr(\"class\", \"resize-handle\")\n            .attr(\"x\", d => d.width - 5)\n            .attr(\"y\", 0)\n            .attr(\"width\", 5)\n            .attr(\"height\", row_height)\n            .style(\"cursor\", \"col-resize\")\n            .style(\"fill\", \"transparent\")\n            .call(d3.drag()\n                .on(\"start\", function(event, d) {\n                    d.startWidth = d.width;       // store starting width\n                    d.startX = event.x;           // store starting mouse X\n                })\n                .on(\"drag\", function(event, d) {\n                    const dx = event.x - d.startX;           // change in mouse X\n                    const newWidth = Math.max(30, d.startWidth + dx); // minimum width 30\n                    d.width = newWidth;\n\n                    // Update header rect\n                    d3.select(this.parentNode).select(\"rect\").attr(\"width\", newWidth);\n                    // Update resize handle position\n                    d3.select(this).attr(\"x\", newWidth - 5);\n\n                    // Recalculate x positions for all columns after this one\n                    let x = 0;\n                    columns_data.forEach(col => {\n                        col.x = x;\n                        x += col.width;\n                    });\n\n                    // Update header positions\n                    headers_g.selectAll(\"g\").attr(\"transform\", col => `translate(${col.x},0)`);\n\n                    // Update body cell positions and widths\n                    body_svg.selectAll(\".row\").each(function(row_data) {\n                        d3.select(this).selectAll(\".cell\")\n                            .attr(\"transform\", (c, i) => `translate(${columns_data[i].x},0)`)\n                            .select(\".cell_bg\")\n                            .attr(\"width\", (c, i) => columns_data[i].width);\n                    });\n\n                    // Update body and header SVG width\n                    const totalWidth = d3.sum(columns_data, c => c.width);\n                    body_svg.attr(\"width\", totalWidth);\n                    headers_svg.attr(\"width\", totalWidth);\n                })\n            );\n\n        // === BODY ===\n\n        const body_svg = container.append(\"svg\")\n            .attr(\"width\", total_table_width)\n            .attr(\"height\", table_data.length * row_height);\n\n        const rows_g = body_svg.append(\"g\");\n\n        const row = rows_g.selectAll(\".row\")\n            .data(table_data)\n            .enter()\n            .append(\"g\")\n            .attr(\"class\", \"row\")\n            .attr(\"transform\", (d, i) => `translate(0, ${i * row_height})`);\n\n        let max_bias, max_diff, margin = 5;\n        if (data2 !== null) {\n            max_bias = d3.max(table_data, d => Math.abs(d.bias)) || 0;\n            max_diff = d3.max(table_data, d => Math.abs(d.difference)) || 0;\n        }\n\n        const biasScale = d3.scaleLinear();\n        const barScale = d3.scaleLinear();\n        let zeroX, g, outerHeight, innerY, innerH;\n\n        // per-row, per-column cells\n        columns_data.forEach(col => {\n            const cell = row.append(\"g\")\n                .attr(\"class\", \"cell\")\n                .attr(\"transform\", `translate(${col.x},0)`);\n\n            cell.append(\"rect\")\n                .attr(\"class\", \"cell-bg\")\n                .attr(\"width\", col.width)\n                .attr(\"height\", row_height)\n                .attr(\"fill\", \"#f0f0f0\")\n                .attr(\"stroke\", \"#ccc\");\n\n            if (data2 === null) {\n                cell.append(\"text\")\n                    .attr(\"x\", text_offset_x)\n                    .attr(\"y\", row_height / 2)\n                    .attr(\"dy\", \"0.35em\")\n                    .attr(\"text-anchor\", \"start\")\n                    .text(row_data => {\n                        const val = typeof col.field === \"function\" ? col.field(row_data) : row_data[col.field];\n                        return val !== null ? val : \"\";\n                    });\n            } else {\n                switch (col.type) {\n                    case \"text\":\n                        cell.append(\"text\")\n                            .attr(\"x\", text_offset_x)\n                            .attr(\"y\", row_height / 2)\n                            .attr(\"dy\", \"0.35em\")\n                            .attr(\"text-anchor\", \"start\")\n                            .text(row_data => {\n                                const val = typeof col.field === \"function\" ? col.field(row_data) : row_data[col.field];\n                                return val !== null ? val : \"\";\n                            });\n                        break;\n\n                    case \"bar\":\n                        biasScale\n                            .domain([0, max_bias || 1])\n                            .range([margin, col.width - margin]);  // full available space inside cell\n\n                        cell.each(function (row_data) {\n                            g = d3.select(this);\n                            outerHeight = row_height;\n                            innerY = margin;\n                            innerH = outerHeight - 2 * margin;\n\n                            // Bar: left-aligned, scaled to bias value\n                            g.append(\"rect\")\n                                .attr(\"x\", 0)\n                                .attr(\"y\", innerY)\n                                .attr(\"width\", biasScale(Math.abs(row_data.bias)))\n                                .attr(\"height\", innerH)\n                                .attr(\"fill\", \"lightslategrey\");\n\n                            // Text: show the bias value\n                            g.append(\"text\")\n                                .attr(\"x\", 4)  // small left inset\n                                .attr(\"y\", outerHeight / 2 + 4)\n                                .attr(\"font-size\", \"10px\")\n                                .attr(\"fill\", \"black\")\n                                .text(row_data.bias !== null ? row_data.bias.toFixed(3) : \"\");\n                        });\n                        break;\n\n                    case \"compare_bars\":\n                        barScale\n                            .domain([-max_diff || -1, max_diff || 1])\n                            .range([margin, col.width - margin]);  // full available space inside cell\n\n                        zeroX = barScale(0);\n\n                        cell.each(function (row_data) {\n                            g = d3.select(this);\n                            outerHeight = row_height;\n                            innerY = 5;\n                            innerH = outerHeight - 2 * margin;\n\n                            // Bar\n                            g.append(\"rect\")\n                                .attr(\"x\", Math.min(zeroX, barScale(row_data.difference)))\n                                .attr(\"y\", innerY)\n                                .attr(\"width\", Math.abs(barScale(row_data.difference) - zeroX))\n                                .attr(\"height\", innerH)\n                                .attr(\"fill\", row_data.difference < 0 ? \"orange\" : \"steelblue\");\n\n                            // Text label\n                            g.append(\"text\")\n                                .attr(\"x\", zeroX)\n                                .attr(\"y\", row_height / 2 + 4)\n                                .attr(\"text-anchor\", \"middle\")\n                                .attr(\"font-size\", \"10px\")\n                                .text(row_data.difference !== null ? row_data.difference.toFixed(3) : \"\");\n\n                        });\n                        break;\n\n                    default:\n                        throw new Error(`Unknown column type: ${col.type}`);\n                }\n            }\n        });\n\n        handleFilterConceptsTable(dispatch, row, body_svg);\n\n        return container;\n    }\n    // </editor-fold>\n\n    // <editor-fold desc=\"---------- PAGE LAYOUT ----------\">\n\n    // overall container\n    let vis_container = document.createElementNS('http://www.w3.org/1999/xhtml', 'div');\n    vis_container.setAttribute('class', 'vis-container');\n\n    // demographics container row\n    let demographics_row = vis_container.appendChild(document.createElement('div'));\n    demographics_row.setAttribute('class', 'row-container');\n    // gender container\n    let div_gender = demographics_row.appendChild(document.createElement('div'));\n    div_gender.setAttribute('class', 'col-container');\n    // race container\n    let div_race = demographics_row.appendChild(document.createElement('div'));\n    div_race.setAttribute('class', 'col-container');\n    // age container\n    let div_age = demographics_row.appendChild(document.createElement('div'));\n    div_age.setAttribute('class', 'col-container');\n\n    // concepts container row\n    let concepts_row = vis_container.appendChild(document.createElement('div'));\n    concepts_row.setAttribute('class', 'row-container concepts-row');\n    // concepts container\n    let div_concepts_container = concepts_row.appendChild(document.createElement('div'));\n    div_concepts_container.setAttribute('class', 'col-container');\n\n    // </editor-fold>\n\n    // <editor-fold desc=\"---------- INSERT THE VISUALIZATIONS ----------\">\n\n    // draw the gender barchart\n    div_gender.appendChild(\n        VerticalBarChart({data: gender_dist1},\n            {series2: {data: gender_dist2}, dimensions: {xlabel: 'Gender'}}).node());\n\n    // draw the race barchart\n    div_race.appendChild(\n        VerticalBarChart({data: race_stats1},\n            {series2: {data: race_stats2}, dimensions: {xlabel: 'Race'}}).node());\n\n    // draw the age barchart\n    div_age.appendChild(\n        VerticalBarChart({data: age_dist1},\n            {series2: {data: age_dist2}, dimensions: {xlabel: 'Age'}}).node());\n\n    // draw the concepts table search box\n    div_concepts_container.appendChild(\n        SearchBox(conceptsTableDispatcher).node());\n\n    // if there is only one set of concepts, draw a single cohort concepts table\n    if(Object.keys(concepts2).length === 0) {\n        // draw the concepts table\n        div_concepts_container.appendChild(\n            ConceptsTable(concepts1, conceptsTableDispatcher).node());\n    }\n    else{\n        div_concepts_container.appendChild(\n            ConceptsTable(concepts1, conceptsTableDispatcher,{data2: concepts2}).node());\n    }\n\n    // attach the visualization to the AnyWidget element\n    el.appendChild(vis_container);\n\n    // </editor-fold>\n\n    // return () => {\n    //   // Optional: Called when the view is destroyed.\n    // }\n\n} // end render\n\n// export default async () => {\n//   let extraState = {};\n//   return {\n//     initialize({ model }) { /* ... */ },\n//     render({ model, el }) { /* ... */ },\n//   }\n// }\n\nexport default { render };\n",
       "_gender_dist1": [
        {
         "category": "female",
         "probability": 40.93,
         "value": 587
        },
        {
         "category": "male",
         "probability": 59.07,
         "value": 847
        },
        {
         "category": "other",
         "probability": 0,
         "value": 0
        }
       ],
       "_gender_dist2": [],
       "_model_module": "anywidget",
       "_model_module_version": "~0.9.*",
       "_model_name": "AnyModel",
       "_race_stats1": [
        {
         "category": "Other",
         "probability": 0.01,
         "value": 8
        },
        {
         "category": "Asian",
         "probability": 0.08,
         "value": 121
        },
        {
         "category": "Black or African American",
         "probability": 0.08,
         "value": 110
        },
        {
         "category": "White",
         "probability": 0.83,
         "value": 1195
        }
       ],
       "_race_stats2": [],
       "_view_module": "anywidget",
       "_view_module_version": "~0.9.*",
       "_view_name": "AnyView",
       "initialized": true,
       "layout": "IPY_MODEL_1eb5e8bfe8f747d9bbc51747efa5ee76"
      }
     },
     "5799ba50e07f4670b7a83d6f87816997": {
      "model_module": "@jupyter-widgets/controls",
      "model_module_version": "2.0.0",
      "model_name": "FloatProgressModel",
      "state": {
       "bar_style": "success",
       "layout": "IPY_MODEL_474d6b06ed594deda8c56778b6bdab33",
       "max": 3,
       "style": "IPY_MODEL_263b9009ee4043df8a46fd5fb4d02a2d",
       "value": 3
      }
     },
     "58557499c81a4f0c92fe1912c793b753": {
      "model_module": "@jupyter-widgets/controls",
      "model_module_version": "2.0.0",
      "model_name": "HTMLStyleModel",
      "state": {
       "description_width": "",
       "font_size": null,
       "text_color": null
      }
     },
     "616a45cb766a41169f76a5c42d3bbb43": {
      "model_module": "anywidget",
      "model_module_version": "~0.9.*",
      "model_name": "AnyModel",
      "state": {
       "_age_dist1": [
        {
         "category": "0-10",
         "probability": 0,
         "value": 0
        },
        {
         "category": "11-20",
         "probability": 0,
         "value": 0
        },
        {
         "category": "21-30",
         "probability": 0.0088,
         "value": 7
        },
        {
         "category": "31-40",
         "probability": 0.0376,
         "value": 30
        },
        {
         "category": "41-50",
         "probability": 0.0664,
         "value": 53
        },
        {
         "category": "51-60",
         "probability": 0.1642,
         "value": 131
        },
        {
         "category": "61-70",
         "probability": 0.193,
         "value": 154
        },
        {
         "category": "71-80",
         "probability": 0.2243,
         "value": 179
        },
        {
         "category": "81-90",
         "probability": 0.2055,
         "value": 164
        },
        {
         "category": "91+",
         "probability": 0.1003,
         "value": 80
        }
       ],
       "_age_dist2": [],
       "_anywidget_id": "CohortWidget.CohortWidget",
       "_concepts1": [
        {
         "ancestor_concept_id": 43531057,
         "concept_code": "609623002",
         "concept_name": "Finding of upper trunk",
         "count_in_cohort": 798,
         "descendant_concept_id": 43531057,
         "prevalence": 1
        },
        {
         "ancestor_concept_id": 4023995,
         "concept_code": "106063007",
         "concept_name": "Cardiovascular finding",
         "count_in_cohort": 798,
         "descendant_concept_id": 4023995,
         "prevalence": 1
        },
        {
         "ancestor_concept_id": 43531056,
         "concept_code": "609622007",
         "concept_name": "Disorder of thoracic segment of trunk",
         "count_in_cohort": 798,
         "descendant_concept_id": 43531056,
         "prevalence": 1
        },
        {
         "ancestor_concept_id": 440142,
         "concept_code": "49483002",
         "concept_name": "Disorder of mediastinum",
         "count_in_cohort": 798,
         "descendant_concept_id": 440142,
         "prevalence": 1
        },
        {
         "ancestor_concept_id": 316139,
         "concept_code": "84114007",
         "concept_name": "Heart failure",
         "count_in_cohort": 798,
         "descendant_concept_id": 316139,
         "prevalence": 1
        },
        {
         "ancestor_concept_id": 4115390,
         "concept_code": "301296002",
         "concept_name": "Mediastinal finding",
         "count_in_cohort": 798,
         "descendant_concept_id": 4115390,
         "prevalence": 1
        },
        {
         "ancestor_concept_id": 4185503,
         "concept_code": "298705000",
         "concept_name": "Finding of region of thorax",
         "count_in_cohort": 798,
         "descendant_concept_id": 4185503,
         "prevalence": 1
        },
        {
         "ancestor_concept_id": 4274025,
         "concept_code": "64572001",
         "concept_name": "Disease",
         "count_in_cohort": 798,
         "descendant_concept_id": 4274025,
         "prevalence": 1
        },
        {
         "ancestor_concept_id": 4042140,
         "concept_code": "118234003",
         "concept_name": "Finding by site",
         "count_in_cohort": 798,
         "descendant_concept_id": 4042140,
         "prevalence": 1
        },
        {
         "ancestor_concept_id": 4103183,
         "concept_code": "301095005",
         "concept_name": "Cardiac finding",
         "count_in_cohort": 798,
         "descendant_concept_id": 4103183,
         "prevalence": 1
        },
        {
         "ancestor_concept_id": 4227253,
         "concept_code": "406123005",
         "concept_name": "Viscus structure finding",
         "count_in_cohort": 798,
         "descendant_concept_id": 4227253,
         "prevalence": 1
        },
        {
         "ancestor_concept_id": 4180628,
         "concept_code": "362965005",
         "concept_name": "Disorder of body system",
         "count_in_cohort": 798,
         "descendant_concept_id": 4180628,
         "prevalence": 1
        },
        {
         "ancestor_concept_id": 4024552,
         "concept_code": "105981003",
         "concept_name": "Disorder of cardiac function",
         "count_in_cohort": 798,
         "descendant_concept_id": 4024552,
         "prevalence": 1
        },
        {
         "ancestor_concept_id": 4043346,
         "concept_code": "118946009",
         "concept_name": "Disorder of thorax",
         "count_in_cohort": 798,
         "descendant_concept_id": 4043346,
         "prevalence": 1
        },
        {
         "ancestor_concept_id": 441840,
         "concept_code": "404684003",
         "concept_name": "Clinical finding",
         "count_in_cohort": 798,
         "descendant_concept_id": 441840,
         "prevalence": 1
        },
        {
         "ancestor_concept_id": 134057,
         "concept_code": "49601007",
         "concept_name": "Disorder of cardiovascular system",
         "count_in_cohort": 798,
         "descendant_concept_id": 134057,
         "prevalence": 1
        },
        {
         "ancestor_concept_id": 321588,
         "concept_code": "56265001",
         "concept_name": "Heart disease",
         "count_in_cohort": 798,
         "descendant_concept_id": 321588,
         "prevalence": 1
        },
        {
         "ancestor_concept_id": 4199402,
         "concept_code": "301857004",
         "concept_name": "Finding of body region",
         "count_in_cohort": 798,
         "descendant_concept_id": 4199402,
         "prevalence": 1
        },
        {
         "ancestor_concept_id": 4117930,
         "concept_code": "302292003",
         "concept_name": "Finding of trunk structure",
         "count_in_cohort": 798,
         "descendant_concept_id": 4117930,
         "prevalence": 1
        },
        {
         "ancestor_concept_id": 4028071,
         "concept_code": "128121009",
         "concept_name": "Disorder of trunk",
         "count_in_cohort": 798,
         "descendant_concept_id": 4028071,
         "prevalence": 1
        },
        {
         "ancestor_concept_id": 4047779,
         "concept_code": "123946008",
         "concept_name": "Disorder by body site",
         "count_in_cohort": 798,
         "descendant_concept_id": 4047779,
         "prevalence": 1
        },
        {
         "ancestor_concept_id": 443883,
         "concept_code": "2704003",
         "concept_name": "Acute disease",
         "count_in_cohort": 752,
         "descendant_concept_id": 443883,
         "prevalence": 0.9423558897243107
        },
        {
         "ancestor_concept_id": 4006969,
         "concept_code": "111273006",
         "concept_name": "Acute respiratory disease",
         "count_in_cohort": 697,
         "descendant_concept_id": 4006969,
         "prevalence": 0.8734335839598998
        },
        {
         "ancestor_concept_id": 320136,
         "concept_code": "50043002",
         "concept_name": "Disorder of respiratory system",
         "count_in_cohort": 697,
         "descendant_concept_id": 320136,
         "prevalence": 0.8734335839598998
        },
        {
         "ancestor_concept_id": 4024567,
         "concept_code": "106048009",
         "concept_name": "Respiratory finding",
         "count_in_cohort": 697,
         "descendant_concept_id": 4024567,
         "prevalence": 0.8734335839598998
        },
        {
         "ancestor_concept_id": 4115259,
         "concept_code": "301226008",
         "concept_name": "Lower respiratory tract finding",
         "count_in_cohort": 696,
         "descendant_concept_id": 4115259,
         "prevalence": 0.8721804511278195
        },
        {
         "ancestor_concept_id": 4078925,
         "concept_code": "19242006",
         "concept_name": "Pulmonary edema",
         "count_in_cohort": 696,
         "descendant_concept_id": 4078925,
         "prevalence": 0.8721804511278195
        },
        {
         "ancestor_concept_id": 257907,
         "concept_code": "19829001",
         "concept_name": "Disorder of lung",
         "count_in_cohort": 696,
         "descendant_concept_id": 257907,
         "prevalence": 0.8721804511278195
        },
        {
         "ancestor_concept_id": 4041664,
         "concept_code": "230145002",
         "concept_name": "Difficulty breathing",
         "count_in_cohort": 696,
         "descendant_concept_id": 4041664,
         "prevalence": 0.8721804511278195
        },
        {
         "ancestor_concept_id": 4239819,
         "concept_code": "69328002",
         "concept_name": "Distress",
         "count_in_cohort": 696,
         "descendant_concept_id": 4239819,
         "prevalence": 0.8721804511278195
        },
        {
         "ancestor_concept_id": 253549,
         "concept_code": "105969002",
         "concept_name": "Disorder of connective tissue",
         "count_in_cohort": 696,
         "descendant_concept_id": 253549,
         "prevalence": 0.8721804511278195
        },
        {
         "ancestor_concept_id": 4115260,
         "concept_code": "301230006",
         "concept_name": "Lung finding",
         "count_in_cohort": 696,
         "descendant_concept_id": 4115260,
         "prevalence": 0.8721804511278195
        },
        {
         "ancestor_concept_id": 432453,
         "concept_code": "365860008",
         "concept_name": "General clinical state finding",
         "count_in_cohort": 696,
         "descendant_concept_id": 432453,
         "prevalence": 0.8721804511278195
        },
        {
         "ancestor_concept_id": 4040388,
         "concept_code": "118654009",
         "concept_name": "Disorder characterized by edema",
         "count_in_cohort": 696,
         "descendant_concept_id": 4040388,
         "prevalence": 0.8721804511278195
        },
        {
         "ancestor_concept_id": 4027553,
         "concept_code": "128272009",
         "concept_name": "Disorder of lower respiratory system",
         "count_in_cohort": 696,
         "descendant_concept_id": 4027553,
         "prevalence": 0.8721804511278195
        },
        {
         "ancestor_concept_id": 433595,
         "concept_code": "267038008",
         "concept_name": "Edema",
         "count_in_cohort": 696,
         "descendant_concept_id": 433595,
         "prevalence": 0.8721804511278195
        },
        {
         "ancestor_concept_id": 4199409,
         "concept_code": "301867009",
         "concept_name": "Edema of trunk",
         "count_in_cohort": 696,
         "descendant_concept_id": 4199409,
         "prevalence": 0.8721804511278195
        },
        {
         "ancestor_concept_id": 4158346,
         "concept_code": "271825005",
         "concept_name": "Respiratory distress",
         "count_in_cohort": 696,
         "descendant_concept_id": 4158346,
         "prevalence": 0.8721804511278195
        },
        {
         "ancestor_concept_id": 4115386,
         "concept_code": "301282008",
         "concept_name": "Finding of respiration",
         "count_in_cohort": 696,
         "descendant_concept_id": 4115386,
         "prevalence": 0.8721804511278195
        },
        {
         "ancestor_concept_id": 4195694,
         "concept_code": "67782005",
         "concept_name": "Acute respiratory distress syndrome",
         "count_in_cohort": 696,
         "descendant_concept_id": 4195694,
         "prevalence": 0.8721804511278195
        },
        {
         "ancestor_concept_id": 4180645,
         "concept_code": "363044007",
         "concept_name": "Connective tissue disorder by body site",
         "count_in_cohort": 696,
         "descendant_concept_id": 4180645,
         "prevalence": 0.8721804511278195
        },
        {
         "ancestor_concept_id": 4271505,
         "concept_code": "366139009",
         "concept_name": "Ease of respiration - finding",
         "count_in_cohort": 696,
         "descendant_concept_id": 4271505,
         "prevalence": 0.8721804511278195
        },
        {
         "ancestor_concept_id": 4119786,
         "concept_code": "233703007",
         "concept_name": "Interstitial lung disease",
         "count_in_cohort": 696,
         "descendant_concept_id": 4119786,
         "prevalence": 0.8721804511278195
        },
        {
         "ancestor_concept_id": 43530877,
         "concept_code": "609411003",
         "concept_name": "Traumatic and/or non-traumatic injury of anatomical site",
         "count_in_cohort": 587,
         "descendant_concept_id": 43530877,
         "prevalence": 0.7355889724310777
        },
        {
         "ancestor_concept_id": 432795,
         "concept_code": "417163006",
         "concept_name": "Traumatic AND/OR non-traumatic injury",
         "count_in_cohort": 587,
         "descendant_concept_id": 432795,
         "prevalence": 0.7355889724310777
        },
        {
         "ancestor_concept_id": 193631,
         "concept_code": "105612003",
         "concept_name": "Injury of internal organ",
         "count_in_cohort": 587,
         "descendant_concept_id": 193631,
         "prevalence": 0.7355889724310777
        },
        {
         "ancestor_concept_id": 194526,
         "concept_code": "48125009",
         "concept_name": "Injury of trunk",
         "count_in_cohort": 587,
         "descendant_concept_id": 194526,
         "prevalence": 0.7355889724310777
        },
        {
         "ancestor_concept_id": 440921,
         "concept_code": "417746004",
         "concept_name": "Traumatic injury",
         "count_in_cohort": 587,
         "descendant_concept_id": 440921,
         "prevalence": 0.7355889724310777
        },
        {
         "ancestor_concept_id": 43530815,
         "concept_code": "609336008",
         "concept_name": "Traumatic injury by site",
         "count_in_cohort": 587,
         "descendant_concept_id": 43530815,
         "prevalence": 0.7355889724310777
        },
        {
         "ancestor_concept_id": 432250,
         "concept_code": "40733004",
         "concept_name": "Disorder due to infection",
         "count_in_cohort": 568,
         "descendant_concept_id": 432250,
         "prevalence": 0.7117794486215538
        },
        {
         "ancestor_concept_id": 201965,
         "concept_code": "27942005",
         "concept_name": "Shock",
         "count_in_cohort": 520,
         "descendant_concept_id": 201965,
         "prevalence": 0.6516290726817042
        },
        {
         "ancestor_concept_id": 196236,
         "concept_code": "76571007",
         "concept_name": "Septic shock",
         "count_in_cohort": 520,
         "descendant_concept_id": 196236,
         "prevalence": 0.6516290726817042
        },
        {
         "ancestor_concept_id": 4271450,
         "concept_code": "63171007",
         "concept_name": "Acute infectious disease",
         "count_in_cohort": 520,
         "descendant_concept_id": 4271450,
         "prevalence": 0.6516290726817042
        },
        {
         "ancestor_concept_id": 37116489,
         "concept_code": "733217006",
         "concept_name": "Injury of intrathoracic organ",
         "count_in_cohort": 399,
         "descendant_concept_id": 37116489,
         "prevalence": 0.5
        },
        {
         "ancestor_concept_id": 4027255,
         "concept_code": "128599005",
         "concept_name": "Structural disorder of heart",
         "count_in_cohort": 399,
         "descendant_concept_id": 4027255,
         "prevalence": 0.5
        },
        {
         "ancestor_concept_id": 4311280,
         "concept_code": "86175003",
         "concept_name": "Injury of heart",
         "count_in_cohort": 399,
         "descendant_concept_id": 4311280,
         "prevalence": 0.5
        },
        {
         "ancestor_concept_id": 74786,
         "concept_code": "27817002",
         "concept_name": "Internal injury of chest",
         "count_in_cohort": 399,
         "descendant_concept_id": 74786,
         "prevalence": 0.5
        },
        {
         "ancestor_concept_id": 4152156,
         "concept_code": "282728007",
         "concept_name": "Cardiovascular injury",
         "count_in_cohort": 399,
         "descendant_concept_id": 4152156,
         "prevalence": 0.5
        },
        {
         "ancestor_concept_id": 4094683,
         "concept_code": "262525000",
         "concept_name": "Chest injury",
         "count_in_cohort": 399,
         "descendant_concept_id": 4094683,
         "prevalence": 0.5
        },
        {
         "ancestor_concept_id": 4179872,
         "concept_code": "362970003",
         "concept_name": "Disorder of hemostatic system",
         "count_in_cohort": 388,
         "descendant_concept_id": 4179872,
         "prevalence": 0.48621553884711777
        },
        {
         "ancestor_concept_id": 432585,
         "concept_code": "64779008",
         "concept_name": "Blood coagulation disorder",
         "count_in_cohort": 388,
         "descendant_concept_id": 432585,
         "prevalence": 0.48621553884711777
        },
        {
         "ancestor_concept_id": 4120613,
         "concept_code": "234466008",
         "concept_name": "Acquired coagulation disorder",
         "count_in_cohort": 388,
         "descendant_concept_id": 4120613,
         "prevalence": 0.48621553884711777
        },
        {
         "ancestor_concept_id": 444089,
         "concept_code": "118948005",
         "concept_name": "Disorder of abdomen",
         "count_in_cohort": 386,
         "descendant_concept_id": 444089,
         "prevalence": 0.48370927318295737
        },
        {
         "ancestor_concept_id": 43531058,
         "concept_code": "609624008",
         "concept_name": "Finding of abdomen",
         "count_in_cohort": 386,
         "descendant_concept_id": 43531058,
         "prevalence": 0.48370927318295737
        },
        {
         "ancestor_concept_id": 37311677,
         "concept_code": "822988000",
         "concept_name": "Disorder of abdominopelvic segment of trunk",
         "count_in_cohort": 386,
         "descendant_concept_id": 37311677,
         "prevalence": 0.48370927318295737
        },
        {
         "ancestor_concept_id": 37311678,
         "concept_code": "822987005",
         "concept_name": "Finding of abdominopelvic segment of trunk",
         "count_in_cohort": 386,
         "descendant_concept_id": 37311678,
         "prevalence": 0.48370927318295737
        },
        {
         "ancestor_concept_id": 4096864,
         "concept_code": "249561001",
         "concept_name": "Abdominal organ finding",
         "count_in_cohort": 386,
         "descendant_concept_id": 4096864,
         "prevalence": 0.48370927318295737
        },
        {
         "ancestor_concept_id": 4091056,
         "concept_code": "249578005",
         "concept_name": "Kidney finding",
         "count_in_cohort": 385,
         "descendant_concept_id": 4091056,
         "prevalence": 0.4824561403508772
        },
        {
         "ancestor_concept_id": 40483287,
         "concept_code": "443820000",
         "concept_name": "Disorder of kidney and/or ureter",
         "count_in_cohort": 385,
         "descendant_concept_id": 40483287,
         "prevalence": 0.4824561403508772
        },
        {
         "ancestor_concept_id": 37116613,
         "concept_code": "733386005",
         "concept_name": "Injury of urinary organ",
         "count_in_cohort": 385,
         "descendant_concept_id": 37116613,
         "prevalence": 0.4824561403508772
        },
        {
         "ancestor_concept_id": 4169252,
         "concept_code": "49011004",
         "concept_name": "Internal injury of abdominal organ",
         "count_in_cohort": 385,
         "descendant_concept_id": 4169252,
         "prevalence": 0.4824561403508772
        },
        {
         "ancestor_concept_id": 200588,
         "concept_code": "128069005",
         "concept_name": "Injury of abdomen",
         "count_in_cohort": 385,
         "descendant_concept_id": 200588,
         "prevalence": 0.4824561403508772
        },
        {
         "ancestor_concept_id": 4024000,
         "concept_code": "106098005",
         "concept_name": "Urinary system finding",
         "count_in_cohort": 385,
         "descendant_concept_id": 4024000,
         "prevalence": 0.4824561403508772
        },
        {
         "ancestor_concept_id": 37116972,
         "concept_code": "734045002",
         "concept_name": "Disorder of retroperitoneum",
         "count_in_cohort": 385,
         "descendant_concept_id": 37116972,
         "prevalence": 0.4824561403508772
        },
        {
         "ancestor_concept_id": 198124,
         "concept_code": "90708001",
         "concept_name": "Kidney disease",
         "count_in_cohort": 385,
         "descendant_concept_id": 198124,
         "prevalence": 0.4824561403508772
        },
        {
         "ancestor_concept_id": 4171379,
         "concept_code": "42030000",
         "concept_name": "Disorder of the genitourinary system",
         "count_in_cohort": 385,
         "descendant_concept_id": 4171379,
         "prevalence": 0.4824561403508772
        },
        {
         "ancestor_concept_id": 4155499,
         "concept_code": "283879004",
         "concept_name": "Urogenital injury",
         "count_in_cohort": 385,
         "descendant_concept_id": 4155499,
         "prevalence": 0.4824561403508772
        },
        {
         "ancestor_concept_id": 4220631,
         "concept_code": "40095003",
         "concept_name": "Injury of kidney",
         "count_in_cohort": 385,
         "descendant_concept_id": 4220631,
         "prevalence": 0.4824561403508772
        },
        {
         "ancestor_concept_id": 45769862,
         "concept_code": "79131000119100",
         "concept_name": "Kidney lesion",
         "count_in_cohort": 385,
         "descendant_concept_id": 45769862,
         "prevalence": 0.4824561403508772
        },
        {
         "ancestor_concept_id": 4041285,
         "concept_code": "118238000",
         "concept_name": "Urogenital finding",
         "count_in_cohort": 385,
         "descendant_concept_id": 4041285,
         "prevalence": 0.4824561403508772
        },
        {
         "ancestor_concept_id": 75865,
         "concept_code": "128606002",
         "concept_name": "Disorder of the urinary system",
         "count_in_cohort": 385,
         "descendant_concept_id": 75865,
         "prevalence": 0.4824561403508772
        },
        {
         "ancestor_concept_id": 4344497,
         "concept_code": "239953001",
         "concept_name": "Soft tissue lesion",
         "count_in_cohort": 172,
         "descendant_concept_id": 4344497,
         "prevalence": 0.21553884711779447
        },
        {
         "ancestor_concept_id": 443784,
         "concept_code": "27550009",
         "concept_name": "Vascular disorder",
         "count_in_cohort": 172,
         "descendant_concept_id": 443784,
         "prevalence": 0.21553884711779447
        },
        {
         "ancestor_concept_id": 4093991,
         "concept_code": "248402002",
         "concept_name": "General finding of soft tissue",
         "count_in_cohort": 172,
         "descendant_concept_id": 4093991,
         "prevalence": 0.21553884711779447
        },
        {
         "ancestor_concept_id": 4028367,
         "concept_code": "128487001",
         "concept_name": "Acute disease of cardiovascular system",
         "count_in_cohort": 172,
         "descendant_concept_id": 4028367,
         "prevalence": 0.21553884711779447
        },
        {
         "ancestor_concept_id": 376208,
         "concept_code": "19660004",
         "concept_name": "Disorder of soft tissue",
         "count_in_cohort": 172,
         "descendant_concept_id": 376208,
         "prevalence": 0.21553884711779447
        },
        {
         "ancestor_concept_id": 4071689,
         "concept_code": "21829004",
         "concept_name": "Blood vessel finding",
         "count_in_cohort": 172,
         "descendant_concept_id": 4071689,
         "prevalence": 0.21553884711779447
        },
        {
         "ancestor_concept_id": 432545,
         "concept_code": "87628006",
         "concept_name": "Bacterial infectious disease",
         "count_in_cohort": 137,
         "descendant_concept_id": 432545,
         "prevalence": 0.17167919799498746
        },
        {
         "ancestor_concept_id": 4208466,
         "concept_code": "439129009",
         "concept_name": "Thrombosis of blood vessel",
         "count_in_cohort": 89,
         "descendant_concept_id": 4208466,
         "prevalence": 0.11152882205513784
        },
        {
         "ancestor_concept_id": 4234997,
         "concept_code": "90507008",
         "concept_name": "Disorder of vein",
         "count_in_cohort": 89,
         "descendant_concept_id": 4234997,
         "prevalence": 0.11152882205513784
        },
        {
         "ancestor_concept_id": 44782746,
         "concept_code": "132281000119108",
         "concept_name": "Acute deep venous thrombosis",
         "count_in_cohort": 89,
         "descendant_concept_id": 44782746,
         "prevalence": 0.11152882205513784
        },
        {
         "ancestor_concept_id": 444247,
         "concept_code": "111293003",
         "concept_name": "Venous thrombosis",
         "count_in_cohort": 89,
         "descendant_concept_id": 444247,
         "prevalence": 0.11152882205513784
        },
        {
         "ancestor_concept_id": 4095634,
         "concept_code": "248727005",
         "concept_name": "Venous finding",
         "count_in_cohort": 89,
         "descendant_concept_id": 4095634,
         "prevalence": 0.11152882205513784
        },
        {
         "ancestor_concept_id": 4231363,
         "concept_code": "439127006",
         "concept_name": "Thrombosis",
         "count_in_cohort": 89,
         "descendant_concept_id": 4231363,
         "prevalence": 0.11152882205513784
        },
        {
         "ancestor_concept_id": 4133004,
         "concept_code": "128053003",
         "concept_name": "Deep venous thrombosis",
         "count_in_cohort": 89,
         "descendant_concept_id": 4133004,
         "prevalence": 0.11152882205513784
        },
        {
         "ancestor_concept_id": 4185607,
         "concept_code": "414086009",
         "concept_name": "Embolism",
         "count_in_cohort": 83,
         "descendant_concept_id": 4185607,
         "prevalence": 0.10401002506265664
        },
        {
         "ancestor_concept_id": 4108173,
         "concept_code": "251039005",
         "concept_name": "Pulmonary artery finding",
         "count_in_cohort": 83,
         "descendant_concept_id": 4108173,
         "prevalence": 0.10401002506265664
        },
        {
         "ancestor_concept_id": 321887,
         "concept_code": "359557001",
         "concept_name": "Disorder of artery",
         "count_in_cohort": 83,
         "descendant_concept_id": 321887,
         "prevalence": 0.10401002506265664
        },
        {
         "ancestor_concept_id": 4095631,
         "concept_code": "248718009",
         "concept_name": "Arterial finding",
         "count_in_cohort": 83,
         "descendant_concept_id": 4095631,
         "prevalence": 0.10401002506265664
        },
        {
         "ancestor_concept_id": 4190192,
         "concept_code": "373434004",
         "concept_name": "Disorder of blood vessels of thorax",
         "count_in_cohort": 83,
         "descendant_concept_id": 4190192,
         "prevalence": 0.10401002506265664
        },
        {
         "ancestor_concept_id": 440417,
         "concept_code": "59282003",
         "concept_name": "Pulmonary embolism",
         "count_in_cohort": 83,
         "descendant_concept_id": 440417,
         "prevalence": 0.10401002506265664
        },
        {
         "ancestor_concept_id": 45768439,
         "concept_code": "706870000",
         "concept_name": "Acute pulmonary embolism",
         "count_in_cohort": 83,
         "descendant_concept_id": 45768439,
         "prevalence": 0.10401002506265664
        },
        {
         "ancestor_concept_id": 312339,
         "concept_code": "54687002",
         "concept_name": "Arterial embolism",
         "count_in_cohort": 83,
         "descendant_concept_id": 312339,
         "prevalence": 0.10401002506265664
        },
        {
         "ancestor_concept_id": 433208,
         "concept_code": "39785005",
         "concept_name": "Disorder of pulmonary circulation",
         "count_in_cohort": 83,
         "descendant_concept_id": 433208,
         "prevalence": 0.10401002506265664
        },
        {
         "ancestor_concept_id": 4194610,
         "concept_code": "312593004",
         "concept_name": "Trunk arterial embolus",
         "count_in_cohort": 83,
         "descendant_concept_id": 4194610,
         "prevalence": 0.10401002506265664
        },
        {
         "ancestor_concept_id": 4309188,
         "concept_code": "84410009",
         "concept_name": "Disorder of digestive tract",
         "count_in_cohort": 3,
         "descendant_concept_id": 4309188,
         "prevalence": 0.0037593984962406013
        },
        {
         "ancestor_concept_id": 4297887,
         "concept_code": "76712006",
         "concept_name": "Disorder of digestive organ",
         "count_in_cohort": 3,
         "descendant_concept_id": 4297887,
         "prevalence": 0.0037593984962406013
        },
        {
         "ancestor_concept_id": 4302537,
         "concept_code": "386617003",
         "concept_name": "Digestive system finding",
         "count_in_cohort": 3,
         "descendant_concept_id": 4302537,
         "prevalence": 0.0037593984962406013
        },
        {
         "ancestor_concept_id": 4201745,
         "concept_code": "53619000",
         "concept_name": "Disorder of digestive system",
         "count_in_cohort": 3,
         "descendant_concept_id": 4201745,
         "prevalence": 0.0037593984962406013
        },
        {
         "ancestor_concept_id": 4115106,
         "concept_code": "300855001",
         "concept_name": "Mass of digestive structure",
         "count_in_cohort": 2,
         "descendant_concept_id": 4115106,
         "prevalence": 0.002506265664160401
        },
        {
         "ancestor_concept_id": 4162282,
         "concept_code": "373405005",
         "concept_name": "Inflammatory disorder of the respiratory system",
         "count_in_cohort": 2,
         "descendant_concept_id": 4162282,
         "prevalence": 0.002506265664160401
        },
        {
         "ancestor_concept_id": 4027384,
         "concept_code": "128139000",
         "concept_name": "Inflammatory disorder",
         "count_in_cohort": 2,
         "descendant_concept_id": 4027384,
         "prevalence": 0.002506265664160401
        },
        {
         "ancestor_concept_id": 192438,
         "concept_code": "271860004",
         "concept_name": "Abdominal mass",
         "count_in_cohort": 2,
         "descendant_concept_id": 192438,
         "prevalence": 0.002506265664160401
        },
        {
         "ancestor_concept_id": 4113999,
         "concept_code": "300862005",
         "concept_name": "Mass of body region",
         "count_in_cohort": 2,
         "descendant_concept_id": 4113999,
         "prevalence": 0.002506265664160401
        },
        {
         "ancestor_concept_id": 4197094,
         "concept_code": "79787007",
         "concept_name": "Disorder of lower gastrointestinal tract",
         "count_in_cohort": 2,
         "descendant_concept_id": 4197094,
         "prevalence": 0.002506265664160401
        },
        {
         "ancestor_concept_id": 4043671,
         "concept_code": "129134004",
         "concept_name": "Inflammatory disorder of upper respiratory tract",
         "count_in_cohort": 2,
         "descendant_concept_id": 4043671,
         "prevalence": 0.002506265664160401
        },
        {
         "ancestor_concept_id": 4103320,
         "concept_code": "301186004",
         "concept_name": "Upper respiratory tract finding",
         "count_in_cohort": 2,
         "descendant_concept_id": 4103320,
         "prevalence": 0.002506265664160401
        },
        {
         "ancestor_concept_id": 4181583,
         "concept_code": "54150009",
         "concept_name": "Upper respiratory infection",
         "count_in_cohort": 2,
         "descendant_concept_id": 4181583,
         "prevalence": 0.002506265664160401
        },
        {
         "ancestor_concept_id": 4180169,
         "concept_code": "363170005",
         "concept_name": "Inflammation of specific body structures or tissue",
         "count_in_cohort": 2,
         "descendant_concept_id": 4180169,
         "prevalence": 0.002506265664160401
        },
        {
         "ancestor_concept_id": 4091532,
         "concept_code": "249562008",
         "concept_name": "Bowel finding",
         "count_in_cohort": 2,
         "descendant_concept_id": 4091532,
         "prevalence": 0.002506265664160401
        },
        {
         "ancestor_concept_id": 4102111,
         "concept_code": "300848003",
         "concept_name": "Mass of body structure",
         "count_in_cohort": 2,
         "descendant_concept_id": 4102111,
         "prevalence": 0.002506265664160401
        },
        {
         "ancestor_concept_id": 4193169,
         "concept_code": "312133006",
         "concept_name": "Viral respiratory infection",
         "count_in_cohort": 2,
         "descendant_concept_id": 4193169,
         "prevalence": 0.002506265664160401
        },
        {
         "ancestor_concept_id": 4206591,
         "concept_code": "309524007",
         "concept_name": "Mass of trunk",
         "count_in_cohort": 2,
         "descendant_concept_id": 4206591,
         "prevalence": 0.002506265664160401
        },
        {
         "ancestor_concept_id": 4178818,
         "concept_code": "363171009",
         "concept_name": "Inflammation of specific body systems",
         "count_in_cohort": 2,
         "descendant_concept_id": 4178818,
         "prevalence": 0.002506265664160401
        },
        {
         "ancestor_concept_id": 4200532,
         "concept_code": "301810000",
         "concept_name": "Infection by site",
         "count_in_cohort": 2,
         "descendant_concept_id": 4200532,
         "prevalence": 0.002506265664160401
        },
        {
         "ancestor_concept_id": 254068,
         "concept_code": "201060008",
         "concept_name": "Disorder of upper respiratory system",
         "count_in_cohort": 2,
         "descendant_concept_id": 254068,
         "prevalence": 0.002506265664160401
        },
        {
         "ancestor_concept_id": 4339468,
         "concept_code": "232208008",
         "concept_name": "Ear, nose and throat disorder",
         "count_in_cohort": 2,
         "descendant_concept_id": 4339468,
         "prevalence": 0.002506265664160401
        },
        {
         "ancestor_concept_id": 255919,
         "concept_code": "118254002",
         "concept_name": "Finding of head and neck region",
         "count_in_cohort": 2,
         "descendant_concept_id": 255919,
         "prevalence": 0.002506265664160401
        },
        {
         "ancestor_concept_id": 4170143,
         "concept_code": "275498002",
         "concept_name": "Respiratory tract infection",
         "count_in_cohort": 2,
         "descendant_concept_id": 4170143,
         "prevalence": 0.002506265664160401
        },
        {
         "ancestor_concept_id": 4178545,
         "concept_code": "297268004",
         "concept_name": "Ear, nose and throat finding",
         "count_in_cohort": 2,
         "descendant_concept_id": 4178545,
         "prevalence": 0.002506265664160401
        },
        {
         "ancestor_concept_id": 4180170,
         "concept_code": "363180009",
         "concept_name": "Inflammatory disorder of the respiratory tract",
         "count_in_cohort": 2,
         "descendant_concept_id": 4180170,
         "prevalence": 0.002506265664160401
        },
        {
         "ancestor_concept_id": 4304916,
         "concept_code": "386618008",
         "concept_name": "Gastrointestinal tract finding",
         "count_in_cohort": 2,
         "descendant_concept_id": 4304916,
         "prevalence": 0.002506265664160401
        },
        {
         "ancestor_concept_id": 4000610,
         "concept_code": "119292006",
         "concept_name": "Disorder of gastrointestinal tract",
         "count_in_cohort": 2,
         "descendant_concept_id": 4000610,
         "prevalence": 0.002506265664160401
        },
        {
         "ancestor_concept_id": 4002905,
         "concept_code": "119523007",
         "concept_name": "Disorder of large intestine",
         "count_in_cohort": 2,
         "descendant_concept_id": 4002905,
         "prevalence": 0.002506265664160401
        },
        {
         "ancestor_concept_id": 201618,
         "concept_code": "85919009",
         "concept_name": "Disorder of intestine",
         "count_in_cohort": 2,
         "descendant_concept_id": 201618,
         "prevalence": 0.002506265664160401
        },
        {
         "ancestor_concept_id": 4085100,
         "concept_code": "281794004",
         "concept_name": "Viral upper respiratory tract infection",
         "count_in_cohort": 2,
         "descendant_concept_id": 4085100,
         "prevalence": 0.002506265664160401
        },
        {
         "ancestor_concept_id": 440029,
         "concept_code": "34014006",
         "concept_name": "Viral disease",
         "count_in_cohort": 2,
         "descendant_concept_id": 440029,
         "prevalence": 0.002506265664160401
        },
        {
         "ancestor_concept_id": 4038678,
         "concept_code": "118436003",
         "concept_name": "Finding of large intestine",
         "count_in_cohort": 2,
         "descendant_concept_id": 4038678,
         "prevalence": 0.002506265664160401
        },
        {
         "ancestor_concept_id": 4207186,
         "concept_code": "312130009",
         "concept_name": "Viral infection by site",
         "count_in_cohort": 2,
         "descendant_concept_id": 4207186,
         "prevalence": 0.002506265664160401
        },
        {
         "ancestor_concept_id": 4091363,
         "concept_code": "249376008",
         "concept_name": "Mouth and/or pharynx finding",
         "count_in_cohort": 1,
         "descendant_concept_id": 4091363,
         "prevalence": 0.0012531328320802004
        },
        {
         "ancestor_concept_id": 40491001,
         "concept_code": "448675008",
         "concept_name": "Malignant neoplasm of digestive system",
         "count_in_cohort": 1,
         "descendant_concept_id": 40491001,
         "prevalence": 0.0012531328320802004
        },
        {
         "ancestor_concept_id": 75909,
         "concept_code": "76069003",
         "concept_name": "Disorder of bone",
         "count_in_cohort": 1,
         "descendant_concept_id": 75909,
         "prevalence": 0.0012531328320802004
        },
        {
         "ancestor_concept_id": 4176944,
         "concept_code": "363166002",
         "concept_name": "Infective disorder of head",
         "count_in_cohort": 1,
         "descendant_concept_id": 4176944,
         "prevalence": 0.0012531328320802004
        },
        {
         "ancestor_concept_id": 4181063,
         "concept_code": "363169009",
         "concept_name": "Inflammation of specific body organs",
         "count_in_cohort": 1,
         "descendant_concept_id": 4181063,
         "prevalence": 0.0012531328320802004
        },
        {
         "ancestor_concept_id": 443396,
         "concept_code": "363510005",
         "concept_name": "Malignant tumor of large intestine",
         "count_in_cohort": 1,
         "descendant_concept_id": 443396,
         "prevalence": 0.0012531328320802004
        },
        {
         "ancestor_concept_id": 4130373,
         "concept_code": "126768004",
         "concept_name": "Neoplasm of gastrointestinal tract",
         "count_in_cohort": 1,
         "descendant_concept_id": 4130373,
         "prevalence": 0.0012531328320802004
        },
        {
         "ancestor_concept_id": 4131598,
         "concept_code": "126769007",
         "concept_name": "Neoplasm of intestinal tract",
         "count_in_cohort": 1,
         "descendant_concept_id": 4131598,
         "prevalence": 0.0012531328320802004
        },
        {
         "ancestor_concept_id": 4116238,
         "concept_code": "255077007",
         "concept_name": "Malignant tumor of digestive organ",
         "count_in_cohort": 1,
         "descendant_concept_id": 4116238,
         "prevalence": 0.0012531328320802004
        },
        {
         "ancestor_concept_id": 4101219,
         "concept_code": "300310003",
         "concept_name": "Finding of colon",
         "count_in_cohort": 1,
         "descendant_concept_id": 4101219,
         "prevalence": 0.0012531328320802004
        },
        {
         "ancestor_concept_id": 4226263,
         "concept_code": "405737000",
         "concept_name": "Pharyngitis",
         "count_in_cohort": 1,
         "descendant_concept_id": 4226263,
         "prevalence": 0.0012531328320802004
        },
        {
         "ancestor_concept_id": 4145825,
         "concept_code": "426867001",
         "concept_name": "Anorectal disorder",
         "count_in_cohort": 1,
         "descendant_concept_id": 4145825,
         "prevalence": 0.0012531328320802004
        },
        {
         "ancestor_concept_id": 201131,
         "concept_code": "74285003",
         "concept_name": "Pelvic mass",
         "count_in_cohort": 1,
         "descendant_concept_id": 201131,
         "prevalence": 0.0012531328320802004
        },
        {
         "ancestor_concept_id": 135930,
         "concept_code": "106028002",
         "concept_name": "Musculoskeletal finding",
         "count_in_cohort": 1,
         "descendant_concept_id": 135930,
         "prevalence": 0.0012531328320802004
        },
        {
         "ancestor_concept_id": 4022571,
         "concept_code": "116338005",
         "concept_name": "Pharyngeal finding",
         "count_in_cohort": 1,
         "descendant_concept_id": 4022571,
         "prevalence": 0.0012531328320802004
        },
        {
         "ancestor_concept_id": 4132552,
         "concept_code": "127321000",
         "concept_name": "Acute digestive system disorder",
         "count_in_cohort": 1,
         "descendant_concept_id": 4132552,
         "prevalence": 0.0012531328320802004
        },
        {
         "ancestor_concept_id": 4111798,
         "concept_code": "254532005",
         "concept_name": "Neoplasm of digestive organ",
         "count_in_cohort": 1,
         "descendant_concept_id": 4111798,
         "prevalence": 0.0012531328320802004
        },
        {
         "ancestor_concept_id": 4087647,
         "concept_code": "248523006",
         "concept_name": "Rectal mass",
         "count_in_cohort": 1,
         "descendant_concept_id": 4087647,
         "prevalence": 0.0012531328320802004
        },
        {
         "ancestor_concept_id": 443568,
         "concept_code": "428905002",
         "concept_name": "Malignant neoplasm of gastrointestinal tract",
         "count_in_cohort": 1,
         "descendant_concept_id": 443568,
         "prevalence": 0.0012531328320802004
        },
        {
         "ancestor_concept_id": 40481087,
         "concept_code": "444814009",
         "concept_name": "Viral sinusitis",
         "count_in_cohort": 1,
         "descendant_concept_id": 40481087,
         "prevalence": 0.0012531328320802004
        },
        {
         "ancestor_concept_id": 45763613,
         "concept_code": "67401000119103",
         "concept_name": "Colonic lesion",
         "count_in_cohort": 1,
         "descendant_concept_id": 45763613,
         "prevalence": 0.0012531328320802004
        },
        {
         "ancestor_concept_id": 79069,
         "concept_code": "5964004",
         "concept_name": "Disorder of rectum",
         "count_in_cohort": 1,
         "descendant_concept_id": 79069,
         "prevalence": 0.0012531328320802004
        },
        {
         "ancestor_concept_id": 31057,
         "concept_code": "75860007",
         "concept_name": "Disorder of pharynx",
         "count_in_cohort": 1,
         "descendant_concept_id": 31057,
         "prevalence": 0.0012531328320802004
        },
        {
         "ancestor_concept_id": 4339410,
         "concept_code": "88230002",
         "concept_name": "Disorder of skeletal system",
         "count_in_cohort": 1,
         "descendant_concept_id": 4339410,
         "prevalence": 0.0012531328320802004
        },
        {
         "ancestor_concept_id": 4181187,
         "concept_code": "363176004",
         "concept_name": "Inflammatory disorder of head",
         "count_in_cohort": 1,
         "descendant_concept_id": 4181187,
         "prevalence": 0.0012531328320802004
        },
        {
         "ancestor_concept_id": 443392,
         "concept_code": "363346000",
         "concept_name": "Malignant neoplastic disease",
         "count_in_cohort": 1,
         "descendant_concept_id": 443392,
         "prevalence": 0.0012531328320802004
        },
        {
         "ancestor_concept_id": 4112343,
         "concept_code": "195662009",
         "concept_name": "Acute viral pharyngitis",
         "count_in_cohort": 1,
         "descendant_concept_id": 4112343,
         "prevalence": 0.0012531328320802004
        },
        {
         "ancestor_concept_id": 4042505,
         "concept_code": "118953000",
         "concept_name": "Bone finding",
         "count_in_cohort": 1,
         "descendant_concept_id": 4042505,
         "prevalence": 0.0012531328320802004
        },
        {
         "ancestor_concept_id": 4054501,
         "concept_code": "126637008",
         "concept_name": "Neoplasm of trunk",
         "count_in_cohort": 1,
         "descendant_concept_id": 4054501,
         "prevalence": 0.0012531328320802004
        },
        {
         "ancestor_concept_id": 4112731,
         "concept_code": "254588001",
         "concept_name": "Polyp of intestine",
         "count_in_cohort": 1,
         "descendant_concept_id": 4112731,
         "prevalence": 0.0012531328320802004
        },
        {
         "ancestor_concept_id": 43531059,
         "concept_code": "609625009",
         "concept_name": "Finding of pelvic region of trunk",
         "count_in_cohort": 1,
         "descendant_concept_id": 43531059,
         "prevalence": 0.0012531328320802004
        },
        {
         "ancestor_concept_id": 37017023,
         "concept_code": "713197008",
         "concept_name": "Recurrent rectal polyp",
         "count_in_cohort": 1,
         "descendant_concept_id": 37017023,
         "prevalence": 0.0012531328320802004
        },
        {
         "ancestor_concept_id": 4266186,
         "concept_code": "399981008",
         "concept_name": "Neoplasm and/or hamartoma",
         "count_in_cohort": 1,
         "descendant_concept_id": 4266186,
         "prevalence": 0.0012531328320802004
        },
        {
         "ancestor_concept_id": 80502,
         "concept_code": "64859006",
         "concept_name": "Osteoporosis",
         "count_in_cohort": 1,
         "descendant_concept_id": 80502,
         "prevalence": 0.0012531328320802004
        },
        {
         "ancestor_concept_id": 197506,
         "concept_code": "188366002",
         "concept_name": "Malignant neoplasm of abdomen",
         "count_in_cohort": 1,
         "descendant_concept_id": 197506,
         "prevalence": 0.0012531328320802004
        },
        {
         "ancestor_concept_id": 4112341,
         "concept_code": "195647007",
         "concept_name": "Acute respiratory infections",
         "count_in_cohort": 1,
         "descendant_concept_id": 4112341,
         "prevalence": 0.0012531328320802004
        },
        {
         "ancestor_concept_id": 4028253,
         "concept_code": "128348002",
         "concept_name": "Neoplasm of digestive system",
         "count_in_cohort": 1,
         "descendant_concept_id": 4028253,
         "prevalence": 0.0012531328320802004
        },
        {
         "ancestor_concept_id": 4035987,
         "concept_code": "1532007",
         "concept_name": "Viral pharyngitis",
         "count_in_cohort": 1,
         "descendant_concept_id": 4035987,
         "prevalence": 0.0012531328320802004
        },
        {
         "ancestor_concept_id": 4182161,
         "concept_code": "298364001",
         "concept_name": "Finding of head region",
         "count_in_cohort": 1,
         "descendant_concept_id": 4182161,
         "prevalence": 0.0012531328320802004
        },
        {
         "ancestor_concept_id": 257011,
         "concept_code": "54398005",
         "concept_name": "Acute upper respiratory infection",
         "count_in_cohort": 1,
         "descendant_concept_id": 257011,
         "prevalence": 0.0012531328320802004
        },
        {
         "ancestor_concept_id": 4043371,
         "concept_code": "128999004",
         "concept_name": "Inflammatory disorder of digestive tract",
         "count_in_cohort": 1,
         "descendant_concept_id": 4043371,
         "prevalence": 0.0012531328320802004
        },
        {
         "ancestor_concept_id": 4132555,
         "concept_code": "127331007",
         "concept_name": "Neoplasm by body site",
         "count_in_cohort": 1,
         "descendant_concept_id": 4132555,
         "prevalence": 0.0012531328320802004
        },
        {
         "ancestor_concept_id": 4096976,
         "concept_code": "249597005",
         "concept_name": "Rectum finding",
         "count_in_cohort": 1,
         "descendant_concept_id": 4096976,
         "prevalence": 0.0012531328320802004
        },
        {
         "ancestor_concept_id": 443783,
         "concept_code": "27624003",
         "concept_name": "Chronic disease",
         "count_in_cohort": 1,
         "descendant_concept_id": 443783,
         "prevalence": 0.0012531328320802004
        },
        {
         "ancestor_concept_id": 40492037,
         "concept_code": "448882009",
         "concept_name": "Malignant neoplasm of intraabdominal organ",
         "count_in_cohort": 1,
         "descendant_concept_id": 40492037,
         "prevalence": 0.0012531328320802004
        },
        {
         "ancestor_concept_id": 43531060,
         "concept_code": "609626005",
         "concept_name": "Finding of pelvis",
         "count_in_cohort": 1,
         "descendant_concept_id": 43531060,
         "prevalence": 0.0012531328320802004
        },
        {
         "ancestor_concept_id": 4247371,
         "concept_code": "406122000",
         "concept_name": "Head finding",
         "count_in_cohort": 1,
         "descendant_concept_id": 4247371,
         "prevalence": 0.0012531328320802004
        },
        {
         "ancestor_concept_id": 4252853,
         "concept_code": "409631000",
         "concept_name": "Acute viral disease",
         "count_in_cohort": 1,
         "descendant_concept_id": 4252853,
         "prevalence": 0.0012531328320802004
        },
        {
         "ancestor_concept_id": 438112,
         "concept_code": "55342001",
         "concept_name": "Neoplastic disease",
         "count_in_cohort": 1,
         "descendant_concept_id": 438112,
         "prevalence": 0.0012531328320802004
        },
        {
         "ancestor_concept_id": 256440,
         "concept_code": "7393007",
         "concept_name": "Disorder of nasal sinus",
         "count_in_cohort": 1,
         "descendant_concept_id": 256440,
         "prevalence": 0.0012531328320802004
        },
        {
         "ancestor_concept_id": 4193875,
         "concept_code": "312131008",
         "concept_name": "Viral infection of the digestive tract",
         "count_in_cohort": 1,
         "descendant_concept_id": 4193875,
         "prevalence": 0.0012531328320802004
        },
        {
         "ancestor_concept_id": 443398,
         "concept_code": "363508008",
         "concept_name": "Malignant tumor of intestine",
         "count_in_cohort": 1,
         "descendant_concept_id": 443398,
         "prevalence": 0.0012531328320802004
        },
        {
         "ancestor_concept_id": 25297,
         "concept_code": "363746003",
         "concept_name": "Acute pharyngitis",
         "count_in_cohort": 1,
         "descendant_concept_id": 25297,
         "prevalence": 0.0012531328320802004
        },
        {
         "ancestor_concept_id": 4134593,
         "concept_code": "128284006",
         "concept_name": "Chronic digestive system disorder",
         "count_in_cohort": 1,
         "descendant_concept_id": 4134593,
         "prevalence": 0.0012531328320802004
        },
        {
         "ancestor_concept_id": 196931,
         "concept_code": "128415001",
         "concept_name": "Neoplasm of digestive tract",
         "count_in_cohort": 1,
         "descendant_concept_id": 196931,
         "prevalence": 0.0012531328320802004
        },
        {
         "ancestor_concept_id": 4158326,
         "concept_code": "271745005",
         "concept_name": "Facial sinus finding",
         "count_in_cohort": 1,
         "descendant_concept_id": 4158326,
         "prevalence": 0.0012531328320802004
        },
        {
         "ancestor_concept_id": 4103995,
         "concept_code": "300312006",
         "concept_name": "Lesion of rectum",
         "count_in_cohort": 1,
         "descendant_concept_id": 4103995,
         "prevalence": 0.0012531328320802004
        },
        {
         "ancestor_concept_id": 4209223,
         "concept_code": "441456002",
         "concept_name": "Polyp",
         "count_in_cohort": 1,
         "descendant_concept_id": 4209223,
         "prevalence": 0.0012531328320802004
        },
        {
         "ancestor_concept_id": 43531054,
         "concept_code": "609620004",
         "concept_name": "Disorder of pelvis",
         "count_in_cohort": 1,
         "descendant_concept_id": 43531054,
         "prevalence": 0.0012531328320802004
        },
        {
         "ancestor_concept_id": 43531053,
         "concept_code": "609619005",
         "concept_name": "Disorder of pelvic region of trunk",
         "count_in_cohort": 1,
         "descendant_concept_id": 43531053,
         "prevalence": 0.0012531328320802004
        },
        {
         "ancestor_concept_id": 36683531,
         "concept_code": "781382000",
         "concept_name": "Malignant neoplasm of colon and/or rectum",
         "count_in_cohort": 1,
         "descendant_concept_id": 36683531,
         "prevalence": 0.0012531328320802004
        },
        {
         "ancestor_concept_id": 4164337,
         "concept_code": "399505005",
         "concept_name": "Polyp of large intestine",
         "count_in_cohort": 1,
         "descendant_concept_id": 4164337,
         "prevalence": 0.0012531328320802004
        },
        {
         "ancestor_concept_id": 4143250,
         "concept_code": "425711007",
         "concept_name": "Mass of colon",
         "count_in_cohort": 1,
         "descendant_concept_id": 4143250,
         "prevalence": 0.0012531328320802004
        },
        {
         "ancestor_concept_id": 4198525,
         "concept_code": "50410009",
         "concept_name": "Disorder of upper digestive tract",
         "count_in_cohort": 1,
         "descendant_concept_id": 4198525,
         "prevalence": 0.0012531328320802004
        },
        {
         "ancestor_concept_id": 4244662,
         "concept_code": "928000",
         "concept_name": "Disorder of musculoskeletal system",
         "count_in_cohort": 1,
         "descendant_concept_id": 4244662,
         "prevalence": 0.0012531328320802004
        },
        {
         "ancestor_concept_id": 4193318,
         "concept_code": "312422001",
         "concept_name": "Infective pharyngitis",
         "count_in_cohort": 1,
         "descendant_concept_id": 4193318,
         "prevalence": 0.0012531328320802004
        },
        {
         "ancestor_concept_id": 4180790,
         "concept_code": "363406005",
         "concept_name": "Malignant tumor of colon",
         "count_in_cohort": 1,
         "descendant_concept_id": 4180790,
         "prevalence": 0.0012531328320802004
        },
        {
         "ancestor_concept_id": 4283893,
         "concept_code": "36971009",
         "concept_name": "Sinusitis",
         "count_in_cohort": 1,
         "descendant_concept_id": 4283893,
         "prevalence": 0.0012531328320802004
        },
        {
         "ancestor_concept_id": 4190185,
         "concept_code": "373407002",
         "concept_name": "Inflammatory disorder of digestive system",
         "count_in_cohort": 1,
         "descendant_concept_id": 4190185,
         "prevalence": 0.0012531328320802004
        },
        {
         "ancestor_concept_id": 4133974,
         "concept_code": "128050000",
         "concept_name": "Neoplasm of abdomen",
         "count_in_cohort": 1,
         "descendant_concept_id": 4133974,
         "prevalence": 0.0012531328320802004
        },
        {
         "ancestor_concept_id": 4130514,
         "concept_code": "126837005",
         "concept_name": "Neoplasm of large intestine",
         "count_in_cohort": 1,
         "descendant_concept_id": 4130514,
         "prevalence": 0.0012531328320802004
        },
        {
         "ancestor_concept_id": 4130995,
         "concept_code": "126838000",
         "concept_name": "Neoplasm of colon",
         "count_in_cohort": 1,
         "descendant_concept_id": 4130995,
         "prevalence": 0.0012531328320802004
        },
        {
         "ancestor_concept_id": 4134887,
         "concept_code": "128398001",
         "concept_name": "Infectious disease of digestive tract",
         "count_in_cohort": 1,
         "descendant_concept_id": 4134887,
         "prevalence": 0.0012531328320802004
        },
        {
         "ancestor_concept_id": 4027880,
         "concept_code": "128524007",
         "concept_name": "Disorder of colon",
         "count_in_cohort": 1,
         "descendant_concept_id": 4027880,
         "prevalence": 0.0012531328320802004
        },
        {
         "ancestor_concept_id": 440059,
         "concept_code": "58184002",
         "concept_name": "Recurrent disease",
         "count_in_cohort": 1,
         "descendant_concept_id": 440059,
         "prevalence": 0.0012531328320802004
        },
        {
         "ancestor_concept_id": 4193990,
         "concept_code": "312158001",
         "concept_name": "Infection of digestive system",
         "count_in_cohort": 1,
         "descendant_concept_id": 4193990,
         "prevalence": 0.0012531328320802004
        },
        {
         "ancestor_concept_id": 4216644,
         "concept_code": "39772007",
         "concept_name": "Rectal polyp",
         "count_in_cohort": 1,
         "descendant_concept_id": 4216644,
         "prevalence": 0.0012531328320802004
        },
        {
         "ancestor_concept_id": 4042836,
         "concept_code": "118934005",
         "concept_name": "Disorder of head",
         "count_in_cohort": 1,
         "descendant_concept_id": 4042836,
         "prevalence": 0.0012531328320802004
        },
        {
         "ancestor_concept_id": 4054503,
         "concept_code": "126643005",
         "concept_name": "Neoplasm of intra-abdominal organs",
         "count_in_cohort": 1,
         "descendant_concept_id": 4054503,
         "prevalence": 0.0012531328320802004
        },
        {
         "ancestor_concept_id": 4134294,
         "concept_code": "128482007",
         "concept_name": "Acute inflammatory disease",
         "count_in_cohort": 1,
         "descendant_concept_id": 4134294,
         "prevalence": 0.0012531328320802004
        }
       ],
       "_concepts2": [],
       "_css": "/* PAGE LAYOUT */\n\n.vis-container {\n    /*display: flex;*/\n    /*flex-direction: column;*/\n    align-items: center;\n    width: 100%;\n    /*height: 432px; !* match concepts-row height *!*/\n    overflow: visible; /* hide outer vertical scrollbar */\n}\n\n.row-container {\n    display: flex;\n    justify-content: space-around;\n    width: 100%;\n    height: auto;\n    overflow: hidden;\n    /*margin-bottom: 5px;*/\n}\n\n.col-container {\n    flex: 1;\n    margin: 5px;\n    border: 1px solid black;\n    width: 100%;\n}\n\n/* BAR CHART */\n\n/* overall barchart size */\n.barchart{\n    font-family: sans-serif;\n    font-size: 12px;\n    width: 100%;  /* allows resize to fit the page*/\n    height: auto;\n}\n\n/* BAR CHART STYLES */\n\n/* bars */\n.bar1 {\n    fill: steelblue;\n}\n.bar2 {\n    fill: orange;\n}\n/* axis labels */\n.axis-label {\n    font-family: sans-serif;\n    font-size: 14px;\n}\n/* lines and tick marks */\n.axis path,\n.axis line {\n    fill: none;\n    stroke: black;\n    shape-rendering: crispEdges;\n}\n/* axis text */\n.axis text {\n    font-family: sans-serif;\n    font-size: 14px;\n}\n\n/* CONCEPTS TABLE */\n\n.concepts-row {\n    width: 100%;\n    height: 100%; /* fill vis-container height */\n}\n\n.div-concepts-table-body {\n    margin-top: 0;\n    overflow-y: auto;\n    overflow-x: auto;\n    background-color: #f9f9f9;\n}\n\n.table-body-wrapper {\n    overflow: auto;\n    max-height: 370px; /* header height removed */\n}\n\n.full-width {\n    width: 100%;\n}",
       "_esm": "import * as d3 from 'https://esm.sh/d3@7';\n\n// function initialize({ model }) {\n//     // Set up shared state or event handlers.\n//     return () => {\n//       // Optional: Called when the widget is destroyed.\n//     }\n// } // end initialize\n\nfunction render({ model, el }) {\n    // for testing\n    // alert('hello');\n\n    // DISPATCHERS\n\n    // for handling the concepts table\n    let conceptsTableDispatcher = d3.dispatch('filter','sort');\n\n\n    // <editor-fold desc=\"---------- UTILITY FUNCTIONS ----------\"\n\n    // clears an element\n    function clearElement(element) {\n        element.selectAll('*').remove();\n    }\n\n    // converts timestamp to formatted date 'YYYY-MM-DD'\n    function getIsoDateString(timestamp) {\n        let aDate = new Date(timestamp);\n        return aDate.toISOString().split('T')[0];\n    }\n\n    // converts keys to readable words by:\n    // 1. replacing the underscore with a space, and\n    // 2. capitalizing the first letter of each word\n    function makeKeysWords (keys) {\n        return keys.map(key => {\n            return key.split('_')\n                .map(part => part.charAt(0).toUpperCase() + part.slice(1))\n                .join(' ');\n        });\n    }\n    // </editor-fold>\n\n    // <editor-fold desc=\"---------- DEFINE DATA ----------\">\n\n    var concepts1 = model.get('_concepts1');\n    var race_stats1 = model.get('_race_stats1');\n    var gender_dist1 = model.get('_gender_dist1');\n    var age_dist1 = model.get('_age_dist1');\n\n    var concepts2 = model.get('_concepts2');\n    var race_stats2 = model.get('_race_stats2');\n    var gender_dist2 = model.get('_gender_dist2');\n    var age_dist2 = model.get('_age_dist2');\n\n    // </editor-fold>\n\n    // <editor-fold desc=\"---------- VISUAL CONTROL FUNCTIONS ----------\">\n\n    /*\n* draws a search box\n* Parameters:\n*   containerId: type: string - prepended id of container where the control is to be rendered.\n*   dispatch: d3.dispatch instance - user input event handler\n*   label: type: string - label for the control\n*   width: type: string - the width of the input box in pixels\n*   data: type: list of objects - each object should have the keys display (string),\n*                                        and data (anything needed to handle the selection\n*   handleSearch: type: function - callback\n* Return:\n*   div: DOM div element containing input box\n*/\n    function SearchBox(dispatch, label='Search', width=300) {\n        let div = d3.create(\"xhtml:div\")\n            .attr(\"xmlns\", \"http://www.w3.org/1999/xhtml\")\n            .style(\"padding\", \"10px\");\n\n        let input = div.append('input')\n            .attr('type', 'text')\n            .attr('placeholder', label);\n\n        input.on('input', function (event) {\n            dispatch.call('filter', this, event.target.value);  // dispatch filter event\n        });\n\n        return div;\n    }\n\n    // </editor-fold>\n\n    // <editor-fold desc=\"---------- VERTICAL BAR CHART FUNCTIONS ----------\">\n\n    function VerticalBarChart(\n        series1,  // required\n        {\n            series2 = { data: null, name: \"cohort 2\" },   // default object\n            dimensions: {\n                xlabel = \"\",\n                ylabel = \"\",\n                title = \"\",\n                width = 600,\n                height = 400,\n                margin = { top: 40, right: 10, bottom: 60, left: 80 },\n                padding = 0.1\n            } = {}\n        } = {}  // default for options object\n    ) {\n        // validate series1\n        if (!series1 || !series1.data) {\n            throw new Error(\"SvgVerticalBarChart requires series1 with a 'data' property.\");\n        }\n\n        // default series1 name if missing\n        if (!series1.name){\n            series1.name = \"cohort 1\";\n        }\n\n        let svg = d3.create('svg')\n            .attr('class', 'barchart')\n            .attr('width', width)\n            .attr('height', height)\n            .attr('viewBox', `0 0 ${width} ${height}`)\n            .attr('preserveAspectRatio', 'xMidYMid meet');\n\n        // Combine data for scales\n        const combinedData = series2.data ? series1.data.concat(series2.data) : series1.data;\n\n        // Set up scales\n        const xScale = d3.scaleBand(series1.data.map(d => d.category),\n            [margin.left, width - margin.right])\n            .padding(padding);\n\n        const yScale = d3.scaleLinear([0, d3.max(combinedData, d => d.value)],\n            [height - margin.bottom, margin.top])\n            .nice();\n\n        // Add X-axis\n        svg.append('g')\n            .attr('transform', `translate(0, ${height - margin.bottom})`)\n            .call(d3.axisBottom(xScale))\n            .attr('class', 'axis');\n        // .selectAll('text')\n        // .attr('transform', 'rotate(-45)')\n        // .style('text-anchor', 'end');\n\n        // x-axis label\n        svg.append('text')\n            .attr('class', 'axis-label')\n            .attr('x', width / 2)\n            .attr('y', height - 20)\n            .style('text-anchor', 'middle')\n            .text(xlabel);\n\n        // Add Y-axis\n        svg.append('g')\n            .attr('transform', `translate(${margin.left}, 0)`)\n            .call(d3.axisLeft(yScale))\n            .attr('class', 'axis');\n\n        // y-axis label\n        svg.append('text')\n            .attr('class', 'axis-label')\n            .attr('transform', 'rotate(-90)')\n            .attr('x', height / 2 * -1)\n            .attr('y', 20)\n            .attr('text-anchor', 'middle')\n            .text(ylabel);\n\n        if (title === '' && xlabel !== ''){\n            title = xlabel + ' Distribution';\n        }\n\n        svg.append('text')\n            .attr('class', 'chart-title')\n            .attr('text-anchor', 'middle')\n            .attr('x', width / 2)\n            .attr('y', margin.top / 2)\n            .text(title);\n\n        // console.log(xScale.bandwidth());\n\n        // series 1 bars\n        svg.selectAll('.bar1')\n            .data(series1.data)\n            .enter()\n            .append('rect')\n            .attr('class', 'bar1')\n            .attr('x', d => xScale(d.category))\n            .attr('y', d => yScale(d.value))\n            .attr('width', xScale.bandwidth())\n            .attr('height', d => height - margin.bottom - yScale(d.value));\n\n\n        if (series2.data && series2.data.length > 0) {\n            // series 2 data bars\n            svg.selectAll('.bar2')\n                .data(series2.data)\n                .enter()\n                .append('rect')\n                .attr('class', 'bar2')\n                .attr('x', d => xScale(d.category) + xScale.bandwidth() / 2)\n                .attr('y', d => yScale(d.value))\n                .attr('width', xScale.bandwidth() / 2)\n                .attr('height', d => height - margin.bottom - yScale(d.value));\n\n            // Add labels for series 2 data\n            svg.selectAll('.label2')\n                .data(series2.data)\n                .enter()\n                .append('text')\n                .attr('class', 'label2')\n                .attr('x', d => xScale(d.category) + xScale.bandwidth() / 2 + 25)\n                .attr('y', d => yScale(d.value) - 5)\n                .attr('text-anchor', 'middle')\n                .text(d => d.value);\n\n            // labels for series 1 data if there are 2 datasets\n            svg.selectAll('.label1')\n                .data(series1.data)\n                .enter()\n                .append('text')\n                .attr('class', 'label1')\n                .attr('x', d => xScale(d.category) + xScale.bandwidth() / 2 - xScale.bandwidth() / 4)\n                .attr('y', d => yScale(d.value) - 5)\n                .attr('text-anchor', 'middle')\n                .text(d => d.value);\n\n            // only show legend if there are 2 datasets\n            const legendData = [\n                { label: series1.name, color: 'steelblue' },\n                { label: series2.name, color: 'orange' }\n            ];\n\n            const legend = svg.append('g')\n                .attr('class', 'legend')\n                .attr('transform', `translate(${margin.left}, ${height - 20})`);\n\n            legend.selectAll('rect')\n                .data(legendData)\n                .enter()\n                .append('rect')\n                .attr('x', (d, i) => i * 100) // Adjust spacing as needed\n                .attr('y', 0)\n                .attr('width', 18)\n                .attr('height', 18)\n                .attr('fill', d => d.color);\n\n            legend.selectAll('text')\n                .data(legendData)\n                .enter()\n                .append('text')\n                .attr('x', (d, i) => i * 100 + 24) // Adjust spacing as needed\n                .attr('y', 9)\n                .attr('dy', '0.35em')\n                .text(d => d.label);\n        }\n        else{\n            // labels for series 1 data if there is 1 dataset\n            svg.selectAll('.label1')\n                .data(series1.data)\n                .enter()\n                .append('text')\n                .attr('class', 'label1')\n                .attr('x', d => xScale(d.category) + xScale.bandwidth() / 2 + 5)\n                .attr('y', d => yScale(d.value) - 5)\n                .attr('text-anchor', 'middle')\n                .text(d => d.value);\n        }\n\n        return svg;\n    }\n\n    // </editor-fold>\n\n    // <editor-fold desc=\"---------- CONCEPTS TABLE FUNCTIONS ----------\">\n\n    function prepareConceptsCompareData(concepts1, concepts2) {\n\n        // console.log(`Concepts1: ${JSON.stringify(concepts1)}`);\n        // console.log(`Concepts2: ${JSON.stringify(concepts2)}`);\n\n        // function hellingerDistance(P, Q) {\n        //     if (P.length !== Q.length) {\n        //         throw new Error(\"The distributions must have the same length.\");\n        //     }\n        //\n        //     let sum = 0;\n        //     for (let i = 0; i < P.length; i++) {\n        //         sum += Math.pow(Math.sqrt(P[i]) - Math.sqrt(Q[i]), 2);\n        //     }\n        //\n        //     return (1 / Math.sqrt(2)) * Math.sqrt(sum);\n        // }\n\n        let mergedList = concepts1.map(item1 => {\n            const item2 = concepts2.find(item => item.concept_code === item1.concept_code);\n            return Object.assign({}, item1, item2);\n        });\n\n        // Add a key-value pair based on a calculation (e.g., double the age)\n        mergedList = mergedList.map(item => {\n            item.difference = (item.study_prevalence ?? 0) - (item.base_prevalence ?? 0);\n\n            // item.bias = hellingerDistance(item.study_prevalence, item.base_prevalence);\n            item.bias = Math.abs(item.difference);\n            delete item.study_count;\n            delete item.base_count;\n            delete item.ancestor_concept_id;\n            delete item.descendant_concept_id;\n            return item;\n        });\n\n        const order = ['concept_code', 'concept_name', 'base_prevalence', 'difference', 'study_prevalence', 'bias'];\n\n        mergedList = mergedList.map(item => {\n            const rearrangedItem = {};\n            order.forEach(key => {\n                if (item.hasOwnProperty(key)) {\n                    rearrangedItem[key] = item[key];\n                }\n            });\n            return rearrangedItem;\n        });\n\n        mergedList.sort((a, b) => b.bias - a.bias);\n\n        // console.log(mergedList);\n\n        return mergedList;\n    }\n\n    function handleFilterConceptsTable(dispatch, row, body_svg) {\n        dispatch.on(\"filter\", search_term => {\n            const normalized = search_term.toLowerCase().replace(/[^a-z0-9]/g, \"\");\n            row.style(\"display\", null);\n            row.filter(d => {\n                const code = d.concept_code.toLowerCase();\n                const name = d.concept_name.toLowerCase().replace(/[^a-z0-9]/g, \"\");\n                return !(code.startsWith(normalized) || name.includes(normalized));\n            }).style(\"display\", \"none\");\n\n            // Recompute Y positions for visible rows\n            let yOffset = 0;\n            row.filter(function () {\n                return d3.select(this).style(\"display\") !== \"none\";\n            })\n                .each(function () {\n                    d3.select(this).attr(\"transform\", `translate(0, ${yOffset})`);\n                    yOffset += parseFloat(d3.select(this).select(\"rect\").attr(\"height\"));\n                });\n            body_svg.attr(\"height\", yOffset);\n        });\n    }\n\n    function ConceptsTable(data, dispatch,\n                           {data2 = null,\n                               dimensions = { height: 432, row_height: 30 }} = {}){\n        // ==== Validation for required params ====\n        if (data === null) {\n            throw new Error(\"drawConceptsTable requires a 'data' parameter.\");\n        }\n\n        if (\n            !dispatch ||\n            typeof dispatch !== \"object\" ||\n            typeof dispatch.call !== \"function\" ||\n            typeof dispatch.on !== \"function\"\n        ) {\n            throw new Error(\"drawConceptsTable requires a valid d3.dispatch object.\");\n        }\n\n        // ==== Validate optional params ====\n        if (data2 !== null && !Array.isArray(data2)) {\n            console.warn(\"drawConceptsTable: 'data2' should be an array (or null).\");\n        }\n\n        if (typeof dimensions !== \"object\" || dimensions === null) {\n            throw new Error(\"drawConceptsTable: 'dimensions' must be an object.\");\n        }\n\n        let table_data;\n        if (data2 !== null) {\n            table_data = prepareConceptsCompareData(data, data2);\n        } else {\n            table_data = data;\n        }\n\n        const text_offset_x = 10;\n        const { height, row_height } = dimensions;\n\n        // === container with scroll ===\n        const container = d3.create(\"div\")\n            .style(\"width\", \"100%\")\n            .style(\"max-height\", height + \"px\")\n            .style(\"overflow\", \"auto\")\n            .style(\"position\", \"relative\")\n            .style(\"border\", \"1px solid #ccc\")\n            .style(\"font-family\", \"sans-serif\");\n\n        // === HEADERS ===\n\n        const headers_text = makeKeysWords(Object.keys(table_data[0]));\n        if (!table_data.length) {\n            throw new Error(\"drawConceptsTable: table_data is empty.\");\n        }\n\n        // TODO: I have assumed a maximum drawing area width of about 1070px. We may need to change this so that we get\n        //       the available canvas size and dynamically resize the visualization accordingly.\n        let columns_data;\n        if(data2 === null){\n            columns_data = [\n                { text: headers_text[1], field: \"concept_code\", x: 0, width: 160 },\n                { text: headers_text[0], field: \"concept_name\", x: 160, width: 590 },\n                { text: headers_text[2], field: \"count_in_cohort\", x: 750, width: 160 },\n                { text: headers_text[3],\n                    field: d => (d.prevalence !== null ? d.prevalence.toFixed(3) : \"\"), x: 910, width: 160 }\n            ];\n        }\n        else{\n            columns_data = [\n                { text: headers_text[0], field: \"concept_code\", x: 0, width: 140, type: 'text' },\n                { text: headers_text[1], field: \"concept_name\", x: 140, width: 330, type: 'text' },\n                { text: headers_text[2],\n                    field: d => (d.base_prevalence !== null ? d.base_prevalence.toFixed(3) : \"\"),\n                    x: 470, width: 120, type: 'text' },\n                { text: headers_text[3], field: \"difference\", x: 590, width: 240, type: 'compare_bars' },\n                { text: headers_text[4],\n                    field: d => (d.study_prevalence !== null ? d.study_prevalence.toFixed(3) : \"\"),\n                    x: 830, width: 120, type: 'text' },\n                { text: headers_text[5], field: \"bias\", x: 950, width: 120, type: 'bar' }\n            ];\n        }\n\n        const total_table_width = d3.sum(columns_data, d => d.width);\n\n        const headers_svg = container.append(\"svg\")\n            .attr(\"width\", total_table_width)\n            .attr(\"height\", row_height)\n            .style(\"position\", \"sticky\")\n            .style(\"top\", 0)\n            .style(\"background\", \"white\")\n            .style(\"z-index\", 1);\n\n        const headers_g = headers_svg.append(\"g\");\n\n        const header_g = headers_g.selectAll(\"g\")\n            .data(columns_data)\n            .enter()\n            .append(\"g\")\n            .attr(\"transform\", d => `translate(${d.x},0)`);\n\n        header_g.append(\"rect\")\n            .attr(\"width\", d => d.width)\n            .attr(\"height\", row_height)\n            .attr(\"fill\", \"#d0d0d0\")\n            .attr(\"stroke\", \"#fff\");\n\n        header_g.append(\"text\")\n            .attr(\"x\", text_offset_x)\n            .attr(\"y\", row_height / 2)\n            .attr(\"dy\", \"0.35em\")\n            .attr(\"text-anchor\", \"start\")\n            .text(d => d.text);\n\n        // === Column resizing handle ===\n        header_g.append(\"rect\")\n            .attr(\"class\", \"resize-handle\")\n            .attr(\"x\", d => d.width - 5)\n            .attr(\"y\", 0)\n            .attr(\"width\", 5)\n            .attr(\"height\", row_height)\n            .style(\"cursor\", \"col-resize\")\n            .style(\"fill\", \"transparent\")\n            .call(d3.drag()\n                .on(\"start\", function(event, d) {\n                    d.startWidth = d.width;       // store starting width\n                    d.startX = event.x;           // store starting mouse X\n                })\n                .on(\"drag\", function(event, d) {\n                    const dx = event.x - d.startX;           // change in mouse X\n                    const newWidth = Math.max(30, d.startWidth + dx); // minimum width 30\n                    d.width = newWidth;\n\n                    // Update header rect\n                    d3.select(this.parentNode).select(\"rect\").attr(\"width\", newWidth);\n                    // Update resize handle position\n                    d3.select(this).attr(\"x\", newWidth - 5);\n\n                    // Recalculate x positions for all columns after this one\n                    let x = 0;\n                    columns_data.forEach(col => {\n                        col.x = x;\n                        x += col.width;\n                    });\n\n                    // Update header positions\n                    headers_g.selectAll(\"g\").attr(\"transform\", col => `translate(${col.x},0)`);\n\n                    // Update body cell positions and widths\n                    body_svg.selectAll(\".row\").each(function(row_data) {\n                        d3.select(this).selectAll(\".cell\")\n                            .attr(\"transform\", (c, i) => `translate(${columns_data[i].x},0)`)\n                            .select(\".cell_bg\")\n                            .attr(\"width\", (c, i) => columns_data[i].width);\n                    });\n\n                    // Update body and header SVG width\n                    const totalWidth = d3.sum(columns_data, c => c.width);\n                    body_svg.attr(\"width\", totalWidth);\n                    headers_svg.attr(\"width\", totalWidth);\n                })\n            );\n\n        // === BODY ===\n\n        const body_svg = container.append(\"svg\")\n            .attr(\"width\", total_table_width)\n            .attr(\"height\", table_data.length * row_height);\n\n        const rows_g = body_svg.append(\"g\");\n\n        const row = rows_g.selectAll(\".row\")\n            .data(table_data)\n            .enter()\n            .append(\"g\")\n            .attr(\"class\", \"row\")\n            .attr(\"transform\", (d, i) => `translate(0, ${i * row_height})`);\n\n        let max_bias, max_diff, margin = 5;\n        if (data2 !== null) {\n            max_bias = d3.max(table_data, d => Math.abs(d.bias)) || 0;\n            max_diff = d3.max(table_data, d => Math.abs(d.difference)) || 0;\n        }\n\n        const biasScale = d3.scaleLinear();\n        const barScale = d3.scaleLinear();\n        let zeroX, g, outerHeight, innerY, innerH;\n\n        // per-row, per-column cells\n        columns_data.forEach(col => {\n            const cell = row.append(\"g\")\n                .attr(\"class\", \"cell\")\n                .attr(\"transform\", `translate(${col.x},0)`);\n\n            cell.append(\"rect\")\n                .attr(\"class\", \"cell-bg\")\n                .attr(\"width\", col.width)\n                .attr(\"height\", row_height)\n                .attr(\"fill\", \"#f0f0f0\")\n                .attr(\"stroke\", \"#ccc\");\n\n            if (data2 === null) {\n                cell.append(\"text\")\n                    .attr(\"x\", text_offset_x)\n                    .attr(\"y\", row_height / 2)\n                    .attr(\"dy\", \"0.35em\")\n                    .attr(\"text-anchor\", \"start\")\n                    .text(row_data => {\n                        const val = typeof col.field === \"function\" ? col.field(row_data) : row_data[col.field];\n                        return val !== null ? val : \"\";\n                    });\n            } else {\n                switch (col.type) {\n                    case \"text\":\n                        cell.append(\"text\")\n                            .attr(\"x\", text_offset_x)\n                            .attr(\"y\", row_height / 2)\n                            .attr(\"dy\", \"0.35em\")\n                            .attr(\"text-anchor\", \"start\")\n                            .text(row_data => {\n                                const val = typeof col.field === \"function\" ? col.field(row_data) : row_data[col.field];\n                                return val !== null ? val : \"\";\n                            });\n                        break;\n\n                    case \"bar\":\n                        biasScale\n                            .domain([0, max_bias || 1])\n                            .range([margin, col.width - margin]);  // full available space inside cell\n\n                        cell.each(function (row_data) {\n                            g = d3.select(this);\n                            outerHeight = row_height;\n                            innerY = margin;\n                            innerH = outerHeight - 2 * margin;\n\n                            // Bar: left-aligned, scaled to bias value\n                            g.append(\"rect\")\n                                .attr(\"x\", 0)\n                                .attr(\"y\", innerY)\n                                .attr(\"width\", biasScale(Math.abs(row_data.bias)))\n                                .attr(\"height\", innerH)\n                                .attr(\"fill\", \"lightslategrey\");\n\n                            // Text: show the bias value\n                            g.append(\"text\")\n                                .attr(\"x\", 4)  // small left inset\n                                .attr(\"y\", outerHeight / 2 + 4)\n                                .attr(\"font-size\", \"10px\")\n                                .attr(\"fill\", \"black\")\n                                .text(row_data.bias !== null ? row_data.bias.toFixed(3) : \"\");\n                        });\n                        break;\n\n                    case \"compare_bars\":\n                        barScale\n                            .domain([-max_diff || -1, max_diff || 1])\n                            .range([margin, col.width - margin]);  // full available space inside cell\n\n                        zeroX = barScale(0);\n\n                        cell.each(function (row_data) {\n                            g = d3.select(this);\n                            outerHeight = row_height;\n                            innerY = 5;\n                            innerH = outerHeight - 2 * margin;\n\n                            // Bar\n                            g.append(\"rect\")\n                                .attr(\"x\", Math.min(zeroX, barScale(row_data.difference)))\n                                .attr(\"y\", innerY)\n                                .attr(\"width\", Math.abs(barScale(row_data.difference) - zeroX))\n                                .attr(\"height\", innerH)\n                                .attr(\"fill\", row_data.difference < 0 ? \"orange\" : \"steelblue\");\n\n                            // Text label\n                            g.append(\"text\")\n                                .attr(\"x\", zeroX)\n                                .attr(\"y\", row_height / 2 + 4)\n                                .attr(\"text-anchor\", \"middle\")\n                                .attr(\"font-size\", \"10px\")\n                                .text(row_data.difference !== null ? row_data.difference.toFixed(3) : \"\");\n\n                        });\n                        break;\n\n                    default:\n                        throw new Error(`Unknown column type: ${col.type}`);\n                }\n            }\n        });\n\n        handleFilterConceptsTable(dispatch, row, body_svg);\n\n        return container;\n    }\n    // </editor-fold>\n\n    // <editor-fold desc=\"---------- PAGE LAYOUT ----------\">\n\n    // overall container\n    let vis_container = document.createElementNS('http://www.w3.org/1999/xhtml', 'div');\n    vis_container.setAttribute('class', 'vis-container');\n\n    // demographics container row\n    let demographics_row = vis_container.appendChild(document.createElement('div'));\n    demographics_row.setAttribute('class', 'row-container');\n    // gender container\n    let div_gender = demographics_row.appendChild(document.createElement('div'));\n    div_gender.setAttribute('class', 'col-container');\n    // race container\n    let div_race = demographics_row.appendChild(document.createElement('div'));\n    div_race.setAttribute('class', 'col-container');\n    // age container\n    let div_age = demographics_row.appendChild(document.createElement('div'));\n    div_age.setAttribute('class', 'col-container');\n\n    // concepts container row\n    let concepts_row = vis_container.appendChild(document.createElement('div'));\n    concepts_row.setAttribute('class', 'row-container concepts-row');\n    // concepts container\n    let div_concepts_container = concepts_row.appendChild(document.createElement('div'));\n    div_concepts_container.setAttribute('class', 'col-container');\n\n    // </editor-fold>\n\n    // <editor-fold desc=\"---------- INSERT THE VISUALIZATIONS ----------\">\n\n    // draw the gender barchart\n    div_gender.appendChild(\n        VerticalBarChart({data: gender_dist1},\n            {series2: {data: gender_dist2}, dimensions: {xlabel: 'Gender'}}).node());\n\n    // draw the race barchart\n    div_race.appendChild(\n        VerticalBarChart({data: race_stats1},\n            {series2: {data: race_stats2}, dimensions: {xlabel: 'Race'}}).node());\n\n    // draw the age barchart\n    div_age.appendChild(\n        VerticalBarChart({data: age_dist1},\n            {series2: {data: age_dist2}, dimensions: {xlabel: 'Age'}}).node());\n\n    // draw the concepts table search box\n    div_concepts_container.appendChild(\n        SearchBox(conceptsTableDispatcher).node());\n\n    // if there is only one set of concepts, draw a single cohort concepts table\n    if(Object.keys(concepts2).length === 0) {\n        // draw the concepts table\n        div_concepts_container.appendChild(\n            ConceptsTable(concepts1, conceptsTableDispatcher).node());\n    }\n    else{\n        div_concepts_container.appendChild(\n            ConceptsTable(concepts1, conceptsTableDispatcher,{data2: concepts2}).node());\n    }\n\n    // attach the visualization to the AnyWidget element\n    el.appendChild(vis_container);\n\n    // </editor-fold>\n\n    // return () => {\n    //   // Optional: Called when the view is destroyed.\n    // }\n\n} // end render\n\n// export default async () => {\n//   let extraState = {};\n//   return {\n//     initialize({ model }) { /* ... */ },\n//     render({ model, el }) { /* ... */ },\n//   }\n// }\n\nexport default { render };\n",
       "_gender_dist1": [
        {
         "category": "female",
         "probability": 0,
         "value": 0
        },
        {
         "category": "male",
         "probability": 100,
         "value": 798
        },
        {
         "category": "other",
         "probability": 0,
         "value": 0
        }
       ],
       "_gender_dist2": [],
       "_model_module": "anywidget",
       "_model_module_version": "~0.9.*",
       "_model_name": "AnyModel",
       "_race_stats1": [
        {
         "category": "Other",
         "probability": 0.01,
         "value": 5
        },
        {
         "category": "Asian",
         "probability": 0.09,
         "value": 73
        },
        {
         "category": "Black or African American",
         "probability": 0.07,
         "value": 59
        },
        {
         "category": "White",
         "probability": 0.83,
         "value": 661
        }
       ],
       "_race_stats2": [],
       "_view_module": "anywidget",
       "_view_module_version": "~0.9.*",
       "_view_name": "AnyView",
       "initialized": true,
       "layout": "IPY_MODEL_44bcd2307eb24b8fb88461b51632b31b"
      }
     },
     "644dab7aac8146a89cb7b5f75dead332": {
      "model_module": "@jupyter-widgets/controls",
      "model_module_version": "2.0.0",
      "model_name": "ProgressStyleModel",
      "state": {
       "description_width": ""
      }
     },
     "6683e91f824b4fac92b6078ffd4712b1": {
      "model_module": "@jupyter-widgets/controls",
      "model_module_version": "2.0.0",
      "model_name": "ProgressStyleModel",
      "state": {
       "bar_color": "black",
       "description_width": ""
      }
     },
     "7561f08630604236bd2303298950426a": {
      "model_module": "@jupyter-widgets/base",
      "model_module_version": "2.0.0",
      "model_name": "LayoutModel",
      "state": {}
     },
     "80ca082c7dbb4519881a84cf05d9ea87": {
      "model_module": "@jupyter-widgets/controls",
      "model_module_version": "2.0.0",
      "model_name": "FloatProgressModel",
      "state": {
       "layout": "IPY_MODEL_0ca0f769cd024da488aa72fbff480dd3",
       "style": "IPY_MODEL_1aaa549926a44189a8bb38ea266a776c",
       "value": 100
      }
     },
     "8b6bb9c6df7f42f094d63e59fce67dee": {
      "model_module": "@jupyter-widgets/controls",
      "model_module_version": "2.0.0",
      "model_name": "HTMLModel",
      "state": {
       "layout": "IPY_MODEL_d576dcd76de9407e8e337789e5dec412",
       "style": "IPY_MODEL_f14243257a4b410e843256f1aeae9a4d",
       "value": "Cohort creation: 100%"
      }
     },
     "93fa3a0521ba4a9e91f87db14cce065e": {
      "model_module": "@jupyter-widgets/base",
      "model_module_version": "2.0.0",
      "model_name": "LayoutModel",
      "state": {
       "width": "auto"
      }
     },
     "97d26d3f402844d8955c59a0f6fcda7a": {
      "model_module": "@jupyter-widgets/controls",
      "model_module_version": "2.0.0",
      "model_name": "ProgressStyleModel",
      "state": {
       "bar_color": "black",
       "description_width": ""
      }
     },
     "98263571742841c7a3206d1b9e476387": {
      "model_module": "@jupyter-widgets/controls",
      "model_module_version": "2.0.0",
      "model_name": "ProgressStyleModel",
      "state": {
       "bar_color": "black",
       "description_width": ""
      }
     },
     "9b788f18ec8c4de48dc984490ac15cc6": {
      "model_module": "@jupyter-widgets/controls",
      "model_module_version": "2.0.0",
      "model_name": "FloatProgressModel",
      "state": {
       "layout": "IPY_MODEL_e0267c9c59cb48f5acf31adb4af5864e",
       "style": "IPY_MODEL_97d26d3f402844d8955c59a0f6fcda7a",
       "value": 100
      }
     },
     "9d367220040349509328c1f1ff3feb86": {
      "model_module": "@jupyter-widgets/controls",
      "model_module_version": "2.0.0",
      "model_name": "FloatProgressModel",
      "state": {
       "layout": "IPY_MODEL_93fa3a0521ba4a9e91f87db14cce065e",
       "style": "IPY_MODEL_98263571742841c7a3206d1b9e476387",
       "value": 100
      }
     },
     "a6067080e47042bb8bd442c403ca6605": {
      "model_module": "@jupyter-widgets/base",
      "model_module_version": "2.0.0",
      "model_name": "LayoutModel",
      "state": {}
     },
     "b1f8f323b37b48c7ad22531cc86c94e5": {
      "model_module": "@jupyter-widgets/controls",
      "model_module_version": "2.0.0",
      "model_name": "FloatProgressModel",
      "state": {
       "layout": "IPY_MODEL_44ff0995f0364e458167b2fa94a56ec4",
       "max": 3,
       "style": "IPY_MODEL_644dab7aac8146a89cb7b5f75dead332",
       "value": 3
      }
     },
     "b2b3690c5a8d43e88cbfbf9337df64c9": {
      "model_module": "@jupyter-widgets/controls",
      "model_module_version": "2.0.0",
      "model_name": "HTMLStyleModel",
      "state": {
       "description_width": "",
       "font_size": null,
       "text_color": null
      }
     },
     "bc3dc61f0a6c4285afe252eac07c52c5": {
      "model_module": "@jupyter-widgets/base",
      "model_module_version": "2.0.0",
      "model_name": "LayoutModel",
      "state": {
       "display": "inline-flex",
       "flex_flow": "row wrap",
       "width": "100%"
      }
     },
     "bff39913166342f5b7066afc93174734": {
      "model_module": "@jupyter-widgets/controls",
      "model_module_version": "2.0.0",
      "model_name": "HTMLModel",
      "state": {
       "layout": "IPY_MODEL_7561f08630604236bd2303298950426a",
       "style": "IPY_MODEL_1663008549cb49c59118e150488e106f",
       "value": " 3/3 [00:19&lt;00:00, 15.34stage/s, Inserted cohort data into DuckDB - Done]"
      }
     },
     "c8cedbc53e8848dbb5f5a355e2c1a6c8": {
      "model_module": "@jupyter-widgets/controls",
      "model_module_version": "2.0.0",
      "model_name": "FloatProgressModel",
      "state": {
       "layout": "IPY_MODEL_40d022132cf44ed5a2cf7e65b003766f",
       "style": "IPY_MODEL_6683e91f824b4fac92b6078ffd4712b1",
       "value": 100
      }
     },
     "d243aebcaf3e4c27882cf3fbefd9c6ca": {
      "model_module": "@jupyter-widgets/base",
      "model_module_version": "2.0.0",
      "model_name": "LayoutModel",
      "state": {}
     },
     "d576dcd76de9407e8e337789e5dec412": {
      "model_module": "@jupyter-widgets/base",
      "model_module_version": "2.0.0",
      "model_name": "LayoutModel",
      "state": {}
     },
     "e0267c9c59cb48f5acf31adb4af5864e": {
      "model_module": "@jupyter-widgets/base",
      "model_module_version": "2.0.0",
      "model_name": "LayoutModel",
      "state": {
       "width": "auto"
      }
     },
     "eb96833a2e724779beed4654076e32d9": {
      "model_module": "anywidget",
      "model_module_version": "~0.9.*",
      "model_name": "AnyModel",
      "state": {
       "_age_dist1": [
        {
         "category": "0-10",
         "probability": 0,
         "value": 0
        },
        {
         "category": "11-20",
         "probability": 0,
         "value": 0
        },
        {
         "category": "21-30",
         "probability": 0.0088,
         "value": 7
        },
        {
         "category": "31-40",
         "probability": 0.0376,
         "value": 30
        },
        {
         "category": "41-50",
         "probability": 0.0664,
         "value": 53
        },
        {
         "category": "51-60",
         "probability": 0.1642,
         "value": 131
        },
        {
         "category": "61-70",
         "probability": 0.193,
         "value": 154
        },
        {
         "category": "71-80",
         "probability": 0.2243,
         "value": 179
        },
        {
         "category": "81-90",
         "probability": 0.2055,
         "value": 164
        },
        {
         "category": "91+",
         "probability": 0.1003,
         "value": 80
        }
       ],
       "_age_dist2": [
        {
         "category": "0-10",
         "probability": 0.0042,
         "value": 6
        },
        {
         "category": "11-20",
         "probability": 0.0049,
         "value": 7
        },
        {
         "category": "21-30",
         "probability": 0.0432,
         "value": 62
        },
        {
         "category": "31-40",
         "probability": 0.0384,
         "value": 55
        },
        {
         "category": "41-50",
         "probability": 0.0523,
         "value": 75
        },
        {
         "category": "51-60",
         "probability": 0.1464,
         "value": 210
        },
        {
         "category": "61-70",
         "probability": 0.182,
         "value": 261
        },
        {
         "category": "71-80",
         "probability": 0.2322,
         "value": 333
        },
        {
         "category": "81-90",
         "probability": 0.1897,
         "value": 272
        },
        {
         "category": "91+",
         "probability": 0.1067,
         "value": 153
        }
       ],
       "_anywidget_id": "CohortWidget.CohortWidget",
       "_concepts1": [
        {
         "ancestor_concept_id": 4199402,
         "concept_code": "301857004",
         "concept_name": "Finding of body region",
         "descendant_concept_id": 4199402,
         "study_count": 798,
         "study_prevalence": 1
        },
        {
         "ancestor_concept_id": 4117930,
         "concept_code": "302292003",
         "concept_name": "Finding of trunk structure",
         "descendant_concept_id": 4117930,
         "study_count": 798,
         "study_prevalence": 1
        },
        {
         "ancestor_concept_id": 4028071,
         "concept_code": "128121009",
         "concept_name": "Disorder of trunk",
         "descendant_concept_id": 4028071,
         "study_count": 798,
         "study_prevalence": 1
        },
        {
         "ancestor_concept_id": 441840,
         "concept_code": "404684003",
         "concept_name": "Clinical finding",
         "descendant_concept_id": 441840,
         "study_count": 798,
         "study_prevalence": 1
        },
        {
         "ancestor_concept_id": 134057,
         "concept_code": "49601007",
         "concept_name": "Disorder of cardiovascular system",
         "descendant_concept_id": 134057,
         "study_count": 798,
         "study_prevalence": 1
        },
        {
         "ancestor_concept_id": 321588,
         "concept_code": "56265001",
         "concept_name": "Heart disease",
         "descendant_concept_id": 321588,
         "study_count": 798,
         "study_prevalence": 1
        },
        {
         "ancestor_concept_id": 43531056,
         "concept_code": "609622007",
         "concept_name": "Disorder of thoracic segment of trunk",
         "descendant_concept_id": 43531056,
         "study_count": 798,
         "study_prevalence": 1
        },
        {
         "ancestor_concept_id": 440142,
         "concept_code": "49483002",
         "concept_name": "Disorder of mediastinum",
         "descendant_concept_id": 440142,
         "study_count": 798,
         "study_prevalence": 1
        },
        {
         "ancestor_concept_id": 316139,
         "concept_code": "84114007",
         "concept_name": "Heart failure",
         "descendant_concept_id": 316139,
         "study_count": 798,
         "study_prevalence": 1
        },
        {
         "ancestor_concept_id": 4115390,
         "concept_code": "301296002",
         "concept_name": "Mediastinal finding",
         "descendant_concept_id": 4115390,
         "study_count": 798,
         "study_prevalence": 1
        },
        {
         "ancestor_concept_id": 4185503,
         "concept_code": "298705000",
         "concept_name": "Finding of region of thorax",
         "descendant_concept_id": 4185503,
         "study_count": 798,
         "study_prevalence": 1
        },
        {
         "ancestor_concept_id": 4274025,
         "concept_code": "64572001",
         "concept_name": "Disease",
         "descendant_concept_id": 4274025,
         "study_count": 798,
         "study_prevalence": 1
        },
        {
         "ancestor_concept_id": 4042140,
         "concept_code": "118234003",
         "concept_name": "Finding by site",
         "descendant_concept_id": 4042140,
         "study_count": 798,
         "study_prevalence": 1
        },
        {
         "ancestor_concept_id": 4047779,
         "concept_code": "123946008",
         "concept_name": "Disorder by body site",
         "descendant_concept_id": 4047779,
         "study_count": 798,
         "study_prevalence": 1
        },
        {
         "ancestor_concept_id": 4103183,
         "concept_code": "301095005",
         "concept_name": "Cardiac finding",
         "descendant_concept_id": 4103183,
         "study_count": 798,
         "study_prevalence": 1
        },
        {
         "ancestor_concept_id": 4227253,
         "concept_code": "406123005",
         "concept_name": "Viscus structure finding",
         "descendant_concept_id": 4227253,
         "study_count": 798,
         "study_prevalence": 1
        },
        {
         "ancestor_concept_id": 4180628,
         "concept_code": "362965005",
         "concept_name": "Disorder of body system",
         "descendant_concept_id": 4180628,
         "study_count": 798,
         "study_prevalence": 1
        },
        {
         "ancestor_concept_id": 4024552,
         "concept_code": "105981003",
         "concept_name": "Disorder of cardiac function",
         "descendant_concept_id": 4024552,
         "study_count": 798,
         "study_prevalence": 1
        },
        {
         "ancestor_concept_id": 4043346,
         "concept_code": "118946009",
         "concept_name": "Disorder of thorax",
         "descendant_concept_id": 4043346,
         "study_count": 798,
         "study_prevalence": 1
        },
        {
         "ancestor_concept_id": 43531057,
         "concept_code": "609623002",
         "concept_name": "Finding of upper trunk",
         "descendant_concept_id": 43531057,
         "study_count": 798,
         "study_prevalence": 1
        },
        {
         "ancestor_concept_id": 4023995,
         "concept_code": "106063007",
         "concept_name": "Cardiovascular finding",
         "descendant_concept_id": 4023995,
         "study_count": 798,
         "study_prevalence": 1
        },
        {
         "ancestor_concept_id": 443883,
         "concept_code": "2704003",
         "concept_name": "Acute disease",
         "descendant_concept_id": 443883,
         "study_count": 752,
         "study_prevalence": 0.9423558897243107
        },
        {
         "ancestor_concept_id": 320136,
         "concept_code": "50043002",
         "concept_name": "Disorder of respiratory system",
         "descendant_concept_id": 320136,
         "study_count": 697,
         "study_prevalence": 0.8734335839598998
        },
        {
         "ancestor_concept_id": 4024567,
         "concept_code": "106048009",
         "concept_name": "Respiratory finding",
         "descendant_concept_id": 4024567,
         "study_count": 697,
         "study_prevalence": 0.8734335839598998
        },
        {
         "ancestor_concept_id": 4006969,
         "concept_code": "111273006",
         "concept_name": "Acute respiratory disease",
         "descendant_concept_id": 4006969,
         "study_count": 697,
         "study_prevalence": 0.8734335839598998
        },
        {
         "ancestor_concept_id": 433595,
         "concept_code": "267038008",
         "concept_name": "Edema",
         "descendant_concept_id": 433595,
         "study_count": 696,
         "study_prevalence": 0.8721804511278195
        },
        {
         "ancestor_concept_id": 4199409,
         "concept_code": "301867009",
         "concept_name": "Edema of trunk",
         "descendant_concept_id": 4199409,
         "study_count": 696,
         "study_prevalence": 0.8721804511278195
        },
        {
         "ancestor_concept_id": 4115260,
         "concept_code": "301230006",
         "concept_name": "Lung finding",
         "descendant_concept_id": 4115260,
         "study_count": 696,
         "study_prevalence": 0.8721804511278195
        },
        {
         "ancestor_concept_id": 432453,
         "concept_code": "365860008",
         "concept_name": "General clinical state finding",
         "descendant_concept_id": 432453,
         "study_count": 696,
         "study_prevalence": 0.8721804511278195
        },
        {
         "ancestor_concept_id": 4040388,
         "concept_code": "118654009",
         "concept_name": "Disorder characterized by edema",
         "descendant_concept_id": 4040388,
         "study_count": 696,
         "study_prevalence": 0.8721804511278195
        },
        {
         "ancestor_concept_id": 4027553,
         "concept_code": "128272009",
         "concept_name": "Disorder of lower respiratory system",
         "descendant_concept_id": 4027553,
         "study_count": 696,
         "study_prevalence": 0.8721804511278195
        },
        {
         "ancestor_concept_id": 4041664,
         "concept_code": "230145002",
         "concept_name": "Difficulty breathing",
         "descendant_concept_id": 4041664,
         "study_count": 696,
         "study_prevalence": 0.8721804511278195
        },
        {
         "ancestor_concept_id": 4158346,
         "concept_code": "271825005",
         "concept_name": "Respiratory distress",
         "descendant_concept_id": 4158346,
         "study_count": 696,
         "study_prevalence": 0.8721804511278195
        },
        {
         "ancestor_concept_id": 4115386,
         "concept_code": "301282008",
         "concept_name": "Finding of respiration",
         "descendant_concept_id": 4115386,
         "study_count": 696,
         "study_prevalence": 0.8721804511278195
        },
        {
         "ancestor_concept_id": 4195694,
         "concept_code": "67782005",
         "concept_name": "Acute respiratory distress syndrome",
         "descendant_concept_id": 4195694,
         "study_count": 696,
         "study_prevalence": 0.8721804511278195
        },
        {
         "ancestor_concept_id": 4180645,
         "concept_code": "363044007",
         "concept_name": "Connective tissue disorder by body site",
         "descendant_concept_id": 4180645,
         "study_count": 696,
         "study_prevalence": 0.8721804511278195
        },
        {
         "ancestor_concept_id": 4271505,
         "concept_code": "366139009",
         "concept_name": "Ease of respiration - finding",
         "descendant_concept_id": 4271505,
         "study_count": 696,
         "study_prevalence": 0.8721804511278195
        },
        {
         "ancestor_concept_id": 4119786,
         "concept_code": "233703007",
         "concept_name": "Interstitial lung disease",
         "descendant_concept_id": 4119786,
         "study_count": 696,
         "study_prevalence": 0.8721804511278195
        },
        {
         "ancestor_concept_id": 4115259,
         "concept_code": "301226008",
         "concept_name": "Lower respiratory tract finding",
         "descendant_concept_id": 4115259,
         "study_count": 696,
         "study_prevalence": 0.8721804511278195
        },
        {
         "ancestor_concept_id": 4078925,
         "concept_code": "19242006",
         "concept_name": "Pulmonary edema",
         "descendant_concept_id": 4078925,
         "study_count": 696,
         "study_prevalence": 0.8721804511278195
        },
        {
         "ancestor_concept_id": 4239819,
         "concept_code": "69328002",
         "concept_name": "Distress",
         "descendant_concept_id": 4239819,
         "study_count": 696,
         "study_prevalence": 0.8721804511278195
        },
        {
         "ancestor_concept_id": 253549,
         "concept_code": "105969002",
         "concept_name": "Disorder of connective tissue",
         "descendant_concept_id": 253549,
         "study_count": 696,
         "study_prevalence": 0.8721804511278195
        },
        {
         "ancestor_concept_id": 257907,
         "concept_code": "19829001",
         "concept_name": "Disorder of lung",
         "descendant_concept_id": 257907,
         "study_count": 696,
         "study_prevalence": 0.8721804511278195
        },
        {
         "ancestor_concept_id": 43530815,
         "concept_code": "609336008",
         "concept_name": "Traumatic injury by site",
         "descendant_concept_id": 43530815,
         "study_count": 587,
         "study_prevalence": 0.7355889724310777
        },
        {
         "ancestor_concept_id": 440921,
         "concept_code": "417746004",
         "concept_name": "Traumatic injury",
         "descendant_concept_id": 440921,
         "study_count": 587,
         "study_prevalence": 0.7355889724310777
        },
        {
         "ancestor_concept_id": 43530877,
         "concept_code": "609411003",
         "concept_name": "Traumatic and/or non-traumatic injury of anatomical site",
         "descendant_concept_id": 43530877,
         "study_count": 587,
         "study_prevalence": 0.7355889724310777
        },
        {
         "ancestor_concept_id": 432795,
         "concept_code": "417163006",
         "concept_name": "Traumatic AND/OR non-traumatic injury",
         "descendant_concept_id": 432795,
         "study_count": 587,
         "study_prevalence": 0.7355889724310777
        },
        {
         "ancestor_concept_id": 193631,
         "concept_code": "105612003",
         "concept_name": "Injury of internal organ",
         "descendant_concept_id": 193631,
         "study_count": 587,
         "study_prevalence": 0.7355889724310777
        },
        {
         "ancestor_concept_id": 194526,
         "concept_code": "48125009",
         "concept_name": "Injury of trunk",
         "descendant_concept_id": 194526,
         "study_count": 587,
         "study_prevalence": 0.7355889724310777
        },
        {
         "ancestor_concept_id": 432250,
         "concept_code": "40733004",
         "concept_name": "Disorder due to infection",
         "descendant_concept_id": 432250,
         "study_count": 568,
         "study_prevalence": 0.7117794486215538
        },
        {
         "ancestor_concept_id": 4271450,
         "concept_code": "63171007",
         "concept_name": "Acute infectious disease",
         "descendant_concept_id": 4271450,
         "study_count": 520,
         "study_prevalence": 0.6516290726817042
        },
        {
         "ancestor_concept_id": 201965,
         "concept_code": "27942005",
         "concept_name": "Shock",
         "descendant_concept_id": 201965,
         "study_count": 520,
         "study_prevalence": 0.6516290726817042
        },
        {
         "ancestor_concept_id": 196236,
         "concept_code": "76571007",
         "concept_name": "Septic shock",
         "descendant_concept_id": 196236,
         "study_count": 520,
         "study_prevalence": 0.6516290726817042
        },
        {
         "ancestor_concept_id": 4311280,
         "concept_code": "86175003",
         "concept_name": "Injury of heart",
         "descendant_concept_id": 4311280,
         "study_count": 399,
         "study_prevalence": 0.5
        },
        {
         "ancestor_concept_id": 4027255,
         "concept_code": "128599005",
         "concept_name": "Structural disorder of heart",
         "descendant_concept_id": 4027255,
         "study_count": 399,
         "study_prevalence": 0.5
        },
        {
         "ancestor_concept_id": 74786,
         "concept_code": "27817002",
         "concept_name": "Internal injury of chest",
         "descendant_concept_id": 74786,
         "study_count": 399,
         "study_prevalence": 0.5
        },
        {
         "ancestor_concept_id": 4152156,
         "concept_code": "282728007",
         "concept_name": "Cardiovascular injury",
         "descendant_concept_id": 4152156,
         "study_count": 399,
         "study_prevalence": 0.5
        },
        {
         "ancestor_concept_id": 4094683,
         "concept_code": "262525000",
         "concept_name": "Chest injury",
         "descendant_concept_id": 4094683,
         "study_count": 399,
         "study_prevalence": 0.5
        },
        {
         "ancestor_concept_id": 37116489,
         "concept_code": "733217006",
         "concept_name": "Injury of intrathoracic organ",
         "descendant_concept_id": 37116489,
         "study_count": 399,
         "study_prevalence": 0.5
        },
        {
         "ancestor_concept_id": 4179872,
         "concept_code": "362970003",
         "concept_name": "Disorder of hemostatic system",
         "descendant_concept_id": 4179872,
         "study_count": 388,
         "study_prevalence": 0.48621553884711777
        },
        {
         "ancestor_concept_id": 432585,
         "concept_code": "64779008",
         "concept_name": "Blood coagulation disorder",
         "descendant_concept_id": 432585,
         "study_count": 388,
         "study_prevalence": 0.48621553884711777
        },
        {
         "ancestor_concept_id": 4120613,
         "concept_code": "234466008",
         "concept_name": "Acquired coagulation disorder",
         "descendant_concept_id": 4120613,
         "study_count": 388,
         "study_prevalence": 0.48621553884711777
        },
        {
         "ancestor_concept_id": 37311678,
         "concept_code": "822987005",
         "concept_name": "Finding of abdominopelvic segment of trunk",
         "descendant_concept_id": 37311678,
         "study_count": 386,
         "study_prevalence": 0.48370927318295737
        },
        {
         "ancestor_concept_id": 43531058,
         "concept_code": "609624008",
         "concept_name": "Finding of abdomen",
         "descendant_concept_id": 43531058,
         "study_count": 386,
         "study_prevalence": 0.48370927318295737
        },
        {
         "ancestor_concept_id": 37311677,
         "concept_code": "822988000",
         "concept_name": "Disorder of abdominopelvic segment of trunk",
         "descendant_concept_id": 37311677,
         "study_count": 386,
         "study_prevalence": 0.48370927318295737
        },
        {
         "ancestor_concept_id": 4096864,
         "concept_code": "249561001",
         "concept_name": "Abdominal organ finding",
         "descendant_concept_id": 4096864,
         "study_count": 386,
         "study_prevalence": 0.48370927318295737
        },
        {
         "ancestor_concept_id": 444089,
         "concept_code": "118948005",
         "concept_name": "Disorder of abdomen",
         "descendant_concept_id": 444089,
         "study_count": 386,
         "study_prevalence": 0.48370927318295737
        },
        {
         "ancestor_concept_id": 4171379,
         "concept_code": "42030000",
         "concept_name": "Disorder of the genitourinary system",
         "descendant_concept_id": 4171379,
         "study_count": 385,
         "study_prevalence": 0.4824561403508772
        },
        {
         "ancestor_concept_id": 37116613,
         "concept_code": "733386005",
         "concept_name": "Injury of urinary organ",
         "descendant_concept_id": 37116613,
         "study_count": 385,
         "study_prevalence": 0.4824561403508772
        },
        {
         "ancestor_concept_id": 4169252,
         "concept_code": "49011004",
         "concept_name": "Internal injury of abdominal organ",
         "descendant_concept_id": 4169252,
         "study_count": 385,
         "study_prevalence": 0.4824561403508772
        },
        {
         "ancestor_concept_id": 200588,
         "concept_code": "128069005",
         "concept_name": "Injury of abdomen",
         "descendant_concept_id": 200588,
         "study_count": 385,
         "study_prevalence": 0.4824561403508772
        },
        {
         "ancestor_concept_id": 4024000,
         "concept_code": "106098005",
         "concept_name": "Urinary system finding",
         "descendant_concept_id": 4024000,
         "study_count": 385,
         "study_prevalence": 0.4824561403508772
        },
        {
         "ancestor_concept_id": 4155499,
         "concept_code": "283879004",
         "concept_name": "Urogenital injury",
         "descendant_concept_id": 4155499,
         "study_count": 385,
         "study_prevalence": 0.4824561403508772
        },
        {
         "ancestor_concept_id": 4220631,
         "concept_code": "40095003",
         "concept_name": "Injury of kidney",
         "descendant_concept_id": 4220631,
         "study_count": 385,
         "study_prevalence": 0.4824561403508772
        },
        {
         "ancestor_concept_id": 45769862,
         "concept_code": "79131000119100",
         "concept_name": "Kidney lesion",
         "descendant_concept_id": 45769862,
         "study_count": 385,
         "study_prevalence": 0.4824561403508772
        },
        {
         "ancestor_concept_id": 4041285,
         "concept_code": "118238000",
         "concept_name": "Urogenital finding",
         "descendant_concept_id": 4041285,
         "study_count": 385,
         "study_prevalence": 0.4824561403508772
        },
        {
         "ancestor_concept_id": 37116972,
         "concept_code": "734045002",
         "concept_name": "Disorder of retroperitoneum",
         "descendant_concept_id": 37116972,
         "study_count": 385,
         "study_prevalence": 0.4824561403508772
        },
        {
         "ancestor_concept_id": 198124,
         "concept_code": "90708001",
         "concept_name": "Kidney disease",
         "descendant_concept_id": 198124,
         "study_count": 385,
         "study_prevalence": 0.4824561403508772
        },
        {
         "ancestor_concept_id": 4091056,
         "concept_code": "249578005",
         "concept_name": "Kidney finding",
         "descendant_concept_id": 4091056,
         "study_count": 385,
         "study_prevalence": 0.4824561403508772
        },
        {
         "ancestor_concept_id": 75865,
         "concept_code": "128606002",
         "concept_name": "Disorder of the urinary system",
         "descendant_concept_id": 75865,
         "study_count": 385,
         "study_prevalence": 0.4824561403508772
        },
        {
         "ancestor_concept_id": 40483287,
         "concept_code": "443820000",
         "concept_name": "Disorder of kidney and/or ureter",
         "descendant_concept_id": 40483287,
         "study_count": 385,
         "study_prevalence": 0.4824561403508772
        },
        {
         "ancestor_concept_id": 4344497,
         "concept_code": "239953001",
         "concept_name": "Soft tissue lesion",
         "descendant_concept_id": 4344497,
         "study_count": 172,
         "study_prevalence": 0.21553884711779447
        },
        {
         "ancestor_concept_id": 4093991,
         "concept_code": "248402002",
         "concept_name": "General finding of soft tissue",
         "descendant_concept_id": 4093991,
         "study_count": 172,
         "study_prevalence": 0.21553884711779447
        },
        {
         "ancestor_concept_id": 4028367,
         "concept_code": "128487001",
         "concept_name": "Acute disease of cardiovascular system",
         "descendant_concept_id": 4028367,
         "study_count": 172,
         "study_prevalence": 0.21553884711779447
        },
        {
         "ancestor_concept_id": 443784,
         "concept_code": "27550009",
         "concept_name": "Vascular disorder",
         "descendant_concept_id": 443784,
         "study_count": 172,
         "study_prevalence": 0.21553884711779447
        },
        {
         "ancestor_concept_id": 376208,
         "concept_code": "19660004",
         "concept_name": "Disorder of soft tissue",
         "descendant_concept_id": 376208,
         "study_count": 172,
         "study_prevalence": 0.21553884711779447
        },
        {
         "ancestor_concept_id": 4071689,
         "concept_code": "21829004",
         "concept_name": "Blood vessel finding",
         "descendant_concept_id": 4071689,
         "study_count": 172,
         "study_prevalence": 0.21553884711779447
        },
        {
         "ancestor_concept_id": 432545,
         "concept_code": "87628006",
         "concept_name": "Bacterial infectious disease",
         "descendant_concept_id": 432545,
         "study_count": 137,
         "study_prevalence": 0.17167919799498746
        },
        {
         "ancestor_concept_id": 4095634,
         "concept_code": "248727005",
         "concept_name": "Venous finding",
         "descendant_concept_id": 4095634,
         "study_count": 89,
         "study_prevalence": 0.11152882205513784
        },
        {
         "ancestor_concept_id": 4208466,
         "concept_code": "439129009",
         "concept_name": "Thrombosis of blood vessel",
         "descendant_concept_id": 4208466,
         "study_count": 89,
         "study_prevalence": 0.11152882205513784
        },
        {
         "ancestor_concept_id": 4234997,
         "concept_code": "90507008",
         "concept_name": "Disorder of vein",
         "descendant_concept_id": 4234997,
         "study_count": 89,
         "study_prevalence": 0.11152882205513784
        },
        {
         "ancestor_concept_id": 44782746,
         "concept_code": "132281000119108",
         "concept_name": "Acute deep venous thrombosis",
         "descendant_concept_id": 44782746,
         "study_count": 89,
         "study_prevalence": 0.11152882205513784
        },
        {
         "ancestor_concept_id": 4231363,
         "concept_code": "439127006",
         "concept_name": "Thrombosis",
         "descendant_concept_id": 4231363,
         "study_count": 89,
         "study_prevalence": 0.11152882205513784
        },
        {
         "ancestor_concept_id": 4133004,
         "concept_code": "128053003",
         "concept_name": "Deep venous thrombosis",
         "descendant_concept_id": 4133004,
         "study_count": 89,
         "study_prevalence": 0.11152882205513784
        },
        {
         "ancestor_concept_id": 444247,
         "concept_code": "111293003",
         "concept_name": "Venous thrombosis",
         "descendant_concept_id": 444247,
         "study_count": 89,
         "study_prevalence": 0.11152882205513784
        },
        {
         "ancestor_concept_id": 4190192,
         "concept_code": "373434004",
         "concept_name": "Disorder of blood vessels of thorax",
         "descendant_concept_id": 4190192,
         "study_count": 83,
         "study_prevalence": 0.10401002506265664
        },
        {
         "ancestor_concept_id": 45768439,
         "concept_code": "706870000",
         "concept_name": "Acute pulmonary embolism",
         "descendant_concept_id": 45768439,
         "study_count": 83,
         "study_prevalence": 0.10401002506265664
        },
        {
         "ancestor_concept_id": 312339,
         "concept_code": "54687002",
         "concept_name": "Arterial embolism",
         "descendant_concept_id": 312339,
         "study_count": 83,
         "study_prevalence": 0.10401002506265664
        },
        {
         "ancestor_concept_id": 4108173,
         "concept_code": "251039005",
         "concept_name": "Pulmonary artery finding",
         "descendant_concept_id": 4108173,
         "study_count": 83,
         "study_prevalence": 0.10401002506265664
        },
        {
         "ancestor_concept_id": 321887,
         "concept_code": "359557001",
         "concept_name": "Disorder of artery",
         "descendant_concept_id": 321887,
         "study_count": 83,
         "study_prevalence": 0.10401002506265664
        },
        {
         "ancestor_concept_id": 433208,
         "concept_code": "39785005",
         "concept_name": "Disorder of pulmonary circulation",
         "descendant_concept_id": 433208,
         "study_count": 83,
         "study_prevalence": 0.10401002506265664
        },
        {
         "ancestor_concept_id": 4194610,
         "concept_code": "312593004",
         "concept_name": "Trunk arterial embolus",
         "descendant_concept_id": 4194610,
         "study_count": 83,
         "study_prevalence": 0.10401002506265664
        },
        {
         "ancestor_concept_id": 4095631,
         "concept_code": "248718009",
         "concept_name": "Arterial finding",
         "descendant_concept_id": 4095631,
         "study_count": 83,
         "study_prevalence": 0.10401002506265664
        },
        {
         "ancestor_concept_id": 440417,
         "concept_code": "59282003",
         "concept_name": "Pulmonary embolism",
         "descendant_concept_id": 440417,
         "study_count": 83,
         "study_prevalence": 0.10401002506265664
        },
        {
         "ancestor_concept_id": 4185607,
         "concept_code": "414086009",
         "concept_name": "Embolism",
         "descendant_concept_id": 4185607,
         "study_count": 83,
         "study_prevalence": 0.10401002506265664
        },
        {
         "ancestor_concept_id": 4302537,
         "concept_code": "386617003",
         "concept_name": "Digestive system finding",
         "descendant_concept_id": 4302537,
         "study_count": 3,
         "study_prevalence": 0.0037593984962406013
        },
        {
         "ancestor_concept_id": 4297887,
         "concept_code": "76712006",
         "concept_name": "Disorder of digestive organ",
         "descendant_concept_id": 4297887,
         "study_count": 3,
         "study_prevalence": 0.0037593984962406013
        },
        {
         "ancestor_concept_id": 4201745,
         "concept_code": "53619000",
         "concept_name": "Disorder of digestive system",
         "descendant_concept_id": 4201745,
         "study_count": 3,
         "study_prevalence": 0.0037593984962406013
        },
        {
         "ancestor_concept_id": 4309188,
         "concept_code": "84410009",
         "concept_name": "Disorder of digestive tract",
         "descendant_concept_id": 4309188,
         "study_count": 3,
         "study_prevalence": 0.0037593984962406013
        },
        {
         "ancestor_concept_id": 4091532,
         "concept_code": "249562008",
         "concept_name": "Bowel finding",
         "descendant_concept_id": 4091532,
         "study_count": 2,
         "study_prevalence": 0.002506265664160401
        },
        {
         "ancestor_concept_id": 4102111,
         "concept_code": "300848003",
         "concept_name": "Mass of body structure",
         "descendant_concept_id": 4102111,
         "study_count": 2,
         "study_prevalence": 0.002506265664160401
        },
        {
         "ancestor_concept_id": 4193169,
         "concept_code": "312133006",
         "concept_name": "Viral respiratory infection",
         "descendant_concept_id": 4193169,
         "study_count": 2,
         "study_prevalence": 0.002506265664160401
        },
        {
         "ancestor_concept_id": 201618,
         "concept_code": "85919009",
         "concept_name": "Disorder of intestine",
         "descendant_concept_id": 201618,
         "study_count": 2,
         "study_prevalence": 0.002506265664160401
        },
        {
         "ancestor_concept_id": 4207186,
         "concept_code": "312130009",
         "concept_name": "Viral infection by site",
         "descendant_concept_id": 4207186,
         "study_count": 2,
         "study_prevalence": 0.002506265664160401
        },
        {
         "ancestor_concept_id": 192438,
         "concept_code": "271860004",
         "concept_name": "Abdominal mass",
         "descendant_concept_id": 192438,
         "study_count": 2,
         "study_prevalence": 0.002506265664160401
        },
        {
         "ancestor_concept_id": 4113999,
         "concept_code": "300862005",
         "concept_name": "Mass of body region",
         "descendant_concept_id": 4113999,
         "study_count": 2,
         "study_prevalence": 0.002506265664160401
        },
        {
         "ancestor_concept_id": 4197094,
         "concept_code": "79787007",
         "concept_name": "Disorder of lower gastrointestinal tract",
         "descendant_concept_id": 4197094,
         "study_count": 2,
         "study_prevalence": 0.002506265664160401
        },
        {
         "ancestor_concept_id": 4206591,
         "concept_code": "309524007",
         "concept_name": "Mass of trunk",
         "descendant_concept_id": 4206591,
         "study_count": 2,
         "study_prevalence": 0.002506265664160401
        },
        {
         "ancestor_concept_id": 4178818,
         "concept_code": "363171009",
         "concept_name": "Inflammation of specific body systems",
         "descendant_concept_id": 4178818,
         "study_count": 2,
         "study_prevalence": 0.002506265664160401
        },
        {
         "ancestor_concept_id": 4043671,
         "concept_code": "129134004",
         "concept_name": "Inflammatory disorder of upper respiratory tract",
         "descendant_concept_id": 4043671,
         "study_count": 2,
         "study_prevalence": 0.002506265664160401
        },
        {
         "ancestor_concept_id": 4085100,
         "concept_code": "281794004",
         "concept_name": "Viral upper respiratory tract infection",
         "descendant_concept_id": 4085100,
         "study_count": 2,
         "study_prevalence": 0.002506265664160401
        },
        {
         "ancestor_concept_id": 440029,
         "concept_code": "34014006",
         "concept_name": "Viral disease",
         "descendant_concept_id": 440029,
         "study_count": 2,
         "study_prevalence": 0.002506265664160401
        },
        {
         "ancestor_concept_id": 4038678,
         "concept_code": "118436003",
         "concept_name": "Finding of large intestine",
         "descendant_concept_id": 4038678,
         "study_count": 2,
         "study_prevalence": 0.002506265664160401
        },
        {
         "ancestor_concept_id": 4115106,
         "concept_code": "300855001",
         "concept_name": "Mass of digestive structure",
         "descendant_concept_id": 4115106,
         "study_count": 2,
         "study_prevalence": 0.002506265664160401
        },
        {
         "ancestor_concept_id": 4162282,
         "concept_code": "373405005",
         "concept_name": "Inflammatory disorder of the respiratory system",
         "descendant_concept_id": 4162282,
         "study_count": 2,
         "study_prevalence": 0.002506265664160401
        },
        {
         "ancestor_concept_id": 4027384,
         "concept_code": "128139000",
         "concept_name": "Inflammatory disorder",
         "descendant_concept_id": 4027384,
         "study_count": 2,
         "study_prevalence": 0.002506265664160401
        },
        {
         "ancestor_concept_id": 4170143,
         "concept_code": "275498002",
         "concept_name": "Respiratory tract infection",
         "descendant_concept_id": 4170143,
         "study_count": 2,
         "study_prevalence": 0.002506265664160401
        },
        {
         "ancestor_concept_id": 4178545,
         "concept_code": "297268004",
         "concept_name": "Ear, nose and throat finding",
         "descendant_concept_id": 4178545,
         "study_count": 2,
         "study_prevalence": 0.002506265664160401
        },
        {
         "ancestor_concept_id": 4180170,
         "concept_code": "363180009",
         "concept_name": "Inflammatory disorder of the respiratory tract",
         "descendant_concept_id": 4180170,
         "study_count": 2,
         "study_prevalence": 0.002506265664160401
        },
        {
         "ancestor_concept_id": 4304916,
         "concept_code": "386618008",
         "concept_name": "Gastrointestinal tract finding",
         "descendant_concept_id": 4304916,
         "study_count": 2,
         "study_prevalence": 0.002506265664160401
        },
        {
         "ancestor_concept_id": 4000610,
         "concept_code": "119292006",
         "concept_name": "Disorder of gastrointestinal tract",
         "descendant_concept_id": 4000610,
         "study_count": 2,
         "study_prevalence": 0.002506265664160401
        },
        {
         "ancestor_concept_id": 4002905,
         "concept_code": "119523007",
         "concept_name": "Disorder of large intestine",
         "descendant_concept_id": 4002905,
         "study_count": 2,
         "study_prevalence": 0.002506265664160401
        },
        {
         "ancestor_concept_id": 4103320,
         "concept_code": "301186004",
         "concept_name": "Upper respiratory tract finding",
         "descendant_concept_id": 4103320,
         "study_count": 2,
         "study_prevalence": 0.002506265664160401
        },
        {
         "ancestor_concept_id": 4181583,
         "concept_code": "54150009",
         "concept_name": "Upper respiratory infection",
         "descendant_concept_id": 4181583,
         "study_count": 2,
         "study_prevalence": 0.002506265664160401
        },
        {
         "ancestor_concept_id": 4180169,
         "concept_code": "363170005",
         "concept_name": "Inflammation of specific body structures or tissue",
         "descendant_concept_id": 4180169,
         "study_count": 2,
         "study_prevalence": 0.002506265664160401
        },
        {
         "ancestor_concept_id": 4200532,
         "concept_code": "301810000",
         "concept_name": "Infection by site",
         "descendant_concept_id": 4200532,
         "study_count": 2,
         "study_prevalence": 0.002506265664160401
        },
        {
         "ancestor_concept_id": 254068,
         "concept_code": "201060008",
         "concept_name": "Disorder of upper respiratory system",
         "descendant_concept_id": 254068,
         "study_count": 2,
         "study_prevalence": 0.002506265664160401
        },
        {
         "ancestor_concept_id": 4339468,
         "concept_code": "232208008",
         "concept_name": "Ear, nose and throat disorder",
         "descendant_concept_id": 4339468,
         "study_count": 2,
         "study_prevalence": 0.002506265664160401
        },
        {
         "ancestor_concept_id": 255919,
         "concept_code": "118254002",
         "concept_name": "Finding of head and neck region",
         "descendant_concept_id": 255919,
         "study_count": 2,
         "study_prevalence": 0.002506265664160401
        },
        {
         "ancestor_concept_id": 4158326,
         "concept_code": "271745005",
         "concept_name": "Facial sinus finding",
         "descendant_concept_id": 4158326,
         "study_count": 1,
         "study_prevalence": 0.0012531328320802004
        },
        {
         "ancestor_concept_id": 4091363,
         "concept_code": "249376008",
         "concept_name": "Mouth and/or pharynx finding",
         "descendant_concept_id": 4091363,
         "study_count": 1,
         "study_prevalence": 0.0012531328320802004
        },
        {
         "ancestor_concept_id": 4112731,
         "concept_code": "254588001",
         "concept_name": "Polyp of intestine",
         "descendant_concept_id": 4112731,
         "study_count": 1,
         "study_prevalence": 0.0012531328320802004
        },
        {
         "ancestor_concept_id": 43531059,
         "concept_code": "609625009",
         "concept_name": "Finding of pelvic region of trunk",
         "descendant_concept_id": 43531059,
         "study_count": 1,
         "study_prevalence": 0.0012531328320802004
        },
        {
         "ancestor_concept_id": 37017023,
         "concept_code": "713197008",
         "concept_name": "Recurrent rectal polyp",
         "descendant_concept_id": 37017023,
         "study_count": 1,
         "study_prevalence": 0.0012531328320802004
        },
        {
         "ancestor_concept_id": 4266186,
         "concept_code": "399981008",
         "concept_name": "Neoplasm and/or hamartoma",
         "descendant_concept_id": 4266186,
         "study_count": 1,
         "study_prevalence": 0.0012531328320802004
        },
        {
         "ancestor_concept_id": 40491001,
         "concept_code": "448675008",
         "concept_name": "Malignant neoplasm of digestive system",
         "descendant_concept_id": 40491001,
         "study_count": 1,
         "study_prevalence": 0.0012531328320802004
        },
        {
         "ancestor_concept_id": 75909,
         "concept_code": "76069003",
         "concept_name": "Disorder of bone",
         "descendant_concept_id": 75909,
         "study_count": 1,
         "study_prevalence": 0.0012531328320802004
        },
        {
         "ancestor_concept_id": 4176944,
         "concept_code": "363166002",
         "concept_name": "Infective disorder of head",
         "descendant_concept_id": 4176944,
         "study_count": 1,
         "study_prevalence": 0.0012531328320802004
        },
        {
         "ancestor_concept_id": 4087647,
         "concept_code": "248523006",
         "concept_name": "Rectal mass",
         "descendant_concept_id": 4087647,
         "study_count": 1,
         "study_prevalence": 0.0012531328320802004
        },
        {
         "ancestor_concept_id": 443568,
         "concept_code": "428905002",
         "concept_name": "Malignant neoplasm of gastrointestinal tract",
         "descendant_concept_id": 443568,
         "study_count": 1,
         "study_prevalence": 0.0012531328320802004
        },
        {
         "ancestor_concept_id": 40481087,
         "concept_code": "444814009",
         "concept_name": "Viral sinusitis",
         "descendant_concept_id": 40481087,
         "study_count": 1,
         "study_prevalence": 0.0012531328320802004
        },
        {
         "ancestor_concept_id": 4103995,
         "concept_code": "300312006",
         "concept_name": "Lesion of rectum",
         "descendant_concept_id": 4103995,
         "study_count": 1,
         "study_prevalence": 0.0012531328320802004
        },
        {
         "ancestor_concept_id": 4209223,
         "concept_code": "441456002",
         "concept_name": "Polyp",
         "descendant_concept_id": 4209223,
         "study_count": 1,
         "study_prevalence": 0.0012531328320802004
        },
        {
         "ancestor_concept_id": 43531054,
         "concept_code": "609620004",
         "concept_name": "Disorder of pelvis",
         "descendant_concept_id": 43531054,
         "study_count": 1,
         "study_prevalence": 0.0012531328320802004
        },
        {
         "ancestor_concept_id": 43531053,
         "concept_code": "609619005",
         "concept_name": "Disorder of pelvic region of trunk",
         "descendant_concept_id": 43531053,
         "study_count": 1,
         "study_prevalence": 0.0012531328320802004
        },
        {
         "ancestor_concept_id": 36683531,
         "concept_code": "781382000",
         "concept_name": "Malignant neoplasm of colon and/or rectum",
         "descendant_concept_id": 36683531,
         "study_count": 1,
         "study_prevalence": 0.0012531328320802004
        },
        {
         "ancestor_concept_id": 4164337,
         "concept_code": "399505005",
         "concept_name": "Polyp of large intestine",
         "descendant_concept_id": 4164337,
         "study_count": 1,
         "study_prevalence": 0.0012531328320802004
        },
        {
         "ancestor_concept_id": 4143250,
         "concept_code": "425711007",
         "concept_name": "Mass of colon",
         "descendant_concept_id": 4143250,
         "study_count": 1,
         "study_prevalence": 0.0012531328320802004
        },
        {
         "ancestor_concept_id": 4198525,
         "concept_code": "50410009",
         "concept_name": "Disorder of upper digestive tract",
         "descendant_concept_id": 4198525,
         "study_count": 1,
         "study_prevalence": 0.0012531328320802004
        },
        {
         "ancestor_concept_id": 4193318,
         "concept_code": "312422001",
         "concept_name": "Infective pharyngitis",
         "descendant_concept_id": 4193318,
         "study_count": 1,
         "study_prevalence": 0.0012531328320802004
        },
        {
         "ancestor_concept_id": 4111798,
         "concept_code": "254532005",
         "concept_name": "Neoplasm of digestive organ",
         "descendant_concept_id": 4111798,
         "study_count": 1,
         "study_prevalence": 0.0012531328320802004
        },
        {
         "ancestor_concept_id": 4096976,
         "concept_code": "249597005",
         "concept_name": "Rectum finding",
         "descendant_concept_id": 4096976,
         "study_count": 1,
         "study_prevalence": 0.0012531328320802004
        },
        {
         "ancestor_concept_id": 443783,
         "concept_code": "27624003",
         "concept_name": "Chronic disease",
         "descendant_concept_id": 443783,
         "study_count": 1,
         "study_prevalence": 0.0012531328320802004
        },
        {
         "ancestor_concept_id": 40492037,
         "concept_code": "448882009",
         "concept_name": "Malignant neoplasm of intraabdominal organ",
         "descendant_concept_id": 40492037,
         "study_count": 1,
         "study_prevalence": 0.0012531328320802004
        },
        {
         "ancestor_concept_id": 43531060,
         "concept_code": "609626005",
         "concept_name": "Finding of pelvis",
         "descendant_concept_id": 43531060,
         "study_count": 1,
         "study_prevalence": 0.0012531328320802004
        },
        {
         "ancestor_concept_id": 4247371,
         "concept_code": "406122000",
         "concept_name": "Head finding",
         "descendant_concept_id": 4247371,
         "study_count": 1,
         "study_prevalence": 0.0012531328320802004
        },
        {
         "ancestor_concept_id": 4182161,
         "concept_code": "298364001",
         "concept_name": "Finding of head region",
         "descendant_concept_id": 4182161,
         "study_count": 1,
         "study_prevalence": 0.0012531328320802004
        },
        {
         "ancestor_concept_id": 257011,
         "concept_code": "54398005",
         "concept_name": "Acute upper respiratory infection",
         "descendant_concept_id": 257011,
         "study_count": 1,
         "study_prevalence": 0.0012531328320802004
        },
        {
         "ancestor_concept_id": 4043371,
         "concept_code": "128999004",
         "concept_name": "Inflammatory disorder of digestive tract",
         "descendant_concept_id": 4043371,
         "study_count": 1,
         "study_prevalence": 0.0012531328320802004
        },
        {
         "ancestor_concept_id": 4132555,
         "concept_code": "127331007",
         "concept_name": "Neoplasm by body site",
         "descendant_concept_id": 4132555,
         "study_count": 1,
         "study_prevalence": 0.0012531328320802004
        },
        {
         "ancestor_concept_id": 4252853,
         "concept_code": "409631000",
         "concept_name": "Acute viral disease",
         "descendant_concept_id": 4252853,
         "study_count": 1,
         "study_prevalence": 0.0012531328320802004
        },
        {
         "ancestor_concept_id": 438112,
         "concept_code": "55342001",
         "concept_name": "Neoplastic disease",
         "descendant_concept_id": 438112,
         "study_count": 1,
         "study_prevalence": 0.0012531328320802004
        },
        {
         "ancestor_concept_id": 4116238,
         "concept_code": "255077007",
         "concept_name": "Malignant tumor of digestive organ",
         "descendant_concept_id": 4116238,
         "study_count": 1,
         "study_prevalence": 0.0012531328320802004
        },
        {
         "ancestor_concept_id": 4180790,
         "concept_code": "363406005",
         "concept_name": "Malignant tumor of colon",
         "descendant_concept_id": 4180790,
         "study_count": 1,
         "study_prevalence": 0.0012531328320802004
        },
        {
         "ancestor_concept_id": 4283893,
         "concept_code": "36971009",
         "concept_name": "Sinusitis",
         "descendant_concept_id": 4283893,
         "study_count": 1,
         "study_prevalence": 0.0012531328320802004
        },
        {
         "ancestor_concept_id": 4190185,
         "concept_code": "373407002",
         "concept_name": "Inflammatory disorder of digestive system",
         "descendant_concept_id": 4190185,
         "study_count": 1,
         "study_prevalence": 0.0012531328320802004
        },
        {
         "ancestor_concept_id": 4244662,
         "concept_code": "928000",
         "concept_name": "Disorder of musculoskeletal system",
         "descendant_concept_id": 4244662,
         "study_count": 1,
         "study_prevalence": 0.0012531328320802004
        },
        {
         "ancestor_concept_id": 4133974,
         "concept_code": "128050000",
         "concept_name": "Neoplasm of abdomen",
         "descendant_concept_id": 4133974,
         "study_count": 1,
         "study_prevalence": 0.0012531328320802004
        },
        {
         "ancestor_concept_id": 45763613,
         "concept_code": "67401000119103",
         "concept_name": "Colonic lesion",
         "descendant_concept_id": 45763613,
         "study_count": 1,
         "study_prevalence": 0.0012531328320802004
        },
        {
         "ancestor_concept_id": 79069,
         "concept_code": "5964004",
         "concept_name": "Disorder of rectum",
         "descendant_concept_id": 79069,
         "study_count": 1,
         "study_prevalence": 0.0012531328320802004
        },
        {
         "ancestor_concept_id": 31057,
         "concept_code": "75860007",
         "concept_name": "Disorder of pharynx",
         "descendant_concept_id": 31057,
         "study_count": 1,
         "study_prevalence": 0.0012531328320802004
        },
        {
         "ancestor_concept_id": 4112343,
         "concept_code": "195662009",
         "concept_name": "Acute viral pharyngitis",
         "descendant_concept_id": 4112343,
         "study_count": 1,
         "study_prevalence": 0.0012531328320802004
        },
        {
         "ancestor_concept_id": 4181187,
         "concept_code": "363176004",
         "concept_name": "Inflammatory disorder of head",
         "descendant_concept_id": 4181187,
         "study_count": 1,
         "study_prevalence": 0.0012531328320802004
        },
        {
         "ancestor_concept_id": 443392,
         "concept_code": "363346000",
         "concept_name": "Malignant neoplastic disease",
         "descendant_concept_id": 443392,
         "study_count": 1,
         "study_prevalence": 0.0012531328320802004
        },
        {
         "ancestor_concept_id": 4339410,
         "concept_code": "88230002",
         "concept_name": "Disorder of skeletal system",
         "descendant_concept_id": 4339410,
         "study_count": 1,
         "study_prevalence": 0.0012531328320802004
        },
        {
         "ancestor_concept_id": 4042505,
         "concept_code": "118953000",
         "concept_name": "Bone finding",
         "descendant_concept_id": 4042505,
         "study_count": 1,
         "study_prevalence": 0.0012531328320802004
        },
        {
         "ancestor_concept_id": 4054501,
         "concept_code": "126637008",
         "concept_name": "Neoplasm of trunk",
         "descendant_concept_id": 4054501,
         "study_count": 1,
         "study_prevalence": 0.0012531328320802004
        },
        {
         "ancestor_concept_id": 4130514,
         "concept_code": "126837005",
         "concept_name": "Neoplasm of large intestine",
         "descendant_concept_id": 4130514,
         "study_count": 1,
         "study_prevalence": 0.0012531328320802004
        },
        {
         "ancestor_concept_id": 4130995,
         "concept_code": "126838000",
         "concept_name": "Neoplasm of colon",
         "descendant_concept_id": 4130995,
         "study_count": 1,
         "study_prevalence": 0.0012531328320802004
        },
        {
         "ancestor_concept_id": 4134887,
         "concept_code": "128398001",
         "concept_name": "Infectious disease of digestive tract",
         "descendant_concept_id": 4134887,
         "study_count": 1,
         "study_prevalence": 0.0012531328320802004
        },
        {
         "ancestor_concept_id": 4027880,
         "concept_code": "128524007",
         "concept_name": "Disorder of colon",
         "descendant_concept_id": 4027880,
         "study_count": 1,
         "study_prevalence": 0.0012531328320802004
        },
        {
         "ancestor_concept_id": 4181063,
         "concept_code": "363169009",
         "concept_name": "Inflammation of specific body organs",
         "descendant_concept_id": 4181063,
         "study_count": 1,
         "study_prevalence": 0.0012531328320802004
        },
        {
         "ancestor_concept_id": 443396,
         "concept_code": "363510005",
         "concept_name": "Malignant tumor of large intestine",
         "descendant_concept_id": 443396,
         "study_count": 1,
         "study_prevalence": 0.0012531328320802004
        },
        {
         "ancestor_concept_id": 4130373,
         "concept_code": "126768004",
         "concept_name": "Neoplasm of gastrointestinal tract",
         "descendant_concept_id": 4130373,
         "study_count": 1,
         "study_prevalence": 0.0012531328320802004
        },
        {
         "ancestor_concept_id": 4131598,
         "concept_code": "126769007",
         "concept_name": "Neoplasm of intestinal tract",
         "descendant_concept_id": 4131598,
         "study_count": 1,
         "study_prevalence": 0.0012531328320802004
        },
        {
         "ancestor_concept_id": 80502,
         "concept_code": "64859006",
         "concept_name": "Osteoporosis",
         "descendant_concept_id": 80502,
         "study_count": 1,
         "study_prevalence": 0.0012531328320802004
        },
        {
         "ancestor_concept_id": 197506,
         "concept_code": "188366002",
         "concept_name": "Malignant neoplasm of abdomen",
         "descendant_concept_id": 197506,
         "study_count": 1,
         "study_prevalence": 0.0012531328320802004
        },
        {
         "ancestor_concept_id": 4112341,
         "concept_code": "195647007",
         "concept_name": "Acute respiratory infections",
         "descendant_concept_id": 4112341,
         "study_count": 1,
         "study_prevalence": 0.0012531328320802004
        },
        {
         "ancestor_concept_id": 4028253,
         "concept_code": "128348002",
         "concept_name": "Neoplasm of digestive system",
         "descendant_concept_id": 4028253,
         "study_count": 1,
         "study_prevalence": 0.0012531328320802004
        },
        {
         "ancestor_concept_id": 4035987,
         "concept_code": "1532007",
         "concept_name": "Viral pharyngitis",
         "descendant_concept_id": 4035987,
         "study_count": 1,
         "study_prevalence": 0.0012531328320802004
        },
        {
         "ancestor_concept_id": 4101219,
         "concept_code": "300310003",
         "concept_name": "Finding of colon",
         "descendant_concept_id": 4101219,
         "study_count": 1,
         "study_prevalence": 0.0012531328320802004
        },
        {
         "ancestor_concept_id": 4226263,
         "concept_code": "405737000",
         "concept_name": "Pharyngitis",
         "descendant_concept_id": 4226263,
         "study_count": 1,
         "study_prevalence": 0.0012531328320802004
        },
        {
         "ancestor_concept_id": 4145825,
         "concept_code": "426867001",
         "concept_name": "Anorectal disorder",
         "descendant_concept_id": 4145825,
         "study_count": 1,
         "study_prevalence": 0.0012531328320802004
        },
        {
         "ancestor_concept_id": 201131,
         "concept_code": "74285003",
         "concept_name": "Pelvic mass",
         "descendant_concept_id": 201131,
         "study_count": 1,
         "study_prevalence": 0.0012531328320802004
        },
        {
         "ancestor_concept_id": 135930,
         "concept_code": "106028002",
         "concept_name": "Musculoskeletal finding",
         "descendant_concept_id": 135930,
         "study_count": 1,
         "study_prevalence": 0.0012531328320802004
        },
        {
         "ancestor_concept_id": 440059,
         "concept_code": "58184002",
         "concept_name": "Recurrent disease",
         "descendant_concept_id": 440059,
         "study_count": 1,
         "study_prevalence": 0.0012531328320802004
        },
        {
         "ancestor_concept_id": 4193990,
         "concept_code": "312158001",
         "concept_name": "Infection of digestive system",
         "descendant_concept_id": 4193990,
         "study_count": 1,
         "study_prevalence": 0.0012531328320802004
        },
        {
         "ancestor_concept_id": 4216644,
         "concept_code": "39772007",
         "concept_name": "Rectal polyp",
         "descendant_concept_id": 4216644,
         "study_count": 1,
         "study_prevalence": 0.0012531328320802004
        },
        {
         "ancestor_concept_id": 4042836,
         "concept_code": "118934005",
         "concept_name": "Disorder of head",
         "descendant_concept_id": 4042836,
         "study_count": 1,
         "study_prevalence": 0.0012531328320802004
        },
        {
         "ancestor_concept_id": 4054503,
         "concept_code": "126643005",
         "concept_name": "Neoplasm of intra-abdominal organs",
         "descendant_concept_id": 4054503,
         "study_count": 1,
         "study_prevalence": 0.0012531328320802004
        },
        {
         "ancestor_concept_id": 4134294,
         "concept_code": "128482007",
         "concept_name": "Acute inflammatory disease",
         "descendant_concept_id": 4134294,
         "study_count": 1,
         "study_prevalence": 0.0012531328320802004
        },
        {
         "ancestor_concept_id": 4022571,
         "concept_code": "116338005",
         "concept_name": "Pharyngeal finding",
         "descendant_concept_id": 4022571,
         "study_count": 1,
         "study_prevalence": 0.0012531328320802004
        },
        {
         "ancestor_concept_id": 4132552,
         "concept_code": "127321000",
         "concept_name": "Acute digestive system disorder",
         "descendant_concept_id": 4132552,
         "study_count": 1,
         "study_prevalence": 0.0012531328320802004
        },
        {
         "ancestor_concept_id": 256440,
         "concept_code": "7393007",
         "concept_name": "Disorder of nasal sinus",
         "descendant_concept_id": 256440,
         "study_count": 1,
         "study_prevalence": 0.0012531328320802004
        },
        {
         "ancestor_concept_id": 4193875,
         "concept_code": "312131008",
         "concept_name": "Viral infection of the digestive tract",
         "descendant_concept_id": 4193875,
         "study_count": 1,
         "study_prevalence": 0.0012531328320802004
        },
        {
         "ancestor_concept_id": 443398,
         "concept_code": "363508008",
         "concept_name": "Malignant tumor of intestine",
         "descendant_concept_id": 443398,
         "study_count": 1,
         "study_prevalence": 0.0012531328320802004
        },
        {
         "ancestor_concept_id": 25297,
         "concept_code": "363746003",
         "concept_name": "Acute pharyngitis",
         "descendant_concept_id": 25297,
         "study_count": 1,
         "study_prevalence": 0.0012531328320802004
        },
        {
         "ancestor_concept_id": 4134593,
         "concept_code": "128284006",
         "concept_name": "Chronic digestive system disorder",
         "descendant_concept_id": 4134593,
         "study_count": 1,
         "study_prevalence": 0.0012531328320802004
        },
        {
         "ancestor_concept_id": 196931,
         "concept_code": "128415001",
         "concept_name": "Neoplasm of digestive tract",
         "descendant_concept_id": 196931,
         "study_count": 1,
         "study_prevalence": 0.0012531328320802004
        }
       ],
       "_concepts2": [
        {
         "ancestor_concept_id": 43531057,
         "base_count": 1434,
         "base_prevalence": 1,
         "concept_code": "609623002",
         "concept_name": "Finding of upper trunk",
         "descendant_concept_id": 43531057
        },
        {
         "ancestor_concept_id": 4227253,
         "base_count": 1434,
         "base_prevalence": 1,
         "concept_code": "406123005",
         "concept_name": "Viscus structure finding",
         "descendant_concept_id": 4227253
        },
        {
         "ancestor_concept_id": 4042140,
         "base_count": 1434,
         "base_prevalence": 1,
         "concept_code": "118234003",
         "concept_name": "Finding by site",
         "descendant_concept_id": 4042140
        },
        {
         "ancestor_concept_id": 4047779,
         "base_count": 1434,
         "base_prevalence": 1,
         "concept_code": "123946008",
         "concept_name": "Disorder by body site",
         "descendant_concept_id": 4047779
        },
        {
         "ancestor_concept_id": 4180628,
         "base_count": 1434,
         "base_prevalence": 1,
         "concept_code": "362965005",
         "concept_name": "Disorder of body system",
         "descendant_concept_id": 4180628
        },
        {
         "ancestor_concept_id": 441840,
         "base_count": 1434,
         "base_prevalence": 1,
         "concept_code": "404684003",
         "concept_name": "Clinical finding",
         "descendant_concept_id": 441840
        },
        {
         "ancestor_concept_id": 4115390,
         "base_count": 1434,
         "base_prevalence": 1,
         "concept_code": "301296002",
         "concept_name": "Mediastinal finding",
         "descendant_concept_id": 4115390
        },
        {
         "ancestor_concept_id": 4023995,
         "base_count": 1434,
         "base_prevalence": 1,
         "concept_code": "106063007",
         "concept_name": "Cardiovascular finding",
         "descendant_concept_id": 4023995
        },
        {
         "ancestor_concept_id": 316139,
         "base_count": 1434,
         "base_prevalence": 1,
         "concept_code": "84114007",
         "concept_name": "Heart failure",
         "descendant_concept_id": 316139
        },
        {
         "ancestor_concept_id": 4199402,
         "base_count": 1434,
         "base_prevalence": 1,
         "concept_code": "301857004",
         "concept_name": "Finding of body region",
         "descendant_concept_id": 4199402
        },
        {
         "ancestor_concept_id": 4185503,
         "base_count": 1434,
         "base_prevalence": 1,
         "concept_code": "298705000",
         "concept_name": "Finding of region of thorax",
         "descendant_concept_id": 4185503
        },
        {
         "ancestor_concept_id": 4103183,
         "base_count": 1434,
         "base_prevalence": 1,
         "concept_code": "301095005",
         "concept_name": "Cardiac finding",
         "descendant_concept_id": 4103183
        },
        {
         "ancestor_concept_id": 4043346,
         "base_count": 1434,
         "base_prevalence": 1,
         "concept_code": "118946009",
         "concept_name": "Disorder of thorax",
         "descendant_concept_id": 4043346
        },
        {
         "ancestor_concept_id": 43531056,
         "base_count": 1434,
         "base_prevalence": 1,
         "concept_code": "609622007",
         "concept_name": "Disorder of thoracic segment of trunk",
         "descendant_concept_id": 43531056
        },
        {
         "ancestor_concept_id": 321588,
         "base_count": 1434,
         "base_prevalence": 1,
         "concept_code": "56265001",
         "concept_name": "Heart disease",
         "descendant_concept_id": 321588
        },
        {
         "ancestor_concept_id": 134057,
         "base_count": 1434,
         "base_prevalence": 1,
         "concept_code": "49601007",
         "concept_name": "Disorder of cardiovascular system",
         "descendant_concept_id": 134057
        },
        {
         "ancestor_concept_id": 4024552,
         "base_count": 1434,
         "base_prevalence": 1,
         "concept_code": "105981003",
         "concept_name": "Disorder of cardiac function",
         "descendant_concept_id": 4024552
        },
        {
         "ancestor_concept_id": 4274025,
         "base_count": 1434,
         "base_prevalence": 1,
         "concept_code": "64572001",
         "concept_name": "Disease",
         "descendant_concept_id": 4274025
        },
        {
         "ancestor_concept_id": 4117930,
         "base_count": 1434,
         "base_prevalence": 1,
         "concept_code": "302292003",
         "concept_name": "Finding of trunk structure",
         "descendant_concept_id": 4117930
        },
        {
         "ancestor_concept_id": 4028071,
         "base_count": 1434,
         "base_prevalence": 1,
         "concept_code": "128121009",
         "concept_name": "Disorder of trunk",
         "descendant_concept_id": 4028071
        },
        {
         "ancestor_concept_id": 440142,
         "base_count": 1434,
         "base_prevalence": 1,
         "concept_code": "49483002",
         "concept_name": "Disorder of mediastinum",
         "descendant_concept_id": 440142
        },
        {
         "ancestor_concept_id": 443883,
         "base_count": 1341,
         "base_prevalence": 0.9351464435146444,
         "concept_code": "2704003",
         "concept_name": "Acute disease",
         "descendant_concept_id": 443883
        },
        {
         "ancestor_concept_id": 320136,
         "base_count": 1227,
         "base_prevalence": 0.8556485355648535,
         "concept_code": "50043002",
         "concept_name": "Disorder of respiratory system",
         "descendant_concept_id": 320136
        },
        {
         "ancestor_concept_id": 4006969,
         "base_count": 1227,
         "base_prevalence": 0.8556485355648535,
         "concept_code": "111273006",
         "concept_name": "Acute respiratory disease",
         "descendant_concept_id": 4006969
        },
        {
         "ancestor_concept_id": 4024567,
         "base_count": 1227,
         "base_prevalence": 0.8556485355648535,
         "concept_code": "106048009",
         "concept_name": "Respiratory finding",
         "descendant_concept_id": 4024567
        },
        {
         "ancestor_concept_id": 4041664,
         "base_count": 1226,
         "base_prevalence": 0.8549511854951185,
         "concept_code": "230145002",
         "concept_name": "Difficulty breathing",
         "descendant_concept_id": 4041664
        },
        {
         "ancestor_concept_id": 4078925,
         "base_count": 1226,
         "base_prevalence": 0.8549511854951185,
         "concept_code": "19242006",
         "concept_name": "Pulmonary edema",
         "descendant_concept_id": 4078925
        },
        {
         "ancestor_concept_id": 257907,
         "base_count": 1226,
         "base_prevalence": 0.8549511854951185,
         "concept_code": "19829001",
         "concept_name": "Disorder of lung",
         "descendant_concept_id": 257907
        },
        {
         "ancestor_concept_id": 4158346,
         "base_count": 1226,
         "base_prevalence": 0.8549511854951185,
         "concept_code": "271825005",
         "concept_name": "Respiratory distress",
         "descendant_concept_id": 4158346
        },
        {
         "ancestor_concept_id": 4115386,
         "base_count": 1226,
         "base_prevalence": 0.8549511854951185,
         "concept_code": "301282008",
         "concept_name": "Finding of respiration",
         "descendant_concept_id": 4115386
        },
        {
         "ancestor_concept_id": 253549,
         "base_count": 1226,
         "base_prevalence": 0.8549511854951185,
         "concept_code": "105969002",
         "concept_name": "Disorder of connective tissue",
         "descendant_concept_id": 253549
        },
        {
         "ancestor_concept_id": 4119786,
         "base_count": 1226,
         "base_prevalence": 0.8549511854951185,
         "concept_code": "233703007",
         "concept_name": "Interstitial lung disease",
         "descendant_concept_id": 4119786
        },
        {
         "ancestor_concept_id": 4199409,
         "base_count": 1226,
         "base_prevalence": 0.8549511854951185,
         "concept_code": "301867009",
         "concept_name": "Edema of trunk",
         "descendant_concept_id": 4199409
        },
        {
         "ancestor_concept_id": 4027553,
         "base_count": 1226,
         "base_prevalence": 0.8549511854951185,
         "concept_code": "128272009",
         "concept_name": "Disorder of lower respiratory system",
         "descendant_concept_id": 4027553
        },
        {
         "ancestor_concept_id": 433595,
         "base_count": 1226,
         "base_prevalence": 0.8549511854951185,
         "concept_code": "267038008",
         "concept_name": "Edema",
         "descendant_concept_id": 433595
        },
        {
         "ancestor_concept_id": 4195694,
         "base_count": 1226,
         "base_prevalence": 0.8549511854951185,
         "concept_code": "67782005",
         "concept_name": "Acute respiratory distress syndrome",
         "descendant_concept_id": 4195694
        },
        {
         "ancestor_concept_id": 432453,
         "base_count": 1226,
         "base_prevalence": 0.8549511854951185,
         "concept_code": "365860008",
         "concept_name": "General clinical state finding",
         "descendant_concept_id": 432453
        },
        {
         "ancestor_concept_id": 4239819,
         "base_count": 1226,
         "base_prevalence": 0.8549511854951185,
         "concept_code": "69328002",
         "concept_name": "Distress",
         "descendant_concept_id": 4239819
        },
        {
         "ancestor_concept_id": 4180645,
         "base_count": 1226,
         "base_prevalence": 0.8549511854951185,
         "concept_code": "363044007",
         "concept_name": "Connective tissue disorder by body site",
         "descendant_concept_id": 4180645
        },
        {
         "ancestor_concept_id": 4271505,
         "base_count": 1226,
         "base_prevalence": 0.8549511854951185,
         "concept_code": "366139009",
         "concept_name": "Ease of respiration - finding",
         "descendant_concept_id": 4271505
        },
        {
         "ancestor_concept_id": 4115259,
         "base_count": 1226,
         "base_prevalence": 0.8549511854951185,
         "concept_code": "301226008",
         "concept_name": "Lower respiratory tract finding",
         "descendant_concept_id": 4115259
        },
        {
         "ancestor_concept_id": 4115260,
         "base_count": 1226,
         "base_prevalence": 0.8549511854951185,
         "concept_code": "301230006",
         "concept_name": "Lung finding",
         "descendant_concept_id": 4115260
        },
        {
         "ancestor_concept_id": 4040388,
         "base_count": 1226,
         "base_prevalence": 0.8549511854951185,
         "concept_code": "118654009",
         "concept_name": "Disorder characterized by edema",
         "descendant_concept_id": 4040388
        },
        {
         "ancestor_concept_id": 432250,
         "base_count": 1007,
         "base_prevalence": 0.702231520223152,
         "concept_code": "40733004",
         "concept_name": "Disorder due to infection",
         "descendant_concept_id": 432250
        },
        {
         "ancestor_concept_id": 43530877,
         "base_count": 999,
         "base_prevalence": 0.696652719665272,
         "concept_code": "609411003",
         "concept_name": "Traumatic and/or non-traumatic injury of anatomical site",
         "descendant_concept_id": 43530877
        },
        {
         "ancestor_concept_id": 432795,
         "base_count": 999,
         "base_prevalence": 0.696652719665272,
         "concept_code": "417163006",
         "concept_name": "Traumatic AND/OR non-traumatic injury",
         "descendant_concept_id": 432795
        },
        {
         "ancestor_concept_id": 194526,
         "base_count": 999,
         "base_prevalence": 0.696652719665272,
         "concept_code": "48125009",
         "concept_name": "Injury of trunk",
         "descendant_concept_id": 194526
        },
        {
         "ancestor_concept_id": 440921,
         "base_count": 999,
         "base_prevalence": 0.696652719665272,
         "concept_code": "417746004",
         "concept_name": "Traumatic injury",
         "descendant_concept_id": 440921
        },
        {
         "ancestor_concept_id": 193631,
         "base_count": 999,
         "base_prevalence": 0.696652719665272,
         "concept_code": "105612003",
         "concept_name": "Injury of internal organ",
         "descendant_concept_id": 193631
        },
        {
         "ancestor_concept_id": 43530815,
         "base_count": 999,
         "base_prevalence": 0.696652719665272,
         "concept_code": "609336008",
         "concept_name": "Traumatic injury by site",
         "descendant_concept_id": 43530815
        },
        {
         "ancestor_concept_id": 196236,
         "base_count": 916,
         "base_prevalence": 0.6387726638772664,
         "concept_code": "76571007",
         "concept_name": "Septic shock",
         "descendant_concept_id": 196236
        },
        {
         "ancestor_concept_id": 201965,
         "base_count": 916,
         "base_prevalence": 0.6387726638772664,
         "concept_code": "27942005",
         "concept_name": "Shock",
         "descendant_concept_id": 201965
        },
        {
         "ancestor_concept_id": 4271450,
         "base_count": 916,
         "base_prevalence": 0.6387726638772664,
         "concept_code": "63171007",
         "concept_name": "Acute infectious disease",
         "descendant_concept_id": 4271450
        },
        {
         "ancestor_concept_id": 4120613,
         "base_count": 686,
         "base_prevalence": 0.4783821478382148,
         "concept_code": "234466008",
         "concept_name": "Acquired coagulation disorder",
         "descendant_concept_id": 4120613
        },
        {
         "ancestor_concept_id": 4179872,
         "base_count": 686,
         "base_prevalence": 0.4783821478382148,
         "concept_code": "362970003",
         "concept_name": "Disorder of hemostatic system",
         "descendant_concept_id": 4179872
        },
        {
         "ancestor_concept_id": 432585,
         "base_count": 686,
         "base_prevalence": 0.4783821478382148,
         "concept_code": "64779008",
         "concept_name": "Blood coagulation disorder",
         "descendant_concept_id": 432585
        },
        {
         "ancestor_concept_id": 4027255,
         "base_count": 683,
         "base_prevalence": 0.47629009762900976,
         "concept_code": "128599005",
         "concept_name": "Structural disorder of heart",
         "descendant_concept_id": 4027255
        },
        {
         "ancestor_concept_id": 37116489,
         "base_count": 683,
         "base_prevalence": 0.47629009762900976,
         "concept_code": "733217006",
         "concept_name": "Injury of intrathoracic organ",
         "descendant_concept_id": 37116489
        },
        {
         "ancestor_concept_id": 74786,
         "base_count": 683,
         "base_prevalence": 0.47629009762900976,
         "concept_code": "27817002",
         "concept_name": "Internal injury of chest",
         "descendant_concept_id": 74786
        },
        {
         "ancestor_concept_id": 4094683,
         "base_count": 683,
         "base_prevalence": 0.47629009762900976,
         "concept_code": "262525000",
         "concept_name": "Chest injury",
         "descendant_concept_id": 4094683
        },
        {
         "ancestor_concept_id": 4311280,
         "base_count": 683,
         "base_prevalence": 0.47629009762900976,
         "concept_code": "86175003",
         "concept_name": "Injury of heart",
         "descendant_concept_id": 4311280
        },
        {
         "ancestor_concept_id": 4152156,
         "base_count": 683,
         "base_prevalence": 0.47629009762900976,
         "concept_code": "282728007",
         "concept_name": "Cardiovascular injury",
         "descendant_concept_id": 4152156
        },
        {
         "ancestor_concept_id": 43531058,
         "base_count": 666,
         "base_prevalence": 0.46443514644351463,
         "concept_code": "609624008",
         "concept_name": "Finding of abdomen",
         "descendant_concept_id": 43531058
        },
        {
         "ancestor_concept_id": 37311678,
         "base_count": 666,
         "base_prevalence": 0.46443514644351463,
         "concept_code": "822987005",
         "concept_name": "Finding of abdominopelvic segment of trunk",
         "descendant_concept_id": 37311678
        },
        {
         "ancestor_concept_id": 444089,
         "base_count": 666,
         "base_prevalence": 0.46443514644351463,
         "concept_code": "118948005",
         "concept_name": "Disorder of abdomen",
         "descendant_concept_id": 444089
        },
        {
         "ancestor_concept_id": 37311677,
         "base_count": 666,
         "base_prevalence": 0.46443514644351463,
         "concept_code": "822988000",
         "concept_name": "Disorder of abdominopelvic segment of trunk",
         "descendant_concept_id": 37311677
        },
        {
         "ancestor_concept_id": 4096864,
         "base_count": 666,
         "base_prevalence": 0.46443514644351463,
         "concept_code": "249561001",
         "concept_name": "Abdominal organ finding",
         "descendant_concept_id": 4096864
        },
        {
         "ancestor_concept_id": 4169252,
         "base_count": 665,
         "base_prevalence": 0.46373779637377965,
         "concept_code": "49011004",
         "concept_name": "Internal injury of abdominal organ",
         "descendant_concept_id": 4169252
        },
        {
         "ancestor_concept_id": 40483287,
         "base_count": 665,
         "base_prevalence": 0.46373779637377965,
         "concept_code": "443820000",
         "concept_name": "Disorder of kidney and/or ureter",
         "descendant_concept_id": 40483287
        },
        {
         "ancestor_concept_id": 37116972,
         "base_count": 665,
         "base_prevalence": 0.46373779637377965,
         "concept_code": "734045002",
         "concept_name": "Disorder of retroperitoneum",
         "descendant_concept_id": 37116972
        },
        {
         "ancestor_concept_id": 4220631,
         "base_count": 665,
         "base_prevalence": 0.46373779637377965,
         "concept_code": "40095003",
         "concept_name": "Injury of kidney",
         "descendant_concept_id": 4220631
        },
        {
         "ancestor_concept_id": 4171379,
         "base_count": 665,
         "base_prevalence": 0.46373779637377965,
         "concept_code": "42030000",
         "concept_name": "Disorder of the genitourinary system",
         "descendant_concept_id": 4171379
        },
        {
         "ancestor_concept_id": 4155499,
         "base_count": 665,
         "base_prevalence": 0.46373779637377965,
         "concept_code": "283879004",
         "concept_name": "Urogenital injury",
         "descendant_concept_id": 4155499
        },
        {
         "ancestor_concept_id": 37116613,
         "base_count": 665,
         "base_prevalence": 0.46373779637377965,
         "concept_code": "733386005",
         "concept_name": "Injury of urinary organ",
         "descendant_concept_id": 37116613
        },
        {
         "ancestor_concept_id": 45769862,
         "base_count": 665,
         "base_prevalence": 0.46373779637377965,
         "concept_code": "79131000119100",
         "concept_name": "Kidney lesion",
         "descendant_concept_id": 45769862
        },
        {
         "ancestor_concept_id": 4091056,
         "base_count": 665,
         "base_prevalence": 0.46373779637377965,
         "concept_code": "249578005",
         "concept_name": "Kidney finding",
         "descendant_concept_id": 4091056
        },
        {
         "ancestor_concept_id": 4041285,
         "base_count": 665,
         "base_prevalence": 0.46373779637377965,
         "concept_code": "118238000",
         "concept_name": "Urogenital finding",
         "descendant_concept_id": 4041285
        },
        {
         "ancestor_concept_id": 198124,
         "base_count": 665,
         "base_prevalence": 0.46373779637377965,
         "concept_code": "90708001",
         "concept_name": "Kidney disease",
         "descendant_concept_id": 198124
        },
        {
         "ancestor_concept_id": 4024000,
         "base_count": 665,
         "base_prevalence": 0.46373779637377965,
         "concept_code": "106098005",
         "concept_name": "Urinary system finding",
         "descendant_concept_id": 4024000
        },
        {
         "ancestor_concept_id": 200588,
         "base_count": 665,
         "base_prevalence": 0.46373779637377965,
         "concept_code": "128069005",
         "concept_name": "Injury of abdomen",
         "descendant_concept_id": 200588
        },
        {
         "ancestor_concept_id": 75865,
         "base_count": 665,
         "base_prevalence": 0.46373779637377965,
         "concept_code": "128606002",
         "concept_name": "Disorder of the urinary system",
         "descendant_concept_id": 75865
        },
        {
         "ancestor_concept_id": 443784,
         "base_count": 333,
         "base_prevalence": 0.23221757322175732,
         "concept_code": "27550009",
         "concept_name": "Vascular disorder",
         "descendant_concept_id": 443784
        },
        {
         "ancestor_concept_id": 4028367,
         "base_count": 333,
         "base_prevalence": 0.23221757322175732,
         "concept_code": "128487001",
         "concept_name": "Acute disease of cardiovascular system",
         "descendant_concept_id": 4028367
        },
        {
         "ancestor_concept_id": 376208,
         "base_count": 333,
         "base_prevalence": 0.23221757322175732,
         "concept_code": "19660004",
         "concept_name": "Disorder of soft tissue",
         "descendant_concept_id": 376208
        },
        {
         "ancestor_concept_id": 4071689,
         "base_count": 333,
         "base_prevalence": 0.23221757322175732,
         "concept_code": "21829004",
         "concept_name": "Blood vessel finding",
         "descendant_concept_id": 4071689
        },
        {
         "ancestor_concept_id": 4344497,
         "base_count": 333,
         "base_prevalence": 0.23221757322175732,
         "concept_code": "239953001",
         "concept_name": "Soft tissue lesion",
         "descendant_concept_id": 4344497
        },
        {
         "ancestor_concept_id": 4093991,
         "base_count": 333,
         "base_prevalence": 0.23221757322175732,
         "concept_code": "248402002",
         "concept_name": "General finding of soft tissue",
         "descendant_concept_id": 4093991
        },
        {
         "ancestor_concept_id": 432545,
         "base_count": 244,
         "base_prevalence": 0.1701534170153417,
         "concept_code": "87628006",
         "concept_name": "Bacterial infectious disease",
         "descendant_concept_id": 432545
        },
        {
         "ancestor_concept_id": 4194610,
         "base_count": 169,
         "base_prevalence": 0.11785216178521618,
         "concept_code": "312593004",
         "concept_name": "Trunk arterial embolus",
         "descendant_concept_id": 4194610
        },
        {
         "ancestor_concept_id": 312339,
         "base_count": 169,
         "base_prevalence": 0.11785216178521618,
         "concept_code": "54687002",
         "concept_name": "Arterial embolism",
         "descendant_concept_id": 312339
        },
        {
         "ancestor_concept_id": 4185607,
         "base_count": 169,
         "base_prevalence": 0.11785216178521618,
         "concept_code": "414086009",
         "concept_name": "Embolism",
         "descendant_concept_id": 4185607
        },
        {
         "ancestor_concept_id": 4108173,
         "base_count": 169,
         "base_prevalence": 0.11785216178521618,
         "concept_code": "251039005",
         "concept_name": "Pulmonary artery finding",
         "descendant_concept_id": 4108173
        },
        {
         "ancestor_concept_id": 433208,
         "base_count": 169,
         "base_prevalence": 0.11785216178521618,
         "concept_code": "39785005",
         "concept_name": "Disorder of pulmonary circulation",
         "descendant_concept_id": 433208
        },
        {
         "ancestor_concept_id": 45768439,
         "base_count": 169,
         "base_prevalence": 0.11785216178521618,
         "concept_code": "706870000",
         "concept_name": "Acute pulmonary embolism",
         "descendant_concept_id": 45768439
        },
        {
         "ancestor_concept_id": 321887,
         "base_count": 169,
         "base_prevalence": 0.11785216178521618,
         "concept_code": "359557001",
         "concept_name": "Disorder of artery",
         "descendant_concept_id": 321887
        },
        {
         "ancestor_concept_id": 440417,
         "base_count": 169,
         "base_prevalence": 0.11785216178521618,
         "concept_code": "59282003",
         "concept_name": "Pulmonary embolism",
         "descendant_concept_id": 440417
        },
        {
         "ancestor_concept_id": 4095631,
         "base_count": 169,
         "base_prevalence": 0.11785216178521618,
         "concept_code": "248718009",
         "concept_name": "Arterial finding",
         "descendant_concept_id": 4095631
        },
        {
         "ancestor_concept_id": 4190192,
         "base_count": 169,
         "base_prevalence": 0.11785216178521618,
         "concept_code": "373434004",
         "concept_name": "Disorder of blood vessels of thorax",
         "descendant_concept_id": 4190192
        },
        {
         "ancestor_concept_id": 4208466,
         "base_count": 164,
         "base_prevalence": 0.11436541143654114,
         "concept_code": "439129009",
         "concept_name": "Thrombosis of blood vessel",
         "descendant_concept_id": 4208466
        },
        {
         "ancestor_concept_id": 4133004,
         "base_count": 164,
         "base_prevalence": 0.11436541143654114,
         "concept_code": "128053003",
         "concept_name": "Deep venous thrombosis",
         "descendant_concept_id": 4133004
        },
        {
         "ancestor_concept_id": 4234997,
         "base_count": 164,
         "base_prevalence": 0.11436541143654114,
         "concept_code": "90507008",
         "concept_name": "Disorder of vein",
         "descendant_concept_id": 4234997
        },
        {
         "ancestor_concept_id": 4231363,
         "base_count": 164,
         "base_prevalence": 0.11436541143654114,
         "concept_code": "439127006",
         "concept_name": "Thrombosis",
         "descendant_concept_id": 4231363
        },
        {
         "ancestor_concept_id": 444247,
         "base_count": 164,
         "base_prevalence": 0.11436541143654114,
         "concept_code": "111293003",
         "concept_name": "Venous thrombosis",
         "descendant_concept_id": 444247
        },
        {
         "ancestor_concept_id": 44782746,
         "base_count": 164,
         "base_prevalence": 0.11436541143654114,
         "concept_code": "132281000119108",
         "concept_name": "Acute deep venous thrombosis",
         "descendant_concept_id": 44782746
        },
        {
         "ancestor_concept_id": 4095634,
         "base_count": 164,
         "base_prevalence": 0.11436541143654114,
         "concept_code": "248727005",
         "concept_name": "Venous finding",
         "descendant_concept_id": 4095634
        },
        {
         "ancestor_concept_id": 4201745,
         "base_count": 5,
         "base_prevalence": 0.003486750348675035,
         "concept_code": "53619000",
         "concept_name": "Disorder of digestive system",
         "descendant_concept_id": 4201745
        },
        {
         "ancestor_concept_id": 4302537,
         "base_count": 5,
         "base_prevalence": 0.003486750348675035,
         "concept_code": "386617003",
         "concept_name": "Digestive system finding",
         "descendant_concept_id": 4302537
        },
        {
         "ancestor_concept_id": 4297887,
         "base_count": 5,
         "base_prevalence": 0.003486750348675035,
         "concept_code": "76712006",
         "concept_name": "Disorder of digestive organ",
         "descendant_concept_id": 4297887
        },
        {
         "ancestor_concept_id": 4309188,
         "base_count": 4,
         "base_prevalence": 0.002789400278940028,
         "concept_code": "84410009",
         "concept_name": "Disorder of digestive tract",
         "descendant_concept_id": 4309188
        },
        {
         "ancestor_concept_id": 4178818,
         "base_count": 3,
         "base_prevalence": 0.0020920502092050207,
         "concept_code": "363171009",
         "concept_name": "Inflammation of specific body systems",
         "descendant_concept_id": 4178818
        },
        {
         "ancestor_concept_id": 4162282,
         "base_count": 3,
         "base_prevalence": 0.0020920502092050207,
         "concept_code": "373405005",
         "concept_name": "Inflammatory disorder of the respiratory system",
         "descendant_concept_id": 4162282
        },
        {
         "ancestor_concept_id": 4085100,
         "base_count": 3,
         "base_prevalence": 0.0020920502092050207,
         "concept_code": "281794004",
         "concept_name": "Viral upper respiratory tract infection",
         "descendant_concept_id": 4085100
        },
        {
         "ancestor_concept_id": 4207186,
         "base_count": 3,
         "base_prevalence": 0.0020920502092050207,
         "concept_code": "312130009",
         "concept_name": "Viral infection by site",
         "descendant_concept_id": 4207186
        },
        {
         "ancestor_concept_id": 4180169,
         "base_count": 3,
         "base_prevalence": 0.0020920502092050207,
         "concept_code": "363170005",
         "concept_name": "Inflammation of specific body structures or tissue",
         "descendant_concept_id": 4180169
        },
        {
         "ancestor_concept_id": 4304916,
         "base_count": 3,
         "base_prevalence": 0.0020920502092050207,
         "concept_code": "386618008",
         "concept_name": "Gastrointestinal tract finding",
         "descendant_concept_id": 4304916
        },
        {
         "ancestor_concept_id": 4181583,
         "base_count": 3,
         "base_prevalence": 0.0020920502092050207,
         "concept_code": "54150009",
         "concept_name": "Upper respiratory infection",
         "descendant_concept_id": 4181583
        },
        {
         "ancestor_concept_id": 4178545,
         "base_count": 3,
         "base_prevalence": 0.0020920502092050207,
         "concept_code": "297268004",
         "concept_name": "Ear, nose and throat finding",
         "descendant_concept_id": 4178545
        },
        {
         "ancestor_concept_id": 4027384,
         "base_count": 3,
         "base_prevalence": 0.0020920502092050207,
         "concept_code": "128139000",
         "concept_name": "Inflammatory disorder",
         "descendant_concept_id": 4027384
        },
        {
         "ancestor_concept_id": 4043671,
         "base_count": 3,
         "base_prevalence": 0.0020920502092050207,
         "concept_code": "129134004",
         "concept_name": "Inflammatory disorder of upper respiratory tract",
         "descendant_concept_id": 4043671
        },
        {
         "ancestor_concept_id": 4103320,
         "base_count": 3,
         "base_prevalence": 0.0020920502092050207,
         "concept_code": "301186004",
         "concept_name": "Upper respiratory tract finding",
         "descendant_concept_id": 4103320
        },
        {
         "ancestor_concept_id": 440029,
         "base_count": 3,
         "base_prevalence": 0.0020920502092050207,
         "concept_code": "34014006",
         "concept_name": "Viral disease",
         "descendant_concept_id": 440029
        },
        {
         "ancestor_concept_id": 4200532,
         "base_count": 3,
         "base_prevalence": 0.0020920502092050207,
         "concept_code": "301810000",
         "concept_name": "Infection by site",
         "descendant_concept_id": 4200532
        },
        {
         "ancestor_concept_id": 254068,
         "base_count": 3,
         "base_prevalence": 0.0020920502092050207,
         "concept_code": "201060008",
         "concept_name": "Disorder of upper respiratory system",
         "descendant_concept_id": 254068
        },
        {
         "ancestor_concept_id": 4339468,
         "base_count": 3,
         "base_prevalence": 0.0020920502092050207,
         "concept_code": "232208008",
         "concept_name": "Ear, nose and throat disorder",
         "descendant_concept_id": 4339468
        },
        {
         "ancestor_concept_id": 4193169,
         "base_count": 3,
         "base_prevalence": 0.0020920502092050207,
         "concept_code": "312133006",
         "concept_name": "Viral respiratory infection",
         "descendant_concept_id": 4193169
        },
        {
         "ancestor_concept_id": 4180170,
         "base_count": 3,
         "base_prevalence": 0.0020920502092050207,
         "concept_code": "363180009",
         "concept_name": "Inflammatory disorder of the respiratory tract",
         "descendant_concept_id": 4180170
        },
        {
         "ancestor_concept_id": 4170143,
         "base_count": 3,
         "base_prevalence": 0.0020920502092050207,
         "concept_code": "275498002",
         "concept_name": "Respiratory tract infection",
         "descendant_concept_id": 4170143
        },
        {
         "ancestor_concept_id": 255919,
         "base_count": 3,
         "base_prevalence": 0.0020920502092050207,
         "concept_code": "118254002",
         "concept_name": "Finding of head and neck region",
         "descendant_concept_id": 255919
        },
        {
         "ancestor_concept_id": 443783,
         "base_count": 2,
         "base_prevalence": 0.001394700139470014,
         "concept_code": "27624003",
         "concept_name": "Chronic disease",
         "descendant_concept_id": 443783
        },
        {
         "ancestor_concept_id": 4193990,
         "base_count": 2,
         "base_prevalence": 0.001394700139470014,
         "concept_code": "312158001",
         "concept_name": "Infection of digestive system",
         "descendant_concept_id": 4193990
        },
        {
         "ancestor_concept_id": 43531054,
         "base_count": 2,
         "base_prevalence": 0.001394700139470014,
         "concept_code": "609620004",
         "concept_name": "Disorder of pelvis",
         "descendant_concept_id": 43531054
        },
        {
         "ancestor_concept_id": 43531060,
         "base_count": 2,
         "base_prevalence": 0.001394700139470014,
         "concept_code": "609626005",
         "concept_name": "Finding of pelvis",
         "descendant_concept_id": 43531060
        },
        {
         "ancestor_concept_id": 43531053,
         "base_count": 2,
         "base_prevalence": 0.001394700139470014,
         "concept_code": "609619005",
         "concept_name": "Disorder of pelvic region of trunk",
         "descendant_concept_id": 43531053
        },
        {
         "ancestor_concept_id": 43531059,
         "base_count": 2,
         "base_prevalence": 0.001394700139470014,
         "concept_code": "609625009",
         "concept_name": "Finding of pelvic region of trunk",
         "descendant_concept_id": 43531059
        },
        {
         "ancestor_concept_id": 4113999,
         "base_count": 2,
         "base_prevalence": 0.001394700139470014,
         "concept_code": "300862005",
         "concept_name": "Mass of body region",
         "descendant_concept_id": 4113999
        },
        {
         "ancestor_concept_id": 201618,
         "base_count": 2,
         "base_prevalence": 0.001394700139470014,
         "concept_code": "85919009",
         "concept_name": "Disorder of intestine",
         "descendant_concept_id": 201618
        },
        {
         "ancestor_concept_id": 4091532,
         "base_count": 2,
         "base_prevalence": 0.001394700139470014,
         "concept_code": "249562008",
         "concept_name": "Bowel finding",
         "descendant_concept_id": 4091532
        },
        {
         "ancestor_concept_id": 4115106,
         "base_count": 2,
         "base_prevalence": 0.001394700139470014,
         "concept_code": "300855001",
         "concept_name": "Mass of digestive structure",
         "descendant_concept_id": 4115106
        },
        {
         "ancestor_concept_id": 4193875,
         "base_count": 2,
         "base_prevalence": 0.001394700139470014,
         "concept_code": "312131008",
         "concept_name": "Viral infection of the digestive tract",
         "descendant_concept_id": 4193875
        },
        {
         "ancestor_concept_id": 4193318,
         "base_count": 2,
         "base_prevalence": 0.001394700139470014,
         "concept_code": "312422001",
         "concept_name": "Infective pharyngitis",
         "descendant_concept_id": 4193318
        },
        {
         "ancestor_concept_id": 25297,
         "base_count": 2,
         "base_prevalence": 0.001394700139470014,
         "concept_code": "363746003",
         "concept_name": "Acute pharyngitis",
         "descendant_concept_id": 25297
        },
        {
         "ancestor_concept_id": 31057,
         "base_count": 2,
         "base_prevalence": 0.001394700139470014,
         "concept_code": "75860007",
         "concept_name": "Disorder of pharynx",
         "descendant_concept_id": 31057
        },
        {
         "ancestor_concept_id": 192438,
         "base_count": 2,
         "base_prevalence": 0.001394700139470014,
         "concept_code": "271860004",
         "concept_name": "Abdominal mass",
         "descendant_concept_id": 192438
        },
        {
         "ancestor_concept_id": 4145825,
         "base_count": 2,
         "base_prevalence": 0.001394700139470014,
         "concept_code": "426867001",
         "concept_name": "Anorectal disorder",
         "descendant_concept_id": 4145825
        },
        {
         "ancestor_concept_id": 4252853,
         "base_count": 2,
         "base_prevalence": 0.001394700139470014,
         "concept_code": "409631000",
         "concept_name": "Acute viral disease",
         "descendant_concept_id": 4252853
        },
        {
         "ancestor_concept_id": 4091363,
         "base_count": 2,
         "base_prevalence": 0.001394700139470014,
         "concept_code": "249376008",
         "concept_name": "Mouth and/or pharynx finding",
         "descendant_concept_id": 4091363
        },
        {
         "ancestor_concept_id": 4190185,
         "base_count": 2,
         "base_prevalence": 0.001394700139470014,
         "concept_code": "373407002",
         "concept_name": "Inflammatory disorder of digestive system",
         "descendant_concept_id": 4190185
        },
        {
         "ancestor_concept_id": 257011,
         "base_count": 2,
         "base_prevalence": 0.001394700139470014,
         "concept_code": "54398005",
         "concept_name": "Acute upper respiratory infection",
         "descendant_concept_id": 257011
        },
        {
         "ancestor_concept_id": 4112343,
         "base_count": 2,
         "base_prevalence": 0.001394700139470014,
         "concept_code": "195662009",
         "concept_name": "Acute viral pharyngitis",
         "descendant_concept_id": 4112343
        },
        {
         "ancestor_concept_id": 4002905,
         "base_count": 2,
         "base_prevalence": 0.001394700139470014,
         "concept_code": "119523007",
         "concept_name": "Disorder of large intestine",
         "descendant_concept_id": 4002905
        },
        {
         "ancestor_concept_id": 4112341,
         "base_count": 2,
         "base_prevalence": 0.001394700139470014,
         "concept_code": "195647007",
         "concept_name": "Acute respiratory infections",
         "descendant_concept_id": 4112341
        },
        {
         "ancestor_concept_id": 4206591,
         "base_count": 2,
         "base_prevalence": 0.001394700139470014,
         "concept_code": "309524007",
         "concept_name": "Mass of trunk",
         "descendant_concept_id": 4206591
        },
        {
         "ancestor_concept_id": 4181063,
         "base_count": 2,
         "base_prevalence": 0.001394700139470014,
         "concept_code": "363169009",
         "concept_name": "Inflammation of specific body organs",
         "descendant_concept_id": 4181063
        },
        {
         "ancestor_concept_id": 4226263,
         "base_count": 2,
         "base_prevalence": 0.001394700139470014,
         "concept_code": "405737000",
         "concept_name": "Pharyngitis",
         "descendant_concept_id": 4226263
        },
        {
         "ancestor_concept_id": 4102111,
         "base_count": 2,
         "base_prevalence": 0.001394700139470014,
         "concept_code": "300848003",
         "concept_name": "Mass of body structure",
         "descendant_concept_id": 4102111
        },
        {
         "ancestor_concept_id": 4022571,
         "base_count": 2,
         "base_prevalence": 0.001394700139470014,
         "concept_code": "116338005",
         "concept_name": "Pharyngeal finding",
         "descendant_concept_id": 4022571
        },
        {
         "ancestor_concept_id": 4038678,
         "base_count": 2,
         "base_prevalence": 0.001394700139470014,
         "concept_code": "118436003",
         "concept_name": "Finding of large intestine",
         "descendant_concept_id": 4038678
        },
        {
         "ancestor_concept_id": 4198525,
         "base_count": 2,
         "base_prevalence": 0.001394700139470014,
         "concept_code": "50410009",
         "concept_name": "Disorder of upper digestive tract",
         "descendant_concept_id": 4198525
        },
        {
         "ancestor_concept_id": 4197094,
         "base_count": 2,
         "base_prevalence": 0.001394700139470014,
         "concept_code": "79787007",
         "concept_name": "Disorder of lower gastrointestinal tract",
         "descendant_concept_id": 4197094
        },
        {
         "ancestor_concept_id": 4043371,
         "base_count": 2,
         "base_prevalence": 0.001394700139470014,
         "concept_code": "128999004",
         "concept_name": "Inflammatory disorder of digestive tract",
         "descendant_concept_id": 4043371
        },
        {
         "ancestor_concept_id": 4000610,
         "base_count": 2,
         "base_prevalence": 0.001394700139470014,
         "concept_code": "119292006",
         "concept_name": "Disorder of gastrointestinal tract",
         "descendant_concept_id": 4000610
        },
        {
         "ancestor_concept_id": 4035987,
         "base_count": 2,
         "base_prevalence": 0.001394700139470014,
         "concept_code": "1532007",
         "concept_name": "Viral pharyngitis",
         "descendant_concept_id": 4035987
        },
        {
         "ancestor_concept_id": 4132552,
         "base_count": 2,
         "base_prevalence": 0.001394700139470014,
         "concept_code": "127321000",
         "concept_name": "Acute digestive system disorder",
         "descendant_concept_id": 4132552
        },
        {
         "ancestor_concept_id": 4134887,
         "base_count": 2,
         "base_prevalence": 0.001394700139470014,
         "concept_code": "128398001",
         "concept_name": "Infectious disease of digestive tract",
         "descendant_concept_id": 4134887
        },
        {
         "ancestor_concept_id": 4134294,
         "base_count": 2,
         "base_prevalence": 0.001394700139470014,
         "concept_code": "128482007",
         "concept_name": "Acute inflammatory disease",
         "descendant_concept_id": 4134294
        },
        {
         "ancestor_concept_id": 37017023,
         "base_count": 1,
         "base_prevalence": 6.97350069735007E-4,
         "concept_code": "713197008",
         "concept_name": "Recurrent rectal polyp",
         "descendant_concept_id": 37017023
        },
        {
         "ancestor_concept_id": 443396,
         "base_count": 1,
         "base_prevalence": 6.97350069735007E-4,
         "concept_code": "363510005",
         "concept_name": "Malignant tumor of large intestine",
         "descendant_concept_id": 443396
        },
        {
         "ancestor_concept_id": 4283893,
         "base_count": 1,
         "base_prevalence": 6.97350069735007E-4,
         "concept_code": "36971009",
         "concept_name": "Sinusitis",
         "descendant_concept_id": 4283893
        },
        {
         "ancestor_concept_id": 4287929,
         "base_count": 1,
         "base_prevalence": 6.97350069735007E-4,
         "concept_code": "397174009",
         "concept_name": "Disorder of anal region",
         "descendant_concept_id": 4287929
        },
        {
         "ancestor_concept_id": 256440,
         "base_count": 1,
         "base_prevalence": 6.97350069735007E-4,
         "concept_code": "7393007",
         "concept_name": "Disorder of nasal sinus",
         "descendant_concept_id": 256440
        },
        {
         "ancestor_concept_id": 196523,
         "base_count": 1,
         "base_prevalence": 6.97350069735007E-4,
         "concept_code": "62315008",
         "concept_name": "Diarrhea",
         "descendant_concept_id": 196523
        },
        {
         "ancestor_concept_id": 4096976,
         "base_count": 1,
         "base_prevalence": 6.97350069735007E-4,
         "concept_code": "249597005",
         "concept_name": "Rectum finding",
         "descendant_concept_id": 4096976
        },
        {
         "ancestor_concept_id": 4130373,
         "base_count": 1,
         "base_prevalence": 6.97350069735007E-4,
         "concept_code": "126768004",
         "concept_name": "Neoplasm of gastrointestinal tract",
         "descendant_concept_id": 4130373
        },
        {
         "ancestor_concept_id": 196931,
         "base_count": 1,
         "base_prevalence": 6.97350069735007E-4,
         "concept_code": "128415001",
         "concept_name": "Neoplasm of digestive tract",
         "descendant_concept_id": 196931
        },
        {
         "ancestor_concept_id": 197506,
         "base_count": 1,
         "base_prevalence": 6.97350069735007E-4,
         "concept_code": "188366002",
         "concept_name": "Malignant neoplasm of abdomen",
         "descendant_concept_id": 197506
        },
        {
         "ancestor_concept_id": 40491001,
         "base_count": 1,
         "base_prevalence": 6.97350069735007E-4,
         "concept_code": "448675008",
         "concept_name": "Malignant neoplasm of digestive system",
         "descendant_concept_id": 40491001
        },
        {
         "ancestor_concept_id": 43531055,
         "base_count": 1,
         "base_prevalence": 6.97350069735007E-4,
         "concept_code": "609621000",
         "concept_name": "Disorder of perineum",
         "descendant_concept_id": 43531055
        },
        {
         "ancestor_concept_id": 443392,
         "base_count": 1,
         "base_prevalence": 6.97350069735007E-4,
         "concept_code": "363346000",
         "concept_name": "Malignant neoplastic disease",
         "descendant_concept_id": 443392
        },
        {
         "ancestor_concept_id": 36683531,
         "base_count": 1,
         "base_prevalence": 6.97350069735007E-4,
         "concept_code": "781382000",
         "concept_name": "Malignant neoplasm of colon and/or rectum",
         "descendant_concept_id": 36683531
        },
        {
         "ancestor_concept_id": 4176944,
         "base_count": 1,
         "base_prevalence": 6.97350069735007E-4,
         "concept_code": "363166002",
         "concept_name": "Infective disorder of head",
         "descendant_concept_id": 4176944
        },
        {
         "ancestor_concept_id": 4209223,
         "base_count": 1,
         "base_prevalence": 6.97350069735007E-4,
         "concept_code": "441456002",
         "concept_name": "Polyp",
         "descendant_concept_id": 4209223
        },
        {
         "ancestor_concept_id": 4216644,
         "base_count": 1,
         "base_prevalence": 6.97350069735007E-4,
         "concept_code": "39772007",
         "concept_name": "Rectal polyp",
         "descendant_concept_id": 4216644
        },
        {
         "ancestor_concept_id": 40492037,
         "base_count": 1,
         "base_prevalence": 6.97350069735007E-4,
         "concept_code": "448882009",
         "concept_name": "Malignant neoplasm of intraabdominal organ",
         "descendant_concept_id": 40492037
        },
        {
         "ancestor_concept_id": 45763613,
         "base_count": 1,
         "base_prevalence": 6.97350069735007E-4,
         "concept_code": "67401000119103",
         "concept_name": "Colonic lesion",
         "descendant_concept_id": 45763613
        },
        {
         "ancestor_concept_id": 4181187,
         "base_count": 1,
         "base_prevalence": 6.97350069735007E-4,
         "concept_code": "363176004",
         "concept_name": "Inflammatory disorder of head",
         "descendant_concept_id": 4181187
        },
        {
         "ancestor_concept_id": 443398,
         "base_count": 1,
         "base_prevalence": 6.97350069735007E-4,
         "concept_code": "363508008",
         "concept_name": "Malignant tumor of intestine",
         "descendant_concept_id": 443398
        },
        {
         "ancestor_concept_id": 4087647,
         "base_count": 1,
         "base_prevalence": 6.97350069735007E-4,
         "concept_code": "248523006",
         "concept_name": "Rectal mass",
         "descendant_concept_id": 4087647
        },
        {
         "ancestor_concept_id": 4112731,
         "base_count": 1,
         "base_prevalence": 6.97350069735007E-4,
         "concept_code": "254588001",
         "concept_name": "Polyp of intestine",
         "descendant_concept_id": 4112731
        },
        {
         "ancestor_concept_id": 4182161,
         "base_count": 1,
         "base_prevalence": 6.97350069735007E-4,
         "concept_code": "298364001",
         "concept_name": "Finding of head region",
         "descendant_concept_id": 4182161
        },
        {
         "ancestor_concept_id": 4103995,
         "base_count": 1,
         "base_prevalence": 6.97350069735007E-4,
         "concept_code": "300312006",
         "concept_name": "Lesion of rectum",
         "descendant_concept_id": 4103995
        },
        {
         "ancestor_concept_id": 135930,
         "base_count": 1,
         "base_prevalence": 6.97350069735007E-4,
         "concept_code": "106028002",
         "concept_name": "Musculoskeletal finding",
         "descendant_concept_id": 135930
        },
        {
         "ancestor_concept_id": 4042836,
         "base_count": 1,
         "base_prevalence": 6.97350069735007E-4,
         "concept_code": "118934005",
         "concept_name": "Disorder of head",
         "descendant_concept_id": 4042836
        },
        {
         "ancestor_concept_id": 4042505,
         "base_count": 1,
         "base_prevalence": 6.97350069735007E-4,
         "concept_code": "118953000",
         "concept_name": "Bone finding",
         "descendant_concept_id": 4042505
        },
        {
         "ancestor_concept_id": 4130514,
         "base_count": 1,
         "base_prevalence": 6.97350069735007E-4,
         "concept_code": "126837005",
         "concept_name": "Neoplasm of large intestine",
         "descendant_concept_id": 4130514
        },
        {
         "ancestor_concept_id": 4166245,
         "base_count": 1,
         "base_prevalence": 6.97350069735007E-4,
         "concept_code": "415991003",
         "concept_name": "Disorder of cardiac ventricle",
         "descendant_concept_id": 4166245
        },
        {
         "ancestor_concept_id": 79069,
         "base_count": 1,
         "base_prevalence": 6.97350069735007E-4,
         "concept_code": "5964004",
         "concept_name": "Disorder of rectum",
         "descendant_concept_id": 79069
        },
        {
         "ancestor_concept_id": 4245614,
         "base_count": 1,
         "base_prevalence": 6.97350069735007E-4,
         "concept_code": "6072007",
         "concept_name": "Bleeding from anus",
         "descendant_concept_id": 4245614
        },
        {
         "ancestor_concept_id": 4229440,
         "base_count": 1,
         "base_prevalence": 6.97350069735007E-4,
         "concept_code": "88805009",
         "concept_name": "Chronic congestive heart failure",
         "descendant_concept_id": 4229440
        },
        {
         "ancestor_concept_id": 4244662,
         "base_count": 1,
         "base_prevalence": 6.97350069735007E-4,
         "concept_code": "928000",
         "concept_name": "Disorder of musculoskeletal system",
         "descendant_concept_id": 4244662
        },
        {
         "ancestor_concept_id": 4111798,
         "base_count": 1,
         "base_prevalence": 6.97350069735007E-4,
         "concept_code": "254532005",
         "concept_name": "Neoplasm of digestive organ",
         "descendant_concept_id": 4111798
        },
        {
         "ancestor_concept_id": 4134593,
         "base_count": 1,
         "base_prevalence": 6.97350069735007E-4,
         "concept_code": "128284006",
         "concept_name": "Chronic digestive system disorder",
         "descendant_concept_id": 4134593
        },
        {
         "ancestor_concept_id": 437312,
         "base_count": 1,
         "base_prevalence": 6.97350069735007E-4,
         "concept_code": "131148009",
         "concept_name": "Bleeding",
         "descendant_concept_id": 437312
        },
        {
         "ancestor_concept_id": 4341247,
         "base_count": 1,
         "base_prevalence": 6.97350069735007E-4,
         "concept_code": "236077008",
         "concept_name": "Protracted diarrhea",
         "descendant_concept_id": 4341247
        },
        {
         "ancestor_concept_id": 40481087,
         "base_count": 1,
         "base_prevalence": 6.97350069735007E-4,
         "concept_code": "444814009",
         "concept_name": "Viral sinusitis",
         "descendant_concept_id": 40481087
        },
        {
         "ancestor_concept_id": 4182633,
         "base_count": 1,
         "base_prevalence": 6.97350069735007E-4,
         "concept_code": "366256008",
         "concept_name": "Finding of bowel action",
         "descendant_concept_id": 4182633
        },
        {
         "ancestor_concept_id": 319835,
         "base_count": 1,
         "base_prevalence": 6.97350069735007E-4,
         "concept_code": "42343007",
         "concept_name": "Congestive heart failure",
         "descendant_concept_id": 319835
        },
        {
         "ancestor_concept_id": 4338120,
         "base_count": 1,
         "base_prevalence": 6.97350069735007E-4,
         "concept_code": "88111009",
         "concept_name": "Altered bowel function",
         "descendant_concept_id": 4338120
        },
        {
         "ancestor_concept_id": 4158326,
         "base_count": 1,
         "base_prevalence": 6.97350069735007E-4,
         "concept_code": "271745005",
         "concept_name": "Facial sinus finding",
         "descendant_concept_id": 4158326
        },
        {
         "ancestor_concept_id": 4143250,
         "base_count": 1,
         "base_prevalence": 6.97350069735007E-4,
         "concept_code": "425711007",
         "concept_name": "Mass of colon",
         "descendant_concept_id": 4143250
        },
        {
         "ancestor_concept_id": 75909,
         "base_count": 1,
         "base_prevalence": 6.97350069735007E-4,
         "concept_code": "76069003",
         "concept_name": "Disorder of bone",
         "descendant_concept_id": 75909
        },
        {
         "ancestor_concept_id": 37311947,
         "base_count": 1,
         "base_prevalence": 6.97350069735007E-4,
         "concept_code": "788951001",
         "concept_name": "Hemorrhage of digestive system",
         "descendant_concept_id": 37311947
        },
        {
         "ancestor_concept_id": 4116238,
         "base_count": 1,
         "base_prevalence": 6.97350069735007E-4,
         "concept_code": "255077007",
         "concept_name": "Malignant tumor of digestive organ",
         "descendant_concept_id": 4116238
        },
        {
         "ancestor_concept_id": 4101219,
         "base_count": 1,
         "base_prevalence": 6.97350069735007E-4,
         "concept_code": "300310003",
         "concept_name": "Finding of colon",
         "descendant_concept_id": 4101219
        },
        {
         "ancestor_concept_id": 4132555,
         "base_count": 1,
         "base_prevalence": 6.97350069735007E-4,
         "concept_code": "127331007",
         "concept_name": "Neoplasm by body site",
         "descendant_concept_id": 4132555
        },
        {
         "ancestor_concept_id": 4134586,
         "base_count": 1,
         "base_prevalence": 6.97350069735007E-4,
         "concept_code": "128238001",
         "concept_name": "Chronic heart disease",
         "descendant_concept_id": 4134586
        },
        {
         "ancestor_concept_id": 4028253,
         "base_count": 1,
         "base_prevalence": 6.97350069735007E-4,
         "concept_code": "128348002",
         "concept_name": "Neoplasm of digestive system",
         "descendant_concept_id": 4028253
        },
        {
         "ancestor_concept_id": 443568,
         "base_count": 1,
         "base_prevalence": 6.97350069735007E-4,
         "concept_code": "428905002",
         "concept_name": "Malignant neoplasm of gastrointestinal tract",
         "descendant_concept_id": 443568
        },
        {
         "ancestor_concept_id": 443951,
         "base_count": 1,
         "base_prevalence": 6.97350069735007E-4,
         "concept_code": "32110003",
         "concept_name": "Disorder of anus",
         "descendant_concept_id": 443951
        },
        {
         "ancestor_concept_id": 440059,
         "base_count": 1,
         "base_prevalence": 6.97350069735007E-4,
         "concept_code": "58184002",
         "concept_name": "Recurrent disease",
         "descendant_concept_id": 440059
        },
        {
         "ancestor_concept_id": 80502,
         "base_count": 1,
         "base_prevalence": 6.97350069735007E-4,
         "concept_code": "64859006",
         "concept_name": "Osteoporosis",
         "descendant_concept_id": 80502
        },
        {
         "ancestor_concept_id": 201131,
         "base_count": 1,
         "base_prevalence": 6.97350069735007E-4,
         "concept_code": "74285003",
         "concept_name": "Pelvic mass",
         "descendant_concept_id": 201131
        },
        {
         "ancestor_concept_id": 4101343,
         "base_count": 1,
         "base_prevalence": 6.97350069735007E-4,
         "concept_code": "300358007",
         "concept_name": "Functional finding of gastrointestinal tract",
         "descendant_concept_id": 4101343
        },
        {
         "ancestor_concept_id": 4131598,
         "base_count": 1,
         "base_prevalence": 6.97350069735007E-4,
         "concept_code": "126769007",
         "concept_name": "Neoplasm of intestinal tract",
         "descendant_concept_id": 4131598
        },
        {
         "ancestor_concept_id": 4133974,
         "base_count": 1,
         "base_prevalence": 6.97350069735007E-4,
         "concept_code": "128050000",
         "concept_name": "Neoplasm of abdomen",
         "descendant_concept_id": 4133974
        },
        {
         "ancestor_concept_id": 4266186,
         "base_count": 1,
         "base_prevalence": 6.97350069735007E-4,
         "concept_code": "399981008",
         "concept_name": "Neoplasm and/or hamartoma",
         "descendant_concept_id": 4266186
        },
        {
         "ancestor_concept_id": 4113563,
         "base_count": 1,
         "base_prevalence": 6.97350069735007E-4,
         "concept_code": "300373008",
         "concept_name": "Finding of defecation",
         "descendant_concept_id": 4113563
        },
        {
         "ancestor_concept_id": 4053317,
         "base_count": 1,
         "base_prevalence": 6.97350069735007E-4,
         "concept_code": "124734007",
         "concept_name": "Perineal finding",
         "descendant_concept_id": 4053317
        },
        {
         "ancestor_concept_id": 4028244,
         "base_count": 1,
         "base_prevalence": 6.97350069735007E-4,
         "concept_code": "128292002",
         "concept_name": "Chronic disease of cardiovascular system",
         "descendant_concept_id": 4028244
        },
        {
         "ancestor_concept_id": 4027880,
         "base_count": 1,
         "base_prevalence": 6.97350069735007E-4,
         "concept_code": "128524007",
         "concept_name": "Disorder of colon",
         "descendant_concept_id": 4027880
        },
        {
         "ancestor_concept_id": 4180790,
         "base_count": 1,
         "base_prevalence": 6.97350069735007E-4,
         "concept_code": "363406005",
         "concept_name": "Malignant tumor of colon",
         "descendant_concept_id": 4180790
        },
        {
         "ancestor_concept_id": 4164337,
         "base_count": 1,
         "base_prevalence": 6.97350069735007E-4,
         "concept_code": "399505005",
         "concept_name": "Polyp of large intestine",
         "descendant_concept_id": 4164337
        },
        {
         "ancestor_concept_id": 4247371,
         "base_count": 1,
         "base_prevalence": 6.97350069735007E-4,
         "concept_code": "406122000",
         "concept_name": "Head finding",
         "descendant_concept_id": 4247371
        },
        {
         "ancestor_concept_id": 444031,
         "base_count": 1,
         "base_prevalence": 6.97350069735007E-4,
         "concept_code": "48447003",
         "concept_name": "Chronic heart failure",
         "descendant_concept_id": 444031
        },
        {
         "ancestor_concept_id": 438112,
         "base_count": 1,
         "base_prevalence": 6.97350069735007E-4,
         "concept_code": "55342001",
         "concept_name": "Neoplastic disease",
         "descendant_concept_id": 438112
        },
        {
         "ancestor_concept_id": 4339410,
         "base_count": 1,
         "base_prevalence": 6.97350069735007E-4,
         "concept_code": "88230002",
         "concept_name": "Disorder of skeletal system",
         "descendant_concept_id": 4339410
        },
        {
         "ancestor_concept_id": 4054501,
         "base_count": 1,
         "base_prevalence": 6.97350069735007E-4,
         "concept_code": "126637008",
         "concept_name": "Neoplasm of trunk",
         "descendant_concept_id": 4054501
        },
        {
         "ancestor_concept_id": 4054503,
         "base_count": 1,
         "base_prevalence": 6.97350069735007E-4,
         "concept_code": "126643005",
         "concept_name": "Neoplasm of intra-abdominal organs",
         "descendant_concept_id": 4054503
        },
        {
         "ancestor_concept_id": 4130995,
         "base_count": 1,
         "base_prevalence": 6.97350069735007E-4,
         "concept_code": "126838000",
         "concept_name": "Neoplasm of colon",
         "descendant_concept_id": 4130995
        }
       ],
       "_css": "/* PAGE LAYOUT */\n\n.vis-container {\n    /*display: flex;*/\n    /*flex-direction: column;*/\n    align-items: center;\n    width: 100%;\n    /*height: 432px; !* match concepts-row height *!*/\n    overflow: visible; /* hide outer vertical scrollbar */\n}\n\n.row-container {\n    display: flex;\n    justify-content: space-around;\n    width: 100%;\n    height: auto;\n    overflow: hidden;\n    /*margin-bottom: 5px;*/\n}\n\n.col-container {\n    flex: 1;\n    margin: 5px;\n    border: 1px solid black;\n    width: 100%;\n}\n\n/* BAR CHART */\n\n/* overall barchart size */\n.barchart{\n    font-family: sans-serif;\n    font-size: 12px;\n    width: 100%;  /* allows resize to fit the page*/\n    height: auto;\n}\n\n/* BAR CHART STYLES */\n\n/* bars */\n.bar1 {\n    fill: steelblue;\n}\n.bar2 {\n    fill: orange;\n}\n/* axis labels */\n.axis-label {\n    font-family: sans-serif;\n    font-size: 14px;\n}\n/* lines and tick marks */\n.axis path,\n.axis line {\n    fill: none;\n    stroke: black;\n    shape-rendering: crispEdges;\n}\n/* axis text */\n.axis text {\n    font-family: sans-serif;\n    font-size: 14px;\n}\n\n/* CONCEPTS TABLE */\n\n.concepts-row {\n    width: 100%;\n    height: 100%; /* fill vis-container height */\n}\n\n.div-concepts-table-body {\n    margin-top: 0;\n    overflow-y: auto;\n    overflow-x: auto;\n    background-color: #f9f9f9;\n}\n\n.table-body-wrapper {\n    overflow: auto;\n    max-height: 370px; /* header height removed */\n}\n\n.full-width {\n    width: 100%;\n}",
       "_esm": "import * as d3 from 'https://esm.sh/d3@7';\n\n// function initialize({ model }) {\n//     // Set up shared state or event handlers.\n//     return () => {\n//       // Optional: Called when the widget is destroyed.\n//     }\n// } // end initialize\n\nfunction render({ model, el }) {\n    // for testing\n    // alert('hello');\n\n    // DISPATCHERS\n\n    // for handling the concepts table\n    let conceptsTableDispatcher = d3.dispatch('filter','sort');\n\n\n    // <editor-fold desc=\"---------- UTILITY FUNCTIONS ----------\"\n\n    // clears an element\n    function clearElement(element) {\n        element.selectAll('*').remove();\n    }\n\n    // converts timestamp to formatted date 'YYYY-MM-DD'\n    function getIsoDateString(timestamp) {\n        let aDate = new Date(timestamp);\n        return aDate.toISOString().split('T')[0];\n    }\n\n    // converts keys to readable words by:\n    // 1. replacing the underscore with a space, and\n    // 2. capitalizing the first letter of each word\n    function makeKeysWords (keys) {\n        return keys.map(key => {\n            return key.split('_')\n                .map(part => part.charAt(0).toUpperCase() + part.slice(1))\n                .join(' ');\n        });\n    }\n    // </editor-fold>\n\n    // <editor-fold desc=\"---------- DEFINE DATA ----------\">\n\n    var concepts1 = model.get('_concepts1');\n    var race_stats1 = model.get('_race_stats1');\n    var gender_dist1 = model.get('_gender_dist1');\n    var age_dist1 = model.get('_age_dist1');\n\n    var concepts2 = model.get('_concepts2');\n    var race_stats2 = model.get('_race_stats2');\n    var gender_dist2 = model.get('_gender_dist2');\n    var age_dist2 = model.get('_age_dist2');\n\n    // </editor-fold>\n\n    // <editor-fold desc=\"---------- VISUAL CONTROL FUNCTIONS ----------\">\n\n    /*\n* draws a search box\n* Parameters:\n*   containerId: type: string - prepended id of container where the control is to be rendered.\n*   dispatch: d3.dispatch instance - user input event handler\n*   label: type: string - label for the control\n*   width: type: string - the width of the input box in pixels\n*   data: type: list of objects - each object should have the keys display (string),\n*                                        and data (anything needed to handle the selection\n*   handleSearch: type: function - callback\n* Return:\n*   div: DOM div element containing input box\n*/\n    function SearchBox(dispatch, label='Search', width=300) {\n        let div = d3.create(\"xhtml:div\")\n            .attr(\"xmlns\", \"http://www.w3.org/1999/xhtml\")\n            .style(\"padding\", \"10px\");\n\n        let input = div.append('input')\n            .attr('type', 'text')\n            .attr('placeholder', label);\n\n        input.on('input', function (event) {\n            dispatch.call('filter', this, event.target.value);  // dispatch filter event\n        });\n\n        return div;\n    }\n\n    // </editor-fold>\n\n    // <editor-fold desc=\"---------- VERTICAL BAR CHART FUNCTIONS ----------\">\n\n    function VerticalBarChart(\n        series1,  // required\n        {\n            series2 = { data: null, name: \"cohort 2\" },   // default object\n            dimensions: {\n                xlabel = \"\",\n                ylabel = \"\",\n                title = \"\",\n                width = 600,\n                height = 400,\n                margin = { top: 40, right: 10, bottom: 60, left: 80 },\n                padding = 0.1\n            } = {}\n        } = {}  // default for options object\n    ) {\n        // validate series1\n        if (!series1 || !series1.data) {\n            throw new Error(\"SvgVerticalBarChart requires series1 with a 'data' property.\");\n        }\n\n        // default series1 name if missing\n        if (!series1.name){\n            series1.name = \"cohort 1\";\n        }\n\n        let svg = d3.create('svg')\n            .attr('class', 'barchart')\n            .attr('width', width)\n            .attr('height', height)\n            .attr('viewBox', `0 0 ${width} ${height}`)\n            .attr('preserveAspectRatio', 'xMidYMid meet');\n\n        // Combine data for scales\n        const combinedData = series2.data ? series1.data.concat(series2.data) : series1.data;\n\n        // Set up scales\n        const xScale = d3.scaleBand(series1.data.map(d => d.category),\n            [margin.left, width - margin.right])\n            .padding(padding);\n\n        const yScale = d3.scaleLinear([0, d3.max(combinedData, d => d.value)],\n            [height - margin.bottom, margin.top])\n            .nice();\n\n        // Add X-axis\n        svg.append('g')\n            .attr('transform', `translate(0, ${height - margin.bottom})`)\n            .call(d3.axisBottom(xScale))\n            .attr('class', 'axis');\n        // .selectAll('text')\n        // .attr('transform', 'rotate(-45)')\n        // .style('text-anchor', 'end');\n\n        // x-axis label\n        svg.append('text')\n            .attr('class', 'axis-label')\n            .attr('x', width / 2)\n            .attr('y', height - 20)\n            .style('text-anchor', 'middle')\n            .text(xlabel);\n\n        // Add Y-axis\n        svg.append('g')\n            .attr('transform', `translate(${margin.left}, 0)`)\n            .call(d3.axisLeft(yScale))\n            .attr('class', 'axis');\n\n        // y-axis label\n        svg.append('text')\n            .attr('class', 'axis-label')\n            .attr('transform', 'rotate(-90)')\n            .attr('x', height / 2 * -1)\n            .attr('y', 20)\n            .attr('text-anchor', 'middle')\n            .text(ylabel);\n\n        if (title === '' && xlabel !== ''){\n            title = xlabel + ' Distribution';\n        }\n\n        svg.append('text')\n            .attr('class', 'chart-title')\n            .attr('text-anchor', 'middle')\n            .attr('x', width / 2)\n            .attr('y', margin.top / 2)\n            .text(title);\n\n        // console.log(xScale.bandwidth());\n\n        // series 1 bars\n        svg.selectAll('.bar1')\n            .data(series1.data)\n            .enter()\n            .append('rect')\n            .attr('class', 'bar1')\n            .attr('x', d => xScale(d.category))\n            .attr('y', d => yScale(d.value))\n            .attr('width', xScale.bandwidth())\n            .attr('height', d => height - margin.bottom - yScale(d.value));\n\n\n        if (series2.data && series2.data.length > 0) {\n            // series 2 data bars\n            svg.selectAll('.bar2')\n                .data(series2.data)\n                .enter()\n                .append('rect')\n                .attr('class', 'bar2')\n                .attr('x', d => xScale(d.category) + xScale.bandwidth() / 2)\n                .attr('y', d => yScale(d.value))\n                .attr('width', xScale.bandwidth() / 2)\n                .attr('height', d => height - margin.bottom - yScale(d.value));\n\n            // Add labels for series 2 data\n            svg.selectAll('.label2')\n                .data(series2.data)\n                .enter()\n                .append('text')\n                .attr('class', 'label2')\n                .attr('x', d => xScale(d.category) + xScale.bandwidth() / 2 + 25)\n                .attr('y', d => yScale(d.value) - 5)\n                .attr('text-anchor', 'middle')\n                .text(d => d.value);\n\n            // labels for series 1 data if there are 2 datasets\n            svg.selectAll('.label1')\n                .data(series1.data)\n                .enter()\n                .append('text')\n                .attr('class', 'label1')\n                .attr('x', d => xScale(d.category) + xScale.bandwidth() / 2 - xScale.bandwidth() / 4)\n                .attr('y', d => yScale(d.value) - 5)\n                .attr('text-anchor', 'middle')\n                .text(d => d.value);\n\n            // only show legend if there are 2 datasets\n            const legendData = [\n                { label: series1.name, color: 'steelblue' },\n                { label: series2.name, color: 'orange' }\n            ];\n\n            const legend = svg.append('g')\n                .attr('class', 'legend')\n                .attr('transform', `translate(${margin.left}, ${height - 20})`);\n\n            legend.selectAll('rect')\n                .data(legendData)\n                .enter()\n                .append('rect')\n                .attr('x', (d, i) => i * 100) // Adjust spacing as needed\n                .attr('y', 0)\n                .attr('width', 18)\n                .attr('height', 18)\n                .attr('fill', d => d.color);\n\n            legend.selectAll('text')\n                .data(legendData)\n                .enter()\n                .append('text')\n                .attr('x', (d, i) => i * 100 + 24) // Adjust spacing as needed\n                .attr('y', 9)\n                .attr('dy', '0.35em')\n                .text(d => d.label);\n        }\n        else{\n            // labels for series 1 data if there is 1 dataset\n            svg.selectAll('.label1')\n                .data(series1.data)\n                .enter()\n                .append('text')\n                .attr('class', 'label1')\n                .attr('x', d => xScale(d.category) + xScale.bandwidth() / 2 + 5)\n                .attr('y', d => yScale(d.value) - 5)\n                .attr('text-anchor', 'middle')\n                .text(d => d.value);\n        }\n\n        return svg;\n    }\n\n    // </editor-fold>\n\n    // <editor-fold desc=\"---------- CONCEPTS TABLE FUNCTIONS ----------\">\n\n    function prepareConceptsCompareData(concepts1, concepts2) {\n\n        // console.log(`Concepts1: ${JSON.stringify(concepts1)}`);\n        // console.log(`Concepts2: ${JSON.stringify(concepts2)}`);\n\n        // function hellingerDistance(P, Q) {\n        //     if (P.length !== Q.length) {\n        //         throw new Error(\"The distributions must have the same length.\");\n        //     }\n        //\n        //     let sum = 0;\n        //     for (let i = 0; i < P.length; i++) {\n        //         sum += Math.pow(Math.sqrt(P[i]) - Math.sqrt(Q[i]), 2);\n        //     }\n        //\n        //     return (1 / Math.sqrt(2)) * Math.sqrt(sum);\n        // }\n\n        let mergedList = concepts1.map(item1 => {\n            const item2 = concepts2.find(item => item.concept_code === item1.concept_code);\n            return Object.assign({}, item1, item2);\n        });\n\n        // Add a key-value pair based on a calculation (e.g., double the age)\n        mergedList = mergedList.map(item => {\n            item.difference = (item.study_prevalence ?? 0) - (item.base_prevalence ?? 0);\n\n            // item.bias = hellingerDistance(item.study_prevalence, item.base_prevalence);\n            item.bias = Math.abs(item.difference);\n            delete item.study_count;\n            delete item.base_count;\n            delete item.ancestor_concept_id;\n            delete item.descendant_concept_id;\n            return item;\n        });\n\n        const order = ['concept_code', 'concept_name', 'base_prevalence', 'difference', 'study_prevalence', 'bias'];\n\n        mergedList = mergedList.map(item => {\n            const rearrangedItem = {};\n            order.forEach(key => {\n                if (item.hasOwnProperty(key)) {\n                    rearrangedItem[key] = item[key];\n                }\n            });\n            return rearrangedItem;\n        });\n\n        mergedList.sort((a, b) => b.bias - a.bias);\n\n        // console.log(mergedList);\n\n        return mergedList;\n    }\n\n    function handleFilterConceptsTable(dispatch, row, body_svg) {\n        dispatch.on(\"filter\", search_term => {\n            const normalized = search_term.toLowerCase().replace(/[^a-z0-9]/g, \"\");\n            row.style(\"display\", null);\n            row.filter(d => {\n                const code = d.concept_code.toLowerCase();\n                const name = d.concept_name.toLowerCase().replace(/[^a-z0-9]/g, \"\");\n                return !(code.startsWith(normalized) || name.includes(normalized));\n            }).style(\"display\", \"none\");\n\n            // Recompute Y positions for visible rows\n            let yOffset = 0;\n            row.filter(function () {\n                return d3.select(this).style(\"display\") !== \"none\";\n            })\n                .each(function () {\n                    d3.select(this).attr(\"transform\", `translate(0, ${yOffset})`);\n                    yOffset += parseFloat(d3.select(this).select(\"rect\").attr(\"height\"));\n                });\n            body_svg.attr(\"height\", yOffset);\n        });\n    }\n\n    function ConceptsTable(data, dispatch,\n                           {data2 = null,\n                               dimensions = { height: 432, row_height: 30 }} = {}){\n        // ==== Validation for required params ====\n        if (data === null) {\n            throw new Error(\"drawConceptsTable requires a 'data' parameter.\");\n        }\n\n        if (\n            !dispatch ||\n            typeof dispatch !== \"object\" ||\n            typeof dispatch.call !== \"function\" ||\n            typeof dispatch.on !== \"function\"\n        ) {\n            throw new Error(\"drawConceptsTable requires a valid d3.dispatch object.\");\n        }\n\n        // ==== Validate optional params ====\n        if (data2 !== null && !Array.isArray(data2)) {\n            console.warn(\"drawConceptsTable: 'data2' should be an array (or null).\");\n        }\n\n        if (typeof dimensions !== \"object\" || dimensions === null) {\n            throw new Error(\"drawConceptsTable: 'dimensions' must be an object.\");\n        }\n\n        let table_data;\n        if (data2 !== null) {\n            table_data = prepareConceptsCompareData(data, data2);\n        } else {\n            table_data = data;\n        }\n\n        const text_offset_x = 10;\n        const { height, row_height } = dimensions;\n\n        // === container with scroll ===\n        const container = d3.create(\"div\")\n            .style(\"width\", \"100%\")\n            .style(\"max-height\", height + \"px\")\n            .style(\"overflow\", \"auto\")\n            .style(\"position\", \"relative\")\n            .style(\"border\", \"1px solid #ccc\")\n            .style(\"font-family\", \"sans-serif\");\n\n        // === HEADERS ===\n\n        const headers_text = makeKeysWords(Object.keys(table_data[0]));\n        if (!table_data.length) {\n            throw new Error(\"drawConceptsTable: table_data is empty.\");\n        }\n\n        // TODO: I have assumed a maximum drawing area width of about 1070px. We may need to change this so that we get\n        //       the available canvas size and dynamically resize the visualization accordingly.\n        let columns_data;\n        if(data2 === null){\n            columns_data = [\n                { text: headers_text[1], field: \"concept_code\", x: 0, width: 160 },\n                { text: headers_text[0], field: \"concept_name\", x: 160, width: 590 },\n                { text: headers_text[2], field: \"count_in_cohort\", x: 750, width: 160 },\n                { text: headers_text[3],\n                    field: d => (d.prevalence !== null ? d.prevalence.toFixed(3) : \"\"), x: 910, width: 160 }\n            ];\n        }\n        else{\n            columns_data = [\n                { text: headers_text[0], field: \"concept_code\", x: 0, width: 140, type: 'text' },\n                { text: headers_text[1], field: \"concept_name\", x: 140, width: 330, type: 'text' },\n                { text: headers_text[2],\n                    field: d => (d.base_prevalence !== null ? d.base_prevalence.toFixed(3) : \"\"),\n                    x: 470, width: 120, type: 'text' },\n                { text: headers_text[3], field: \"difference\", x: 590, width: 240, type: 'compare_bars' },\n                { text: headers_text[4],\n                    field: d => (d.study_prevalence !== null ? d.study_prevalence.toFixed(3) : \"\"),\n                    x: 830, width: 120, type: 'text' },\n                { text: headers_text[5], field: \"bias\", x: 950, width: 120, type: 'bar' }\n            ];\n        }\n\n        const total_table_width = d3.sum(columns_data, d => d.width);\n\n        const headers_svg = container.append(\"svg\")\n            .attr(\"width\", total_table_width)\n            .attr(\"height\", row_height)\n            .style(\"position\", \"sticky\")\n            .style(\"top\", 0)\n            .style(\"background\", \"white\")\n            .style(\"z-index\", 1);\n\n        const headers_g = headers_svg.append(\"g\");\n\n        const header_g = headers_g.selectAll(\"g\")\n            .data(columns_data)\n            .enter()\n            .append(\"g\")\n            .attr(\"transform\", d => `translate(${d.x},0)`);\n\n        header_g.append(\"rect\")\n            .attr(\"width\", d => d.width)\n            .attr(\"height\", row_height)\n            .attr(\"fill\", \"#d0d0d0\")\n            .attr(\"stroke\", \"#fff\");\n\n        header_g.append(\"text\")\n            .attr(\"x\", text_offset_x)\n            .attr(\"y\", row_height / 2)\n            .attr(\"dy\", \"0.35em\")\n            .attr(\"text-anchor\", \"start\")\n            .text(d => d.text);\n\n        // === Column resizing handle ===\n        header_g.append(\"rect\")\n            .attr(\"class\", \"resize-handle\")\n            .attr(\"x\", d => d.width - 5)\n            .attr(\"y\", 0)\n            .attr(\"width\", 5)\n            .attr(\"height\", row_height)\n            .style(\"cursor\", \"col-resize\")\n            .style(\"fill\", \"transparent\")\n            .call(d3.drag()\n                .on(\"start\", function(event, d) {\n                    d.startWidth = d.width;       // store starting width\n                    d.startX = event.x;           // store starting mouse X\n                })\n                .on(\"drag\", function(event, d) {\n                    const dx = event.x - d.startX;           // change in mouse X\n                    const newWidth = Math.max(30, d.startWidth + dx); // minimum width 30\n                    d.width = newWidth;\n\n                    // Update header rect\n                    d3.select(this.parentNode).select(\"rect\").attr(\"width\", newWidth);\n                    // Update resize handle position\n                    d3.select(this).attr(\"x\", newWidth - 5);\n\n                    // Recalculate x positions for all columns after this one\n                    let x = 0;\n                    columns_data.forEach(col => {\n                        col.x = x;\n                        x += col.width;\n                    });\n\n                    // Update header positions\n                    headers_g.selectAll(\"g\").attr(\"transform\", col => `translate(${col.x},0)`);\n\n                    // Update body cell positions and widths\n                    body_svg.selectAll(\".row\").each(function(row_data) {\n                        d3.select(this).selectAll(\".cell\")\n                            .attr(\"transform\", (c, i) => `translate(${columns_data[i].x},0)`)\n                            .select(\".cell_bg\")\n                            .attr(\"width\", (c, i) => columns_data[i].width);\n                    });\n\n                    // Update body and header SVG width\n                    const totalWidth = d3.sum(columns_data, c => c.width);\n                    body_svg.attr(\"width\", totalWidth);\n                    headers_svg.attr(\"width\", totalWidth);\n                })\n            );\n\n        // === BODY ===\n\n        const body_svg = container.append(\"svg\")\n            .attr(\"width\", total_table_width)\n            .attr(\"height\", table_data.length * row_height);\n\n        const rows_g = body_svg.append(\"g\");\n\n        const row = rows_g.selectAll(\".row\")\n            .data(table_data)\n            .enter()\n            .append(\"g\")\n            .attr(\"class\", \"row\")\n            .attr(\"transform\", (d, i) => `translate(0, ${i * row_height})`);\n\n        let max_bias, max_diff, margin = 5;\n        if (data2 !== null) {\n            max_bias = d3.max(table_data, d => Math.abs(d.bias)) || 0;\n            max_diff = d3.max(table_data, d => Math.abs(d.difference)) || 0;\n        }\n\n        const biasScale = d3.scaleLinear();\n        const barScale = d3.scaleLinear();\n        let zeroX, g, outerHeight, innerY, innerH;\n\n        // per-row, per-column cells\n        columns_data.forEach(col => {\n            const cell = row.append(\"g\")\n                .attr(\"class\", \"cell\")\n                .attr(\"transform\", `translate(${col.x},0)`);\n\n            cell.append(\"rect\")\n                .attr(\"class\", \"cell-bg\")\n                .attr(\"width\", col.width)\n                .attr(\"height\", row_height)\n                .attr(\"fill\", \"#f0f0f0\")\n                .attr(\"stroke\", \"#ccc\");\n\n            if (data2 === null) {\n                cell.append(\"text\")\n                    .attr(\"x\", text_offset_x)\n                    .attr(\"y\", row_height / 2)\n                    .attr(\"dy\", \"0.35em\")\n                    .attr(\"text-anchor\", \"start\")\n                    .text(row_data => {\n                        const val = typeof col.field === \"function\" ? col.field(row_data) : row_data[col.field];\n                        return val !== null ? val : \"\";\n                    });\n            } else {\n                switch (col.type) {\n                    case \"text\":\n                        cell.append(\"text\")\n                            .attr(\"x\", text_offset_x)\n                            .attr(\"y\", row_height / 2)\n                            .attr(\"dy\", \"0.35em\")\n                            .attr(\"text-anchor\", \"start\")\n                            .text(row_data => {\n                                const val = typeof col.field === \"function\" ? col.field(row_data) : row_data[col.field];\n                                return val !== null ? val : \"\";\n                            });\n                        break;\n\n                    case \"bar\":\n                        biasScale\n                            .domain([0, max_bias || 1])\n                            .range([margin, col.width - margin]);  // full available space inside cell\n\n                        cell.each(function (row_data) {\n                            g = d3.select(this);\n                            outerHeight = row_height;\n                            innerY = margin;\n                            innerH = outerHeight - 2 * margin;\n\n                            // Bar: left-aligned, scaled to bias value\n                            g.append(\"rect\")\n                                .attr(\"x\", 0)\n                                .attr(\"y\", innerY)\n                                .attr(\"width\", biasScale(Math.abs(row_data.bias)))\n                                .attr(\"height\", innerH)\n                                .attr(\"fill\", \"lightslategrey\");\n\n                            // Text: show the bias value\n                            g.append(\"text\")\n                                .attr(\"x\", 4)  // small left inset\n                                .attr(\"y\", outerHeight / 2 + 4)\n                                .attr(\"font-size\", \"10px\")\n                                .attr(\"fill\", \"black\")\n                                .text(row_data.bias !== null ? row_data.bias.toFixed(3) : \"\");\n                        });\n                        break;\n\n                    case \"compare_bars\":\n                        barScale\n                            .domain([-max_diff || -1, max_diff || 1])\n                            .range([margin, col.width - margin]);  // full available space inside cell\n\n                        zeroX = barScale(0);\n\n                        cell.each(function (row_data) {\n                            g = d3.select(this);\n                            outerHeight = row_height;\n                            innerY = 5;\n                            innerH = outerHeight - 2 * margin;\n\n                            // Bar\n                            g.append(\"rect\")\n                                .attr(\"x\", Math.min(zeroX, barScale(row_data.difference)))\n                                .attr(\"y\", innerY)\n                                .attr(\"width\", Math.abs(barScale(row_data.difference) - zeroX))\n                                .attr(\"height\", innerH)\n                                .attr(\"fill\", row_data.difference < 0 ? \"orange\" : \"steelblue\");\n\n                            // Text label\n                            g.append(\"text\")\n                                .attr(\"x\", zeroX)\n                                .attr(\"y\", row_height / 2 + 4)\n                                .attr(\"text-anchor\", \"middle\")\n                                .attr(\"font-size\", \"10px\")\n                                .text(row_data.difference !== null ? row_data.difference.toFixed(3) : \"\");\n\n                        });\n                        break;\n\n                    default:\n                        throw new Error(`Unknown column type: ${col.type}`);\n                }\n            }\n        });\n\n        handleFilterConceptsTable(dispatch, row, body_svg);\n\n        return container;\n    }\n    // </editor-fold>\n\n    // <editor-fold desc=\"---------- PAGE LAYOUT ----------\">\n\n    // overall container\n    let vis_container = document.createElementNS('http://www.w3.org/1999/xhtml', 'div');\n    vis_container.setAttribute('class', 'vis-container');\n\n    // demographics container row\n    let demographics_row = vis_container.appendChild(document.createElement('div'));\n    demographics_row.setAttribute('class', 'row-container');\n    // gender container\n    let div_gender = demographics_row.appendChild(document.createElement('div'));\n    div_gender.setAttribute('class', 'col-container');\n    // race container\n    let div_race = demographics_row.appendChild(document.createElement('div'));\n    div_race.setAttribute('class', 'col-container');\n    // age container\n    let div_age = demographics_row.appendChild(document.createElement('div'));\n    div_age.setAttribute('class', 'col-container');\n\n    // concepts container row\n    let concepts_row = vis_container.appendChild(document.createElement('div'));\n    concepts_row.setAttribute('class', 'row-container concepts-row');\n    // concepts container\n    let div_concepts_container = concepts_row.appendChild(document.createElement('div'));\n    div_concepts_container.setAttribute('class', 'col-container');\n\n    // </editor-fold>\n\n    // <editor-fold desc=\"---------- INSERT THE VISUALIZATIONS ----------\">\n\n    // draw the gender barchart\n    div_gender.appendChild(\n        VerticalBarChart({data: gender_dist1},\n            {series2: {data: gender_dist2}, dimensions: {xlabel: 'Gender'}}).node());\n\n    // draw the race barchart\n    div_race.appendChild(\n        VerticalBarChart({data: race_stats1},\n            {series2: {data: race_stats2}, dimensions: {xlabel: 'Race'}}).node());\n\n    // draw the age barchart\n    div_age.appendChild(\n        VerticalBarChart({data: age_dist1},\n            {series2: {data: age_dist2}, dimensions: {xlabel: 'Age'}}).node());\n\n    // draw the concepts table search box\n    div_concepts_container.appendChild(\n        SearchBox(conceptsTableDispatcher).node());\n\n    // if there is only one set of concepts, draw a single cohort concepts table\n    if(Object.keys(concepts2).length === 0) {\n        // draw the concepts table\n        div_concepts_container.appendChild(\n            ConceptsTable(concepts1, conceptsTableDispatcher).node());\n    }\n    else{\n        div_concepts_container.appendChild(\n            ConceptsTable(concepts1, conceptsTableDispatcher,{data2: concepts2}).node());\n    }\n\n    // attach the visualization to the AnyWidget element\n    el.appendChild(vis_container);\n\n    // </editor-fold>\n\n    // return () => {\n    //   // Optional: Called when the view is destroyed.\n    // }\n\n} // end render\n\n// export default async () => {\n//   let extraState = {};\n//   return {\n//     initialize({ model }) { /* ... */ },\n//     render({ model, el }) { /* ... */ },\n//   }\n// }\n\nexport default { render };\n",
       "_gender_dist1": [
        {
         "category": "female",
         "probability": 0,
         "value": 0
        },
        {
         "category": "male",
         "probability": 100,
         "value": 798
        },
        {
         "category": "other",
         "probability": 0,
         "value": 0
        }
       ],
       "_gender_dist2": [
        {
         "category": "female",
         "probability": 40.93,
         "value": 587
        },
        {
         "category": "male",
         "probability": 59.07,
         "value": 847
        },
        {
         "category": "other",
         "probability": 0,
         "value": 0
        }
       ],
       "_model_module": "anywidget",
       "_model_module_version": "~0.9.*",
       "_model_name": "AnyModel",
       "_race_stats1": [
        {
         "category": "Other",
         "probability": 0.01,
         "value": 5
        },
        {
         "category": "Asian",
         "probability": 0.09,
         "value": 73
        },
        {
         "category": "Black or African American",
         "probability": 0.07,
         "value": 59
        },
        {
         "category": "White",
         "probability": 0.83,
         "value": 661
        }
       ],
       "_race_stats2": [
        {
         "category": "Other",
         "probability": 0.01,
         "value": 8
        },
        {
         "category": "Asian",
         "probability": 0.08,
         "value": 121
        },
        {
         "category": "Black or African American",
         "probability": 0.08,
         "value": 110
        },
        {
         "category": "White",
         "probability": 0.83,
         "value": 1195
        }
       ],
       "_view_module": "anywidget",
       "_view_module_version": "~0.9.*",
       "_view_name": "AnyView",
       "initialized": true,
       "layout": "IPY_MODEL_d243aebcaf3e4c27882cf3fbefd9c6ca"
      }
     },
     "f14243257a4b410e843256f1aeae9a4d": {
      "model_module": "@jupyter-widgets/controls",
      "model_module_version": "2.0.0",
      "model_name": "HTMLStyleModel",
      "state": {
       "description_width": "",
       "font_size": null,
       "text_color": null
      }
     },
     "f413437e8a8e4fbaa142f49fea4ebb70": {
      "model_module": "@jupyter-widgets/controls",
      "model_module_version": "2.0.0",
      "model_name": "HBoxModel",
      "state": {
       "children": [
        "IPY_MODEL_8b6bb9c6df7f42f094d63e59fce67dee",
        "IPY_MODEL_5799ba50e07f4670b7a83d6f87816997",
        "IPY_MODEL_229aff5dc71a419abc1dac8f93040b0a"
       ],
       "layout": "IPY_MODEL_1af2906ec7064692982448093d140013"
      }
     },
     "f730d2ea9583472e9477d3caa170e32f": {
      "model_module": "@jupyter-widgets/base",
      "model_module_version": "2.0.0",
      "model_name": "LayoutModel",
      "state": {}
     },
     "ff385d4e5b214006908c34fd02fbc5b2": {
      "model_module": "@jupyter-widgets/controls",
      "model_module_version": "2.0.0",
      "model_name": "HTMLModel",
      "state": {
       "layout": "IPY_MODEL_f730d2ea9583472e9477d3caa170e32f",
       "style": "IPY_MODEL_b2b3690c5a8d43e88cbfbf9337df64c9",
       "value": "Cohort creation: 100%"
      }
     }
    },
    "version_major": 2,
    "version_minor": 0
   }
  }
 },
 "nbformat": 4,
 "nbformat_minor": 5
}
