{
 "cells": [
  {
   "cell_type": "code",
   "execution_count": 1,
   "id": "6407f66210c614f",
   "metadata": {
    "ExecuteTime": {
     "end_time": "2025-08-28T00:50:42.696416Z",
     "start_time": "2025-08-28T00:50:28.561289Z"
    }
   },
   "outputs": [
    {
     "name": "stdout",
     "output_type": "stream",
     "text": [
      "configuration specified in config.yaml loaded successfully\n",
      "Connected to the OMOP CDM database (read-only).\n",
      "Cohort Definition table created.\n",
      "Cohort table created.\n"
     ]
    }
   ],
   "source": [
    "from CohortWidget import *\n",
    "from biasanalyzer.api import BIAS\n",
    "\n",
    "# initialize BIAS and connect to the database\n",
    "bias = BIAS()\n",
    "bias.set_config(\"config.yaml\")\n",
    "bias.set_root_omop()"
   ]
  },
  {
   "cell_type": "code",
   "execution_count": 2,
   "id": "e005c2b255a8e001",
   "metadata": {
    "ExecuteTime": {
     "end_time": "2025-08-28T00:50:44.690338Z",
     "start_time": "2025-08-28T00:50:42.743973Z"
    }
   },
   "outputs": [
    {
     "name": "stdout",
     "output_type": "stream",
     "text": [
      "template_path: C:\\Users\\viola\\.conda\\envs\\biasanalyzer\\Lib\\site-packages\\biasanalyzer\\sql_templates, cohort_creation: True\n"
     ]
    },
    {
     "data": {
      "application/vnd.jupyter.widget-view+json": {
       "model_id": "c8e9c2ee478c4daf981d114fdbd66671",
       "version_major": 2,
       "version_minor": 0
      },
      "text/plain": [
       "Cohort creation:   0%|          | 0/3 [00:00<?, ?stage/s]"
      ]
     },
     "metadata": {},
     "output_type": "display_data"
    },
    {
     "name": "stdout",
     "output_type": "stream",
     "text": [
      "configuration specified in ./yaml\\study1.yaml loaded successfully\n",
      "Cohort definition inserted successfully.\n",
      "Cohort Heart failure patients successfully created.\n",
      "template_path: C:\\Users\\viola\\.conda\\envs\\biasanalyzer\\Lib\\site-packages\\biasanalyzer\\sql_templates, cohort_creation: False\n",
      "cohort created successfully\n"
     ]
    }
   ],
   "source": [
    "import os\n",
    "\n",
    "COHORT_CREATION_YAML_PATH = './yaml'\n",
    "\n",
    "# create a study cohort (def create_cohort(self, cohort_name, cohort_desc, query_or_yaml_file, created_by))\n",
    "study_cohort = bias.create_cohort('Heart failure patients',\n",
    "                                  'Heart failure patients for the study cohort',\n",
    "                                   os.path.join(COHORT_CREATION_YAML_PATH, 'study1.yaml'),\n",
    "                                   'system')"
   ]
  },
  {
   "cell_type": "code",
   "execution_count": null,
   "id": "1291c6acc150b2ff",
   "metadata": {
    "ExecuteTime": {
     "end_time": "2025-08-28T00:51:00.409985Z",
     "start_time": "2025-08-28T00:50:59.521988Z"
    }
   },
   "outputs": [],
   "source": [
    "# create a baseline cohort (def create_cohort(self, cohort_name, cohort_desc, query_or_yaml_file, created_by))\n",
    "baseline_cohort = bias.create_cohort('Heart failure patients baseline',\n",
    "                                     'Heart failure patients for the baseline cohort',\n",
    "                                     os.path.join(COHORT_CREATION_YAML_PATH, 'baseline.yaml'),\n",
    "                                     'system')"
   ]
  },
  {
   "cell_type": "code",
   "execution_count": 3,
   "id": "b831993d614e53e1",
   "metadata": {
    "ExecuteTime": {
     "start_time": "2025-08-28T00:51:01.928003Z"
    },
    "jupyter": {
     "is_executing": true
    }
   },
   "outputs": [
    {
     "data": {
      "application/vnd.jupyter.widget-view+json": {
       "model_id": "42c9adcf037d481d80b6c3308fe0a657",
       "version_major": 2,
       "version_minor": 0
      },
      "text/plain": [
       "FloatProgress(value=0.0, layout=Layout(width='auto'), style=ProgressStyle(bar_color='black'))"
      ]
     },
     "metadata": {},
     "output_type": "display_data"
    },
    {
     "data": {
      "application/vnd.jupyter.widget-view+json": {
       "model_id": "1dd33a241d944b0d94c148fcc6b69f65",
       "version_major": 2,
       "version_minor": 0
      },
      "text/plain": [
       "FloatProgress(value=0.0, layout=Layout(width='auto'), style=ProgressStyle(bar_color='black'))"
      ]
     },
     "metadata": {},
     "output_type": "display_data"
    },
    {
     "data": {
      "application/vnd.jupyter.widget-view+json": {
       "model_id": "a172f19ad73e4d31b8309e9c4f9e8e65",
       "version_major": 2,
       "version_minor": 0
      },
      "text/plain": [
       "FloatProgress(value=0.0, layout=Layout(width='auto'), style=ProgressStyle(bar_color='black'))"
      ]
     },
     "metadata": {},
     "output_type": "display_data"
    },
    {
     "name": "stdout",
     "output_type": "stream",
     "text": [
      "cohort concept hierarchy for condition_occurrence with root concept ids []:\n"
     ]
    },
    {
     "data": {
      "application/vnd.jupyter.widget-view+json": {
       "model_id": "b4082701bd1749809577331eaf0671ed",
       "version_major": 2,
       "version_minor": 0
      },
      "text/plain": [
       "FloatProgress(value=0.0, layout=Layout(width='auto'), style=ProgressStyle(bar_color='black'))"
      ]
     },
     "metadata": {},
     "output_type": "display_data"
    },
    {
     "data": {
      "application/vnd.jupyter.widget-view+json": {
       "model_id": "a65c4a4a2b774f889e9010b1874d3762",
       "version_major": 2,
       "version_minor": 1
      },
      "text/plain": [
       "CohortWidget(initialized=True)"
      ]
     },
     "execution_count": 3,
     "metadata": {},
     "output_type": "execute_result"
    }
   ],
   "source": [
    "# create and render a BiasAnalyzer widget to view the study cohort\n",
    "study_widget = CohortWidget(cohort1=study_cohort)\n",
    "study_widget"
   ]
  },
  {
   "cell_type": "code",
   "execution_count": null,
   "id": "a96100513ed37a2f",
   "metadata": {},
   "outputs": [],
   "source": [
    "# create and render a BiasAnalyzer widget to view the baseline cohort\n",
    "baseline_widget = CohortWidget(cohort1=baseline_cohort)\n",
    "baseline_widget"
   ]
  },
  {
   "cell_type": "code",
   "execution_count": null,
   "id": "323ebdf689cd2d63",
   "metadata": {},
   "outputs": [],
   "source": [
    "# create and render a BiasAnalyzer widget to compare the two cohorts\n",
    "compare_widget = CohortWidget(cohort1=study_cohort, cohort2=baseline_cohort)\n",
    "compare_widget"
   ]
  },
  {
   "cell_type": "code",
   "execution_count": null,
   "id": "47bd86a2020b906b",
   "metadata": {},
   "outputs": [],
   "source": [
    "# disconnect from the database\n",
    "bias.cleanup()"
   ]
  },
  {
   "cell_type": "code",
   "execution_count": null,
   "id": "085a849b-74d0-4ab9-b992-d777c4485d26",
   "metadata": {},
   "outputs": [],
   "source": []
  }
 ],
 "metadata": {
  "kernelspec": {
   "display_name": "biasanalyzer",
   "language": "python",
   "name": "biasanalyzer"
  },
  "language_info": {
   "codemirror_mode": {
    "name": "ipython",
    "version": 3
   },
   "file_extension": ".py",
   "mimetype": "text/x-python",
   "name": "python",
   "nbconvert_exporter": "python",
   "pygments_lexer": "ipython3",
   "version": "3.11.7"
  },
  "widgets": {
   "application/vnd.jupyter.widget-state+json": {
    "state": {
     "06024b5bc3694189ad7a7906b8285469": {
      "model_module": "@jupyter-widgets/base",
      "model_module_version": "2.0.0",
      "model_name": "LayoutModel",
      "state": {
       "width": "auto"
      }
     },
     "0ac912a45360400b88a653b6d19488ad": {
      "model_module": "@jupyter-widgets/base",
      "model_module_version": "2.0.0",
      "model_name": "LayoutModel",
      "state": {
       "width": "auto"
      }
     },
     "17605722d1914e9dbd0b92baab31ba96": {
      "model_module": "@jupyter-widgets/controls",
      "model_module_version": "2.0.0",
      "model_name": "HTMLStyleModel",
      "state": {
       "description_width": "",
       "font_size": null,
       "text_color": null
      }
     },
     "1dd33a241d944b0d94c148fcc6b69f65": {
      "model_module": "@jupyter-widgets/controls",
      "model_module_version": "2.0.0",
      "model_name": "FloatProgressModel",
      "state": {
       "layout": "IPY_MODEL_2678fdc7960e4b8f9ba08b4e1178d8ad",
       "style": "IPY_MODEL_f4c36d009a9d40a886a5d7b387e68a8a",
       "value": 100
      }
     },
     "2678fdc7960e4b8f9ba08b4e1178d8ad": {
      "model_module": "@jupyter-widgets/base",
      "model_module_version": "2.0.0",
      "model_name": "LayoutModel",
      "state": {
       "width": "auto"
      }
     },
     "2ac5ccbc79744c11b936d72a1e99409b": {
      "model_module": "@jupyter-widgets/controls",
      "model_module_version": "2.0.0",
      "model_name": "ProgressStyleModel",
      "state": {
       "bar_color": "black",
       "description_width": ""
      }
     },
     "2e6586ba98ed4894b531119a978d8a61": {
      "model_module": "@jupyter-widgets/controls",
      "model_module_version": "2.0.0",
      "model_name": "HTMLModel",
      "state": {
       "layout": "IPY_MODEL_f4d7eb82bfdb4c1abafcfa8403ec1554",
       "style": "IPY_MODEL_a3041b326655479e9b993cb351cd9cfc",
       "value": " 3/3 [00:00&lt;00:00,  2.91stage/s, Inserted cohort data into DuckDB - Done]"
      }
     },
     "3e37153d0f4946e081b69fdbcf2cedfe": {
      "model_module": "@jupyter-widgets/controls",
      "model_module_version": "2.0.0",
      "model_name": "ProgressStyleModel",
      "state": {
       "bar_color": "black",
       "description_width": ""
      }
     },
     "42c9adcf037d481d80b6c3308fe0a657": {
      "model_module": "@jupyter-widgets/controls",
      "model_module_version": "2.0.0",
      "model_name": "FloatProgressModel",
      "state": {
       "layout": "IPY_MODEL_b6c75e50044f4f0ab6eb0e1d27358522",
       "style": "IPY_MODEL_922f931cf561412fa86ef3ed344c7ef4",
       "value": 100
      }
     },
     "5ba7aeb2189745a19dee559a116aadd4": {
      "model_module": "@jupyter-widgets/controls",
      "model_module_version": "2.0.0",
      "model_name": "ProgressStyleModel",
      "state": {
       "description_width": ""
      }
     },
     "807c7282cf6246739ba113544163effd": {
      "model_module": "@jupyter-widgets/base",
      "model_module_version": "2.0.0",
      "model_name": "LayoutModel",
      "state": {
       "display": "inline-flex",
       "flex_flow": "row wrap",
       "width": "100%"
      }
     },
     "922f931cf561412fa86ef3ed344c7ef4": {
      "model_module": "@jupyter-widgets/controls",
      "model_module_version": "2.0.0",
      "model_name": "ProgressStyleModel",
      "state": {
       "bar_color": "black",
       "description_width": ""
      }
     },
     "9a199dc2d2aa4cd2a2a7214c4580ab6e": {
      "model_module": "@jupyter-widgets/base",
      "model_module_version": "2.0.0",
      "model_name": "LayoutModel",
      "state": {}
     },
     "a172f19ad73e4d31b8309e9c4f9e8e65": {
      "model_module": "@jupyter-widgets/controls",
      "model_module_version": "2.0.0",
      "model_name": "FloatProgressModel",
      "state": {
       "layout": "IPY_MODEL_06024b5bc3694189ad7a7906b8285469",
       "style": "IPY_MODEL_3e37153d0f4946e081b69fdbcf2cedfe",
       "value": 100
      }
     },
     "a3041b326655479e9b993cb351cd9cfc": {
      "model_module": "@jupyter-widgets/controls",
      "model_module_version": "2.0.0",
      "model_name": "HTMLStyleModel",
      "state": {
       "description_width": "",
       "font_size": null,
       "text_color": null
      }
     },
     "a65c4a4a2b774f889e9010b1874d3762": {
      "model_module": "anywidget",
      "model_module_version": "~0.9.*",
      "model_name": "AnyModel",
      "state": {
       "_age_dist1": [
        {
         "category": "0-10",
         "probability": 0,
         "value": 0
        },
        {
         "category": "11-20",
         "probability": 0,
         "value": 0
        },
        {
         "category": "21-30",
         "probability": 0.0088,
         "value": 7
        },
        {
         "category": "31-40",
         "probability": 0.0376,
         "value": 30
        },
        {
         "category": "41-50",
         "probability": 0.0664,
         "value": 53
        },
        {
         "category": "51-60",
         "probability": 0.1642,
         "value": 131
        },
        {
         "category": "61-70",
         "probability": 0.193,
         "value": 154
        },
        {
         "category": "71-80",
         "probability": 0.2243,
         "value": 179
        },
        {
         "category": "81-90",
         "probability": 0.2055,
         "value": 164
        },
        {
         "category": "91+",
         "probability": 0.1003,
         "value": 80
        }
       ],
       "_age_dist2": [],
       "_anywidget_id": "CohortWidget.CohortWidget",
       "_concepts1": [
        {
         "ancestor_concept_id": 43531057,
         "concept_code": "609623002",
         "concept_name": "Finding of upper trunk",
         "count_in_cohort": 798,
         "descendant_concept_id": 43531057,
         "prevalence": 1
        },
        {
         "ancestor_concept_id": 4023995,
         "concept_code": "106063007",
         "concept_name": "Cardiovascular finding",
         "count_in_cohort": 798,
         "descendant_concept_id": 4023995,
         "prevalence": 1
        },
        {
         "ancestor_concept_id": 441840,
         "concept_code": "404684003",
         "concept_name": "Clinical finding",
         "count_in_cohort": 798,
         "descendant_concept_id": 441840,
         "prevalence": 1
        },
        {
         "ancestor_concept_id": 134057,
         "concept_code": "49601007",
         "concept_name": "Disorder of cardiovascular system",
         "count_in_cohort": 798,
         "descendant_concept_id": 134057,
         "prevalence": 1
        },
        {
         "ancestor_concept_id": 321588,
         "concept_code": "56265001",
         "concept_name": "Heart disease",
         "count_in_cohort": 798,
         "descendant_concept_id": 321588,
         "prevalence": 1
        },
        {
         "ancestor_concept_id": 4115390,
         "concept_code": "301296002",
         "concept_name": "Mediastinal finding",
         "count_in_cohort": 798,
         "descendant_concept_id": 4115390,
         "prevalence": 1
        },
        {
         "ancestor_concept_id": 440142,
         "concept_code": "49483002",
         "concept_name": "Disorder of mediastinum",
         "count_in_cohort": 798,
         "descendant_concept_id": 440142,
         "prevalence": 1
        },
        {
         "ancestor_concept_id": 316139,
         "concept_code": "84114007",
         "concept_name": "Heart failure",
         "count_in_cohort": 798,
         "descendant_concept_id": 316139,
         "prevalence": 1
        },
        {
         "ancestor_concept_id": 43531056,
         "concept_code": "609622007",
         "concept_name": "Disorder of thoracic segment of trunk",
         "count_in_cohort": 798,
         "descendant_concept_id": 43531056,
         "prevalence": 1
        },
        {
         "ancestor_concept_id": 4180628,
         "concept_code": "362965005",
         "concept_name": "Disorder of body system",
         "count_in_cohort": 798,
         "descendant_concept_id": 4180628,
         "prevalence": 1
        },
        {
         "ancestor_concept_id": 4227253,
         "concept_code": "406123005",
         "concept_name": "Viscus structure finding",
         "count_in_cohort": 798,
         "descendant_concept_id": 4227253,
         "prevalence": 1
        },
        {
         "ancestor_concept_id": 4103183,
         "concept_code": "301095005",
         "concept_name": "Cardiac finding",
         "count_in_cohort": 798,
         "descendant_concept_id": 4103183,
         "prevalence": 1
        },
        {
         "ancestor_concept_id": 4024552,
         "concept_code": "105981003",
         "concept_name": "Disorder of cardiac function",
         "count_in_cohort": 798,
         "descendant_concept_id": 4024552,
         "prevalence": 1
        },
        {
         "ancestor_concept_id": 4043346,
         "concept_code": "118946009",
         "concept_name": "Disorder of thorax",
         "count_in_cohort": 798,
         "descendant_concept_id": 4043346,
         "prevalence": 1
        },
        {
         "ancestor_concept_id": 4047779,
         "concept_code": "123946008",
         "concept_name": "Disorder by body site",
         "count_in_cohort": 798,
         "descendant_concept_id": 4047779,
         "prevalence": 1
        },
        {
         "ancestor_concept_id": 4199402,
         "concept_code": "301857004",
         "concept_name": "Finding of body region",
         "count_in_cohort": 798,
         "descendant_concept_id": 4199402,
         "prevalence": 1
        },
        {
         "ancestor_concept_id": 4117930,
         "concept_code": "302292003",
         "concept_name": "Finding of trunk structure",
         "count_in_cohort": 798,
         "descendant_concept_id": 4117930,
         "prevalence": 1
        },
        {
         "ancestor_concept_id": 4028071,
         "concept_code": "128121009",
         "concept_name": "Disorder of trunk",
         "count_in_cohort": 798,
         "descendant_concept_id": 4028071,
         "prevalence": 1
        },
        {
         "ancestor_concept_id": 4274025,
         "concept_code": "64572001",
         "concept_name": "Disease",
         "count_in_cohort": 798,
         "descendant_concept_id": 4274025,
         "prevalence": 1
        },
        {
         "ancestor_concept_id": 4185503,
         "concept_code": "298705000",
         "concept_name": "Finding of region of thorax",
         "count_in_cohort": 798,
         "descendant_concept_id": 4185503,
         "prevalence": 1
        },
        {
         "ancestor_concept_id": 4042140,
         "concept_code": "118234003",
         "concept_name": "Finding by site",
         "count_in_cohort": 798,
         "descendant_concept_id": 4042140,
         "prevalence": 1
        },
        {
         "ancestor_concept_id": 443883,
         "concept_code": "2704003",
         "concept_name": "Acute disease",
         "count_in_cohort": 752,
         "descendant_concept_id": 443883,
         "prevalence": 0.9423558897243107
        },
        {
         "ancestor_concept_id": 4006969,
         "concept_code": "111273006",
         "concept_name": "Acute respiratory disease",
         "count_in_cohort": 697,
         "descendant_concept_id": 4006969,
         "prevalence": 0.8734335839598998
        },
        {
         "ancestor_concept_id": 320136,
         "concept_code": "50043002",
         "concept_name": "Disorder of respiratory system",
         "count_in_cohort": 697,
         "descendant_concept_id": 320136,
         "prevalence": 0.8734335839598998
        },
        {
         "ancestor_concept_id": 4024567,
         "concept_code": "106048009",
         "concept_name": "Respiratory finding",
         "count_in_cohort": 697,
         "descendant_concept_id": 4024567,
         "prevalence": 0.8734335839598998
        },
        {
         "ancestor_concept_id": 4078925,
         "concept_code": "19242006",
         "concept_name": "Pulmonary edema",
         "count_in_cohort": 696,
         "descendant_concept_id": 4078925,
         "prevalence": 0.8721804511278195
        },
        {
         "ancestor_concept_id": 257907,
         "concept_code": "19829001",
         "concept_name": "Disorder of lung",
         "count_in_cohort": 696,
         "descendant_concept_id": 257907,
         "prevalence": 0.8721804511278195
        },
        {
         "ancestor_concept_id": 4115259,
         "concept_code": "301226008",
         "concept_name": "Lower respiratory tract finding",
         "count_in_cohort": 696,
         "descendant_concept_id": 4115259,
         "prevalence": 0.8721804511278195
        },
        {
         "ancestor_concept_id": 432453,
         "concept_code": "365860008",
         "concept_name": "General clinical state finding",
         "count_in_cohort": 696,
         "descendant_concept_id": 432453,
         "prevalence": 0.8721804511278195
        },
        {
         "ancestor_concept_id": 4115260,
         "concept_code": "301230006",
         "concept_name": "Lung finding",
         "count_in_cohort": 696,
         "descendant_concept_id": 4115260,
         "prevalence": 0.8721804511278195
        },
        {
         "ancestor_concept_id": 4040388,
         "concept_code": "118654009",
         "concept_name": "Disorder characterized by edema",
         "count_in_cohort": 696,
         "descendant_concept_id": 4040388,
         "prevalence": 0.8721804511278195
        },
        {
         "ancestor_concept_id": 4027553,
         "concept_code": "128272009",
         "concept_name": "Disorder of lower respiratory system",
         "count_in_cohort": 696,
         "descendant_concept_id": 4027553,
         "prevalence": 0.8721804511278195
        },
        {
         "ancestor_concept_id": 4239819,
         "concept_code": "69328002",
         "concept_name": "Distress",
         "count_in_cohort": 696,
         "descendant_concept_id": 4239819,
         "prevalence": 0.8721804511278195
        },
        {
         "ancestor_concept_id": 253549,
         "concept_code": "105969002",
         "concept_name": "Disorder of connective tissue",
         "count_in_cohort": 696,
         "descendant_concept_id": 253549,
         "prevalence": 0.8721804511278195
        },
        {
         "ancestor_concept_id": 4041664,
         "concept_code": "230145002",
         "concept_name": "Difficulty breathing",
         "count_in_cohort": 696,
         "descendant_concept_id": 4041664,
         "prevalence": 0.8721804511278195
        },
        {
         "ancestor_concept_id": 4180645,
         "concept_code": "363044007",
         "concept_name": "Connective tissue disorder by body site",
         "count_in_cohort": 696,
         "descendant_concept_id": 4180645,
         "prevalence": 0.8721804511278195
        },
        {
         "ancestor_concept_id": 4271505,
         "concept_code": "366139009",
         "concept_name": "Ease of respiration - finding",
         "count_in_cohort": 696,
         "descendant_concept_id": 4271505,
         "prevalence": 0.8721804511278195
        },
        {
         "ancestor_concept_id": 4195694,
         "concept_code": "67782005",
         "concept_name": "Acute respiratory distress syndrome",
         "count_in_cohort": 696,
         "descendant_concept_id": 4195694,
         "prevalence": 0.8721804511278195
        },
        {
         "ancestor_concept_id": 4115386,
         "concept_code": "301282008",
         "concept_name": "Finding of respiration",
         "count_in_cohort": 696,
         "descendant_concept_id": 4115386,
         "prevalence": 0.8721804511278195
        },
        {
         "ancestor_concept_id": 4119786,
         "concept_code": "233703007",
         "concept_name": "Interstitial lung disease",
         "count_in_cohort": 696,
         "descendant_concept_id": 4119786,
         "prevalence": 0.8721804511278195
        },
        {
         "ancestor_concept_id": 4158346,
         "concept_code": "271825005",
         "concept_name": "Respiratory distress",
         "count_in_cohort": 696,
         "descendant_concept_id": 4158346,
         "prevalence": 0.8721804511278195
        },
        {
         "ancestor_concept_id": 433595,
         "concept_code": "267038008",
         "concept_name": "Edema",
         "count_in_cohort": 696,
         "descendant_concept_id": 433595,
         "prevalence": 0.8721804511278195
        },
        {
         "ancestor_concept_id": 4199409,
         "concept_code": "301867009",
         "concept_name": "Edema of trunk",
         "count_in_cohort": 696,
         "descendant_concept_id": 4199409,
         "prevalence": 0.8721804511278195
        },
        {
         "ancestor_concept_id": 440921,
         "concept_code": "417746004",
         "concept_name": "Traumatic injury",
         "count_in_cohort": 587,
         "descendant_concept_id": 440921,
         "prevalence": 0.7355889724310777
        },
        {
         "ancestor_concept_id": 432795,
         "concept_code": "417163006",
         "concept_name": "Traumatic AND/OR non-traumatic injury",
         "count_in_cohort": 587,
         "descendant_concept_id": 432795,
         "prevalence": 0.7355889724310777
        },
        {
         "ancestor_concept_id": 43530877,
         "concept_code": "609411003",
         "concept_name": "Traumatic and/or non-traumatic injury of anatomical site",
         "count_in_cohort": 587,
         "descendant_concept_id": 43530877,
         "prevalence": 0.7355889724310777
        },
        {
         "ancestor_concept_id": 194526,
         "concept_code": "48125009",
         "concept_name": "Injury of trunk",
         "count_in_cohort": 587,
         "descendant_concept_id": 194526,
         "prevalence": 0.7355889724310777
        },
        {
         "ancestor_concept_id": 43530815,
         "concept_code": "609336008",
         "concept_name": "Traumatic injury by site",
         "count_in_cohort": 587,
         "descendant_concept_id": 43530815,
         "prevalence": 0.7355889724310777
        },
        {
         "ancestor_concept_id": 193631,
         "concept_code": "105612003",
         "concept_name": "Injury of internal organ",
         "count_in_cohort": 587,
         "descendant_concept_id": 193631,
         "prevalence": 0.7355889724310777
        },
        {
         "ancestor_concept_id": 432250,
         "concept_code": "40733004",
         "concept_name": "Disorder due to infection",
         "count_in_cohort": 568,
         "descendant_concept_id": 432250,
         "prevalence": 0.7117794486215538
        },
        {
         "ancestor_concept_id": 4271450,
         "concept_code": "63171007",
         "concept_name": "Acute infectious disease",
         "count_in_cohort": 520,
         "descendant_concept_id": 4271450,
         "prevalence": 0.6516290726817042
        },
        {
         "ancestor_concept_id": 201965,
         "concept_code": "27942005",
         "concept_name": "Shock",
         "count_in_cohort": 520,
         "descendant_concept_id": 201965,
         "prevalence": 0.6516290726817042
        },
        {
         "ancestor_concept_id": 196236,
         "concept_code": "76571007",
         "concept_name": "Septic shock",
         "count_in_cohort": 520,
         "descendant_concept_id": 196236,
         "prevalence": 0.6516290726817042
        },
        {
         "ancestor_concept_id": 37116489,
         "concept_code": "733217006",
         "concept_name": "Injury of intrathoracic organ",
         "count_in_cohort": 399,
         "descendant_concept_id": 37116489,
         "prevalence": 0.5
        },
        {
         "ancestor_concept_id": 74786,
         "concept_code": "27817002",
         "concept_name": "Internal injury of chest",
         "count_in_cohort": 399,
         "descendant_concept_id": 74786,
         "prevalence": 0.5
        },
        {
         "ancestor_concept_id": 4152156,
         "concept_code": "282728007",
         "concept_name": "Cardiovascular injury",
         "count_in_cohort": 399,
         "descendant_concept_id": 4152156,
         "prevalence": 0.5
        },
        {
         "ancestor_concept_id": 4027255,
         "concept_code": "128599005",
         "concept_name": "Structural disorder of heart",
         "count_in_cohort": 399,
         "descendant_concept_id": 4027255,
         "prevalence": 0.5
        },
        {
         "ancestor_concept_id": 4094683,
         "concept_code": "262525000",
         "concept_name": "Chest injury",
         "count_in_cohort": 399,
         "descendant_concept_id": 4094683,
         "prevalence": 0.5
        },
        {
         "ancestor_concept_id": 4311280,
         "concept_code": "86175003",
         "concept_name": "Injury of heart",
         "count_in_cohort": 399,
         "descendant_concept_id": 4311280,
         "prevalence": 0.5
        },
        {
         "ancestor_concept_id": 432585,
         "concept_code": "64779008",
         "concept_name": "Blood coagulation disorder",
         "count_in_cohort": 388,
         "descendant_concept_id": 432585,
         "prevalence": 0.48621553884711777
        },
        {
         "ancestor_concept_id": 4120613,
         "concept_code": "234466008",
         "concept_name": "Acquired coagulation disorder",
         "count_in_cohort": 388,
         "descendant_concept_id": 4120613,
         "prevalence": 0.48621553884711777
        },
        {
         "ancestor_concept_id": 4179872,
         "concept_code": "362970003",
         "concept_name": "Disorder of hemostatic system",
         "count_in_cohort": 388,
         "descendant_concept_id": 4179872,
         "prevalence": 0.48621553884711777
        },
        {
         "ancestor_concept_id": 444089,
         "concept_code": "118948005",
         "concept_name": "Disorder of abdomen",
         "count_in_cohort": 386,
         "descendant_concept_id": 444089,
         "prevalence": 0.48370927318295737
        },
        {
         "ancestor_concept_id": 37311678,
         "concept_code": "822987005",
         "concept_name": "Finding of abdominopelvic segment of trunk",
         "count_in_cohort": 386,
         "descendant_concept_id": 37311678,
         "prevalence": 0.48370927318295737
        },
        {
         "ancestor_concept_id": 37311677,
         "concept_code": "822988000",
         "concept_name": "Disorder of abdominopelvic segment of trunk",
         "count_in_cohort": 386,
         "descendant_concept_id": 37311677,
         "prevalence": 0.48370927318295737
        },
        {
         "ancestor_concept_id": 43531058,
         "concept_code": "609624008",
         "concept_name": "Finding of abdomen",
         "count_in_cohort": 386,
         "descendant_concept_id": 43531058,
         "prevalence": 0.48370927318295737
        },
        {
         "ancestor_concept_id": 4096864,
         "concept_code": "249561001",
         "concept_name": "Abdominal organ finding",
         "count_in_cohort": 386,
         "descendant_concept_id": 4096864,
         "prevalence": 0.48370927318295737
        },
        {
         "ancestor_concept_id": 40483287,
         "concept_code": "443820000",
         "concept_name": "Disorder of kidney and/or ureter",
         "count_in_cohort": 385,
         "descendant_concept_id": 40483287,
         "prevalence": 0.4824561403508772
        },
        {
         "ancestor_concept_id": 4091056,
         "concept_code": "249578005",
         "concept_name": "Kidney finding",
         "count_in_cohort": 385,
         "descendant_concept_id": 4091056,
         "prevalence": 0.4824561403508772
        },
        {
         "ancestor_concept_id": 4024000,
         "concept_code": "106098005",
         "concept_name": "Urinary system finding",
         "count_in_cohort": 385,
         "descendant_concept_id": 4024000,
         "prevalence": 0.4824561403508772
        },
        {
         "ancestor_concept_id": 4169252,
         "concept_code": "49011004",
         "concept_name": "Internal injury of abdominal organ",
         "count_in_cohort": 385,
         "descendant_concept_id": 4169252,
         "prevalence": 0.4824561403508772
        },
        {
         "ancestor_concept_id": 37116613,
         "concept_code": "733386005",
         "concept_name": "Injury of urinary organ",
         "count_in_cohort": 385,
         "descendant_concept_id": 37116613,
         "prevalence": 0.4824561403508772
        },
        {
         "ancestor_concept_id": 4171379,
         "concept_code": "42030000",
         "concept_name": "Disorder of the genitourinary system",
         "count_in_cohort": 385,
         "descendant_concept_id": 4171379,
         "prevalence": 0.4824561403508772
        },
        {
         "ancestor_concept_id": 200588,
         "concept_code": "128069005",
         "concept_name": "Injury of abdomen",
         "count_in_cohort": 385,
         "descendant_concept_id": 200588,
         "prevalence": 0.4824561403508772
        },
        {
         "ancestor_concept_id": 198124,
         "concept_code": "90708001",
         "concept_name": "Kidney disease",
         "count_in_cohort": 385,
         "descendant_concept_id": 198124,
         "prevalence": 0.4824561403508772
        },
        {
         "ancestor_concept_id": 37116972,
         "concept_code": "734045002",
         "concept_name": "Disorder of retroperitoneum",
         "count_in_cohort": 385,
         "descendant_concept_id": 37116972,
         "prevalence": 0.4824561403508772
        },
        {
         "ancestor_concept_id": 4220631,
         "concept_code": "40095003",
         "concept_name": "Injury of kidney",
         "count_in_cohort": 385,
         "descendant_concept_id": 4220631,
         "prevalence": 0.4824561403508772
        },
        {
         "ancestor_concept_id": 4155499,
         "concept_code": "283879004",
         "concept_name": "Urogenital injury",
         "count_in_cohort": 385,
         "descendant_concept_id": 4155499,
         "prevalence": 0.4824561403508772
        },
        {
         "ancestor_concept_id": 45769862,
         "concept_code": "79131000119100",
         "concept_name": "Kidney lesion",
         "count_in_cohort": 385,
         "descendant_concept_id": 45769862,
         "prevalence": 0.4824561403508772
        },
        {
         "ancestor_concept_id": 4041285,
         "concept_code": "118238000",
         "concept_name": "Urogenital finding",
         "count_in_cohort": 385,
         "descendant_concept_id": 4041285,
         "prevalence": 0.4824561403508772
        },
        {
         "ancestor_concept_id": 75865,
         "concept_code": "128606002",
         "concept_name": "Disorder of the urinary system",
         "count_in_cohort": 385,
         "descendant_concept_id": 75865,
         "prevalence": 0.4824561403508772
        },
        {
         "ancestor_concept_id": 443784,
         "concept_code": "27550009",
         "concept_name": "Vascular disorder",
         "count_in_cohort": 172,
         "descendant_concept_id": 443784,
         "prevalence": 0.21553884711779447
        },
        {
         "ancestor_concept_id": 376208,
         "concept_code": "19660004",
         "concept_name": "Disorder of soft tissue",
         "count_in_cohort": 172,
         "descendant_concept_id": 376208,
         "prevalence": 0.21553884711779447
        },
        {
         "ancestor_concept_id": 4071689,
         "concept_code": "21829004",
         "concept_name": "Blood vessel finding",
         "count_in_cohort": 172,
         "descendant_concept_id": 4071689,
         "prevalence": 0.21553884711779447
        },
        {
         "ancestor_concept_id": 4028367,
         "concept_code": "128487001",
         "concept_name": "Acute disease of cardiovascular system",
         "count_in_cohort": 172,
         "descendant_concept_id": 4028367,
         "prevalence": 0.21553884711779447
        },
        {
         "ancestor_concept_id": 4093991,
         "concept_code": "248402002",
         "concept_name": "General finding of soft tissue",
         "count_in_cohort": 172,
         "descendant_concept_id": 4093991,
         "prevalence": 0.21553884711779447
        },
        {
         "ancestor_concept_id": 4344497,
         "concept_code": "239953001",
         "concept_name": "Soft tissue lesion",
         "count_in_cohort": 172,
         "descendant_concept_id": 4344497,
         "prevalence": 0.21553884711779447
        },
        {
         "ancestor_concept_id": 432545,
         "concept_code": "87628006",
         "concept_name": "Bacterial infectious disease",
         "count_in_cohort": 137,
         "descendant_concept_id": 432545,
         "prevalence": 0.17167919799498746
        },
        {
         "ancestor_concept_id": 4095634,
         "concept_code": "248727005",
         "concept_name": "Venous finding",
         "count_in_cohort": 89,
         "descendant_concept_id": 4095634,
         "prevalence": 0.11152882205513784
        },
        {
         "ancestor_concept_id": 4208466,
         "concept_code": "439129009",
         "concept_name": "Thrombosis of blood vessel",
         "count_in_cohort": 89,
         "descendant_concept_id": 4208466,
         "prevalence": 0.11152882205513784
        },
        {
         "ancestor_concept_id": 4234997,
         "concept_code": "90507008",
         "concept_name": "Disorder of vein",
         "count_in_cohort": 89,
         "descendant_concept_id": 4234997,
         "prevalence": 0.11152882205513784
        },
        {
         "ancestor_concept_id": 444247,
         "concept_code": "111293003",
         "concept_name": "Venous thrombosis",
         "count_in_cohort": 89,
         "descendant_concept_id": 444247,
         "prevalence": 0.11152882205513784
        },
        {
         "ancestor_concept_id": 4231363,
         "concept_code": "439127006",
         "concept_name": "Thrombosis",
         "count_in_cohort": 89,
         "descendant_concept_id": 4231363,
         "prevalence": 0.11152882205513784
        },
        {
         "ancestor_concept_id": 4133004,
         "concept_code": "128053003",
         "concept_name": "Deep venous thrombosis",
         "count_in_cohort": 89,
         "descendant_concept_id": 4133004,
         "prevalence": 0.11152882205513784
        },
        {
         "ancestor_concept_id": 44782746,
         "concept_code": "132281000119108",
         "concept_name": "Acute deep venous thrombosis",
         "count_in_cohort": 89,
         "descendant_concept_id": 44782746,
         "prevalence": 0.11152882205513784
        },
        {
         "ancestor_concept_id": 4185607,
         "concept_code": "414086009",
         "concept_name": "Embolism",
         "count_in_cohort": 83,
         "descendant_concept_id": 4185607,
         "prevalence": 0.10401002506265664
        },
        {
         "ancestor_concept_id": 312339,
         "concept_code": "54687002",
         "concept_name": "Arterial embolism",
         "count_in_cohort": 83,
         "descendant_concept_id": 312339,
         "prevalence": 0.10401002506265664
        },
        {
         "ancestor_concept_id": 45768439,
         "concept_code": "706870000",
         "concept_name": "Acute pulmonary embolism",
         "count_in_cohort": 83,
         "descendant_concept_id": 45768439,
         "prevalence": 0.10401002506265664
        },
        {
         "ancestor_concept_id": 321887,
         "concept_code": "359557001",
         "concept_name": "Disorder of artery",
         "count_in_cohort": 83,
         "descendant_concept_id": 321887,
         "prevalence": 0.10401002506265664
        },
        {
         "ancestor_concept_id": 4108173,
         "concept_code": "251039005",
         "concept_name": "Pulmonary artery finding",
         "count_in_cohort": 83,
         "descendant_concept_id": 4108173,
         "prevalence": 0.10401002506265664
        },
        {
         "ancestor_concept_id": 440417,
         "concept_code": "59282003",
         "concept_name": "Pulmonary embolism",
         "count_in_cohort": 83,
         "descendant_concept_id": 440417,
         "prevalence": 0.10401002506265664
        },
        {
         "ancestor_concept_id": 4095631,
         "concept_code": "248718009",
         "concept_name": "Arterial finding",
         "count_in_cohort": 83,
         "descendant_concept_id": 4095631,
         "prevalence": 0.10401002506265664
        },
        {
         "ancestor_concept_id": 433208,
         "concept_code": "39785005",
         "concept_name": "Disorder of pulmonary circulation",
         "count_in_cohort": 83,
         "descendant_concept_id": 433208,
         "prevalence": 0.10401002506265664
        },
        {
         "ancestor_concept_id": 4194610,
         "concept_code": "312593004",
         "concept_name": "Trunk arterial embolus",
         "count_in_cohort": 83,
         "descendant_concept_id": 4194610,
         "prevalence": 0.10401002506265664
        },
        {
         "ancestor_concept_id": 4190192,
         "concept_code": "373434004",
         "concept_name": "Disorder of blood vessels of thorax",
         "count_in_cohort": 83,
         "descendant_concept_id": 4190192,
         "prevalence": 0.10401002506265664
        },
        {
         "ancestor_concept_id": 4309188,
         "concept_code": "84410009",
         "concept_name": "Disorder of digestive tract",
         "count_in_cohort": 3,
         "descendant_concept_id": 4309188,
         "prevalence": 0.0037593984962406013
        },
        {
         "ancestor_concept_id": 4302537,
         "concept_code": "386617003",
         "concept_name": "Digestive system finding",
         "count_in_cohort": 3,
         "descendant_concept_id": 4302537,
         "prevalence": 0.0037593984962406013
        },
        {
         "ancestor_concept_id": 4297887,
         "concept_code": "76712006",
         "concept_name": "Disorder of digestive organ",
         "count_in_cohort": 3,
         "descendant_concept_id": 4297887,
         "prevalence": 0.0037593984962406013
        },
        {
         "ancestor_concept_id": 4201745,
         "concept_code": "53619000",
         "concept_name": "Disorder of digestive system",
         "count_in_cohort": 3,
         "descendant_concept_id": 4201745,
         "prevalence": 0.0037593984962406013
        },
        {
         "ancestor_concept_id": 4113999,
         "concept_code": "300862005",
         "concept_name": "Mass of body region",
         "count_in_cohort": 2,
         "descendant_concept_id": 4113999,
         "prevalence": 0.002506265664160401
        },
        {
         "ancestor_concept_id": 4180169,
         "concept_code": "363170005",
         "concept_name": "Inflammation of specific body structures or tissue",
         "count_in_cohort": 2,
         "descendant_concept_id": 4180169,
         "prevalence": 0.002506265664160401
        },
        {
         "ancestor_concept_id": 4181583,
         "concept_code": "54150009",
         "concept_name": "Upper respiratory infection",
         "count_in_cohort": 2,
         "descendant_concept_id": 4181583,
         "prevalence": 0.002506265664160401
        },
        {
         "ancestor_concept_id": 254068,
         "concept_code": "201060008",
         "concept_name": "Disorder of upper respiratory system",
         "count_in_cohort": 2,
         "descendant_concept_id": 254068,
         "prevalence": 0.002506265664160401
        },
        {
         "ancestor_concept_id": 4178818,
         "concept_code": "363171009",
         "concept_name": "Inflammation of specific body systems",
         "count_in_cohort": 2,
         "descendant_concept_id": 4178818,
         "prevalence": 0.002506265664160401
        },
        {
         "ancestor_concept_id": 4197094,
         "concept_code": "79787007",
         "concept_name": "Disorder of lower gastrointestinal tract",
         "count_in_cohort": 2,
         "descendant_concept_id": 4197094,
         "prevalence": 0.002506265664160401
        },
        {
         "ancestor_concept_id": 4200532,
         "concept_code": "301810000",
         "concept_name": "Infection by site",
         "count_in_cohort": 2,
         "descendant_concept_id": 4200532,
         "prevalence": 0.002506265664160401
        },
        {
         "ancestor_concept_id": 4180170,
         "concept_code": "363180009",
         "concept_name": "Inflammatory disorder of the respiratory tract",
         "count_in_cohort": 2,
         "descendant_concept_id": 4180170,
         "prevalence": 0.002506265664160401
        },
        {
         "ancestor_concept_id": 4304916,
         "concept_code": "386618008",
         "concept_name": "Gastrointestinal tract finding",
         "count_in_cohort": 2,
         "descendant_concept_id": 4304916,
         "prevalence": 0.002506265664160401
        },
        {
         "ancestor_concept_id": 4178545,
         "concept_code": "297268004",
         "concept_name": "Ear, nose and throat finding",
         "count_in_cohort": 2,
         "descendant_concept_id": 4178545,
         "prevalence": 0.002506265664160401
        },
        {
         "ancestor_concept_id": 4000610,
         "concept_code": "119292006",
         "concept_name": "Disorder of gastrointestinal tract",
         "count_in_cohort": 2,
         "descendant_concept_id": 4000610,
         "prevalence": 0.002506265664160401
        },
        {
         "ancestor_concept_id": 4002905,
         "concept_code": "119523007",
         "concept_name": "Disorder of large intestine",
         "count_in_cohort": 2,
         "descendant_concept_id": 4002905,
         "prevalence": 0.002506265664160401
        },
        {
         "ancestor_concept_id": 4170143,
         "concept_code": "275498002",
         "concept_name": "Respiratory tract infection",
         "count_in_cohort": 2,
         "descendant_concept_id": 4170143,
         "prevalence": 0.002506265664160401
        },
        {
         "ancestor_concept_id": 4207186,
         "concept_code": "312130009",
         "concept_name": "Viral infection by site",
         "count_in_cohort": 2,
         "descendant_concept_id": 4207186,
         "prevalence": 0.002506265664160401
        },
        {
         "ancestor_concept_id": 4085100,
         "concept_code": "281794004",
         "concept_name": "Viral upper respiratory tract infection",
         "count_in_cohort": 2,
         "descendant_concept_id": 4085100,
         "prevalence": 0.002506265664160401
        },
        {
         "ancestor_concept_id": 440029,
         "concept_code": "34014006",
         "concept_name": "Viral disease",
         "count_in_cohort": 2,
         "descendant_concept_id": 440029,
         "prevalence": 0.002506265664160401
        },
        {
         "ancestor_concept_id": 4038678,
         "concept_code": "118436003",
         "concept_name": "Finding of large intestine",
         "count_in_cohort": 2,
         "descendant_concept_id": 4038678,
         "prevalence": 0.002506265664160401
        },
        {
         "ancestor_concept_id": 201618,
         "concept_code": "85919009",
         "concept_name": "Disorder of intestine",
         "count_in_cohort": 2,
         "descendant_concept_id": 201618,
         "prevalence": 0.002506265664160401
        },
        {
         "ancestor_concept_id": 4102111,
         "concept_code": "300848003",
         "concept_name": "Mass of body structure",
         "count_in_cohort": 2,
         "descendant_concept_id": 4102111,
         "prevalence": 0.002506265664160401
        },
        {
         "ancestor_concept_id": 4193169,
         "concept_code": "312133006",
         "concept_name": "Viral respiratory infection",
         "count_in_cohort": 2,
         "descendant_concept_id": 4193169,
         "prevalence": 0.002506265664160401
        },
        {
         "ancestor_concept_id": 4206591,
         "concept_code": "309524007",
         "concept_name": "Mass of trunk",
         "count_in_cohort": 2,
         "descendant_concept_id": 4206591,
         "prevalence": 0.002506265664160401
        },
        {
         "ancestor_concept_id": 4043671,
         "concept_code": "129134004",
         "concept_name": "Inflammatory disorder of upper respiratory tract",
         "count_in_cohort": 2,
         "descendant_concept_id": 4043671,
         "prevalence": 0.002506265664160401
        },
        {
         "ancestor_concept_id": 255919,
         "concept_code": "118254002",
         "concept_name": "Finding of head and neck region",
         "count_in_cohort": 2,
         "descendant_concept_id": 255919,
         "prevalence": 0.002506265664160401
        },
        {
         "ancestor_concept_id": 4339468,
         "concept_code": "232208008",
         "concept_name": "Ear, nose and throat disorder",
         "count_in_cohort": 2,
         "descendant_concept_id": 4339468,
         "prevalence": 0.002506265664160401
        },
        {
         "ancestor_concept_id": 192438,
         "concept_code": "271860004",
         "concept_name": "Abdominal mass",
         "count_in_cohort": 2,
         "descendant_concept_id": 192438,
         "prevalence": 0.002506265664160401
        },
        {
         "ancestor_concept_id": 4162282,
         "concept_code": "373405005",
         "concept_name": "Inflammatory disorder of the respiratory system",
         "count_in_cohort": 2,
         "descendant_concept_id": 4162282,
         "prevalence": 0.002506265664160401
        },
        {
         "ancestor_concept_id": 4115106,
         "concept_code": "300855001",
         "concept_name": "Mass of digestive structure",
         "count_in_cohort": 2,
         "descendant_concept_id": 4115106,
         "prevalence": 0.002506265664160401
        },
        {
         "ancestor_concept_id": 4027384,
         "concept_code": "128139000",
         "concept_name": "Inflammatory disorder",
         "count_in_cohort": 2,
         "descendant_concept_id": 4027384,
         "prevalence": 0.002506265664160401
        },
        {
         "ancestor_concept_id": 4103320,
         "concept_code": "301186004",
         "concept_name": "Upper respiratory tract finding",
         "count_in_cohort": 2,
         "descendant_concept_id": 4103320,
         "prevalence": 0.002506265664160401
        },
        {
         "ancestor_concept_id": 4091532,
         "concept_code": "249562008",
         "concept_name": "Bowel finding",
         "count_in_cohort": 2,
         "descendant_concept_id": 4091532,
         "prevalence": 0.002506265664160401
        },
        {
         "ancestor_concept_id": 4226263,
         "concept_code": "405737000",
         "concept_name": "Pharyngitis",
         "count_in_cohort": 1,
         "descendant_concept_id": 4226263,
         "prevalence": 0.0012531328320802004
        },
        {
         "ancestor_concept_id": 4216644,
         "concept_code": "39772007",
         "concept_name": "Rectal polyp",
         "count_in_cohort": 1,
         "descendant_concept_id": 4216644,
         "prevalence": 0.0012531328320802004
        },
        {
         "ancestor_concept_id": 4209223,
         "concept_code": "441456002",
         "concept_name": "Polyp",
         "count_in_cohort": 1,
         "descendant_concept_id": 4209223,
         "prevalence": 0.0012531328320802004
        },
        {
         "ancestor_concept_id": 4180790,
         "concept_code": "363406005",
         "concept_name": "Malignant tumor of colon",
         "count_in_cohort": 1,
         "descendant_concept_id": 4180790,
         "prevalence": 0.0012531328320802004
        },
        {
         "ancestor_concept_id": 257011,
         "concept_code": "54398005",
         "concept_name": "Acute upper respiratory infection",
         "count_in_cohort": 1,
         "descendant_concept_id": 257011,
         "prevalence": 0.0012531328320802004
        },
        {
         "ancestor_concept_id": 4182161,
         "concept_code": "298364001",
         "concept_name": "Finding of head region",
         "count_in_cohort": 1,
         "descendant_concept_id": 4182161,
         "prevalence": 0.0012531328320802004
        },
        {
         "ancestor_concept_id": 4043371,
         "concept_code": "128999004",
         "concept_name": "Inflammatory disorder of digestive tract",
         "count_in_cohort": 1,
         "descendant_concept_id": 4043371,
         "prevalence": 0.0012531328320802004
        },
        {
         "ancestor_concept_id": 4132555,
         "concept_code": "127331007",
         "concept_name": "Neoplasm by body site",
         "count_in_cohort": 1,
         "descendant_concept_id": 4132555,
         "prevalence": 0.0012531328320802004
        },
        {
         "ancestor_concept_id": 40491001,
         "concept_code": "448675008",
         "concept_name": "Malignant neoplasm of digestive system",
         "count_in_cohort": 1,
         "descendant_concept_id": 40491001,
         "prevalence": 0.0012531328320802004
        },
        {
         "ancestor_concept_id": 4176944,
         "concept_code": "363166002",
         "concept_name": "Infective disorder of head",
         "count_in_cohort": 1,
         "descendant_concept_id": 4176944,
         "prevalence": 0.0012531328320802004
        },
        {
         "ancestor_concept_id": 4181063,
         "concept_code": "363169009",
         "concept_name": "Inflammation of specific body organs",
         "count_in_cohort": 1,
         "descendant_concept_id": 4181063,
         "prevalence": 0.0012531328320802004
        },
        {
         "ancestor_concept_id": 443396,
         "concept_code": "363510005",
         "concept_name": "Malignant tumor of large intestine",
         "count_in_cohort": 1,
         "descendant_concept_id": 443396,
         "prevalence": 0.0012531328320802004
        },
        {
         "ancestor_concept_id": 75909,
         "concept_code": "76069003",
         "concept_name": "Disorder of bone",
         "count_in_cohort": 1,
         "descendant_concept_id": 75909,
         "prevalence": 0.0012531328320802004
        },
        {
         "ancestor_concept_id": 4130373,
         "concept_code": "126768004",
         "concept_name": "Neoplasm of gastrointestinal tract",
         "count_in_cohort": 1,
         "descendant_concept_id": 4130373,
         "prevalence": 0.0012531328320802004
        },
        {
         "ancestor_concept_id": 4131598,
         "concept_code": "126769007",
         "concept_name": "Neoplasm of intestinal tract",
         "count_in_cohort": 1,
         "descendant_concept_id": 4131598,
         "prevalence": 0.0012531328320802004
        },
        {
         "ancestor_concept_id": 443568,
         "concept_code": "428905002",
         "concept_name": "Malignant neoplasm of gastrointestinal tract",
         "count_in_cohort": 1,
         "descendant_concept_id": 443568,
         "prevalence": 0.0012531328320802004
        },
        {
         "ancestor_concept_id": 40481087,
         "concept_code": "444814009",
         "concept_name": "Viral sinusitis",
         "count_in_cohort": 1,
         "descendant_concept_id": 40481087,
         "prevalence": 0.0012531328320802004
        },
        {
         "ancestor_concept_id": 4112343,
         "concept_code": "195662009",
         "concept_name": "Acute viral pharyngitis",
         "count_in_cohort": 1,
         "descendant_concept_id": 4112343,
         "prevalence": 0.0012531328320802004
        },
        {
         "ancestor_concept_id": 4181187,
         "concept_code": "363176004",
         "concept_name": "Inflammatory disorder of head",
         "count_in_cohort": 1,
         "descendant_concept_id": 4181187,
         "prevalence": 0.0012531328320802004
        },
        {
         "ancestor_concept_id": 443392,
         "concept_code": "363346000",
         "concept_name": "Malignant neoplastic disease",
         "count_in_cohort": 1,
         "descendant_concept_id": 443392,
         "prevalence": 0.0012531328320802004
        },
        {
         "ancestor_concept_id": 79069,
         "concept_code": "5964004",
         "concept_name": "Disorder of rectum",
         "count_in_cohort": 1,
         "descendant_concept_id": 79069,
         "prevalence": 0.0012531328320802004
        },
        {
         "ancestor_concept_id": 31057,
         "concept_code": "75860007",
         "concept_name": "Disorder of pharynx",
         "count_in_cohort": 1,
         "descendant_concept_id": 31057,
         "prevalence": 0.0012531328320802004
        },
        {
         "ancestor_concept_id": 4339410,
         "concept_code": "88230002",
         "concept_name": "Disorder of skeletal system",
         "count_in_cohort": 1,
         "descendant_concept_id": 4339410,
         "prevalence": 0.0012531328320802004
        },
        {
         "ancestor_concept_id": 45763613,
         "concept_code": "67401000119103",
         "concept_name": "Colonic lesion",
         "count_in_cohort": 1,
         "descendant_concept_id": 45763613,
         "prevalence": 0.0012531328320802004
        },
        {
         "ancestor_concept_id": 4042505,
         "concept_code": "118953000",
         "concept_name": "Bone finding",
         "count_in_cohort": 1,
         "descendant_concept_id": 4042505,
         "prevalence": 0.0012531328320802004
        },
        {
         "ancestor_concept_id": 4054501,
         "concept_code": "126637008",
         "concept_name": "Neoplasm of trunk",
         "count_in_cohort": 1,
         "descendant_concept_id": 4054501,
         "prevalence": 0.0012531328320802004
        },
        {
         "ancestor_concept_id": 4130514,
         "concept_code": "126837005",
         "concept_name": "Neoplasm of large intestine",
         "count_in_cohort": 1,
         "descendant_concept_id": 4130514,
         "prevalence": 0.0012531328320802004
        },
        {
         "ancestor_concept_id": 4130995,
         "concept_code": "126838000",
         "concept_name": "Neoplasm of colon",
         "count_in_cohort": 1,
         "descendant_concept_id": 4130995,
         "prevalence": 0.0012531328320802004
        },
        {
         "ancestor_concept_id": 4283893,
         "concept_code": "36971009",
         "concept_name": "Sinusitis",
         "count_in_cohort": 1,
         "descendant_concept_id": 4283893,
         "prevalence": 0.0012531328320802004
        },
        {
         "ancestor_concept_id": 4190185,
         "concept_code": "373407002",
         "concept_name": "Inflammatory disorder of digestive system",
         "count_in_cohort": 1,
         "descendant_concept_id": 4190185,
         "prevalence": 0.0012531328320802004
        },
        {
         "ancestor_concept_id": 4164337,
         "concept_code": "399505005",
         "concept_name": "Polyp of large intestine",
         "count_in_cohort": 1,
         "descendant_concept_id": 4164337,
         "prevalence": 0.0012531328320802004
        },
        {
         "ancestor_concept_id": 4143250,
         "concept_code": "425711007",
         "concept_name": "Mass of colon",
         "count_in_cohort": 1,
         "descendant_concept_id": 4143250,
         "prevalence": 0.0012531328320802004
        },
        {
         "ancestor_concept_id": 4198525,
         "concept_code": "50410009",
         "concept_name": "Disorder of upper digestive tract",
         "count_in_cohort": 1,
         "descendant_concept_id": 4198525,
         "prevalence": 0.0012531328320802004
        },
        {
         "ancestor_concept_id": 4145825,
         "concept_code": "426867001",
         "concept_name": "Anorectal disorder",
         "count_in_cohort": 1,
         "descendant_concept_id": 4145825,
         "prevalence": 0.0012531328320802004
        },
        {
         "ancestor_concept_id": 201131,
         "concept_code": "74285003",
         "concept_name": "Pelvic mass",
         "count_in_cohort": 1,
         "descendant_concept_id": 201131,
         "prevalence": 0.0012531328320802004
        },
        {
         "ancestor_concept_id": 4035987,
         "concept_code": "1532007",
         "concept_name": "Viral pharyngitis",
         "count_in_cohort": 1,
         "descendant_concept_id": 4035987,
         "prevalence": 0.0012531328320802004
        },
        {
         "ancestor_concept_id": 197506,
         "concept_code": "188366002",
         "concept_name": "Malignant neoplasm of abdomen",
         "count_in_cohort": 1,
         "descendant_concept_id": 197506,
         "prevalence": 0.0012531328320802004
        },
        {
         "ancestor_concept_id": 4112341,
         "concept_code": "195647007",
         "concept_name": "Acute respiratory infections",
         "count_in_cohort": 1,
         "descendant_concept_id": 4112341,
         "prevalence": 0.0012531328320802004
        },
        {
         "ancestor_concept_id": 4266186,
         "concept_code": "399981008",
         "concept_name": "Neoplasm and/or hamartoma",
         "count_in_cohort": 1,
         "descendant_concept_id": 4266186,
         "prevalence": 0.0012531328320802004
        },
        {
         "ancestor_concept_id": 80502,
         "concept_code": "64859006",
         "concept_name": "Osteoporosis",
         "count_in_cohort": 1,
         "descendant_concept_id": 80502,
         "prevalence": 0.0012531328320802004
        },
        {
         "ancestor_concept_id": 43531059,
         "concept_code": "609625009",
         "concept_name": "Finding of pelvic region of trunk",
         "count_in_cohort": 1,
         "descendant_concept_id": 43531059,
         "prevalence": 0.0012531328320802004
        },
        {
         "ancestor_concept_id": 37017023,
         "concept_code": "713197008",
         "concept_name": "Recurrent rectal polyp",
         "count_in_cohort": 1,
         "descendant_concept_id": 37017023,
         "prevalence": 0.0012531328320802004
        },
        {
         "ancestor_concept_id": 4028253,
         "concept_code": "128348002",
         "concept_name": "Neoplasm of digestive system",
         "count_in_cohort": 1,
         "descendant_concept_id": 4028253,
         "prevalence": 0.0012531328320802004
        },
        {
         "ancestor_concept_id": 4091363,
         "concept_code": "249376008",
         "concept_name": "Mouth and/or pharynx finding",
         "count_in_cohort": 1,
         "descendant_concept_id": 4091363,
         "prevalence": 0.0012531328320802004
        },
        {
         "ancestor_concept_id": 4112731,
         "concept_code": "254588001",
         "concept_name": "Polyp of intestine",
         "count_in_cohort": 1,
         "descendant_concept_id": 4112731,
         "prevalence": 0.0012531328320802004
        },
        {
         "ancestor_concept_id": 4101219,
         "concept_code": "300310003",
         "concept_name": "Finding of colon",
         "count_in_cohort": 1,
         "descendant_concept_id": 4101219,
         "prevalence": 0.0012531328320802004
        },
        {
         "ancestor_concept_id": 135930,
         "concept_code": "106028002",
         "concept_name": "Musculoskeletal finding",
         "count_in_cohort": 1,
         "descendant_concept_id": 135930,
         "prevalence": 0.0012531328320802004
        },
        {
         "ancestor_concept_id": 4022571,
         "concept_code": "116338005",
         "concept_name": "Pharyngeal finding",
         "count_in_cohort": 1,
         "descendant_concept_id": 4022571,
         "prevalence": 0.0012531328320802004
        },
        {
         "ancestor_concept_id": 4132552,
         "concept_code": "127321000",
         "concept_name": "Acute digestive system disorder",
         "count_in_cohort": 1,
         "descendant_concept_id": 4132552,
         "prevalence": 0.0012531328320802004
        },
        {
         "ancestor_concept_id": 40492037,
         "concept_code": "448882009",
         "concept_name": "Malignant neoplasm of intraabdominal organ",
         "count_in_cohort": 1,
         "descendant_concept_id": 40492037,
         "prevalence": 0.0012531328320802004
        },
        {
         "ancestor_concept_id": 443398,
         "concept_code": "363508008",
         "concept_name": "Malignant tumor of intestine",
         "count_in_cohort": 1,
         "descendant_concept_id": 443398,
         "prevalence": 0.0012531328320802004
        },
        {
         "ancestor_concept_id": 25297,
         "concept_code": "363746003",
         "concept_name": "Acute pharyngitis",
         "count_in_cohort": 1,
         "descendant_concept_id": 25297,
         "prevalence": 0.0012531328320802004
        },
        {
         "ancestor_concept_id": 4247371,
         "concept_code": "406122000",
         "concept_name": "Head finding",
         "count_in_cohort": 1,
         "descendant_concept_id": 4247371,
         "prevalence": 0.0012531328320802004
        },
        {
         "ancestor_concept_id": 4252853,
         "concept_code": "409631000",
         "concept_name": "Acute viral disease",
         "count_in_cohort": 1,
         "descendant_concept_id": 4252853,
         "prevalence": 0.0012531328320802004
        },
        {
         "ancestor_concept_id": 438112,
         "concept_code": "55342001",
         "concept_name": "Neoplastic disease",
         "count_in_cohort": 1,
         "descendant_concept_id": 438112,
         "prevalence": 0.0012531328320802004
        },
        {
         "ancestor_concept_id": 256440,
         "concept_code": "7393007",
         "concept_name": "Disorder of nasal sinus",
         "count_in_cohort": 1,
         "descendant_concept_id": 256440,
         "prevalence": 0.0012531328320802004
        },
        {
         "ancestor_concept_id": 4193875,
         "concept_code": "312131008",
         "concept_name": "Viral infection of the digestive tract",
         "count_in_cohort": 1,
         "descendant_concept_id": 4193875,
         "prevalence": 0.0012531328320802004
        },
        {
         "ancestor_concept_id": 43531060,
         "concept_code": "609626005",
         "concept_name": "Finding of pelvis",
         "count_in_cohort": 1,
         "descendant_concept_id": 43531060,
         "prevalence": 0.0012531328320802004
        },
        {
         "ancestor_concept_id": 4134593,
         "concept_code": "128284006",
         "concept_name": "Chronic digestive system disorder",
         "count_in_cohort": 1,
         "descendant_concept_id": 4134593,
         "prevalence": 0.0012531328320802004
        },
        {
         "ancestor_concept_id": 4244662,
         "concept_code": "928000",
         "concept_name": "Disorder of musculoskeletal system",
         "count_in_cohort": 1,
         "descendant_concept_id": 4244662,
         "prevalence": 0.0012531328320802004
        },
        {
         "ancestor_concept_id": 4103995,
         "concept_code": "300312006",
         "concept_name": "Lesion of rectum",
         "count_in_cohort": 1,
         "descendant_concept_id": 4103995,
         "prevalence": 0.0012531328320802004
        },
        {
         "ancestor_concept_id": 4193318,
         "concept_code": "312422001",
         "concept_name": "Infective pharyngitis",
         "count_in_cohort": 1,
         "descendant_concept_id": 4193318,
         "prevalence": 0.0012531328320802004
        },
        {
         "ancestor_concept_id": 43531054,
         "concept_code": "609620004",
         "concept_name": "Disorder of pelvis",
         "count_in_cohort": 1,
         "descendant_concept_id": 43531054,
         "prevalence": 0.0012531328320802004
        },
        {
         "ancestor_concept_id": 43531053,
         "concept_code": "609619005",
         "concept_name": "Disorder of pelvic region of trunk",
         "count_in_cohort": 1,
         "descendant_concept_id": 43531053,
         "prevalence": 0.0012531328320802004
        },
        {
         "ancestor_concept_id": 36683531,
         "concept_code": "781382000",
         "concept_name": "Malignant neoplasm of colon and/or rectum",
         "count_in_cohort": 1,
         "descendant_concept_id": 36683531,
         "prevalence": 0.0012531328320802004
        },
        {
         "ancestor_concept_id": 4133974,
         "concept_code": "128050000",
         "concept_name": "Neoplasm of abdomen",
         "count_in_cohort": 1,
         "descendant_concept_id": 4133974,
         "prevalence": 0.0012531328320802004
        },
        {
         "ancestor_concept_id": 4158326,
         "concept_code": "271745005",
         "concept_name": "Facial sinus finding",
         "count_in_cohort": 1,
         "descendant_concept_id": 4158326,
         "prevalence": 0.0012531328320802004
        },
        {
         "ancestor_concept_id": 440059,
         "concept_code": "58184002",
         "concept_name": "Recurrent disease",
         "count_in_cohort": 1,
         "descendant_concept_id": 440059,
         "prevalence": 0.0012531328320802004
        },
        {
         "ancestor_concept_id": 4193990,
         "concept_code": "312158001",
         "concept_name": "Infection of digestive system",
         "count_in_cohort": 1,
         "descendant_concept_id": 4193990,
         "prevalence": 0.0012531328320802004
        },
        {
         "ancestor_concept_id": 4042836,
         "concept_code": "118934005",
         "concept_name": "Disorder of head",
         "count_in_cohort": 1,
         "descendant_concept_id": 4042836,
         "prevalence": 0.0012531328320802004
        },
        {
         "ancestor_concept_id": 4054503,
         "concept_code": "126643005",
         "concept_name": "Neoplasm of intra-abdominal organs",
         "count_in_cohort": 1,
         "descendant_concept_id": 4054503,
         "prevalence": 0.0012531328320802004
        },
        {
         "ancestor_concept_id": 4134294,
         "concept_code": "128482007",
         "concept_name": "Acute inflammatory disease",
         "count_in_cohort": 1,
         "descendant_concept_id": 4134294,
         "prevalence": 0.0012531328320802004
        },
        {
         "ancestor_concept_id": 4111798,
         "concept_code": "254532005",
         "concept_name": "Neoplasm of digestive organ",
         "count_in_cohort": 1,
         "descendant_concept_id": 4111798,
         "prevalence": 0.0012531328320802004
        },
        {
         "ancestor_concept_id": 4134887,
         "concept_code": "128398001",
         "concept_name": "Infectious disease of digestive tract",
         "count_in_cohort": 1,
         "descendant_concept_id": 4134887,
         "prevalence": 0.0012531328320802004
        },
        {
         "ancestor_concept_id": 4027880,
         "concept_code": "128524007",
         "concept_name": "Disorder of colon",
         "count_in_cohort": 1,
         "descendant_concept_id": 4027880,
         "prevalence": 0.0012531328320802004
        },
        {
         "ancestor_concept_id": 4087647,
         "concept_code": "248523006",
         "concept_name": "Rectal mass",
         "count_in_cohort": 1,
         "descendant_concept_id": 4087647,
         "prevalence": 0.0012531328320802004
        },
        {
         "ancestor_concept_id": 196931,
         "concept_code": "128415001",
         "concept_name": "Neoplasm of digestive tract",
         "count_in_cohort": 1,
         "descendant_concept_id": 196931,
         "prevalence": 0.0012531328320802004
        },
        {
         "ancestor_concept_id": 4096976,
         "concept_code": "249597005",
         "concept_name": "Rectum finding",
         "count_in_cohort": 1,
         "descendant_concept_id": 4096976,
         "prevalence": 0.0012531328320802004
        },
        {
         "ancestor_concept_id": 443783,
         "concept_code": "27624003",
         "concept_name": "Chronic disease",
         "count_in_cohort": 1,
         "descendant_concept_id": 443783,
         "prevalence": 0.0012531328320802004
        },
        {
         "ancestor_concept_id": 4116238,
         "concept_code": "255077007",
         "concept_name": "Malignant tumor of digestive organ",
         "count_in_cohort": 1,
         "descendant_concept_id": 4116238,
         "prevalence": 0.0012531328320802004
        }
       ],
       "_concepts2": [],
       "_css": "/* PAGE LAYOUT */\n\n.vis-container {\n    display: flex;\n    flex-direction: column;\n    align-items: center;\n    width: 100%;\n    height: auto;\n    overflow: hidden;\n}\n.row-container {\n    display: flex;\n    justify-content: space-around;\n    width: 100%;\n    height: auto;\n    overflow: hidden;\n    /*margin-bottom: 5px;*/\n}\n.col-container {\n    flex: 1;\n    margin: 5px;\n    border: 1px solid black;\n    width: 100%;\n}\n\n/* overall barchart size */\n.barchart{\n    font-family: sans-serif;\n    font-size: 12px;\n    width: 100%;  /* allows resize to fit the page*/\n    height: auto;\n}\n\n/* BAR CHART STYLES */\n\n/* bars */\n.bar1 {\n    fill: steelblue;\n}\n.bar2 {\n    fill: orange;\n}\n/* axis labels */\n.axis-label {\n    font-family: sans-serif;\n    font-size: 14px;\n}\n/* lines and tick marks */\n.axis path,\n.axis line {\n    fill: none;\n    stroke: black;\n    shape-rendering: crispEdges;\n}\n/* axis text */\n.axis text {\n    font-family: sans-serif;\n    font-size: 14px;\n}\n\n/* TABLE STYLES */\n\n.concepts-row{\n    width: 100%;\n    height: 400px;\n}\n\n.div-concepts-table-body {\n    margin-top: 30px;\n    width: 100%;\n    height: calc(100% - 30px);\n    overflow-y: auto;\n    background-color: #f9f9f9;\n}\n\n.full-width {\n    width: 100%;\n}",
       "_esm": "import * as d3 from 'https://esm.sh/d3@7';\n\n// function initialize({ model }) {\n//     // Set up shared state or event handlers.\n//     return () => {\n//       // Optional: Called when the widget is destroyed.\n//     }\n// } // end initialize\n\nfunction render({ model, el }) {\n    // for testing\n    // alert('hello');\n\n    // DISPATCHERS\n\n    // for handling the concepts table\n    let conceptsTableDispatcher = d3.dispatch('filter','sort');\n\n\n    // <editor-fold desc=\"---------- UTILITY FUNCTIONS ----------\"\n\n    // clears an element\n    function clearElement(element) {\n        element.selectAll('*').remove();\n    }\n\n    // converts timestamp to formatted date 'YYYY-MM-DD'\n    function getIsoDateString(timestamp) {\n        let aDate = new Date(timestamp);\n        return aDate.toISOString().split('T')[0];\n    }\n\n    // converts keys to readable words by:\n    // 1. replacing the underscore with a space, and\n    // 2. capitalizing the first letter of each word\n    function makeKeysWords (keys) {\n        return keys.map(key => {\n            return key.split('_')\n                .map(part => part.charAt(0).toUpperCase() + part.slice(1))\n                .join(' ');\n        });\n    }\n    // </editor-fold>\n\n    // <editor-fold desc=\"---------- DEFINE DATA ----------\">\n\n    var concepts1 = model.get('_concepts1');\n    var race_stats1 = model.get('_race_stats1');\n    var gender_dist1 = model.get('_gender_dist1');\n    var age_dist1 = model.get('_age_dist1');\n\n    var concepts2 = model.get('_concepts2');\n    var race_stats2 = model.get('_race_stats2');\n    var gender_dist2 = model.get('_gender_dist2');\n    var age_dist2 = model.get('_age_dist2');\n\n    // </editor-fold>\n\n    // <editor-fold desc=\"---------- VISUAL CONTROL FUNCTIONS ----------\">\n\n    /*\n* draws a search box\n* Parameters:\n*   containerId: type: string - prepended id of container where the control is to be rendered.\n*   dispatch: d3.dispatch instance - user input event handler\n*   label: type: string - label for the control\n*   width: type: string - the width of the input box in pixels\n*   data: type: list of objects - each object should have the keys display (string),\n*                                        and data (anything needed to handle the selection\n*   handleSearch: type: function - callback\n* Return:\n*   div: DOM div element containing input box\n*/\n    function SearchBox(dispatch, label='Search', width=300) {\n        let div = d3.create(\"xhtml:div\")\n            .attr(\"xmlns\", \"http://www.w3.org/1999/xhtml\")\n            .style(\"padding\", \"10px\");\n\n        let input = div.append('input')\n            .attr('type', 'text')\n            .attr('placeholder', label);\n\n        input.on('input', function (event) {\n            dispatch.call('filter', this, event.target.value);  // dispatch filter event\n        });\n\n        return div;\n    }\n\n    // </editor-fold>\n\n    // <editor-fold desc=\"---------- VERTICAL BAR CHART FUNCTIONS ----------\">\n\n    function VerticalBarChart(\n        series1,  // required\n        {\n            series2 = { data: null, name: \"cohort 2\" },   // default object\n            dimensions: {\n                xlabel = \"\",\n                ylabel = \"\",\n                title = \"\",\n                width = 600,\n                height = 400,\n                margin = { top: 40, right: 10, bottom: 60, left: 80 },\n                padding = 0.1\n            } = {}\n        } = {}  // default for options object\n    ) {\n        // validate series1\n        if (!series1 || !series1.data) {\n            throw new Error(\"SvgVerticalBarChart requires series1 with a 'data' property.\");\n        }\n\n        // default series1 name if missing\n        if (!series1.name){\n            series1.name = \"cohort 1\";\n        }\n\n        let svg = d3.create('svg')\n            .attr('class', 'barchart')\n            .attr('width', width)\n            .attr('height', height)\n            .attr('viewBox', `0 0 ${width} ${height}`)\n            .attr('preserveAspectRatio', 'xMidYMid meet');\n\n        // Combine data for scales\n        const combinedData = series2.data ? series1.data.concat(series2.data) : series1.data;\n\n        // Set up scales\n        const xScale = d3.scaleBand(series1.data.map(d => d.category),\n            [margin.left, width - margin.right])\n            .padding(padding);\n\n        const yScale = d3.scaleLinear([0, d3.max(combinedData, d => d.value)],\n            [height - margin.bottom, margin.top])\n            .nice();\n\n        // Add X-axis\n        svg.append('g')\n            .attr('transform', `translate(0, ${height - margin.bottom})`)\n            .call(d3.axisBottom(xScale))\n            .attr('class', 'axis');\n        // .selectAll('text')\n        // .attr('transform', 'rotate(-45)')\n        // .style('text-anchor', 'end');\n\n        // x-axis label\n        svg.append('text')\n            .attr('class', 'axis-label')\n            .attr('x', width / 2)\n            .attr('y', height - 20)\n            .style('text-anchor', 'middle')\n            .text(xlabel);\n\n        // Add Y-axis\n        svg.append('g')\n            .attr('transform', `translate(${margin.left}, 0)`)\n            .call(d3.axisLeft(yScale))\n            .attr('class', 'axis');\n\n        // y-axis label\n        svg.append('text')\n            .attr('class', 'axis-label')\n            .attr('transform', 'rotate(-90)')\n            .attr('x', height / 2 * -1)\n            .attr('y', 20)\n            .attr('text-anchor', 'middle')\n            .text(ylabel);\n\n        if (title === '' && xlabel !== ''){\n            title = xlabel + ' Distribution';\n        }\n\n        svg.append('text')\n            .attr('class', 'chart-title')\n            .attr('text-anchor', 'middle')\n            .attr('x', width / 2)\n            .attr('y', margin.top / 2)\n            .text(title);\n\n        // console.log(xScale.bandwidth());\n\n        // series 1 bars\n        svg.selectAll('.bar1')\n            .data(series1.data)\n            .enter()\n            .append('rect')\n            .attr('class', 'bar1')\n            .attr('x', d => xScale(d.category))\n            .attr('y', d => yScale(d.value))\n            .attr('width', xScale.bandwidth())\n            .attr('height', d => height - margin.bottom - yScale(d.value));\n\n\n        if (series2.data && series2.data.length > 0) {\n            // series 2 data bars\n            svg.selectAll('.bar2')\n                .data(series2.data)\n                .enter()\n                .append('rect')\n                .attr('class', 'bar2')\n                .attr('x', d => xScale(d.category) + xScale.bandwidth() / 2)\n                .attr('y', d => yScale(d.value))\n                .attr('width', xScale.bandwidth() / 2)\n                .attr('height', d => height - margin.bottom - yScale(d.value));\n\n            // Add labels for series 2 data\n            svg.selectAll('.label2')\n                .data(series2.data)\n                .enter()\n                .append('text')\n                .attr('class', 'label2')\n                .attr('x', d => xScale(d.category) + xScale.bandwidth() / 2 + 25)\n                .attr('y', d => yScale(d.value) - 5)\n                .attr('text-anchor', 'middle')\n                .text(d => d.value);\n\n            // labels for series 1 data if there are 2 datasets\n            svg.selectAll('.label1')\n                .data(series1.data)\n                .enter()\n                .append('text')\n                .attr('class', 'label1')\n                .attr('x', d => xScale(d.category) + xScale.bandwidth() / 2 - xScale.bandwidth() / 4)\n                .attr('y', d => yScale(d.value) - 5)\n                .attr('text-anchor', 'middle')\n                .text(d => d.value);\n\n            // only show legend if there are 2 datasets\n            const legendData = [\n                { label: series1.name, color: 'steelblue' },\n                { label: series2.name, color: 'orange' }\n            ];\n\n            const legend = svg.append('g')\n                .attr('class', 'legend')\n                .attr('transform', `translate(${margin.left}, ${height - 20})`);\n\n            legend.selectAll('rect')\n                .data(legendData)\n                .enter()\n                .append('rect')\n                .attr('x', (d, i) => i * 100) // Adjust spacing as needed\n                .attr('y', 0)\n                .attr('width', 18)\n                .attr('height', 18)\n                .attr('fill', d => d.color);\n\n            legend.selectAll('text')\n                .data(legendData)\n                .enter()\n                .append('text')\n                .attr('x', (d, i) => i * 100 + 24) // Adjust spacing as needed\n                .attr('y', 9)\n                .attr('dy', '0.35em')\n                .text(d => d.label);\n        }\n        else{\n            // labels for series 1 data if there is 1 dataset\n            svg.selectAll('.label1')\n                .data(series1.data)\n                .enter()\n                .append('text')\n                .attr('class', 'label1')\n                .attr('x', d => xScale(d.category) + xScale.bandwidth() / 2 + 5)\n                .attr('y', d => yScale(d.value) - 5)\n                .attr('text-anchor', 'middle')\n                .text(d => d.value);\n        }\n\n        return svg;\n    }\n\n    // </editor-fold>\n\n    // <editor-fold desc=\"---------- CONCEPTS TABLE FUNCTIONS ----------\">\n\n    function prepareConceptsCompareData(concepts1, concepts2) {\n\n        // console.log(`Concepts1: ${JSON.stringify(concepts1)}`);\n        // console.log(`Concepts2: ${JSON.stringify(concepts2)}`);\n\n        // function hellingerDistance(P, Q) {\n        //     if (P.length !== Q.length) {\n        //         throw new Error(\"The distributions must have the same length.\");\n        //     }\n        //\n        //     let sum = 0;\n        //     for (let i = 0; i < P.length; i++) {\n        //         sum += Math.pow(Math.sqrt(P[i]) - Math.sqrt(Q[i]), 2);\n        //     }\n        //\n        //     return (1 / Math.sqrt(2)) * Math.sqrt(sum);\n        // }\n\n        let mergedList = concepts1.map(item1 => {\n            const item2 = concepts2.find(item => item.concept_code === item1.concept_code);\n            return Object.assign({}, item1, item2);\n        });\n\n        // Add a key-value pair based on a calculation (e.g., double the age)\n        mergedList = mergedList.map(item => {\n            item.difference = (item.study_prevalence ?? 0) - (item.base_prevalence ?? 0);\n\n            // item.bias = hellingerDistance(item.study_prevalence, item.base_prevalence);\n            item.bias = Math.abs(item.difference);\n            delete item.study_count;\n            delete item.base_count;\n            delete item.ancestor_concept_id;\n            delete item.descendant_concept_id;\n            return item;\n        });\n\n        const order = ['concept_code', 'concept_name', 'base_prevalence', 'difference', 'study_prevalence', 'bias'];\n\n        mergedList = mergedList.map(item => {\n            const rearrangedItem = {};\n            order.forEach(key => {\n                if (item.hasOwnProperty(key)) {\n                    rearrangedItem[key] = item[key];\n                }\n            });\n            return rearrangedItem;\n        });\n\n        mergedList.sort((a, b) => b.bias - a.bias);\n\n        // console.log(mergedList);\n\n        return mergedList;\n    }\n\n    function handleFilterConceptsTable(dispatch, row, body_svg) {\n        dispatch.on(\"filter\", search_term => {\n            const normalized = search_term.toLowerCase().replace(/[^a-z0-9]/g, \"\");\n            row.style(\"display\", null);\n            row.filter(d => {\n                const code = d.concept_code.toLowerCase();\n                const name = d.concept_name.toLowerCase().replace(/[^a-z0-9]/g, \"\");\n                return !(code.startsWith(normalized) || name.includes(normalized));\n            }).style(\"display\", \"none\");\n\n            // Recompute Y positions for visible rows\n            let yOffset = 0;\n            row.filter(function () {\n                return d3.select(this).style(\"display\") !== \"none\";\n            })\n                .each(function () {\n                    d3.select(this).attr(\"transform\", `translate(0, ${yOffset})`);\n                    yOffset += parseFloat(d3.select(this).select(\"rect\").attr(\"height\"));\n                });\n            body_svg.attr(\"height\", yOffset);\n        });\n    }\n\n    function ConceptsTable(data, dispatch,\n                           {data2 = null,\n                               dimensions = { height: 432, row_height: 30 }} = {}){\n        // ==== Validation for required params ====\n        if (data === null) {\n            throw new Error(\"drawConceptsTable requires a 'data' parameter.\");\n        }\n\n        if (\n            !dispatch ||\n            typeof dispatch !== \"object\" ||\n            typeof dispatch.call !== \"function\" ||\n            typeof dispatch.on !== \"function\"\n        ) {\n            throw new Error(\"drawConceptsTable requires a valid d3.dispatch object.\");\n        }\n\n        // ==== Validate optional params ====\n        if (data2 !== null && !Array.isArray(data2)) {\n            console.warn(\"drawConceptsTable: 'data2' should be an array (or null).\");\n        }\n\n        if (typeof dimensions !== \"object\" || dimensions === null) {\n            throw new Error(\"drawConceptsTable: 'dimensions' must be an object.\");\n        }\n\n        let table_data;\n        if (data2 !== null) {\n            table_data = prepareConceptsCompareData(data, data2);\n        } else {\n            table_data = data;\n        }\n\n        const text_offset_x = 10;\n        const { height, row_height } = dimensions;\n\n        // === container with scroll ===\n        const container = d3.create(\"div\")\n            .style(\"width\", \"100%\")\n            .style(\"max-height\", height + \"px\")\n            .style(\"overflow\", \"auto\")\n            .style(\"position\", \"relative\")\n            .style(\"border\", \"1px solid #ccc\")\n            .style(\"font-family\", \"sans-serif\");\n\n        // === HEADERS ===\n\n        const headers_text = makeKeysWords(Object.keys(table_data[0]));\n        if (!table_data.length) {\n            throw new Error(\"drawConceptsTable: table_data is empty.\");\n        }\n\n        // TODO: I have assumed a maximum drawing area width of about 1070px. We may need to change this so that we get\n        //       the available canvas size and dynamically resize the visualization accordingly.\n        let columns_data;\n        if(data2 === null){\n            columns_data = [\n                { text: headers_text[1], field: \"concept_code\", x: 0, width: 160 },\n                { text: headers_text[0], field: \"concept_name\", x: 160, width: 590 },\n                { text: headers_text[2], field: \"count_in_cohort\", x: 750, width: 160 },\n                { text: headers_text[3],\n                    field: d => (d.prevalence !== null ? d.prevalence.toFixed(3) : \"\"), x: 910, width: 160 }\n            ];\n        }\n        else{\n            columns_data = [\n                { text: headers_text[0], field: \"concept_code\", x: 0, width: 140, type: 'text' },\n                { text: headers_text[1], field: \"concept_name\", x: 140, width: 330, type: 'text' },\n                { text: headers_text[2],\n                    field: d => (d.base_prevalence !== null ? d.base_prevalence.toFixed(3) : \"\"),\n                    x: 470, width: 120, type: 'text' },\n                { text: headers_text[3], field: \"difference\", x: 590, width: 240, type: 'compare_bars' },\n                { text: headers_text[4],\n                    field: d => (d.study_prevalence !== null ? d.study_prevalence.toFixed(3) : \"\"),\n                    x: 830, width: 120, type: 'text' },\n                { text: headers_text[5], field: \"bias\", x: 950, width: 120, type: 'bar' }\n            ];\n        }\n\n        const total_table_width = d3.sum(columns_data, d => d.width);\n\n        const headers_svg = container.append(\"svg\")\n            .attr(\"width\", total_table_width)\n            .attr(\"height\", row_height)\n            .style(\"position\", \"sticky\")\n            .style(\"top\", 0)\n            .style(\"background\", \"white\")\n            .style(\"z-index\", 1);\n\n        const headers_g = headers_svg.append(\"g\");\n\n        const header_g = headers_g.selectAll(\"g\")\n            .data(columns_data)\n            .enter()\n            .append(\"g\")\n            .attr(\"transform\", d => `translate(${d.x},0)`);\n\n        header_g.append(\"rect\")\n            .attr(\"width\", d => d.width)\n            .attr(\"height\", row_height)\n            .attr(\"fill\", \"#d0d0d0\")\n            .attr(\"stroke\", \"#fff\");\n\n        header_g.append(\"text\")\n            .attr(\"x\", text_offset_x)\n            .attr(\"y\", row_height / 2)\n            .attr(\"dy\", \"0.35em\")\n            .attr(\"text-anchor\", \"start\")\n            .text(d => d.text);\n\n        // === Column resizing handle ===\n        header_g.append(\"rect\")\n            .attr(\"class\", \"resize-handle\")\n            .attr(\"x\", d => d.width - 5)\n            .attr(\"y\", 0)\n            .attr(\"width\", 5)\n            .attr(\"height\", row_height)\n            .style(\"cursor\", \"col-resize\")\n            .style(\"fill\", \"transparent\")\n            .call(d3.drag()\n                .on(\"start\", function(event, d) {\n                    d.startWidth = d.width;       // store starting width\n                    d.startX = event.x;           // store starting mouse X\n                })\n                .on(\"drag\", function(event, d) {\n                    const dx = event.x - d.startX;           // change in mouse X\n                    const newWidth = Math.max(30, d.startWidth + dx); // minimum width 30\n                    d.width = newWidth;\n\n                    // Update header rect\n                    d3.select(this.parentNode).select(\"rect\").attr(\"width\", newWidth);\n                    // Update resize handle position\n                    d3.select(this).attr(\"x\", newWidth - 5);\n\n                    // Recalculate x positions for all columns after this one\n                    let x = 0;\n                    columns_data.forEach(col => {\n                        col.x = x;\n                        x += col.width;\n                    });\n\n                    // Update header positions\n                    headers_g.selectAll(\"g\").attr(\"transform\", col => `translate(${col.x},0)`);\n\n                    // Update body cell positions and widths\n                    body_svg.selectAll(\".row\").each(function(row_data) {\n                        d3.select(this).selectAll(\".cell\")\n                            .attr(\"transform\", (c, i) => `translate(${columns_data[i].x},0)`)\n                            .select(\".cell_bg\")\n                            .attr(\"width\", (c, i) => columns_data[i].width);\n                    });\n\n                    // Update body and header SVG width\n                    const totalWidth = d3.sum(columns_data, c => c.width);\n                    body_svg.attr(\"width\", totalWidth);\n                    headers_svg.attr(\"width\", totalWidth);\n                })\n            );\n\n        // === BODY ===\n\n        const body_svg = container.append(\"svg\")\n            .attr(\"width\", total_table_width)\n            .attr(\"height\", table_data.length * row_height);\n\n        const rows_g = body_svg.append(\"g\");\n\n        const row = rows_g.selectAll(\".row\")\n            .data(table_data)\n            .enter()\n            .append(\"g\")\n            .attr(\"class\", \"row\")\n            .attr(\"transform\", (d, i) => `translate(0, ${i * row_height})`);\n\n        let max_bias, max_diff, margin = 5;\n        if (data2 !== null) {\n            max_bias = d3.max(table_data, d => Math.abs(d.bias)) || 0;\n            max_diff = d3.max(table_data, d => Math.abs(d.difference)) || 0;\n        }\n\n        const biasScale = d3.scaleLinear();\n        const barScale = d3.scaleLinear();\n        let zeroX, g, outerHeight, innerY, innerH;\n\n        // per-row, per-column cells\n        columns_data.forEach(col => {\n            const cell = row.append(\"g\")\n                .attr(\"class\", \"cell\")\n                .attr(\"transform\", `translate(${col.x},0)`);\n\n            cell.append(\"rect\")\n                .attr(\"class\", \"cell-bg\")\n                .attr(\"width\", col.width)\n                .attr(\"height\", row_height)\n                .attr(\"fill\", \"#f0f0f0\")\n                .attr(\"stroke\", \"#ccc\");\n\n            if (data2 === null) {\n                cell.append(\"text\")\n                    .attr(\"x\", text_offset_x)\n                    .attr(\"y\", row_height / 2)\n                    .attr(\"dy\", \"0.35em\")\n                    .attr(\"text-anchor\", \"start\")\n                    .text(row_data => {\n                        const val = typeof col.field === \"function\" ? col.field(row_data) : row_data[col.field];\n                        return val !== null ? val : \"\";\n                    });\n            } else {\n                switch (col.type) {\n                    case \"text\":\n                        cell.append(\"text\")\n                            .attr(\"x\", text_offset_x)\n                            .attr(\"y\", row_height / 2)\n                            .attr(\"dy\", \"0.35em\")\n                            .attr(\"text-anchor\", \"start\")\n                            .text(row_data => {\n                                const val = typeof col.field === \"function\" ? col.field(row_data) : row_data[col.field];\n                                return val !== null ? val : \"\";\n                            });\n                        break;\n\n                    case \"bar\":\n                        biasScale\n                            .domain([0, max_bias || 1])\n                            .range([margin, col.width - margin]);  // full available space inside cell\n\n                        cell.each(function (row_data) {\n                            g = d3.select(this);\n                            outerHeight = row_height;\n                            innerY = margin;\n                            innerH = outerHeight - 2 * margin;\n\n                            // Bar: left-aligned, scaled to bias value\n                            g.append(\"rect\")\n                                .attr(\"x\", 0)\n                                .attr(\"y\", innerY)\n                                .attr(\"width\", biasScale(Math.abs(row_data.bias)))\n                                .attr(\"height\", innerH)\n                                .attr(\"fill\", \"lightslategrey\");\n\n                            // Text: show the bias value\n                            g.append(\"text\")\n                                .attr(\"x\", 4)  // small left inset\n                                .attr(\"y\", outerHeight / 2 + 4)\n                                .attr(\"font-size\", \"10px\")\n                                .attr(\"fill\", \"black\")\n                                .text(row_data.bias !== null ? row_data.bias.toFixed(3) : \"\");\n                        });\n                        break;\n\n                    case \"compare_bars\":\n                        barScale\n                            .domain([-max_diff || -1, max_diff || 1])\n                            .range([margin, col.width - margin]);  // full available space inside cell\n\n                        zeroX = barScale(0);\n\n                        cell.each(function (row_data) {\n                            g = d3.select(this);\n                            outerHeight = row_height;\n                            innerY = 5;\n                            innerH = outerHeight - 2 * margin;\n\n                            // Bar\n                            g.append(\"rect\")\n                                .attr(\"x\", Math.min(zeroX, barScale(row_data.difference)))\n                                .attr(\"y\", innerY)\n                                .attr(\"width\", Math.abs(barScale(row_data.difference) - zeroX))\n                                .attr(\"height\", innerH)\n                                .attr(\"fill\", row_data.difference < 0 ? \"orange\" : \"steelblue\");\n\n                            // Text label\n                            g.append(\"text\")\n                                .attr(\"x\", zeroX)\n                                .attr(\"y\", row_height / 2 + 4)\n                                .attr(\"text-anchor\", \"middle\")\n                                .attr(\"font-size\", \"10px\")\n                                .text(row_data.difference !== null ? row_data.difference.toFixed(3) : \"\");\n\n                        });\n                        break;\n\n                    default:\n                        throw new Error(`Unknown column type: ${col.type}`);\n                }\n            }\n        });\n\n        handleFilterConceptsTable(dispatch, row, body_svg);\n\n        return container;\n    }\n    // </editor-fold>\n\n    // <editor-fold desc=\"---------- PAGE LAYOUT ----------\">\n\n    // overall container\n    let vis_container = document.createElementNS('http://www.w3.org/1999/xhtml', 'div');\n    vis_container.setAttribute('class', 'vis-container');\n\n    // demographics container row\n    let demographics_row = vis_container.appendChild(document.createElement('div'));\n    demographics_row.setAttribute('class', 'row-container');\n    // gender container\n    let div_gender = demographics_row.appendChild(document.createElement('div'));\n    div_gender.setAttribute('class', 'col-container');\n    // race container\n    let div_race = demographics_row.appendChild(document.createElement('div'));\n    div_race.setAttribute('class', 'col-container');\n    // age container\n    let div_age = demographics_row.appendChild(document.createElement('div'));\n    div_age.setAttribute('class', 'col-container');\n\n    // concepts container row\n    let concepts_row = vis_container.appendChild(document.createElement('div'));\n    concepts_row.setAttribute('class', 'row-container concepts-row');\n    // concepts container\n    let div_concepts_container = concepts_row.appendChild(document.createElement('div'));\n    div_concepts_container.setAttribute('class', 'col-container');\n\n    // </editor-fold>\n\n    // <editor-fold desc=\"---------- INSERT THE VISUALIZATIONS ----------\">\n\n    // draw the gender barchart\n    div_gender.appendChild(\n        VerticalBarChart({data: gender_dist1},\n            {series2: {data: gender_dist2}, dimensions: {xlabel: 'Gender'}}).node());\n\n    // draw the race barchart\n    div_race.appendChild(\n        VerticalBarChart({data: race_stats1},\n            {series2: {data: race_stats2}, dimensions: {xlabel: 'Race'}}).node());\n\n    // draw the age barchart\n    div_age.appendChild(\n        VerticalBarChart({data: age_dist1},\n            {series2: {data: age_dist2}, dimensions: {xlabel: 'Age'}}).node());\n\n    // draw the concepts table search box\n    div_concepts_container.appendChild(\n        SearchBox(conceptsTableDispatcher).node());\n\n    // if there is only one set of concepts, draw a single cohort concepts table\n    if(Object.keys(concepts2).length === 0) {\n        // draw the concepts table\n        div_concepts_container.appendChild(\n            ConceptsTable(concepts1, conceptsTableDispatcher).node());\n    }\n    else{\n        div_concepts_container.appendChild(\n            ConceptsTable(concepts1, conceptsTableDispatcher,{data2: concepts2}).node());\n    }\n\n    // attach the visualization to the AnyWidget element\n    el.appendChild(vis_container);\n\n    // </editor-fold>\n\n    // return () => {\n    //   // Optional: Called when the view is destroyed.\n    // }\n\n} // end render\n\n// export default async () => {\n//   let extraState = {};\n//   return {\n//     initialize({ model }) { /* ... */ },\n//     render({ model, el }) { /* ... */ },\n//   }\n// }\n\nexport default { render };\n",
       "_gender_dist1": [
        {
         "category": "female",
         "probability": 0,
         "value": 0
        },
        {
         "category": "male",
         "probability": 100,
         "value": 798
        },
        {
         "category": "other",
         "probability": 0,
         "value": 0
        }
       ],
       "_gender_dist2": [],
       "_model_module": "anywidget",
       "_model_module_version": "~0.9.*",
       "_model_name": "AnyModel",
       "_race_stats1": [
        {
         "category": "Other",
         "probability": 0.01,
         "value": 5
        },
        {
         "category": "Asian",
         "probability": 0.09,
         "value": 73
        },
        {
         "category": "Black or African American",
         "probability": 0.07,
         "value": 59
        },
        {
         "category": "White",
         "probability": 0.83,
         "value": 661
        }
       ],
       "_race_stats2": [],
       "_view_module": "anywidget",
       "_view_module_version": "~0.9.*",
       "_view_name": "AnyView",
       "initialized": true,
       "layout": "IPY_MODEL_9a199dc2d2aa4cd2a2a7214c4580ab6e"
      }
     },
     "b08e211370b948128360eaa121e0bd3c": {
      "model_module": "@jupyter-widgets/base",
      "model_module_version": "2.0.0",
      "model_name": "LayoutModel",
      "state": {
       "flex": "2"
      }
     },
     "b4082701bd1749809577331eaf0671ed": {
      "model_module": "@jupyter-widgets/controls",
      "model_module_version": "2.0.0",
      "model_name": "FloatProgressModel",
      "state": {
       "layout": "IPY_MODEL_0ac912a45360400b88a653b6d19488ad",
       "style": "IPY_MODEL_2ac5ccbc79744c11b936d72a1e99409b",
       "value": 100
      }
     },
     "b5bf287fc6064790a6c4d19c85f32b1c": {
      "model_module": "@jupyter-widgets/base",
      "model_module_version": "2.0.0",
      "model_name": "LayoutModel",
      "state": {}
     },
     "b6c75e50044f4f0ab6eb0e1d27358522": {
      "model_module": "@jupyter-widgets/base",
      "model_module_version": "2.0.0",
      "model_name": "LayoutModel",
      "state": {
       "width": "auto"
      }
     },
     "c8e9c2ee478c4daf981d114fdbd66671": {
      "model_module": "@jupyter-widgets/controls",
      "model_module_version": "2.0.0",
      "model_name": "HBoxModel",
      "state": {
       "children": [
        "IPY_MODEL_e3640c898c21474dbe8ad907f460eee4",
        "IPY_MODEL_df87762936d3483aa5b41a3d1a215b4a",
        "IPY_MODEL_2e6586ba98ed4894b531119a978d8a61"
       ],
       "layout": "IPY_MODEL_807c7282cf6246739ba113544163effd"
      }
     },
     "df87762936d3483aa5b41a3d1a215b4a": {
      "model_module": "@jupyter-widgets/controls",
      "model_module_version": "2.0.0",
      "model_name": "FloatProgressModel",
      "state": {
       "layout": "IPY_MODEL_b08e211370b948128360eaa121e0bd3c",
       "max": 3,
       "style": "IPY_MODEL_5ba7aeb2189745a19dee559a116aadd4",
       "value": 3
      }
     },
     "e3640c898c21474dbe8ad907f460eee4": {
      "model_module": "@jupyter-widgets/controls",
      "model_module_version": "2.0.0",
      "model_name": "HTMLModel",
      "state": {
       "layout": "IPY_MODEL_b5bf287fc6064790a6c4d19c85f32b1c",
       "style": "IPY_MODEL_17605722d1914e9dbd0b92baab31ba96",
       "value": "Cohort creation: 100%"
      }
     },
     "f4c36d009a9d40a886a5d7b387e68a8a": {
      "model_module": "@jupyter-widgets/controls",
      "model_module_version": "2.0.0",
      "model_name": "ProgressStyleModel",
      "state": {
       "bar_color": "black",
       "description_width": ""
      }
     },
     "f4d7eb82bfdb4c1abafcfa8403ec1554": {
      "model_module": "@jupyter-widgets/base",
      "model_module_version": "2.0.0",
      "model_name": "LayoutModel",
      "state": {}
     }
    },
    "version_major": 2,
    "version_minor": 0
   }
  }
 },
 "nbformat": 4,
 "nbformat_minor": 5
}
