{
 "cells": [
  {
   "cell_type": "code",
   "execution_count": null,
   "id": "0",
   "metadata": {},
   "outputs": [],
   "source": [
    "from CohortViewer import CohortViewer\n",
    "from biasanalyzer.api import BIAS\n",
    "\n",
    "# initialize BIAS and connect to the database\n",
    "bias = BIAS()\n",
    "# bias.set_config(\"./config.yaml\")\n",
    "bias.set_config(\"./config_duckdb.yaml\")\n",
    "bias.set_root_omop()"
   ]
  },
  {
   "cell_type": "code",
   "execution_count": null,
   "id": "1",
   "metadata": {},
   "outputs": [],
   "source": [
    "import os\n",
    "import pandas as pd\n",
    "\n",
    "# COHORT_CREATION_YAML_PATH = './yaml'\n",
    "COHORT_CREATION_YAML_PATH = './utils/yaml_tests/cohort_creation/extras/covid_example3'\n",
    "#\n",
    "# create a study cohort (def create_cohort(self, cohort_name, cohort_desc, query_or_yaml_file, created_by))\n",
    "study_cohort = bias.create_cohort('COVID-19 patients',\n",
    "                                  'COVID-19 patients for the study cohort',\n",
    "                                  os.path.join(COHORT_CREATION_YAML_PATH, 'cohort_creation_config_study1_example3.yaml'),\n",
    "                                  'system')\n",
    "# study_cohort = bias.create_cohort('Diabetes patients',\n",
    "#                                   'Diabetes patients for the study cohort',\n",
    "#                                    os.path.join(COHORT_CREATION_YAML_PATH, 'cohort_creation_config_study1_example2.yaml'),\n",
    "#                                    'system')"
   ]
  },
  {
   "cell_type": "code",
   "execution_count": null,
   "id": "2",
   "metadata": {},
   "outputs": [],
   "source": [
    "# create a baseline cohort (def create_cohort(self, cohort_name, cohort_desc, query_or_yaml_file, created_by))\n",
    "baseline_cohort = bias.create_cohort('COVID-19 patients baseline',\n",
    "                                     'COVID-19 patients for the baseline cohort',\n",
    "                                     os.path.join(COHORT_CREATION_YAML_PATH,\n",
    "                                                  'cohort_creation_config_baseline_example3.yaml'),\n",
    "                                     'system')\n",
    "# baseline_cohort = bias.create_cohort('Diabetes patients baseline',\n",
    "#                                      'Diabetes patients for the baseline cohort',\n",
    "#                                      os.path.join(COHORT_CREATION_YAML_PATH, 'cohort_creation_config_baseline_example2.yaml'),\n",
    "#                                      'system')\n",
    "# c"
   ]
  },
  {
   "cell_type": "code",
   "execution_count": null,
   "id": "3",
   "metadata": {},
   "outputs": [],
   "source": [
    "# create and render a BiasAnalyzer widget to view the study cohort\n",
    "study_widget = CohortViewer(cohort1=study_cohort,\n",
    "                            cohort1_name=\"study\")\n",
    "study_widget"
   ]
  },
  {
   "cell_type": "code",
   "execution_count": null,
   "id": "4",
   "metadata": {},
   "outputs": [],
   "source": [
    "# create and render a BiasAnalyzer widget to view the baseline cohort\n",
    "baseline_widget = CohortViewer(cohort1=baseline_cohort,\n",
    "                               cohort1_name=\"baseline\")\n",
    "baseline_widget"
   ]
  },
  {
   "cell_type": "code",
   "execution_count": null,
   "id": "5",
   "metadata": {},
   "outputs": [],
   "source": [
    "# create and render a BiasAnalyzer widget to compare the two cohorts\n",
    "compare_widget = CohortViewer(cohort1=study_cohort,\n",
    "                              cohort2=baseline_cohort,\n",
    "                              cohort1_name=\"study\",\n",
    "                              cohort2_name=\"baseline\")\n",
    "compare_widget"
   ]
  },
  {
   "cell_type": "code",
   "execution_count": null,
   "id": "6",
   "metadata": {},
   "outputs": [],
   "source": [
    "# disconnect from the database\n",
    "bias.cleanup()"
   ]
  }
 ],
 "metadata": {
  "kernelspec": {
   "display_name": "Python 3 (ipykernel)",
   "language": "python",
   "name": "python3"
  },
  "language_info": {
   "codemirror_mode": {
    "name": "ipython",
    "version": 3
   },
   "file_extension": ".py",
   "mimetype": "text/x-python",
   "name": "python",
   "nbconvert_exporter": "python",
   "pygments_lexer": "ipython3",
   "version": "3.11.13"
  }
 },
 "nbformat": 4,
 "nbformat_minor": 5
}
