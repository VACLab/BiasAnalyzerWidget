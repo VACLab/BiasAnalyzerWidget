{
 "cells": [
  {
   "cell_type": "code",
   "id": "6407f66210c614f",
   "metadata": {},
   "source": [
    "from CohortWidget import *\n",
    "from biasanalyzer.api import BIAS\n",
    "\n",
    "# initialize BIAS and connect to the database\n",
    "bias = BIAS()\n",
    "bias.set_config(\"config.yaml\")\n",
    "bias.set_root_omop()"
   ],
   "outputs": [],
   "execution_count": null
  },
  {
   "cell_type": "code",
   "id": "ca7b88f7d13e1743",
   "metadata": {},
   "source": [
    "import os\n",
    "\n",
    "COHORT_CREATION_YAML_PATH = '<path to yaml files>'\n",
    "\n",
    "# create a study cohort (def create_cohort(self, cohort_name, cohort_desc, query_or_yaml_file, created_by))\n",
    "study_cohort = bias.create_cohort('Heart failure patients',\n",
    "                                  'Heart failure patients for the study cohort',\n",
    "                                   os.path.join(COHORT_CREATION_YAML_PATH, 'study_cohort.yaml'),\n",
    "                                   'system')\n",
    "\n",
    "# get the concept statistics for the study cohort\n",
    "study_concept_stats = study_cohort.get_concept_stats()"
   ],
   "outputs": [],
   "execution_count": null
  },
  {
   "cell_type": "code",
   "id": "41fba5e40b245431",
   "metadata": {},
   "source": [
    "# create a baseline cohort (def create_cohort(self, cohort_name, cohort_desc, query_or_yaml_file, created_by))\n",
    "baseline_cohort = bias.create_cohort('Heart failure patients baseline',\n",
    "                                     'Heart failure patients for the baseline cohort',\n",
    "                                     os.path.join(COHORT_CREATION_YAML_PATH, 'baseline_cohort.yaml'),\n",
    "                                     'system')\n",
    "\n",
    "# get the concept statistics for the baseline cohort\n",
    "baseline_concept_stats = baseline_cohort.get_concept_stats()"
   ],
   "outputs": [],
   "execution_count": null
  },
  {
   "cell_type": "code",
   "id": "e85bc8c9d464e549",
   "metadata": {
    "scrolled": true
   },
   "source": [
    "# create and render a BiasAnalyzer widget to view the study cohort\n",
    "study_widget = cohort_widget(\n",
    "                            study_concept_stats['condition_occurrence'],\n",
    "                            study_cohort.get_stats(\"race\"),\n",
    "                            study_cohort.get_distributions('gender'),\n",
    "                            study_cohort.get_distributions('age')\n",
    "                            )\n",
    "study_widget"
   ],
   "outputs": [],
   "execution_count": null
  },
  {
   "cell_type": "code",
   "id": "c655c0e9-7abe-4dd5-bd4c-b3853901277b",
   "metadata": {},
   "source": [
    "# render a BiasAnalyzer widget to view the baseline cohort\n",
    "baseline_widget = cohort_widget(\n",
    "                                baseline_concept_stats['condition_occurrence'],\n",
    "                                baseline_cohort.get_stats(\"race\"),\n",
    "                                baseline_cohort.get_distributions('gender'),\n",
    "                                baseline_cohort.get_distributions('age')\n",
    "                                )\n",
    "baseline_widget"
   ],
   "outputs": [],
   "execution_count": null
  },
  {
   "cell_type": "code",
   "id": "cb163ba7-b979-4c8c-a58e-fa811d3bb1ea",
   "metadata": {},
   "source": [
    "# render a BiasAnalyzer widget to compare the two cohorts\n",
    "compare_widget = cohort_widget(\n",
    "                                study_concept_stats['condition_occurrence'],\n",
    "                                study_cohort.get_stats(\"race\"),\n",
    "                                study_cohort.get_distributions('gender'),\n",
    "                                study_cohort.get_distributions('age'),\n",
    "\n",
    "                                baseline_concept_stats['condition_occurrence'],\n",
    "                                baseline_cohort.get_stats(\"race\"),\n",
    "                                baseline_cohort.get_distributions('gender'),\n",
    "                                baseline_cohort.get_distributions('age')\n",
    "                            )\n",
    "compare_widget"
   ],
   "outputs": [],
   "execution_count": null
  },
  {
   "cell_type": "code",
   "id": "7e60a188eabe1287",
   "metadata": {},
   "source": [
    "# disconnect from the database\n",
    "bias.cleanup()"
   ],
   "outputs": [],
   "execution_count": null
  },
  {
   "cell_type": "code",
   "id": "38db95e0c486653c",
   "metadata": {},
   "source": [],
   "outputs": [],
   "execution_count": null
  }
 ],
 "metadata": {
  "kernelspec": {
   "display_name": "biasanalyzer",
   "language": "python",
   "name": "biasanalyzer"
  },
  "language_info": {
   "codemirror_mode": {
    "name": "ipython",
    "version": 3
   },
   "file_extension": ".py",
   "mimetype": "text/x-python",
   "name": "python",
   "nbconvert_exporter": "python",
   "pygments_lexer": "ipython3",
   "version": "3.11.7"
  },
  "widgets": {
   "application/vnd.jupyter.widget-state+json": {
    "state": {},
    "version_major": 2,
    "version_minor": 0
   }
  }
 },
 "nbformat": 4,
 "nbformat_minor": 5
}
